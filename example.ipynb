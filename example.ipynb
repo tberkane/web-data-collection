{
 "cells": [
  {
   "cell_type": "code",
   "execution_count": 22,
   "metadata": {},
   "outputs": [
    {
     "name": "stdout",
     "output_type": "stream",
     "text": [
      "The autoreload extension is already loaded. To reload it, use:\n",
      "  %reload_ext autoreload\n"
     ]
    }
   ],
   "source": [
    "%load_ext autoreload\n",
    "%autoreload 2\n",
    "\n",
    "import os\n",
    "from dotenv import load_dotenv\n",
    "\n",
    "load_dotenv()\n",
    "\n",
    "import logging\n",
    "logging.basicConfig(level=logging.WARNING, format='%(asctime)s - %(name)s - %(levelname)s - %(message)s')\n",
    "logging.getLogger('web_data_collection').setLevel(logging.DEBUG)\n",
    "\n",
    "from web_data_collection import LLMConfig, generate_search_queries, retrieve_webpages, retrieve_webpages_streaming, BrightDataConfig, generate_extraction_schema, extract_data, control_quality, JinaConfig, rerank_results_jina_api, get_url_date"
   ]
  },
  {
   "cell_type": "code",
   "execution_count": 3,
   "metadata": {},
   "outputs": [],
   "source": [
    "openai_api_key = os.environ.get(\"OPENAI_API_KEY\")\n",
    "llm_config = LLMConfig(api_key=openai_api_key, model=\"openai/gpt-4.1\", temperature=0.2)\n",
    "\n",
    "bright_data_api_key = os.environ.get(\"BRIGHT_DATA_API_KEY\")\n",
    "bright_data_zone = os.environ.get(\"BRIGHT_DATA_ZONE\")\n",
    "bright_data_config = BrightDataConfig(api_key=bright_data_api_key, zone=bright_data_zone)\n",
    "\n",
    "jina_api_key = os.environ.get(\"JINA_API_KEY\")\n",
    "jina_config = JinaConfig(api_key=jina_api_key)"
   ]
  },
  {
   "cell_type": "code",
   "execution_count": 7,
   "metadata": {},
   "outputs": [],
   "source": [
    "dataset_description = \"Reports of download counts of COVID contact tracing apps in different U.S. states.\"\n",
    "variables = {\"state_and_app_name\": [\"Alabama GuideSafe\"]}\n",
    "# variables = {\"state_and_app_name\": [\"Alabama GuideSafe\", \"Arizona Covid Watch\", \"California Covid Notify\", \"Colorado Exposure Notifications\", \"Connecticut Covid Alert\"]}\n",
    "variable_names = list(variables.keys())"
   ]
  },
  {
   "cell_type": "markdown",
   "metadata": {},
   "source": [
    "# Search Query Generation"
   ]
  },
  {
   "cell_type": "code",
   "execution_count": 8,
   "metadata": {},
   "outputs": [
    {
     "name": "stdout",
     "output_type": "stream",
     "text": [
      "{state_and_app_name} COVID contact tracing app download count\n"
     ]
    }
   ],
   "source": [
    "num_queries = 1\n",
    "\n",
    "query_templates = generate_search_queries(dataset_description, num_queries, llm_config, variable_names)\n",
    "for query_template in query_templates:\n",
    "    print(query_template)"
   ]
  },
  {
   "cell_type": "markdown",
   "metadata": {},
   "source": [
    "# Web Page Retrieval"
   ]
  },
  {
   "cell_type": "code",
   "execution_count": 9,
   "metadata": {},
   "outputs": [
    {
     "name": "stderr",
     "output_type": "stream",
     "text": [
      "2025-08-05 10:39:55,551 - web_data_collection.webpage_retrieval - DEBUG - Expanded 1 templates into 1 queries\n",
      "2025-08-05 10:39:55,552 - web_data_collection.webpage_retrieval - DEBUG - Processing query: Alabama GuideSafe COVID contact tracing app download count, variable value combo: ('Alabama GuideSafe',)\n",
      "2025-08-05 10:39:55,553 - web_data_collection.webpage_retrieval - DEBUG - Processing date chunk: None to None\n",
      "2025-08-05 10:39:55,553 - web_data_collection.webpage_retrieval - DEBUG - Making request 1/1\n",
      "2025-08-05 10:39:57,327 - web_data_collection.webpage_retrieval - DEBUG - {'general': {'search_engine': 'google', 'query': 'Alabama GuideSafe COVID contact tracing app download count', 'results_cnt': 671, 'search_time': 0.38, 'language': 'en', 'location': 'United States', 'mobile': False, 'basic_view': False, 'search_type': 'text', 'page_title': 'Alabama GuideSafe COVID contact tracing app download count - Google Search', 'timestamp': '2025-08-05T14:39:57.045Z'}, 'input': {'original_url': 'https://www.google.com/search?q=Alabama+GuideSafe+COVID+contact+tracing+app+download+count&start=0&brd_json=1&num=20', 'request_id': 'hl_a84cb5f7_sxa3bti7iic'}, 'navigation': [{'title': 'AI Mode', 'href': 'https://www.google.com/search?q=Alabama+GuideSafe+COVID+contact+tracing+app+download+count&num=20&sca_esv=d5e847b1dc31b2cb&rlz=1C1ONGR_enUS1165US1165&hl=en&udm=50&fbs=AIIjpHxU7SXXniUZfeShr2fp4giZrjP_Cx0LI1Ytb_FGcOviEiTm5uW1q0uNfK7KsnoL8hUyUYUJLZ_b-p0lT09DIkR7bwzZ58goNnPFwCobO9Lr1FJy27_ddIL61O5aDZqsFHeKdbTBa3SWM9BbE6jpBPGlXzcFCH1KrIQ9yHBjyi-ZLJUInBy54epU8g3fHyjXolCFfseHfRcNjgYhOadYKw2rr0vq-A&aep=1&ntc=1&sa=X&ved=2ahUKEwibsLiV8_OOAxUdJEQIHVX5EwkQ2J8OegQIBxAD'}, {'title': 'News', 'href': 'https://www.google.com/search?num=20&sca_esv=d5e847b1dc31b2cb&rlz=1C1ONGR_enUS1165US1165&hl=en&q=Alabama+GuideSafe+COVID+contact+tracing+app+download+count&tbm=nws&source=lnms&fbs=AIIjpHxU7SXXniUZfeShr2fp4giZrjP_Cx0LI1Ytb_FGcOviEiTm5uW1q0uNfK7KsnoL8hUyUYUJLZ_b-p0lT09DIkR7bwzZ58goNnPFwCobO9Lr1FJy27_ddIL61O5aDZqsFHeKdbTBa3SWM9BbE6jpBPGlXzcFCH1KrIQ9yHBjyi-ZLJUInBy54epU8g3fHyjXolCFfseHfRcNjgYhOadYKw2rr0vq-A&sa=X&ved=2ahUKEwibsLiV8_OOAxUdJEQIHVX5EwkQ0pQJegQIChAB'}, {'title': 'Images', 'href': 'https://www.google.com/search?num=20&sca_esv=d5e847b1dc31b2cb&rlz=1C1ONGR_enUS1165US1165&hl=en&udm=2&fbs=AIIjpHxU7SXXniUZfeShr2fp4giZrjP_Cx0LI1Ytb_FGcOviEiTm5uW1q0uNfK7KsnoL8hUyUYUJLZ_b-p0lT09DIkR7bwzZ58goNnPFwCobO9Lr1FJy27_ddIL61O5aDZqsFHeKdbTBa3SWM9BbE6jpBPGlXzcFCH1KrIQ9yHBjyi-ZLJUInBy54epU8g3fHyjXolCFfseHfRcNjgYhOadYKw2rr0vq-A&q=Alabama+GuideSafe+COVID+contact+tracing+app+download+count&sa=X&ved=2ahUKEwibsLiV8_OOAxUdJEQIHVX5EwkQtKgLegQIDRAB'}, {'title': 'Videos', 'href': 'https://www.google.com/search?num=20&sca_esv=d5e847b1dc31b2cb&rlz=1C1ONGR_enUS1165US1165&hl=en&udm=7&fbs=AIIjpHxU7SXXniUZfeShr2fp4giZrjP_Cx0LI1Ytb_FGcOviEiTm5uW1q0uNfK7KsnoL8hUyUYUJLZ_b-p0lT09DIkR7bwzZ58goNnPFwCobO9Lr1FJy27_ddIL61O5aDZqsFHeKdbTBa3SWM9BbE6jpBPGlXzcFCH1KrIQ9yHBjyi-ZLJUInBy54epU8g3fHyjXolCFfseHfRcNjgYhOadYKw2rr0vq-A&q=Alabama+GuideSafe+COVID+contact+tracing+app+download+count&sa=X&ved=2ahUKEwibsLiV8_OOAxUdJEQIHVX5EwkQtKgLegQIDBAB'}, {'title': 'Short videos', 'href': 'https://www.google.com/search?num=20&sca_esv=d5e847b1dc31b2cb&rlz=1C1ONGR_enUS1165US1165&hl=en&udm=39&fbs=AIIjpHxU7SXXniUZfeShr2fp4giZrjP_Cx0LI1Ytb_FGcOviEiTm5uW1q0uNfK7KsnoL8hUyUYUJLZ_b-p0lT09DIkR7bwzZ58goNnPFwCobO9Lr1FJy27_ddIL61O5aDZqsFHeKdbTBa3SWM9BbE6jpBPGlXzcFCH1KrIQ9yHBjyi-ZLJUInBy54epU8g3fHyjXolCFfseHfRcNjgYhOadYKw2rr0vq-A&q=Alabama+GuideSafe+COVID+contact+tracing+app+download+count&sa=X&ved=2ahUKEwibsLiV8_OOAxUdJEQIHVX5EwkQs6gLegQIDhAB'}, {'title': 'Shopping', 'href': 'https://www.google.com/search?num=20&sca_esv=d5e847b1dc31b2cb&rlz=1C1ONGR_enUS1165US1165&hl=en&udm=28&fbs=AIIjpHxU7SXXniUZfeShr2fp4giZrjP_Cx0LI1Ytb_FGcOviEiTm5uW1q0uNfK7KsnoL8hUyUYUJLZ_b-p0lT09DIkR7bwzZ58goNnPFwCobO9Lr1FJy27_ddIL61O5aDZqsFHeKdbTBa3SWM9BbE6jpBPGlXzcFCH1KrIQ9yHBjyi-ZLJUInBy54epU8g3fHyjXolCFfseHfRcNjgYhOadYKw2rr0vq-A&q=Alabama+GuideSafe+COVID+contact+tracing+app+download+count&ved=1t:220175&ictx=111'}, {'title': 'Forums', 'href': 'https://www.google.com/search?num=20&sca_esv=d5e847b1dc31b2cb&rlz=1C1ONGR_enUS1165US1165&hl=en&udm=18&fbs=AIIjpHxU7SXXniUZfeShr2fp4giZrjP_Cx0LI1Ytb_FGcOviEiTm5uW1q0uNfK7KsnoL8hUyUYUJLZ_b-p0lT09DIkR7bwzZ58goNnPFwCobO9Lr1FJy27_ddIL61O5aDZqsFHeKdbTBa3SWM9BbE6jpBPGlXzcFCH1KrIQ9yHBjyi-ZLJUInBy54epU8g3fHyjXolCFfseHfRcNjgYhOadYKw2rr0vq-A&q=Alabama+GuideSafe+COVID+contact+tracing+app+download+count&sa=X&ved=2ahUKEwibsLiV8_OOAxUdJEQIHVX5EwkQs6gLegQIXxAB'}, {'title': 'Web', 'href': 'https://www.google.com/search?num=20&sca_esv=d5e847b1dc31b2cb&rlz=1C1ONGR_enUS1165US1165&hl=en&udm=14&fbs=AIIjpHxU7SXXniUZfeShr2fp4giZrjP_Cx0LI1Ytb_FGcOviEiTm5uW1q0uNfK7KsnoL8hUyUYUJLZ_b-p0lT09DIkR7bwzZ58goNnPFwCobO9Lr1FJy27_ddIL61O5aDZqsFHeKdbTBa3SWM9BbE6jpBPGlXzcFCH1KrIQ9yHBjyi-ZLJUInBy54epU8g3fHyjXolCFfseHfRcNjgYhOadYKw2rr0vq-A&q=Alabama+GuideSafe+COVID+contact+tracing+app+download+count&sa=X&ved=2ahUKEwibsLiV8_OOAxUdJEQIHVX5EwkQs6gLegQIYBAB'}, {'title': 'Books', 'href': 'https://www.google.com/search?num=20&sca_esv=d5e847b1dc31b2cb&rlz=1C1ONGR_enUS1165US1165&hl=en&q=Alabama+GuideSafe+COVID+contact+tracing+app+download+count&udm=36&source=lnms&fbs=AIIjpHxU7SXXniUZfeShr2fp4giZrjP_Cx0LI1Ytb_FGcOviEiTm5uW1q0uNfK7KsnoL8hUyUYUJLZ_b-p0lT09DIkR7bwzZ58goNnPFwCobO9Lr1FJy27_ddIL61O5aDZqsFHeKdbTBa3SWM9BbE6jpBPGlXzcFCH1KrIQ9yHBjyi-ZLJUInBy54epU8g3fHyjXolCFfseHfRcNjgYhOadYKw2rr0vq-A&sa=X&ved=2ahUKEwibsLiV8_OOAxUdJEQIHVX5EwkQ0pQJegQIYRAB'}, {'title': 'Maps', 'href': 'https://maps.google.com/maps?num=20&sca_esv=d5e847b1dc31b2cb&rlz=1C1ONGR_enUS1165US1165&hl=en&output=search&q=Alabama+GuideSafe+COVID+contact+tracing+app+download+count&source=lnms&fbs=AIIjpHxU7SXXniUZfeShr2fp4giZrjP_Cx0LI1Ytb_FGcOviEiTm5uW1q0uNfK7KsnoL8hUyUYUJLZ_b-p0lT09DIkR7bwzZ58goNnPFwCobO9Lr1FJy27_ddIL61O5aDZqsFHeKdbTBa3SWM9BbE6jpBPGlXzcFCH1KrIQ9yHBjyi-ZLJUInBy54epU8g3fHyjXolCFfseHfRcNjgYhOadYKw2rr0vq-A&entry=mc&ved=1t:200715&ictx=111'}], 'organic': [{'link': 'https://www.guidesafe.org/exposure-notification-app/', 'display_link': 'https://www.guidesafe.org › exposure-notification-app', 'title': \"Alabama's Exposure Notification App\", 'description': \"Here's How Alabama's GuideSafe™ Exposure Notification App Works: ... Step one: Download the GuideSafe™ Exposure Notification App from the App Store or Google Play ...\", 'extensions': [{'type': 'missing', 'text': 'count', 'rank': 1}, {'type': 'must_include', 'text': 'count', 'link': 'https://www.google.com/search?num=20&sca_esv=d5e847b1dc31b2cb&rlz=1C1ONGR_enUS1165US1165&hl=en&q=Alabama+GuideSafe+COVID+contact+tracing+app+download+%22count%22&sa=X&ved=2ahUKEwibsLiV8_OOAxUdJEQIHVX5EwkQ5t4CegQIJBAB', 'rank': 2}], 'rank': 1, 'global_rank': 1}, {'link': 'https://sites.uab.edu/guidesafebackup2/exposure-notification-app/', 'display_link': 'https://sites.uab.edu › guidesafebackup2 › exposure-not...', 'title': 'Exposure Notification App | GuideSafe™', 'description': 'Step one: Download the GuideSafe™️ Exposure Notification App from the App Store or Google Play, and then enabling Bluetooth. Step two: If you have tested ...', 'extensions': [{'type': 'missing', 'text': 'count', 'rank': 1}, {'type': 'must_include', 'text': 'count', 'link': 'https://www.google.com/search?num=20&sca_esv=d5e847b1dc31b2cb&rlz=1C1ONGR_enUS1165US1165&hl=en&q=Alabama+GuideSafe+COVID+contact+tracing+app+download+%22count%22&sa=X&ved=2ahUKEwibsLiV8_OOAxUdJEQIHVX5EwkQ5t4CegQIJhAB', 'rank': 2}], 'rank': 2, 'global_rank': 2}, {'link': 'https://www.cbs42.com/news/alabamas-contact-tracing-app-expands-capabilities-still-very-few-have-downloaded-it/', 'display_link': 'https://www.cbs42.com › news › alabamas-contact-traci...', 'title': \"Alabama's contact tracing app expands capabilities, still ...\", 'description': 'Just under 150000 people have the app compared to more than 5 million people that call Alabama home.', 'extensions': [{'inline': True, 'type': 'text', 'text': 'Nov 23, 2020', 'rank': 1}, {'type': 'missing', 'text': 'count', 'rank': 2}, {'type': 'must_include', 'text': 'count', 'link': 'https://www.google.com/search?num=20&sca_esv=d5e847b1dc31b2cb&rlz=1C1ONGR_enUS1165US1165&hl=en&q=Alabama+GuideSafe+COVID+contact+tracing+app+download+%22count%22&sa=X&ved=2ahUKEwibsLiV8_OOAxUdJEQIHVX5EwkQ5t4CegQIJRAB', 'rank': 3}], 'rank': 3, 'global_rank': 3}, {'link': 'https://www.al.com/news/2020/11/alabamas-covid-tracing-app-joins-nationwide-network.html', 'display_link': 'https://www.al.com › news › 2020/11 › alabamas-covid-t...', 'title': \"Alabama's COVID tracing app joins nationwide network\", 'description': \"That means the more than 150,000 users who have downloaded Alabama's version of the app will also be notified if they register as a close ...\", 'extensions': [{'inline': True, 'type': 'text', 'text': 'Nov 19, 2020', 'rank': 1}, {'type': 'missing', 'text': 'count', 'rank': 2}, {'type': 'must_include', 'text': 'count', 'link': 'https://www.google.com/search?num=20&sca_esv=d5e847b1dc31b2cb&rlz=1C1ONGR_enUS1165US1165&hl=en&q=Alabama+GuideSafe+COVID+contact+tracing+app+download+%22count%22&sa=X&ved=2ahUKEwibsLiV8_OOAxUdJEQIHVX5EwkQ5t4CegQIKxAB', 'rank': 3}], 'rank': 4, 'global_rank': 4}, {'link': 'https://www.technologyreview.com/2020/12/14/1014426/covid-california-contact-tracing-app-america-states/', 'display_link': 'https://www.technologyreview.com › 2020/12/14 › covi...', 'title': \"Contact tracing apps now cover nearly half of America. It's ...\", 'description': \"Almost half of all Americans now live somewhere covered by an app that will warn them if they've been close to someone with covid-19.\", 'extensions': [{'inline': True, 'type': 'text', 'text': 'Dec 14, 2020', 'rank': 1}], 'rank': 5, 'global_rank': 5}, {'link': 'https://statescoop.com/alabama-launches-contact-tracing-app-based-on-google-apple-api/', 'display_link': 'https://statescoop.com › alabama-launches-contact-traci...', 'title': 'Alabama launches contact tracing app based on Google ...', 'description': 'Officials in Alabama on Monday launched one of the first apps published by a state government aimed at tracking the spread of the coronavirus.', 'extensions': [{'inline': True, 'type': 'text', 'text': 'Aug 3, 2020', 'rank': 1}, {'type': 'missing', 'text': 'count', 'rank': 2}, {'type': 'must_include', 'text': 'count', 'link': 'https://www.google.com/search?num=20&sca_esv=d5e847b1dc31b2cb&rlz=1C1ONGR_enUS1165US1165&hl=en&q=Alabama+GuideSafe+COVID+contact+tracing+app+download+%22count%22&sa=X&ved=2ahUKEwibsLiV8_OOAxUdJEQIHVX5EwkQ5t4CegQILRAB', 'rank': 3}], 'rank': 6, 'global_rank': 6}, {'link': 'https://pmc.ncbi.nlm.nih.gov/articles/PMC8194594/', 'display_link': 'https://pmc.ncbi.nlm.nih.gov › articles › PMC8194594', 'title': 'Usability, inclusivity, and content evaluation of COVID-19 ...', 'description': 'We evaluated the usability of mobile COVID-19 contact tracing apps, especially for individuals with barriers to communication and limited digital literacy ...', 'extensions': [{'inline': True, 'type': 'text', 'text': 'by SO Blacklow', 'rank': 1}, {'inline': True, 'type': 'text', 'text': '2021', 'rank': 2}, {'inline': True, 'type': 'text', 'text': 'Cited by 34', 'rank': 3}], 'rank': 7, 'global_rank': 7}, {'link': 'https://www.frontiersin.org/journals/digital-health/articles/10.3389/fdgth.2022.926683/full', 'display_link': 'https://www.frontiersin.org › fdgth.2022.926683 › full', 'title': 'User perceptions about sharing exposure notification ...', 'description': 'Statistics on smartphone users in the state that can handle the (GuideSafe™) app suggest that there are just under 1.9 million households in ( ...', 'extensions': [{'inline': True, 'type': 'text', 'text': 'by B Schooley', 'rank': 1}, {'inline': True, 'type': 'text', 'text': '2022', 'rank': 2}], 'rank': 8, 'global_rank': 8}, {'link': 'https://www.montgomeryadvertiser.com/story/news/2020/08/17/alabama-releases-guidesafe-coronvirus-contact-tracing-app-general-public/5599036002/', 'display_link': 'https://www.montgomeryadvertiser.com › 2020/08/17', 'title': 'Alabama rolls out contact tracing app piloted at colleges', 'description': 'Developers of a smartphone app designed to contact trace coronavirus exposures are making the program available to the Alabama public after ...', 'extensions': [{'inline': True, 'type': 'text', 'text': 'Aug 17, 2020', 'rank': 1}, {'type': 'missing', 'text': 'count', 'rank': 2}, {'type': 'must_include', 'text': 'count', 'link': 'https://www.google.com/search?num=20&sca_esv=d5e847b1dc31b2cb&rlz=1C1ONGR_enUS1165US1165&hl=en&q=Alabama+GuideSafe+COVID+contact+tracing+app+download+%22count%22&sa=X&ved=2ahUKEwibsLiV8_OOAxUdJEQIHVX5EwkQ5t4CegQIUhAB', 'rank': 3}], 'rank': 9, 'global_rank': 9}, {'link': 'https://www.ruralhealthinfo.org/toolkits/emergency-preparedness/case-studies/infectious-disease/university-alabama-birmingham', 'display_link': 'https://www.ruralhealthinfo.org › infectious-disease › u...', 'title': 'COVID-19 Symptom Tracking and Exposure Notification ...', 'description': 'The third project was the GuideSafe Exposure Notification App, a resource available for download on smartphones for Alabama residents. This ...', 'extensions': [{'inline': True, 'type': 'text', 'text': 'Nov 14, 2022', 'rank': 1}], 'rank': 10, 'global_rank': 10}, {'link': 'https://www.guidesafe.org/', 'display_link': 'https://www.guidesafe.org', 'title': 'GuideSafe™ | The tools and resources to help fight COVID-19 ...', 'description': 'Protect Your Privacy. Protect Your Life. Stop the Spread of COVID in Alabama. Get the App. Download now.', 'extensions': [{'type': 'site_link', 'text': 'Tools', 'link': 'https://www.guidesafe.org/healthcheck/', 'rank': 1}, {'type': 'site_link', 'text': 'Actions', 'link': 'https://www.guidesafe.org/actions/', 'rank': 2}, {'type': 'site_link', 'text': 'Impact', 'link': 'https://www.guidesafe.org/impact/', 'rank': 3}, {'type': 'site_link', 'text': 'Media', 'link': 'https://www.guidesafe.org/media/', 'rank': 4}, {'type': 'missing', 'text': 'tracing', 'rank': 5}, {'type': 'must_include', 'text': 'tracing', 'link': 'https://www.google.com/search?num=20&sca_esv=d5e847b1dc31b2cb&rlz=1C1ONGR_enUS1165US1165&hl=en&q=Alabama+GuideSafe+COVID+contact+%22tracing%22+app+download+count&sa=X&ved=2ahUKEwibsLiV8_OOAxUdJEQIHVX5EwkQ5t4CegQIWBAB', 'rank': 6}], 'rank': 11, 'global_rank': 11}, {'link': 'https://www.vox.com/recode/2020/8/6/21357098/apple-google-exposure-notification-virginia-contact-tracing', 'display_link': 'https://www.vox.com › recode › apple-google-exposur...', 'title': 'The Apple-Google Covid-19 contact tracing tool is now ... - Vox', 'description': '... Covid app “recently reached 100,000 downloads, and the count is growing. ... tracing app at all, and are depending solely on human contact ...', 'extensions': [{'inline': True, 'type': 'text', 'text': 'Aug 6, 2020', 'rank': 1}], 'rank': 12, 'global_rank': 12}, {'link': 'https://www.wtvy.com/2020/08/18/alabamians-urged-to-download-covid-19-exposure-app/', 'display_link': 'https://www.wtvy.com › 2020/08/18 › alabamians-urge...', 'title': 'Alabamians urged to download COVID-19 exposure app', 'description': 'The public now can access an app aimed at alerting people if they were possibly exposed to COVID-19.', 'extensions': [{'inline': True, 'type': 'text', 'text': 'Aug 18, 2020', 'rank': 1}], 'rank': 13, 'global_rank': 13}, {'link': 'https://www.al.com/news/2020/08/alabama-launches-statewide-coronavirus-tracking-app.html', 'display_link': 'https://www.al.com › news › 2020/08 › alabama-launche...', 'title': 'Alabama launches statewide coronavirus tracking app', 'description': 'The GuideSafe Exposure Notification App is free to download and available to all Alabama residents with iPhone and Android devices. It ...', 'extensions': [{'inline': True, 'type': 'text', 'text': 'Aug 17, 2020', 'rank': 1}, {'type': 'missing', 'text': 'count', 'rank': 2}, {'type': 'must_include', 'text': 'count', 'link': 'https://www.google.com/search?num=20&sca_esv=d5e847b1dc31b2cb&rlz=1C1ONGR_enUS1165US1165&hl=en&q=Alabama+GuideSafe+COVID+contact+tracing+app+download+%22count%22&sa=X&ved=2ahUKEwibsLiV8_OOAxUdJEQIHVX5EwkQ5t4CegQISRAB', 'rank': 3}], 'rank': 14, 'global_rank': 14}, {'link': 'https://facultysenate.ua.edu/guidesafe-contact-notification-app/', 'display_link': 'https://facultysenate.ua.edu › guidesafe-contact-notificat...', 'title': 'GuideSafe Contact Notification App - Faculty Senate', 'description': \"There has been a lack of details and many concerns over the UA System's promotion of the GuideSafe COVID-19 contact tracing “app”, ...\", 'extensions': [{'inline': True, 'type': 'text', 'text': 'Aug 22, 2020', 'rank': 1}, {'type': 'missing', 'text': 'download', 'rank': 2}, {'type': 'must_include', 'text': 'download', 'link': 'https://www.google.com/search?num=20&sca_esv=d5e847b1dc31b2cb&rlz=1C1ONGR_enUS1165US1165&hl=en&q=Alabama+GuideSafe+COVID+contact+tracing+app+%22download%22+count&sa=X&ved=2ahUKEwibsLiV8_OOAxUdJEQIHVX5EwkQ5t4CegQIShAB', 'rank': 3}], 'rank': 15, 'global_rank': 15}, {'link': 'https://abc3340.com/news/local/uab-wed-like-more-people-using-guidesafe-app-to-help-slow-spread-of-covid-19', 'display_link': 'https://abc3340.com › news › local › uab-wed-like-more...', 'title': 'UAB encourages use of GuideSafe app to help slow ...', 'description': 'The GuideSafe Exposure Notification App launched in August of 2020, but in a state with nearly five million people, only 220,000 Alabamians are ...', 'extensions': [{'inline': True, 'type': 'text', 'text': 'Jan 28, 2021', 'rank': 1}, {'type': 'missing', 'text': 'count', 'rank': 2}, {'type': 'must_include', 'text': 'count', 'link': 'https://www.google.com/search?num=20&sca_esv=d5e847b1dc31b2cb&rlz=1C1ONGR_enUS1165US1165&hl=en&q=Alabama+GuideSafe+COVID+contact+tracing+app+download+%22count%22&sa=X&ved=2ahUKEwibsLiV8_OOAxUdJEQIHVX5EwkQ5t4CegQISBAB', 'rank': 3}], 'rank': 16, 'global_rank': 16}, {'link': 'https://www.nbcnews.com/tech/tech-news/covid-apps-went-through-hype-cycle-now-they-might-be-n1242249', 'display_link': 'https://www.nbcnews.com › tech › tech-news › covid-a...', 'title': 'Covid apps went through the hype cycle. Now, they might ...', 'description': \"Phil Murphy said digital alerts weren't something his state was working on. Now, New Jersey's app has logged more than 105,000 downloads. Image: ...\", 'extensions': [{'inline': True, 'type': 'text', 'text': 'Oct 6, 2020', 'rank': 1}], 'rank': 17, 'global_rank': 17}, {'link': 'https://www.rocketcitynow.com/article/news/local/guidesafe-app-notifies-you-of-covid-19-exposure/525-c4e100cd-e7bb-4bec-ba02-9bd12d8301db', 'display_link': 'https://www.rocketcitynow.com › article › news › local', 'title': \"Alabama's GuideSafe app notifies you of COVID-19 exposure\", 'description': 'The GuideSafe app was released in August. Over 93,000 people have already downloaded it.', 'extensions': [{'inline': True, 'type': 'text', 'text': 'Nov 9, 2020', 'rank': 1}], 'rank': 18, 'global_rank': 18}, {'link': 'https://pmc.ncbi.nlm.nih.gov/articles/PMC8379000/', 'display_link': 'https://pmc.ncbi.nlm.nih.gov › articles › PMC8379000', 'title': 'A survey of COVID-19 contact-tracing apps - PMC', 'description': 'We survey the current contact-tracing apps and organize them based on underlying technologies such as Bluetooth, Wi-Fi, GPS, geofencing, and Quick Response (QR ...', 'extensions': [{'inline': True, 'type': 'text', 'text': 'by N Min-Allah', 'rank': 1}, {'type': 'missing', 'text': 'count', 'rank': 2}, {'type': 'must_include', 'text': 'count', 'link': 'https://www.google.com/search?num=20&sca_esv=d5e847b1dc31b2cb&rlz=1C1ONGR_enUS1165US1165&hl=en&q=Alabama+GuideSafe+COVID+contact+tracing+app+download+%22count%22&sa=X&ved=2ahUKEwibsLiV8_OOAxUdJEQIHVX5EwkQ5t4CegQITRAB', 'rank': 3}, {'inline': True, 'type': 'text', 'text': '2021', 'rank': 4}, {'inline': True, 'type': 'text', 'text': 'Cited by 54', 'rank': 5}], 'rank': 19, 'global_rank': 19}, {'link': 'https://www.gao.gov/assets/gao-21-104622.pdf', 'display_link': 'https://www.gao.gov › assets › gao-21-104622', 'title': 'Exposure Notification', 'description': '4 This type of app is intended to reduce transmission by notifying potentially exposed people faster than manual contact tracing, including ...', 'extensions': [{'inline': True, 'type': 'text', 'text': 'Sep 9, 2021', 'rank': 1}], 'rank': 20, 'global_rank': 20}], 'pagination': {'pages': [{'page': 2, 'start': 20, 'link': 'https://www.google.com/search?q=Alabama+GuideSafe+COVID+contact+tracing+app+download+count&num=20&sca_esv=d5e847b1dc31b2cb&rlz=1C1ONGR_enUS1165US1165&hl=en&ei=vBeSaJviFp3IkPIP1fLPSA&start=20&sa=N&sstk=Ac65TH4-UWaYcyZTy7z5JGhRsyz5JXAxEedIhkdRN5hsBRjFKCRvbAcAj22WyUjfD4wz4Yk0hZ_OVhZFW5JRLsALeVeDD-bo2pX2IQ&ved=2ahUKEwibsLiV8_OOAxUdJEQIHVX5EwkQ8tMDegQICBAE'}, {'page': 3, 'start': 40, 'link': 'https://www.google.com/search?q=Alabama+GuideSafe+COVID+contact+tracing+app+download+count&num=20&sca_esv=d5e847b1dc31b2cb&rlz=1C1ONGR_enUS1165US1165&hl=en&ei=vBeSaJviFp3IkPIP1fLPSA&start=40&sa=N&sstk=Ac65TH4-UWaYcyZTy7z5JGhRsyz5JXAxEedIhkdRN5hsBRjFKCRvbAcAj22WyUjfD4wz4Yk0hZ_OVhZFW5JRLsALeVeDD-bo2pX2IQ&ved=2ahUKEwibsLiV8_OOAxUdJEQIHVX5EwkQ8tMDegQICBAG'}, {'page': 4, 'start': 60, 'link': 'https://www.google.com/search?q=Alabama+GuideSafe+COVID+contact+tracing+app+download+count&num=20&sca_esv=d5e847b1dc31b2cb&rlz=1C1ONGR_enUS1165US1165&hl=en&ei=vBeSaJviFp3IkPIP1fLPSA&start=60&sa=N&sstk=Ac65TH4-UWaYcyZTy7z5JGhRsyz5JXAxEedIhkdRN5hsBRjFKCRvbAcAj22WyUjfD4wz4Yk0hZ_OVhZFW5JRLsALeVeDD-bo2pX2IQ&ved=2ahUKEwibsLiV8_OOAxUdJEQIHVX5EwkQ8tMDegQICBAI'}, {'page': 5, 'start': 80, 'link': 'https://www.google.com/search?q=Alabama+GuideSafe+COVID+contact+tracing+app+download+count&num=20&sca_esv=d5e847b1dc31b2cb&rlz=1C1ONGR_enUS1165US1165&hl=en&ei=vBeSaJviFp3IkPIP1fLPSA&start=80&sa=N&sstk=Ac65TH4-UWaYcyZTy7z5JGhRsyz5JXAxEedIhkdRN5hsBRjFKCRvbAcAj22WyUjfD4wz4Yk0hZ_OVhZFW5JRLsALeVeDD-bo2pX2IQ&ved=2ahUKEwibsLiV8_OOAxUdJEQIHVX5EwkQ8tMDegQICBAK'}, {'page': 6, 'start': 100, 'link': 'https://www.google.com/search?q=Alabama+GuideSafe+COVID+contact+tracing+app+download+count&num=20&sca_esv=d5e847b1dc31b2cb&rlz=1C1ONGR_enUS1165US1165&hl=en&ei=vBeSaJviFp3IkPIP1fLPSA&start=100&sa=N&sstk=Ac65TH4-UWaYcyZTy7z5JGhRsyz5JXAxEedIhkdRN5hsBRjFKCRvbAcAj22WyUjfD4wz4Yk0hZ_OVhZFW5JRLsALeVeDD-bo2pX2IQ&ved=2ahUKEwibsLiV8_OOAxUdJEQIHVX5EwkQ8tMDegQICBAM'}], 'current_page': 1, 'next_page': 2, 'next_page_start': 20, 'next_page_link': 'https://www.google.com/search?q=Alabama+GuideSafe+COVID+contact+tracing+app+download+count&num=20&sca_esv=d5e847b1dc31b2cb&rlz=1C1ONGR_enUS1165US1165&hl=en&ei=vBeSaJviFp3IkPIP1fLPSA&start=20&sa=N&sstk=Ac65TH4-UWaYcyZTy7z5JGhRsyz5JXAxEedIhkdRN5hsBRjFKCRvbAcAj22WyUjfD4wz4Yk0hZ_OVhZFW5JRLsALeVeDD-bo2pX2IQ&ved=2ahUKEwibsLiV8_OOAxUdJEQIHVX5EwkQ8tMDegQICBAE'}}\n",
      "2025-08-05 10:39:57,330 - web_data_collection.webpage_retrieval - DEBUG - Retrieved 20 results from request 1\n",
      "2025-08-05 10:39:57,331 - web_data_collection.webpage_retrieval - DEBUG - Retrieved 20 results in total\n"
     ]
    }
   ],
   "source": [
    "results_pages_per_query = 1\n",
    "start_date = \"2020-01-01\"\n",
    "end_date = \"2022-12-31\"\n",
    "\n",
    "webpages = retrieve_webpages(query_templates, results_pages_per_query, bright_data_config, variables)\n",
    "# webpages = retrieve_webpages(query_templates, results_pages_per_query, bright_data_config, variables, start_date, end_date, time_chunking=True)\n",
    "# webpages = retrieve_webpages(query_templates, results_pages_per_query, bright_data_config, variables, news_only=True)\n",
    "# webpages = retrieve_webpages(query_templates, results_pages_per_query, bright_data_config, variables, media_cloud_country=\"United States\", geolocation_country=\"United States\")\n",
    "\n",
    "# webpage_generator = retrieve_webpages_streaming(query_templates, results_pages_per_query, bright_data_config, variables)\n",
    "# for webpage in webpage_generator:\n",
    "#     print(webpage)"
   ]
  },
  {
   "cell_type": "code",
   "execution_count": 10,
   "metadata": {},
   "outputs": [
    {
     "name": "stdout",
     "output_type": "stream",
     "text": [
      "('Alabama GuideSafe',)\n",
      "Alabama GuideSafe COVID contact tracing app download count 20\n"
     ]
    }
   ],
   "source": [
    "for w in webpages:\n",
    "    print(w)\n",
    "    for q in webpages[w]:\n",
    "        print(q, len(webpages[w][q]))"
   ]
  },
  {
   "cell_type": "code",
   "execution_count": 11,
   "metadata": {},
   "outputs": [
    {
     "data": {
      "text/plain": [
       "[{'link': 'https://www.guidesafe.org/exposure-notification-app/',\n",
       "  'title': \"Alabama's Exposure Notification App\",\n",
       "  'description': \"Here's How Alabama's GuideSafe™ Exposure Notification App Works: ... Step one: Download the GuideSafe™ Exposure Notification App from the App Store or Google Play ...\",\n",
       "  'query': 'Alabama GuideSafe COVID contact tracing app download count'},\n",
       " {'link': 'https://sites.uab.edu/guidesafebackup2/exposure-notification-app/',\n",
       "  'title': 'Exposure Notification App | GuideSafe™',\n",
       "  'description': 'Step one: Download the GuideSafe™️ Exposure Notification App from the App Store or Google Play, and then enabling Bluetooth. Step two: If you have tested ...',\n",
       "  'query': 'Alabama GuideSafe COVID contact tracing app download count'},\n",
       " {'link': 'https://www.cbs42.com/news/alabamas-contact-tracing-app-expands-capabilities-still-very-few-have-downloaded-it/',\n",
       "  'title': \"Alabama's contact tracing app expands capabilities, still ...\",\n",
       "  'description': 'Just under 150000 people have the app compared to more than 5 million people that call Alabama home.',\n",
       "  'query': 'Alabama GuideSafe COVID contact tracing app download count'},\n",
       " {'link': 'https://www.al.com/news/2020/11/alabamas-covid-tracing-app-joins-nationwide-network.html',\n",
       "  'title': \"Alabama's COVID tracing app joins nationwide network\",\n",
       "  'description': \"That means the more than 150,000 users who have downloaded Alabama's version of the app will also be notified if they register as a close ...\",\n",
       "  'query': 'Alabama GuideSafe COVID contact tracing app download count'},\n",
       " {'link': 'https://www.technologyreview.com/2020/12/14/1014426/covid-california-contact-tracing-app-america-states/',\n",
       "  'title': \"Contact tracing apps now cover nearly half of America. It's ...\",\n",
       "  'description': \"Almost half of all Americans now live somewhere covered by an app that will warn them if they've been close to someone with covid-19.\",\n",
       "  'query': 'Alabama GuideSafe COVID contact tracing app download count'},\n",
       " {'link': 'https://statescoop.com/alabama-launches-contact-tracing-app-based-on-google-apple-api/',\n",
       "  'title': 'Alabama launches contact tracing app based on Google ...',\n",
       "  'description': 'Officials in Alabama on Monday launched one of the first apps published by a state government aimed at tracking the spread of the coronavirus.',\n",
       "  'query': 'Alabama GuideSafe COVID contact tracing app download count'},\n",
       " {'link': 'https://pmc.ncbi.nlm.nih.gov/articles/PMC8194594/',\n",
       "  'title': 'Usability, inclusivity, and content evaluation of COVID-19 ...',\n",
       "  'description': 'We evaluated the usability of mobile COVID-19 contact tracing apps, especially for individuals with barriers to communication and limited digital literacy ...',\n",
       "  'query': 'Alabama GuideSafe COVID contact tracing app download count'},\n",
       " {'link': 'https://www.frontiersin.org/journals/digital-health/articles/10.3389/fdgth.2022.926683/full',\n",
       "  'title': 'User perceptions about sharing exposure notification ...',\n",
       "  'description': 'Statistics on smartphone users in the state that can handle the (GuideSafe™) app suggest that there are just under 1.9 million households in ( ...',\n",
       "  'query': 'Alabama GuideSafe COVID contact tracing app download count'},\n",
       " {'link': 'https://www.montgomeryadvertiser.com/story/news/2020/08/17/alabama-releases-guidesafe-coronvirus-contact-tracing-app-general-public/5599036002/',\n",
       "  'title': 'Alabama rolls out contact tracing app piloted at colleges',\n",
       "  'description': 'Developers of a smartphone app designed to contact trace coronavirus exposures are making the program available to the Alabama public after ...',\n",
       "  'query': 'Alabama GuideSafe COVID contact tracing app download count'},\n",
       " {'link': 'https://www.ruralhealthinfo.org/toolkits/emergency-preparedness/case-studies/infectious-disease/university-alabama-birmingham',\n",
       "  'title': 'COVID-19 Symptom Tracking and Exposure Notification ...',\n",
       "  'description': 'The third project was the GuideSafe Exposure Notification App, a resource available for download on smartphones for Alabama residents. This ...',\n",
       "  'query': 'Alabama GuideSafe COVID contact tracing app download count'},\n",
       " {'link': 'https://www.guidesafe.org/',\n",
       "  'title': 'GuideSafe™ | The tools and resources to help fight COVID-19 ...',\n",
       "  'description': 'Protect Your Privacy. Protect Your Life. Stop the Spread of COVID in Alabama. Get the App. Download now.',\n",
       "  'query': 'Alabama GuideSafe COVID contact tracing app download count'},\n",
       " {'link': 'https://www.vox.com/recode/2020/8/6/21357098/apple-google-exposure-notification-virginia-contact-tracing',\n",
       "  'title': 'The Apple-Google Covid-19 contact tracing tool is now ... - Vox',\n",
       "  'description': '... Covid app “recently reached 100,000 downloads, and the count is growing. ... tracing app at all, and are depending solely on human contact ...',\n",
       "  'query': 'Alabama GuideSafe COVID contact tracing app download count'},\n",
       " {'link': 'https://www.wtvy.com/2020/08/18/alabamians-urged-to-download-covid-19-exposure-app/',\n",
       "  'title': 'Alabamians urged to download COVID-19 exposure app',\n",
       "  'description': 'The public now can access an app aimed at alerting people if they were possibly exposed to COVID-19.',\n",
       "  'query': 'Alabama GuideSafe COVID contact tracing app download count'},\n",
       " {'link': 'https://www.al.com/news/2020/08/alabama-launches-statewide-coronavirus-tracking-app.html',\n",
       "  'title': 'Alabama launches statewide coronavirus tracking app',\n",
       "  'description': 'The GuideSafe Exposure Notification App is free to download and available to all Alabama residents with iPhone and Android devices. It ...',\n",
       "  'query': 'Alabama GuideSafe COVID contact tracing app download count'},\n",
       " {'link': 'https://facultysenate.ua.edu/guidesafe-contact-notification-app/',\n",
       "  'title': 'GuideSafe Contact Notification App - Faculty Senate',\n",
       "  'description': \"There has been a lack of details and many concerns over the UA System's promotion of the GuideSafe COVID-19 contact tracing “app”, ...\",\n",
       "  'query': 'Alabama GuideSafe COVID contact tracing app download count'},\n",
       " {'link': 'https://abc3340.com/news/local/uab-wed-like-more-people-using-guidesafe-app-to-help-slow-spread-of-covid-19',\n",
       "  'title': 'UAB encourages use of GuideSafe app to help slow ...',\n",
       "  'description': 'The GuideSafe Exposure Notification App launched in August of 2020, but in a state with nearly five million people, only 220,000 Alabamians are ...',\n",
       "  'query': 'Alabama GuideSafe COVID contact tracing app download count'},\n",
       " {'link': 'https://www.nbcnews.com/tech/tech-news/covid-apps-went-through-hype-cycle-now-they-might-be-n1242249',\n",
       "  'title': 'Covid apps went through the hype cycle. Now, they might ...',\n",
       "  'description': \"Phil Murphy said digital alerts weren't something his state was working on. Now, New Jersey's app has logged more than 105,000 downloads. Image: ...\",\n",
       "  'query': 'Alabama GuideSafe COVID contact tracing app download count'},\n",
       " {'link': 'https://www.rocketcitynow.com/article/news/local/guidesafe-app-notifies-you-of-covid-19-exposure/525-c4e100cd-e7bb-4bec-ba02-9bd12d8301db',\n",
       "  'title': \"Alabama's GuideSafe app notifies you of COVID-19 exposure\",\n",
       "  'description': 'The GuideSafe app was released in August. Over 93,000 people have already downloaded it.',\n",
       "  'query': 'Alabama GuideSafe COVID contact tracing app download count'},\n",
       " {'link': 'https://pmc.ncbi.nlm.nih.gov/articles/PMC8379000/',\n",
       "  'title': 'A survey of COVID-19 contact-tracing apps - PMC',\n",
       "  'description': 'We survey the current contact-tracing apps and organize them based on underlying technologies such as Bluetooth, Wi-Fi, GPS, geofencing, and Quick Response (QR ...',\n",
       "  'query': 'Alabama GuideSafe COVID contact tracing app download count'},\n",
       " {'link': 'https://www.gao.gov/assets/gao-21-104622.pdf',\n",
       "  'title': 'Exposure Notification',\n",
       "  'description': '4 This type of app is intended to reduce transmission by notifying potentially exposed people faster than manual contact tracing, including ...',\n",
       "  'query': 'Alabama GuideSafe COVID contact tracing app download count'}]"
      ]
     },
     "execution_count": 11,
     "metadata": {},
     "output_type": "execute_result"
    }
   ],
   "source": [
    "all_webpages = []\n",
    "for w in webpages:\n",
    "    for q in webpages[w]:\n",
    "        for page in webpages[w][q]:\n",
    "            page[\"query\"] = q\n",
    "            all_webpages.append(page)\n",
    "\n",
    "all_webpages"
   ]
  },
  {
   "cell_type": "code",
   "execution_count": 12,
   "metadata": {},
   "outputs": [
    {
     "data": {
      "text/plain": [
       "20"
      ]
     },
     "execution_count": 12,
     "metadata": {},
     "output_type": "execute_result"
    }
   ],
   "source": [
    "len(all_webpages)"
   ]
  },
  {
   "cell_type": "code",
   "execution_count": 19,
   "metadata": {},
   "outputs": [
    {
     "name": "stdout",
     "output_type": "stream",
     "text": [
      "{'model': 'jina-reranker-v2-base-multilingual', 'usage': {'total_tokens': 304}, 'results': [{'index': 13, 'document': {'text': 'Alabama launches statewide coronavirus tracking app'}, 'relevance_score': 0.5945512652397156}, {'index': 12, 'document': {'text': 'Alabamians urged to download COVID-19 exposure app'}, 'relevance_score': 0.5926666259765625}, {'index': 17, 'document': {'text': \"Alabama's GuideSafe app notifies you of COVID-19 exposure\"}, 'relevance_score': 0.528533399105072}, {'index': 3, 'document': {'text': \"Alabama's COVID tracing app joins nationwide network\"}, 'relevance_score': 0.4568943679332733}, {'index': 8, 'document': {'text': 'Alabama rolls out contact tracing app piloted at colleges'}, 'relevance_score': 0.4561674892902374}, {'index': 5, 'document': {'text': 'Alabama launches contact tracing app based on Google ...'}, 'relevance_score': 0.42202815413475037}, {'index': 2, 'document': {'text': \"Alabama's contact tracing app expands capabilities, still ...\"}, 'relevance_score': 0.37937837839126587}, {'index': 18, 'document': {'text': 'A survey of COVID-19 contact-tracing apps - PMC'}, 'relevance_score': 0.2798284888267517}, {'index': 10, 'document': {'text': 'GuideSafe™ | The tools and resources to help fight COVID-19 ...'}, 'relevance_score': 0.2743513584136963}, {'index': 15, 'document': {'text': 'UAB encourages use of GuideSafe app to help slow ...'}, 'relevance_score': 0.22135066986083984}, {'index': 11, 'document': {'text': 'The Apple-Google Covid-19 contact tracing tool is now ... - Vox'}, 'relevance_score': 0.19682618975639343}, {'index': 16, 'document': {'text': 'Covid apps went through the hype cycle. Now, they might ...'}, 'relevance_score': 0.18242552876472473}, {'index': 4, 'document': {'text': \"Contact tracing apps now cover nearly half of America. It's ...\"}, 'relevance_score': 0.16344544291496277}, {'index': 6, 'document': {'text': 'Usability, inclusivity, and content evaluation of COVID-19 ...'}, 'relevance_score': 0.14128141105175018}, {'index': 9, 'document': {'text': 'COVID-19 Symptom Tracking and Exposure Notification ...'}, 'relevance_score': 0.13296423852443695}, {'index': 14, 'document': {'text': 'GuideSafe Contact Notification App - Faculty Senate'}, 'relevance_score': 0.11596072465181351}, {'index': 1, 'document': {'text': 'Exposure Notification App | GuideSafe™'}, 'relevance_score': 0.1127954050898552}, {'index': 7, 'document': {'text': 'User perceptions about sharing exposure notification ...'}, 'relevance_score': 0.07696083933115005}, {'index': 0, 'document': {'text': \"Alabama's Exposure Notification App\"}, 'relevance_score': 0.06097517907619476}, {'index': 19, 'document': {'text': 'Exposure Notification'}, 'relevance_score': 0.031618766486644745}]}\n"
     ]
    },
    {
     "data": {
      "text/plain": [
       "[{'query': 'Alabama GuideSafe COVID contact tracing app download count',\n",
       "  'text': 'Alabama launches statewide coronavirus tracking app',\n",
       "  'score': 0.5945512652397156},\n",
       " {'query': 'Alabama GuideSafe COVID contact tracing app download count',\n",
       "  'text': 'Alabamians urged to download COVID-19 exposure app',\n",
       "  'score': 0.5926666259765625},\n",
       " {'query': 'Alabama GuideSafe COVID contact tracing app download count',\n",
       "  'text': \"Alabama's GuideSafe app notifies you of COVID-19 exposure\",\n",
       "  'score': 0.528533399105072},\n",
       " {'query': 'Alabama GuideSafe COVID contact tracing app download count',\n",
       "  'text': \"Alabama's COVID tracing app joins nationwide network\",\n",
       "  'score': 0.4568943679332733},\n",
       " {'query': 'Alabama GuideSafe COVID contact tracing app download count',\n",
       "  'text': 'Alabama rolls out contact tracing app piloted at colleges',\n",
       "  'score': 0.4561674892902374},\n",
       " {'query': 'Alabama GuideSafe COVID contact tracing app download count',\n",
       "  'text': 'Alabama launches contact tracing app based on Google ...',\n",
       "  'score': 0.42202815413475037},\n",
       " {'query': 'Alabama GuideSafe COVID contact tracing app download count',\n",
       "  'text': \"Alabama's contact tracing app expands capabilities, still ...\",\n",
       "  'score': 0.37937837839126587},\n",
       " {'query': 'Alabama GuideSafe COVID contact tracing app download count',\n",
       "  'text': 'A survey of COVID-19 contact-tracing apps - PMC',\n",
       "  'score': 0.2798284888267517},\n",
       " {'query': 'Alabama GuideSafe COVID contact tracing app download count',\n",
       "  'text': 'GuideSafe™ | The tools and resources to help fight COVID-19 ...',\n",
       "  'score': 0.2743513584136963},\n",
       " {'query': 'Alabama GuideSafe COVID contact tracing app download count',\n",
       "  'text': 'UAB encourages use of GuideSafe app to help slow ...',\n",
       "  'score': 0.22135066986083984},\n",
       " {'query': 'Alabama GuideSafe COVID contact tracing app download count',\n",
       "  'text': 'The Apple-Google Covid-19 contact tracing tool is now ... - Vox',\n",
       "  'score': 0.19682618975639343},\n",
       " {'query': 'Alabama GuideSafe COVID contact tracing app download count',\n",
       "  'text': 'Covid apps went through the hype cycle. Now, they might ...',\n",
       "  'score': 0.18242552876472473},\n",
       " {'query': 'Alabama GuideSafe COVID contact tracing app download count',\n",
       "  'text': \"Contact tracing apps now cover nearly half of America. It's ...\",\n",
       "  'score': 0.16344544291496277},\n",
       " {'query': 'Alabama GuideSafe COVID contact tracing app download count',\n",
       "  'text': 'Usability, inclusivity, and content evaluation of COVID-19 ...',\n",
       "  'score': 0.14128141105175018},\n",
       " {'query': 'Alabama GuideSafe COVID contact tracing app download count',\n",
       "  'text': 'COVID-19 Symptom Tracking and Exposure Notification ...',\n",
       "  'score': 0.13296423852443695},\n",
       " {'query': 'Alabama GuideSafe COVID contact tracing app download count',\n",
       "  'text': 'GuideSafe Contact Notification App - Faculty Senate',\n",
       "  'score': 0.11596072465181351},\n",
       " {'query': 'Alabama GuideSafe COVID contact tracing app download count',\n",
       "  'text': 'Exposure Notification App | GuideSafe™',\n",
       "  'score': 0.1127954050898552},\n",
       " {'query': 'Alabama GuideSafe COVID contact tracing app download count',\n",
       "  'text': 'User perceptions about sharing exposure notification ...',\n",
       "  'score': 0.07696083933115005},\n",
       " {'query': 'Alabama GuideSafe COVID contact tracing app download count',\n",
       "  'text': \"Alabama's Exposure Notification App\",\n",
       "  'score': 0.06097517907619476},\n",
       " {'query': 'Alabama GuideSafe COVID contact tracing app download count',\n",
       "  'text': 'Exposure Notification',\n",
       "  'score': 0.031618766486644745}]"
      ]
     },
     "execution_count": 19,
     "metadata": {},
     "output_type": "execute_result"
    }
   ],
   "source": [
    "reranking_scores = rerank_results_jina_api([p[\"query\"] for p in all_webpages], [p[\"title\"] for p in all_webpages], jina_config)\n",
    "reranking_scores"
   ]
  },
  {
   "cell_type": "code",
   "execution_count": 20,
   "metadata": {},
   "outputs": [],
   "source": [
    "title2score = {w[\"text\"]: w[\"score\"] for w in reranking_scores}"
   ]
  },
  {
   "cell_type": "code",
   "execution_count": 21,
   "metadata": {},
   "outputs": [
    {
     "data": {
      "text/plain": [
       "[{'link': 'https://www.guidesafe.org/exposure-notification-app/',\n",
       "  'title': \"Alabama's Exposure Notification App\",\n",
       "  'description': \"Here's How Alabama's GuideSafe™ Exposure Notification App Works: ... Step one: Download the GuideSafe™ Exposure Notification App from the App Store or Google Play ...\",\n",
       "  'query': 'Alabama GuideSafe COVID contact tracing app download count',\n",
       "  'score': 0.06097517907619476},\n",
       " {'link': 'https://sites.uab.edu/guidesafebackup2/exposure-notification-app/',\n",
       "  'title': 'Exposure Notification App | GuideSafe™',\n",
       "  'description': 'Step one: Download the GuideSafe™️ Exposure Notification App from the App Store or Google Play, and then enabling Bluetooth. Step two: If you have tested ...',\n",
       "  'query': 'Alabama GuideSafe COVID contact tracing app download count',\n",
       "  'score': 0.1127954050898552},\n",
       " {'link': 'https://www.cbs42.com/news/alabamas-contact-tracing-app-expands-capabilities-still-very-few-have-downloaded-it/',\n",
       "  'title': \"Alabama's contact tracing app expands capabilities, still ...\",\n",
       "  'description': 'Just under 150000 people have the app compared to more than 5 million people that call Alabama home.',\n",
       "  'query': 'Alabama GuideSafe COVID contact tracing app download count',\n",
       "  'score': 0.37937837839126587},\n",
       " {'link': 'https://www.al.com/news/2020/11/alabamas-covid-tracing-app-joins-nationwide-network.html',\n",
       "  'title': \"Alabama's COVID tracing app joins nationwide network\",\n",
       "  'description': \"That means the more than 150,000 users who have downloaded Alabama's version of the app will also be notified if they register as a close ...\",\n",
       "  'query': 'Alabama GuideSafe COVID contact tracing app download count',\n",
       "  'score': 0.4568943679332733},\n",
       " {'link': 'https://www.technologyreview.com/2020/12/14/1014426/covid-california-contact-tracing-app-america-states/',\n",
       "  'title': \"Contact tracing apps now cover nearly half of America. It's ...\",\n",
       "  'description': \"Almost half of all Americans now live somewhere covered by an app that will warn them if they've been close to someone with covid-19.\",\n",
       "  'query': 'Alabama GuideSafe COVID contact tracing app download count',\n",
       "  'score': 0.16344544291496277},\n",
       " {'link': 'https://statescoop.com/alabama-launches-contact-tracing-app-based-on-google-apple-api/',\n",
       "  'title': 'Alabama launches contact tracing app based on Google ...',\n",
       "  'description': 'Officials in Alabama on Monday launched one of the first apps published by a state government aimed at tracking the spread of the coronavirus.',\n",
       "  'query': 'Alabama GuideSafe COVID contact tracing app download count',\n",
       "  'score': 0.42202815413475037},\n",
       " {'link': 'https://pmc.ncbi.nlm.nih.gov/articles/PMC8194594/',\n",
       "  'title': 'Usability, inclusivity, and content evaluation of COVID-19 ...',\n",
       "  'description': 'We evaluated the usability of mobile COVID-19 contact tracing apps, especially for individuals with barriers to communication and limited digital literacy ...',\n",
       "  'query': 'Alabama GuideSafe COVID contact tracing app download count',\n",
       "  'score': 0.14128141105175018},\n",
       " {'link': 'https://www.frontiersin.org/journals/digital-health/articles/10.3389/fdgth.2022.926683/full',\n",
       "  'title': 'User perceptions about sharing exposure notification ...',\n",
       "  'description': 'Statistics on smartphone users in the state that can handle the (GuideSafe™) app suggest that there are just under 1.9 million households in ( ...',\n",
       "  'query': 'Alabama GuideSafe COVID contact tracing app download count',\n",
       "  'score': 0.07696083933115005},\n",
       " {'link': 'https://www.montgomeryadvertiser.com/story/news/2020/08/17/alabama-releases-guidesafe-coronvirus-contact-tracing-app-general-public/5599036002/',\n",
       "  'title': 'Alabama rolls out contact tracing app piloted at colleges',\n",
       "  'description': 'Developers of a smartphone app designed to contact trace coronavirus exposures are making the program available to the Alabama public after ...',\n",
       "  'query': 'Alabama GuideSafe COVID contact tracing app download count',\n",
       "  'score': 0.4561674892902374},\n",
       " {'link': 'https://www.ruralhealthinfo.org/toolkits/emergency-preparedness/case-studies/infectious-disease/university-alabama-birmingham',\n",
       "  'title': 'COVID-19 Symptom Tracking and Exposure Notification ...',\n",
       "  'description': 'The third project was the GuideSafe Exposure Notification App, a resource available for download on smartphones for Alabama residents. This ...',\n",
       "  'query': 'Alabama GuideSafe COVID contact tracing app download count',\n",
       "  'score': 0.13296423852443695},\n",
       " {'link': 'https://www.guidesafe.org/',\n",
       "  'title': 'GuideSafe™ | The tools and resources to help fight COVID-19 ...',\n",
       "  'description': 'Protect Your Privacy. Protect Your Life. Stop the Spread of COVID in Alabama. Get the App. Download now.',\n",
       "  'query': 'Alabama GuideSafe COVID contact tracing app download count',\n",
       "  'score': 0.2743513584136963},\n",
       " {'link': 'https://www.vox.com/recode/2020/8/6/21357098/apple-google-exposure-notification-virginia-contact-tracing',\n",
       "  'title': 'The Apple-Google Covid-19 contact tracing tool is now ... - Vox',\n",
       "  'description': '... Covid app “recently reached 100,000 downloads, and the count is growing. ... tracing app at all, and are depending solely on human contact ...',\n",
       "  'query': 'Alabama GuideSafe COVID contact tracing app download count',\n",
       "  'score': 0.19682618975639343},\n",
       " {'link': 'https://www.wtvy.com/2020/08/18/alabamians-urged-to-download-covid-19-exposure-app/',\n",
       "  'title': 'Alabamians urged to download COVID-19 exposure app',\n",
       "  'description': 'The public now can access an app aimed at alerting people if they were possibly exposed to COVID-19.',\n",
       "  'query': 'Alabama GuideSafe COVID contact tracing app download count',\n",
       "  'score': 0.5926666259765625},\n",
       " {'link': 'https://www.al.com/news/2020/08/alabama-launches-statewide-coronavirus-tracking-app.html',\n",
       "  'title': 'Alabama launches statewide coronavirus tracking app',\n",
       "  'description': 'The GuideSafe Exposure Notification App is free to download and available to all Alabama residents with iPhone and Android devices. It ...',\n",
       "  'query': 'Alabama GuideSafe COVID contact tracing app download count',\n",
       "  'score': 0.5945512652397156},\n",
       " {'link': 'https://facultysenate.ua.edu/guidesafe-contact-notification-app/',\n",
       "  'title': 'GuideSafe Contact Notification App - Faculty Senate',\n",
       "  'description': \"There has been a lack of details and many concerns over the UA System's promotion of the GuideSafe COVID-19 contact tracing “app”, ...\",\n",
       "  'query': 'Alabama GuideSafe COVID contact tracing app download count',\n",
       "  'score': 0.11596072465181351},\n",
       " {'link': 'https://abc3340.com/news/local/uab-wed-like-more-people-using-guidesafe-app-to-help-slow-spread-of-covid-19',\n",
       "  'title': 'UAB encourages use of GuideSafe app to help slow ...',\n",
       "  'description': 'The GuideSafe Exposure Notification App launched in August of 2020, but in a state with nearly five million people, only 220,000 Alabamians are ...',\n",
       "  'query': 'Alabama GuideSafe COVID contact tracing app download count',\n",
       "  'score': 0.22135066986083984},\n",
       " {'link': 'https://www.nbcnews.com/tech/tech-news/covid-apps-went-through-hype-cycle-now-they-might-be-n1242249',\n",
       "  'title': 'Covid apps went through the hype cycle. Now, they might ...',\n",
       "  'description': \"Phil Murphy said digital alerts weren't something his state was working on. Now, New Jersey's app has logged more than 105,000 downloads. Image: ...\",\n",
       "  'query': 'Alabama GuideSafe COVID contact tracing app download count',\n",
       "  'score': 0.18242552876472473},\n",
       " {'link': 'https://www.rocketcitynow.com/article/news/local/guidesafe-app-notifies-you-of-covid-19-exposure/525-c4e100cd-e7bb-4bec-ba02-9bd12d8301db',\n",
       "  'title': \"Alabama's GuideSafe app notifies you of COVID-19 exposure\",\n",
       "  'description': 'The GuideSafe app was released in August. Over 93,000 people have already downloaded it.',\n",
       "  'query': 'Alabama GuideSafe COVID contact tracing app download count',\n",
       "  'score': 0.528533399105072},\n",
       " {'link': 'https://pmc.ncbi.nlm.nih.gov/articles/PMC8379000/',\n",
       "  'title': 'A survey of COVID-19 contact-tracing apps - PMC',\n",
       "  'description': 'We survey the current contact-tracing apps and organize them based on underlying technologies such as Bluetooth, Wi-Fi, GPS, geofencing, and Quick Response (QR ...',\n",
       "  'query': 'Alabama GuideSafe COVID contact tracing app download count',\n",
       "  'score': 0.2798284888267517},\n",
       " {'link': 'https://www.gao.gov/assets/gao-21-104622.pdf',\n",
       "  'title': 'Exposure Notification',\n",
       "  'description': '4 This type of app is intended to reduce transmission by notifying potentially exposed people faster than manual contact tracing, including ...',\n",
       "  'query': 'Alabama GuideSafe COVID contact tracing app download count',\n",
       "  'score': 0.031618766486644745}]"
      ]
     },
     "execution_count": 21,
     "metadata": {},
     "output_type": "execute_result"
    }
   ],
   "source": [
    "for w in all_webpages:\n",
    "    w[\"score\"] = title2score[w[\"title\"]]\n",
    "\n",
    "all_webpages"
   ]
  },
  {
   "cell_type": "code",
   "execution_count": 13,
   "metadata": {},
   "outputs": [
    {
     "name": "stdout",
     "output_type": "stream",
     "text": [
      "15\n"
     ]
    },
    {
     "data": {
      "text/plain": [
       "[{'link': 'https://news.azpm.org/p/uanews/2020/9/28/180903-ua-covid-watch-app-is-now-on-30000-devices/',\n",
       "  'title': 'UA COVID Watch app is now on 30000 devices',\n",
       "  'description': 'About 30 thousand people have installed the COVID Watch Arizona app on their mobile devices. One of its co-creators says the app has alerted ...',\n",
       "  'query': 'Arizona Covid Watch COVID app number of downloads',\n",
       "  'score': 0.7895801067352295},\n",
       " {'link': 'https://www.rocketcitynow.com/video/news/local/alabama-guidesafe-covid-19-app/525-973f3a54-d4f6-4c9e-aa29-f6b7000ae470',\n",
       "  'title': \"Alabama's GuideSafe app notifies you of COVID-19 exposure\",\n",
       "  'description': 'The GuideSafe app was released in August. Over 93000 people have already downloaded it.',\n",
       "  'query': 'Alabama GuideSafe COVID app number of downloads',\n",
       "  'score': 0.7020716667175293},\n",
       " {'link': 'https://www.youtube.com/watch?v=-QBcypdNhEQ',\n",
       "  'title': \"Alabama's GuideSafe app notifies you of COVID-19 exposure\",\n",
       "  'description': \"The GuideSafe app was released in August. Over 93000 people have already downloaded ... Alabama's GuideSafe app notifies you of COVID-19 exposure.\",\n",
       "  'query': 'Alabama GuideSafe COVID app number of downloads',\n",
       "  'score': 0.7020716667175293},\n",
       " {'link': 'https://www.haddam.org/home/news/connecticut-launches-covid-alert-ct-app',\n",
       "  'title': 'Connecticut Launches COVID Alert CT App',\n",
       "  'description': 'The COVID Alert CT App can be downloaded from Google Play. To verify that exposure notifications are enabled on an Android phone, open the COVID ...',\n",
       "  'query': 'Connecticut Covid Alert COVID app number of downloads',\n",
       "  'score': 0.668199896812439},\n",
       " {'link': 'https://www.youtube.com/watch?v=YJArLCsWeTw',\n",
       "  'title': 'Colorado rolls out COVID-19 exposure notification app',\n",
       "  'description': \"State health officials hope a new cell phone app will be a valuable tool in the fight against COVID-19 by letting people know if they've ...\",\n",
       "  'query': 'Colorado Exposure Notifications COVID tracing app downloads reported',\n",
       "  'score': 0.540705144405365},\n",
       " {'link': 'https://www.youtube.com/watch?v=E8Y-lPxZ80U',\n",
       "  'title': 'California CA Notify App | COVID 19 Contact Tracing',\n",
       "  'description': 'California CA Notify App - COVID 19 Contact Tracing What you need to know about the California CA Notify App... Luis Alvarez covers what you ...',\n",
       "  'query': 'California Covid Notify COVID contact tracing app download count',\n",
       "  'score': 0.5367059707641602},\n",
       " {'link': 'https://www.cnbc.com/2020/12/12/ca-notify-coronavirus-app-gets-4-million-activations-in-first-day.html',\n",
       "  'title': 'CA Notify coronavirus app gets 4 million activations in first ...',\n",
       "  'description': 'CA Notify is based on technology built by Apple and Google earlier this year called exposure notifications.',\n",
       "  'query': 'California Covid Notify COVID contact tracing app download count',\n",
       "  'score': 0.5353562235832214},\n",
       " {'link': 'https://www.cmadocs.org/newsroom/news/view/ArticleId/49136/CA-Notify-app-to-offer-COVID-19-exposure-notification',\n",
       "  'title': 'CA Notify app to offer COVID-19 exposure notification',\n",
       "  'description': 'Download the \"CMADocs\" app today from the Apple or Google Play app stores for daily news updates, events calendar, resource library and more.',\n",
       "  'query': 'California Covid Notify COVID app number of downloads',\n",
       "  'score': 0.5336531400680542},\n",
       " {'link': 'https://www.stonington-ct.gov/archived/news/launch-of-covid-alert-ct-the-exposure-notification-app-in-connecticut',\n",
       "  'title': 'Launch of COVID Alert CT, the Exposure Notification App ...',\n",
       "  'description': 'First, users should visit ct.gov/covidalertct, where they can find instructions on how to download the app for their specific device. Once ...',\n",
       "  'query': 'Connecticut Covid Alert COVID app number of downloads',\n",
       "  'score': 0.5224424600601196},\n",
       " {'link': 'https://www.wiltonct.gov/coronavirus-resources/pages/covid-alert-ct-app',\n",
       "  'title': 'Covid Alert CT App',\n",
       "  'description': 'COVID Alert CT is a voluntary, anonymous, exposure-notification smartphone app. You will get an alert if you were in close contact with someone who tests ...',\n",
       "  'query': 'Connecticut Covid Alert COVID app number of downloads',\n",
       "  'score': 0.4950214624404907},\n",
       " {'link': 'https://www.reddit.com/r/bayarea/comments/kai2ty/anyone_here_download_the_ca_notify_app_cas/',\n",
       "  'title': \"Anyone here download the CA Notify app (CA's Contact ...\",\n",
       "  'description': \"If you download one of these apps, it will use your phone's Bluetooth chip to do what Bluetooth does: emit little radio pings to find other ...\",\n",
       "  'query': 'California Covid Notify COVID contact tracing app download count',\n",
       "  'score': 0.4908919930458069},\n",
       " {'link': 'https://news.hamlethub.com/wilton-connecticut/50872-connecticut-s-covid-19-contact-tracing-app-has-been-activated-on-more-than-one-million-mobile-devices',\n",
       "  'title': \"Connecticut's COVID-19 Contact Tracing App Has Been ...\",\n",
       "  'description': \"Governor Ned Lamont today announced that COVID Alert CT, Connecticut's COVID-19 exposure notification app, has been activated on more than one million ...\",\n",
       "  'query': 'Connecticut Covid Alert COVID tracing app downloads reported',\n",
       "  'score': 0.46291375160217285},\n",
       " {'link': 'https://catalog.data.gov/dataset/covid-19-contact-tracing-covid-alert-ct-summary-by-week',\n",
       "  'title': 'COVID-19 Contact Tracing: COVID Alert CT Summary by Week',\n",
       "  'description': 'This dataset includes the cumulative and weekly activations for COVID Alert CT for iOS and Android smartphones. The location of app users is not tracked--the ...',\n",
       "  'query': 'Connecticut Covid Alert COVID contact tracing app download count',\n",
       "  'score': 0.4361209273338318},\n",
       " {'link': 'https://cms5.revize.com/revize/guilfordct/Document_Center/Coronavirus%20Information%20Updates/COVID-19%20Update/COVID-Mass-Notification-11-13-20-Final.pdf',\n",
       "  'title': 'Yesterday, the State of Connecticut launched COVID Alert ...',\n",
       "  'description': 'This app is only as successful as the number of people who download it, so it is critical that as many people as possible make sure the app is on their phone.',\n",
       "  'query': 'Connecticut Covid Alert COVID app number of downloads',\n",
       "  'score': 0.427349716424942},\n",
       " {'link': 'https://www.ctpost.com/news/coronavirus/article/CT-records-2-746-new-COVID-cases-in-one-day-15726052.php',\n",
       "  'title': '300K CT residents sign up for COVID app on first day',\n",
       "  'description': \"More than 300,000 people in Connecticut have signed up for a smartphone app designed to alert them if they've been in close proximity to ...\",\n",
       "  'query': 'Connecticut Covid Alert COVID app number of downloads',\n",
       "  'score': 0.4103914499282837}]"
      ]
     },
     "execution_count": 13,
     "metadata": {},
     "output_type": "execute_result"
    }
   ],
   "source": [
    "webpages_above_threshold = [p for p in all_webpages if p[\"score\"] > 0.4]\n",
    "webpages_above_threshold = sorted(webpages_above_threshold, key=lambda x: x[\"score\"], reverse=True)\n",
    "print(len(webpages_above_threshold))\n",
    "\n",
    "webpages_above_threshold"
   ]
  },
  {
   "cell_type": "code",
   "execution_count": null,
   "metadata": {},
   "outputs": [
    {
     "name": "stderr",
     "output_type": "stream",
     "text": [
      "2025-08-05 20:35:47,731 - htmldate.utils - ERROR - not a 200 response: 403 for URL https://www.cbs42.com/news/alabamas-contact-tracing-app-expands-capabilities-still-very-few-have-downloaded-it/\n"
     ]
    },
    {
     "ename": "ValueError",
     "evalue": "(\"URL couldn't be processed: %s\", None)",
     "output_type": "error",
     "traceback": [
      "\u001b[31m---------------------------------------------------------------------------\u001b[39m",
      "\u001b[31mValueError\u001b[39m                                Traceback (most recent call last)",
      "\u001b[36mCell\u001b[39m\u001b[36m \u001b[39m\u001b[32mIn[24]\u001b[39m\u001b[32m, line 1\u001b[39m\n\u001b[32m----> \u001b[39m\u001b[32m1\u001b[39m \u001b[43mget_url_date\u001b[49m\u001b[43m(\u001b[49m\u001b[33;43m\"\u001b[39;49m\u001b[33;43mhttps://www.cbs42.com/news/alabamas-contact-tracing-app-expands-capabilities-still-very-few-have-downloaded-it/\u001b[39;49m\u001b[33;43m\"\u001b[39;49m\u001b[43m)\u001b[49m\n",
      "\u001b[36mFile \u001b[39m\u001b[32m~/Documents/bch/web-data-collection/web_data_collection/webpage_retrieval.py:1040\u001b[39m, in \u001b[36mget_url_date\u001b[39m\u001b[34m(url)\u001b[39m\n\u001b[32m      0\u001b[39m <Error retrieving source code with stack_data see ipython/ipython#13598>\n",
      "\u001b[36mFile \u001b[39m\u001b[32m~/Documents/bch/web-data-collection/web_data_collection/utils.py:75\u001b[39m, in \u001b[36mtimeout_function\u001b[39m\u001b[34m(func, args, kwargs, timeout, default_value)\u001b[39m\n\u001b[32m     72\u001b[39m signal.alarm(timeout)\n\u001b[32m     74\u001b[39m \u001b[38;5;28;01mtry\u001b[39;00m:\n\u001b[32m---> \u001b[39m\u001b[32m75\u001b[39m     result = \u001b[43mfunc\u001b[49m\u001b[43m(\u001b[49m\u001b[43m*\u001b[49m\u001b[43margs\u001b[49m\u001b[43m,\u001b[49m\u001b[43m \u001b[49m\u001b[43m*\u001b[49m\u001b[43m*\u001b[49m\u001b[43mkwargs\u001b[49m\u001b[43m)\u001b[49m\n\u001b[32m     76\u001b[39m     signal.alarm(\u001b[32m0\u001b[39m)\n\u001b[32m     77\u001b[39m     \u001b[38;5;28;01mreturn\u001b[39;00m result\n",
      "\u001b[36mFile \u001b[39m\u001b[32m~/miniconda3/envs/web-data-collection/lib/python3.12/site-packages/htmldate/core.py:861\u001b[39m, in \u001b[36mfind_date\u001b[39m\u001b[34m(htmlobject, extensive_search, original_date, outputformat, url, verbose, min_date, max_date, deferred_url_extractor)\u001b[39m\n\u001b[32m    858\u001b[39m \u001b[38;5;28;01mif\u001b[39;00m verbose:\n\u001b[32m    859\u001b[39m     logging.basicConfig(level=logging.DEBUG)\n\u001b[32m--> \u001b[39m\u001b[32m861\u001b[39m tree = \u001b[43mload_html\u001b[49m\u001b[43m(\u001b[49m\u001b[43mhtmlobject\u001b[49m\u001b[43m)\u001b[49m\n\u001b[32m    863\u001b[39m \u001b[38;5;66;03m# safeguards\u001b[39;00m\n\u001b[32m    864\u001b[39m \u001b[38;5;28;01mif\u001b[39;00m tree \u001b[38;5;129;01mis\u001b[39;00m \u001b[38;5;28;01mNone\u001b[39;00m:\n",
      "\u001b[36mFile \u001b[39m\u001b[32m~/miniconda3/envs/web-data-collection/lib/python3.12/site-packages/htmldate/utils.py:216\u001b[39m, in \u001b[36mload_html\u001b[39m\u001b[34m(htmlobject)\u001b[39m\n\u001b[32m    214\u001b[39m     \u001b[38;5;66;03m# log the error and quit\u001b[39;00m\n\u001b[32m    215\u001b[39m     \u001b[38;5;28;01mif\u001b[39;00m htmlobject \u001b[38;5;129;01mis\u001b[39;00m \u001b[38;5;28;01mNone\u001b[39;00m:\n\u001b[32m--> \u001b[39m\u001b[32m216\u001b[39m         \u001b[38;5;28;01mraise\u001b[39;00m \u001b[38;5;167;01mValueError\u001b[39;00m(\u001b[33m\"\u001b[39m\u001b[33mURL couldn\u001b[39m\u001b[33m'\u001b[39m\u001b[33mt be processed: \u001b[39m\u001b[38;5;132;01m%s\u001b[39;00m\u001b[33m\"\u001b[39m, htmlobject)\n\u001b[32m    217\u001b[39m \u001b[38;5;66;03m# start processing\u001b[39;00m\n\u001b[32m    218\u001b[39m tree = \u001b[38;5;28;01mNone\u001b[39;00m\n",
      "\u001b[31mValueError\u001b[39m: (\"URL couldn't be processed: %s\", None)"
     ]
    },
    {
     "name": "stderr",
     "output_type": "stream",
     "text": [
      "Traceback (most recent call last):\n",
      "  File \"<frozen runpy>\", line 198, in _run_module_as_main\n",
      "  File \"<frozen runpy>\", line 88, in _run_code\n",
      "  File \"/home/thomas/miniconda3/envs/web-data-collection/lib/python3.12/site-packages/ipykernel_launcher.py\", line 18, in <module>\n",
      "    app.launch_new_instance()\n",
      "  File \"/home/thomas/miniconda3/envs/web-data-collection/lib/python3.12/site-packages/traitlets/config/application.py\", line 1075, in launch_instance\n",
      "    app.start()\n",
      "  File \"/home/thomas/miniconda3/envs/web-data-collection/lib/python3.12/site-packages/ipykernel/kernelapp.py\", line 739, in start\n",
      "    self.io_loop.start()\n",
      "  File \"/home/thomas/miniconda3/envs/web-data-collection/lib/python3.12/site-packages/tornado/platform/asyncio.py\", line 211, in start\n",
      "    self.asyncio_loop.run_forever()\n",
      "  File \"/home/thomas/miniconda3/envs/web-data-collection/lib/python3.12/asyncio/base_events.py\", line 645, in run_forever\n",
      "    self._run_once()\n",
      "  File \"/home/thomas/miniconda3/envs/web-data-collection/lib/python3.12/asyncio/base_events.py\", line 1961, in _run_once\n",
      "    event_list = self._selector.select(timeout)\n",
      "                 ^^^^^^^^^^^^^^^^^^^^^^^^^^^^^^\n",
      "  File \"/home/thomas/miniconda3/envs/web-data-collection/lib/python3.12/selectors.py\", line 468, in select\n",
      "    fd_event_list = self._selector.poll(timeout, max_ev)\n",
      "                    ^^^^^^^^^^^^^^^^^^^^^^^^^^^^^^^^^^^^\n",
      "  File \"/home/thomas/Documents/bch/web-data-collection/web_data_collection/utils.py\", line 41, in timeout_handler\n",
      "    raise TimeoutException(\"Function call timed out\")\n",
      "web_data_collection.utils.TimeoutException: Function call timed out\n"
     ]
    },
    {
     "ename": "",
     "evalue": "",
     "output_type": "error",
     "traceback": [
      "\u001b[1;31mThe Kernel crashed while executing code in the current cell or a previous cell. \n",
      "\u001b[1;31mPlease review the code in the cell(s) to identify a possible cause of the failure. \n",
      "\u001b[1;31mClick <a href='https://aka.ms/vscodeJupyterKernelCrash'>here</a> for more info. \n",
      "\u001b[1;31mView Jupyter <a href='command:jupyter.viewOutput'>log</a> for further details."
     ]
    }
   ],
   "source": [
    "get_url_date(\"https://www.cbs42.com/news/alabamas-contact-tracing-app-expands-capabilities-still-very-few-have-downloaded-it/\")"
   ]
  },
  {
   "cell_type": "markdown",
   "metadata": {},
   "source": [
    "# Data Extraction"
   ]
  },
  {
   "cell_type": "code",
   "execution_count": 14,
   "metadata": {},
   "outputs": [
    {
     "name": "stdout",
     "output_type": "stream",
     "text": [
      "class AppDownloadReport(BaseModel):\n",
      "    state: str = Field(..., description=\"Name of the U.S. state for which the app download count is reported\")\n",
      "    date: str = Field(..., description=\"Date for which the app download count is reported in YYYY-MM-DD format\")\n",
      "    download_count: int = Field(..., description=\"Number of downloads of COVID contact tracing apps\")\n"
     ]
    }
   ],
   "source": [
    "schema_fields = [\"state\", \"date\"]\n",
    "schema = generate_extraction_schema(dataset_description, schema_fields, llm_config)\n",
    "\n",
    "print(schema)"
   ]
  },
  {
   "cell_type": "code",
   "execution_count": 15,
   "metadata": {},
   "outputs": [
    {
     "name": "stderr",
     "output_type": "stream",
     "text": [
      "<string>:5: SyntaxWarning: invalid escape sequence '\\ '\n"
     ]
    },
    {
     "data": {
      "text/html": [
       "<pre style=\"white-space:pre;overflow-x:auto;line-height:normal;font-family:Menlo,'DejaVu Sans Mono',consolas,'Courier New',monospace\"><span style=\"color: #008080; text-decoration-color: #008080; font-weight: bold\">[</span><span style=\"color: #008080; text-decoration-color: #008080\">INIT</span><span style=\"color: #008080; text-decoration-color: #008080; font-weight: bold\">]</span><span style=\"color: #008080; text-decoration-color: #008080\">.... → Crawl4AI </span><span style=\"color: #008080; text-decoration-color: #008080; font-weight: bold\">0.6</span><span style=\"color: #008080; text-decoration-color: #008080\">.</span><span style=\"color: #008080; text-decoration-color: #008080; font-weight: bold\">3</span><span style=\"color: #008080; text-decoration-color: #008080\"> </span>\n",
       "</pre>\n"
      ],
      "text/plain": [
       "\u001b[1;36m[\u001b[0m\u001b[36mINIT\u001b[0m\u001b[1;36m]\u001b[0m\u001b[36m...\u001b[0m\u001b[36m. → Crawl4AI \u001b[0m\u001b[1;36m0.6\u001b[0m\u001b[36m.\u001b[0m\u001b[1;36m3\u001b[0m\u001b[36m \u001b[0m\n"
      ]
     },
     "metadata": {},
     "output_type": "display_data"
    },
    {
     "data": {
      "text/html": [
       "<pre style=\"white-space:pre;overflow-x:auto;line-height:normal;font-family:Menlo,'DejaVu Sans Mono',consolas,'Courier New',monospace\"><span style=\"color: #008000; text-decoration-color: #008000; font-weight: bold\">[</span><span style=\"color: #008000; text-decoration-color: #008000\">FETCH</span><span style=\"color: #008000; text-decoration-color: #008000; font-weight: bold\">]</span><span style=\"color: #008000; text-decoration-color: #008000\">... ↓ </span><span style=\"color: #008000; text-decoration-color: #008000; text-decoration: underline\">https://news.azpm.org/p/uanews/2020/9/28/180903-ua-covid-watch-app-is-now-on-30000-devices/</span><span style=\"color: #008000; text-decoration-color: #008000\">          |</span>\n",
       "<span style=\"color: #008000; text-decoration-color: #008000\">✓ | ⏱: </span><span style=\"color: #008000; text-decoration-color: #008000; font-weight: bold\">3.</span><span style=\"color: #008000; text-decoration-color: #008000\">07s </span>\n",
       "</pre>\n"
      ],
      "text/plain": [
       "\u001b[1;32m[\u001b[0m\u001b[32mFETCH\u001b[0m\u001b[1;32m]\u001b[0m\u001b[32m...\u001b[0m\u001b[32m ↓ \u001b[0m\u001b[4;32mhttps://news.azpm.org/p/uanews/2020/9/28/180903-ua-covid-watch-app-is-now-on-30000-devices/\u001b[0m\u001b[32m          |\u001b[0m\n",
       "\u001b[32m✓\u001b[0m\u001b[32m | ⏱: \u001b[0m\u001b[1;32m3.\u001b[0m\u001b[32m07s \u001b[0m\n"
      ]
     },
     "metadata": {},
     "output_type": "display_data"
    },
    {
     "data": {
      "text/html": [
       "<pre style=\"white-space:pre;overflow-x:auto;line-height:normal;font-family:Menlo,'DejaVu Sans Mono',consolas,'Courier New',monospace\"><span style=\"color: #008000; text-decoration-color: #008000; font-weight: bold\">[</span><span style=\"color: #008000; text-decoration-color: #008000\">SCRAPE</span><span style=\"color: #008000; text-decoration-color: #008000; font-weight: bold\">]</span><span style=\"color: #008000; text-decoration-color: #008000\">.. ◆ </span><span style=\"color: #008000; text-decoration-color: #008000; text-decoration: underline\">https://news.azpm.org/p/uanews/2020/9/28/180903-ua-covid-watch-app-is-now-on-30000-devices/</span><span style=\"color: #008000; text-decoration-color: #008000\">          |</span>\n",
       "<span style=\"color: #008000; text-decoration-color: #008000\">✓ | ⏱: </span><span style=\"color: #008000; text-decoration-color: #008000; font-weight: bold\">0.</span><span style=\"color: #008000; text-decoration-color: #008000\">03s </span>\n",
       "</pre>\n"
      ],
      "text/plain": [
       "\u001b[1;32m[\u001b[0m\u001b[32mSCRAPE\u001b[0m\u001b[1;32m]\u001b[0m\u001b[32m.. ◆ \u001b[0m\u001b[4;32mhttps://news.azpm.org/p/uanews/2020/9/28/180903-ua-covid-watch-app-is-now-on-30000-devices/\u001b[0m\u001b[32m          |\u001b[0m\n",
       "\u001b[32m✓\u001b[0m\u001b[32m | ⏱: \u001b[0m\u001b[1;32m0.\u001b[0m\u001b[32m03s \u001b[0m\n"
      ]
     },
     "metadata": {},
     "output_type": "display_data"
    },
    {
     "data": {
      "text/html": [
       "<pre style=\"white-space:pre;overflow-x:auto;line-height:normal;font-family:Menlo,'DejaVu Sans Mono',consolas,'Courier New',monospace\"><span style=\"color: #008080; text-decoration-color: #008080; font-weight: bold\">[</span><span style=\"color: #008080; text-decoration-color: #008080\">EXTRACT</span><span style=\"color: #008080; text-decoration-color: #008080; font-weight: bold\">]</span><span style=\"color: #008080; text-decoration-color: #008080\">. ■ Completed for </span><span style=\"color: #008080; text-decoration-color: #008080; text-decoration: underline\">https://news.azpm.org/p/uanews/2020/9/28/180903-ua...</span><span style=\"color: #008080; text-decoration-color: #008080\"> | Time: </span><span style=\"color: #008080; text-decoration-color: #008080; font-weight: bold\">1.</span><span style=\"color: #008080; text-decoration-color: #008080\">329634742003691s </span>\n",
       "</pre>\n"
      ],
      "text/plain": [
       "\u001b[1;36m[\u001b[0m\u001b[36mEXTRACT\u001b[0m\u001b[1;36m]\u001b[0m\u001b[36m. ■ Completed for \u001b[0m\u001b[4;36mhttps://news.azpm.org/p/uanews/2020/9/28/180903-ua...\u001b[0m\u001b[36m | Time: \u001b[0m\u001b[1;36m1.\u001b[0m\u001b[36m329634742003691s \u001b[0m\n"
      ]
     },
     "metadata": {},
     "output_type": "display_data"
    },
    {
     "data": {
      "text/html": [
       "<pre style=\"white-space:pre;overflow-x:auto;line-height:normal;font-family:Menlo,'DejaVu Sans Mono',consolas,'Courier New',monospace\"><span style=\"color: #008000; text-decoration-color: #008000; font-weight: bold\">[</span><span style=\"color: #008000; text-decoration-color: #008000\">COMPLETE</span><span style=\"color: #008000; text-decoration-color: #008000; font-weight: bold\">]</span><span style=\"color: #008000; text-decoration-color: #008000\"> ● </span><span style=\"color: #008000; text-decoration-color: #008000; text-decoration: underline\">https://news.azpm.org/p/uanews/2020/9/28/180903-ua-covid-watch-app-is-now-on-30000-devices/</span><span style=\"color: #008000; text-decoration-color: #008000\">          |</span>\n",
       "<span style=\"color: #008000; text-decoration-color: #008000\">✓ | ⏱: </span><span style=\"color: #008000; text-decoration-color: #008000; font-weight: bold\">4.</span><span style=\"color: #008000; text-decoration-color: #008000\">44s </span>\n",
       "</pre>\n"
      ],
      "text/plain": [
       "\u001b[1;32m[\u001b[0m\u001b[32mCOMPLETE\u001b[0m\u001b[1;32m]\u001b[0m\u001b[32m ● \u001b[0m\u001b[4;32mhttps://news.azpm.org/p/uanews/2020/9/28/180903-ua-covid-watch-app-is-now-on-30000-devices/\u001b[0m\u001b[32m          |\u001b[0m\n",
       "\u001b[32m✓\u001b[0m\u001b[32m | ⏱: \u001b[0m\u001b[1;32m4.\u001b[0m\u001b[32m44s \u001b[0m\n"
      ]
     },
     "metadata": {},
     "output_type": "display_data"
    },
    {
     "data": {
      "text/html": [
       "<pre style=\"white-space:pre;overflow-x:auto;line-height:normal;font-family:Menlo,'DejaVu Sans Mono',consolas,'Courier New',monospace\"><span style=\"color: #008000; text-decoration-color: #008000; font-weight: bold\">[</span><span style=\"color: #008000; text-decoration-color: #008000\">FETCH</span><span style=\"color: #008000; text-decoration-color: #008000; font-weight: bold\">]</span><span style=\"color: #008000; text-decoration-color: #008000\">... ↓ </span><span style=\"color: #008000; text-decoration-color: #008000; text-decoration: underline\">https://www.rocketcitynow.com/video/news/local/a...-19-app/525-973f3a54-d4f6-4c9e-aa29-f6b7000ae470</span><span style=\"color: #008000; text-decoration-color: #008000\">  |</span>\n",
       "<span style=\"color: #008000; text-decoration-color: #008000\">✓ | ⏱: </span><span style=\"color: #008000; text-decoration-color: #008000; font-weight: bold\">1.</span><span style=\"color: #008000; text-decoration-color: #008000\">19s </span>\n",
       "</pre>\n"
      ],
      "text/plain": [
       "\u001b[1;32m[\u001b[0m\u001b[32mFETCH\u001b[0m\u001b[1;32m]\u001b[0m\u001b[32m...\u001b[0m\u001b[32m ↓ \u001b[0m\u001b[4;32mhttps://www.rocketcitynow.com/video/news/local/a...-19-app/525-973f3a54-d4f6-4c9e-aa29-f6b7000ae470\u001b[0m\u001b[32m  |\u001b[0m\n",
       "\u001b[32m✓\u001b[0m\u001b[32m | ⏱: \u001b[0m\u001b[1;32m1.\u001b[0m\u001b[32m19s \u001b[0m\n"
      ]
     },
     "metadata": {},
     "output_type": "display_data"
    },
    {
     "data": {
      "text/html": [
       "<pre style=\"white-space:pre;overflow-x:auto;line-height:normal;font-family:Menlo,'DejaVu Sans Mono',consolas,'Courier New',monospace\"><span style=\"color: #008000; text-decoration-color: #008000; font-weight: bold\">[</span><span style=\"color: #008000; text-decoration-color: #008000\">SCRAPE</span><span style=\"color: #008000; text-decoration-color: #008000; font-weight: bold\">]</span><span style=\"color: #008000; text-decoration-color: #008000\">.. ◆ </span><span style=\"color: #008000; text-decoration-color: #008000; text-decoration: underline\">https://www.rocketcitynow.com/video/news/local/a...-19-app/525-973f3a54-d4f6-4c9e-aa29-f6b7000ae470</span><span style=\"color: #008000; text-decoration-color: #008000\">  |</span>\n",
       "<span style=\"color: #008000; text-decoration-color: #008000\">✓ | ⏱: </span><span style=\"color: #008000; text-decoration-color: #008000; font-weight: bold\">0.</span><span style=\"color: #008000; text-decoration-color: #008000\">04s </span>\n",
       "</pre>\n"
      ],
      "text/plain": [
       "\u001b[1;32m[\u001b[0m\u001b[32mSCRAPE\u001b[0m\u001b[1;32m]\u001b[0m\u001b[32m.. ◆ \u001b[0m\u001b[4;32mhttps://www.rocketcitynow.com/video/news/local/a...-19-app/525-973f3a54-d4f6-4c9e-aa29-f6b7000ae470\u001b[0m\u001b[32m  |\u001b[0m\n",
       "\u001b[32m✓\u001b[0m\u001b[32m | ⏱: \u001b[0m\u001b[1;32m0.\u001b[0m\u001b[32m04s \u001b[0m\n"
      ]
     },
     "metadata": {},
     "output_type": "display_data"
    },
    {
     "data": {
      "text/html": [
       "<pre style=\"white-space:pre;overflow-x:auto;line-height:normal;font-family:Menlo,'DejaVu Sans Mono',consolas,'Courier New',monospace\"><span style=\"color: #008080; text-decoration-color: #008080; font-weight: bold\">[</span><span style=\"color: #008080; text-decoration-color: #008080\">EXTRACT</span><span style=\"color: #008080; text-decoration-color: #008080; font-weight: bold\">]</span><span style=\"color: #008080; text-decoration-color: #008080\">. ■ Completed for </span><span style=\"color: #008080; text-decoration-color: #008080; text-decoration: underline\">https://www.rocketcitynow.com/video/news/local/ala...</span><span style=\"color: #008080; text-decoration-color: #008080\"> | Time: </span><span style=\"color: #008080; text-decoration-color: #008080; font-weight: bold\">2.</span><span style=\"color: #008080; text-decoration-color: #008080\">0129951190028805s </span>\n",
       "</pre>\n"
      ],
      "text/plain": [
       "\u001b[1;36m[\u001b[0m\u001b[36mEXTRACT\u001b[0m\u001b[1;36m]\u001b[0m\u001b[36m. ■ Completed for \u001b[0m\u001b[4;36mhttps://www.rocketcitynow.com/video/news/local/ala...\u001b[0m\u001b[36m | Time: \u001b[0m\u001b[1;36m2.\u001b[0m\u001b[36m0129951190028805s \u001b[0m\n"
      ]
     },
     "metadata": {},
     "output_type": "display_data"
    },
    {
     "data": {
      "text/html": [
       "<pre style=\"white-space:pre;overflow-x:auto;line-height:normal;font-family:Menlo,'DejaVu Sans Mono',consolas,'Courier New',monospace\"><span style=\"color: #008000; text-decoration-color: #008000; font-weight: bold\">[</span><span style=\"color: #008000; text-decoration-color: #008000\">COMPLETE</span><span style=\"color: #008000; text-decoration-color: #008000; font-weight: bold\">]</span><span style=\"color: #008000; text-decoration-color: #008000\"> ● </span><span style=\"color: #008000; text-decoration-color: #008000; text-decoration: underline\">https://www.rocketcitynow.com/video/news/local/a...-19-app/525-973f3a54-d4f6-4c9e-aa29-f6b7000ae470</span><span style=\"color: #008000; text-decoration-color: #008000\">  |</span>\n",
       "<span style=\"color: #008000; text-decoration-color: #008000\">✓ | ⏱: </span><span style=\"color: #008000; text-decoration-color: #008000; font-weight: bold\">3.</span><span style=\"color: #008000; text-decoration-color: #008000\">25s </span>\n",
       "</pre>\n"
      ],
      "text/plain": [
       "\u001b[1;32m[\u001b[0m\u001b[32mCOMPLETE\u001b[0m\u001b[1;32m]\u001b[0m\u001b[32m ● \u001b[0m\u001b[4;32mhttps://www.rocketcitynow.com/video/news/local/a...-19-app/525-973f3a54-d4f6-4c9e-aa29-f6b7000ae470\u001b[0m\u001b[32m  |\u001b[0m\n",
       "\u001b[32m✓\u001b[0m\u001b[32m | ⏱: \u001b[0m\u001b[1;32m3.\u001b[0m\u001b[32m25s \u001b[0m\n"
      ]
     },
     "metadata": {},
     "output_type": "display_data"
    },
    {
     "data": {
      "text/html": [
       "<pre style=\"white-space:pre;overflow-x:auto;line-height:normal;font-family:Menlo,'DejaVu Sans Mono',consolas,'Courier New',monospace\"><span style=\"color: #008000; text-decoration-color: #008000; font-weight: bold\">[</span><span style=\"color: #008000; text-decoration-color: #008000\">FETCH</span><span style=\"color: #008000; text-decoration-color: #008000; font-weight: bold\">]</span><span style=\"color: #008000; text-decoration-color: #008000\">... ↓ </span><span style=\"color: #008000; text-decoration-color: #008000; text-decoration: underline\">https://www.youtube.com/watch?v=-QBcypdNhEQ</span><span style=\"color: #008000; text-decoration-color: #008000\">                                                          |</span>\n",
       "<span style=\"color: #008000; text-decoration-color: #008000\">✓ | ⏱: </span><span style=\"color: #008000; text-decoration-color: #008000; font-weight: bold\">2.</span><span style=\"color: #008000; text-decoration-color: #008000\">08s </span>\n",
       "</pre>\n"
      ],
      "text/plain": [
       "\u001b[1;32m[\u001b[0m\u001b[32mFETCH\u001b[0m\u001b[1;32m]\u001b[0m\u001b[32m...\u001b[0m\u001b[32m ↓ \u001b[0m\u001b[4;32mhttps://www.youtube.com/watch?\u001b[0m\u001b[4;32mv\u001b[0m\u001b[4;32m=-QBcypdNhEQ\u001b[0m\u001b[32m                                                          |\u001b[0m\n",
       "\u001b[32m✓\u001b[0m\u001b[32m | ⏱: \u001b[0m\u001b[1;32m2.\u001b[0m\u001b[32m08s \u001b[0m\n"
      ]
     },
     "metadata": {},
     "output_type": "display_data"
    },
    {
     "data": {
      "text/html": [
       "<pre style=\"white-space:pre;overflow-x:auto;line-height:normal;font-family:Menlo,'DejaVu Sans Mono',consolas,'Courier New',monospace\"><span style=\"color: #008000; text-decoration-color: #008000; font-weight: bold\">[</span><span style=\"color: #008000; text-decoration-color: #008000\">SCRAPE</span><span style=\"color: #008000; text-decoration-color: #008000; font-weight: bold\">]</span><span style=\"color: #008000; text-decoration-color: #008000\">.. ◆ </span><span style=\"color: #008000; text-decoration-color: #008000; text-decoration: underline\">https://www.youtube.com/watch?v=-QBcypdNhEQ</span><span style=\"color: #008000; text-decoration-color: #008000\">                                                          |</span>\n",
       "<span style=\"color: #008000; text-decoration-color: #008000\">✓ | ⏱: </span><span style=\"color: #008000; text-decoration-color: #008000; font-weight: bold\">0.</span><span style=\"color: #008000; text-decoration-color: #008000\">14s </span>\n",
       "</pre>\n"
      ],
      "text/plain": [
       "\u001b[1;32m[\u001b[0m\u001b[32mSCRAPE\u001b[0m\u001b[1;32m]\u001b[0m\u001b[32m.. ◆ \u001b[0m\u001b[4;32mhttps://www.youtube.com/watch?\u001b[0m\u001b[4;32mv\u001b[0m\u001b[4;32m=-QBcypdNhEQ\u001b[0m\u001b[32m                                                          |\u001b[0m\n",
       "\u001b[32m✓\u001b[0m\u001b[32m | ⏱: \u001b[0m\u001b[1;32m0.\u001b[0m\u001b[32m14s \u001b[0m\n"
      ]
     },
     "metadata": {},
     "output_type": "display_data"
    },
    {
     "data": {
      "text/html": [
       "<pre style=\"white-space:pre;overflow-x:auto;line-height:normal;font-family:Menlo,'DejaVu Sans Mono',consolas,'Courier New',monospace\"><span style=\"color: #008080; text-decoration-color: #008080; font-weight: bold\">[</span><span style=\"color: #008080; text-decoration-color: #008080\">EXTRACT</span><span style=\"color: #008080; text-decoration-color: #008080; font-weight: bold\">]</span><span style=\"color: #008080; text-decoration-color: #008080\">. ■ Completed for </span><span style=\"color: #008080; text-decoration-color: #008080; text-decoration: underline\">https://www.youtube.com/watch?v=-QBcypdNhEQ...</span><span style=\"color: #008080; text-decoration-color: #008080\"> | Time: </span><span style=\"color: #008080; text-decoration-color: #008080; font-weight: bold\">1.</span><span style=\"color: #008080; text-decoration-color: #008080\">0242777910025325s </span>\n",
       "</pre>\n"
      ],
      "text/plain": [
       "\u001b[1;36m[\u001b[0m\u001b[36mEXTRACT\u001b[0m\u001b[1;36m]\u001b[0m\u001b[36m. ■ Completed for \u001b[0m\u001b[4;36mhttps://www.youtube.com/watch?\u001b[0m\u001b[4;36mv\u001b[0m\u001b[4;36m=-QBcypdNhEQ...\u001b[0m\u001b[36m | Time: \u001b[0m\u001b[1;36m1.\u001b[0m\u001b[36m0242777910025325s \u001b[0m\n"
      ]
     },
     "metadata": {},
     "output_type": "display_data"
    },
    {
     "data": {
      "text/html": [
       "<pre style=\"white-space:pre;overflow-x:auto;line-height:normal;font-family:Menlo,'DejaVu Sans Mono',consolas,'Courier New',monospace\"><span style=\"color: #008000; text-decoration-color: #008000; font-weight: bold\">[</span><span style=\"color: #008000; text-decoration-color: #008000\">COMPLETE</span><span style=\"color: #008000; text-decoration-color: #008000; font-weight: bold\">]</span><span style=\"color: #008000; text-decoration-color: #008000\"> ● </span><span style=\"color: #008000; text-decoration-color: #008000; text-decoration: underline\">https://www.youtube.com/watch?v=-QBcypdNhEQ</span><span style=\"color: #008000; text-decoration-color: #008000\">                                                          |</span>\n",
       "<span style=\"color: #008000; text-decoration-color: #008000\">✓ | ⏱: </span><span style=\"color: #008000; text-decoration-color: #008000; font-weight: bold\">3.</span><span style=\"color: #008000; text-decoration-color: #008000\">26s </span>\n",
       "</pre>\n"
      ],
      "text/plain": [
       "\u001b[1;32m[\u001b[0m\u001b[32mCOMPLETE\u001b[0m\u001b[1;32m]\u001b[0m\u001b[32m ● \u001b[0m\u001b[4;32mhttps://www.youtube.com/watch?\u001b[0m\u001b[4;32mv\u001b[0m\u001b[4;32m=-QBcypdNhEQ\u001b[0m\u001b[32m                                                          |\u001b[0m\n",
       "\u001b[32m✓\u001b[0m\u001b[32m | ⏱: \u001b[0m\u001b[1;32m3.\u001b[0m\u001b[32m26s \u001b[0m\n"
      ]
     },
     "metadata": {},
     "output_type": "display_data"
    },
    {
     "data": {
      "text/html": [
       "<pre style=\"white-space:pre;overflow-x:auto;line-height:normal;font-family:Menlo,'DejaVu Sans Mono',consolas,'Courier New',monospace\"><span style=\"color: #008000; text-decoration-color: #008000; font-weight: bold\">[</span><span style=\"color: #008000; text-decoration-color: #008000\">FETCH</span><span style=\"color: #008000; text-decoration-color: #008000; font-weight: bold\">]</span><span style=\"color: #008000; text-decoration-color: #008000\">... ↓ </span><span style=\"color: #008000; text-decoration-color: #008000; text-decoration: underline\">https://www.haddam.org/home/news/connecticut-launches-covid-alert-ct-app</span><span style=\"color: #008000; text-decoration-color: #008000\">                             |</span>\n",
       "<span style=\"color: #008000; text-decoration-color: #008000\">✓ | ⏱: </span><span style=\"color: #008000; text-decoration-color: #008000; font-weight: bold\">1.</span><span style=\"color: #008000; text-decoration-color: #008000\">14s </span>\n",
       "</pre>\n"
      ],
      "text/plain": [
       "\u001b[1;32m[\u001b[0m\u001b[32mFETCH\u001b[0m\u001b[1;32m]\u001b[0m\u001b[32m...\u001b[0m\u001b[32m ↓ \u001b[0m\u001b[4;32mhttps://www.haddam.org/home/news/connecticut-launches-covid-alert-ct-app\u001b[0m\u001b[32m                             |\u001b[0m\n",
       "\u001b[32m✓\u001b[0m\u001b[32m | ⏱: \u001b[0m\u001b[1;32m1.\u001b[0m\u001b[32m14s \u001b[0m\n"
      ]
     },
     "metadata": {},
     "output_type": "display_data"
    },
    {
     "data": {
      "text/html": [
       "<pre style=\"white-space:pre;overflow-x:auto;line-height:normal;font-family:Menlo,'DejaVu Sans Mono',consolas,'Courier New',monospace\"><span style=\"color: #008000; text-decoration-color: #008000; font-weight: bold\">[</span><span style=\"color: #008000; text-decoration-color: #008000\">SCRAPE</span><span style=\"color: #008000; text-decoration-color: #008000; font-weight: bold\">]</span><span style=\"color: #008000; text-decoration-color: #008000\">.. ◆ </span><span style=\"color: #008000; text-decoration-color: #008000; text-decoration: underline\">https://www.haddam.org/home/news/connecticut-launches-covid-alert-ct-app</span><span style=\"color: #008000; text-decoration-color: #008000\">                             |</span>\n",
       "<span style=\"color: #008000; text-decoration-color: #008000\">✓ | ⏱: </span><span style=\"color: #008000; text-decoration-color: #008000; font-weight: bold\">0.</span><span style=\"color: #008000; text-decoration-color: #008000\">05s </span>\n",
       "</pre>\n"
      ],
      "text/plain": [
       "\u001b[1;32m[\u001b[0m\u001b[32mSCRAPE\u001b[0m\u001b[1;32m]\u001b[0m\u001b[32m.. ◆ \u001b[0m\u001b[4;32mhttps://www.haddam.org/home/news/connecticut-launches-covid-alert-ct-app\u001b[0m\u001b[32m                             |\u001b[0m\n",
       "\u001b[32m✓\u001b[0m\u001b[32m | ⏱: \u001b[0m\u001b[1;32m0.\u001b[0m\u001b[32m05s \u001b[0m\n"
      ]
     },
     "metadata": {},
     "output_type": "display_data"
    },
    {
     "data": {
      "text/html": [
       "<pre style=\"white-space:pre;overflow-x:auto;line-height:normal;font-family:Menlo,'DejaVu Sans Mono',consolas,'Courier New',monospace\"><span style=\"color: #008080; text-decoration-color: #008080; font-weight: bold\">[</span><span style=\"color: #008080; text-decoration-color: #008080\">EXTRACT</span><span style=\"color: #008080; text-decoration-color: #008080; font-weight: bold\">]</span><span style=\"color: #008080; text-decoration-color: #008080\">. ■ Completed for </span><span style=\"color: #008080; text-decoration-color: #008080; text-decoration: underline\">https://www.haddam.org/home/news/connecticut-launc...</span><span style=\"color: #008080; text-decoration-color: #008080\"> | Time: </span><span style=\"color: #008080; text-decoration-color: #008080; font-weight: bold\">0.</span><span style=\"color: #008080; text-decoration-color: #008080\">8269060530001298s </span>\n",
       "</pre>\n"
      ],
      "text/plain": [
       "\u001b[1;36m[\u001b[0m\u001b[36mEXTRACT\u001b[0m\u001b[1;36m]\u001b[0m\u001b[36m. ■ Completed for \u001b[0m\u001b[4;36mhttps://www.haddam.org/home/news/connecticut-launc...\u001b[0m\u001b[36m | Time: \u001b[0m\u001b[1;36m0.\u001b[0m\u001b[36m8269060530001298s \u001b[0m\n"
      ]
     },
     "metadata": {},
     "output_type": "display_data"
    },
    {
     "data": {
      "text/html": [
       "<pre style=\"white-space:pre;overflow-x:auto;line-height:normal;font-family:Menlo,'DejaVu Sans Mono',consolas,'Courier New',monospace\"><span style=\"color: #008000; text-decoration-color: #008000; font-weight: bold\">[</span><span style=\"color: #008000; text-decoration-color: #008000\">COMPLETE</span><span style=\"color: #008000; text-decoration-color: #008000; font-weight: bold\">]</span><span style=\"color: #008000; text-decoration-color: #008000\"> ● </span><span style=\"color: #008000; text-decoration-color: #008000; text-decoration: underline\">https://www.haddam.org/home/news/connecticut-launches-covid-alert-ct-app</span><span style=\"color: #008000; text-decoration-color: #008000\">                             |</span>\n",
       "<span style=\"color: #008000; text-decoration-color: #008000\">✓ | ⏱: </span><span style=\"color: #008000; text-decoration-color: #008000; font-weight: bold\">2.</span><span style=\"color: #008000; text-decoration-color: #008000\">03s </span>\n",
       "</pre>\n"
      ],
      "text/plain": [
       "\u001b[1;32m[\u001b[0m\u001b[32mCOMPLETE\u001b[0m\u001b[1;32m]\u001b[0m\u001b[32m ● \u001b[0m\u001b[4;32mhttps://www.haddam.org/home/news/connecticut-launches-covid-alert-ct-app\u001b[0m\u001b[32m                             |\u001b[0m\n",
       "\u001b[32m✓\u001b[0m\u001b[32m | ⏱: \u001b[0m\u001b[1;32m2.\u001b[0m\u001b[32m03s \u001b[0m\n"
      ]
     },
     "metadata": {},
     "output_type": "display_data"
    },
    {
     "data": {
      "text/html": [
       "<pre style=\"white-space:pre;overflow-x:auto;line-height:normal;font-family:Menlo,'DejaVu Sans Mono',consolas,'Courier New',monospace\"><span style=\"color: #008000; text-decoration-color: #008000; font-weight: bold\">[</span><span style=\"color: #008000; text-decoration-color: #008000\">FETCH</span><span style=\"color: #008000; text-decoration-color: #008000; font-weight: bold\">]</span><span style=\"color: #008000; text-decoration-color: #008000\">... ↓ </span><span style=\"color: #008000; text-decoration-color: #008000; text-decoration: underline\">https://www.youtube.com/watch?v=YJArLCsWeTw</span><span style=\"color: #008000; text-decoration-color: #008000\">                                                          |</span>\n",
       "<span style=\"color: #008000; text-decoration-color: #008000\">✓ | ⏱: </span><span style=\"color: #008000; text-decoration-color: #008000; font-weight: bold\">1.</span><span style=\"color: #008000; text-decoration-color: #008000\">75s </span>\n",
       "</pre>\n"
      ],
      "text/plain": [
       "\u001b[1;32m[\u001b[0m\u001b[32mFETCH\u001b[0m\u001b[1;32m]\u001b[0m\u001b[32m...\u001b[0m\u001b[32m ↓ \u001b[0m\u001b[4;32mhttps://www.youtube.com/watch?\u001b[0m\u001b[4;32mv\u001b[0m\u001b[4;32m=\u001b[0m\u001b[4;32mYJArLCsWeTw\u001b[0m\u001b[32m                                                          |\u001b[0m\n",
       "\u001b[32m✓\u001b[0m\u001b[32m | ⏱: \u001b[0m\u001b[1;32m1.\u001b[0m\u001b[32m75s \u001b[0m\n"
      ]
     },
     "metadata": {},
     "output_type": "display_data"
    },
    {
     "data": {
      "text/html": [
       "<pre style=\"white-space:pre;overflow-x:auto;line-height:normal;font-family:Menlo,'DejaVu Sans Mono',consolas,'Courier New',monospace\"><span style=\"color: #008000; text-decoration-color: #008000; font-weight: bold\">[</span><span style=\"color: #008000; text-decoration-color: #008000\">SCRAPE</span><span style=\"color: #008000; text-decoration-color: #008000; font-weight: bold\">]</span><span style=\"color: #008000; text-decoration-color: #008000\">.. ◆ </span><span style=\"color: #008000; text-decoration-color: #008000; text-decoration: underline\">https://www.youtube.com/watch?v=YJArLCsWeTw</span><span style=\"color: #008000; text-decoration-color: #008000\">                                                          |</span>\n",
       "<span style=\"color: #008000; text-decoration-color: #008000\">✓ | ⏱: </span><span style=\"color: #008000; text-decoration-color: #008000; font-weight: bold\">0.</span><span style=\"color: #008000; text-decoration-color: #008000\">09s </span>\n",
       "</pre>\n"
      ],
      "text/plain": [
       "\u001b[1;32m[\u001b[0m\u001b[32mSCRAPE\u001b[0m\u001b[1;32m]\u001b[0m\u001b[32m.. ◆ \u001b[0m\u001b[4;32mhttps://www.youtube.com/watch?\u001b[0m\u001b[4;32mv\u001b[0m\u001b[4;32m=\u001b[0m\u001b[4;32mYJArLCsWeTw\u001b[0m\u001b[32m                                                          |\u001b[0m\n",
       "\u001b[32m✓\u001b[0m\u001b[32m | ⏱: \u001b[0m\u001b[1;32m0.\u001b[0m\u001b[32m09s \u001b[0m\n"
      ]
     },
     "metadata": {},
     "output_type": "display_data"
    },
    {
     "data": {
      "text/html": [
       "<pre style=\"white-space:pre;overflow-x:auto;line-height:normal;font-family:Menlo,'DejaVu Sans Mono',consolas,'Courier New',monospace\"><span style=\"color: #008080; text-decoration-color: #008080; font-weight: bold\">[</span><span style=\"color: #008080; text-decoration-color: #008080\">EXTRACT</span><span style=\"color: #008080; text-decoration-color: #008080; font-weight: bold\">]</span><span style=\"color: #008080; text-decoration-color: #008080\">. ■ Completed for </span><span style=\"color: #008080; text-decoration-color: #008080; text-decoration: underline\">https://www.youtube.com/watch?v=YJArLCsWeTw...</span><span style=\"color: #008080; text-decoration-color: #008080\"> | Time: </span><span style=\"color: #008080; text-decoration-color: #008080; font-weight: bold\">0.</span><span style=\"color: #008080; text-decoration-color: #008080\">7917240189999575s </span>\n",
       "</pre>\n"
      ],
      "text/plain": [
       "\u001b[1;36m[\u001b[0m\u001b[36mEXTRACT\u001b[0m\u001b[1;36m]\u001b[0m\u001b[36m. ■ Completed for \u001b[0m\u001b[4;36mhttps://www.youtube.com/watch?\u001b[0m\u001b[4;36mv\u001b[0m\u001b[4;36m=\u001b[0m\u001b[4;36mYJArLCsWeTw\u001b[0m\u001b[4;36m...\u001b[0m\u001b[36m | Time: \u001b[0m\u001b[1;36m0.\u001b[0m\u001b[36m7917240189999575s \u001b[0m\n"
      ]
     },
     "metadata": {},
     "output_type": "display_data"
    },
    {
     "data": {
      "text/html": [
       "<pre style=\"white-space:pre;overflow-x:auto;line-height:normal;font-family:Menlo,'DejaVu Sans Mono',consolas,'Courier New',monospace\"><span style=\"color: #008000; text-decoration-color: #008000; font-weight: bold\">[</span><span style=\"color: #008000; text-decoration-color: #008000\">COMPLETE</span><span style=\"color: #008000; text-decoration-color: #008000; font-weight: bold\">]</span><span style=\"color: #008000; text-decoration-color: #008000\"> ● </span><span style=\"color: #008000; text-decoration-color: #008000; text-decoration: underline\">https://www.youtube.com/watch?v=YJArLCsWeTw</span><span style=\"color: #008000; text-decoration-color: #008000\">                                                          |</span>\n",
       "<span style=\"color: #008000; text-decoration-color: #008000\">✓ | ⏱: </span><span style=\"color: #008000; text-decoration-color: #008000; font-weight: bold\">2.</span><span style=\"color: #008000; text-decoration-color: #008000\">65s </span>\n",
       "</pre>\n"
      ],
      "text/plain": [
       "\u001b[1;32m[\u001b[0m\u001b[32mCOMPLETE\u001b[0m\u001b[1;32m]\u001b[0m\u001b[32m ● \u001b[0m\u001b[4;32mhttps://www.youtube.com/watch?\u001b[0m\u001b[4;32mv\u001b[0m\u001b[4;32m=\u001b[0m\u001b[4;32mYJArLCsWeTw\u001b[0m\u001b[32m                                                          |\u001b[0m\n",
       "\u001b[32m✓\u001b[0m\u001b[32m | ⏱: \u001b[0m\u001b[1;32m2.\u001b[0m\u001b[32m65s \u001b[0m\n"
      ]
     },
     "metadata": {},
     "output_type": "display_data"
    },
    {
     "data": {
      "text/html": [
       "<pre style=\"white-space:pre;overflow-x:auto;line-height:normal;font-family:Menlo,'DejaVu Sans Mono',consolas,'Courier New',monospace\"><span style=\"color: #008000; text-decoration-color: #008000; font-weight: bold\">[</span><span style=\"color: #008000; text-decoration-color: #008000\">FETCH</span><span style=\"color: #008000; text-decoration-color: #008000; font-weight: bold\">]</span><span style=\"color: #008000; text-decoration-color: #008000\">... ↓ </span><span style=\"color: #008000; text-decoration-color: #008000; text-decoration: underline\">https://www.youtube.com/watch?v=E8Y-lPxZ80U</span><span style=\"color: #008000; text-decoration-color: #008000\">                                                          |</span>\n",
       "<span style=\"color: #008000; text-decoration-color: #008000\">✓ | ⏱: </span><span style=\"color: #008000; text-decoration-color: #008000; font-weight: bold\">1.</span><span style=\"color: #008000; text-decoration-color: #008000\">62s </span>\n",
       "</pre>\n"
      ],
      "text/plain": [
       "\u001b[1;32m[\u001b[0m\u001b[32mFETCH\u001b[0m\u001b[1;32m]\u001b[0m\u001b[32m...\u001b[0m\u001b[32m ↓ \u001b[0m\u001b[4;32mhttps://www.youtube.com/watch?\u001b[0m\u001b[4;32mv\u001b[0m\u001b[4;32m=\u001b[0m\u001b[4;32mE8Y\u001b[0m\u001b[4;32m-lPxZ80U\u001b[0m\u001b[32m                                                          |\u001b[0m\n",
       "\u001b[32m✓\u001b[0m\u001b[32m | ⏱: \u001b[0m\u001b[1;32m1.\u001b[0m\u001b[32m62s \u001b[0m\n"
      ]
     },
     "metadata": {},
     "output_type": "display_data"
    },
    {
     "data": {
      "text/html": [
       "<pre style=\"white-space:pre;overflow-x:auto;line-height:normal;font-family:Menlo,'DejaVu Sans Mono',consolas,'Courier New',monospace\"><span style=\"color: #008000; text-decoration-color: #008000; font-weight: bold\">[</span><span style=\"color: #008000; text-decoration-color: #008000\">SCRAPE</span><span style=\"color: #008000; text-decoration-color: #008000; font-weight: bold\">]</span><span style=\"color: #008000; text-decoration-color: #008000\">.. ◆ </span><span style=\"color: #008000; text-decoration-color: #008000; text-decoration: underline\">https://www.youtube.com/watch?v=E8Y-lPxZ80U</span><span style=\"color: #008000; text-decoration-color: #008000\">                                                          |</span>\n",
       "<span style=\"color: #008000; text-decoration-color: #008000\">✓ | ⏱: </span><span style=\"color: #008000; text-decoration-color: #008000; font-weight: bold\">0.</span><span style=\"color: #008000; text-decoration-color: #008000\">12s </span>\n",
       "</pre>\n"
      ],
      "text/plain": [
       "\u001b[1;32m[\u001b[0m\u001b[32mSCRAPE\u001b[0m\u001b[1;32m]\u001b[0m\u001b[32m.. ◆ \u001b[0m\u001b[4;32mhttps://www.youtube.com/watch?\u001b[0m\u001b[4;32mv\u001b[0m\u001b[4;32m=\u001b[0m\u001b[4;32mE8Y\u001b[0m\u001b[4;32m-lPxZ80U\u001b[0m\u001b[32m                                                          |\u001b[0m\n",
       "\u001b[32m✓\u001b[0m\u001b[32m | ⏱: \u001b[0m\u001b[1;32m0.\u001b[0m\u001b[32m12s \u001b[0m\n"
      ]
     },
     "metadata": {},
     "output_type": "display_data"
    },
    {
     "data": {
      "text/html": [
       "<pre style=\"white-space:pre;overflow-x:auto;line-height:normal;font-family:Menlo,'DejaVu Sans Mono',consolas,'Courier New',monospace\"><span style=\"color: #008080; text-decoration-color: #008080; font-weight: bold\">[</span><span style=\"color: #008080; text-decoration-color: #008080\">EXTRACT</span><span style=\"color: #008080; text-decoration-color: #008080; font-weight: bold\">]</span><span style=\"color: #008080; text-decoration-color: #008080\">. ■ Completed for </span><span style=\"color: #008080; text-decoration-color: #008080; text-decoration: underline\">https://www.youtube.com/watch?v=E8Y-lPxZ80U...</span><span style=\"color: #008080; text-decoration-color: #008080\"> | Time: </span><span style=\"color: #008080; text-decoration-color: #008080; font-weight: bold\">2.</span><span style=\"color: #008080; text-decoration-color: #008080\">111633938002342s </span>\n",
       "</pre>\n"
      ],
      "text/plain": [
       "\u001b[1;36m[\u001b[0m\u001b[36mEXTRACT\u001b[0m\u001b[1;36m]\u001b[0m\u001b[36m. ■ Completed for \u001b[0m\u001b[4;36mhttps://www.youtube.com/watch?\u001b[0m\u001b[4;36mv\u001b[0m\u001b[4;36m=\u001b[0m\u001b[4;36mE8Y\u001b[0m\u001b[4;36m-lPxZ80U...\u001b[0m\u001b[36m | Time: \u001b[0m\u001b[1;36m2.\u001b[0m\u001b[36m111633938002342s \u001b[0m\n"
      ]
     },
     "metadata": {},
     "output_type": "display_data"
    },
    {
     "data": {
      "text/html": [
       "<pre style=\"white-space:pre;overflow-x:auto;line-height:normal;font-family:Menlo,'DejaVu Sans Mono',consolas,'Courier New',monospace\"><span style=\"color: #008000; text-decoration-color: #008000; font-weight: bold\">[</span><span style=\"color: #008000; text-decoration-color: #008000\">COMPLETE</span><span style=\"color: #008000; text-decoration-color: #008000; font-weight: bold\">]</span><span style=\"color: #008000; text-decoration-color: #008000\"> ● </span><span style=\"color: #008000; text-decoration-color: #008000; text-decoration: underline\">https://www.youtube.com/watch?v=E8Y-lPxZ80U</span><span style=\"color: #008000; text-decoration-color: #008000\">                                                          |</span>\n",
       "<span style=\"color: #008000; text-decoration-color: #008000\">✓ | ⏱: </span><span style=\"color: #008000; text-decoration-color: #008000; font-weight: bold\">3.</span><span style=\"color: #008000; text-decoration-color: #008000\">87s </span>\n",
       "</pre>\n"
      ],
      "text/plain": [
       "\u001b[1;32m[\u001b[0m\u001b[32mCOMPLETE\u001b[0m\u001b[1;32m]\u001b[0m\u001b[32m ● \u001b[0m\u001b[4;32mhttps://www.youtube.com/watch?\u001b[0m\u001b[4;32mv\u001b[0m\u001b[4;32m=\u001b[0m\u001b[4;32mE8Y\u001b[0m\u001b[4;32m-lPxZ80U\u001b[0m\u001b[32m                                                          |\u001b[0m\n",
       "\u001b[32m✓\u001b[0m\u001b[32m | ⏱: \u001b[0m\u001b[1;32m3.\u001b[0m\u001b[32m87s \u001b[0m\n"
      ]
     },
     "metadata": {},
     "output_type": "display_data"
    },
    {
     "data": {
      "text/html": [
       "<pre style=\"white-space:pre;overflow-x:auto;line-height:normal;font-family:Menlo,'DejaVu Sans Mono',consolas,'Courier New',monospace\"><span style=\"color: #008000; text-decoration-color: #008000; font-weight: bold\">[</span><span style=\"color: #008000; text-decoration-color: #008000\">FETCH</span><span style=\"color: #008000; text-decoration-color: #008000; font-weight: bold\">]</span><span style=\"color: #008000; text-decoration-color: #008000\">... ↓ </span><span style=\"color: #008000; text-decoration-color: #008000; text-decoration: underline\">https://www.cnbc.com/2020/12/12/ca-notify-corona...app-gets-4-million-activations-in-first-day.html</span><span style=\"color: #008000; text-decoration-color: #008000\">  |</span>\n",
       "<span style=\"color: #008000; text-decoration-color: #008000\">✓ | ⏱: </span><span style=\"color: #008000; text-decoration-color: #008000; font-weight: bold\">2.</span><span style=\"color: #008000; text-decoration-color: #008000\">38s </span>\n",
       "</pre>\n"
      ],
      "text/plain": [
       "\u001b[1;32m[\u001b[0m\u001b[32mFETCH\u001b[0m\u001b[1;32m]\u001b[0m\u001b[32m...\u001b[0m\u001b[32m ↓ \u001b[0m\u001b[4;32mhttps://www.cnbc.com/2020/12/12/ca-notify-corona...app-gets-4-million-activations-in-first-day.html\u001b[0m\u001b[32m  |\u001b[0m\n",
       "\u001b[32m✓\u001b[0m\u001b[32m | ⏱: \u001b[0m\u001b[1;32m2.\u001b[0m\u001b[32m38s \u001b[0m\n"
      ]
     },
     "metadata": {},
     "output_type": "display_data"
    },
    {
     "data": {
      "text/html": [
       "<pre style=\"white-space:pre;overflow-x:auto;line-height:normal;font-family:Menlo,'DejaVu Sans Mono',consolas,'Courier New',monospace\"><span style=\"color: #008000; text-decoration-color: #008000; font-weight: bold\">[</span><span style=\"color: #008000; text-decoration-color: #008000\">SCRAPE</span><span style=\"color: #008000; text-decoration-color: #008000; font-weight: bold\">]</span><span style=\"color: #008000; text-decoration-color: #008000\">.. ◆ </span><span style=\"color: #008000; text-decoration-color: #008000; text-decoration: underline\">https://www.cnbc.com/2020/12/12/ca-notify-corona...app-gets-4-million-activations-in-first-day.html</span><span style=\"color: #008000; text-decoration-color: #008000\">  |</span>\n",
       "<span style=\"color: #008000; text-decoration-color: #008000\">✓ | ⏱: </span><span style=\"color: #008000; text-decoration-color: #008000; font-weight: bold\">0.</span><span style=\"color: #008000; text-decoration-color: #008000\">09s </span>\n",
       "</pre>\n"
      ],
      "text/plain": [
       "\u001b[1;32m[\u001b[0m\u001b[32mSCRAPE\u001b[0m\u001b[1;32m]\u001b[0m\u001b[32m.. ◆ \u001b[0m\u001b[4;32mhttps://www.cnbc.com/2020/12/12/ca-notify-corona...app-gets-4-million-activations-in-first-day.html\u001b[0m\u001b[32m  |\u001b[0m\n",
       "\u001b[32m✓\u001b[0m\u001b[32m | ⏱: \u001b[0m\u001b[1;32m0.\u001b[0m\u001b[32m09s \u001b[0m\n"
      ]
     },
     "metadata": {},
     "output_type": "display_data"
    },
    {
     "data": {
      "text/html": [
       "<pre style=\"white-space:pre;overflow-x:auto;line-height:normal;font-family:Menlo,'DejaVu Sans Mono',consolas,'Courier New',monospace\"><span style=\"color: #008080; text-decoration-color: #008080; font-weight: bold\">[</span><span style=\"color: #008080; text-decoration-color: #008080\">EXTRACT</span><span style=\"color: #008080; text-decoration-color: #008080; font-weight: bold\">]</span><span style=\"color: #008080; text-decoration-color: #008080\">. ■ Completed for </span><span style=\"color: #008080; text-decoration-color: #008080; text-decoration: underline\">https://www.cnbc.com/2020/12/12/ca-notify-coronavi...</span><span style=\"color: #008080; text-decoration-color: #008080\"> | Time: </span><span style=\"color: #008080; text-decoration-color: #008080; font-weight: bold\">2.</span><span style=\"color: #008080; text-decoration-color: #008080\">204191112999979s </span>\n",
       "</pre>\n"
      ],
      "text/plain": [
       "\u001b[1;36m[\u001b[0m\u001b[36mEXTRACT\u001b[0m\u001b[1;36m]\u001b[0m\u001b[36m. ■ Completed for \u001b[0m\u001b[4;36mhttps://www.cnbc.com/2020/12/12/ca-notify-coronavi...\u001b[0m\u001b[36m | Time: \u001b[0m\u001b[1;36m2.\u001b[0m\u001b[36m204191112999979s \u001b[0m\n"
      ]
     },
     "metadata": {},
     "output_type": "display_data"
    },
    {
     "data": {
      "text/html": [
       "<pre style=\"white-space:pre;overflow-x:auto;line-height:normal;font-family:Menlo,'DejaVu Sans Mono',consolas,'Courier New',monospace\"><span style=\"color: #008000; text-decoration-color: #008000; font-weight: bold\">[</span><span style=\"color: #008000; text-decoration-color: #008000\">COMPLETE</span><span style=\"color: #008000; text-decoration-color: #008000; font-weight: bold\">]</span><span style=\"color: #008000; text-decoration-color: #008000\"> ● </span><span style=\"color: #008000; text-decoration-color: #008000; text-decoration: underline\">https://www.cnbc.com/2020/12/12/ca-notify-corona...app-gets-4-million-activations-in-first-day.html</span><span style=\"color: #008000; text-decoration-color: #008000\">  |</span>\n",
       "<span style=\"color: #008000; text-decoration-color: #008000\">✓ | ⏱: </span><span style=\"color: #008000; text-decoration-color: #008000; font-weight: bold\">4.</span><span style=\"color: #008000; text-decoration-color: #008000\">69s </span>\n",
       "</pre>\n"
      ],
      "text/plain": [
       "\u001b[1;32m[\u001b[0m\u001b[32mCOMPLETE\u001b[0m\u001b[1;32m]\u001b[0m\u001b[32m ● \u001b[0m\u001b[4;32mhttps://www.cnbc.com/2020/12/12/ca-notify-corona...app-gets-4-million-activations-in-first-day.html\u001b[0m\u001b[32m  |\u001b[0m\n",
       "\u001b[32m✓\u001b[0m\u001b[32m | ⏱: \u001b[0m\u001b[1;32m4.\u001b[0m\u001b[32m69s \u001b[0m\n"
      ]
     },
     "metadata": {},
     "output_type": "display_data"
    },
    {
     "data": {
      "text/html": [
       "<pre style=\"white-space:pre;overflow-x:auto;line-height:normal;font-family:Menlo,'DejaVu Sans Mono',consolas,'Courier New',monospace\"><span style=\"color: #008000; text-decoration-color: #008000; font-weight: bold\">[</span><span style=\"color: #008000; text-decoration-color: #008000\">FETCH</span><span style=\"color: #008000; text-decoration-color: #008000; font-weight: bold\">]</span><span style=\"color: #008000; text-decoration-color: #008000\">... ↓ </span><span style=\"color: #008000; text-decoration-color: #008000; text-decoration: underline\">https://www.cmadocs.org/newsroom/news/view/Artic...tify-app-to-offer-COVID-19-exposure-notification</span><span style=\"color: #008000; text-decoration-color: #008000\">  |</span>\n",
       "<span style=\"color: #008000; text-decoration-color: #008000\">✓ | ⏱: </span><span style=\"color: #008000; text-decoration-color: #008000; font-weight: bold\">3.</span><span style=\"color: #008000; text-decoration-color: #008000\">87s </span>\n",
       "</pre>\n"
      ],
      "text/plain": [
       "\u001b[1;32m[\u001b[0m\u001b[32mFETCH\u001b[0m\u001b[1;32m]\u001b[0m\u001b[32m...\u001b[0m\u001b[32m ↓ \u001b[0m\u001b[4;32mhttps://www.cmadocs.org/newsroom/news/view/Artic...tify-app-to-offer-COVID-19-exposure-notification\u001b[0m\u001b[32m  |\u001b[0m\n",
       "\u001b[32m✓\u001b[0m\u001b[32m | ⏱: \u001b[0m\u001b[1;32m3.\u001b[0m\u001b[32m87s \u001b[0m\n"
      ]
     },
     "metadata": {},
     "output_type": "display_data"
    },
    {
     "data": {
      "text/html": [
       "<pre style=\"white-space:pre;overflow-x:auto;line-height:normal;font-family:Menlo,'DejaVu Sans Mono',consolas,'Courier New',monospace\"><span style=\"color: #008000; text-decoration-color: #008000; font-weight: bold\">[</span><span style=\"color: #008000; text-decoration-color: #008000\">SCRAPE</span><span style=\"color: #008000; text-decoration-color: #008000; font-weight: bold\">]</span><span style=\"color: #008000; text-decoration-color: #008000\">.. ◆ </span><span style=\"color: #008000; text-decoration-color: #008000; text-decoration: underline\">https://www.cmadocs.org/newsroom/news/view/Artic...tify-app-to-offer-COVID-19-exposure-notification</span><span style=\"color: #008000; text-decoration-color: #008000\">  |</span>\n",
       "<span style=\"color: #008000; text-decoration-color: #008000\">✓ | ⏱: </span><span style=\"color: #808000; text-decoration-color: #808000; font-weight: bold\">0.</span><span style=\"color: #808000; text-decoration-color: #808000\">1</span><span style=\"color: #008000; text-decoration-color: #008000\">0s </span>\n",
       "</pre>\n"
      ],
      "text/plain": [
       "\u001b[1;32m[\u001b[0m\u001b[32mSCRAPE\u001b[0m\u001b[1;32m]\u001b[0m\u001b[32m.. ◆ \u001b[0m\u001b[4;32mhttps://www.cmadocs.org/newsroom/news/view/Artic...tify-app-to-offer-COVID-19-exposure-notification\u001b[0m\u001b[32m  |\u001b[0m\n",
       "\u001b[32m✓\u001b[0m\u001b[32m | ⏱: \u001b[0m\u001b[1;33m0.\u001b[0m\u001b[33m1\u001b[0m\u001b[32m0s \u001b[0m\n"
      ]
     },
     "metadata": {},
     "output_type": "display_data"
    },
    {
     "data": {
      "text/html": [
       "<pre style=\"white-space:pre;overflow-x:auto;line-height:normal;font-family:Menlo,'DejaVu Sans Mono',consolas,'Courier New',monospace\"><span style=\"color: #008080; text-decoration-color: #008080; font-weight: bold\">[</span><span style=\"color: #008080; text-decoration-color: #008080\">EXTRACT</span><span style=\"color: #008080; text-decoration-color: #008080; font-weight: bold\">]</span><span style=\"color: #008080; text-decoration-color: #008080\">. ■ Completed for </span><span style=\"color: #008080; text-decoration-color: #008080; text-decoration: underline\">https://www.cmadocs.org/newsroom/news/view/Article...</span><span style=\"color: #008080; text-decoration-color: #008080\"> | Time: </span><span style=\"color: #008080; text-decoration-color: #008080; font-weight: bold\">1.</span><span style=\"color: #008080; text-decoration-color: #008080\">1905674720037496s </span>\n",
       "</pre>\n"
      ],
      "text/plain": [
       "\u001b[1;36m[\u001b[0m\u001b[36mEXTRACT\u001b[0m\u001b[1;36m]\u001b[0m\u001b[36m. ■ Completed for \u001b[0m\u001b[4;36mhttps://www.cmadocs.org/newsroom/news/view/Article...\u001b[0m\u001b[36m | Time: \u001b[0m\u001b[1;36m1.\u001b[0m\u001b[36m1905674720037496s \u001b[0m\n"
      ]
     },
     "metadata": {},
     "output_type": "display_data"
    },
    {
     "data": {
      "text/html": [
       "<pre style=\"white-space:pre;overflow-x:auto;line-height:normal;font-family:Menlo,'DejaVu Sans Mono',consolas,'Courier New',monospace\"><span style=\"color: #008000; text-decoration-color: #008000; font-weight: bold\">[</span><span style=\"color: #008000; text-decoration-color: #008000\">COMPLETE</span><span style=\"color: #008000; text-decoration-color: #008000; font-weight: bold\">]</span><span style=\"color: #008000; text-decoration-color: #008000\"> ● </span><span style=\"color: #008000; text-decoration-color: #008000; text-decoration: underline\">https://www.cmadocs.org/newsroom/news/view/Artic...tify-app-to-offer-COVID-19-exposure-notification</span><span style=\"color: #008000; text-decoration-color: #008000\">  |</span>\n",
       "<span style=\"color: #008000; text-decoration-color: #008000\">✓ | ⏱: </span><span style=\"color: #008000; text-decoration-color: #008000; font-weight: bold\">5.</span><span style=\"color: #008000; text-decoration-color: #008000\">17s </span>\n",
       "</pre>\n"
      ],
      "text/plain": [
       "\u001b[1;32m[\u001b[0m\u001b[32mCOMPLETE\u001b[0m\u001b[1;32m]\u001b[0m\u001b[32m ● \u001b[0m\u001b[4;32mhttps://www.cmadocs.org/newsroom/news/view/Artic...tify-app-to-offer-COVID-19-exposure-notification\u001b[0m\u001b[32m  |\u001b[0m\n",
       "\u001b[32m✓\u001b[0m\u001b[32m | ⏱: \u001b[0m\u001b[1;32m5.\u001b[0m\u001b[32m17s \u001b[0m\n"
      ]
     },
     "metadata": {},
     "output_type": "display_data"
    },
    {
     "data": {
      "text/html": [
       "<pre style=\"white-space:pre;overflow-x:auto;line-height:normal;font-family:Menlo,'DejaVu Sans Mono',consolas,'Courier New',monospace\"><span style=\"color: #008000; text-decoration-color: #008000; font-weight: bold\">[</span><span style=\"color: #008000; text-decoration-color: #008000\">FETCH</span><span style=\"color: #008000; text-decoration-color: #008000; font-weight: bold\">]</span><span style=\"color: #008000; text-decoration-color: #008000\">... ↓ </span><span style=\"color: #008000; text-decoration-color: #008000; text-decoration: underline\">https://www.stonington-ct.gov/archived/news/laun...-ct-the-exposure-notification-app-in-connecticut</span><span style=\"color: #008000; text-decoration-color: #008000\">  |</span>\n",
       "<span style=\"color: #008000; text-decoration-color: #008000\">✓ | ⏱: </span><span style=\"color: #008000; text-decoration-color: #008000; font-weight: bold\">1.</span><span style=\"color: #008000; text-decoration-color: #008000\">12s </span>\n",
       "</pre>\n"
      ],
      "text/plain": [
       "\u001b[1;32m[\u001b[0m\u001b[32mFETCH\u001b[0m\u001b[1;32m]\u001b[0m\u001b[32m...\u001b[0m\u001b[32m ↓ \u001b[0m\u001b[4;32mhttps://www.stonington-ct.gov/archived/news/laun...-ct-the-exposure-notification-app-in-connecticut\u001b[0m\u001b[32m  |\u001b[0m\n",
       "\u001b[32m✓\u001b[0m\u001b[32m | ⏱: \u001b[0m\u001b[1;32m1.\u001b[0m\u001b[32m12s \u001b[0m\n"
      ]
     },
     "metadata": {},
     "output_type": "display_data"
    },
    {
     "data": {
      "text/html": [
       "<pre style=\"white-space:pre;overflow-x:auto;line-height:normal;font-family:Menlo,'DejaVu Sans Mono',consolas,'Courier New',monospace\"><span style=\"color: #008000; text-decoration-color: #008000; font-weight: bold\">[</span><span style=\"color: #008000; text-decoration-color: #008000\">SCRAPE</span><span style=\"color: #008000; text-decoration-color: #008000; font-weight: bold\">]</span><span style=\"color: #008000; text-decoration-color: #008000\">.. ◆ </span><span style=\"color: #008000; text-decoration-color: #008000; text-decoration: underline\">https://www.stonington-ct.gov/archived/news/laun...-ct-the-exposure-notification-app-in-connecticut</span><span style=\"color: #008000; text-decoration-color: #008000\">  |</span>\n",
       "<span style=\"color: #008000; text-decoration-color: #008000\">✓ | ⏱: </span><span style=\"color: #008000; text-decoration-color: #008000; font-weight: bold\">0.</span><span style=\"color: #008000; text-decoration-color: #008000\">07s </span>\n",
       "</pre>\n"
      ],
      "text/plain": [
       "\u001b[1;32m[\u001b[0m\u001b[32mSCRAPE\u001b[0m\u001b[1;32m]\u001b[0m\u001b[32m.. ◆ \u001b[0m\u001b[4;32mhttps://www.stonington-ct.gov/archived/news/laun...-ct-the-exposure-notification-app-in-connecticut\u001b[0m\u001b[32m  |\u001b[0m\n",
       "\u001b[32m✓\u001b[0m\u001b[32m | ⏱: \u001b[0m\u001b[1;32m0.\u001b[0m\u001b[32m07s \u001b[0m\n"
      ]
     },
     "metadata": {},
     "output_type": "display_data"
    },
    {
     "data": {
      "text/html": [
       "<pre style=\"white-space:pre;overflow-x:auto;line-height:normal;font-family:Menlo,'DejaVu Sans Mono',consolas,'Courier New',monospace\"><span style=\"color: #008080; text-decoration-color: #008080; font-weight: bold\">[</span><span style=\"color: #008080; text-decoration-color: #008080\">EXTRACT</span><span style=\"color: #008080; text-decoration-color: #008080; font-weight: bold\">]</span><span style=\"color: #008080; text-decoration-color: #008080\">. ■ Completed for </span><span style=\"color: #008080; text-decoration-color: #008080; text-decoration: underline\">https://www.stonington-ct.gov/archived/news/launch...</span><span style=\"color: #008080; text-decoration-color: #008080\"> | Time: </span><span style=\"color: #008080; text-decoration-color: #008080; font-weight: bold\">0.</span><span style=\"color: #008080; text-decoration-color: #008080\">7337498540000524s </span>\n",
       "</pre>\n"
      ],
      "text/plain": [
       "\u001b[1;36m[\u001b[0m\u001b[36mEXTRACT\u001b[0m\u001b[1;36m]\u001b[0m\u001b[36m. ■ Completed for \u001b[0m\u001b[4;36mhttps://www.stonington-ct.gov/archived/news/launch...\u001b[0m\u001b[36m | Time: \u001b[0m\u001b[1;36m0.\u001b[0m\u001b[36m7337498540000524s \u001b[0m\n"
      ]
     },
     "metadata": {},
     "output_type": "display_data"
    },
    {
     "data": {
      "text/html": [
       "<pre style=\"white-space:pre;overflow-x:auto;line-height:normal;font-family:Menlo,'DejaVu Sans Mono',consolas,'Courier New',monospace\"><span style=\"color: #008000; text-decoration-color: #008000; font-weight: bold\">[</span><span style=\"color: #008000; text-decoration-color: #008000\">COMPLETE</span><span style=\"color: #008000; text-decoration-color: #008000; font-weight: bold\">]</span><span style=\"color: #008000; text-decoration-color: #008000\"> ● </span><span style=\"color: #008000; text-decoration-color: #008000; text-decoration: underline\">https://www.stonington-ct.gov/archived/news/laun...-ct-the-exposure-notification-app-in-connecticut</span><span style=\"color: #008000; text-decoration-color: #008000\">  |</span>\n",
       "<span style=\"color: #008000; text-decoration-color: #008000\">✓ | ⏱: </span><span style=\"color: #008000; text-decoration-color: #008000; font-weight: bold\">1.</span><span style=\"color: #008000; text-decoration-color: #008000\">93s </span>\n",
       "</pre>\n"
      ],
      "text/plain": [
       "\u001b[1;32m[\u001b[0m\u001b[32mCOMPLETE\u001b[0m\u001b[1;32m]\u001b[0m\u001b[32m ● \u001b[0m\u001b[4;32mhttps://www.stonington-ct.gov/archived/news/laun...-ct-the-exposure-notification-app-in-connecticut\u001b[0m\u001b[32m  |\u001b[0m\n",
       "\u001b[32m✓\u001b[0m\u001b[32m | ⏱: \u001b[0m\u001b[1;32m1.\u001b[0m\u001b[32m93s \u001b[0m\n"
      ]
     },
     "metadata": {},
     "output_type": "display_data"
    },
    {
     "data": {
      "text/html": [
       "<pre style=\"white-space:pre;overflow-x:auto;line-height:normal;font-family:Menlo,'DejaVu Sans Mono',consolas,'Courier New',monospace\"><span style=\"color: #008000; text-decoration-color: #008000; font-weight: bold\">[</span><span style=\"color: #008000; text-decoration-color: #008000\">FETCH</span><span style=\"color: #008000; text-decoration-color: #008000; font-weight: bold\">]</span><span style=\"color: #008000; text-decoration-color: #008000\">... ↓ </span><span style=\"color: #008000; text-decoration-color: #008000; text-decoration: underline\">https://www.wiltonct.gov/coronavirus-resources/pages/covid-alert-ct-app</span><span style=\"color: #008000; text-decoration-color: #008000\">                              |</span>\n",
       "<span style=\"color: #008000; text-decoration-color: #008000\">✓ | ⏱: </span><span style=\"color: #008000; text-decoration-color: #008000; font-weight: bold\">2.</span><span style=\"color: #008000; text-decoration-color: #008000\">10s </span>\n",
       "</pre>\n"
      ],
      "text/plain": [
       "\u001b[1;32m[\u001b[0m\u001b[32mFETCH\u001b[0m\u001b[1;32m]\u001b[0m\u001b[32m...\u001b[0m\u001b[32m ↓ \u001b[0m\u001b[4;32mhttps://www.wiltonct.gov/coronavirus-resources/pages/covid-alert-ct-app\u001b[0m\u001b[32m                              |\u001b[0m\n",
       "\u001b[32m✓\u001b[0m\u001b[32m | ⏱: \u001b[0m\u001b[1;32m2.\u001b[0m\u001b[32m10s \u001b[0m\n"
      ]
     },
     "metadata": {},
     "output_type": "display_data"
    },
    {
     "data": {
      "text/html": [
       "<pre style=\"white-space:pre;overflow-x:auto;line-height:normal;font-family:Menlo,'DejaVu Sans Mono',consolas,'Courier New',monospace\"><span style=\"color: #008000; text-decoration-color: #008000; font-weight: bold\">[</span><span style=\"color: #008000; text-decoration-color: #008000\">SCRAPE</span><span style=\"color: #008000; text-decoration-color: #008000; font-weight: bold\">]</span><span style=\"color: #008000; text-decoration-color: #008000\">.. ◆ </span><span style=\"color: #008000; text-decoration-color: #008000; text-decoration: underline\">https://www.wiltonct.gov/coronavirus-resources/pages/covid-alert-ct-app</span><span style=\"color: #008000; text-decoration-color: #008000\">                              |</span>\n",
       "<span style=\"color: #008000; text-decoration-color: #008000\">✓ | ⏱: </span><span style=\"color: #008000; text-decoration-color: #008000; font-weight: bold\">0.</span><span style=\"color: #008000; text-decoration-color: #008000\">10s </span>\n",
       "</pre>\n"
      ],
      "text/plain": [
       "\u001b[1;32m[\u001b[0m\u001b[32mSCRAPE\u001b[0m\u001b[1;32m]\u001b[0m\u001b[32m.. ◆ \u001b[0m\u001b[4;32mhttps://www.wiltonct.gov/coronavirus-resources/pages/covid-alert-ct-app\u001b[0m\u001b[32m                              |\u001b[0m\n",
       "\u001b[32m✓\u001b[0m\u001b[32m | ⏱: \u001b[0m\u001b[1;32m0.\u001b[0m\u001b[32m10s \u001b[0m\n"
      ]
     },
     "metadata": {},
     "output_type": "display_data"
    },
    {
     "data": {
      "text/html": [
       "<pre style=\"white-space:pre;overflow-x:auto;line-height:normal;font-family:Menlo,'DejaVu Sans Mono',consolas,'Courier New',monospace\"><span style=\"color: #008080; text-decoration-color: #008080; font-weight: bold\">[</span><span style=\"color: #008080; text-decoration-color: #008080\">EXTRACT</span><span style=\"color: #008080; text-decoration-color: #008080; font-weight: bold\">]</span><span style=\"color: #008080; text-decoration-color: #008080\">. ■ Completed for </span><span style=\"color: #008080; text-decoration-color: #008080; text-decoration: underline\">https://www.wiltonct.gov/coronavirus-resources/pag...</span><span style=\"color: #008080; text-decoration-color: #008080\"> | Time: </span><span style=\"color: #008080; text-decoration-color: #008080; font-weight: bold\">1.</span><span style=\"color: #008080; text-decoration-color: #008080\">243268475001969s </span>\n",
       "</pre>\n"
      ],
      "text/plain": [
       "\u001b[1;36m[\u001b[0m\u001b[36mEXTRACT\u001b[0m\u001b[1;36m]\u001b[0m\u001b[36m. ■ Completed for \u001b[0m\u001b[4;36mhttps://www.wiltonct.gov/coronavirus-resources/pag...\u001b[0m\u001b[36m | Time: \u001b[0m\u001b[1;36m1.\u001b[0m\u001b[36m243268475001969s \u001b[0m\n"
      ]
     },
     "metadata": {},
     "output_type": "display_data"
    },
    {
     "data": {
      "text/html": [
       "<pre style=\"white-space:pre;overflow-x:auto;line-height:normal;font-family:Menlo,'DejaVu Sans Mono',consolas,'Courier New',monospace\"><span style=\"color: #008000; text-decoration-color: #008000; font-weight: bold\">[</span><span style=\"color: #008000; text-decoration-color: #008000\">COMPLETE</span><span style=\"color: #008000; text-decoration-color: #008000; font-weight: bold\">]</span><span style=\"color: #008000; text-decoration-color: #008000\"> ● </span><span style=\"color: #008000; text-decoration-color: #008000; text-decoration: underline\">https://www.wiltonct.gov/coronavirus-resources/pages/covid-alert-ct-app</span><span style=\"color: #008000; text-decoration-color: #008000\">                              |</span>\n",
       "<span style=\"color: #008000; text-decoration-color: #008000\">✓ | ⏱: </span><span style=\"color: #008000; text-decoration-color: #008000; font-weight: bold\">3.</span><span style=\"color: #008000; text-decoration-color: #008000\">45s </span>\n",
       "</pre>\n"
      ],
      "text/plain": [
       "\u001b[1;32m[\u001b[0m\u001b[32mCOMPLETE\u001b[0m\u001b[1;32m]\u001b[0m\u001b[32m ● \u001b[0m\u001b[4;32mhttps://www.wiltonct.gov/coronavirus-resources/pages/covid-alert-ct-app\u001b[0m\u001b[32m                              |\u001b[0m\n",
       "\u001b[32m✓\u001b[0m\u001b[32m | ⏱: \u001b[0m\u001b[1;32m3.\u001b[0m\u001b[32m45s \u001b[0m\n"
      ]
     },
     "metadata": {},
     "output_type": "display_data"
    },
    {
     "data": {
      "text/html": [
       "<pre style=\"white-space:pre;overflow-x:auto;line-height:normal;font-family:Menlo,'DejaVu Sans Mono',consolas,'Courier New',monospace\"><span style=\"color: #008000; text-decoration-color: #008000; font-weight: bold\">[</span><span style=\"color: #008000; text-decoration-color: #008000\">FETCH</span><span style=\"color: #008000; text-decoration-color: #008000; font-weight: bold\">]</span><span style=\"color: #008000; text-decoration-color: #008000\">... ↓ </span><span style=\"color: #008000; text-decoration-color: #008000; text-decoration: underline\">https://www.reddit.com/r/bayarea/comments/kai2ty/anyone_here_download_the_ca_notify_app_cas/</span><span style=\"color: #008000; text-decoration-color: #008000\">         |</span>\n",
       "<span style=\"color: #008000; text-decoration-color: #008000\">✓ | ⏱: </span><span style=\"color: #008000; text-decoration-color: #008000; font-weight: bold\">1.</span><span style=\"color: #008000; text-decoration-color: #008000\">56s </span>\n",
       "</pre>\n"
      ],
      "text/plain": [
       "\u001b[1;32m[\u001b[0m\u001b[32mFETCH\u001b[0m\u001b[1;32m]\u001b[0m\u001b[32m...\u001b[0m\u001b[32m ↓ \u001b[0m\u001b[4;32mhttps://www.reddit.com/r/bayarea/comments/kai2ty/anyone_here_download_the_ca_notify_app_cas/\u001b[0m\u001b[32m         |\u001b[0m\n",
       "\u001b[32m✓\u001b[0m\u001b[32m | ⏱: \u001b[0m\u001b[1;32m1.\u001b[0m\u001b[32m56s \u001b[0m\n"
      ]
     },
     "metadata": {},
     "output_type": "display_data"
    },
    {
     "data": {
      "text/html": [
       "<pre style=\"white-space:pre;overflow-x:auto;line-height:normal;font-family:Menlo,'DejaVu Sans Mono',consolas,'Courier New',monospace\"><span style=\"color: #008000; text-decoration-color: #008000; font-weight: bold\">[</span><span style=\"color: #008000; text-decoration-color: #008000\">SCRAPE</span><span style=\"color: #008000; text-decoration-color: #008000; font-weight: bold\">]</span><span style=\"color: #008000; text-decoration-color: #008000\">.. ◆ </span><span style=\"color: #008000; text-decoration-color: #008000; text-decoration: underline\">https://www.reddit.com/r/bayarea/comments/kai2ty/anyone_here_download_the_ca_notify_app_cas/</span><span style=\"color: #008000; text-decoration-color: #008000\">         |</span>\n",
       "<span style=\"color: #008000; text-decoration-color: #008000\">✓ | ⏱: </span><span style=\"color: #008000; text-decoration-color: #008000; font-weight: bold\">0.</span><span style=\"color: #008000; text-decoration-color: #008000\">42s </span>\n",
       "</pre>\n"
      ],
      "text/plain": [
       "\u001b[1;32m[\u001b[0m\u001b[32mSCRAPE\u001b[0m\u001b[1;32m]\u001b[0m\u001b[32m.. ◆ \u001b[0m\u001b[4;32mhttps://www.reddit.com/r/bayarea/comments/kai2ty/anyone_here_download_the_ca_notify_app_cas/\u001b[0m\u001b[32m         |\u001b[0m\n",
       "\u001b[32m✓\u001b[0m\u001b[32m | ⏱: \u001b[0m\u001b[1;32m0.\u001b[0m\u001b[32m42s \u001b[0m\n"
      ]
     },
     "metadata": {},
     "output_type": "display_data"
    },
    {
     "data": {
      "text/html": [
       "<pre style=\"white-space:pre;overflow-x:auto;line-height:normal;font-family:Menlo,'DejaVu Sans Mono',consolas,'Courier New',monospace\"><span style=\"color: #008080; text-decoration-color: #008080; font-weight: bold\">[</span><span style=\"color: #008080; text-decoration-color: #008080\">EXTRACT</span><span style=\"color: #008080; text-decoration-color: #008080; font-weight: bold\">]</span><span style=\"color: #008080; text-decoration-color: #008080\">. ■ Completed for </span><span style=\"color: #008080; text-decoration-color: #008080; text-decoration: underline\">https://www.reddit.com/r/bayarea/comments/kai2ty/a...</span><span style=\"color: #008080; text-decoration-color: #008080\"> | Time: </span><span style=\"color: #008080; text-decoration-color: #008080; font-weight: bold\">0.</span><span style=\"color: #008080; text-decoration-color: #008080\">8507952410000144s </span>\n",
       "</pre>\n"
      ],
      "text/plain": [
       "\u001b[1;36m[\u001b[0m\u001b[36mEXTRACT\u001b[0m\u001b[1;36m]\u001b[0m\u001b[36m. ■ Completed for \u001b[0m\u001b[4;36mhttps://www.reddit.com/r/bayarea/comments/kai2ty/a...\u001b[0m\u001b[36m | Time: \u001b[0m\u001b[1;36m0.\u001b[0m\u001b[36m8507952410000144s \u001b[0m\n"
      ]
     },
     "metadata": {},
     "output_type": "display_data"
    },
    {
     "data": {
      "text/html": [
       "<pre style=\"white-space:pre;overflow-x:auto;line-height:normal;font-family:Menlo,'DejaVu Sans Mono',consolas,'Courier New',monospace\"><span style=\"color: #008000; text-decoration-color: #008000; font-weight: bold\">[</span><span style=\"color: #008000; text-decoration-color: #008000\">COMPLETE</span><span style=\"color: #008000; text-decoration-color: #008000; font-weight: bold\">]</span><span style=\"color: #008000; text-decoration-color: #008000\"> ● </span><span style=\"color: #008000; text-decoration-color: #008000; text-decoration: underline\">https://www.reddit.com/r/bayarea/comments/kai2ty/anyone_here_download_the_ca_notify_app_cas/</span><span style=\"color: #008000; text-decoration-color: #008000\">         |</span>\n",
       "<span style=\"color: #008000; text-decoration-color: #008000\">✓ | ⏱: </span><span style=\"color: #008000; text-decoration-color: #008000; font-weight: bold\">2.</span><span style=\"color: #008000; text-decoration-color: #008000\">85s </span>\n",
       "</pre>\n"
      ],
      "text/plain": [
       "\u001b[1;32m[\u001b[0m\u001b[32mCOMPLETE\u001b[0m\u001b[1;32m]\u001b[0m\u001b[32m ● \u001b[0m\u001b[4;32mhttps://www.reddit.com/r/bayarea/comments/kai2ty/anyone_here_download_the_ca_notify_app_cas/\u001b[0m\u001b[32m         |\u001b[0m\n",
       "\u001b[32m✓\u001b[0m\u001b[32m | ⏱: \u001b[0m\u001b[1;32m2.\u001b[0m\u001b[32m85s \u001b[0m\n"
      ]
     },
     "metadata": {},
     "output_type": "display_data"
    },
    {
     "data": {
      "text/html": [
       "<pre style=\"white-space:pre;overflow-x:auto;line-height:normal;font-family:Menlo,'DejaVu Sans Mono',consolas,'Courier New',monospace\"><span style=\"color: #008000; text-decoration-color: #008000; font-weight: bold\">[</span><span style=\"color: #008000; text-decoration-color: #008000\">FETCH</span><span style=\"color: #008000; text-decoration-color: #008000; font-weight: bold\">]</span><span style=\"color: #008000; text-decoration-color: #008000\">... ↓ </span><span style=\"color: #008000; text-decoration-color: #008000; text-decoration: underline\">https://news.hamlethub.com/wilton-connecticut/50...ctivated-on-more-than-one-million-mobile-devices</span><span style=\"color: #008000; text-decoration-color: #008000\">  |</span>\n",
       "<span style=\"color: #008000; text-decoration-color: #008000\">✓ | ⏱: </span><span style=\"color: #008000; text-decoration-color: #008000; font-weight: bold\">0.</span><span style=\"color: #008000; text-decoration-color: #008000\">99s </span>\n",
       "</pre>\n"
      ],
      "text/plain": [
       "\u001b[1;32m[\u001b[0m\u001b[32mFETCH\u001b[0m\u001b[1;32m]\u001b[0m\u001b[32m...\u001b[0m\u001b[32m ↓ \u001b[0m\u001b[4;32mhttps://news.hamlethub.com/wilton-connecticut/50...ctivated-on-more-than-one-million-mobile-devices\u001b[0m\u001b[32m  |\u001b[0m\n",
       "\u001b[32m✓\u001b[0m\u001b[32m | ⏱: \u001b[0m\u001b[1;32m0.\u001b[0m\u001b[32m99s \u001b[0m\n"
      ]
     },
     "metadata": {},
     "output_type": "display_data"
    },
    {
     "data": {
      "text/html": [
       "<pre style=\"white-space:pre;overflow-x:auto;line-height:normal;font-family:Menlo,'DejaVu Sans Mono',consolas,'Courier New',monospace\"><span style=\"color: #008000; text-decoration-color: #008000; font-weight: bold\">[</span><span style=\"color: #008000; text-decoration-color: #008000\">SCRAPE</span><span style=\"color: #008000; text-decoration-color: #008000; font-weight: bold\">]</span><span style=\"color: #008000; text-decoration-color: #008000\">.. ◆ </span><span style=\"color: #008000; text-decoration-color: #008000; text-decoration: underline\">https://news.hamlethub.com/wilton-connecticut/50...ctivated-on-more-than-one-million-mobile-devices</span><span style=\"color: #008000; text-decoration-color: #008000\">  |</span>\n",
       "<span style=\"color: #008000; text-decoration-color: #008000\">✓ | ⏱: </span><span style=\"color: #008000; text-decoration-color: #008000; font-weight: bold\">0.</span><span style=\"color: #008000; text-decoration-color: #008000\">01s </span>\n",
       "</pre>\n"
      ],
      "text/plain": [
       "\u001b[1;32m[\u001b[0m\u001b[32mSCRAPE\u001b[0m\u001b[1;32m]\u001b[0m\u001b[32m.. ◆ \u001b[0m\u001b[4;32mhttps://news.hamlethub.com/wilton-connecticut/50...ctivated-on-more-than-one-million-mobile-devices\u001b[0m\u001b[32m  |\u001b[0m\n",
       "\u001b[32m✓\u001b[0m\u001b[32m | ⏱: \u001b[0m\u001b[1;32m0.\u001b[0m\u001b[32m01s \u001b[0m\n"
      ]
     },
     "metadata": {},
     "output_type": "display_data"
    },
    {
     "data": {
      "text/html": [
       "<pre style=\"white-space:pre;overflow-x:auto;line-height:normal;font-family:Menlo,'DejaVu Sans Mono',consolas,'Courier New',monospace\"><span style=\"color: #008080; text-decoration-color: #008080; font-weight: bold\">[</span><span style=\"color: #008080; text-decoration-color: #008080\">EXTRACT</span><span style=\"color: #008080; text-decoration-color: #008080; font-weight: bold\">]</span><span style=\"color: #008080; text-decoration-color: #008080\">. ■ Completed for </span><span style=\"color: #008080; text-decoration-color: #008080; text-decoration: underline\">https://news.hamlethub.com/wilton-connecticut/5087...</span><span style=\"color: #008080; text-decoration-color: #008080\"> | Time: </span><span style=\"color: #008080; text-decoration-color: #008080; font-weight: bold\">0.</span><span style=\"color: #008080; text-decoration-color: #008080\">5850474519975251s </span>\n",
       "</pre>\n"
      ],
      "text/plain": [
       "\u001b[1;36m[\u001b[0m\u001b[36mEXTRACT\u001b[0m\u001b[1;36m]\u001b[0m\u001b[36m. ■ Completed for \u001b[0m\u001b[4;36mhttps://news.hamlethub.com/wilton-connecticut/5087...\u001b[0m\u001b[36m | Time: \u001b[0m\u001b[1;36m0.\u001b[0m\u001b[36m5850474519975251s \u001b[0m\n"
      ]
     },
     "metadata": {},
     "output_type": "display_data"
    },
    {
     "data": {
      "text/html": [
       "<pre style=\"white-space:pre;overflow-x:auto;line-height:normal;font-family:Menlo,'DejaVu Sans Mono',consolas,'Courier New',monospace\"><span style=\"color: #008000; text-decoration-color: #008000; font-weight: bold\">[</span><span style=\"color: #008000; text-decoration-color: #008000\">COMPLETE</span><span style=\"color: #008000; text-decoration-color: #008000; font-weight: bold\">]</span><span style=\"color: #008000; text-decoration-color: #008000\"> ● </span><span style=\"color: #008000; text-decoration-color: #008000; text-decoration: underline\">https://news.hamlethub.com/wilton-connecticut/50...ctivated-on-more-than-one-million-mobile-devices</span><span style=\"color: #008000; text-decoration-color: #008000\">  |</span>\n",
       "<span style=\"color: #008000; text-decoration-color: #008000\">✓ | ⏱: </span><span style=\"color: #008000; text-decoration-color: #008000; font-weight: bold\">1.</span><span style=\"color: #008000; text-decoration-color: #008000\">60s </span>\n",
       "</pre>\n"
      ],
      "text/plain": [
       "\u001b[1;32m[\u001b[0m\u001b[32mCOMPLETE\u001b[0m\u001b[1;32m]\u001b[0m\u001b[32m ● \u001b[0m\u001b[4;32mhttps://news.hamlethub.com/wilton-connecticut/50...ctivated-on-more-than-one-million-mobile-devices\u001b[0m\u001b[32m  |\u001b[0m\n",
       "\u001b[32m✓\u001b[0m\u001b[32m | ⏱: \u001b[0m\u001b[1;32m1.\u001b[0m\u001b[32m60s \u001b[0m\n"
      ]
     },
     "metadata": {},
     "output_type": "display_data"
    },
    {
     "data": {
      "text/html": [
       "<pre style=\"white-space:pre;overflow-x:auto;line-height:normal;font-family:Menlo,'DejaVu Sans Mono',consolas,'Courier New',monospace\"><span style=\"color: #008000; text-decoration-color: #008000; font-weight: bold\">[</span><span style=\"color: #008000; text-decoration-color: #008000\">FETCH</span><span style=\"color: #008000; text-decoration-color: #008000; font-weight: bold\">]</span><span style=\"color: #008000; text-decoration-color: #008000\">... ↓ </span><span style=\"color: #008000; text-decoration-color: #008000; text-decoration: underline\">https://catalog.data.gov/dataset/covid-19-contact-tracing-covid-alert-ct-summary-by-week</span><span style=\"color: #008000; text-decoration-color: #008000\">             |</span>\n",
       "<span style=\"color: #008000; text-decoration-color: #008000\">✓ | ⏱: </span><span style=\"color: #008000; text-decoration-color: #008000; font-weight: bold\">1.</span><span style=\"color: #008000; text-decoration-color: #008000\">14s </span>\n",
       "</pre>\n"
      ],
      "text/plain": [
       "\u001b[1;32m[\u001b[0m\u001b[32mFETCH\u001b[0m\u001b[1;32m]\u001b[0m\u001b[32m...\u001b[0m\u001b[32m ↓ \u001b[0m\u001b[4;32mhttps://catalog.data.gov/dataset/covid-19-contact-tracing-covid-alert-ct-summary-by-week\u001b[0m\u001b[32m             |\u001b[0m\n",
       "\u001b[32m✓\u001b[0m\u001b[32m | ⏱: \u001b[0m\u001b[1;32m1.\u001b[0m\u001b[32m14s \u001b[0m\n"
      ]
     },
     "metadata": {},
     "output_type": "display_data"
    },
    {
     "data": {
      "text/html": [
       "<pre style=\"white-space:pre;overflow-x:auto;line-height:normal;font-family:Menlo,'DejaVu Sans Mono',consolas,'Courier New',monospace\"><span style=\"color: #008000; text-decoration-color: #008000; font-weight: bold\">[</span><span style=\"color: #008000; text-decoration-color: #008000\">SCRAPE</span><span style=\"color: #008000; text-decoration-color: #008000; font-weight: bold\">]</span><span style=\"color: #008000; text-decoration-color: #008000\">.. ◆ </span><span style=\"color: #008000; text-decoration-color: #008000; text-decoration: underline\">https://catalog.data.gov/dataset/covid-19-contact-tracing-covid-alert-ct-summary-by-week</span><span style=\"color: #008000; text-decoration-color: #008000\">             |</span>\n",
       "<span style=\"color: #008000; text-decoration-color: #008000\">✓ | ⏱: </span><span style=\"color: #008000; text-decoration-color: #008000; font-weight: bold\">0.</span><span style=\"color: #008000; text-decoration-color: #008000\">08s </span>\n",
       "</pre>\n"
      ],
      "text/plain": [
       "\u001b[1;32m[\u001b[0m\u001b[32mSCRAPE\u001b[0m\u001b[1;32m]\u001b[0m\u001b[32m.. ◆ \u001b[0m\u001b[4;32mhttps://catalog.data.gov/dataset/covid-19-contact-tracing-covid-alert-ct-summary-by-week\u001b[0m\u001b[32m             |\u001b[0m\n",
       "\u001b[32m✓\u001b[0m\u001b[32m | ⏱: \u001b[0m\u001b[1;32m0.\u001b[0m\u001b[32m08s \u001b[0m\n"
      ]
     },
     "metadata": {},
     "output_type": "display_data"
    },
    {
     "data": {
      "text/html": [
       "<pre style=\"white-space:pre;overflow-x:auto;line-height:normal;font-family:Menlo,'DejaVu Sans Mono',consolas,'Courier New',monospace\"><span style=\"color: #008080; text-decoration-color: #008080; font-weight: bold\">[</span><span style=\"color: #008080; text-decoration-color: #008080\">EXTRACT</span><span style=\"color: #008080; text-decoration-color: #008080; font-weight: bold\">]</span><span style=\"color: #008080; text-decoration-color: #008080\">. ■ Completed for </span><span style=\"color: #008080; text-decoration-color: #008080; text-decoration: underline\">https://catalog.data.gov/dataset/covid-19-contact-...</span><span style=\"color: #008080; text-decoration-color: #008080\"> | Time: </span><span style=\"color: #008080; text-decoration-color: #008080; font-weight: bold\">0.</span><span style=\"color: #008080; text-decoration-color: #008080\">8619384139965405s </span>\n",
       "</pre>\n"
      ],
      "text/plain": [
       "\u001b[1;36m[\u001b[0m\u001b[36mEXTRACT\u001b[0m\u001b[1;36m]\u001b[0m\u001b[36m. ■ Completed for \u001b[0m\u001b[4;36mhttps://catalog.data.gov/dataset/covid-19-contact-...\u001b[0m\u001b[36m | Time: \u001b[0m\u001b[1;36m0.\u001b[0m\u001b[36m8619384139965405s \u001b[0m\n"
      ]
     },
     "metadata": {},
     "output_type": "display_data"
    },
    {
     "data": {
      "text/html": [
       "<pre style=\"white-space:pre;overflow-x:auto;line-height:normal;font-family:Menlo,'DejaVu Sans Mono',consolas,'Courier New',monospace\"><span style=\"color: #008000; text-decoration-color: #008000; font-weight: bold\">[</span><span style=\"color: #008000; text-decoration-color: #008000\">COMPLETE</span><span style=\"color: #008000; text-decoration-color: #008000; font-weight: bold\">]</span><span style=\"color: #008000; text-decoration-color: #008000\"> ● </span><span style=\"color: #008000; text-decoration-color: #008000; text-decoration: underline\">https://catalog.data.gov/dataset/covid-19-contact-tracing-covid-alert-ct-summary-by-week</span><span style=\"color: #008000; text-decoration-color: #008000\">             |</span>\n",
       "<span style=\"color: #008000; text-decoration-color: #008000\">✓ | ⏱: </span><span style=\"color: #008000; text-decoration-color: #008000; font-weight: bold\">2.</span><span style=\"color: #008000; text-decoration-color: #008000\">09s </span>\n",
       "</pre>\n"
      ],
      "text/plain": [
       "\u001b[1;32m[\u001b[0m\u001b[32mCOMPLETE\u001b[0m\u001b[1;32m]\u001b[0m\u001b[32m ● \u001b[0m\u001b[4;32mhttps://catalog.data.gov/dataset/covid-19-contact-tracing-covid-alert-ct-summary-by-week\u001b[0m\u001b[32m             |\u001b[0m\n",
       "\u001b[32m✓\u001b[0m\u001b[32m | ⏱: \u001b[0m\u001b[1;32m2.\u001b[0m\u001b[32m09s \u001b[0m\n"
      ]
     },
     "metadata": {},
     "output_type": "display_data"
    },
    {
     "data": {
      "text/html": [
       "<pre style=\"white-space:pre;overflow-x:auto;line-height:normal;font-family:Menlo,'DejaVu Sans Mono',consolas,'Courier New',monospace\"><span style=\"color: #008000; text-decoration-color: #008000; font-weight: bold\">[</span><span style=\"color: #008000; text-decoration-color: #008000\">FETCH</span><span style=\"color: #008000; text-decoration-color: #008000; font-weight: bold\">]</span><span style=\"color: #008000; text-decoration-color: #008000\">... ↓ </span><span style=\"color: #008000; text-decoration-color: #008000; text-decoration: underline\">https://www.ctpost.com/news/coronavirus/article/...ds-2-746-new-COVID-cases-in-one-day-15726052.php</span><span style=\"color: #008000; text-decoration-color: #008000\">  |</span>\n",
       "<span style=\"color: #008000; text-decoration-color: #008000\">✓ | ⏱: </span><span style=\"color: #008000; text-decoration-color: #008000; font-weight: bold\">2.</span><span style=\"color: #008000; text-decoration-color: #008000\">07s </span>\n",
       "</pre>\n"
      ],
      "text/plain": [
       "\u001b[1;32m[\u001b[0m\u001b[32mFETCH\u001b[0m\u001b[1;32m]\u001b[0m\u001b[32m...\u001b[0m\u001b[32m ↓ \u001b[0m\u001b[4;32mhttps://www.ctpost.com/news/coronavirus/article/...ds-2-746-new-COVID-cases-in-one-day-15726052.php\u001b[0m\u001b[32m  |\u001b[0m\n",
       "\u001b[32m✓\u001b[0m\u001b[32m | ⏱: \u001b[0m\u001b[1;32m2.\u001b[0m\u001b[32m07s \u001b[0m\n"
      ]
     },
     "metadata": {},
     "output_type": "display_data"
    },
    {
     "data": {
      "text/html": [
       "<pre style=\"white-space:pre;overflow-x:auto;line-height:normal;font-family:Menlo,'DejaVu Sans Mono',consolas,'Courier New',monospace\"><span style=\"color: #008000; text-decoration-color: #008000; font-weight: bold\">[</span><span style=\"color: #008000; text-decoration-color: #008000\">SCRAPE</span><span style=\"color: #008000; text-decoration-color: #008000; font-weight: bold\">]</span><span style=\"color: #008000; text-decoration-color: #008000\">.. ◆ </span><span style=\"color: #008000; text-decoration-color: #008000; text-decoration: underline\">https://www.ctpost.com/news/coronavirus/article/...ds-2-746-new-COVID-cases-in-one-day-15726052.php</span><span style=\"color: #008000; text-decoration-color: #008000\">  |</span>\n",
       "<span style=\"color: #008000; text-decoration-color: #008000\">✓ | ⏱: </span><span style=\"color: #008000; text-decoration-color: #008000; font-weight: bold\">0.</span><span style=\"color: #008000; text-decoration-color: #008000\">09s </span>\n",
       "</pre>\n"
      ],
      "text/plain": [
       "\u001b[1;32m[\u001b[0m\u001b[32mSCRAPE\u001b[0m\u001b[1;32m]\u001b[0m\u001b[32m.. ◆ \u001b[0m\u001b[4;32mhttps://www.ctpost.com/news/coronavirus/article/...ds-2-746-new-COVID-cases-in-one-day-15726052.php\u001b[0m\u001b[32m  |\u001b[0m\n",
       "\u001b[32m✓\u001b[0m\u001b[32m | ⏱: \u001b[0m\u001b[1;32m0.\u001b[0m\u001b[32m09s \u001b[0m\n"
      ]
     },
     "metadata": {},
     "output_type": "display_data"
    },
    {
     "data": {
      "text/html": [
       "<pre style=\"white-space:pre;overflow-x:auto;line-height:normal;font-family:Menlo,'DejaVu Sans Mono',consolas,'Courier New',monospace\"><span style=\"color: #008080; text-decoration-color: #008080; font-weight: bold\">[</span><span style=\"color: #008080; text-decoration-color: #008080\">EXTRACT</span><span style=\"color: #008080; text-decoration-color: #008080; font-weight: bold\">]</span><span style=\"color: #008080; text-decoration-color: #008080\">. ■ Completed for </span><span style=\"color: #008080; text-decoration-color: #008080; text-decoration: underline\">https://www.ctpost.com/news/coronavirus/article/CT...</span><span style=\"color: #008080; text-decoration-color: #008080\"> | Time: </span><span style=\"color: #008080; text-decoration-color: #008080; font-weight: bold\">1.</span><span style=\"color: #008080; text-decoration-color: #008080\">6024573769973358s </span>\n",
       "</pre>\n"
      ],
      "text/plain": [
       "\u001b[1;36m[\u001b[0m\u001b[36mEXTRACT\u001b[0m\u001b[1;36m]\u001b[0m\u001b[36m. ■ Completed for \u001b[0m\u001b[4;36mhttps://www.ctpost.com/news/coronavirus/article/CT...\u001b[0m\u001b[36m | Time: \u001b[0m\u001b[1;36m1.\u001b[0m\u001b[36m6024573769973358s \u001b[0m\n"
      ]
     },
     "metadata": {},
     "output_type": "display_data"
    },
    {
     "data": {
      "text/html": [
       "<pre style=\"white-space:pre;overflow-x:auto;line-height:normal;font-family:Menlo,'DejaVu Sans Mono',consolas,'Courier New',monospace\"><span style=\"color: #008000; text-decoration-color: #008000; font-weight: bold\">[</span><span style=\"color: #008000; text-decoration-color: #008000\">COMPLETE</span><span style=\"color: #008000; text-decoration-color: #008000; font-weight: bold\">]</span><span style=\"color: #008000; text-decoration-color: #008000\"> ● </span><span style=\"color: #008000; text-decoration-color: #008000; text-decoration: underline\">https://www.ctpost.com/news/coronavirus/article/...ds-2-746-new-COVID-cases-in-one-day-15726052.php</span><span style=\"color: #008000; text-decoration-color: #008000\">  |</span>\n",
       "<span style=\"color: #008000; text-decoration-color: #008000\">✓ | ⏱: </span><span style=\"color: #008000; text-decoration-color: #008000; font-weight: bold\">3.</span><span style=\"color: #008000; text-decoration-color: #008000\">77s </span>\n",
       "</pre>\n"
      ],
      "text/plain": [
       "\u001b[1;32m[\u001b[0m\u001b[32mCOMPLETE\u001b[0m\u001b[1;32m]\u001b[0m\u001b[32m ● \u001b[0m\u001b[4;32mhttps://www.ctpost.com/news/coronavirus/article/...ds-2-746-new-COVID-cases-in-one-day-15726052.php\u001b[0m\u001b[32m  |\u001b[0m\n",
       "\u001b[32m✓\u001b[0m\u001b[32m | ⏱: \u001b[0m\u001b[1;32m3.\u001b[0m\u001b[32m77s \u001b[0m\n"
      ]
     },
     "metadata": {},
     "output_type": "display_data"
    }
   ],
   "source": [
    "extracted_data = await extract_data([w[\"link\"] for w in webpages_above_threshold], schema, llm_config)"
   ]
  },
  {
   "cell_type": "code",
   "execution_count": 16,
   "metadata": {},
   "outputs": [
    {
     "data": {
      "text/plain": [
       "[{'state': 'Arizona',\n",
       "  'date': '2020-09-28',\n",
       "  'download_count': 30000,\n",
       "  'grounding_quote': 'About 30 thousand people have installed the COVID Watch Arizona app on their mobile devices.',\n",
       "  'is_grounded': True,\n",
       "  'source': 'https://news.azpm.org/p/uanews/2020/9/28/180903-ua-covid-watch-app-is-now-on-30000-devices/#:~:text=About%2030%20thousand%20people%20have%20installed%20the%20COVID%20Watch%20Arizona%20app%20on%20their%20mobile%20devices.'},\n",
       " {'state': 'Alabama',\n",
       "  'date': '2020-11-09',\n",
       "  'download_count': 93000,\n",
       "  'grounding_quote': 'Over 93,000 people have already downloaded it.',\n",
       "  'is_grounded': True,\n",
       "  'source': 'https://www.rocketcitynow.com/video/news/local/alabama-guidesafe-covid-19-app/525-973f3a54-d4f6-4c9e-aa29-f6b7000ae470#:~:text=Over%2093%2C000%20people%20have%20already%20downloaded%20it.'},\n",
       " {'state': 'California',\n",
       "  'date': '2020-12-11',\n",
       "  'download_count': 4000000,\n",
       "  'grounding_quote': \"California's Department of Public Health (CDPH), which operates CA Notify, says it doesn't have exact statistics about the number of activations. But the department estimates that 4 million Californians may have activated the system on their phone as of Friday\",\n",
       "  'is_grounded': True,\n",
       "  'source': 'https://www.cnbc.com/2020/12/12/ca-notify-coronavirus-app-gets-4-million-activations-in-first-day.html#:~:text=California%27s%20Department%20of%20Public%20Health%20%28CDPH%29%2C%20which%20operates%20CA%20Notify%2C%20says%20it%20doesn%27t%20have%20exact%20statistics%20about%20the%20number%20of%20activations.%20But%20the%20department%20estimates%20that%204%20million%20Californians%20may%20have%20activated%20the%20system%20on%20their%20phone%20as%20of%20Friday'},\n",
       " {'state': 'Washington DC',\n",
       "  'date': '2020-12-11',\n",
       "  'download_count': 367000,\n",
       "  'grounding_quote': \"In Washington DC, 367,000 people have joined the system, which would amount to 53% of the district's population.\",\n",
       "  'is_grounded': True,\n",
       "  'source': 'https://www.cnbc.com/2020/12/12/ca-notify-coronavirus-app-gets-4-million-activations-in-first-day.html#:~:text=In%20Washington%20DC%2C%20367%2C000%20people%20have%20joined%20the%20system%2C%20which%20would%20amount%20to%2053%25%20of%20the%20district%27s%20population.'},\n",
       " {'state': 'Connecticut',\n",
       "  'date': '2020-11-13',\n",
       "  'download_count': 300000,\n",
       "  'grounding_quote': 'More than 300,000 people in Connecticut have signed up for a smartphone app designed to alert them if they’ve been in close proximity to someone who tests positive for COVID-19, the governor’s office said Friday.',\n",
       "  'is_grounded': True,\n",
       "  'source': 'https://www.ctpost.com/news/coronavirus/article/CT-records-2-746-new-COVID-cases-in-one-day-15726052.php#:~:text=More%20than%20300%2C000%20people%20in%20Connecticut%20have%20signed%20up%20for%20a%20smartphone%20app%20designed%20to%20alert%20them%20if%20they%E2%80%99ve%20been%20in%20close%20proximity%20to%20someone%20who%20tests%20positive%20for%20COVID-19%2C%20the%20governor%E2%80%99s%20office%20said%20Friday.'}]"
      ]
     },
     "execution_count": 16,
     "metadata": {},
     "output_type": "execute_result"
    }
   ],
   "source": [
    "extracted_data"
   ]
  },
  {
   "cell_type": "markdown",
   "metadata": {},
   "source": [
    "# Quality Control"
   ]
  },
  {
   "cell_type": "code",
   "execution_count": 18,
   "metadata": {},
   "outputs": [],
   "source": [
    "issues = control_quality(extracted_data, dataset_description, llm_config)"
   ]
  },
  {
   "cell_type": "code",
   "execution_count": 19,
   "metadata": {},
   "outputs": [
    {
     "data": {
      "text/plain": [
       "{'0': 'NA',\n",
       " '1': 'NA',\n",
       " '2': 'The quote refers to \"activations\" rather than explicit \"downloads,\" which may not be equivalent; also, the estimate is not an exact count and is described as \"may have activated,\" introducing uncertainty.',\n",
       " '3': 'The quote refers to people who have \"joined the system,\" which may not be strictly equivalent to \"downloads\"; also, the percentage (53%) seems high and may warrant verification against DC\\'s population at the time.',\n",
       " '4': 'The quote says \"more than 300,000\" while the download_count is exactly 300,000, so the number may be a lower bound rather than an exact count.'}"
      ]
     },
     "execution_count": 19,
     "metadata": {},
     "output_type": "execute_result"
    }
   ],
   "source": [
    "issues"
   ]
  }
 ],
 "metadata": {
  "kernelspec": {
   "display_name": "web-data-collection",
   "language": "python",
   "name": "python3"
  },
  "language_info": {
   "codemirror_mode": {
    "name": "ipython",
    "version": 3
   },
   "file_extension": ".py",
   "mimetype": "text/x-python",
   "name": "python",
   "nbconvert_exporter": "python",
   "pygments_lexer": "ipython3",
   "version": "3.12.11"
  }
 },
 "nbformat": 4,
 "nbformat_minor": 2
}
