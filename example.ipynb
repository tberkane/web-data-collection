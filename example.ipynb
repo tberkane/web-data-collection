{
 "cells": [
  {
   "cell_type": "code",
   "execution_count": 6,
   "metadata": {},
   "outputs": [
    {
     "name": "stdout",
     "output_type": "stream",
     "text": [
      "The autoreload extension is already loaded. To reload it, use:\n",
      "  %reload_ext autoreload\n"
     ]
    }
   ],
   "source": [
    "%load_ext autoreload\n",
    "%autoreload 2\n",
    "\n",
    "import os\n",
    "from dotenv import load_dotenv\n",
    "\n",
    "load_dotenv()\n",
    "\n",
    "import logging\n",
    "logging.basicConfig(level=logging.WARNING, format='%(asctime)s - %(name)s - %(levelname)s - %(message)s')\n",
    "logging.getLogger('web_data_collection').setLevel(logging.DEBUG)\n",
    "\n",
    "from web_data_collection import LLMConfig, generate_search_queries, retrieve_webpages, retrieve_webpages_streaming, BrightDataConfig, Reranker, generate_extraction_schema, extract_data, control_quality"
   ]
  },
  {
   "cell_type": "code",
   "execution_count": 2,
   "metadata": {},
   "outputs": [],
   "source": [
    "openai_api_key = os.environ.get(\"OPENAI_API_KEY\")\n",
    "llm_config = LLMConfig(api_key=openai_api_key, model=\"openai/gpt-4.1\", temperature=0.2)\n",
    "\n",
    "bright_data_api_key = os.environ.get(\"BRIGHT_DATA_API_KEY\")\n",
    "bright_data_zone = os.environ.get(\"BRIGHT_DATA_ZONE\")\n",
    "bright_data_config = BrightDataConfig(api_key=bright_data_api_key, zone=bright_data_zone)"
   ]
  },
  {
   "cell_type": "code",
   "execution_count": 3,
   "metadata": {},
   "outputs": [],
   "source": [
    "dataset_description = \"Reports of download counts of COVID contact tracing apps in different U.S. states.\"\n",
    "# variables = {\"state_and_app_name\": [\"Alabama GuideSafe\"]}\n",
    "variables = {\"state_and_app_name\": [\"Alabama GuideSafe\", \"Arizona Covid Watch\", \"California Covid Notify\", \"Colorado Exposure Notifications\", \"Connecticut Covid Alert\"]}\n",
    "variable_names = list(variables.keys())"
   ]
  },
  {
   "cell_type": "markdown",
   "metadata": {},
   "source": [
    "# Search Query Generation"
   ]
  },
  {
   "cell_type": "code",
   "execution_count": 4,
   "metadata": {},
   "outputs": [
    {
     "name": "stdout",
     "output_type": "stream",
     "text": [
      "download count of {state_and_app_name} COVID contact tracing app\n",
      "{state_and_app_name} COVID contact tracing app downloads\n",
      "{state_and_app_name} COVID app number of downloads\n"
     ]
    }
   ],
   "source": [
    "num_queries = 3\n",
    "\n",
    "query_templates = generate_search_queries(dataset_description, num_queries, llm_config, variable_names)\n",
    "for query_template in query_templates:\n",
    "    print(query_template)"
   ]
  },
  {
   "cell_type": "markdown",
   "metadata": {},
   "source": [
    "# Web Page Retrieval"
   ]
  },
  {
   "cell_type": "code",
   "execution_count": null,
   "metadata": {},
   "outputs": [],
   "source": []
  },
  {
   "cell_type": "code",
   "execution_count": null,
   "metadata": {},
   "outputs": [
    {
     "name": "stderr",
     "output_type": "stream",
     "text": [
      "2025-07-09 13:33:59,530 - web_data_collection.webpage_retrieval - DEBUG - Expanded 3 templates into 15 queries\n",
      "2025-07-09 13:33:59,531 - web_data_collection.webpage_retrieval - DEBUG - Processing query: download count of Alabama GuideSafe COVID contact tracing app, variable value combo: ('Alabama GuideSafe',)\n",
      "2025-07-09 13:33:59,531 - web_data_collection.webpage_retrieval - DEBUG - Processing date chunk: None to None\n",
      "2025-07-09 13:33:59,532 - web_data_collection.webpage_retrieval - DEBUG - Making request 1/1\n",
      "2025-07-09 13:34:02,756 - web_data_collection.webpage_retrieval - DEBUG - {'general': {'search_engine': 'google', 'query': 'download count of Alabama GuideSafe COVID contact tracing app', 'results_cnt': 1320, 'search_time': 0.28, 'language': 'en-UY', 'country': 'Uruguay', 'country_code': 'UY', 'location': 'United States', 'gl': 'UY', 'mobile': False, 'basic_view': False, 'search_type': 'text', 'page_title': 'download count of Alabama GuideSafe COVID contact tracing app - Google Search', 'timestamp': '2025-07-09T17:34:02.597Z'}, 'input': {'original_url': 'https://www.google.com/search?q=download+count+of+Alabama+GuideSafe+COVID+contact+tracing+app&start=0&brd_json=1&num=20', 'request_id': 'hl_a84cb5f7_8ytozqsfn4p'}, 'navigation': [{'title': 'News', 'href': 'https://www.google.com/search?num=20&sca_esv=73a6d3bdeda9064e&hl=en&q=download+count+of+Alabama+GuideSafe+COVID+contact+tracing+app&tbm=nws&source=lnms&fbs=AIIjpHxU7SXXniUZfeShr2fp4giZrjP_Cx0LI1Ytb_FGcOviEreERTNAkkP8Y6EXltYTGWs9RGaEMfZ2dZFFrbmM-rnqnRIo3vt2ixIz0IR9QbNR5PBHOTHpUGNTzikgVsDNOBo3yl5pZISSgh3fKHJzluyvrIMfeWdLZcaAOjmJXeOBBtUu0xfYOQlx3n7HL_4z5a3E5cO00AgbAGyiO1bjeyvWtOL9lQ&sa=X&ved=2ahUKEwi68Yrcp7COAxVzsJUCHQUiMJAQ0pQJKAF6BAgUEAE'}, {'title': 'Videos', 'href': 'https://www.google.com/search?num=20&sca_esv=73a6d3bdeda9064e&hl=en&q=download+count+of+Alabama+GuideSafe+COVID+contact+tracing+app&udm=7&fbs=AIIjpHxU7SXXniUZfeShr2fp4giZrjP_Cx0LI1Ytb_FGcOviEreERTNAkkP8Y6EXltYTGWs9RGaEMfZ2dZFFrbmM-rnqnRIo3vt2ixIz0IR9QbNR5PBHOTHpUGNTzikgVsDNOBo3yl5pZISSgh3fKHJzluyvrIMfeWdLZcaAOjmJXeOBBtUu0xfYOQlx3n7HL_4z5a3E5cO00AgbAGyiO1bjeyvWtOL9lQ&sa=X&ved=2ahUKEwi68Yrcp7COAxVzsJUCHQUiMJAQtKgLKAJ6BAgTEAE'}, {'title': 'Images', 'href': 'https://www.google.com/search?num=20&sca_esv=73a6d3bdeda9064e&hl=en&q=download+count+of+Alabama+GuideSafe+COVID+contact+tracing+app&udm=2&fbs=AIIjpHxU7SXXniUZfeShr2fp4giZrjP_Cx0LI1Ytb_FGcOviEreERTNAkkP8Y6EXltYTGWs9RGaEMfZ2dZFFrbmM-rnqnRIo3vt2ixIz0IR9QbNR5PBHOTHpUGNTzikgVsDNOBo3yl5pZISSgh3fKHJzluyvrIMfeWdLZcaAOjmJXeOBBtUu0xfYOQlx3n7HL_4z5a3E5cO00AgbAGyiO1bjeyvWtOL9lQ&sa=X&ved=2ahUKEwi68Yrcp7COAxVzsJUCHQUiMJAQtKgLKAN6BAgQEAE'}, {'title': 'Short videos', 'href': 'https://www.google.com/search?num=20&sca_esv=73a6d3bdeda9064e&hl=en&q=download+count+of+Alabama+GuideSafe+COVID+contact+tracing+app&udm=39&fbs=AIIjpHxU7SXXniUZfeShr2fp4giZrjP_Cx0LI1Ytb_FGcOviEreERTNAkkP8Y6EXltYTGWs9RGaEMfZ2dZFFrbmM-rnqnRIo3vt2ixIz0IR9QbNR5PBHOTHpUGNTzikgVsDNOBo3yl5pZISSgh3fKHJzluyvrIMfeWdLZcaAOjmJXeOBBtUu0xfYOQlx3n7HL_4z5a3E5cO00AgbAGyiO1bjeyvWtOL9lQ&sa=X&ved=2ahUKEwi68Yrcp7COAxVzsJUCHQUiMJAQs6gLKAR6BAgREAE'}, {'title': 'Forums', 'href': 'https://www.google.com/search?num=20&sca_esv=73a6d3bdeda9064e&hl=en&q=download+count+of+Alabama+GuideSafe+COVID+contact+tracing+app&udm=18&fbs=AIIjpHxU7SXXniUZfeShr2fp4giZrjP_Cx0LI1Ytb_FGcOviEreERTNAkkP8Y6EXltYTGWs9RGaEMfZ2dZFFrbmM-rnqnRIo3vt2ixIz0IR9QbNR5PBHOTHpUGNTzikgVsDNOBo3yl5pZISSgh3fKHJzluyvrIMfeWdLZcaAOjmJXeOBBtUu0xfYOQlx3n7HL_4z5a3E5cO00AgbAGyiO1bjeyvWtOL9lQ&sa=X&ved=2ahUKEwi68Yrcp7COAxVzsJUCHQUiMJAQs6gLKAV6BAgSEAE'}, {'title': 'Web', 'href': 'https://www.google.com/search?num=20&sca_esv=73a6d3bdeda9064e&hl=en&q=download+count+of+Alabama+GuideSafe+COVID+contact+tracing+app&udm=14&fbs=AIIjpHxU7SXXniUZfeShr2fp4giZrjP_Cx0LI1Ytb_FGcOviEreERTNAkkP8Y6EXltYTGWs9RGaEMfZ2dZFFrbmM-rnqnRIo3vt2ixIz0IR9QbNR5PBHOTHpUGNTzikgVsDNOBo3yl5pZISSgh3fKHJzluyvrIMfeWdLZcaAOjmJXeOBBtUu0xfYOQlx3n7HL_4z5a3E5cO00AgbAGyiO1bjeyvWtOL9lQ&sa=X&ved=2ahUKEwi68Yrcp7COAxVzsJUCHQUiMJAQs6gLKAZ6BAgOEAE'}], 'organic': [{'link': 'https://www.guidesafe.org/exposure-notification-app/', 'display_link': 'https://www.guidesafe.org › exposure-notification-app', 'title': \"Alabama's Exposure Notification App\", 'description': \"Here's How Alabama's GuideSafe™ Exposure Notification App Works: ... Step one: Download the GuideSafe™ Exposure Notification App from the App Store or Google Play ...\", 'rank': 1, 'global_rank': 1}, {'link': 'https://sites.uab.edu/guidesafebackup2/exposure-notification-app/', 'display_link': 'https://sites.uab.edu › guidesafebackup2 › exposure-not...', 'title': 'Exposure Notification App | GuideSafe™', 'description': 'Step one: Download the GuideSafe™️ Exposure Notification App from the App Store or Google Play, and then enabling Bluetooth. Step two: If you have tested ...', 'rank': 2, 'global_rank': 2}, {'link': 'https://www.guidesafe.org/', 'display_link': 'https://www.guidesafe.org', 'title': 'GuideSafe™ | The tools and resources to help fight COVID-19 ...', 'description': 'Protect Your Privacy. Protect Your Life. Stop the Spread of COVID in Alabama. Get the App. Download now.', 'extensions': [{'type': 'missing', 'text': 'tracing', 'rank': 1}, {'type': 'must_include', 'text': 'tracing', 'link': 'https://www.google.com/search?num=20&sca_esv=73a6d3bdeda9064e&hl=en&q=download+count+of+Alabama+GuideSafe+COVID+contact+%22tracing%22+app&sa=X&ved=2ahUKEwi68Yrcp7COAxVzsJUCHQUiMJAQ5t4CegQIJRAB', 'rank': 2}], 'rank': 3, 'global_rank': 3}, {'link': 'https://www.al.com/news/2020/11/alabamas-covid-tracing-app-joins-nationwide-network.html', 'display_link': 'https://www.al.com › news › 2020/11 › alabamas-covid-t...', 'title': \"Alabama's COVID tracing app joins nationwide network\", 'description': \"Alabama's GuideSafe exposure notification app is now part of a nationwide network to help warn users if they may have been exposed to someone ...\", 'extensions': [{'inline': True, 'type': 'text', 'text': 'Nov 19, 2020', 'rank': 1}], 'rank': 4, 'global_rank': 4}, {'link': 'https://www.cbs42.com/news/alabamas-contact-tracing-app-expands-capabilities-still-very-few-have-downloaded-it/', 'display_link': 'https://www.cbs42.com › news › alabamas-contact-traci...', 'title': \"Alabama's contact tracing app expands capabilities, still ...\", 'description': \"When you download GuideSafe, it never asks for access to your contacts or even your location. It's all done through anonymous Bluetooth coding.\", 'extensions': [{'inline': True, 'type': 'text', 'text': 'Nov 23, 2020', 'rank': 1}], 'rank': 5, 'global_rank': 5}, {'link': 'https://pmc.ncbi.nlm.nih.gov/articles/PMC8194594/', 'display_link': 'https://pmc.ncbi.nlm.nih.gov › articles › PMC8194594', 'title': 'Usability, inclusivity, and content evaluation of COVID-19 ...', 'description': 'We evaluated the usability of mobile COVID-19 contact tracing apps, especially for individuals with barriers to communication and limited digital literacy ...', 'extensions': [{'inline': True, 'type': 'text', 'text': 'by SO Blacklow', 'rank': 1}, {'inline': True, 'type': 'text', 'text': '2021', 'rank': 2}, {'inline': True, 'type': 'text', 'text': 'Cited by 34', 'rank': 3}], 'rank': 6, 'global_rank': 6}, {'link': 'https://www.montgomeryadvertiser.com/story/news/2020/08/17/alabama-releases-guidesafe-coronvirus-contact-tracing-app-general-public/5599036002/', 'display_link': 'https://www.montgomeryadvertiser.com › 2020/08/17', 'title': 'Alabama rolls out contact tracing app piloted at colleges', 'description': 'Developers of a smartphone app designed to contact trace coronavirus exposures are making the program available to the Alabama public after ...', 'extensions': [{'inline': True, 'type': 'text', 'text': 'Aug 17, 2020', 'rank': 1}], 'rank': 7, 'global_rank': 7}, {'link': 'https://www.frontiersin.org/journals/digital-health/articles/10.3389/fdgth.2022.926683/full', 'display_link': 'https://www.frontiersin.org › fdgth.2022.926683 › full', 'title': 'User perceptions about sharing exposure notification ...', 'description': 'Statistics on smartphone users in the state that can handle the (GuideSafe™) app suggest that there are just under 1.9 million households in ( ...', 'extensions': [{'inline': True, 'type': 'text', 'text': 'by B Schooley', 'rank': 1}, {'inline': True, 'type': 'text', 'text': '2022', 'rank': 2}], 'rank': 8, 'global_rank': 8}, {'link': 'https://www.al.com/news/2020/08/alabama-launches-statewide-coronavirus-tracking-app.html', 'display_link': 'https://www.al.com › news › 2020/08 › alabama-launche...', 'title': 'Alabama launches statewide coronavirus tracking app', 'description': 'The GuideSafe Exposure Notification App is free to download and available to all Alabama residents with iPhone and Android devices. It ...', 'extensions': [{'inline': True, 'type': 'text', 'text': 'Aug 17, 2020', 'rank': 1}], 'rank': 9, 'global_rank': 9}, {'link': 'https://www.vox.com/recode/2020/8/6/21357098/apple-google-exposure-notification-virginia-contact-tracing', 'display_link': 'https://www.vox.com › recode › apple-google-exposur...', 'title': 'The Apple-Google Covid-19 contact tracing tool is now ... - Vox', 'description': 'Experts estimate that at least 60 percent of the population needs to use a contact tracing app in order for it to be effective — a tough number ...', 'extensions': [{'inline': True, 'type': 'text', 'text': 'Aug 6, 2020', 'rank': 1}], 'rank': 10, 'global_rank': 10}, {'link': 'https://ijoc.org/index.php/ijoc/article/viewFile/19621/4076', 'display_link': 'https://ijoc.org › ijoc › article › viewFile', 'title': 'Contact-Tracing Apps as Boundary Objects of Pandemic ...', 'description': 'Among dozens of statewide contact-tracing apps, we selected three—CA Notify (California), COVID Alert NY (New York), and GuideSafe (Alabama)—to ...', 'extensions': [{'inline': True, 'type': 'text', 'text': 'by E Jang', 'rank': 1}, {'inline': True, 'type': 'text', 'text': '2023', 'rank': 2}, {'inline': True, 'type': 'text', 'text': 'Cited by 1', 'rank': 3}], 'rank': 11, 'global_rank': 11}, {'link': 'https://www.researchgate.net/publication/354050541_A_survey_of_COVID-19_contact-tracing_apps', 'display_link': 'https://www.researchgate.net › ... › COVID-19', 'title': '(PDF) A survey of COVID-19 contact-tracing apps', 'description': 'In this work, we survey the current contact-tracing apps and organize them based on underlying technologies such as Bluetooth, Wi-Fi, GPS, geofencing, and Quick ...', 'rank': 12, 'global_rank': 12}, {'link': 'https://pmc.ncbi.nlm.nih.gov/articles/PMC8379000/', 'display_link': 'https://pmc.ncbi.nlm.nih.gov › articles › PMC8379000', 'title': 'A survey of COVID-19 contact-tracing apps - PMC', 'description': 'We survey the current contact-tracing apps and organize them based on underlying technologies such as Bluetooth, Wi-Fi, GPS, geofencing, and Quick Response (QR ...', 'extensions': [{'inline': True, 'type': 'text', 'text': 'by N Min-Allah', 'rank': 1}, {'inline': True, 'type': 'text', 'text': '2021', 'rank': 2}, {'inline': True, 'type': 'text', 'text': 'Cited by 52', 'rank': 3}], 'rank': 13, 'global_rank': 13}, {'link': 'https://www.technologyreview.com/2020/12/14/1014426/covid-california-contact-tracing-app-america-states/', 'display_link': 'https://www.technologyreview.com › 2020/12/14 › covi...', 'title': \"Contact tracing apps now cover nearly half of America. It's ...\", 'description': \"Almost half of all Americans now live somewhere covered by an app that will warn them if they've been close to someone with covid-19.\", 'extensions': [{'inline': True, 'type': 'text', 'text': 'Dec 14, 2020', 'rank': 1}], 'rank': 14, 'global_rank': 14}, {'link': 'https://www.ruralhealthinfo.org/toolkits/emergency-preparedness/case-studies/infectious-disease/university-alabama-birmingham', 'display_link': 'https://www.ruralhealthinfo.org › infectious-disease › u...', 'title': 'COVID-19 Symptom Tracking and Exposure Notification ...', 'description': 'The third project was the GuideSafe Exposure Notification App, a resource available for download on smartphones for Alabama residents. This ...', 'extensions': [{'inline': True, 'type': 'text', 'text': 'Nov 14, 2022', 'rank': 1}], 'rank': 15, 'global_rank': 15}, {'link': 'https://facultysenate.ua.edu/guidesafe-contact-notification-app/', 'display_link': 'https://facultysenate.ua.edu › guidesafe-contact-notificat...', 'title': 'GuideSafe Contact Notification App - Faculty Senate', 'description': 'The GuideSafe app is a subscriber of the logs kept by the Google/Apple operating systems. It is one of the first contact tracing apps to use the infrastructure.', 'extensions': [{'inline': True, 'type': 'text', 'text': 'Aug 22, 2020', 'rank': 1}, {'type': 'missing', 'text': 'download', 'rank': 2}, {'type': 'must_include', 'text': 'download', 'link': 'https://www.google.com/search?num=20&sca_esv=73a6d3bdeda9064e&hl=en&q=%22download%22+count+of+Alabama+GuideSafe+COVID+contact+tracing+app&sa=X&ved=2ahUKEwi68Yrcp7COAxVzsJUCHQUiMJAQ5t4CegQIQBAB', 'rank': 3}], 'rank': 16, 'global_rank': 16}, {'link': 'https://ink.library.smu.edu.sg/cgi/viewcontent.cgi?article=7440&context=sis_research', 'display_link': 'https://ink.library.smu.edu.sg › cgi › viewcontent', 'title': 'Security and privacy review of contact tracing mobile apps', 'description': 'The download count may not be an accurate reflection of the “take-up/penetration” rate, which is measured by the total number of downloads against the total ...', 'extensions': [{'inline': True, 'type': 'text', 'text': 'by WY ANG', 'rank': 1}, {'inline': True, 'type': 'text', 'text': '2021', 'rank': 2}, {'inline': True, 'type': 'text', 'text': 'Cited by 13', 'rank': 3}], 'rank': 17, 'global_rank': 17}, {'link': 'https://www.wtvy.com/2020/08/18/alabamians-urged-to-download-covid-19-exposure-app/', 'display_link': 'https://www.wtvy.com › 2020/08/18 › alabamians-urge...', 'title': 'Alabamians urged to download COVID-19 exposure app', 'description': 'The public now can access an app aimed at alerting people if they were possibly exposed to COVID-19.', 'extensions': [{'inline': True, 'type': 'text', 'text': 'Aug 18, 2020', 'rank': 1}, {'type': 'missing', 'text': 'tracing', 'rank': 2}, {'type': 'must_include', 'text': 'tracing', 'link': 'https://www.google.com/search?num=20&sca_esv=73a6d3bdeda9064e&hl=en&q=download+count+of+Alabama+GuideSafe+COVID+contact+%22tracing%22+app&sa=X&ved=2ahUKEwi68Yrcp7COAxVzsJUCHQUiMJAQ5t4CegQIQRAB', 'rank': 3}], 'rank': 18, 'global_rank': 18}, {'link': 'https://www.washingtonpost.com/technology/2020/08/17/coronavirus-exposure-notification-app/', 'display_link': 'https://www.washingtonpost.com › ... › Help Desk', 'title': \"I downloaded America's first coronavirus exposure app. ...\", 'description': 'COVIDWISE uses Bluetooth signals to determine if you might have come into contact with a person who tests positive for the novel coronavirus.', 'extensions': [{'inline': True, 'type': 'text', 'text': 'Aug 18, 2020', 'rank': 1}], 'rank': 19, 'global_rank': 19}, {'link': 'https://papers.ssrn.com/sol3/Delivery.cfm/SSRN_ID3807965_code1308315.pdf?abstractid=3693783&mirid=1', 'display_link': 'https://papers.ssrn.com › sol3 › Delivery.cfm › S...', 'title': 'Public perceptions towards COVID-19 Contact Tracing ...', 'description': \"One online survey found that 72% of participants would be at least somewhat likely to download a CTA if data was 'protected perfectly' (Simko et al., 2020).\", 'rank': 20, 'global_rank': 20}], 'pagination': {'pages': [{'page': 2, 'start': 20, 'link': 'https://www.google.com/search?q=download+count+of+Alabama+GuideSafe+COVID+contact+tracing+app&num=20&sca_esv=73a6d3bdeda9064e&hl=en&ei=CKhuaLrNOvPg1sQPhcTAgQk&start=20&sa=N&sstk=Ac65TH7g3mh1djN5NBdPPpSjkiX6lxb9frzI6QYAnGC0sNue69bK_pZd2uvVYnX-dPy5kh1FfHDdDDGI8EZjsNwRAsv7seJjWclnrw&ved=2ahUKEwi68Yrcp7COAxVzsJUCHQUiMJAQ8tMDegQIChAE'}, {'page': 3, 'start': 40, 'link': 'https://www.google.com/search?q=download+count+of+Alabama+GuideSafe+COVID+contact+tracing+app&num=20&sca_esv=73a6d3bdeda9064e&hl=en&ei=CKhuaLrNOvPg1sQPhcTAgQk&start=40&sa=N&sstk=Ac65TH7g3mh1djN5NBdPPpSjkiX6lxb9frzI6QYAnGC0sNue69bK_pZd2uvVYnX-dPy5kh1FfHDdDDGI8EZjsNwRAsv7seJjWclnrw&ved=2ahUKEwi68Yrcp7COAxVzsJUCHQUiMJAQ8tMDegQIChAG'}, {'page': 4, 'start': 60, 'link': 'https://www.google.com/search?q=download+count+of+Alabama+GuideSafe+COVID+contact+tracing+app&num=20&sca_esv=73a6d3bdeda9064e&hl=en&ei=CKhuaLrNOvPg1sQPhcTAgQk&start=60&sa=N&sstk=Ac65TH7g3mh1djN5NBdPPpSjkiX6lxb9frzI6QYAnGC0sNue69bK_pZd2uvVYnX-dPy5kh1FfHDdDDGI8EZjsNwRAsv7seJjWclnrw&ved=2ahUKEwi68Yrcp7COAxVzsJUCHQUiMJAQ8tMDegQIChAI'}, {'page': 5, 'start': 80, 'link': 'https://www.google.com/search?q=download+count+of+Alabama+GuideSafe+COVID+contact+tracing+app&num=20&sca_esv=73a6d3bdeda9064e&hl=en&ei=CKhuaLrNOvPg1sQPhcTAgQk&start=80&sa=N&sstk=Ac65TH7g3mh1djN5NBdPPpSjkiX6lxb9frzI6QYAnGC0sNue69bK_pZd2uvVYnX-dPy5kh1FfHDdDDGI8EZjsNwRAsv7seJjWclnrw&ved=2ahUKEwi68Yrcp7COAxVzsJUCHQUiMJAQ8tMDegQIChAK'}, {'page': 6, 'start': 100, 'link': 'https://www.google.com/search?q=download+count+of+Alabama+GuideSafe+COVID+contact+tracing+app&num=20&sca_esv=73a6d3bdeda9064e&hl=en&ei=CKhuaLrNOvPg1sQPhcTAgQk&start=100&sa=N&sstk=Ac65TH7g3mh1djN5NBdPPpSjkiX6lxb9frzI6QYAnGC0sNue69bK_pZd2uvVYnX-dPy5kh1FfHDdDDGI8EZjsNwRAsv7seJjWclnrw&ved=2ahUKEwi68Yrcp7COAxVzsJUCHQUiMJAQ8tMDegQIChAM'}, {'page': 7, 'start': 120, 'link': 'https://www.google.com/search?q=download+count+of+Alabama+GuideSafe+COVID+contact+tracing+app&num=20&sca_esv=73a6d3bdeda9064e&hl=en&ei=CKhuaLrNOvPg1sQPhcTAgQk&start=120&sa=N&sstk=Ac65TH7g3mh1djN5NBdPPpSjkiX6lxb9frzI6QYAnGC0sNue69bK_pZd2uvVYnX-dPy5kh1FfHDdDDGI8EZjsNwRAsv7seJjWclnrw&ved=2ahUKEwi68Yrcp7COAxVzsJUCHQUiMJAQ8tMDegQIChAO'}, {'page': 8, 'start': 140, 'link': 'https://www.google.com/search?q=download+count+of+Alabama+GuideSafe+COVID+contact+tracing+app&num=20&sca_esv=73a6d3bdeda9064e&hl=en&ei=CKhuaLrNOvPg1sQPhcTAgQk&start=140&sa=N&sstk=Ac65TH7g3mh1djN5NBdPPpSjkiX6lxb9frzI6QYAnGC0sNue69bK_pZd2uvVYnX-dPy5kh1FfHDdDDGI8EZjsNwRAsv7seJjWclnrw&ved=2ahUKEwi68Yrcp7COAxVzsJUCHQUiMJAQ8tMDegQIChAQ'}, {'page': 9, 'start': 160, 'link': 'https://www.google.com/search?q=download+count+of+Alabama+GuideSafe+COVID+contact+tracing+app&num=20&sca_esv=73a6d3bdeda9064e&hl=en&ei=CKhuaLrNOvPg1sQPhcTAgQk&start=160&sa=N&sstk=Ac65TH7g3mh1djN5NBdPPpSjkiX6lxb9frzI6QYAnGC0sNue69bK_pZd2uvVYnX-dPy5kh1FfHDdDDGI8EZjsNwRAsv7seJjWclnrw&ved=2ahUKEwi68Yrcp7COAxVzsJUCHQUiMJAQ8tMDegQIChAS'}], 'current_page': 1, 'next_page': 2, 'next_page_start': 20, 'next_page_link': 'https://www.google.com/search?q=download+count+of+Alabama+GuideSafe+COVID+contact+tracing+app&num=20&sca_esv=73a6d3bdeda9064e&hl=en&ei=CKhuaLrNOvPg1sQPhcTAgQk&start=20&sa=N&sstk=Ac65TH7g3mh1djN5NBdPPpSjkiX6lxb9frzI6QYAnGC0sNue69bK_pZd2uvVYnX-dPy5kh1FfHDdDDGI8EZjsNwRAsv7seJjWclnrw&ved=2ahUKEwi68Yrcp7COAxVzsJUCHQUiMJAQ8tMDegQIChAE'}, 'ai_overview': {'error': 'AI Overview did not appear on original SERP. Please ensure that you are using the `brd_ai_overview=1` query parameter (https://docs.brightdata.com/scraping-automation/serp-api/query-parameters/google#ai-overview), and that your query is relevant for triggering an AI Overview.'}}\n",
      "2025-07-09 13:34:02,759 - web_data_collection.webpage_retrieval - DEBUG - Retrieved and yielded 20 results from request 1\n",
      "2025-07-09 13:34:02,760 - web_data_collection.webpage_retrieval - DEBUG - Processing query: download count of Arizona Covid Watch COVID contact tracing app, variable value combo: ('Arizona Covid Watch',)\n",
      "2025-07-09 13:34:02,761 - web_data_collection.webpage_retrieval - DEBUG - Processing date chunk: None to None\n",
      "2025-07-09 13:34:02,762 - web_data_collection.webpage_retrieval - DEBUG - Making request 1/1\n"
     ]
    },
    {
     "name": "stdout",
     "output_type": "stream",
     "text": [
      "(('Alabama GuideSafe',), 'download count of Alabama GuideSafe COVID contact tracing app', {'link': 'https://www.guidesafe.org/exposure-notification-app/', 'title': \"Alabama's Exposure Notification App\", 'description': \"Here's How Alabama's GuideSafe™ Exposure Notification App Works: ... Step one: Download the GuideSafe™ Exposure Notification App from the App Store or Google Play ...\"})\n",
      "(('Alabama GuideSafe',), 'download count of Alabama GuideSafe COVID contact tracing app', {'link': 'https://sites.uab.edu/guidesafebackup2/exposure-notification-app/', 'title': 'Exposure Notification App | GuideSafe™', 'description': 'Step one: Download the GuideSafe™️ Exposure Notification App from the App Store or Google Play, and then enabling Bluetooth. Step two: If you have tested ...'})\n",
      "(('Alabama GuideSafe',), 'download count of Alabama GuideSafe COVID contact tracing app', {'link': 'https://www.guidesafe.org/', 'title': 'GuideSafe™ | The tools and resources to help fight COVID-19 ...', 'description': 'Protect Your Privacy. Protect Your Life. Stop the Spread of COVID in Alabama. Get the App. Download now.'})\n",
      "(('Alabama GuideSafe',), 'download count of Alabama GuideSafe COVID contact tracing app', {'link': 'https://www.al.com/news/2020/11/alabamas-covid-tracing-app-joins-nationwide-network.html', 'title': \"Alabama's COVID tracing app joins nationwide network\", 'description': \"Alabama's GuideSafe exposure notification app is now part of a nationwide network to help warn users if they may have been exposed to someone ...\"})\n",
      "(('Alabama GuideSafe',), 'download count of Alabama GuideSafe COVID contact tracing app', {'link': 'https://www.cbs42.com/news/alabamas-contact-tracing-app-expands-capabilities-still-very-few-have-downloaded-it/', 'title': \"Alabama's contact tracing app expands capabilities, still ...\", 'description': \"When you download GuideSafe, it never asks for access to your contacts or even your location. It's all done through anonymous Bluetooth coding.\"})\n",
      "(('Alabama GuideSafe',), 'download count of Alabama GuideSafe COVID contact tracing app', {'link': 'https://pmc.ncbi.nlm.nih.gov/articles/PMC8194594/', 'title': 'Usability, inclusivity, and content evaluation of COVID-19 ...', 'description': 'We evaluated the usability of mobile COVID-19 contact tracing apps, especially for individuals with barriers to communication and limited digital literacy ...'})\n",
      "(('Alabama GuideSafe',), 'download count of Alabama GuideSafe COVID contact tracing app', {'link': 'https://www.montgomeryadvertiser.com/story/news/2020/08/17/alabama-releases-guidesafe-coronvirus-contact-tracing-app-general-public/5599036002/', 'title': 'Alabama rolls out contact tracing app piloted at colleges', 'description': 'Developers of a smartphone app designed to contact trace coronavirus exposures are making the program available to the Alabama public after ...'})\n",
      "(('Alabama GuideSafe',), 'download count of Alabama GuideSafe COVID contact tracing app', {'link': 'https://www.frontiersin.org/journals/digital-health/articles/10.3389/fdgth.2022.926683/full', 'title': 'User perceptions about sharing exposure notification ...', 'description': 'Statistics on smartphone users in the state that can handle the (GuideSafe™) app suggest that there are just under 1.9 million households in ( ...'})\n",
      "(('Alabama GuideSafe',), 'download count of Alabama GuideSafe COVID contact tracing app', {'link': 'https://www.al.com/news/2020/08/alabama-launches-statewide-coronavirus-tracking-app.html', 'title': 'Alabama launches statewide coronavirus tracking app', 'description': 'The GuideSafe Exposure Notification App is free to download and available to all Alabama residents with iPhone and Android devices. It ...'})\n",
      "(('Alabama GuideSafe',), 'download count of Alabama GuideSafe COVID contact tracing app', {'link': 'https://www.vox.com/recode/2020/8/6/21357098/apple-google-exposure-notification-virginia-contact-tracing', 'title': 'The Apple-Google Covid-19 contact tracing tool is now ... - Vox', 'description': 'Experts estimate that at least 60 percent of the population needs to use a contact tracing app in order for it to be effective — a tough number ...'})\n",
      "(('Alabama GuideSafe',), 'download count of Alabama GuideSafe COVID contact tracing app', {'link': 'https://ijoc.org/index.php/ijoc/article/viewFile/19621/4076', 'title': 'Contact-Tracing Apps as Boundary Objects of Pandemic ...', 'description': 'Among dozens of statewide contact-tracing apps, we selected three—CA Notify (California), COVID Alert NY (New York), and GuideSafe (Alabama)—to ...'})\n",
      "(('Alabama GuideSafe',), 'download count of Alabama GuideSafe COVID contact tracing app', {'link': 'https://www.researchgate.net/publication/354050541_A_survey_of_COVID-19_contact-tracing_apps', 'title': '(PDF) A survey of COVID-19 contact-tracing apps', 'description': 'In this work, we survey the current contact-tracing apps and organize them based on underlying technologies such as Bluetooth, Wi-Fi, GPS, geofencing, and Quick ...'})\n",
      "(('Alabama GuideSafe',), 'download count of Alabama GuideSafe COVID contact tracing app', {'link': 'https://pmc.ncbi.nlm.nih.gov/articles/PMC8379000/', 'title': 'A survey of COVID-19 contact-tracing apps - PMC', 'description': 'We survey the current contact-tracing apps and organize them based on underlying technologies such as Bluetooth, Wi-Fi, GPS, geofencing, and Quick Response (QR ...'})\n",
      "(('Alabama GuideSafe',), 'download count of Alabama GuideSafe COVID contact tracing app', {'link': 'https://www.technologyreview.com/2020/12/14/1014426/covid-california-contact-tracing-app-america-states/', 'title': \"Contact tracing apps now cover nearly half of America. It's ...\", 'description': \"Almost half of all Americans now live somewhere covered by an app that will warn them if they've been close to someone with covid-19.\"})\n",
      "(('Alabama GuideSafe',), 'download count of Alabama GuideSafe COVID contact tracing app', {'link': 'https://www.ruralhealthinfo.org/toolkits/emergency-preparedness/case-studies/infectious-disease/university-alabama-birmingham', 'title': 'COVID-19 Symptom Tracking and Exposure Notification ...', 'description': 'The third project was the GuideSafe Exposure Notification App, a resource available for download on smartphones for Alabama residents. This ...'})\n",
      "(('Alabama GuideSafe',), 'download count of Alabama GuideSafe COVID contact tracing app', {'link': 'https://facultysenate.ua.edu/guidesafe-contact-notification-app/', 'title': 'GuideSafe Contact Notification App - Faculty Senate', 'description': 'The GuideSafe app is a subscriber of the logs kept by the Google/Apple operating systems. It is one of the first contact tracing apps to use the infrastructure.'})\n",
      "(('Alabama GuideSafe',), 'download count of Alabama GuideSafe COVID contact tracing app', {'link': 'https://ink.library.smu.edu.sg/cgi/viewcontent.cgi?article=7440&context=sis_research', 'title': 'Security and privacy review of contact tracing mobile apps', 'description': 'The download count may not be an accurate reflection of the “take-up/penetration” rate, which is measured by the total number of downloads against the total ...'})\n",
      "(('Alabama GuideSafe',), 'download count of Alabama GuideSafe COVID contact tracing app', {'link': 'https://www.wtvy.com/2020/08/18/alabamians-urged-to-download-covid-19-exposure-app/', 'title': 'Alabamians urged to download COVID-19 exposure app', 'description': 'The public now can access an app aimed at alerting people if they were possibly exposed to COVID-19.'})\n",
      "(('Alabama GuideSafe',), 'download count of Alabama GuideSafe COVID contact tracing app', {'link': 'https://www.washingtonpost.com/technology/2020/08/17/coronavirus-exposure-notification-app/', 'title': \"I downloaded America's first coronavirus exposure app. ...\", 'description': 'COVIDWISE uses Bluetooth signals to determine if you might have come into contact with a person who tests positive for the novel coronavirus.'})\n",
      "(('Alabama GuideSafe',), 'download count of Alabama GuideSafe COVID contact tracing app', {'link': 'https://papers.ssrn.com/sol3/Delivery.cfm/SSRN_ID3807965_code1308315.pdf?abstractid=3693783&mirid=1', 'title': 'Public perceptions towards COVID-19 Contact Tracing ...', 'description': \"One online survey found that 72% of participants would be at least somewhat likely to download a CTA if data was 'protected perfectly' (Simko et al., 2020).\"})\n"
     ]
    },
    {
     "name": "stderr",
     "output_type": "stream",
     "text": [
      "2025-07-09 13:34:05,038 - web_data_collection.webpage_retrieval - DEBUG - {'general': {'search_engine': 'google', 'query': 'download count of Arizona Covid Watch COVID contact tracing app', 'results_cnt': 106000, 'search_time': 0.53, 'language': 'en', 'location': 'United States', 'mobile': False, 'basic_view': False, 'search_type': 'text', 'page_title': 'download count of Arizona Covid Watch COVID contact tracing app - Google Search', 'timestamp': '2025-07-09T17:34:04.871Z'}, 'input': {'original_url': 'https://www.google.com/search?q=download+count+of+Arizona+Covid+Watch+COVID+contact+tracing+app&start=0&brd_json=1&num=20', 'request_id': 'hl_a84cb5f7_aqi425gs34r'}, 'navigation': [{'title': 'AI Mode', 'href': 'https://www.google.com/search?q=download+count+of+Arizona+Covid+Watch+COVID+contact+tracing+app&num=20&sca_esv=f7156635f6e9a261&hl=en&udm=50&fbs=AIIjpHxU7SXXniUZfeShr2fp4giZrjP_Cx0LI1Ytb_FGcOviEreERTNAkkP8Y6EXltYTGWs9RGaEMfZ2dZFFrbmM-rnq9t2Yd6CLmSU0fTw2YpsUFAZkjtkV3nlJNkF6dgnv8hBPbkvFBFvt9qVz5tXWHwMIOLAC51x133zpKWFy3_mb_RMbN-fftEKVRqPS6EEOPe03eIz5AliHkH7tItgiHkmm33AQJg&aep=1&ntc=1&sa=X&ved=2ahUKEwi_5K7dp7COAxV4XGwGHSIHGrIQ2J8OegQIFxAC'}, {'title': 'News', 'href': 'https://www.google.com/search?num=20&sca_esv=f7156635f6e9a261&hl=en&q=download+count+of+Arizona+Covid+Watch+COVID+contact+tracing+app&tbm=nws&source=lnms&fbs=AIIjpHxU7SXXniUZfeShr2fp4giZrjP_Cx0LI1Ytb_FGcOviEreERTNAkkP8Y6EXltYTGWs9RGaEMfZ2dZFFrbmM-rnq9t2Yd6CLmSU0fTw2YpsUFAZkjtkV3nlJNkF6dgnv8hBPbkvFBFvt9qVz5tXWHwMIOLAC51x133zpKWFy3_mb_RMbN-fftEKVRqPS6EEOPe03eIz5AliHkH7tItgiHkmm33AQJg&sa=X&ved=2ahUKEwi_5K7dp7COAxV4XGwGHSIHGrIQ0pQJKAF6BAgUEAE'}, {'title': 'Videos', 'href': 'https://www.google.com/search?num=20&sca_esv=f7156635f6e9a261&hl=en&q=download+count+of+Arizona+Covid+Watch+COVID+contact+tracing+app&udm=7&fbs=AIIjpHxU7SXXniUZfeShr2fp4giZrjP_Cx0LI1Ytb_FGcOviEreERTNAkkP8Y6EXltYTGWs9RGaEMfZ2dZFFrbmM-rnq9t2Yd6CLmSU0fTw2YpsUFAZkjtkV3nlJNkF6dgnv8hBPbkvFBFvt9qVz5tXWHwMIOLAC51x133zpKWFy3_mb_RMbN-fftEKVRqPS6EEOPe03eIz5AliHkH7tItgiHkmm33AQJg&sa=X&ved=2ahUKEwi_5K7dp7COAxV4XGwGHSIHGrIQtKgLKAJ6BAgPEAE'}, {'title': 'Images', 'href': 'https://www.google.com/search?num=20&sca_esv=f7156635f6e9a261&hl=en&q=download+count+of+Arizona+Covid+Watch+COVID+contact+tracing+app&udm=2&fbs=AIIjpHxU7SXXniUZfeShr2fp4giZrjP_Cx0LI1Ytb_FGcOviEreERTNAkkP8Y6EXltYTGWs9RGaEMfZ2dZFFrbmM-rnq9t2Yd6CLmSU0fTw2YpsUFAZkjtkV3nlJNkF6dgnv8hBPbkvFBFvt9qVz5tXWHwMIOLAC51x133zpKWFy3_mb_RMbN-fftEKVRqPS6EEOPe03eIz5AliHkH7tItgiHkmm33AQJg&sa=X&ved=2ahUKEwi_5K7dp7COAxV4XGwGHSIHGrIQtKgLKAN6BAgVEAE'}, {'title': 'Short videos', 'href': 'https://www.google.com/search?num=20&sca_esv=f7156635f6e9a261&hl=en&q=download+count+of+Arizona+Covid+Watch+COVID+contact+tracing+app&udm=39&fbs=AIIjpHxU7SXXniUZfeShr2fp4giZrjP_Cx0LI1Ytb_FGcOviEreERTNAkkP8Y6EXltYTGWs9RGaEMfZ2dZFFrbmM-rnq9t2Yd6CLmSU0fTw2YpsUFAZkjtkV3nlJNkF6dgnv8hBPbkvFBFvt9qVz5tXWHwMIOLAC51x133zpKWFy3_mb_RMbN-fftEKVRqPS6EEOPe03eIz5AliHkH7tItgiHkmm33AQJg&sa=X&ved=2ahUKEwi_5K7dp7COAxV4XGwGHSIHGrIQs6gLKAR6BAgSEAE'}, {'title': 'Shopping', 'href': 'https://www.google.com/search?num=20&sca_esv=f7156635f6e9a261&hl=en&q=download+count+of+Arizona+Covid+Watch+COVID+contact+tracing+app&udm=28&fbs=AIIjpHxU7SXXniUZfeShr2fp4giZrjP_Cx0LI1Ytb_FGcOviEreERTNAkkP8Y6EXltYTGWs9RGaEMfZ2dZFFrbmM-rnq9t2Yd6CLmSU0fTw2YpsUFAZkjtkV3nlJNkF6dgnv8hBPbkvFBFvt9qVz5tXWHwMIOLAC51x133zpKWFy3_mb_RMbN-fftEKVRqPS6EEOPe03eIz5AliHkH7tItgiHkmm33AQJg&ved=1t:220175&ictx=111'}], 'organic': [{'link': 'https://news.arizona.edu/news/how-smartphone-app-and-contact-tracing-helped-keep-uarizona-open-and-curb-covid-19-spread#:~:text=The%20app%20then%20sends%20an,have%20downloaded%20the%20mobile%20app.', 'display_link': 'https://news.arizona.edu › news › how-smartphone-app-a...', 'title': 'How a Smartphone App and Contact Tracing Helped Keep ...', 'rank': 1, 'global_rank': 2}, {'link': 'https://wehealth.org/covidwatchorg/news', 'display_link': 'https://wehealth.org › covidwatchorg › news', 'title': 'News and Media | Covid Watch', 'description': 'UArizona is launching a new mobile app that lets students know anonymously if they have been exposed to COVID-19. August 19, 2020.', 'extensions': [{'type': 'missing', 'text': 'count', 'rank': 1}, {'type': 'must_include', 'text': 'count', 'link': 'https://www.google.com/search?num=20&sca_esv=f7156635f6e9a261&hl=en&q=download+%22count%22+of+Arizona+Covid+Watch+COVID+contact+tracing+app&sa=X&ved=2ahUKEwi_5K7dp7COAxV4XGwGHSIHGrIQ5t4CegQIKRAB', 'rank': 2}], 'rank': 2, 'global_rank': 3}, {'link': 'https://edscoop.com/university-arizona-contact-tracing-reduced-covid19-12-percent/', 'display_link': 'https://edscoop.com › university-arizona-contact-tracin...', 'title': 'U. Arizona claims contact-tracing app reduced COVID-19 ...', 'description': 'The university estimates that about 14,000 people on the campus have downloaded the app, which is called Covid Watch Arizona. The app is based ...', 'extensions': [{'inline': True, 'type': 'text', 'text': 'Dec 18, 2020', 'rank': 1}, {'type': 'missing', 'text': 'count', 'rank': 2}, {'type': 'must_include', 'text': 'count', 'link': 'https://www.google.com/search?num=20&sca_esv=f7156635f6e9a261&hl=en&q=download+%22count%22+of+Arizona+Covid+Watch+COVID+contact+tracing+app&sa=X&ved=2ahUKEwi_5K7dp7COAxV4XGwGHSIHGrIQ5t4CegQISRAB', 'rank': 3}], 'rank': 3, 'global_rank': 8}, {'link': 'https://wehealth.org/covidwatchorg/public-health', 'display_link': 'https://wehealth.org › covidwatchorg › public-health', 'title': 'Covid Watch for Public Health', 'description': 'Our exposure notification app and platform for public health can help augment contact tracing in your jurisdiction. Contact Covid Watch to find out more.', 'extensions': [{'type': 'missing', 'text': 'download', 'rank': 1}, {'type': 'must_include', 'text': 'download', 'link': 'https://www.google.com/search?num=20&sca_esv=f7156635f6e9a261&hl=en&q=%22download%22+count+of+Arizona+Covid+Watch+COVID+contact+tracing+app&sa=X&ved=2ahUKEwi_5K7dp7COAxV4XGwGHSIHGrIQ5t4CegQIYRAB', 'rank': 2}], 'rank': 4, 'global_rank': 9}, {'link': 'https://pharmacology.arizona.edu/news/uarizona-and-covid-watch-launch-covid-19-exposure-notification-app', 'display_link': 'https://pharmacology.arizona.edu › news › uarizona-and...', 'title': 'UArizona and Covid Watch Launch COVID-19 Exposure Notification ...', 'description': 'University of Arizona students, faculty and staff can now download and opt in to the Covid Watch(link is external) exposure notification smartphone app, ...', 'extensions': [{'type': 'missing', 'text': 'count', 'rank': 1}, {'type': 'must_include', 'text': 'count', 'link': 'https://www.google.com/search?num=20&sca_esv=f7156635f6e9a261&hl=en&q=download+%22count%22+of+Arizona+Covid+Watch+COVID+contact+tracing+app&sa=X&ved=2ahUKEwi_5K7dp7COAxV4XGwGHSIHGrIQ5t4CegQIQhAB', 'rank': 2}], 'rank': 5, 'global_rank': 10}, {'link': 'https://abcnews.go.com/US/smartphone-app-alerts-university-arizona-students-exposed-covid/story?id=72580199', 'display_link': 'https://abcnews.go.com › story', 'title': 'Smartphone app alerts University of Arizona students if they ...', 'description': \"A new app from the University of Arizona uses Bluetooth technology to send an alert to someone's phone if they are exposed to COVID-19.\", 'extensions': [{'inline': True, 'type': 'text', 'text': 'Aug 25, 2020', 'rank': 1}, {'type': 'missing', 'text': 'count', 'rank': 2}, {'type': 'must_include', 'text': 'count', 'link': 'https://www.google.com/search?num=20&sca_esv=f7156635f6e9a261&hl=en&q=download+%22count%22+of+Arizona+Covid+Watch+COVID+contact+tracing+app&sa=X&ved=2ahUKEwi_5K7dp7COAxV4XGwGHSIHGrIQ5t4CegQIQBAB', 'rank': 3}], 'rank': 6, 'global_rank': 11}, {'link': 'https://play.google.com/store/apps/details?id=gov.azdhs.covidwatch.android&hl=en_US', 'display_link': 'https://play.google.com › store › apps › details › id=gov....', 'title': 'PHapp AZ - Apps on Google Play', 'description': 'our app keeps you connected to real-time information from verified government and health organizations. Stay informed, stay prepared, and stay safe—wherever you ...', 'extensions': [{'type': 'missing', 'text': 'count', 'rank': 1}, {'type': 'missing', 'text': 'tracing', 'rank': 2}], 'rank': 7, 'global_rank': 12}, {'link': 'https://ktar.com/arizona-news/covid-19-exposure-notification-app-launched-in-arizona-never-reached-full-potential/4598971/', 'display_link': 'https://ktar.com › arizona-news › covid-19-exposure-n...', 'title': 'COVID-19 exposure app launched in Arizona never ...', 'description': \"The Covid Watch Arizona app is still in circulation and has 93,000 downloads to date. However, Sonora Quest, the state's largest COVID-19 ...\", 'extensions': [{'inline': True, 'type': 'text', 'text': 'Aug 3, 2021', 'rank': 1}], 'rank': 8, 'global_rank': 13}, {'link': 'https://www.kold.com/2020/08/19/uarizona-releases-covid-tracking-app/', 'display_link': 'https://www.kold.com › 2020/08/19 › uarizona-releases...', 'title': 'University of Arizona releases COVID tracking app - KOLD.com', 'description': \"The app will anonymously notify someone if they've come into contact with a positive case.\", 'extensions': [{'inline': True, 'type': 'text', 'text': 'Aug 19, 2020', 'rank': 1}, {'type': 'missing', 'text': 'count', 'rank': 2}, {'type': 'must_include', 'text': 'count', 'link': 'https://www.google.com/search?num=20&sca_esv=f7156635f6e9a261&hl=en&q=download+%22count%22+of+Arizona+Covid+Watch+COVID+contact+tracing+app&sa=X&ved=2ahUKEwi_5K7dp7COAxV4XGwGHSIHGrIQ5t4CegQIRRAB', 'rank': 3}], 'rank': 9, 'global_rank': 14}, {'link': 'https://pmc.ncbi.nlm.nih.gov/articles/PMC8194594/', 'display_link': 'https://pmc.ncbi.nlm.nih.gov › articles › PMC8194594', 'title': 'Usability, inclusivity, and content evaluation of COVID-19 ...', 'description': 'We evaluated the usability of mobile COVID-19 contact tracing apps, especially for individuals with barriers to communication and limited digital literacy ...', 'extensions': [{'inline': True, 'type': 'text', 'text': 'by SO Blacklow', 'rank': 1}, {'inline': True, 'type': 'text', 'text': '2021', 'rank': 2}, {'inline': True, 'type': 'text', 'text': 'Cited by 34', 'rank': 3}], 'rank': 10, 'global_rank': 15}, {'link': 'https://en.wikipedia.org/wiki/COVID-19_apps', 'display_link': 'https://en.wikipedia.org › wiki › COVID-19_apps', 'title': 'COVID-19 apps', 'description': 'COVID-19 apps include mobile-software applications for digital contact-tracing—i.e. the process of identifying persons (\"contacts\") who may have been in contact ...', 'rank': 11, 'global_rank': 16}, {'link': 'https://azpha.org/2022/08/30/arizona-has-a-covid-19-exposure-notification-tool-now-and-its-free/', 'display_link': 'https://azpha.org › 2022/08/30 › arizona-has-a-covid-1...', 'title': 'Arizona Has a COVID-19 Exposure Notification Tool Now ...', 'description': 'Download the Wehealth Arizona app. If anyone tests positive for Covid-19, they can choose to anonymously share that with the app. Other app ...', 'extensions': [{'inline': True, 'type': 'text', 'text': 'Aug 30, 2022', 'rank': 1}, {'type': 'missing', 'text': 'tracing', 'rank': 2}, {'type': 'must_include', 'text': 'tracing', 'link': 'https://www.google.com/search?num=20&sca_esv=f7156635f6e9a261&hl=en&q=download+count+of+Arizona+Covid+Watch+COVID+contact+%22tracing%22+app&sa=X&ved=2ahUKEwi_5K7dp7COAxV4XGwGHSIHGrIQ5t4CegQIYhAB', 'rank': 3}], 'rank': 12, 'global_rank': 17}, {'link': 'https://repository.stcloudstate.edu/cgi/viewcontent.cgi?article=1163&context=msia_etds', 'display_link': 'https://repository.stcloudstate.edu › viewcontent', 'title': 'Privacy and Security Implications in COVID-19 Tracking ...', 'description': 'The problem addressed by this research paper is the lack of data security and privacy in. COVID-19 tracking and tracing mobile applications.', 'extensions': [{'inline': True, 'type': 'text', 'text': 'by S Shrestha', 'rank': 1}, {'type': 'missing', 'text': 'count', 'rank': 2}, {'type': 'must_include', 'text': 'count', 'link': 'https://www.google.com/search?num=20&sca_esv=f7156635f6e9a261&hl=en&q=download+%22count%22+of+Arizona+Covid+Watch+COVID+contact+tracing+app&sa=X&ved=2ahUKEwi_5K7dp7COAxV4XGwGHSIHGrIQ5t4CegQIaRAB', 'rank': 3}, {'inline': True, 'type': 'text', 'text': '2021', 'rank': 4}, {'inline': True, 'type': 'text', 'text': 'Cited by 1', 'rank': 5}], 'rank': 13, 'global_rank': 18}, {'link': 'https://www.medrxiv.org/content/10.1101/2021.02.02.21251022v3.full.pdf', 'display_link': 'https://www.medrxiv.org › content', 'title': 'Quantifying meaningful adoption of a SARS-CoV-2 ...', 'description': 'The University of Arizona community. 42 piloted the Covid Watch app, which through the Google/Apple Exposure Notification API. 43. (GAEN), uses ...', 'extensions': [{'inline': True, 'type': 'text', 'text': 'by J Masel', 'rank': 1}, {'inline': True, 'type': 'text', 'text': '2021', 'rank': 2}, {'inline': True, 'type': 'text', 'text': 'Cited by 12', 'rank': 3}], 'rank': 14, 'global_rank': 19}, {'link': 'https://hu-hu.facebook.com/CovidWatchOrg/', 'display_link': '300+ followers', 'title': 'Covid Watch', 'description': 'Today, our Covid Watch Arizona app is officially available for faculty, staff, and students at Northern Arizona University! Covid Watch is a fully anonymous, ...', 'rank': 15, 'global_rank': 20}, {'link': 'https://www.kgun9.com/news/coronavirus/new-smartphone-app-tracks-users-exposure-to-covid-19', 'display_link': 'https://www.kgun9.com › news › coronavirus › new-s...', 'title': \"New smartphone app tracks users' exposure to COVID-19\", 'description': 'The app is called \"COVID Watch.\" Once downloaded and installed, the app notes nearby Bluetooth signals of other mobile devices with the app ...', 'extensions': [{'inline': True, 'type': 'text', 'text': 'Aug 19, 2020', 'rank': 1}, {'type': 'missing', 'text': 'count', 'rank': 2}, {'type': 'must_include', 'text': 'count', 'link': 'https://www.google.com/search?num=20&sca_esv=f7156635f6e9a261&hl=en&q=download+%22count%22+of+Arizona+Covid+Watch+COVID+contact+tracing+app&sa=X&ved=2ahUKEwi_5K7dp7COAxV4XGwGHSIHGrIQ5t4CegQIYxAB', 'rank': 3}], 'rank': 16, 'global_rank': 21}, {'link': 'https://www.reddit.com/r/CoronavirusAZ/comments/kg8s6j/uarizona_says_contact_tracing_app_has_reduced/', 'display_link': 'https://www.reddit.com › CoronavirusAZ › comments', 'title': 'UArizona says contact tracing app has reduced ...', 'description': \"Just search “COVID Watch Arizona” in the Apple app or Google play store. It's free. It will work better if more people know about it and use it.\", 'extensions': [{'inline': True, 'type': 'text', 'text': 'Dec 19, 2020', 'rank': 1}], 'rank': 17, 'global_rank': 22}, {'link': 'https://pimamedicalsociety.org/covid-watch-app/', 'display_link': 'https://pimamedicalsociety.org › covid-watch-app', 'title': 'Covid Watch app', 'description': 'The Covid Watch exposure notification smartphone app allows users who have been diagnosed with COVID-19 to anonymously notify others who may ...', 'extensions': [{'inline': True, 'type': 'text', 'text': 'Aug 26, 2020', 'rank': 1}], 'rank': 18, 'global_rank': 23}, {'link': 'https://nashp.org/state-tracker/state-approaches-to-contact-tracing-during-the-covid-19-pandemic/', 'display_link': 'https://nashp.org › state-tracker › state-approaches-to-co...', 'title': 'State Approaches to Contact Tracing during the COVID-19 ...', 'description': 'In July 2021, the state ended its digital contact tracing program, but the app is still available for download. ... Covid Watch Arizona app. In ...', 'extensions': [{'inline': True, 'type': 'text', 'text': 'Sep 23, 2022', 'rank': 1}], 'rank': 19, 'global_rank': 24}, {'link': 'https://www.usatoday.com/story/tech/columnist/2020/08/25/google-and-apple-supported-coronavirus-tracking-apps-land-states/3435214001/', 'display_link': 'https://www.usatoday.com › columnist › 2020/08/25 › g...', 'title': 'COVID-19 tracking apps, supported by Apple and Google ...', 'description': 'Several states have launched COVID-19 tracking apps, built upon contact tracing technology supported by Apple and Google.', 'extensions': [{'inline': True, 'type': 'text', 'text': 'Aug 25, 2020', 'rank': 1}], 'rank': 20, 'global_rank': 25}], 'featured_snippets': [{'type': 'answer', 'display_link': 'https://news.arizona.edu › news › how-smartphone-app-a...', 'link_title': 'How a Smartphone App and Contact Tracing Helped Keep ...', 'link': 'https://news.arizona.edu/news/how-smartphone-app-and-contact-tracing-helped-keep-uarizona-open-and-curb-covid-19-spread#:~:text=The%20app%20then%20sends%20an,have%20downloaded%20the%20mobile%20app.', 'value': {'text': \"The app then sends an exposure notification alert to other Covid Watch users whose phones were registered as recently being near the infected person's phone for a significant amount of time. An estimated 14,000 people on the UArizona campus have downloaded the mobile app.Dec 16, 2020\"}, 'rank': 1, 'global_rank': 1}], 'overview': {'title': 'WebAnswer', 'kgmid': '/m/0hn'}, 'pagination': {'pages': [{'page': 2, 'start': 20, 'link': 'https://www.google.com/search?q=download+count+of+Arizona+Covid+Watch+COVID+contact+tracing+app&num=20&sca_esv=f7156635f6e9a261&hl=en&ei=C6huaP-yJ_i4seMPoo7okAs&start=20&sa=N&sstk=Ac65TH7W_7rgbCBXvuhBQI4uLN2_6132TxXerdfUBUcY68tMik2ONID6tCL3yDC7vLaEUBVjR9r-mO9ihaImWX-QcDtELeCi4_acpQ&ved=2ahUKEwi_5K7dp7COAxV4XGwGHSIHGrIQ8tMDegQIDRAE'}, {'page': 3, 'start': 40, 'link': 'https://www.google.com/search?q=download+count+of+Arizona+Covid+Watch+COVID+contact+tracing+app&num=20&sca_esv=f7156635f6e9a261&hl=en&ei=C6huaP-yJ_i4seMPoo7okAs&start=40&sa=N&sstk=Ac65TH7W_7rgbCBXvuhBQI4uLN2_6132TxXerdfUBUcY68tMik2ONID6tCL3yDC7vLaEUBVjR9r-mO9ihaImWX-QcDtELeCi4_acpQ&ved=2ahUKEwi_5K7dp7COAxV4XGwGHSIHGrIQ8tMDegQIDRAG'}, {'page': 4, 'start': 60, 'link': 'https://www.google.com/search?q=download+count+of+Arizona+Covid+Watch+COVID+contact+tracing+app&num=20&sca_esv=f7156635f6e9a261&hl=en&ei=C6huaP-yJ_i4seMPoo7okAs&start=60&sa=N&sstk=Ac65TH7W_7rgbCBXvuhBQI4uLN2_6132TxXerdfUBUcY68tMik2ONID6tCL3yDC7vLaEUBVjR9r-mO9ihaImWX-QcDtELeCi4_acpQ&ved=2ahUKEwi_5K7dp7COAxV4XGwGHSIHGrIQ8tMDegQIDRAI'}, {'page': 5, 'start': 80, 'link': 'https://www.google.com/search?q=download+count+of+Arizona+Covid+Watch+COVID+contact+tracing+app&num=20&sca_esv=f7156635f6e9a261&hl=en&ei=C6huaP-yJ_i4seMPoo7okAs&start=80&sa=N&sstk=Ac65TH7W_7rgbCBXvuhBQI4uLN2_6132TxXerdfUBUcY68tMik2ONID6tCL3yDC7vLaEUBVjR9r-mO9ihaImWX-QcDtELeCi4_acpQ&ved=2ahUKEwi_5K7dp7COAxV4XGwGHSIHGrIQ8tMDegQIDRAK'}, {'page': 6, 'start': 100, 'link': 'https://www.google.com/search?q=download+count+of+Arizona+Covid+Watch+COVID+contact+tracing+app&num=20&sca_esv=f7156635f6e9a261&hl=en&ei=C6huaP-yJ_i4seMPoo7okAs&start=100&sa=N&sstk=Ac65TH7W_7rgbCBXvuhBQI4uLN2_6132TxXerdfUBUcY68tMik2ONID6tCL3yDC7vLaEUBVjR9r-mO9ihaImWX-QcDtELeCi4_acpQ&ved=2ahUKEwi_5K7dp7COAxV4XGwGHSIHGrIQ8tMDegQIDRAM'}, {'page': 7, 'start': 120, 'link': 'https://www.google.com/search?q=download+count+of+Arizona+Covid+Watch+COVID+contact+tracing+app&num=20&sca_esv=f7156635f6e9a261&hl=en&ei=C6huaP-yJ_i4seMPoo7okAs&start=120&sa=N&sstk=Ac65TH7W_7rgbCBXvuhBQI4uLN2_6132TxXerdfUBUcY68tMik2ONID6tCL3yDC7vLaEUBVjR9r-mO9ihaImWX-QcDtELeCi4_acpQ&ved=2ahUKEwi_5K7dp7COAxV4XGwGHSIHGrIQ8tMDegQIDRAO'}, {'page': 8, 'start': 140, 'link': 'https://www.google.com/search?q=download+count+of+Arizona+Covid+Watch+COVID+contact+tracing+app&num=20&sca_esv=f7156635f6e9a261&hl=en&ei=C6huaP-yJ_i4seMPoo7okAs&start=140&sa=N&sstk=Ac65TH7W_7rgbCBXvuhBQI4uLN2_6132TxXerdfUBUcY68tMik2ONID6tCL3yDC7vLaEUBVjR9r-mO9ihaImWX-QcDtELeCi4_acpQ&ved=2ahUKEwi_5K7dp7COAxV4XGwGHSIHGrIQ8tMDegQIDRAQ'}, {'page': 9, 'start': 160, 'link': 'https://www.google.com/search?q=download+count+of+Arizona+Covid+Watch+COVID+contact+tracing+app&num=20&sca_esv=f7156635f6e9a261&hl=en&ei=C6huaP-yJ_i4seMPoo7okAs&start=160&sa=N&sstk=Ac65TH7W_7rgbCBXvuhBQI4uLN2_6132TxXerdfUBUcY68tMik2ONID6tCL3yDC7vLaEUBVjR9r-mO9ihaImWX-QcDtELeCi4_acpQ&ved=2ahUKEwi_5K7dp7COAxV4XGwGHSIHGrIQ8tMDegQIDRAS'}, {'page': 10, 'start': 180, 'link': 'https://www.google.com/search?q=download+count+of+Arizona+Covid+Watch+COVID+contact+tracing+app&num=20&sca_esv=f7156635f6e9a261&hl=en&ei=C6huaP-yJ_i4seMPoo7okAs&start=180&sa=N&sstk=Ac65TH7W_7rgbCBXvuhBQI4uLN2_6132TxXerdfUBUcY68tMik2ONID6tCL3yDC7vLaEUBVjR9r-mO9ihaImWX-QcDtELeCi4_acpQ&ved=2ahUKEwi_5K7dp7COAxV4XGwGHSIHGrIQ8tMDegQIDRAU'}], 'current_page': 1, 'next_page': 2, 'next_page_start': 20, 'next_page_link': 'https://www.google.com/search?q=download+count+of+Arizona+Covid+Watch+COVID+contact+tracing+app&num=20&sca_esv=f7156635f6e9a261&hl=en&ei=C6huaP-yJ_i4seMPoo7okAs&start=20&sa=N&sstk=Ac65TH7W_7rgbCBXvuhBQI4uLN2_6132TxXerdfUBUcY68tMik2ONID6tCL3yDC7vLaEUBVjR9r-mO9ihaImWX-QcDtELeCi4_acpQ&ved=2ahUKEwi_5K7dp7COAxV4XGwGHSIHGrIQ8tMDegQIDRAE'}, 'people_also_ask': [{'question': 'What is the COVID-19 tracking app?', 'answer_source': 'COVID-19 apps - Wikipedia', 'answer_link': 'https://en.wikipedia.org/wiki/COVID-19_apps#:~:text=The%20government%20launched%20%22GH%20COVID,health%20authorities%20overtime%20to%20know', 'answer_display_link': 'https://en.wikipedia.org › wiki › COVID-19_appshttps://en.wikipedia.org › wiki › COVID-19_apps', 'answers': [{'type': 'answer', 'value': {'text': 'The government launched \"GH COVID-19 Tracker App\", an Android and IOS app equipped with location tracking technology to provide detailed information about people who have been at the same event, location, country or other defined locations in order to provide accurate information to health authorities overtime to know ...'}, 'rank': 1}], 'rank': 1, 'global_rank': 4}, {'question': 'How to do COVID contact tracing?', 'answer_source': 'Contact Tracing | CDC', 'answer_link': 'https://www.cdc.gov/museum/pdf/cdcm-pha-stem-lesson-contact-tracing-lesson.pdf', 'answer_display_link': 'https://www.cdc.gov › museum › pdf › cdcm-pha-stem-l...https://www.cdc.gov › museum › pdf › cdcm-pha-stem-l...', 'answers': [{'type': 'answer', 'value': {'text': 'In order to conduct effective contact tracing, health officials must engage people in all three activities: speaking, sharing, and quarantining.'}, 'rank': 1}], 'rank': 2, 'global_rank': 5}, {'question': 'Is contact tracing effective for COVID-19?', 'answer_source': 'Effective contact tracing for COVID-19: A systematic review - PMC', 'answer_link': 'https://pmc.ncbi.nlm.nih.gov/articles/PMC9997056/#:~:text=Results%20of%20observational%20studies%20were,%5D%2C%20%5B29%5D%5D.', 'answer_display_link': 'https://pmc.ncbi.nlm.nih.gov › articles › PMC9997056https://pmc.ncbi.nlm.nih.gov › articles › PMC9997056', 'answers': [{'type': 'answer', 'value': {'text': 'Results of observational studies were consistent: 14 out of 14 (100%) reported that contact tracing (alone or in combination with other interventions) was associated with better control of COVID-19 [[16], [17], [18], [19], [20], [21], [22], [23], [24], [25], [26], [27], [28], [29]].'}, 'rank': 1}], 'rank': 3, 'global_rank': 6}, {'question': 'How to figure out when you were exposed to COVID?', 'answer_source': 'What to Do After Exposure to COVID-19 - UF Health', 'answer_link': 'https://ufhealth.org/care-sheets/what-to-do-after-exposure-to-covid-19#:~:text=or%20even%20death.-,Symptoms%20occur%20within%202%20to%2014%20days%20from%20exposure%20to,sense%20of%20taste%20or%20smell.', 'answer_display_link': 'https://ufhealth.org › care-sheets › what-to-do-after-expo...https://ufhealth.org › care-sheets › what-to-do-after-expo...', 'answers': [{'type': 'answer', 'value': {'text': 'Symptoms occur within 2 to 14 days from exposure to the virus and may include fever, cough, shortness of breath, chills, muscle pain, headache, sore throat, and new loss of sense of taste or smell.May 23, 2025'}, 'rank': 1}], 'rank': 4, 'global_rank': 7}], 'ai_overview': {'error': 'AI Overview did not appear on original SERP. Please ensure that you are using the `brd_ai_overview=1` query parameter (https://docs.brightdata.com/scraping-automation/serp-api/query-parameters/google#ai-overview), and that your query is relevant for triggering an AI Overview.'}}\n",
      "2025-07-09 13:34:05,039 - web_data_collection.webpage_retrieval - DEBUG - Retrieved and yielded 20 results from request 1\n",
      "2025-07-09 13:34:05,040 - web_data_collection.webpage_retrieval - DEBUG - Processing query: download count of California Covid Notify COVID contact tracing app, variable value combo: ('California Covid Notify',)\n",
      "2025-07-09 13:34:05,040 - web_data_collection.webpage_retrieval - DEBUG - Processing date chunk: None to None\n",
      "2025-07-09 13:34:05,041 - web_data_collection.webpage_retrieval - DEBUG - Making request 1/1\n"
     ]
    },
    {
     "name": "stdout",
     "output_type": "stream",
     "text": [
      "(('Arizona Covid Watch',), 'download count of Arizona Covid Watch COVID contact tracing app', {'link': 'https://news.arizona.edu/news/how-smartphone-app-and-contact-tracing-helped-keep-uarizona-open-and-curb-covid-19-spread#:~:text=The%20app%20then%20sends%20an,have%20downloaded%20the%20mobile%20app.', 'title': 'How a Smartphone App and Contact Tracing Helped Keep ...', 'description': ''})\n",
      "(('Arizona Covid Watch',), 'download count of Arizona Covid Watch COVID contact tracing app', {'link': 'https://wehealth.org/covidwatchorg/news', 'title': 'News and Media | Covid Watch', 'description': 'UArizona is launching a new mobile app that lets students know anonymously if they have been exposed to COVID-19. August 19, 2020.'})\n",
      "(('Arizona Covid Watch',), 'download count of Arizona Covid Watch COVID contact tracing app', {'link': 'https://edscoop.com/university-arizona-contact-tracing-reduced-covid19-12-percent/', 'title': 'U. Arizona claims contact-tracing app reduced COVID-19 ...', 'description': 'The university estimates that about 14,000 people on the campus have downloaded the app, which is called Covid Watch Arizona. The app is based ...'})\n",
      "(('Arizona Covid Watch',), 'download count of Arizona Covid Watch COVID contact tracing app', {'link': 'https://wehealth.org/covidwatchorg/public-health', 'title': 'Covid Watch for Public Health', 'description': 'Our exposure notification app and platform for public health can help augment contact tracing in your jurisdiction. Contact Covid Watch to find out more.'})\n",
      "(('Arizona Covid Watch',), 'download count of Arizona Covid Watch COVID contact tracing app', {'link': 'https://pharmacology.arizona.edu/news/uarizona-and-covid-watch-launch-covid-19-exposure-notification-app', 'title': 'UArizona and Covid Watch Launch COVID-19 Exposure Notification ...', 'description': 'University of Arizona students, faculty and staff can now download and opt in to the Covid Watch(link is external) exposure notification smartphone app, ...'})\n",
      "(('Arizona Covid Watch',), 'download count of Arizona Covid Watch COVID contact tracing app', {'link': 'https://abcnews.go.com/US/smartphone-app-alerts-university-arizona-students-exposed-covid/story?id=72580199', 'title': 'Smartphone app alerts University of Arizona students if they ...', 'description': \"A new app from the University of Arizona uses Bluetooth technology to send an alert to someone's phone if they are exposed to COVID-19.\"})\n",
      "(('Arizona Covid Watch',), 'download count of Arizona Covid Watch COVID contact tracing app', {'link': 'https://play.google.com/store/apps/details?id=gov.azdhs.covidwatch.android&hl=en_US', 'title': 'PHapp AZ - Apps on Google Play', 'description': 'our app keeps you connected to real-time information from verified government and health organizations. Stay informed, stay prepared, and stay safe—wherever you ...'})\n",
      "(('Arizona Covid Watch',), 'download count of Arizona Covid Watch COVID contact tracing app', {'link': 'https://ktar.com/arizona-news/covid-19-exposure-notification-app-launched-in-arizona-never-reached-full-potential/4598971/', 'title': 'COVID-19 exposure app launched in Arizona never ...', 'description': \"The Covid Watch Arizona app is still in circulation and has 93,000 downloads to date. However, Sonora Quest, the state's largest COVID-19 ...\"})\n",
      "(('Arizona Covid Watch',), 'download count of Arizona Covid Watch COVID contact tracing app', {'link': 'https://www.kold.com/2020/08/19/uarizona-releases-covid-tracking-app/', 'title': 'University of Arizona releases COVID tracking app - KOLD.com', 'description': \"The app will anonymously notify someone if they've come into contact with a positive case.\"})\n",
      "(('Arizona Covid Watch',), 'download count of Arizona Covid Watch COVID contact tracing app', {'link': 'https://en.wikipedia.org/wiki/COVID-19_apps', 'title': 'COVID-19 apps', 'description': 'COVID-19 apps include mobile-software applications for digital contact-tracing—i.e. the process of identifying persons (\"contacts\") who may have been in contact ...'})\n",
      "(('Arizona Covid Watch',), 'download count of Arizona Covid Watch COVID contact tracing app', {'link': 'https://azpha.org/2022/08/30/arizona-has-a-covid-19-exposure-notification-tool-now-and-its-free/', 'title': 'Arizona Has a COVID-19 Exposure Notification Tool Now ...', 'description': 'Download the Wehealth Arizona app. If anyone tests positive for Covid-19, they can choose to anonymously share that with the app. Other app ...'})\n",
      "(('Arizona Covid Watch',), 'download count of Arizona Covid Watch COVID contact tracing app', {'link': 'https://repository.stcloudstate.edu/cgi/viewcontent.cgi?article=1163&context=msia_etds', 'title': 'Privacy and Security Implications in COVID-19 Tracking ...', 'description': 'The problem addressed by this research paper is the lack of data security and privacy in. COVID-19 tracking and tracing mobile applications.'})\n",
      "(('Arizona Covid Watch',), 'download count of Arizona Covid Watch COVID contact tracing app', {'link': 'https://www.medrxiv.org/content/10.1101/2021.02.02.21251022v3.full.pdf', 'title': 'Quantifying meaningful adoption of a SARS-CoV-2 ...', 'description': 'The University of Arizona community. 42 piloted the Covid Watch app, which through the Google/Apple Exposure Notification API. 43. (GAEN), uses ...'})\n",
      "(('Arizona Covid Watch',), 'download count of Arizona Covid Watch COVID contact tracing app', {'link': 'https://hu-hu.facebook.com/CovidWatchOrg/', 'title': 'Covid Watch', 'description': 'Today, our Covid Watch Arizona app is officially available for faculty, staff, and students at Northern Arizona University! Covid Watch is a fully anonymous, ...'})\n",
      "(('Arizona Covid Watch',), 'download count of Arizona Covid Watch COVID contact tracing app', {'link': 'https://www.kgun9.com/news/coronavirus/new-smartphone-app-tracks-users-exposure-to-covid-19', 'title': \"New smartphone app tracks users' exposure to COVID-19\", 'description': 'The app is called \"COVID Watch.\" Once downloaded and installed, the app notes nearby Bluetooth signals of other mobile devices with the app ...'})\n",
      "(('Arizona Covid Watch',), 'download count of Arizona Covid Watch COVID contact tracing app', {'link': 'https://www.reddit.com/r/CoronavirusAZ/comments/kg8s6j/uarizona_says_contact_tracing_app_has_reduced/', 'title': 'UArizona says contact tracing app has reduced ...', 'description': \"Just search “COVID Watch Arizona” in the Apple app or Google play store. It's free. It will work better if more people know about it and use it.\"})\n",
      "(('Arizona Covid Watch',), 'download count of Arizona Covid Watch COVID contact tracing app', {'link': 'https://pimamedicalsociety.org/covid-watch-app/', 'title': 'Covid Watch app', 'description': 'The Covid Watch exposure notification smartphone app allows users who have been diagnosed with COVID-19 to anonymously notify others who may ...'})\n",
      "(('Arizona Covid Watch',), 'download count of Arizona Covid Watch COVID contact tracing app', {'link': 'https://nashp.org/state-tracker/state-approaches-to-contact-tracing-during-the-covid-19-pandemic/', 'title': 'State Approaches to Contact Tracing during the COVID-19 ...', 'description': 'In July 2021, the state ended its digital contact tracing program, but the app is still available for download. ... Covid Watch Arizona app. In ...'})\n",
      "(('Arizona Covid Watch',), 'download count of Arizona Covid Watch COVID contact tracing app', {'link': 'https://www.usatoday.com/story/tech/columnist/2020/08/25/google-and-apple-supported-coronavirus-tracking-apps-land-states/3435214001/', 'title': 'COVID-19 tracking apps, supported by Apple and Google ...', 'description': 'Several states have launched COVID-19 tracking apps, built upon contact tracing technology supported by Apple and Google.'})\n"
     ]
    },
    {
     "name": "stderr",
     "output_type": "stream",
     "text": [
      "2025-07-09 13:34:07,703 - web_data_collection.webpage_retrieval - DEBUG - {'general': {'search_engine': 'google', 'query': 'download count of California Covid Notify COVID contact tracing app', 'results_cnt': 6890000, 'search_time': 0.38, 'language': 'en', 'location': 'United States', 'mobile': False, 'basic_view': False, 'search_type': 'text', 'page_title': 'download count of California Covid Notify COVID contact tracing app - Google Search', 'timestamp': '2025-07-09T17:34:07.347Z'}, 'input': {'original_url': 'https://www.google.com/search?q=download+count+of+California+Covid+Notify+COVID+contact+tracing+app&start=0&brd_json=1&num=20', 'request_id': 'hl_a84cb5f7_x6jb62gpg5'}, 'navigation': [{'title': 'AI Mode', 'href': 'https://www.google.com/search?q=download+count+of+California+Covid+Notify+COVID+contact+tracing+app&num=20&sca_esv=f7156635f6e9a261&hl=en&udm=50&fbs=AIIjpHxU7SXXniUZfeShr2fp4giZrjP_Cx0LI1Ytb_FGcOviEreERTNAkkP8Y6EXltYTGWs9RGaEMfZ2dZFFrbmM-rnq9t2Yd6CLmSU0fTw2YpsUFAZkjtkV3nlJNkF6dgnv8hBPbkvFBFvt9qVz5tXWHwMIOLAC51x133zpKWFy3_mb_RMbN-fftEKVRqPS6EEOPe03eIz5AliHkH7tItgiHkmm33AQJg&aep=1&ntc=1&sa=X&ved=2ahUKEwj_o9nep7COAxWima8BHaHTEIgQ2J8OegQIEhAC'}, {'title': 'News', 'href': 'https://www.google.com/search?num=20&sca_esv=f7156635f6e9a261&hl=en&q=download+count+of+California+Covid+Notify+COVID+contact+tracing+app&tbm=nws&source=lnms&fbs=AIIjpHxU7SXXniUZfeShr2fp4giZrjP_Cx0LI1Ytb_FGcOviEreERTNAkkP8Y6EXltYTGWs9RGaEMfZ2dZFFrbmM-rnq9t2Yd6CLmSU0fTw2YpsUFAZkjtkV3nlJNkF6dgnv8hBPbkvFBFvt9qVz5tXWHwMIOLAC51x133zpKWFy3_mb_RMbN-fftEKVRqPS6EEOPe03eIz5AliHkH7tItgiHkmm33AQJg&sa=X&ved=2ahUKEwj_o9nep7COAxWima8BHaHTEIgQ0pQJKAF6BAgVEAE'}, {'title': 'Videos', 'href': 'https://www.google.com/search?num=20&sca_esv=f7156635f6e9a261&hl=en&q=download+count+of+California+Covid+Notify+COVID+contact+tracing+app&udm=7&fbs=AIIjpHxU7SXXniUZfeShr2fp4giZrjP_Cx0LI1Ytb_FGcOviEreERTNAkkP8Y6EXltYTGWs9RGaEMfZ2dZFFrbmM-rnq9t2Yd6CLmSU0fTw2YpsUFAZkjtkV3nlJNkF6dgnv8hBPbkvFBFvt9qVz5tXWHwMIOLAC51x133zpKWFy3_mb_RMbN-fftEKVRqPS6EEOPe03eIz5AliHkH7tItgiHkmm33AQJg&sa=X&ved=2ahUKEwj_o9nep7COAxWima8BHaHTEIgQtKgLKAJ6BAgWEAE'}, {'title': 'Images', 'href': 'https://www.google.com/search?num=20&sca_esv=f7156635f6e9a261&hl=en&q=download+count+of+California+Covid+Notify+COVID+contact+tracing+app&udm=2&fbs=AIIjpHxU7SXXniUZfeShr2fp4giZrjP_Cx0LI1Ytb_FGcOviEreERTNAkkP8Y6EXltYTGWs9RGaEMfZ2dZFFrbmM-rnq9t2Yd6CLmSU0fTw2YpsUFAZkjtkV3nlJNkF6dgnv8hBPbkvFBFvt9qVz5tXWHwMIOLAC51x133zpKWFy3_mb_RMbN-fftEKVRqPS6EEOPe03eIz5AliHkH7tItgiHkmm33AQJg&sa=X&ved=2ahUKEwj_o9nep7COAxWima8BHaHTEIgQtKgLKAN6BAgUEAE'}, {'title': 'Short videos', 'href': 'https://www.google.com/search?num=20&sca_esv=f7156635f6e9a261&hl=en&q=download+count+of+California+Covid+Notify+COVID+contact+tracing+app&udm=39&fbs=AIIjpHxU7SXXniUZfeShr2fp4giZrjP_Cx0LI1Ytb_FGcOviEreERTNAkkP8Y6EXltYTGWs9RGaEMfZ2dZFFrbmM-rnq9t2Yd6CLmSU0fTw2YpsUFAZkjtkV3nlJNkF6dgnv8hBPbkvFBFvt9qVz5tXWHwMIOLAC51x133zpKWFy3_mb_RMbN-fftEKVRqPS6EEOPe03eIz5AliHkH7tItgiHkmm33AQJg&sa=X&ved=2ahUKEwj_o9nep7COAxWima8BHaHTEIgQs6gLKAR6BAgREAE'}, {'title': 'Shopping', 'href': 'https://www.google.com/search?num=20&sca_esv=f7156635f6e9a261&hl=en&q=download+count+of+California+Covid+Notify+COVID+contact+tracing+app&udm=28&fbs=AIIjpHxU7SXXniUZfeShr2fp4giZrjP_Cx0LI1Ytb_FGcOviEreERTNAkkP8Y6EXltYTGWs9RGaEMfZ2dZFFrbmM-rnq9t2Yd6CLmSU0fTw2YpsUFAZkjtkV3nlJNkF6dgnv8hBPbkvFBFvt9qVz5tXWHwMIOLAC51x133zpKWFy3_mb_RMbN-fftEKVRqPS6EEOPe03eIz5AliHkH7tItgiHkmm33AQJg&ved=1t:220175&ictx=111'}], 'organic': [{'link': 'https://pmc.ncbi.nlm.nih.gov/articles/PMC9678789/', 'display_link': 'https://pmc.ncbi.nlm.nih.gov › articles › PMC9678789', 'title': 'Defining Key Performance Indicators for the California ...', 'description': 'California deployed the Google Apple Exposure Notification framework, branded CA Notify, on December 10, 2020, to supplement traditional COVID-19 contact ...', 'extensions': [{'inline': True, 'type': 'text', 'text': 'by E Aronoff-Spencer', 'rank': 1}, {'inline': True, 'type': 'text', 'text': '2022', 'rank': 2}, {'inline': True, 'type': 'text', 'text': 'Cited by 6', 'rank': 3}], 'rank': 1, 'global_rank': 1}, {'link': 'https://www.fhcsd.org/ca-notify/', 'display_link': 'https://www.fhcsd.org › ca-notify', 'title': 'CA Notify | COVID-19 Exposure Notifications', 'description': 'CA Notify is a phone application that will inform Californians if they have been exposed to someone who has tested positive for COVID-19.', 'extensions': [{'type': 'missing', 'text': 'count', 'rank': 1}, {'type': 'must_include', 'text': 'count', 'link': 'https://www.google.com/search?num=20&sca_esv=f7156635f6e9a261&hl=en&q=download+%22count%22+of+California+Covid+Notify+COVID+contact+tracing+app&sa=X&ved=2ahUKEwj_o9nep7COAxWima8BHaHTEIgQ5t4CegQIGxAB', 'rank': 2}], 'rank': 2, 'global_rank': 5}, {'link': 'https://www.cdph.ca.gov/Programs/CID/DCDC/Pages/CANotify/CANotifyMain.aspx', 'display_link': 'https://www.cdph.ca.gov › CID › DCDC › Pages › CAN...', 'title': 'CA Notify Home - CDPH - CA.gov', 'description': 'As of May 11, 2023, the CA Notify COVID-19 exposure notification system is no longer available. Please visit CDPH COVID-19 Resources for more information.', 'extensions': [{'inline': True, 'type': 'text', 'text': 'Oct 16, 2023', 'rank': 1}, {'type': 'missing', 'text': 'tracing', 'rank': 2}, {'type': 'must_include', 'text': 'tracing', 'link': 'https://www.google.com/search?num=20&sca_esv=f7156635f6e9a261&hl=en&q=download+count+of+California+Covid+Notify+COVID+contact+%22tracing%22+app&sa=X&ved=2ahUKEwj_o9nep7COAxWima8BHaHTEIgQ5t4CegQIRBAB', 'rank': 3}], 'rank': 3, 'global_rank': 6}, {'link': 'https://www.chcf.org/resource/preliminary-research-suggests-covid-19-warning-app-slowed-transmission-virus/', 'display_link': 'https://www.chcf.org › resource › preliminary-research-s...', 'title': 'Preliminary Research Suggests COVID-19 Warning App ...', 'description': 'More than nine million Californians – about one-third of residents over 18 – have enabled the CA Notify app.', 'extensions': [{'inline': True, 'type': 'text', 'text': 'Mar 2, 2021', 'rank': 1}, {'type': 'missing', 'text': 'count', 'rank': 2}, {'type': 'must_include', 'text': 'count', 'link': 'https://www.google.com/search?num=20&sca_esv=f7156635f6e9a261&hl=en&q=download+%22count%22+of+California+Covid+Notify+COVID+contact+tracing+app&sa=X&ved=2ahUKEwj_o9nep7COAxWima8BHaHTEIgQ5t4CegQIXhAB', 'rank': 3}], 'rank': 4, 'global_rank': 7}, {'link': 'https://www.cdph.ca.gov/Programs/OPA/CDPH%20Document%20Library/Toolkits/ca_notify/CA-notify-FAQ.pdf', 'display_link': 'https://www.cdph.ca.gov › OPA › Toolkits › CA-...', 'title': 'CA Notify: Frequently Asked Questions - CDPH', 'description': \"CA Notify is a free exposure notification system for smartphones—made possible by the California Department of Public Health—to alert you if you've been exposed.\", 'extensions': [{'type': 'missing', 'text': 'count', 'rank': 1}, {'type': 'must_include', 'text': 'count', 'link': 'https://www.google.com/search?num=20&sca_esv=f7156635f6e9a261&hl=en&q=download+%22count%22+of+California+Covid+Notify+COVID+contact+tracing+app&sa=X&ved=2ahUKEwj_o9nep7COAxWima8BHaHTEIgQ5t4CegQIRRAB', 'rank': 2}], 'rank': 5, 'global_rank': 8}, {'link': 'https://covid-19.ucla.edu/covid-notify/', 'display_link': 'https://covid-19.ucla.edu › covid-notify', 'title': 'CA COVID Notify - COVID-19 and vaccine resources', 'description': 'Android users can download CA COVID Notify on the Google Play Store ... Learn more at the CA COVID Notify website. For any technical issues activating or ...', 'rank': 6, 'global_rank': 9}, {'link': 'https://dot.la/california-covid-19-tracking-app-2649442530.html', 'display_link': 'https://dot.la › california-covid-19-tracking-app-26494...', 'title': \"How to Turn On California's COVID-19 Contract Tracing App\", 'description': 'The platform is available on the iPhones Settings menu under \"Exposure Notifications,\" but Android users will have to download the CA Notify app directly.', 'rank': 7, 'global_rank': 10}, {'link': 'https://www.sacbee.com/news/coronavirus/article249875513.html', 'display_link': 'https://www.sacbee.com › news › article249875513', 'title': \"California's COVID-19 contact tracing app off to slow start\", 'description': 'About 100,000 people have received exposure alerts from the CA Notify app since it was released in December. During that same time, nearly 2 ...', 'extensions': [{'inline': True, 'type': 'text', 'text': 'Mar 15, 2021', 'rank': 1}], 'rank': 8, 'global_rank': 11}, {'link': 'https://statescoop.com/25-percent-california-contact-tracing-app-ca-notify/', 'display_link': 'https://statescoop.com › 25-percent-california-contact-tr...', 'title': \"25 percent of California adults are using state's contact ...\", 'description': 'California boasts the highest contact-tracing app activation rate of any state in the country, with more than 8 million users, officials said.', 'extensions': [{'inline': True, 'type': 'text', 'text': 'Jan 8, 2021', 'rank': 1}], 'rank': 9, 'global_rank': 12}, {'link': 'https://www.theverge.com/22168473/coronavirus-contact-tracing-apps-exposure-notification-covid-google-apple', 'display_link': 'https://www.theverge.com › ... › Health › Coronavirus', 'title': \"Contact tracing apps promised big and didn't deliver\", 'description': 'California rolled out a COVID-19 contact tracing app this week, and officials — including Apple CEO Tim Cook — touted it as an advancement ...', 'extensions': [{'inline': True, 'type': 'text', 'text': 'Dec 11, 2020', 'rank': 1}], 'rank': 10, 'global_rank': 13}, {'link': 'https://www.eff.org/deeplinks/2020/12/ca-notify-app-useful-arrow-fight-against-covid-19', 'display_link': 'https://www.eff.org › deeplinks › 2020/12 › ca-notify-a...', 'title': 'California Has a New COVID Exposure Notification App', 'description': \"California joined dozens of other states and countries in launching its COVID-19 exposure notification app, CA Notify, built on Google and Apple's Exposure ...\", 'extensions': [{'inline': True, 'type': 'text', 'text': 'Dec 10, 2020', 'rank': 1}, {'type': 'missing', 'text': 'count', 'rank': 2}, {'type': 'must_include', 'text': 'count', 'link': 'https://www.google.com/search?num=20&sca_esv=f7156635f6e9a261&hl=en&q=download+%22count%22+of+California+Covid+Notify+COVID+contact+tracing+app&sa=X&ved=2ahUKEwj_o9nep7COAxWima8BHaHTEIgQ5t4CegQIYRAB', 'rank': 3}], 'rank': 11, 'global_rank': 14}, {'link': 'https://www.jmir.org/2021/3/e25726/', 'display_link': 'https://www.jmir.org › ...', 'title': 'Adoption of COVID-19 Contact Tracing Apps', 'description': 'Contact tracing and exposure notification apps have been looked to as novel methods to help reduce the transmission of COVID-19.', 'extensions': [{'inline': True, 'type': 'text', 'text': 'by E Seto', 'rank': 1}, {'type': 'missing', 'text': 'count', 'rank': 2}, {'type': 'missing', 'text': 'Notify', 'rank': 3}, {'inline': True, 'type': 'text', 'text': '2021', 'rank': 4}, {'inline': True, 'type': 'text', 'text': 'Cited by 99', 'rank': 5}], 'rank': 12, 'global_rank': 15}, {'link': 'https://pmc.ncbi.nlm.nih.gov/articles/PMC9357651/', 'display_link': 'https://pmc.ncbi.nlm.nih.gov › articles › PMC9357651', 'title': 'A Brief History of Exposure Notification During the COVID- ...', 'description': 'Exposure notification, a mobile device–based technology that notifies individuals of potential exposure to COVID-19 without requiring personally identifiable ...', 'extensions': [{'inline': True, 'type': 'text', 'text': 'by H Bair', 'rank': 1}, {'type': 'missing', 'text': 'count', 'rank': 2}, {'type': 'must_include', 'text': 'count', 'link': 'https://www.google.com/search?num=20&sca_esv=f7156635f6e9a261&hl=en&q=download+%22count%22+of+California+Covid+Notify+COVID+contact+tracing+app&sa=X&ved=2ahUKEwj_o9nep7COAxWima8BHaHTEIgQ5t4CegQIYxAB', 'rank': 3}, {'inline': True, 'type': 'text', 'text': '2022', 'rank': 4}, {'inline': True, 'type': 'text', 'text': 'Cited by 17', 'rank': 5}], 'rank': 13, 'global_rank': 16}, {'link': 'https://www.reddit.com/r/bayarea/comments/kai2ty/anyone_here_download_the_ca_notify_app_cas/', 'display_link': '50+ comments · 4 years ago', 'title': \"Anyone here download the CA Notify app (CA's Contact ...\", 'description': \"If you download one of these apps, it will use your phone's Bluetooth chip to do what Bluetooth does: emit little radio pings to find other ...\", 'extensions': [{'type': 'missing', 'text': 'count', 'rank': 1}, {'type': 'must_include', 'text': 'count', 'link': 'https://www.google.com/search?num=20&sca_esv=f7156635f6e9a261&hl=en&q=download+%22count%22+of+California+Covid+Notify+COVID+contact+tracing+app&sa=X&ved=2ahUKEwj_o9nep7COAxWima8BHaHTEIgQ5t4CegQIZxAB', 'rank': 2}], 'rank': 14, 'global_rank': 17}, {'link': 'https://calhospital.org/ca-covid-notify-on-demand-learning/', 'display_link': 'https://calhospital.org › On-Demand Learning', 'title': 'CA Notify: A New App to Speed COVID Exposure ...', 'description': 'CA COVID Notify will be available for download Dec. 10. Installing the app right away is key to aid in quick detection later.', 'extensions': [{'type': 'missing', 'text': 'count', 'rank': 1}, {'type': 'must_include', 'text': 'count', 'link': 'https://www.google.com/search?num=20&sca_esv=f7156635f6e9a261&hl=en&q=download+%22count%22+of+California+Covid+Notify+COVID+contact+tracing+app&sa=X&ved=2ahUKEwj_o9nep7COAxWima8BHaHTEIgQ5t4CegQIYBAB', 'rank': 2}], 'rank': 15, 'global_rank': 18}, {'link': 'https://www.technologyreview.com/2020/12/14/1014426/covid-california-contact-tracing-app-america-states/', 'display_link': 'https://www.technologyreview.com › 2020/12/14 › covi...', 'title': \"Contact tracing apps now cover nearly half of America. It's ...\", 'description': \"Almost half of all Americans now live somewhere covered by an app that will warn them if they've been close to someone with covid-19.\", 'extensions': [{'inline': True, 'type': 'text', 'text': 'Dec 14, 2020', 'rank': 1}], 'rank': 16, 'global_rank': 19}, {'link': 'https://content.govdelivery.com/accounts/CAGOLETA/bulletins/2b073d6', 'display_link': 'https://content.govdelivery.com › CAGOLETA › bulletins', 'title': 'New Smart Phone Tool Designed to Slow the Spread of ...', 'description': 'Starting December 10, 2020 a new digital tool called CA Notify, will help reduce the transmission of COVID-19 and be available to smartphone ...', 'extensions': [{'inline': True, 'type': 'text', 'text': 'Dec 9, 2020', 'rank': 1}], 'rank': 17, 'global_rank': 20}, {'link': 'https://www.alvareztg.com/ca-notify-app/', 'display_link': 'https://www.alvareztg.com › ca-notify-app', 'title': 'CA Notify App: Everything You Should Know', 'description': 'CA Notify is a free service that allows you to find out if you were exposed to COVID-19. The app, which is designed to help with contract tracing for COVID-19,', 'extensions': [{'type': 'missing', 'text': 'count', 'rank': 1}, {'type': 'must_include', 'text': 'count', 'link': 'https://www.google.com/search?num=20&sca_esv=f7156635f6e9a261&hl=en&q=download+%22count%22+of+California+Covid+Notify+COVID+contact+tracing+app&sa=X&ved=2ahUKEwj_o9nep7COAxWima8BHaHTEIgQ5t4CegQIQxAB', 'rank': 2}], 'rank': 18, 'global_rank': 21}, {'link': 'https://enjoymillvalley.com/california-debuts-ca-notify-covid-19-contact-tracing-app-via-google-and-apple-have-you-signed-up-yet/', 'display_link': 'https://enjoymillvalley.com › california-debuts-ca-notif...', 'title': 'California Debuts CA Notify COVID-19 Contact Tracing ...', 'description': \"It's essentially a smartphone feature you can opt into that will notify you of potential coronavirus exposure by using Bluetooth to detect which ...\", 'extensions': [{'inline': True, 'type': 'text', 'text': 'Dec 12, 2020', 'rank': 1}], 'rank': 19, 'global_rank': 22}, {'link': 'https://journals.plos.org/digitalhealth/article?id=10.1371/journal.pdig.0000287', 'display_link': 'https://journals.plos.org › digitalhealth › article › journa...', 'title': 'Digital exposure notification tools: A global landscape ...', 'description': 'This study provides an overview of the global landscape of COVID-19 mobile apps, highlighting the prevalence of exposure notification tools and other app ...', 'extensions': [{'inline': True, 'type': 'text', 'text': 'by C Nebeker', 'rank': 1}, {'inline': True, 'type': 'text', 'text': '2023', 'rank': 2}, {'inline': True, 'type': 'text', 'text': 'Cited by 8', 'rank': 3}], 'rank': 20, 'global_rank': 23}], 'pagination': {'pages': [{'page': 2, 'start': 20, 'link': 'https://www.google.com/search?q=download+count+of+California+Covid+Notify+COVID+contact+tracing+app&num=20&sca_esv=f7156635f6e9a261&hl=en&ei=DqhuaP_kGqKzvr0PoafDwAg&start=20&sa=N&sstk=Ac65TH7bIz-gyKOH1cP3DW61u4E_VD8-AlYDn_7l9oA_1BvO0KTZP79sPhU0B9HhRrlMnsSfy4jKwiRtFwY8orFqyVsW9HlHLhl2pQ&ved=2ahUKEwj_o9nep7COAxWima8BHaHTEIgQ8tMDegQIDRAE'}, {'page': 3, 'start': 40, 'link': 'https://www.google.com/search?q=download+count+of+California+Covid+Notify+COVID+contact+tracing+app&num=20&sca_esv=f7156635f6e9a261&hl=en&ei=DqhuaP_kGqKzvr0PoafDwAg&start=40&sa=N&sstk=Ac65TH7bIz-gyKOH1cP3DW61u4E_VD8-AlYDn_7l9oA_1BvO0KTZP79sPhU0B9HhRrlMnsSfy4jKwiRtFwY8orFqyVsW9HlHLhl2pQ&ved=2ahUKEwj_o9nep7COAxWima8BHaHTEIgQ8tMDegQIDRAG'}, {'page': 4, 'start': 60, 'link': 'https://www.google.com/search?q=download+count+of+California+Covid+Notify+COVID+contact+tracing+app&num=20&sca_esv=f7156635f6e9a261&hl=en&ei=DqhuaP_kGqKzvr0PoafDwAg&start=60&sa=N&sstk=Ac65TH7bIz-gyKOH1cP3DW61u4E_VD8-AlYDn_7l9oA_1BvO0KTZP79sPhU0B9HhRrlMnsSfy4jKwiRtFwY8orFqyVsW9HlHLhl2pQ&ved=2ahUKEwj_o9nep7COAxWima8BHaHTEIgQ8tMDegQIDRAI'}, {'page': 5, 'start': 80, 'link': 'https://www.google.com/search?q=download+count+of+California+Covid+Notify+COVID+contact+tracing+app&num=20&sca_esv=f7156635f6e9a261&hl=en&ei=DqhuaP_kGqKzvr0PoafDwAg&start=80&sa=N&sstk=Ac65TH7bIz-gyKOH1cP3DW61u4E_VD8-AlYDn_7l9oA_1BvO0KTZP79sPhU0B9HhRrlMnsSfy4jKwiRtFwY8orFqyVsW9HlHLhl2pQ&ved=2ahUKEwj_o9nep7COAxWima8BHaHTEIgQ8tMDegQIDRAK'}, {'page': 6, 'start': 100, 'link': 'https://www.google.com/search?q=download+count+of+California+Covid+Notify+COVID+contact+tracing+app&num=20&sca_esv=f7156635f6e9a261&hl=en&ei=DqhuaP_kGqKzvr0PoafDwAg&start=100&sa=N&sstk=Ac65TH7bIz-gyKOH1cP3DW61u4E_VD8-AlYDn_7l9oA_1BvO0KTZP79sPhU0B9HhRrlMnsSfy4jKwiRtFwY8orFqyVsW9HlHLhl2pQ&ved=2ahUKEwj_o9nep7COAxWima8BHaHTEIgQ8tMDegQIDRAM'}, {'page': 7, 'start': 120, 'link': 'https://www.google.com/search?q=download+count+of+California+Covid+Notify+COVID+contact+tracing+app&num=20&sca_esv=f7156635f6e9a261&hl=en&ei=DqhuaP_kGqKzvr0PoafDwAg&start=120&sa=N&sstk=Ac65TH7bIz-gyKOH1cP3DW61u4E_VD8-AlYDn_7l9oA_1BvO0KTZP79sPhU0B9HhRrlMnsSfy4jKwiRtFwY8orFqyVsW9HlHLhl2pQ&ved=2ahUKEwj_o9nep7COAxWima8BHaHTEIgQ8tMDegQIDRAO'}, {'page': 8, 'start': 140, 'link': 'https://www.google.com/search?q=download+count+of+California+Covid+Notify+COVID+contact+tracing+app&num=20&sca_esv=f7156635f6e9a261&hl=en&ei=DqhuaP_kGqKzvr0PoafDwAg&start=140&sa=N&sstk=Ac65TH7bIz-gyKOH1cP3DW61u4E_VD8-AlYDn_7l9oA_1BvO0KTZP79sPhU0B9HhRrlMnsSfy4jKwiRtFwY8orFqyVsW9HlHLhl2pQ&ved=2ahUKEwj_o9nep7COAxWima8BHaHTEIgQ8tMDegQIDRAQ'}, {'page': 9, 'start': 160, 'link': 'https://www.google.com/search?q=download+count+of+California+Covid+Notify+COVID+contact+tracing+app&num=20&sca_esv=f7156635f6e9a261&hl=en&ei=DqhuaP_kGqKzvr0PoafDwAg&start=160&sa=N&sstk=Ac65TH7bIz-gyKOH1cP3DW61u4E_VD8-AlYDn_7l9oA_1BvO0KTZP79sPhU0B9HhRrlMnsSfy4jKwiRtFwY8orFqyVsW9HlHLhl2pQ&ved=2ahUKEwj_o9nep7COAxWima8BHaHTEIgQ8tMDegQIDRAS'}, {'page': 10, 'start': 180, 'link': 'https://www.google.com/search?q=download+count+of+California+Covid+Notify+COVID+contact+tracing+app&num=20&sca_esv=f7156635f6e9a261&hl=en&ei=DqhuaP_kGqKzvr0PoafDwAg&start=180&sa=N&sstk=Ac65TH7bIz-gyKOH1cP3DW61u4E_VD8-AlYDn_7l9oA_1BvO0KTZP79sPhU0B9HhRrlMnsSfy4jKwiRtFwY8orFqyVsW9HlHLhl2pQ&ved=2ahUKEwj_o9nep7COAxWima8BHaHTEIgQ8tMDegQIDRAU'}], 'current_page': 1, 'next_page': 2, 'next_page_start': 20, 'next_page_link': 'https://www.google.com/search?q=download+count+of+California+Covid+Notify+COVID+contact+tracing+app&num=20&sca_esv=f7156635f6e9a261&hl=en&ei=DqhuaP_kGqKzvr0PoafDwAg&start=20&sa=N&sstk=Ac65TH7bIz-gyKOH1cP3DW61u4E_VD8-AlYDn_7l9oA_1BvO0KTZP79sPhU0B9HhRrlMnsSfy4jKwiRtFwY8orFqyVsW9HlHLhl2pQ&ved=2ahUKEwj_o9nep7COAxWima8BHaHTEIgQ8tMDegQIDRAE'}, 'people_also_ask': [{'question': 'How to do COVID contact tracing?', 'answer_source': 'Contact Tracing | CDC', 'answer_link': 'https://www.cdc.gov/museum/pdf/cdcm-pha-stem-lesson-contact-tracing-lesson.pdf', 'answer_display_link': 'https://www.cdc.gov › museum › pdf › cdcm-pha-stem-l...https://www.cdc.gov › museum › pdf › cdcm-pha-stem-l...', 'answers': [{'type': 'answer', 'value': {'text': 'In order to conduct effective contact tracing, health officials must engage people in all three activities: speaking, sharing, and quarantining.'}, 'rank': 1}], 'rank': 1, 'global_rank': 2}, {'question': 'What is CA notify?', 'answer_source': 'CA Notify Home - CDPH - CA.gov', 'answer_link': 'https://www.cdph.ca.gov/Programs/CID/DCDC/Pages/CANotify/CANotifyMain.aspx#:~:text=%E2%80%8B%E2%80%8B%E2%80%8BSlow,exposed%20without%20using%20your%20name.', 'answer_display_link': 'https://www.cdph.ca.gov › CID › DCDC › Pages › CAN...https://www.cdph.ca.gov › CID › DCDC › Pages › CAN...', 'answers': [{'type': 'answer', 'value': {'text': \"<h1>\\u200b\\u200b\\u200bSlow the Spread with CA Notify<br></h1><p>CA Notify is a free exposure notification system that can let you know if you were recently near someone who tested positive for COVID-19, even if you don't know each other. If you get COVID-19, CA Notify lets you alert those you may have exposed without using your name.Oct 16, 2023\"}, 'rank': 1}], 'rank': 2, 'global_rank': 3}, {'question': 'When to notify others of COVID exposure?', 'answer_source': 'Notifying Close Contacts After a Positive COVID Test - Ask the Viking', 'answer_link': 'https://ask.salemstate.edu/kb/notifying-close-contacts-after-positive-covid-test#:~:text=They%20are%20at%20high%20risk,whichever%20occurred%20first)%20through%20today.', 'answer_display_link': 'https://ask.salemstate.edu › notifying-close-contacts-after...https://ask.salemstate.edu › notifying-close-contacts-after...', 'answers': [{'type': 'answer', 'value': {'text': 'They are at high risk of infection and therefore need to be notified as soon as possible. If you test positive: Identify individuals that you have come into close contact with within 48 hours of testing positive or developing symptoms (whichever occurred first) through today.'}, 'rank': 1}], 'rank': 3, 'global_rank': 4}], 'ai_overview': {'error': 'AI Overview did not appear on original SERP. Please ensure that you are using the `brd_ai_overview=1` query parameter (https://docs.brightdata.com/scraping-automation/serp-api/query-parameters/google#ai-overview), and that your query is relevant for triggering an AI Overview.'}}\n",
      "2025-07-09 13:34:07,706 - web_data_collection.webpage_retrieval - DEBUG - Retrieved and yielded 20 results from request 1\n",
      "2025-07-09 13:34:07,707 - web_data_collection.webpage_retrieval - DEBUG - Processing query: download count of Colorado Exposure Notifications COVID contact tracing app, variable value combo: ('Colorado Exposure Notifications',)\n",
      "2025-07-09 13:34:07,708 - web_data_collection.webpage_retrieval - DEBUG - Processing date chunk: None to None\n",
      "2025-07-09 13:34:07,709 - web_data_collection.webpage_retrieval - DEBUG - Making request 1/1\n"
     ]
    },
    {
     "name": "stdout",
     "output_type": "stream",
     "text": [
      "(('California Covid Notify',), 'download count of California Covid Notify COVID contact tracing app', {'link': 'https://pmc.ncbi.nlm.nih.gov/articles/PMC9678789/', 'title': 'Defining Key Performance Indicators for the California ...', 'description': 'California deployed the Google Apple Exposure Notification framework, branded CA Notify, on December 10, 2020, to supplement traditional COVID-19 contact ...'})\n",
      "(('California Covid Notify',), 'download count of California Covid Notify COVID contact tracing app', {'link': 'https://www.fhcsd.org/ca-notify/', 'title': 'CA Notify | COVID-19 Exposure Notifications', 'description': 'CA Notify is a phone application that will inform Californians if they have been exposed to someone who has tested positive for COVID-19.'})\n",
      "(('California Covid Notify',), 'download count of California Covid Notify COVID contact tracing app', {'link': 'https://www.cdph.ca.gov/Programs/CID/DCDC/Pages/CANotify/CANotifyMain.aspx', 'title': 'CA Notify Home - CDPH - CA.gov', 'description': 'As of May 11, 2023, the CA Notify COVID-19 exposure notification system is no longer available. Please visit CDPH COVID-19 Resources for more information.'})\n",
      "(('California Covid Notify',), 'download count of California Covid Notify COVID contact tracing app', {'link': 'https://www.chcf.org/resource/preliminary-research-suggests-covid-19-warning-app-slowed-transmission-virus/', 'title': 'Preliminary Research Suggests COVID-19 Warning App ...', 'description': 'More than nine million Californians – about one-third of residents over 18 – have enabled the CA Notify app.'})\n",
      "(('California Covid Notify',), 'download count of California Covid Notify COVID contact tracing app', {'link': 'https://www.cdph.ca.gov/Programs/OPA/CDPH%20Document%20Library/Toolkits/ca_notify/CA-notify-FAQ.pdf', 'title': 'CA Notify: Frequently Asked Questions - CDPH', 'description': \"CA Notify is a free exposure notification system for smartphones—made possible by the California Department of Public Health—to alert you if you've been exposed.\"})\n",
      "(('California Covid Notify',), 'download count of California Covid Notify COVID contact tracing app', {'link': 'https://covid-19.ucla.edu/covid-notify/', 'title': 'CA COVID Notify - COVID-19 and vaccine resources', 'description': 'Android users can download CA COVID Notify on the Google Play Store ... Learn more at the CA COVID Notify website. For any technical issues activating or ...'})\n",
      "(('California Covid Notify',), 'download count of California Covid Notify COVID contact tracing app', {'link': 'https://dot.la/california-covid-19-tracking-app-2649442530.html', 'title': \"How to Turn On California's COVID-19 Contract Tracing App\", 'description': 'The platform is available on the iPhones Settings menu under \"Exposure Notifications,\" but Android users will have to download the CA Notify app directly.'})\n",
      "(('California Covid Notify',), 'download count of California Covid Notify COVID contact tracing app', {'link': 'https://www.sacbee.com/news/coronavirus/article249875513.html', 'title': \"California's COVID-19 contact tracing app off to slow start\", 'description': 'About 100,000 people have received exposure alerts from the CA Notify app since it was released in December. During that same time, nearly 2 ...'})\n",
      "(('California Covid Notify',), 'download count of California Covid Notify COVID contact tracing app', {'link': 'https://statescoop.com/25-percent-california-contact-tracing-app-ca-notify/', 'title': \"25 percent of California adults are using state's contact ...\", 'description': 'California boasts the highest contact-tracing app activation rate of any state in the country, with more than 8 million users, officials said.'})\n",
      "(('California Covid Notify',), 'download count of California Covid Notify COVID contact tracing app', {'link': 'https://www.theverge.com/22168473/coronavirus-contact-tracing-apps-exposure-notification-covid-google-apple', 'title': \"Contact tracing apps promised big and didn't deliver\", 'description': 'California rolled out a COVID-19 contact tracing app this week, and officials — including Apple CEO Tim Cook — touted it as an advancement ...'})\n",
      "(('California Covid Notify',), 'download count of California Covid Notify COVID contact tracing app', {'link': 'https://www.eff.org/deeplinks/2020/12/ca-notify-app-useful-arrow-fight-against-covid-19', 'title': 'California Has a New COVID Exposure Notification App', 'description': \"California joined dozens of other states and countries in launching its COVID-19 exposure notification app, CA Notify, built on Google and Apple's Exposure ...\"})\n",
      "(('California Covid Notify',), 'download count of California Covid Notify COVID contact tracing app', {'link': 'https://www.jmir.org/2021/3/e25726/', 'title': 'Adoption of COVID-19 Contact Tracing Apps', 'description': 'Contact tracing and exposure notification apps have been looked to as novel methods to help reduce the transmission of COVID-19.'})\n",
      "(('California Covid Notify',), 'download count of California Covid Notify COVID contact tracing app', {'link': 'https://pmc.ncbi.nlm.nih.gov/articles/PMC9357651/', 'title': 'A Brief History of Exposure Notification During the COVID- ...', 'description': 'Exposure notification, a mobile device–based technology that notifies individuals of potential exposure to COVID-19 without requiring personally identifiable ...'})\n",
      "(('California Covid Notify',), 'download count of California Covid Notify COVID contact tracing app', {'link': 'https://www.reddit.com/r/bayarea/comments/kai2ty/anyone_here_download_the_ca_notify_app_cas/', 'title': \"Anyone here download the CA Notify app (CA's Contact ...\", 'description': \"If you download one of these apps, it will use your phone's Bluetooth chip to do what Bluetooth does: emit little radio pings to find other ...\"})\n",
      "(('California Covid Notify',), 'download count of California Covid Notify COVID contact tracing app', {'link': 'https://calhospital.org/ca-covid-notify-on-demand-learning/', 'title': 'CA Notify: A New App to Speed COVID Exposure ...', 'description': 'CA COVID Notify will be available for download Dec. 10. Installing the app right away is key to aid in quick detection later.'})\n",
      "(('California Covid Notify',), 'download count of California Covid Notify COVID contact tracing app', {'link': 'https://content.govdelivery.com/accounts/CAGOLETA/bulletins/2b073d6', 'title': 'New Smart Phone Tool Designed to Slow the Spread of ...', 'description': 'Starting December 10, 2020 a new digital tool called CA Notify, will help reduce the transmission of COVID-19 and be available to smartphone ...'})\n",
      "(('California Covid Notify',), 'download count of California Covid Notify COVID contact tracing app', {'link': 'https://www.alvareztg.com/ca-notify-app/', 'title': 'CA Notify App: Everything You Should Know', 'description': 'CA Notify is a free service that allows you to find out if you were exposed to COVID-19. The app, which is designed to help with contract tracing for COVID-19,'})\n",
      "(('California Covid Notify',), 'download count of California Covid Notify COVID contact tracing app', {'link': 'https://enjoymillvalley.com/california-debuts-ca-notify-covid-19-contact-tracing-app-via-google-and-apple-have-you-signed-up-yet/', 'title': 'California Debuts CA Notify COVID-19 Contact Tracing ...', 'description': \"It's essentially a smartphone feature you can opt into that will notify you of potential coronavirus exposure by using Bluetooth to detect which ...\"})\n",
      "(('California Covid Notify',), 'download count of California Covid Notify COVID contact tracing app', {'link': 'https://journals.plos.org/digitalhealth/article?id=10.1371/journal.pdig.0000287', 'title': 'Digital exposure notification tools: A global landscape ...', 'description': 'This study provides an overview of the global landscape of COVID-19 mobile apps, highlighting the prevalence of exposure notification tools and other app ...'})\n"
     ]
    },
    {
     "name": "stderr",
     "output_type": "stream",
     "text": [
      "2025-07-09 13:34:10,158 - web_data_collection.webpage_retrieval - DEBUG - {'general': {'search_engine': 'google', 'query': 'download count of Colorado Exposure Notifications COVID contact tracing app', 'results_cnt': 88600, 'search_time': 0.31, 'language': 'en', 'location': 'United States', 'mobile': False, 'basic_view': False, 'search_type': 'text', 'page_title': 'download count of Colorado Exposure Notifications COVID contact tracing app - Google Search', 'timestamp': '2025-07-09T17:34:09.935Z'}, 'input': {'original_url': 'https://www.google.com/search?q=download+count+of+Colorado+Exposure+Notifications+COVID+contact+tracing+app&start=0&brd_json=1&num=20', 'request_id': 'hl_a84cb5f7_fz2f2xmkdpw'}, 'navigation': [{'title': 'AI Mode', 'href': 'https://www.google.com/search?q=download+count+of+Colorado+Exposure+Notifications+COVID+contact+tracing+app&num=20&sca_esv=73a6d3bdeda9064e&hl=en&udm=50&fbs=AIIjpHxU7SXXniUZfeShr2fp4giZrjP_Cx0LI1Ytb_FGcOviEiTm5uW1q0uNfK7KsnoL8hUyUYUJLZ_b-p0lT09DIkR7bwzZ58goNnPFwCobO9Lr1FJy27_ddIL61O5aDZqsFHeKdbTBa3SWM9BbE6jpBPGlXzcFCH1KrIQ9yHBjyi-ZLJUInBy54epU8g3fHyjXolCFfseHfRcNjgYhOadYKw2rr0vq-A&aep=1&ntc=1&sa=X&ved=2ahUKEwjRp_rfp7COAxXgs1YBHQh8KVMQ2J8OegQIDxAC'}, {'title': 'News', 'href': 'https://www.google.com/search?num=20&sca_esv=73a6d3bdeda9064e&hl=en&q=download+count+of+Colorado+Exposure+Notifications+COVID+contact+tracing+app&tbm=nws&source=lnms&fbs=AIIjpHxU7SXXniUZfeShr2fp4giZrjP_Cx0LI1Ytb_FGcOviEiTm5uW1q0uNfK7KsnoL8hUyUYUJLZ_b-p0lT09DIkR7bwzZ58goNnPFwCobO9Lr1FJy27_ddIL61O5aDZqsFHeKdbTBa3SWM9BbE6jpBPGlXzcFCH1KrIQ9yHBjyi-ZLJUInBy54epU8g3fHyjXolCFfseHfRcNjgYhOadYKw2rr0vq-A&sa=X&ved=2ahUKEwjRp_rfp7COAxXgs1YBHQh8KVMQ0pQJKAF6BAgTEAE'}, {'title': 'Images', 'href': 'https://www.google.com/search?num=20&sca_esv=73a6d3bdeda9064e&hl=en&q=download+count+of+Colorado+Exposure+Notifications+COVID+contact+tracing+app&udm=2&fbs=AIIjpHxU7SXXniUZfeShr2fp4giZrjP_Cx0LI1Ytb_FGcOviEiTm5uW1q0uNfK7KsnoL8hUyUYUJLZ_b-p0lT09DIkR7bwzZ58goNnPFwCobO9Lr1FJy27_ddIL61O5aDZqsFHeKdbTBa3SWM9BbE6jpBPGlXzcFCH1KrIQ9yHBjyi-ZLJUInBy54epU8g3fHyjXolCFfseHfRcNjgYhOadYKw2rr0vq-A&sa=X&ved=2ahUKEwjRp_rfp7COAxXgs1YBHQh8KVMQtKgLKAJ6BAgSEAE'}, {'title': 'Videos', 'href': 'https://www.google.com/search?num=20&sca_esv=73a6d3bdeda9064e&hl=en&q=download+count+of+Colorado+Exposure+Notifications+COVID+contact+tracing+app&udm=7&fbs=AIIjpHxU7SXXniUZfeShr2fp4giZrjP_Cx0LI1Ytb_FGcOviEiTm5uW1q0uNfK7KsnoL8hUyUYUJLZ_b-p0lT09DIkR7bwzZ58goNnPFwCobO9Lr1FJy27_ddIL61O5aDZqsFHeKdbTBa3SWM9BbE6jpBPGlXzcFCH1KrIQ9yHBjyi-ZLJUInBy54epU8g3fHyjXolCFfseHfRcNjgYhOadYKw2rr0vq-A&sa=X&ved=2ahUKEwjRp_rfp7COAxXgs1YBHQh8KVMQtKgLKAN6BAgWEAE'}, {'title': 'Short videos', 'href': 'https://www.google.com/search?num=20&sca_esv=73a6d3bdeda9064e&hl=en&q=download+count+of+Colorado+Exposure+Notifications+COVID+contact+tracing+app&udm=39&fbs=AIIjpHxU7SXXniUZfeShr2fp4giZrjP_Cx0LI1Ytb_FGcOviEiTm5uW1q0uNfK7KsnoL8hUyUYUJLZ_b-p0lT09DIkR7bwzZ58goNnPFwCobO9Lr1FJy27_ddIL61O5aDZqsFHeKdbTBa3SWM9BbE6jpBPGlXzcFCH1KrIQ9yHBjyi-ZLJUInBy54epU8g3fHyjXolCFfseHfRcNjgYhOadYKw2rr0vq-A&sa=X&ved=2ahUKEwjRp_rfp7COAxXgs1YBHQh8KVMQs6gLKAR6BAgUEAE'}, {'title': 'Shopping', 'href': 'https://www.google.com/search?num=20&sca_esv=73a6d3bdeda9064e&hl=en&q=download+count+of+Colorado+Exposure+Notifications+COVID+contact+tracing+app&udm=28&fbs=AIIjpHxU7SXXniUZfeShr2fp4giZrjP_Cx0LI1Ytb_FGcOviEiTm5uW1q0uNfK7KsnoL8hUyUYUJLZ_b-p0lT09DIkR7bwzZ58goNnPFwCobO9Lr1FJy27_ddIL61O5aDZqsFHeKdbTBa3SWM9BbE6jpBPGlXzcFCH1KrIQ9yHBjyi-ZLJUInBy54epU8g3fHyjXolCFfseHfRcNjgYhOadYKw2rr0vq-A&ved=1t:220175&ictx=111'}], 'organic': [{'link': 'https://coloradosun.com/2023/05/08/colorado-exposure-notifications-phone-app/', 'display_link': 'https://coloradosun.com › 2023/05/08 › colorado-expo...', 'title': 'Colorado is ending its Exposure Notifications phone app ...', 'description': 'The service is ending in Colorado on Thursday, according to the state Department of Public Health and Environment.', 'extensions': [{'inline': True, 'type': 'text', 'text': 'May 8, 2023', 'rank': 1}, {'type': 'missing', 'text': 'count', 'rank': 2}, {'type': 'must_include', 'text': 'count', 'link': 'https://www.google.com/search?num=20&sca_esv=73a6d3bdeda9064e&hl=en&q=download+%22count%22+of+Colorado+Exposure+Notifications+COVID+contact+tracing+app&sa=X&ved=2ahUKEwjRp_rfp7COAxXgs1YBHQh8KVMQ5t4CegQIGxAB', 'rank': 3}], 'rank': 1, 'global_rank': 1}, {'link': 'https://www.9news.com/article/news/local/next/colorado-covid-tracing-app-2020-december-coronavirus/73-1c4bf0ce-6c26-4323-9eda-ce31b8f11639', 'display_link': 'https://www.9news.com › article › news › local › next', 'title': 'Tons of Coloradans got the COVID exposure tracking app', 'description': 'More than 1.4 million people in the state have the COVID-19 exposure app on their phones, but much fewer people are using it.', 'extensions': [{'inline': True, 'type': 'text', 'text': 'Dec 21, 2020', 'rank': 1}], 'rank': 2, 'global_rank': 6}, {'link': 'https://fletcher.tufts.edu/news-events/news/did-colorados-covid-19-exposure-notification-app-succeed-its-complicated', 'display_link': 'https://fletcher.tufts.edu › News and Events › News', 'title': \"Did Colorado's COVID-19 exposure notification app succeed ...\", 'description': 'A study in the United Kingdom found the app could have prevented anywhere from 100,000 to 900,000 cases. The U.K. study also found that the app ...', 'extensions': [{'inline': True, 'type': 'text', 'text': 'Jun 30, 2021', 'rank': 1}, {'type': 'missing', 'text': 'count', 'rank': 2}, {'type': 'must_include', 'text': 'count', 'link': 'https://www.google.com/search?num=20&sca_esv=73a6d3bdeda9064e&hl=en&q=download+%22count%22+of+Colorado+Exposure+Notifications+COVID+contact+tracing+app&sa=X&ved=2ahUKEwjRp_rfp7COAxXgs1YBHQh8KVMQ5t4CegQIRRAB', 'rank': 3}], 'rank': 3, 'global_rank': 7}, {'link': 'https://www.cpr.org/2020/11/19/the-biggest-bug-for-coronavirus-exposure-apps-the-people-using-them/', 'display_link': 'https://www.cpr.org › 2020/11/19 › the-biggest-bug-fo...', 'title': 'The Biggest Bug For Coronavirus Exposure Apps? The ...', 'description': \"Colorado's health department is issuing thousands of COVID codes a day to people who test positive. But no one knows how many are actually ...\", 'extensions': [{'inline': True, 'type': 'text', 'text': 'Nov 19, 2020', 'rank': 1}, {'type': 'missing', 'text': 'count', 'rank': 2}, {'type': 'must_include', 'text': 'count', 'link': 'https://www.google.com/search?num=20&sca_esv=73a6d3bdeda9064e&hl=en&q=download+%22count%22+of+Colorado+Exposure+Notifications+COVID+contact+tracing+app&sa=X&ved=2ahUKEwjRp_rfp7COAxXgs1YBHQh8KVMQ5t4CegQIZBAB', 'rank': 3}], 'rank': 4, 'global_rank': 8}, {'link': 'https://www.gao.gov/blog/covid-19-exposure-notification-apps-are-available.-are-they-working', 'display_link': 'https://www.gao.gov › blog › covid-19-exposure-notific...', 'title': 'COVID-19 Exposure Notification Apps Are Available. But ...', 'description': 'The apps are intended to detect when 2 app users are in close contact, then send a notification if 1 of them later tests positive for COVID-19.', 'extensions': [{'inline': True, 'type': 'text', 'text': 'Sep 16, 2021', 'rank': 1}, {'type': 'missing', 'text': 'count', 'rank': 2}, {'type': 'must_include', 'text': 'count', 'link': 'https://www.google.com/search?num=20&sca_esv=73a6d3bdeda9064e&hl=en&q=download+%22count%22+of+Colorado+Exposure+Notifications+COVID+contact+tracing+app&sa=X&ved=2ahUKEwjRp_rfp7COAxXgs1YBHQh8KVMQ5t4CegQITBAB', 'rank': 3}], 'rank': 5, 'global_rank': 9}, {'link': 'https://coloradosun.com/2020/10/30/colorado-coronavirus-exposure-notifications-google-apple/', 'display_link': 'https://coloradosun.com › 2020/10/30 › colorado-coro...', 'title': 'A half-million Coloradans have already signed up for the ...', 'description': \"More than 500,000 Coloradans have already signed up for the state's new tool to notify people if they have possibly been exposed to the ...\", 'extensions': [{'inline': True, 'type': 'text', 'text': 'Oct 30, 2020', 'rank': 1}, {'type': 'missing', 'text': 'count', 'rank': 2}, {'type': 'must_include', 'text': 'count', 'link': 'https://www.google.com/search?num=20&sca_esv=73a6d3bdeda9064e&hl=en&q=download+%22count%22+of+Colorado+Exposure+Notifications+COVID+contact+tracing+app&sa=X&ved=2ahUKEwjRp_rfp7COAxXgs1YBHQh8KVMQ5t4CegQIRhAB', 'rank': 3}], 'rank': 6, 'global_rank': 10}, {'link': 'https://www.denverpost.com/2021/06/30/colorado-covid-exposure-notification-app/', 'display_link': 'https://www.denverpost.com › 2021/06/30 › colorado-c...', 'title': \"Did Colorado's COVID-19 exposure notification app ...\", 'description': 'The Colorado Department of Public Health and Environment reported it generated 377,007 codes for anyone who tested positive between October and ...', 'extensions': [{'inline': True, 'type': 'text', 'text': 'Jun 30, 2021', 'rank': 1}, {'type': 'missing', 'text': 'count', 'rank': 2}, {'type': 'must_include', 'text': 'count', 'link': 'https://www.google.com/search?num=20&sca_esv=73a6d3bdeda9064e&hl=en&q=download+%22count%22+of+Colorado+Exposure+Notifications+COVID+contact+tracing+app&sa=X&ved=2ahUKEwjRp_rfp7COAxXgs1YBHQh8KVMQ5t4CegQIaxAB', 'rank': 3}], 'rank': 7, 'global_rank': 11}, {'link': 'https://www.cpr.org/2020/10/29/10-of-coloradans-are-already-using-the-covid-19-tracking-app-will-it-help/', 'display_link': 'https://www.cpr.org › 2020/10/29 › 10-of-coloradans-a...', 'title': '10% Of Coloradans Are Already Using The COVID-19 ...', 'description': 'More than 10 percent of Coloradans have downloaded or enabled the Exposure Notification System since it was launched over the weekend.', 'extensions': [{'inline': True, 'type': 'text', 'text': 'Oct 29, 2020', 'rank': 1}, {'type': 'missing', 'text': 'count', 'rank': 2}, {'type': 'must_include', 'text': 'count', 'link': 'https://www.google.com/search?num=20&sca_esv=73a6d3bdeda9064e&hl=en&q=download+%22count%22+of+Colorado+Exposure+Notifications+COVID+contact+tracing+app&sa=X&ved=2ahUKEwjRp_rfp7COAxXgs1YBHQh8KVMQ5t4CegQIahAB', 'rank': 3}], 'rank': 8, 'global_rank': 12}, {'link': 'https://www.9news.com/article/news/investigations/colorado-covid-exposure-app/73-121b776c-88df-4391-9c6d-e7ea945fe4c2', 'display_link': 'https://www.9news.com › article › news › investigations', 'title': 'Colorado COVID exposure app rarely worked ...', 'description': 'Codes were redeemed just about 8% of the time according to health officials.', 'extensions': [{'inline': True, 'type': 'text', 'text': 'Aug 19, 2021', 'rank': 1}], 'rank': 9, 'global_rank': 13}, {'link': 'https://time.com/5921518/covid-exposure-notification-apps/', 'display_link': 'https://time.com › Tech › COVID-19', 'title': 'People Are Finally Downloading COVID-19 Notification Apps', 'description': 'New Apple-Google software is leading to skyrocketing adoption of COVID-19 exposure notification apps in the U.S..', 'extensions': [{'inline': True, 'type': 'text', 'text': 'Dec 14, 2020', 'rank': 1}, {'type': 'missing', 'text': 'count', 'rank': 2}, {'type': 'must_include', 'text': 'count', 'link': 'https://www.google.com/search?num=20&sca_esv=73a6d3bdeda9064e&hl=en&q=download+%22count%22+of+Colorado+Exposure+Notifications+COVID+contact+tracing+app&sa=X&ved=2ahUKEwjRp_rfp7COAxXgs1YBHQh8KVMQ5t4CegQIRBAB', 'rank': 3}], 'rank': 10, 'global_rank': 14}, {'link': 'https://coloradonewsline.com/2020/11/18/3400-coloradans-have-submitted-positive-covid-19-tests-a-fraction-of-total-to-notification-system/', 'display_link': 'https://coloradonewsline.com › 2020/11/18 › 3400-col...', 'title': '3400 Coloradans have submitted positive COVID-19 tests', 'description': \"In the three weeks since the launch of Colorado's new smartphone-based Exposure Notifications ... app to notify their close contacts.\", 'extensions': [{'inline': True, 'type': 'text', 'text': 'Nov 18, 2020', 'rank': 1}], 'rank': 11, 'global_rank': 15}, {'link': 'https://www.gao.gov/assets/gao-21-104622.pdf', 'display_link': 'https://www.gao.gov › assets › gao-21-104622', 'title': 'Exposure Notification', 'description': 'With the emergence and rapid global spread of COVID-19, smartphone apps have been developed to supplement manual contact tracing, which is a ...', 'extensions': [{'inline': True, 'type': 'text', 'text': 'Sep 9, 2021', 'rank': 1}], 'rank': 12, 'global_rank': 16}, {'link': 'https://pmc.ncbi.nlm.nih.gov/articles/PMC8194594/', 'display_link': 'https://pmc.ncbi.nlm.nih.gov › articles › PMC8194594', 'title': 'Usability, inclusivity, and content evaluation of COVID-19 ...', 'description': '... app,” “contact tracing app,” and “coronavirus exposure notification. ... Number of apps with feature, N (%), List of apps with feature (identified by letter ...', 'extensions': [{'inline': True, 'type': 'text', 'text': 'by SO Blacklow', 'rank': 1}, {'inline': True, 'type': 'text', 'text': '2021', 'rank': 2}, {'inline': True, 'type': 'text', 'text': 'Cited by 34', 'rank': 3}], 'rank': 13, 'global_rank': 17}, {'link': 'https://oit.colorado.gov/news-article/leading-the-nation-colorados-rapid-deployment-of-enx', 'display_link': 'https://oit.colorado.gov › news-article › leading-the-nati...', 'title': \"Leading the Nation: Colorado's Rapid Deployment of ENx\", 'description': 'Traditional public health measures such as testing, contact tracing ... alert users of potential exposure to COVID-19. The Colorado Digital ...', 'extensions': [{'inline': True, 'type': 'text', 'text': 'Oct 17, 2024', 'rank': 1}, {'type': 'missing', 'text': 'count', 'rank': 2}, {'type': 'missing', 'text': 'app', 'rank': 3}], 'rank': 14, 'global_rank': 18}, {'link': 'https://news.ucdenver.edu/use-your-smartphone-to-help-fight-covid-19/', 'display_link': 'https://news.ucdenver.edu › use-your-smartphone-to-hel...', 'title': 'Use Your Smartphone to Help Fight COVID-19', 'description': '... contact tracing, the Colorado Department of ... Android: Download CO Exposure ... How will Colorado Exposure Notifications benefit the greater community? By ...', 'extensions': [{'type': 'missing', 'text': 'count', 'rank': 1}, {'type': 'must_include', 'text': 'count', 'link': 'https://www.google.com/search?num=20&sca_esv=73a6d3bdeda9064e&hl=en&q=download+%22count%22+of+Colorado+Exposure+Notifications+COVID+contact+tracing+app&sa=X&ved=2ahUKEwjRp_rfp7COAxXgs1YBHQh8KVMQ5t4CegQIXRAB', 'rank': 2}], 'rank': 15, 'global_rank': 19}, {'link': 'https://www.canada.ca/en/health-canada/corporate/transparency/corporate-management-reporting/evaluation/covid-alert-national-covid-19-exposure-notification-app.html', 'display_link': 'https://www.canada.ca › corporate-management-reporting', 'title': 'Evaluation of the National COVID-19 Exposure Notification ...', 'description': '... app: When asked why they did not intend to download a contact tracing app, including the COVID Alert app and other provincial apps, lack of ...', 'extensions': [{'inline': True, 'type': 'text', 'text': 'Jun 20, 2022', 'rank': 1}], 'rank': 16, 'global_rank': 20}, {'link': 'https://wwwnc.cdc.gov/eid/article/29/2/22-0959_article', 'display_link': 'https://wwwnc.cdc.gov › eid › article › 22-0959_article', 'title': 'Estimated Cases Averted by COVID-19 Digital Exposure ...', 'description': 'COVID-19 exposure notification smartphone applications (apps) ... downloads/php/contact-tracing/AdvancedCOVIDTracerManual.pdf. Smith LE ...', 'extensions': [{'inline': True, 'type': 'text', 'text': 'Jan 13, 2023', 'rank': 1}], 'rank': 17, 'global_rank': 21}, {'link': 'https://coronavirus.health.ny.gov/nys-enx', 'display_link': 'https://coronavirus.health.ny.gov › nys-enx', 'title': 'NYS ENX | Department of Health - COVID-19', 'description': 'Download the app to get COVID-19 exposure alerts and help protect your community while maintaining your privacy.', 'extensions': [{'type': 'missing', 'text': 'count', 'rank': 1}, {'type': 'missing', 'text': 'Colorado', 'rank': 2}], 'rank': 18, 'global_rank': 22}, {'link': 'https://red.msudenver.edu/2020/colorado-covid-19-exposure-notifications-system-boosts-contact-tracing-efforts/', 'display_link': 'https://red.msudenver.edu › Explore Stories', 'title': 'Colorado COVID-19 Exposure Notifications System boosts ...', 'description': 'Colorado COVID-19 Exposure Notifications System boosts contact-tracing efforts. More than 1 million Coloradans have activated the smartphone app ...', 'extensions': [{'inline': True, 'type': 'text', 'text': 'Nov 19, 2020', 'rank': 1}, {'type': 'missing', 'text': 'download', 'rank': 2}, {'type': 'must_include', 'text': 'download', 'link': 'https://www.google.com/search?num=20&sca_esv=73a6d3bdeda9064e&hl=en&q=%22download%22+count+of+Colorado+Exposure+Notifications+COVID+contact+tracing+app&sa=X&ved=2ahUKEwjRp_rfp7COAxXgs1YBHQh8KVMQ5t4CegQIQhAB', 'rank': 3}], 'rank': 19, 'global_rank': 23}, {'link': 'https://www.youtube.com/watch?v=ng8fmImvX2k', 'display_link': '880+ views · 4 years ago', 'title': 'Colorado health officials rolling out exposure notifications for ...', 'description': 'State health officials discuss a new feature aimed at alerting Coloradans when they may have been exposed to COVID-19.', 'extensions': [{'type': 'missing', 'text': 'download', 'rank': 1}, {'type': 'missing', 'text': 'count', 'rank': 2}, {'type': 'missing', 'text': 'contact', 'rank': 3}, {'type': 'missing', 'text': 'tracing', 'rank': 4}], 'image': 'https://encrypted-tbn0.gstatic.com/images?q=tbn:ANd9GcRKgUG1_PYrdCQPsmJ0ttXDPij1Zhaky2ZNPCr4v2Kqwywb&s', 'image_url': 'https://encrypted-tbn0.gstatic.com/images?q=tbn:ANd9GcRKgUG1_PYrdCQPsmJ0ttXDPij1Zhaky2ZNPCr4v2Kqwywb&s', 'duration': '46:42', 'duration_sec': 2802, 'rank': 20, 'global_rank': 24}], 'pagination': {'pages': [{'page': 2, 'start': 20, 'link': 'https://www.google.com/search?q=download+count+of+Colorado+Exposure+Notifications+COVID+contact+tracing+app&num=20&sca_esv=73a6d3bdeda9064e&hl=en&ei=EahuaJHbBODn2roPiPilmQU&start=20&sa=N&sstk=Ac65TH4pRRlTmfelhCuDDftFyUkMcJ2700gFQNRPLjMFnhtA05MAT3mkf1iCgkqNsjger8qQWkqBtrUjlnWUjAld09d-p8mRVhZ0RA&ved=2ahUKEwjRp_rfp7COAxXgs1YBHQh8KVMQ8tMDegQIDBAE'}, {'page': 3, 'start': 40, 'link': 'https://www.google.com/search?q=download+count+of+Colorado+Exposure+Notifications+COVID+contact+tracing+app&num=20&sca_esv=73a6d3bdeda9064e&hl=en&ei=EahuaJHbBODn2roPiPilmQU&start=40&sa=N&sstk=Ac65TH4pRRlTmfelhCuDDftFyUkMcJ2700gFQNRPLjMFnhtA05MAT3mkf1iCgkqNsjger8qQWkqBtrUjlnWUjAld09d-p8mRVhZ0RA&ved=2ahUKEwjRp_rfp7COAxXgs1YBHQh8KVMQ8tMDegQIDBAG'}, {'page': 4, 'start': 60, 'link': 'https://www.google.com/search?q=download+count+of+Colorado+Exposure+Notifications+COVID+contact+tracing+app&num=20&sca_esv=73a6d3bdeda9064e&hl=en&ei=EahuaJHbBODn2roPiPilmQU&start=60&sa=N&sstk=Ac65TH4pRRlTmfelhCuDDftFyUkMcJ2700gFQNRPLjMFnhtA05MAT3mkf1iCgkqNsjger8qQWkqBtrUjlnWUjAld09d-p8mRVhZ0RA&ved=2ahUKEwjRp_rfp7COAxXgs1YBHQh8KVMQ8tMDegQIDBAI'}, {'page': 5, 'start': 80, 'link': 'https://www.google.com/search?q=download+count+of+Colorado+Exposure+Notifications+COVID+contact+tracing+app&num=20&sca_esv=73a6d3bdeda9064e&hl=en&ei=EahuaJHbBODn2roPiPilmQU&start=80&sa=N&sstk=Ac65TH4pRRlTmfelhCuDDftFyUkMcJ2700gFQNRPLjMFnhtA05MAT3mkf1iCgkqNsjger8qQWkqBtrUjlnWUjAld09d-p8mRVhZ0RA&ved=2ahUKEwjRp_rfp7COAxXgs1YBHQh8KVMQ8tMDegQIDBAK'}, {'page': 6, 'start': 100, 'link': 'https://www.google.com/search?q=download+count+of+Colorado+Exposure+Notifications+COVID+contact+tracing+app&num=20&sca_esv=73a6d3bdeda9064e&hl=en&ei=EahuaJHbBODn2roPiPilmQU&start=100&sa=N&sstk=Ac65TH4pRRlTmfelhCuDDftFyUkMcJ2700gFQNRPLjMFnhtA05MAT3mkf1iCgkqNsjger8qQWkqBtrUjlnWUjAld09d-p8mRVhZ0RA&ved=2ahUKEwjRp_rfp7COAxXgs1YBHQh8KVMQ8tMDegQIDBAM'}, {'page': 7, 'start': 120, 'link': 'https://www.google.com/search?q=download+count+of+Colorado+Exposure+Notifications+COVID+contact+tracing+app&num=20&sca_esv=73a6d3bdeda9064e&hl=en&ei=EahuaJHbBODn2roPiPilmQU&start=120&sa=N&sstk=Ac65TH4pRRlTmfelhCuDDftFyUkMcJ2700gFQNRPLjMFnhtA05MAT3mkf1iCgkqNsjger8qQWkqBtrUjlnWUjAld09d-p8mRVhZ0RA&ved=2ahUKEwjRp_rfp7COAxXgs1YBHQh8KVMQ8tMDegQIDBAO'}, {'page': 8, 'start': 140, 'link': 'https://www.google.com/search?q=download+count+of+Colorado+Exposure+Notifications+COVID+contact+tracing+app&num=20&sca_esv=73a6d3bdeda9064e&hl=en&ei=EahuaJHbBODn2roPiPilmQU&start=140&sa=N&sstk=Ac65TH4pRRlTmfelhCuDDftFyUkMcJ2700gFQNRPLjMFnhtA05MAT3mkf1iCgkqNsjger8qQWkqBtrUjlnWUjAld09d-p8mRVhZ0RA&ved=2ahUKEwjRp_rfp7COAxXgs1YBHQh8KVMQ8tMDegQIDBAQ'}, {'page': 9, 'start': 160, 'link': 'https://www.google.com/search?q=download+count+of+Colorado+Exposure+Notifications+COVID+contact+tracing+app&num=20&sca_esv=73a6d3bdeda9064e&hl=en&ei=EahuaJHbBODn2roPiPilmQU&start=160&sa=N&sstk=Ac65TH4pRRlTmfelhCuDDftFyUkMcJ2700gFQNRPLjMFnhtA05MAT3mkf1iCgkqNsjger8qQWkqBtrUjlnWUjAld09d-p8mRVhZ0RA&ved=2ahUKEwjRp_rfp7COAxXgs1YBHQh8KVMQ8tMDegQIDBAS'}, {'page': 10, 'start': 180, 'link': 'https://www.google.com/search?q=download+count+of+Colorado+Exposure+Notifications+COVID+contact+tracing+app&num=20&sca_esv=73a6d3bdeda9064e&hl=en&ei=EahuaJHbBODn2roPiPilmQU&start=180&sa=N&sstk=Ac65TH4pRRlTmfelhCuDDftFyUkMcJ2700gFQNRPLjMFnhtA05MAT3mkf1iCgkqNsjger8qQWkqBtrUjlnWUjAld09d-p8mRVhZ0RA&ved=2ahUKEwjRp_rfp7COAxXgs1YBHQh8KVMQ8tMDegQIDBAU'}], 'current_page': 1, 'next_page': 2, 'next_page_start': 20, 'next_page_link': 'https://www.google.com/search?q=download+count+of+Colorado+Exposure+Notifications+COVID+contact+tracing+app&num=20&sca_esv=73a6d3bdeda9064e&hl=en&ei=EahuaJHbBODn2roPiPilmQU&start=20&sa=N&sstk=Ac65TH4pRRlTmfelhCuDDftFyUkMcJ2700gFQNRPLjMFnhtA05MAT3mkf1iCgkqNsjger8qQWkqBtrUjlnWUjAld09d-p8mRVhZ0RA&ved=2ahUKEwjRp_rfp7COAxXgs1YBHQh8KVMQ8tMDegQIDBAE'}, 'people_also_ask': [{'question': 'What happened to exposure notifications?', 'answer_source': 'Google & Apple have shut down Exposure Notifications. You will ...', 'answer_link': 'https://wehealth.org/news/ga-end-c19-en#:~:text=Apple%20and%20Google%20have%20decided,tested%20positive%20for%20COVID%2D19.', 'answer_display_link': 'https://wehealth.org › news › ga-end-c19-enhttps://wehealth.org › news › ga-end-c19-en', 'answers': [{'type': 'answer', 'value': {'text': 'Apple and Google have decided to turn off the underlying exposure notification system currently used by Wehealth. This means that beginning on Sep 18, 2023 your phone will no longer notify you if you were near someone who tested positive for COVID-19.Sep 13, 2023'}, 'rank': 1}], 'rank': 1, 'global_rank': 2}, {'question': 'What is the COVID-19 tracking app?', 'answer_source': 'COVID-19 apps - Wikipedia', 'answer_link': 'https://en.wikipedia.org/wiki/COVID-19_apps#:~:text=The%20government%20launched%20%22GH%20COVID,health%20authorities%20overtime%20to%20know', 'answer_display_link': 'https://en.wikipedia.org › wiki › COVID-19_appshttps://en.wikipedia.org › wiki › COVID-19_apps', 'answers': [{'type': 'answer', 'value': {'text': 'The government launched \"GH COVID-19 Tracker App\", an Android and IOS app equipped with location tracking technology to provide detailed information about people who have been at the same event, location, country or other defined locations in order to provide accurate information to health authorities overtime to know ...'}, 'rank': 1}], 'rank': 2, 'global_rank': 3}, {'question': 'How to figure out when you were exposed to COVID?', 'answer_source': 'What to Do After Exposure to COVID-19 - UF Health', 'answer_link': 'https://ufhealth.org/care-sheets/what-to-do-after-exposure-to-covid-19#:~:text=or%20even%20death.-,Symptoms%20occur%20within%202%20to%2014%20days%20from%20exposure%20to,sense%20of%20taste%20or%20smell.', 'answer_display_link': 'https://ufhealth.org › care-sheets › what-to-do-after-expo...https://ufhealth.org › care-sheets › what-to-do-after-expo...', 'answers': [{'type': 'answer', 'value': {'text': 'Symptoms occur within 2 to 14 days from exposure to the virus and may include fever, cough, shortness of breath, chills, muscle pain, headache, sore throat, and new loss of sense of taste or smell.May 23, 2025'}, 'rank': 1}], 'rank': 3, 'global_rank': 4}, {'question': 'How to do COVID contact tracing?', 'answer_source': 'Contact Tracing | CDC', 'answer_link': 'https://www.cdc.gov/museum/pdf/cdcm-pha-stem-lesson-contact-tracing-lesson.pdf', 'answer_display_link': 'https://www.cdc.gov › museum › pdf › cdcm-pha-stem-l...https://www.cdc.gov › museum › pdf › cdcm-pha-stem-l...', 'answers': [{'type': 'answer', 'value': {'text': 'In order to conduct effective contact tracing, health officials must engage people in all three activities: speaking, sharing, and quarantining.'}, 'rank': 1}], 'rank': 4, 'global_rank': 5}], 'ai_overview': {'error': 'AI Overview did not appear on original SERP. Please ensure that you are using the `brd_ai_overview=1` query parameter (https://docs.brightdata.com/scraping-automation/serp-api/query-parameters/google#ai-overview), and that your query is relevant for triggering an AI Overview.'}}\n",
      "2025-07-09 13:34:10,160 - web_data_collection.webpage_retrieval - DEBUG - Retrieved and yielded 20 results from request 1\n",
      "2025-07-09 13:34:10,161 - web_data_collection.webpage_retrieval - DEBUG - Processing query: download count of Connecticut Covid Alert COVID contact tracing app, variable value combo: ('Connecticut Covid Alert',)\n",
      "2025-07-09 13:34:10,162 - web_data_collection.webpage_retrieval - DEBUG - Processing date chunk: None to None\n",
      "2025-07-09 13:34:10,163 - web_data_collection.webpage_retrieval - DEBUG - Making request 1/1\n"
     ]
    },
    {
     "name": "stdout",
     "output_type": "stream",
     "text": [
      "(('Colorado Exposure Notifications',), 'download count of Colorado Exposure Notifications COVID contact tracing app', {'link': 'https://coloradosun.com/2023/05/08/colorado-exposure-notifications-phone-app/', 'title': 'Colorado is ending its Exposure Notifications phone app ...', 'description': 'The service is ending in Colorado on Thursday, according to the state Department of Public Health and Environment.'})\n",
      "(('Colorado Exposure Notifications',), 'download count of Colorado Exposure Notifications COVID contact tracing app', {'link': 'https://www.9news.com/article/news/local/next/colorado-covid-tracing-app-2020-december-coronavirus/73-1c4bf0ce-6c26-4323-9eda-ce31b8f11639', 'title': 'Tons of Coloradans got the COVID exposure tracking app', 'description': 'More than 1.4 million people in the state have the COVID-19 exposure app on their phones, but much fewer people are using it.'})\n",
      "(('Colorado Exposure Notifications',), 'download count of Colorado Exposure Notifications COVID contact tracing app', {'link': 'https://fletcher.tufts.edu/news-events/news/did-colorados-covid-19-exposure-notification-app-succeed-its-complicated', 'title': \"Did Colorado's COVID-19 exposure notification app succeed ...\", 'description': 'A study in the United Kingdom found the app could have prevented anywhere from 100,000 to 900,000 cases. The U.K. study also found that the app ...'})\n",
      "(('Colorado Exposure Notifications',), 'download count of Colorado Exposure Notifications COVID contact tracing app', {'link': 'https://www.cpr.org/2020/11/19/the-biggest-bug-for-coronavirus-exposure-apps-the-people-using-them/', 'title': 'The Biggest Bug For Coronavirus Exposure Apps? The ...', 'description': \"Colorado's health department is issuing thousands of COVID codes a day to people who test positive. But no one knows how many are actually ...\"})\n",
      "(('Colorado Exposure Notifications',), 'download count of Colorado Exposure Notifications COVID contact tracing app', {'link': 'https://www.gao.gov/blog/covid-19-exposure-notification-apps-are-available.-are-they-working', 'title': 'COVID-19 Exposure Notification Apps Are Available. But ...', 'description': 'The apps are intended to detect when 2 app users are in close contact, then send a notification if 1 of them later tests positive for COVID-19.'})\n",
      "(('Colorado Exposure Notifications',), 'download count of Colorado Exposure Notifications COVID contact tracing app', {'link': 'https://coloradosun.com/2020/10/30/colorado-coronavirus-exposure-notifications-google-apple/', 'title': 'A half-million Coloradans have already signed up for the ...', 'description': \"More than 500,000 Coloradans have already signed up for the state's new tool to notify people if they have possibly been exposed to the ...\"})\n",
      "(('Colorado Exposure Notifications',), 'download count of Colorado Exposure Notifications COVID contact tracing app', {'link': 'https://www.denverpost.com/2021/06/30/colorado-covid-exposure-notification-app/', 'title': \"Did Colorado's COVID-19 exposure notification app ...\", 'description': 'The Colorado Department of Public Health and Environment reported it generated 377,007 codes for anyone who tested positive between October and ...'})\n",
      "(('Colorado Exposure Notifications',), 'download count of Colorado Exposure Notifications COVID contact tracing app', {'link': 'https://www.cpr.org/2020/10/29/10-of-coloradans-are-already-using-the-covid-19-tracking-app-will-it-help/', 'title': '10% Of Coloradans Are Already Using The COVID-19 ...', 'description': 'More than 10 percent of Coloradans have downloaded or enabled the Exposure Notification System since it was launched over the weekend.'})\n",
      "(('Colorado Exposure Notifications',), 'download count of Colorado Exposure Notifications COVID contact tracing app', {'link': 'https://www.9news.com/article/news/investigations/colorado-covid-exposure-app/73-121b776c-88df-4391-9c6d-e7ea945fe4c2', 'title': 'Colorado COVID exposure app rarely worked ...', 'description': 'Codes were redeemed just about 8% of the time according to health officials.'})\n",
      "(('Colorado Exposure Notifications',), 'download count of Colorado Exposure Notifications COVID contact tracing app', {'link': 'https://time.com/5921518/covid-exposure-notification-apps/', 'title': 'People Are Finally Downloading COVID-19 Notification Apps', 'description': 'New Apple-Google software is leading to skyrocketing adoption of COVID-19 exposure notification apps in the U.S..'})\n",
      "(('Colorado Exposure Notifications',), 'download count of Colorado Exposure Notifications COVID contact tracing app', {'link': 'https://coloradonewsline.com/2020/11/18/3400-coloradans-have-submitted-positive-covid-19-tests-a-fraction-of-total-to-notification-system/', 'title': '3400 Coloradans have submitted positive COVID-19 tests', 'description': \"In the three weeks since the launch of Colorado's new smartphone-based Exposure Notifications ... app to notify their close contacts.\"})\n",
      "(('Colorado Exposure Notifications',), 'download count of Colorado Exposure Notifications COVID contact tracing app', {'link': 'https://www.gao.gov/assets/gao-21-104622.pdf', 'title': 'Exposure Notification', 'description': 'With the emergence and rapid global spread of COVID-19, smartphone apps have been developed to supplement manual contact tracing, which is a ...'})\n",
      "(('Colorado Exposure Notifications',), 'download count of Colorado Exposure Notifications COVID contact tracing app', {'link': 'https://oit.colorado.gov/news-article/leading-the-nation-colorados-rapid-deployment-of-enx', 'title': \"Leading the Nation: Colorado's Rapid Deployment of ENx\", 'description': 'Traditional public health measures such as testing, contact tracing ... alert users of potential exposure to COVID-19. The Colorado Digital ...'})\n",
      "(('Colorado Exposure Notifications',), 'download count of Colorado Exposure Notifications COVID contact tracing app', {'link': 'https://news.ucdenver.edu/use-your-smartphone-to-help-fight-covid-19/', 'title': 'Use Your Smartphone to Help Fight COVID-19', 'description': '... contact tracing, the Colorado Department of ... Android: Download CO Exposure ... How will Colorado Exposure Notifications benefit the greater community? By ...'})\n",
      "(('Colorado Exposure Notifications',), 'download count of Colorado Exposure Notifications COVID contact tracing app', {'link': 'https://www.canada.ca/en/health-canada/corporate/transparency/corporate-management-reporting/evaluation/covid-alert-national-covid-19-exposure-notification-app.html', 'title': 'Evaluation of the National COVID-19 Exposure Notification ...', 'description': '... app: When asked why they did not intend to download a contact tracing app, including the COVID Alert app and other provincial apps, lack of ...'})\n",
      "(('Colorado Exposure Notifications',), 'download count of Colorado Exposure Notifications COVID contact tracing app', {'link': 'https://wwwnc.cdc.gov/eid/article/29/2/22-0959_article', 'title': 'Estimated Cases Averted by COVID-19 Digital Exposure ...', 'description': 'COVID-19 exposure notification smartphone applications (apps) ... downloads/php/contact-tracing/AdvancedCOVIDTracerManual.pdf. Smith LE ...'})\n",
      "(('Colorado Exposure Notifications',), 'download count of Colorado Exposure Notifications COVID contact tracing app', {'link': 'https://coronavirus.health.ny.gov/nys-enx', 'title': 'NYS ENX | Department of Health - COVID-19', 'description': 'Download the app to get COVID-19 exposure alerts and help protect your community while maintaining your privacy.'})\n",
      "(('Colorado Exposure Notifications',), 'download count of Colorado Exposure Notifications COVID contact tracing app', {'link': 'https://red.msudenver.edu/2020/colorado-covid-19-exposure-notifications-system-boosts-contact-tracing-efforts/', 'title': 'Colorado COVID-19 Exposure Notifications System boosts ...', 'description': 'Colorado COVID-19 Exposure Notifications System boosts contact-tracing efforts. More than 1 million Coloradans have activated the smartphone app ...'})\n",
      "(('Colorado Exposure Notifications',), 'download count of Colorado Exposure Notifications COVID contact tracing app', {'link': 'https://www.youtube.com/watch?v=ng8fmImvX2k', 'title': 'Colorado health officials rolling out exposure notifications for ...', 'description': 'State health officials discuss a new feature aimed at alerting Coloradans when they may have been exposed to COVID-19.'})\n"
     ]
    },
    {
     "name": "stderr",
     "output_type": "stream",
     "text": [
      "2025-07-09 13:34:13,053 - web_data_collection.webpage_retrieval - DEBUG - {'general': {'search_engine': 'google', 'query': 'download count of Connecticut Covid Alert COVID contact tracing app', 'results_cnt': 365000, 'search_time': 0.54, 'language': 'en-CO', 'country': 'Colombia', 'country_code': 'CO', 'location': 'United States', 'gl': 'CO', 'mobile': False, 'basic_view': False, 'search_type': 'text', 'page_title': 'download count of Connecticut Covid Alert COVID contact tracing app - Google Search', 'timestamp': '2025-07-09T17:34:12.842Z'}, 'input': {'original_url': 'https://www.google.com/search?q=download+count+of+Connecticut+Covid+Alert+COVID+contact+tracing+app&start=0&brd_json=1&num=20', 'request_id': 'hl_a84cb5f7_an83h5qzckp'}, 'navigation': [{'title': 'News', 'href': 'https://www.google.com/search?num=20&sca_esv=73a6d3bdeda9064e&hl=en&q=download+count+of+Connecticut+Covid+Alert+COVID+contact+tracing+app&tbm=nws&source=lnms&fbs=AIIjpHxU7SXXniUZfeShr2fp4giZrjP_Cx0LI1Ytb_FGcOviEiTm5uW1q0uNfK7KsnoL8hUyUYUJLZ_b-p0lT09DIkR7bwzZ58goNnPFwCobO9Lr1FJy27_ddIL61O5aDZqsFHeKdbTBa3SWM9BbE6jpBPGlXzcFCH1KrIQ9yHBjyi-ZLJUInBy54epU8g3fHyjXolCFfseHfRcNjgYhOadYKw2rr0vq-A&sa=X&ved=2ahUKEwj885Dhp7COAxVx-DgGHZdxEgsQ0pQJKAF6BAgaEAE'}, {'title': 'Images', 'href': 'https://www.google.com/search?num=20&sca_esv=73a6d3bdeda9064e&hl=en&q=download+count+of+Connecticut+Covid+Alert+COVID+contact+tracing+app&udm=2&fbs=AIIjpHxU7SXXniUZfeShr2fp4giZrjP_Cx0LI1Ytb_FGcOviEiTm5uW1q0uNfK7KsnoL8hUyUYUJLZ_b-p0lT09DIkR7bwzZ58goNnPFwCobO9Lr1FJy27_ddIL61O5aDZqsFHeKdbTBa3SWM9BbE6jpBPGlXzcFCH1KrIQ9yHBjyi-ZLJUInBy54epU8g3fHyjXolCFfseHfRcNjgYhOadYKw2rr0vq-A&sa=X&ved=2ahUKEwj885Dhp7COAxVx-DgGHZdxEgsQtKgLKAJ6BAgTEAE'}, {'title': 'Videos', 'href': 'https://www.google.com/search?num=20&sca_esv=73a6d3bdeda9064e&hl=en&q=download+count+of+Connecticut+Covid+Alert+COVID+contact+tracing+app&udm=7&fbs=AIIjpHxU7SXXniUZfeShr2fp4giZrjP_Cx0LI1Ytb_FGcOviEiTm5uW1q0uNfK7KsnoL8hUyUYUJLZ_b-p0lT09DIkR7bwzZ58goNnPFwCobO9Lr1FJy27_ddIL61O5aDZqsFHeKdbTBa3SWM9BbE6jpBPGlXzcFCH1KrIQ9yHBjyi-ZLJUInBy54epU8g3fHyjXolCFfseHfRcNjgYhOadYKw2rr0vq-A&sa=X&ved=2ahUKEwj885Dhp7COAxVx-DgGHZdxEgsQtKgLKAN6BAgYEAE'}, {'title': 'Short videos', 'href': 'https://www.google.com/search?num=20&sca_esv=73a6d3bdeda9064e&hl=en&q=download+count+of+Connecticut+Covid+Alert+COVID+contact+tracing+app&udm=39&fbs=AIIjpHxU7SXXniUZfeShr2fp4giZrjP_Cx0LI1Ytb_FGcOviEiTm5uW1q0uNfK7KsnoL8hUyUYUJLZ_b-p0lT09DIkR7bwzZ58goNnPFwCobO9Lr1FJy27_ddIL61O5aDZqsFHeKdbTBa3SWM9BbE6jpBPGlXzcFCH1KrIQ9yHBjyi-ZLJUInBy54epU8g3fHyjXolCFfseHfRcNjgYhOadYKw2rr0vq-A&sa=X&ved=2ahUKEwj885Dhp7COAxVx-DgGHZdxEgsQs6gLKAR6BAgZEAE'}, {'title': 'Shopping', 'href': 'https://www.google.com/search?num=20&sca_esv=73a6d3bdeda9064e&hl=en&q=download+count+of+Connecticut+Covid+Alert+COVID+contact+tracing+app&udm=28&fbs=AIIjpHxU7SXXniUZfeShr2fp4giZrjP_Cx0LI1Ytb_FGcOviEiTm5uW1q0uNfK7KsnoL8hUyUYUJLZ_b-p0lT09DIkR7bwzZ58goNnPFwCobO9Lr1FJy27_ddIL61O5aDZqsFHeKdbTBa3SWM9BbE6jpBPGlXzcFCH1KrIQ9yHBjyi-ZLJUInBy54epU8g3fHyjXolCFfseHfRcNjgYhOadYKw2rr0vq-A&ved=1t:220175&ictx=111'}, {'title': 'Forums', 'href': 'https://www.google.com/search?num=20&sca_esv=73a6d3bdeda9064e&hl=en&q=download+count+of+Connecticut+Covid+Alert+COVID+contact+tracing+app&udm=18&fbs=AIIjpHxU7SXXniUZfeShr2fp4giZrjP_Cx0LI1Ytb_FGcOviEiTm5uW1q0uNfK7KsnoL8hUyUYUJLZ_b-p0lT09DIkR7bwzZ58goNnPFwCobO9Lr1FJy27_ddIL61O5aDZqsFHeKdbTBa3SWM9BbE6jpBPGlXzcFCH1KrIQ9yHBjyi-ZLJUInBy54epU8g3fHyjXolCFfseHfRcNjgYhOadYKw2rr0vq-A&sa=X&ved=2ahUKEwj885Dhp7COAxVx-DgGHZdxEgsQs6gLKAZ6BAgbEAE'}], 'organic': [{'link': 'https://catalog.data.gov/dataset/covid-19-contact-tracing-covid-alert-ct-summary-by-week', 'display_link': 'https://catalog.data.gov › dataset › covid-19-contact-tra...', 'title': 'COVID-19 Contact Tracing: COVID Alert CT Summary by Week', 'description': 'If downloaded, the app will alert users if they have come into close contact with somebody who tests positive for COVID-19. This dataset includes the cumulative ...', 'rank': 1, 'global_rank': 1}, {'link': 'https://data.ct.gov/Health-and-Human-Services/COVID-19-Contact-Tracing-COVID-Alert-CT-Summary-by/c4dk-8f27', 'display_link': 'https://data.ct.gov › Health-and-Human-Services › COVI...', 'title': 'COVID Alert CT Summary by Week - ARCHIVE | Connecticut ...', 'description': '... COVID-19 Contact Tracing: COVID Alert CT Summary by Week - ARCHIVE. Health and Human Services. Note: This dataset has been archived and is no longer being ...', 'rank': 2, 'global_rank': 2}, {'link': 'https://www.nbcconnecticut.com/news/local/660k-connecticut-residents-have-downloaded-contact-tracing-apps/2365149/', 'display_link': 'https://www.nbcconnecticut.com › news › local › 660k-...', 'title': '660K Connecticut Residents Have Downloaded Contact ...', 'description': \"COVID Alert CT, the state's official exposure notification system, is now available for Apple and Android. The contact tracer will ask a series ...\", 'extensions': [{'inline': True, 'type': 'text', 'text': 'Nov 18, 2020', 'rank': 1}, {'type': 'missing', 'text': 'count', 'rank': 2}, {'type': 'must_include', 'text': 'count', 'link': 'https://www.google.com/search?num=20&sca_esv=73a6d3bdeda9064e&hl=en&q=download+%22count%22+of+Connecticut+Covid+Alert+COVID+contact+tracing+app&sa=X&ved=2ahUKEwj885Dhp7COAxVx-DgGHZdxEgsQ5t4CegQIJhAB', 'rank': 3}], 'rank': 3, 'global_rank': 3}, {'link': 'https://www.columbiact.gov/community/page/covid-alert-ct-app', 'display_link': 'https://www.columbiact.gov › community › page › covi...', 'title': 'COVID Alert CT App', 'description': 'Find out more, and learn how to download, or set up the app at ct.gov/covidalertct. COVID Alert CT is a voluntary, anonymous, exposure-notification smartphone ...', 'extensions': [{'type': 'missing', 'text': 'tracing', 'rank': 1}, {'type': 'must_include', 'text': 'tracing', 'link': 'https://www.google.com/search?num=20&sca_esv=73a6d3bdeda9064e&hl=en&q=download+count+of+Connecticut+Covid+Alert+COVID+contact+%22tracing%22+app&sa=X&ved=2ahUKEwj885Dhp7COAxVx-DgGHZdxEgsQ5t4CegQIJxAB', 'rank': 2}], 'rank': 4, 'global_rank': 4}, {'link': 'https://portal.ct.gov/governor/news/press-releases/2021/01-2021/governor-lamont-announces-connecticuts-covid-19-contact-tracing-app-has-been-activated', 'display_link': 'https://portal.ct.gov › governor › news › press-releases', 'title': \"Governor Lamont Announces Connecticut's COVID-19 ...\", 'description': 'It is free for all users. To download the app, visit the Google Play store and search the keywords “COVID Alert CT” or click here.', 'extensions': [{'inline': True, 'type': 'text', 'text': 'Jan 8, 2021', 'rank': 1}], 'rank': 5, 'global_rank': 5}, {'link': 'https://www.cbia.com/news/hr-safety/state-launches-covid-19-contact-tracing-app/', 'display_link': 'https://www.cbia.com › news › hr-safety › state-launche...', 'title': 'State Launches COVID-19 Contact Tracing App', 'description': 'The free, voluntary, and anonymous app alerts a user if they have been within six feet of an infected person for at least 15 minutes.', 'extensions': [{'inline': True, 'type': 'text', 'text': 'Nov 13, 2020', 'rank': 1}], 'rank': 6, 'global_rank': 6}, {'link': 'https://www.gao.gov/blog/covid-19-exposure-notification-apps-are-available.-are-they-working', 'display_link': 'https://www.gao.gov › blog › covid-19-exposure-notific...', 'title': 'COVID-19 Exposure Notification Apps Are Available. But ...', 'description': 'The apps are intended to detect when 2 app users are in close contact, then send a notification if 1 of them later tests positive for COVID-19.', 'extensions': [{'inline': True, 'type': 'text', 'text': 'Sep 16, 2021', 'rank': 1}], 'rank': 7, 'global_rank': 7}, {'link': 'https://foxsports979.iheart.com/content/2020-11-12-connecticut-covid-19-exposure-app-available-for-download/', 'display_link': 'https://foxsports979.iheart.com › content › 2020-11-12...', 'title': 'Connecticut COVID-19 exposure app available for download', 'description': \"Android: Visit the Google Play store. Download the COVID Alert CT app. Click 'Settings' and turn 'Exposure Notifications' on.\", 'extensions': [{'inline': True, 'type': 'text', 'text': 'Nov 12, 2020', 'rank': 1}], 'rank': 8, 'global_rank': 8}, {'link': 'https://ink.library.smu.edu.sg/cgi/viewcontent.cgi?article=7440&context=sis_research', 'display_link': 'https://ink.library.smu.edu.sg › cgi › viewcontent', 'title': 'Security and privacy review of contact tracing mobile apps', 'description': \"COVID Alert - Let's protect each other. 1M+. Canada. 20. Covid Alert CT. 50K+. US (Connecticut). 21. Covid Alert DE. 10K+. U.S (Delaware). 22. COVID Alert NJ.\", 'extensions': [{'inline': True, 'type': 'text', 'text': 'by WY ANG', 'rank': 1}, {'inline': True, 'type': 'text', 'text': '2021', 'rank': 2}, {'inline': True, 'type': 'text', 'text': 'Cited by 13', 'rank': 3}], 'rank': 9, 'global_rank': 9}, {'link': 'https://pmc.ncbi.nlm.nih.gov/articles/PMC8194594/', 'display_link': 'https://pmc.ncbi.nlm.nih.gov › articles › PMC8194594', 'title': 'Usability, inclusivity, and content evaluation of COVID-19 ...', 'description': 'The app alerts the user of a potential exposure using Exposure Alerts rather than solely collecting data. Part of contact tracing includes alerting contacts of ...', 'extensions': [{'inline': True, 'type': 'text', 'text': 'by SO Blacklow', 'rank': 1}, {'inline': True, 'type': 'text', 'text': '2021', 'rank': 2}, {'inline': True, 'type': 'text', 'text': 'Cited by 34', 'rank': 3}], 'rank': 10, 'global_rank': 10}, {'link': 'https://time.com/5921518/covid-exposure-notification-apps/', 'display_link': 'https://time.com › Tech › COVID-19', 'title': 'People Are Finally Downloading COVID-19 Notification Apps', 'description': 'New Apple-Google software is leading to skyrocketing adoption of COVID-19 exposure notification apps in the U.S..', 'extensions': [{'inline': True, 'type': 'text', 'text': 'Dec 14, 2020', 'rank': 1}], 'rank': 11, 'global_rank': 11}, {'link': 'https://www.nbcconnecticut.com/news/local/covid-19-exposure-notifications-now-available-on-your-phone/2359071/', 'display_link': 'https://www.nbcconnecticut.com › news › local › covid...', 'title': 'COVID-19 Exposure Notifications Now Available on Your ...', 'description': 'The COVID Alert CT app can be downloaded from Google Play. To verify that exposure notifications are enabled on an Android phone, open the COVID ...', 'extensions': [{'inline': True, 'type': 'text', 'text': 'Nov 12, 2020', 'rank': 1}, {'type': 'missing', 'text': 'count', 'rank': 2}, {'type': 'must_include', 'text': 'count', 'link': 'https://www.google.com/search?num=20&sca_esv=73a6d3bdeda9064e&hl=en&q=download+%22count%22+of+Connecticut+Covid+Alert+COVID+contact+tracing+app&sa=X&ved=2ahUKEwj885Dhp7COAxVx-DgGHZdxEgsQ5t4CegQIQxAB', 'rank': 3}], 'rank': 12, 'global_rank': 12}, {'link': 'https://www.nejm.org/doi/full/10.1056/NEJMp2102256', 'display_link': 'https://www.nejm.org › doi › full › NEJMp2102256', 'title': 'Contact Tracing for Covid-19 — A Digital Inoculation ...', 'description': 'COVID Alert CT, 660,000, 18.51. Maryland, MD COVID Alert, 1,075,000, 17.78 ... Contact-tracing apps help reduce COVID infections, data suggest.', 'extensions': [{'inline': True, 'type': 'text', 'text': 'by J O’Connell', 'rank': 1}, {'inline': True, 'type': 'text', 'text': '2021', 'rank': 2}, {'inline': True, 'type': 'text', 'text': 'Cited by 28', 'rank': 3}], 'rank': 13, 'global_rank': 13}, {'link': 'https://www.wtnh.com/news/health/coronavirus/gov-lamont-announces-launch-of-cts-official-covid-19-exposure-notification-app/', 'display_link': 'https://www.wtnh.com › news › health › coronavirus › g...', 'title': \"Gov. Lamont announces launch of CT's official COVID-19 ...\", 'description': 'Governor Ned Lamont announced Thursday that the state has launched its official COVID-19 exposure notification app called COVID Alert CT.', 'extensions': [{'inline': True, 'type': 'text', 'text': 'Nov 12, 2020', 'rank': 1}], 'rank': 14, 'global_rank': 14}, {'link': 'https://www.sciencedirect.com/science/article/pii/S2666691X21000282', 'display_link': 'https://www.sciencedirect.com › science › article › pii', 'title': 'COVID-19 digital contact tracing applications and techniques', 'description': 'In this paper, we provide a comprehensive analysis of digital contact tracing solutions in terms of their methodologies and technologies.', 'extensions': [{'inline': True, 'type': 'text', 'text': 'by M Shahroz', 'rank': 1}, {'inline': True, 'type': 'text', 'text': '2021', 'rank': 2}, {'inline': True, 'type': 'text', 'text': 'Cited by 168', 'rank': 3}], 'rank': 15, 'global_rank': 15}, {'link': 'https://www.researchgate.net/figure/The-Coronavirus-CT-app-The-app-employs-a-Bluetooth-interface-and-trace-contact-within-2_fig1_343134230', 'display_link': 'https://www.researchgate.net › figure › The-Coronaviru...', 'title': 'The Coronavirus CT app. The app employs a Bluetooth ...', 'description': 'The app employs a Bluetooth interface and trace contact within 2 meters for 15 minutes. A unique ID of each anonymous app user CT data is stored in a server ...', 'rank': 16, 'global_rank': 16}, {'link': 'https://www.courant.com/2020/11/13/covid-alert-ct-how-does-the-app-work-what-you-need-to-know-about-connecticuts-new-contact-tracing-tool/', 'display_link': 'https://www.courant.com › 2020/11/13 › covid-alert-ct-...', 'title': 'COVID Alert CT: How does the app work? What you need ...', 'description': 'COVID Alert CT is completely free. Android users can download the app from the Google Play Store, and iPhone users can enable Exposure ...', 'extensions': [{'inline': True, 'type': 'text', 'text': 'Nov 13, 2020', 'rank': 1}], 'rank': 17, 'global_rank': 17}, {'link': 'https://www.ctsenaterepublicans.com/2021/01/covid-19-update-january-8-2021/', 'display_link': 'https://www.ctsenaterepublicans.com › 2021/01 › covid-...', 'title': 'Covid-19 Update - January 8, 2021', 'description': 'It is free for all users. To download the app, visit the Google Play store and search the keywords “COVID Alert CT” or click here.', 'extensions': [{'inline': True, 'type': 'text', 'text': 'Jan 8, 2021', 'rank': 1}], 'rank': 18, 'global_rank': 18}, {'link': 'https://www.stonington-ct.gov/archived/news/launch-of-covid-alert-ct-the-exposure-notification-app-in-connecticut', 'display_link': 'https://www.stonington-ct.gov › archived › news › launc...', 'title': 'Launch of COVID Alert CT, the Exposure Notification App ...', 'description': 'First, users should visit ct.gov/covidalertct, where they can find instructions on how to download the app for their specific device. Once ...', 'extensions': [{'inline': True, 'type': 'text', 'text': 'Nov 12, 2020', 'rank': 1}, {'type': 'missing', 'text': 'count', 'rank': 2}, {'type': 'must_include', 'text': 'count', 'link': 'https://www.google.com/search?num=20&sca_esv=73a6d3bdeda9064e&hl=en&q=download+%22count%22+of+Connecticut+Covid+Alert+COVID+contact+tracing+app&sa=X&ved=2ahUKEwj885Dhp7COAxVx-DgGHZdxEgsQ5t4CegQIRBAB', 'rank': 3}], 'rank': 19, 'global_rank': 19}, {'link': 'https://en.baochinhphu.vn/nearly-16-million-people-download-covid-19-contact-tracing-app-11139012.htm', 'display_link': 'https://en.baochinhphu.vn › Economy', 'title': 'Nearly 16 million people download COVID-19 contact ...', 'description': 'VGP – As of August 11, as many as 15.7 million people downloaded Bluezone, a domestically developed contact-tracing mobile app to identify and alert people ...', 'rank': 20, 'global_rank': 20}], 'pagination': {'pages': [{'page': 2, 'start': 20, 'link': 'https://www.google.com/search?q=download+count+of+Connecticut+Covid+Alert+COVID+contact+tracing+app&num=20&sca_esv=73a6d3bdeda9064e&hl=en&ei=E6huaLyeIfHw4-EPl-PJWA&start=20&sa=N&sstk=Ac65TH5UqoqNczif0lF441jU0rYocGrL2TuMVsqmgbK62Xil15UNIYJkEVTH1Wd9Vyn67RUFw1zFbw8qorwkx25FkelXgVtL-h-X7Q&ved=2ahUKEwj885Dhp7COAxVx-DgGHZdxEgsQ8tMDegQICBAE'}, {'page': 3, 'start': 40, 'link': 'https://www.google.com/search?q=download+count+of+Connecticut+Covid+Alert+COVID+contact+tracing+app&num=20&sca_esv=73a6d3bdeda9064e&hl=en&ei=E6huaLyeIfHw4-EPl-PJWA&start=40&sa=N&sstk=Ac65TH5UqoqNczif0lF441jU0rYocGrL2TuMVsqmgbK62Xil15UNIYJkEVTH1Wd9Vyn67RUFw1zFbw8qorwkx25FkelXgVtL-h-X7Q&ved=2ahUKEwj885Dhp7COAxVx-DgGHZdxEgsQ8tMDegQICBAG'}, {'page': 4, 'start': 60, 'link': 'https://www.google.com/search?q=download+count+of+Connecticut+Covid+Alert+COVID+contact+tracing+app&num=20&sca_esv=73a6d3bdeda9064e&hl=en&ei=E6huaLyeIfHw4-EPl-PJWA&start=60&sa=N&sstk=Ac65TH5UqoqNczif0lF441jU0rYocGrL2TuMVsqmgbK62Xil15UNIYJkEVTH1Wd9Vyn67RUFw1zFbw8qorwkx25FkelXgVtL-h-X7Q&ved=2ahUKEwj885Dhp7COAxVx-DgGHZdxEgsQ8tMDegQICBAI'}, {'page': 5, 'start': 80, 'link': 'https://www.google.com/search?q=download+count+of+Connecticut+Covid+Alert+COVID+contact+tracing+app&num=20&sca_esv=73a6d3bdeda9064e&hl=en&ei=E6huaLyeIfHw4-EPl-PJWA&start=80&sa=N&sstk=Ac65TH5UqoqNczif0lF441jU0rYocGrL2TuMVsqmgbK62Xil15UNIYJkEVTH1Wd9Vyn67RUFw1zFbw8qorwkx25FkelXgVtL-h-X7Q&ved=2ahUKEwj885Dhp7COAxVx-DgGHZdxEgsQ8tMDegQICBAK'}, {'page': 6, 'start': 100, 'link': 'https://www.google.com/search?q=download+count+of+Connecticut+Covid+Alert+COVID+contact+tracing+app&num=20&sca_esv=73a6d3bdeda9064e&hl=en&ei=E6huaLyeIfHw4-EPl-PJWA&start=100&sa=N&sstk=Ac65TH5UqoqNczif0lF441jU0rYocGrL2TuMVsqmgbK62Xil15UNIYJkEVTH1Wd9Vyn67RUFw1zFbw8qorwkx25FkelXgVtL-h-X7Q&ved=2ahUKEwj885Dhp7COAxVx-DgGHZdxEgsQ8tMDegQICBAM'}, {'page': 7, 'start': 120, 'link': 'https://www.google.com/search?q=download+count+of+Connecticut+Covid+Alert+COVID+contact+tracing+app&num=20&sca_esv=73a6d3bdeda9064e&hl=en&ei=E6huaLyeIfHw4-EPl-PJWA&start=120&sa=N&sstk=Ac65TH5UqoqNczif0lF441jU0rYocGrL2TuMVsqmgbK62Xil15UNIYJkEVTH1Wd9Vyn67RUFw1zFbw8qorwkx25FkelXgVtL-h-X7Q&ved=2ahUKEwj885Dhp7COAxVx-DgGHZdxEgsQ8tMDegQICBAO'}, {'page': 8, 'start': 140, 'link': 'https://www.google.com/search?q=download+count+of+Connecticut+Covid+Alert+COVID+contact+tracing+app&num=20&sca_esv=73a6d3bdeda9064e&hl=en&ei=E6huaLyeIfHw4-EPl-PJWA&start=140&sa=N&sstk=Ac65TH5UqoqNczif0lF441jU0rYocGrL2TuMVsqmgbK62Xil15UNIYJkEVTH1Wd9Vyn67RUFw1zFbw8qorwkx25FkelXgVtL-h-X7Q&ved=2ahUKEwj885Dhp7COAxVx-DgGHZdxEgsQ8tMDegQICBAQ'}, {'page': 9, 'start': 160, 'link': 'https://www.google.com/search?q=download+count+of+Connecticut+Covid+Alert+COVID+contact+tracing+app&num=20&sca_esv=73a6d3bdeda9064e&hl=en&ei=E6huaLyeIfHw4-EPl-PJWA&start=160&sa=N&sstk=Ac65TH5UqoqNczif0lF441jU0rYocGrL2TuMVsqmgbK62Xil15UNIYJkEVTH1Wd9Vyn67RUFw1zFbw8qorwkx25FkelXgVtL-h-X7Q&ved=2ahUKEwj885Dhp7COAxVx-DgGHZdxEgsQ8tMDegQICBAS'}, {'page': 10, 'start': 180, 'link': 'https://www.google.com/search?q=download+count+of+Connecticut+Covid+Alert+COVID+contact+tracing+app&num=20&sca_esv=73a6d3bdeda9064e&hl=en&ei=E6huaLyeIfHw4-EPl-PJWA&start=180&sa=N&sstk=Ac65TH5UqoqNczif0lF441jU0rYocGrL2TuMVsqmgbK62Xil15UNIYJkEVTH1Wd9Vyn67RUFw1zFbw8qorwkx25FkelXgVtL-h-X7Q&ved=2ahUKEwj885Dhp7COAxVx-DgGHZdxEgsQ8tMDegQICBAU'}], 'current_page': 1, 'next_page': 2, 'next_page_start': 20, 'next_page_link': 'https://www.google.com/search?q=download+count+of+Connecticut+Covid+Alert+COVID+contact+tracing+app&num=20&sca_esv=73a6d3bdeda9064e&hl=en&ei=E6huaLyeIfHw4-EPl-PJWA&start=20&sa=N&sstk=Ac65TH5UqoqNczif0lF441jU0rYocGrL2TuMVsqmgbK62Xil15UNIYJkEVTH1Wd9Vyn67RUFw1zFbw8qorwkx25FkelXgVtL-h-X7Q&ved=2ahUKEwj885Dhp7COAxVx-DgGHZdxEgsQ8tMDegQICBAE'}, 'ai_overview': {'error': 'AI Overview did not appear on original SERP. Please ensure that you are using the `brd_ai_overview=1` query parameter (https://docs.brightdata.com/scraping-automation/serp-api/query-parameters/google#ai-overview), and that your query is relevant for triggering an AI Overview.'}}\n",
      "2025-07-09 13:34:13,055 - web_data_collection.webpage_retrieval - DEBUG - Retrieved and yielded 20 results from request 1\n",
      "2025-07-09 13:34:13,056 - web_data_collection.webpage_retrieval - DEBUG - Processing query: Alabama GuideSafe COVID contact tracing app downloads, variable value combo: ('Alabama GuideSafe',)\n",
      "2025-07-09 13:34:13,057 - web_data_collection.webpage_retrieval - DEBUG - Processing date chunk: None to None\n",
      "2025-07-09 13:34:13,057 - web_data_collection.webpage_retrieval - DEBUG - Making request 1/1\n"
     ]
    },
    {
     "name": "stdout",
     "output_type": "stream",
     "text": [
      "(('Connecticut Covid Alert',), 'download count of Connecticut Covid Alert COVID contact tracing app', {'link': 'https://catalog.data.gov/dataset/covid-19-contact-tracing-covid-alert-ct-summary-by-week', 'title': 'COVID-19 Contact Tracing: COVID Alert CT Summary by Week', 'description': 'If downloaded, the app will alert users if they have come into close contact with somebody who tests positive for COVID-19. This dataset includes the cumulative ...'})\n",
      "(('Connecticut Covid Alert',), 'download count of Connecticut Covid Alert COVID contact tracing app', {'link': 'https://data.ct.gov/Health-and-Human-Services/COVID-19-Contact-Tracing-COVID-Alert-CT-Summary-by/c4dk-8f27', 'title': 'COVID Alert CT Summary by Week - ARCHIVE | Connecticut ...', 'description': '... COVID-19 Contact Tracing: COVID Alert CT Summary by Week - ARCHIVE. Health and Human Services. Note: This dataset has been archived and is no longer being ...'})\n",
      "(('Connecticut Covid Alert',), 'download count of Connecticut Covid Alert COVID contact tracing app', {'link': 'https://www.nbcconnecticut.com/news/local/660k-connecticut-residents-have-downloaded-contact-tracing-apps/2365149/', 'title': '660K Connecticut Residents Have Downloaded Contact ...', 'description': \"COVID Alert CT, the state's official exposure notification system, is now available for Apple and Android. The contact tracer will ask a series ...\"})\n",
      "(('Connecticut Covid Alert',), 'download count of Connecticut Covid Alert COVID contact tracing app', {'link': 'https://www.columbiact.gov/community/page/covid-alert-ct-app', 'title': 'COVID Alert CT App', 'description': 'Find out more, and learn how to download, or set up the app at ct.gov/covidalertct. COVID Alert CT is a voluntary, anonymous, exposure-notification smartphone ...'})\n",
      "(('Connecticut Covid Alert',), 'download count of Connecticut Covid Alert COVID contact tracing app', {'link': 'https://portal.ct.gov/governor/news/press-releases/2021/01-2021/governor-lamont-announces-connecticuts-covid-19-contact-tracing-app-has-been-activated', 'title': \"Governor Lamont Announces Connecticut's COVID-19 ...\", 'description': 'It is free for all users. To download the app, visit the Google Play store and search the keywords “COVID Alert CT” or click here.'})\n",
      "(('Connecticut Covid Alert',), 'download count of Connecticut Covid Alert COVID contact tracing app', {'link': 'https://www.cbia.com/news/hr-safety/state-launches-covid-19-contact-tracing-app/', 'title': 'State Launches COVID-19 Contact Tracing App', 'description': 'The free, voluntary, and anonymous app alerts a user if they have been within six feet of an infected person for at least 15 minutes.'})\n",
      "(('Connecticut Covid Alert',), 'download count of Connecticut Covid Alert COVID contact tracing app', {'link': 'https://foxsports979.iheart.com/content/2020-11-12-connecticut-covid-19-exposure-app-available-for-download/', 'title': 'Connecticut COVID-19 exposure app available for download', 'description': \"Android: Visit the Google Play store. Download the COVID Alert CT app. Click 'Settings' and turn 'Exposure Notifications' on.\"})\n",
      "(('Connecticut Covid Alert',), 'download count of Connecticut Covid Alert COVID contact tracing app', {'link': 'https://www.nbcconnecticut.com/news/local/covid-19-exposure-notifications-now-available-on-your-phone/2359071/', 'title': 'COVID-19 Exposure Notifications Now Available on Your ...', 'description': 'The COVID Alert CT app can be downloaded from Google Play. To verify that exposure notifications are enabled on an Android phone, open the COVID ...'})\n",
      "(('Connecticut Covid Alert',), 'download count of Connecticut Covid Alert COVID contact tracing app', {'link': 'https://www.nejm.org/doi/full/10.1056/NEJMp2102256', 'title': 'Contact Tracing for Covid-19 — A Digital Inoculation ...', 'description': 'COVID Alert CT, 660,000, 18.51. Maryland, MD COVID Alert, 1,075,000, 17.78 ... Contact-tracing apps help reduce COVID infections, data suggest.'})\n",
      "(('Connecticut Covid Alert',), 'download count of Connecticut Covid Alert COVID contact tracing app', {'link': 'https://www.wtnh.com/news/health/coronavirus/gov-lamont-announces-launch-of-cts-official-covid-19-exposure-notification-app/', 'title': \"Gov. Lamont announces launch of CT's official COVID-19 ...\", 'description': 'Governor Ned Lamont announced Thursday that the state has launched its official COVID-19 exposure notification app called COVID Alert CT.'})\n",
      "(('Connecticut Covid Alert',), 'download count of Connecticut Covid Alert COVID contact tracing app', {'link': 'https://www.sciencedirect.com/science/article/pii/S2666691X21000282', 'title': 'COVID-19 digital contact tracing applications and techniques', 'description': 'In this paper, we provide a comprehensive analysis of digital contact tracing solutions in terms of their methodologies and technologies.'})\n",
      "(('Connecticut Covid Alert',), 'download count of Connecticut Covid Alert COVID contact tracing app', {'link': 'https://www.researchgate.net/figure/The-Coronavirus-CT-app-The-app-employs-a-Bluetooth-interface-and-trace-contact-within-2_fig1_343134230', 'title': 'The Coronavirus CT app. The app employs a Bluetooth ...', 'description': 'The app employs a Bluetooth interface and trace contact within 2 meters for 15 minutes. A unique ID of each anonymous app user CT data is stored in a server ...'})\n",
      "(('Connecticut Covid Alert',), 'download count of Connecticut Covid Alert COVID contact tracing app', {'link': 'https://www.courant.com/2020/11/13/covid-alert-ct-how-does-the-app-work-what-you-need-to-know-about-connecticuts-new-contact-tracing-tool/', 'title': 'COVID Alert CT: How does the app work? What you need ...', 'description': 'COVID Alert CT is completely free. Android users can download the app from the Google Play Store, and iPhone users can enable Exposure ...'})\n",
      "(('Connecticut Covid Alert',), 'download count of Connecticut Covid Alert COVID contact tracing app', {'link': 'https://www.ctsenaterepublicans.com/2021/01/covid-19-update-january-8-2021/', 'title': 'Covid-19 Update - January 8, 2021', 'description': 'It is free for all users. To download the app, visit the Google Play store and search the keywords “COVID Alert CT” or click here.'})\n",
      "(('Connecticut Covid Alert',), 'download count of Connecticut Covid Alert COVID contact tracing app', {'link': 'https://www.stonington-ct.gov/archived/news/launch-of-covid-alert-ct-the-exposure-notification-app-in-connecticut', 'title': 'Launch of COVID Alert CT, the Exposure Notification App ...', 'description': 'First, users should visit ct.gov/covidalertct, where they can find instructions on how to download the app for their specific device. Once ...'})\n",
      "(('Connecticut Covid Alert',), 'download count of Connecticut Covid Alert COVID contact tracing app', {'link': 'https://en.baochinhphu.vn/nearly-16-million-people-download-covid-19-contact-tracing-app-11139012.htm', 'title': 'Nearly 16 million people download COVID-19 contact ...', 'description': 'VGP – As of August 11, as many as 15.7 million people downloaded Bluezone, a domestically developed contact-tracing mobile app to identify and alert people ...'})\n"
     ]
    },
    {
     "name": "stderr",
     "output_type": "stream",
     "text": [
      "2025-07-09 13:34:14,671 - web_data_collection.webpage_retrieval - DEBUG - {'general': {'search_engine': 'google', 'query': 'Alabama GuideSafe COVID contact tracing app downloads', 'results_cnt': 643, 'search_time': 0.28, 'language': 'en', 'location': 'United States', 'mobile': False, 'basic_view': False, 'search_type': 'text', 'page_title': 'Alabama GuideSafe COVID contact tracing app downloads - Google Search', 'timestamp': '2025-07-09T17:34:14.526Z'}, 'input': {'original_url': 'https://www.google.com/search?q=Alabama+GuideSafe+COVID+contact+tracing+app+downloads&start=0&brd_json=1&num=20', 'request_id': 'hl_a84cb5f7_v9s6hbsvcha'}, 'navigation': [{'title': 'AI Mode', 'href': 'https://www.google.com/search?q=Alabama+GuideSafe+COVID+contact+tracing+app+downloads&num=20&sca_esv=73a6d3bdeda9064e&hl=en&udm=50&fbs=AIIjpHxU7SXXniUZfeShr2fp4giZrjP_Cx0LI1Ytb_FGcOviEreERTNAkkP8Y6EXltYTGWs9RGaEMfZ2dZFFrbmM-rnqDh6hIMjQfCAhrLJz0ZmMZpUjCqTWcnwxm3CIjs0GarosQfLkZI74FJnvDMIm-XrwYNH_ZLlnLC3tycVbHgi9_Y2zDHGtoE3W6PReY7DiZvfCy8yTVgdH6w-S-Wt5wwt6R5lw8w&aep=1&ntc=1&sa=X&ved=2ahUKEwiFmprip7COAxWtdvUHHQKtLR0Q2J8OegQIGBAC'}, {'title': 'News', 'href': 'https://www.google.com/search?num=20&sca_esv=73a6d3bdeda9064e&hl=en&q=Alabama+GuideSafe+COVID+contact+tracing+app+downloads&tbm=nws&source=lnms&fbs=AIIjpHxU7SXXniUZfeShr2fp4giZrjP_Cx0LI1Ytb_FGcOviEreERTNAkkP8Y6EXltYTGWs9RGaEMfZ2dZFFrbmM-rnqDh6hIMjQfCAhrLJz0ZmMZpUjCqTWcnwxm3CIjs0GarosQfLkZI74FJnvDMIm-XrwYNH_ZLlnLC3tycVbHgi9_Y2zDHGtoE3W6PReY7DiZvfCy8yTVgdH6w-S-Wt5wwt6R5lw8w&sa=X&ved=2ahUKEwiFmprip7COAxWtdvUHHQKtLR0Q0pQJKAF6BAggEAE'}, {'title': 'Videos', 'href': 'https://www.google.com/search?num=20&sca_esv=73a6d3bdeda9064e&hl=en&q=Alabama+GuideSafe+COVID+contact+tracing+app+downloads&udm=7&fbs=AIIjpHxU7SXXniUZfeShr2fp4giZrjP_Cx0LI1Ytb_FGcOviEreERTNAkkP8Y6EXltYTGWs9RGaEMfZ2dZFFrbmM-rnqDh6hIMjQfCAhrLJz0ZmMZpUjCqTWcnwxm3CIjs0GarosQfLkZI74FJnvDMIm-XrwYNH_ZLlnLC3tycVbHgi9_Y2zDHGtoE3W6PReY7DiZvfCy8yTVgdH6w-S-Wt5wwt6R5lw8w&sa=X&ved=2ahUKEwiFmprip7COAxWtdvUHHQKtLR0QtKgLKAJ6BAgiEAE'}, {'title': 'Images', 'href': 'https://www.google.com/search?num=20&sca_esv=73a6d3bdeda9064e&hl=en&q=Alabama+GuideSafe+COVID+contact+tracing+app+downloads&udm=2&fbs=AIIjpHxU7SXXniUZfeShr2fp4giZrjP_Cx0LI1Ytb_FGcOviEreERTNAkkP8Y6EXltYTGWs9RGaEMfZ2dZFFrbmM-rnqDh6hIMjQfCAhrLJz0ZmMZpUjCqTWcnwxm3CIjs0GarosQfLkZI74FJnvDMIm-XrwYNH_ZLlnLC3tycVbHgi9_Y2zDHGtoE3W6PReY7DiZvfCy8yTVgdH6w-S-Wt5wwt6R5lw8w&sa=X&ved=2ahUKEwiFmprip7COAxWtdvUHHQKtLR0QtKgLKAN6BAgcEAE'}, {'title': 'Short videos', 'href': 'https://www.google.com/search?num=20&sca_esv=73a6d3bdeda9064e&hl=en&q=Alabama+GuideSafe+COVID+contact+tracing+app+downloads&udm=39&fbs=AIIjpHxU7SXXniUZfeShr2fp4giZrjP_Cx0LI1Ytb_FGcOviEreERTNAkkP8Y6EXltYTGWs9RGaEMfZ2dZFFrbmM-rnqDh6hIMjQfCAhrLJz0ZmMZpUjCqTWcnwxm3CIjs0GarosQfLkZI74FJnvDMIm-XrwYNH_ZLlnLC3tycVbHgi9_Y2zDHGtoE3W6PReY7DiZvfCy8yTVgdH6w-S-Wt5wwt6R5lw8w&sa=X&ved=2ahUKEwiFmprip7COAxWtdvUHHQKtLR0Qs6gLKAR6BAgdEAE'}, {'title': 'Forums', 'href': 'https://www.google.com/search?num=20&sca_esv=73a6d3bdeda9064e&hl=en&q=Alabama+GuideSafe+COVID+contact+tracing+app+downloads&udm=18&fbs=AIIjpHxU7SXXniUZfeShr2fp4giZrjP_Cx0LI1Ytb_FGcOviEreERTNAkkP8Y6EXltYTGWs9RGaEMfZ2dZFFrbmM-rnqDh6hIMjQfCAhrLJz0ZmMZpUjCqTWcnwxm3CIjs0GarosQfLkZI74FJnvDMIm-XrwYNH_ZLlnLC3tycVbHgi9_Y2zDHGtoE3W6PReY7DiZvfCy8yTVgdH6w-S-Wt5wwt6R5lw8w&sa=X&ved=2ahUKEwiFmprip7COAxWtdvUHHQKtLR0Qs6gLKAV6BAgfEAE'}], 'organic': [{'link': 'https://www.guidesafe.org/exposure-notification-app/#:~:text=Step%20one%3A%20Download%20the%20GuideSafe,can%20choose%20to%20report%20it.', 'display_link': 'https://www.guidesafe.org › exposure-notification-app', 'title': \"Alabama's Exposure Notification App - GuideSafe\", 'rank': 1, 'global_rank': 2}, {'link': 'https://sites.uab.edu/guidesafebackup2/exposure-notification-app/', 'display_link': 'https://sites.uab.edu › guidesafebackup2 › exposure-not...', 'title': 'Exposure Notification App | GuideSafe™', 'description': 'Step one: Download the GuideSafe™️ Exposure Notification App from the App Store or Google Play, and then enabling Bluetooth. Step two: If you have tested ...', 'rank': 2, 'global_rank': 3}, {'link': 'https://www.guidesafe.org/', 'display_link': 'https://www.guidesafe.org', 'title': 'GuideSafe™ | The tools and resources to help fight COVID-19 ...', 'description': 'Download now. Developed by a team of experts at the University of Alabama at Birmingham (UAB), part of the University of Alabama System, GuideSafe™ promotes ...', 'extensions': [{'type': 'site_link', 'text': 'Tools', 'link': 'https://www.guidesafe.org/healthcheck/', 'rank': 1}, {'type': 'site_link', 'text': 'Actions', 'link': 'https://www.guidesafe.org/actions/', 'rank': 2}, {'type': 'site_link', 'text': 'Impact', 'link': 'https://www.guidesafe.org/impact/', 'rank': 3}, {'type': 'site_link', 'text': 'Media', 'link': 'https://www.guidesafe.org/media/', 'rank': 4}, {'type': 'missing', 'text': 'tracing', 'rank': 5}, {'type': 'must_include', 'text': 'tracing', 'link': 'https://www.google.com/search?num=20&sca_esv=73a6d3bdeda9064e&hl=en&q=Alabama+GuideSafe+COVID+contact+%22tracing%22+app+downloads&sa=X&ved=2ahUKEwiFmprip7COAxWtdvUHHQKtLR0Q5t4CegQIGxAB', 'rank': 6}], 'rank': 3, 'global_rank': 4}, {'link': 'https://www.al.com/news/2020/11/alabamas-covid-tracing-app-joins-nationwide-network.html', 'display_link': 'https://www.al.com › news › 2020/11 › alabamas-covid-t...', 'title': \"Alabama's COVID tracing app joins nationwide network\", 'description': \"Alabama's GuideSafe exposure notification app is now part of a nationwide network to help warn users if they may have been exposed to ...\", 'extensions': [{'inline': True, 'type': 'text', 'text': 'Nov 19, 2020', 'rank': 1}], 'rank': 4, 'global_rank': 5}, {'link': 'https://x.com/guidesafe_org', 'display_link': '160+ followers', 'title': 'GuideSafe™ (@guidesafe_org) / X', 'description': 'Help stop the spread of COVID-19 in Alabama by downloading the app today. ... \\u2069 and other COVID contact tracing apps https://washingtonpost.com/technology ...', 'rank': 5, 'global_rank': 6}, {'link': 'https://abc3340.com/news/local/alabama-college-students-encouraged-to-download-covid-19-contact-tracing-app-08-11-2020', 'display_link': 'https://abc3340.com › news › local › alabama-college-st...', 'title': 'Alabama college students encouraged to download COVID ...', 'description': \"The app will use Bluetooth technology to determine if you've been in contact with someone who's tested positive within 14 days. UAB acknowledges ...\", 'extensions': [{'inline': True, 'type': 'text', 'text': 'Aug 10, 2020', 'rank': 1}], 'rank': 6, 'global_rank': 7}, {'link': 'https://www.apr.org/news/2020-08-19/guidesafe-app-available-for-contact-tracing-in-alabama', 'display_link': 'https://www.apr.org › news › guidesafe-app-available-fo...', 'title': 'GuideSafe app available for contact tracing in Alabama', 'description': 'Alabamians can now download a mobile app that informs users of potential exposure of COVID-19. Alabama is one of the first states in the U.S. to launch the ...', 'rank': 7, 'global_rank': 8}, {'link': 'https://da-dk.facebook.com/UAB.edu/videos/guidesafe-exposure-notification-app-launches-statewide/308135187177645/', 'display_link': 'https://da-dk.facebook.com › ... › Videoer', 'title': 'GuideSafe Exposure Notification App Launches Statewide | By ...', 'description': 'Instead, the app generates a random code for every user phone. The random code then changes every 10 to 20 minutes to preserve security. As users go about their ...', 'rank': 8, 'global_rank': 9}, {'link': 'https://statescoop.com/alabama-launches-contact-tracing-app-based-on-google-apple-api/', 'display_link': 'https://statescoop.com › alabama-launches-contact-traci...', 'title': 'Alabama launches contact tracing app based on Google ...', 'description': 'Officials in Alabama on Monday launched one of the first apps published by a state government aimed at tracking the spread of the coronavirus.', 'extensions': [{'inline': True, 'type': 'text', 'text': 'Aug 3, 2020', 'rank': 1}], 'rank': 9, 'global_rank': 10}, {'link': 'https://www.youtube.com/watch?v=-QBcypdNhEQ', 'display_link': '60+ views · 4 years ago', 'title': \"Alabama's GuideSafe app notifies you of COVID-19 exposure\", 'description': \"The GuideSafe app was released in August. Over 93000 people have already downloaded ... Alabama's GuideSafe app notifies you of COVID-19 exposure.\", 'extensions': [{'type': 'missing', 'text': 'contact', 'rank': 1}, {'type': 'missing', 'text': 'tracing', 'rank': 2}], 'image': 'data:image/jpeg;base64,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', 'image_base64': 'data:image/jpeg;base64,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', 'duration': '1:59', 'duration_sec': 119, 'rank': 10, 'global_rank': 11}, {'link': 'https://facultysenate.ua.edu/guidesafe-contact-notification-app/', 'display_link': 'https://facultysenate.ua.edu › guidesafe-contact-notificat...', 'title': 'GuideSafe Contact Notification App - Faculty Senate', 'description': 'The GuideSafe app is a subscriber of the logs kept by the Google/Apple operating systems. It is one of the first contact tracing apps to use the infrastructure.', 'extensions': [{'inline': True, 'type': 'text', 'text': 'Aug 22, 2020', 'rank': 1}, {'type': 'missing', 'text': 'downloads', 'rank': 2}, {'type': 'must_include', 'text': 'downloads', 'link': 'https://www.google.com/search?num=20&sca_esv=73a6d3bdeda9064e&hl=en&q=Alabama+GuideSafe+COVID+contact+tracing+app+%22downloads%22&sa=X&ved=2ahUKEwiFmprip7COAxWtdvUHHQKtLR0Q5t4CegQIUxAB', 'rank': 3}], 'rank': 11, 'global_rank': 12}, {'link': 'https://www.ruralhealthinfo.org/toolkits/emergency-preparedness/case-studies/infectious-disease/university-alabama-birmingham', 'display_link': 'https://www.ruralhealthinfo.org › infectious-disease › u...', 'title': 'COVID-19 Symptom Tracking and Exposure Notification ...', 'description': 'The third project was the GuideSafe Exposure Notification App, a resource available for download on smartphones for Alabama residents. This ...', 'extensions': [{'inline': True, 'type': 'text', 'text': 'Nov 14, 2022', 'rank': 1}], 'rank': 12, 'global_rank': 13}, {'link': 'https://www.guidesafe.org/media/newsroom/', 'display_link': 'https://www.guidesafe.org › media › newsroom', 'title': 'Newsroom', 'description': 'GuideSafe supporters want more downloads of COVID exposure notification app ... University of Alabama System to Push Contact Tracing App, Require Online Health ...', 'rank': 13, 'global_rank': 14}, {'link': 'https://www.al.com/news/2020/08/alabama-launches-statewide-coronavirus-tracking-app.html', 'display_link': 'https://www.al.com › news › 2020/08 › alabama-launche...', 'title': 'Alabama launches statewide coronavirus tracking app', 'description': 'The GuideSafe Exposure Notification App is free to download and available to all Alabama residents with iPhone and Android devices. It ...', 'extensions': [{'inline': True, 'type': 'text', 'text': 'Aug 17, 2020', 'rank': 1}], 'rank': 14, 'global_rank': 15}, {'link': 'https://sites.uab.edu/guidesafebackup2/', 'display_link': 'https://sites.uab.edu › guidesafebackup2', 'title': 'GuideSafe™ | The tools and resources to help fight COVID ...', 'description': 'Users of GuideSafe™ Exposure Notification can anonymously share a positive COVID-19 test result —and be anonymously notified of potential previous close contact ...', 'extensions': [{'type': 'missing', 'text': 'tracing', 'rank': 1}, {'type': 'must_include', 'text': 'tracing', 'link': 'https://www.google.com/search?num=20&sca_esv=73a6d3bdeda9064e&hl=en&q=Alabama+GuideSafe+COVID+contact+%22tracing%22+app+downloads&sa=X&ved=2ahUKEwiFmprip7COAxWtdvUHHQKtLR0Q5t4CegQIUhAB', 'rank': 2}], 'rank': 15, 'global_rank': 16}, {'link': 'https://utv44.com/topic/COVID-19%20Apps', 'display_link': 'https://utv44.com › topic › COVID-19 Apps', 'title': 'Mobile News, Weather, Sports, Breaking News', 'description': \"Alabama coronavirus app part of growing multistate network. An app that's been used in Alabama to warn people that they might have been exposed to the ...\", 'rank': 16, 'global_rank': 17}, {'link': 'https://pmc.ncbi.nlm.nih.gov/articles/PMC9366094/', 'display_link': 'https://pmc.ncbi.nlm.nih.gov › articles › PMC9366094', 'title': 'User perceptions about sharing exposure notification ...', 'description': 'The (GuideSafe™) Exposure Notification System (ENS) was built and deployed in (Alabama) for anonymous sending and receiving of COVID-19 ...', 'extensions': [{'inline': True, 'type': 'text', 'text': 'by B Schooley', 'rank': 1}, {'inline': True, 'type': 'text', 'text': '2022', 'rank': 2}], 'rank': 17, 'global_rank': 18}, {'link': 'https://ocm.auburn.edu/newsroom/news_articles/2020/08/131600-guidesafe-platform.php', 'display_link': 'https://ocm.auburn.edu › ... › 2020 › August', 'title': 'Auburn to require students to self-screen beginning Aug. 17 ...', 'description': 'Once the pilot phase of the app has ended later this month, it will be assessed and made available for public download via Apple and Android ...', 'extensions': [{'inline': True, 'type': 'text', 'text': 'Aug 13, 2020', 'rank': 1}], 'rank': 18, 'global_rank': 19}, {'link': 'https://www.govtech.com/health/tracing-app-pilot-at-alabama-universities-to-be-made-public.html', 'display_link': 'https://www.govtech.com › health › tracing-app-pilot-at...', 'title': 'Tracing App Pilot at Alabama Universities to Be Made Public', 'description': 'A contact tracing app that was used to track the novel coronavirus across universities in the state is being made available to the general public.', 'rank': 19, 'global_rank': 20}, {'link': 'https://www.cbs42.com/news/alabamas-contact-tracing-app-expands-capabilities-still-very-few-have-downloaded-it/', 'display_link': 'https://www.cbs42.com › news › alabamas-contact-traci...', 'title': \"Alabama's contact tracing app expands capabilities, still ...\", 'description': \"Alabama's contact tracing app expands capabilities, still very few have downloaded it ... “The Guidesafe exposure notification app does not ...\", 'extensions': [{'inline': True, 'type': 'text', 'text': 'Nov 23, 2020', 'rank': 1}], 'rank': 20, 'global_rank': 21}], 'featured_snippets': [{'type': 'answer', 'display_link': 'https://www.guidesafe.org › exposure-notification-app', 'link_title': \"Alabama's Exposure Notification App - GuideSafe\", 'link': 'https://www.guidesafe.org/exposure-notification-app/#:~:text=Step%20one%3A%20Download%20the%20GuideSafe,can%20choose%20to%20report%20it.', 'value': {'text': 'Step one: Download the GuideSafe™ Exposure Notification App from the App Store or Google Play, and then enabling Bluetooth. Step two: If you have tested positive for COVID-19, you can choose to report it.'}, 'rank': 1, 'global_rank': 1}], 'overview': {'title': 'WebAnswer', 'kgmid': '/m/0hn'}, 'pagination': {'pages': [{'page': 2, 'start': 20, 'link': 'https://www.google.com/search?q=Alabama+GuideSafe+COVID+contact+tracing+app+downloads&num=20&sca_esv=73a6d3bdeda9064e&hl=en&ei=FahuaMW7MK3t1e8Pgtq26QE&start=20&sa=N&sstk=Ac65TH4lhJpgBTrmmYb81dWnqvU1_ZajB_vshbiLgC7pT_qoKx1C6ThFN3NgatKq_AoYBzhrdVqPc4jscrIVZXNJHTpeSnN2a3CoGg&ved=2ahUKEwiFmprip7COAxWtdvUHHQKtLR0Q8tMDegQICRAE'}, {'page': 3, 'start': 40, 'link': 'https://www.google.com/search?q=Alabama+GuideSafe+COVID+contact+tracing+app+downloads&num=20&sca_esv=73a6d3bdeda9064e&hl=en&ei=FahuaMW7MK3t1e8Pgtq26QE&start=40&sa=N&sstk=Ac65TH4lhJpgBTrmmYb81dWnqvU1_ZajB_vshbiLgC7pT_qoKx1C6ThFN3NgatKq_AoYBzhrdVqPc4jscrIVZXNJHTpeSnN2a3CoGg&ved=2ahUKEwiFmprip7COAxWtdvUHHQKtLR0Q8tMDegQICRAG'}, {'page': 4, 'start': 60, 'link': 'https://www.google.com/search?q=Alabama+GuideSafe+COVID+contact+tracing+app+downloads&num=20&sca_esv=73a6d3bdeda9064e&hl=en&ei=FahuaMW7MK3t1e8Pgtq26QE&start=60&sa=N&sstk=Ac65TH4lhJpgBTrmmYb81dWnqvU1_ZajB_vshbiLgC7pT_qoKx1C6ThFN3NgatKq_AoYBzhrdVqPc4jscrIVZXNJHTpeSnN2a3CoGg&ved=2ahUKEwiFmprip7COAxWtdvUHHQKtLR0Q8tMDegQICRAI'}, {'page': 5, 'start': 80, 'link': 'https://www.google.com/search?q=Alabama+GuideSafe+COVID+contact+tracing+app+downloads&num=20&sca_esv=73a6d3bdeda9064e&hl=en&ei=FahuaMW7MK3t1e8Pgtq26QE&start=80&sa=N&sstk=Ac65TH4lhJpgBTrmmYb81dWnqvU1_ZajB_vshbiLgC7pT_qoKx1C6ThFN3NgatKq_AoYBzhrdVqPc4jscrIVZXNJHTpeSnN2a3CoGg&ved=2ahUKEwiFmprip7COAxWtdvUHHQKtLR0Q8tMDegQICRAK'}, {'page': 6, 'start': 100, 'link': 'https://www.google.com/search?q=Alabama+GuideSafe+COVID+contact+tracing+app+downloads&num=20&sca_esv=73a6d3bdeda9064e&hl=en&ei=FahuaMW7MK3t1e8Pgtq26QE&start=100&sa=N&sstk=Ac65TH4lhJpgBTrmmYb81dWnqvU1_ZajB_vshbiLgC7pT_qoKx1C6ThFN3NgatKq_AoYBzhrdVqPc4jscrIVZXNJHTpeSnN2a3CoGg&ved=2ahUKEwiFmprip7COAxWtdvUHHQKtLR0Q8tMDegQICRAM'}, {'page': 7, 'start': 120, 'link': 'https://www.google.com/search?q=Alabama+GuideSafe+COVID+contact+tracing+app+downloads&num=20&sca_esv=73a6d3bdeda9064e&hl=en&ei=FahuaMW7MK3t1e8Pgtq26QE&start=120&sa=N&sstk=Ac65TH4lhJpgBTrmmYb81dWnqvU1_ZajB_vshbiLgC7pT_qoKx1C6ThFN3NgatKq_AoYBzhrdVqPc4jscrIVZXNJHTpeSnN2a3CoGg&ved=2ahUKEwiFmprip7COAxWtdvUHHQKtLR0Q8tMDegQICRAO'}, {'page': 8, 'start': 140, 'link': 'https://www.google.com/search?q=Alabama+GuideSafe+COVID+contact+tracing+app+downloads&num=20&sca_esv=73a6d3bdeda9064e&hl=en&ei=FahuaMW7MK3t1e8Pgtq26QE&start=140&sa=N&sstk=Ac65TH4lhJpgBTrmmYb81dWnqvU1_ZajB_vshbiLgC7pT_qoKx1C6ThFN3NgatKq_AoYBzhrdVqPc4jscrIVZXNJHTpeSnN2a3CoGg&ved=2ahUKEwiFmprip7COAxWtdvUHHQKtLR0Q8tMDegQICRAQ'}], 'current_page': 1, 'next_page': 2, 'next_page_start': 20, 'next_page_link': 'https://www.google.com/search?q=Alabama+GuideSafe+COVID+contact+tracing+app+downloads&num=20&sca_esv=73a6d3bdeda9064e&hl=en&ei=FahuaMW7MK3t1e8Pgtq26QE&start=20&sa=N&sstk=Ac65TH4lhJpgBTrmmYb81dWnqvU1_ZajB_vshbiLgC7pT_qoKx1C6ThFN3NgatKq_AoYBzhrdVqPc4jscrIVZXNJHTpeSnN2a3CoGg&ved=2ahUKEwiFmprip7COAxWtdvUHHQKtLR0Q8tMDegQICRAE'}}\n",
      "2025-07-09 13:34:14,674 - web_data_collection.webpage_retrieval - DEBUG - Retrieved and yielded 20 results from request 1\n",
      "2025-07-09 13:34:14,676 - web_data_collection.webpage_retrieval - DEBUG - Processing query: Arizona Covid Watch COVID contact tracing app downloads, variable value combo: ('Arizona Covid Watch',)\n",
      "2025-07-09 13:34:14,677 - web_data_collection.webpage_retrieval - DEBUG - Processing date chunk: None to None\n",
      "2025-07-09 13:34:14,678 - web_data_collection.webpage_retrieval - DEBUG - Making request 1/1\n"
     ]
    },
    {
     "name": "stdout",
     "output_type": "stream",
     "text": [
      "(('Alabama GuideSafe',), 'Alabama GuideSafe COVID contact tracing app downloads', {'link': 'https://www.guidesafe.org/exposure-notification-app/#:~:text=Step%20one%3A%20Download%20the%20GuideSafe,can%20choose%20to%20report%20it.', 'title': \"Alabama's Exposure Notification App - GuideSafe\", 'description': ''})\n",
      "(('Alabama GuideSafe',), 'Alabama GuideSafe COVID contact tracing app downloads', {'link': 'https://x.com/guidesafe_org', 'title': 'GuideSafe™ (@guidesafe_org) / X', 'description': 'Help stop the spread of COVID-19 in Alabama by downloading the app today. ... \\u2069 and other COVID contact tracing apps https://washingtonpost.com/technology ...'})\n",
      "(('Alabama GuideSafe',), 'Alabama GuideSafe COVID contact tracing app downloads', {'link': 'https://abc3340.com/news/local/alabama-college-students-encouraged-to-download-covid-19-contact-tracing-app-08-11-2020', 'title': 'Alabama college students encouraged to download COVID ...', 'description': \"The app will use Bluetooth technology to determine if you've been in contact with someone who's tested positive within 14 days. UAB acknowledges ...\"})\n",
      "(('Alabama GuideSafe',), 'Alabama GuideSafe COVID contact tracing app downloads', {'link': 'https://www.apr.org/news/2020-08-19/guidesafe-app-available-for-contact-tracing-in-alabama', 'title': 'GuideSafe app available for contact tracing in Alabama', 'description': 'Alabamians can now download a mobile app that informs users of potential exposure of COVID-19. Alabama is one of the first states in the U.S. to launch the ...'})\n",
      "(('Alabama GuideSafe',), 'Alabama GuideSafe COVID contact tracing app downloads', {'link': 'https://da-dk.facebook.com/UAB.edu/videos/guidesafe-exposure-notification-app-launches-statewide/308135187177645/', 'title': 'GuideSafe Exposure Notification App Launches Statewide | By ...', 'description': 'Instead, the app generates a random code for every user phone. The random code then changes every 10 to 20 minutes to preserve security. As users go about their ...'})\n",
      "(('Alabama GuideSafe',), 'Alabama GuideSafe COVID contact tracing app downloads', {'link': 'https://statescoop.com/alabama-launches-contact-tracing-app-based-on-google-apple-api/', 'title': 'Alabama launches contact tracing app based on Google ...', 'description': 'Officials in Alabama on Monday launched one of the first apps published by a state government aimed at tracking the spread of the coronavirus.'})\n",
      "(('Alabama GuideSafe',), 'Alabama GuideSafe COVID contact tracing app downloads', {'link': 'https://www.youtube.com/watch?v=-QBcypdNhEQ', 'title': \"Alabama's GuideSafe app notifies you of COVID-19 exposure\", 'description': \"The GuideSafe app was released in August. Over 93000 people have already downloaded ... Alabama's GuideSafe app notifies you of COVID-19 exposure.\"})\n",
      "(('Alabama GuideSafe',), 'Alabama GuideSafe COVID contact tracing app downloads', {'link': 'https://www.guidesafe.org/media/newsroom/', 'title': 'Newsroom', 'description': 'GuideSafe supporters want more downloads of COVID exposure notification app ... University of Alabama System to Push Contact Tracing App, Require Online Health ...'})\n",
      "(('Alabama GuideSafe',), 'Alabama GuideSafe COVID contact tracing app downloads', {'link': 'https://sites.uab.edu/guidesafebackup2/', 'title': 'GuideSafe™ | The tools and resources to help fight COVID ...', 'description': 'Users of GuideSafe™ Exposure Notification can anonymously share a positive COVID-19 test result —and be anonymously notified of potential previous close contact ...'})\n",
      "(('Alabama GuideSafe',), 'Alabama GuideSafe COVID contact tracing app downloads', {'link': 'https://utv44.com/topic/COVID-19%20Apps', 'title': 'Mobile News, Weather, Sports, Breaking News', 'description': \"Alabama coronavirus app part of growing multistate network. An app that's been used in Alabama to warn people that they might have been exposed to the ...\"})\n",
      "(('Alabama GuideSafe',), 'Alabama GuideSafe COVID contact tracing app downloads', {'link': 'https://pmc.ncbi.nlm.nih.gov/articles/PMC9366094/', 'title': 'User perceptions about sharing exposure notification ...', 'description': 'The (GuideSafe™) Exposure Notification System (ENS) was built and deployed in (Alabama) for anonymous sending and receiving of COVID-19 ...'})\n",
      "(('Alabama GuideSafe',), 'Alabama GuideSafe COVID contact tracing app downloads', {'link': 'https://ocm.auburn.edu/newsroom/news_articles/2020/08/131600-guidesafe-platform.php', 'title': 'Auburn to require students to self-screen beginning Aug. 17 ...', 'description': 'Once the pilot phase of the app has ended later this month, it will be assessed and made available for public download via Apple and Android ...'})\n",
      "(('Alabama GuideSafe',), 'Alabama GuideSafe COVID contact tracing app downloads', {'link': 'https://www.govtech.com/health/tracing-app-pilot-at-alabama-universities-to-be-made-public.html', 'title': 'Tracing App Pilot at Alabama Universities to Be Made Public', 'description': 'A contact tracing app that was used to track the novel coronavirus across universities in the state is being made available to the general public.'})\n"
     ]
    },
    {
     "name": "stderr",
     "output_type": "stream",
     "text": [
      "2025-07-09 13:34:16,406 - web_data_collection.webpage_retrieval - DEBUG - {'general': {'search_engine': 'google', 'query': 'Arizona Covid Watch COVID contact tracing app downloads', 'results_cnt': 237000, 'search_time': 0.42, 'language': 'en', 'location': 'United States', 'mobile': False, 'basic_view': False, 'search_type': 'text', 'page_title': 'Arizona Covid Watch COVID contact tracing app downloads - Google Search', 'timestamp': '2025-07-09T17:34:16.061Z'}, 'input': {'original_url': 'https://www.google.com/search?q=Arizona+Covid+Watch+COVID+contact+tracing+app+downloads&start=0&brd_json=1&num=20', 'request_id': 'hl_a84cb5f7_muw6ve4owza'}, 'navigation': [{'title': 'AI Mode', 'href': 'https://www.google.com/search?q=Arizona+Covid+Watch+COVID+contact+tracing+app+downloads&num=20&sca_esv=f7156635f6e9a261&hl=en&udm=50&fbs=AIIjpHxU7SXXniUZfeShr2fp4giZrjP_Cx0LI1Ytb_FGcOviEreERTNAkkP8Y6EXltYTGWs9RGaEMfZ2dZFFrbmM-rnq9t2Yd6CLmSU0fTw2YpsUFAZkjtkV3nlJNkF6dgnv8hBPbkvFBFvt9qVz5tXWHwMIOLAC51x133zpKWFy3_mb_RMbN-fftEKVRqPS6EEOPe03eIz5AliHkH7tItgiHkmm33AQJg&aep=1&ntc=1&sa=X&ved=2ahUKEwinxO7ip7COAxWQIBAIHdrfJpQQ2J8OegQIExAC'}, {'title': 'News', 'href': 'https://www.google.com/search?num=20&sca_esv=f7156635f6e9a261&hl=en&q=Arizona+Covid+Watch+COVID+contact+tracing+app+downloads&tbm=nws&source=lnms&fbs=AIIjpHxU7SXXniUZfeShr2fp4giZrjP_Cx0LI1Ytb_FGcOviEreERTNAkkP8Y6EXltYTGWs9RGaEMfZ2dZFFrbmM-rnq9t2Yd6CLmSU0fTw2YpsUFAZkjtkV3nlJNkF6dgnv8hBPbkvFBFvt9qVz5tXWHwMIOLAC51x133zpKWFy3_mb_RMbN-fftEKVRqPS6EEOPe03eIz5AliHkH7tItgiHkmm33AQJg&sa=X&ved=2ahUKEwinxO7ip7COAxWQIBAIHdrfJpQQ0pQJKAF6BAgPEAE'}, {'title': 'Videos', 'href': 'https://www.google.com/search?num=20&sca_esv=f7156635f6e9a261&hl=en&q=Arizona+Covid+Watch+COVID+contact+tracing+app+downloads&udm=7&fbs=AIIjpHxU7SXXniUZfeShr2fp4giZrjP_Cx0LI1Ytb_FGcOviEreERTNAkkP8Y6EXltYTGWs9RGaEMfZ2dZFFrbmM-rnq9t2Yd6CLmSU0fTw2YpsUFAZkjtkV3nlJNkF6dgnv8hBPbkvFBFvt9qVz5tXWHwMIOLAC51x133zpKWFy3_mb_RMbN-fftEKVRqPS6EEOPe03eIz5AliHkH7tItgiHkmm33AQJg&sa=X&ved=2ahUKEwinxO7ip7COAxWQIBAIHdrfJpQQtKgLKAJ6BAgQEAE'}, {'title': 'Images', 'href': 'https://www.google.com/search?num=20&sca_esv=f7156635f6e9a261&hl=en&q=Arizona+Covid+Watch+COVID+contact+tracing+app+downloads&udm=2&fbs=AIIjpHxU7SXXniUZfeShr2fp4giZrjP_Cx0LI1Ytb_FGcOviEreERTNAkkP8Y6EXltYTGWs9RGaEMfZ2dZFFrbmM-rnq9t2Yd6CLmSU0fTw2YpsUFAZkjtkV3nlJNkF6dgnv8hBPbkvFBFvt9qVz5tXWHwMIOLAC51x133zpKWFy3_mb_RMbN-fftEKVRqPS6EEOPe03eIz5AliHkH7tItgiHkmm33AQJg&sa=X&ved=2ahUKEwinxO7ip7COAxWQIBAIHdrfJpQQtKgLKAN6BAgREAE'}, {'title': 'Short videos', 'href': 'https://www.google.com/search?num=20&sca_esv=f7156635f6e9a261&hl=en&q=Arizona+Covid+Watch+COVID+contact+tracing+app+downloads&udm=39&fbs=AIIjpHxU7SXXniUZfeShr2fp4giZrjP_Cx0LI1Ytb_FGcOviEreERTNAkkP8Y6EXltYTGWs9RGaEMfZ2dZFFrbmM-rnq9t2Yd6CLmSU0fTw2YpsUFAZkjtkV3nlJNkF6dgnv8hBPbkvFBFvt9qVz5tXWHwMIOLAC51x133zpKWFy3_mb_RMbN-fftEKVRqPS6EEOPe03eIz5AliHkH7tItgiHkmm33AQJg&sa=X&ved=2ahUKEwinxO7ip7COAxWQIBAIHdrfJpQQs6gLKAR6BAgUEAE'}, {'title': 'Shopping', 'href': 'https://www.google.com/search?num=20&sca_esv=f7156635f6e9a261&hl=en&q=Arizona+Covid+Watch+COVID+contact+tracing+app+downloads&udm=28&fbs=AIIjpHxU7SXXniUZfeShr2fp4giZrjP_Cx0LI1Ytb_FGcOviEreERTNAkkP8Y6EXltYTGWs9RGaEMfZ2dZFFrbmM-rnq9t2Yd6CLmSU0fTw2YpsUFAZkjtkV3nlJNkF6dgnv8hBPbkvFBFvt9qVz5tXWHwMIOLAC51x133zpKWFy3_mb_RMbN-fftEKVRqPS6EEOPe03eIz5AliHkH7tItgiHkmm33AQJg&ved=1t:220175&ictx=111'}], 'organic': [{'link': 'https://play.google.com/store/apps/details?id=gov.azdhs.covidwatch.android&hl=en_US', 'display_link': 'https://play.google.com › store › apps › details › id=gov....', 'title': 'PHapp AZ - Apps on Google Play', 'description': 'our app keeps you connected to real-time information from verified government and health organizations. Stay informed, stay prepared, and stay safe—wherever you ...', 'extensions': [{'type': 'missing', 'text': 'tracing', 'rank': 1}, {'type': 'must_include', 'text': 'tracing', 'link': 'https://www.google.com/search?num=20&sca_esv=f7156635f6e9a261&hl=en&q=Arizona+Covid+Watch+COVID+contact+%22tracing%22+app+downloads&sa=X&ved=2ahUKEwinxO7ip7COAxWQIBAIHdrfJpQQ5t4CegQIHRAB', 'rank': 2}], 'rank': 1, 'global_rank': 1}, {'link': 'https://wehealth.org/covidwatchorg/news', 'display_link': 'https://wehealth.org › covidwatchorg › news', 'title': 'News and Media | Covid Watch', 'description': 'UArizona is launching a new mobile app that lets students know anonymously if they have been exposed to COVID-19. August 19, 2020.', 'rank': 2, 'global_rank': 2}, {'link': 'https://news.arizona.edu/news/how-smartphone-app-and-contact-tracing-helped-keep-uarizona-open-and-curb-covid-19-spread', 'display_link': 'https://news.arizona.edu › news › how-smartphone-app-a...', 'title': 'How a Smartphone App and Contact Tracing Helped Keep ...', 'description': 'The app is designed to anonymously alert users of exposure to COVID-19 and direct them to appropriate resources. Anyone can download the app, ...', 'extensions': [{'inline': True, 'type': 'text', 'text': 'Dec 16, 2020', 'rank': 1}], 'rank': 3, 'global_rank': 3}, {'link': 'https://wehealth.org/covidwatchorg/public-health', 'display_link': 'https://wehealth.org › covidwatchorg › public-health', 'title': 'Covid Watch for Public Health', 'description': 'Our exposure notification app and platform for public health can help augment contact tracing in your jurisdiction. Contact Covid Watch to find out more.', 'extensions': [{'type': 'missing', 'text': 'downloads', 'rank': 1}, {'type': 'must_include', 'text': 'downloads', 'link': 'https://www.google.com/search?num=20&sca_esv=f7156635f6e9a261&hl=en&q=Arizona+Covid+Watch+COVID+contact+tracing+app+%22downloads%22&sa=X&ved=2ahUKEwinxO7ip7COAxWQIBAIHdrfJpQQ5t4CegQIHBAB', 'rank': 2}], 'rank': 4, 'global_rank': 4}, {'link': 'https://pharmacology.arizona.edu/news/uarizona-and-covid-watch-launch-covid-19-exposure-notification-app', 'display_link': 'https://pharmacology.arizona.edu › news › uarizona-and...', 'title': 'UArizona and Covid Watch Launch COVID-19 Exposure Notification ...', 'description': 'Students, faculty and staff can now download the Covid Watch exposure notification smartphone app, which allows users who have been diagnosed with COVID-19 to ...', 'rank': 5, 'global_rank': 5}, {'link': 'https://edscoop.com/university-arizona-contact-tracing-reduced-covid19-12-percent/', 'display_link': 'https://edscoop.com › university-arizona-contact-tracin...', 'title': 'U. Arizona claims contact-tracing app reduced COVID-19 ...', 'description': 'The university estimates that about 14,000 people on the campus have downloaded the app, which is called Covid Watch Arizona. The app is based ...', 'extensions': [{'inline': True, 'type': 'text', 'text': 'Dec 18, 2020', 'rank': 1}], 'rank': 6, 'global_rank': 6}, {'link': 'https://www.facebook.com/CovidWatchOrg/', 'display_link': '300+ followers', 'title': 'Covid Watch', 'description': '*** Download Covid Watch Arizona, now available in App Store and Google Play: https://www.covidwatch.org/app/us-az/ios https://www.covidwatch.org/app/us-az/ ...', 'rank': 7, 'global_rank': 7}, {'link': 'https://www.youtube.com/watch?v=ZEBlsVYEbtM', 'display_link': '250+ views · 4 years ago', 'title': 'The University of Arizona launches contact tracing app', 'description': \"The University of Arizona is launching a new app to help trace COVID-19 as students return in-person to campus. It's called COVID Watch and it's\", 'extensions': [{'type': 'missing', 'text': 'downloads', 'rank': 1}, {'type': 'must_include', 'text': 'downloads', 'link': 'https://www.google.com/search?num=20&sca_esv=f7156635f6e9a261&hl=en&q=Arizona+Covid+Watch+COVID+contact+tracing+app+%22downloads%22&sa=X&ved=2ahUKEwinxO7ip7COAxWQIBAIHdrfJpQQ5t4CegQILRAT', 'rank': 2}], 'image': 'data:image/jpeg;base64,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', 'image_base64': 'data:image/jpeg;base64,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', 'duration': '2:03', 'duration_sec': 123, 'rank': 8, 'global_rank': 8}, {'link': 'https://abcnews.go.com/US/smartphone-app-alerts-university-arizona-students-exposed-covid/story?id=72580199', 'display_link': 'https://abcnews.go.com › story', 'title': 'Smartphone app alerts University of Arizona students if they ...', 'description': \"A new app from the University of Arizona uses Bluetooth technology to send an alert to someone's phone if they are exposed to COVID-19.\", 'extensions': [{'inline': True, 'type': 'text', 'text': 'Aug 25, 2020', 'rank': 1}], 'rank': 9, 'global_rank': 9}, {'link': 'https://www.kold.com/2020/08/19/uarizona-releases-covid-tracking-app/', 'display_link': 'https://www.kold.com › 2020/08/19 › uarizona-releases...', 'title': 'University of Arizona releases COVID tracking app - KOLD.com', 'description': \"The app will anonymously notify someone if they've come into contact with a positive case.\", 'extensions': [{'inline': True, 'type': 'text', 'text': 'Aug 19, 2020', 'rank': 1}], 'rank': 10, 'global_rank': 10}, {'link': 'https://www.12news.com/article/news/health/coronavirus/covid-watch-arizona-app-helping-fight-coronavirus-at-university-of-arizona/75-c2e87c98-756e-437f-a003-292afa503ea6', 'display_link': 'https://www.12news.com › article › news › health › covi...', 'title': \"'Covid Watch Arizona' app helping fight coronavirus at ...\", 'description': 'You can download the application on the iPhone app store here or the Google Play Store here. To help keep our campus safe, download and set up ...', 'extensions': [{'inline': True, 'type': 'text', 'text': 'Dec 20, 2020', 'rank': 1}], 'rank': 11, 'global_rank': 11}, {'link': 'https://ktar.com/arizona-news/covid-19-exposure-notification-app-launched-in-arizona-never-reached-full-potential/4598971/', 'display_link': 'https://ktar.com › arizona-news › covid-19-exposure-n...', 'title': 'COVID-19 exposure app launched in Arizona never ...', 'description': \"The Covid Watch Arizona app is still in circulation and has 93,000 downloads to date. However, Sonora Quest, the state's largest COVID-19 ...\", 'extensions': [{'inline': True, 'type': 'text', 'text': 'Aug 3, 2021', 'rank': 1}], 'rank': 12, 'global_rank': 12}, {'link': 'https://en.wikipedia.org/wiki/COVID-19_apps', 'display_link': 'https://en.wikipedia.org › wiki › COVID-19_apps', 'title': 'COVID-19 apps', 'description': 'COVID-19 apps include mobile-software applications for digital contact-tracing—i.e. the process of identifying persons (\"contacts\") who may have been in contact ...', 'rank': 13, 'global_rank': 13}, {'link': 'https://www.azpm.org/p/azpmfeatures/2020/8/13/178458-covid-watch-app-part-of-ua-reentry-plan/', 'display_link': 'https://www.azpm.org › azpmfeatures › 178458-covid-...', 'title': 'Covid Watch app part of UA reentry plan', 'description': \"It tracks how often the phone's owner comes in close contact with other users of the same app, so if one of them tests positive for the ...\", 'extensions': [{'inline': True, 'type': 'text', 'text': 'Aug 13, 2020', 'rank': 1}], 'rank': 14, 'global_rank': 14}, {'link': 'https://edscoop.com/university-contact-tracing-apps-privacy-reception/', 'display_link': 'https://edscoop.com › university-contact-tracing-apps-p...', 'title': 'At universities, contact tracing app reception hinges on ...', 'description': 'At the University of Arizona, students, faculty and staff can now download the Covid Watch app, and opt in to providing anonymous health data, ...', 'extensions': [{'inline': True, 'type': 'text', 'text': 'Aug 20, 2020', 'rank': 1}], 'rank': 15, 'global_rank': 15}, {'link': 'https://www.kgun9.com/news/coronavirus/new-smartphone-app-tracks-users-exposure-to-covid-19', 'display_link': 'https://www.kgun9.com › news › coronavirus › new-s...', 'title': \"New smartphone app tracks users' exposure to COVID-19\", 'description': 'The app is called \"COVID Watch.\" Once downloaded and installed, the app notes nearby Bluetooth signals of other mobile devices with the app ...', 'extensions': [{'inline': True, 'type': 'text', 'text': 'Aug 19, 2020', 'rank': 1}], 'rank': 16, 'global_rank': 16}, {'link': 'https://pmc.ncbi.nlm.nih.gov/articles/PMC8194594/', 'display_link': 'https://pmc.ncbi.nlm.nih.gov › articles › PMC8194594', 'title': 'Usability, inclusivity, and content evaluation of COVID-19 ...', 'description': 'We evaluated the usability of mobile COVID-19 contact tracing apps, especially for individuals with barriers to communication and limited digital literacy ...', 'extensions': [{'inline': True, 'type': 'text', 'text': 'by SO Blacklow', 'rank': 1}, {'inline': True, 'type': 'text', 'text': '2021', 'rank': 2}, {'inline': True, 'type': 'text', 'text': 'Cited by 34', 'rank': 3}], 'rank': 17, 'global_rank': 17}, {'link': 'https://repository.stcloudstate.edu/cgi/viewcontent.cgi?article=1163&context=msia_etds', 'display_link': 'https://repository.stcloudstate.edu › viewcontent', 'title': 'Privacy and Security Implications in COVID-19 Tracking ...', 'description': 'The problem addressed by this research paper is the lack of data security and privacy in. COVID-19 tracking and tracing mobile applications.', 'extensions': [{'inline': True, 'type': 'text', 'text': 'by S Shrestha', 'rank': 1}, {'inline': True, 'type': 'text', 'text': '2021', 'rank': 2}, {'inline': True, 'type': 'text', 'text': 'Cited by 1', 'rank': 3}], 'rank': 18, 'global_rank': 18}, {'link': 'https://stateline.org/2021/03/19/for-states-covid-contact-tracing-apps-privacy-tops-utility/', 'display_link': 'https://stateline.org › 2021/03/19 › for-states-covid-con...', 'title': \"For States' COVID Contact Tracing Apps, Privacy Tops Utility\", 'description': \"Roughly a quarter of the adult population has downloaded the state's COVIDWISE app or opted in on their iPhones to receive exposure ...\", 'extensions': [{'inline': True, 'type': 'text', 'text': 'Mar 19, 2021', 'rank': 1}, {'type': 'missing', 'text': 'Watch', 'rank': 2}, {'type': 'must_include', 'text': 'Watch', 'link': 'https://www.google.com/search?num=20&sca_esv=f7156635f6e9a261&hl=en&q=Arizona+Covid+%22Watch%22+COVID+contact+tracing+app+downloads&sa=X&ved=2ahUKEwinxO7ip7COAxWQIBAIHdrfJpQQ5t4CegQIOhAB', 'rank': 3}], 'rank': 19, 'global_rank': 19}, {'link': 'https://pmc.ncbi.nlm.nih.gov/articles/PMC9357651/', 'display_link': 'https://pmc.ncbi.nlm.nih.gov › articles › PMC9357651', 'title': 'A Brief History of Exposure Notification During the COVID- ...', 'description': 'UArizona and COVID Watch launch COVID-19 exposure notification app. ... COVID-19 contact tracing app launches in Wisconsin [news release]. Wisconsin ...', 'extensions': [{'inline': True, 'type': 'text', 'text': 'by H Bair', 'rank': 1}, {'inline': True, 'type': 'text', 'text': '2022', 'rank': 2}, {'inline': True, 'type': 'text', 'text': 'Cited by 17', 'rank': 3}], 'rank': 20, 'global_rank': 20}], 'pagination': {'pages': [{'page': 2, 'start': 20, 'link': 'https://www.google.com/search?q=Arizona+Covid+Watch+COVID+contact+tracing+app+downloads&num=20&sca_esv=f7156635f6e9a261&hl=en&ei=F6huaOfcCpDBwPAP2r-boQk&start=20&sa=N&sstk=Ac65TH6n0k8aS65BhQLVaC2n9PxILUx270RlgVkSfe8pELSORIABbpL6chkeqXO7mhtKp94EYPoZ46KrvmMdq4kYPCgsTenZIIFkhQ&ved=2ahUKEwinxO7ip7COAxWQIBAIHdrfJpQQ8tMDegQICRAE'}, {'page': 3, 'start': 40, 'link': 'https://www.google.com/search?q=Arizona+Covid+Watch+COVID+contact+tracing+app+downloads&num=20&sca_esv=f7156635f6e9a261&hl=en&ei=F6huaOfcCpDBwPAP2r-boQk&start=40&sa=N&sstk=Ac65TH6n0k8aS65BhQLVaC2n9PxILUx270RlgVkSfe8pELSORIABbpL6chkeqXO7mhtKp94EYPoZ46KrvmMdq4kYPCgsTenZIIFkhQ&ved=2ahUKEwinxO7ip7COAxWQIBAIHdrfJpQQ8tMDegQICRAG'}, {'page': 4, 'start': 60, 'link': 'https://www.google.com/search?q=Arizona+Covid+Watch+COVID+contact+tracing+app+downloads&num=20&sca_esv=f7156635f6e9a261&hl=en&ei=F6huaOfcCpDBwPAP2r-boQk&start=60&sa=N&sstk=Ac65TH6n0k8aS65BhQLVaC2n9PxILUx270RlgVkSfe8pELSORIABbpL6chkeqXO7mhtKp94EYPoZ46KrvmMdq4kYPCgsTenZIIFkhQ&ved=2ahUKEwinxO7ip7COAxWQIBAIHdrfJpQQ8tMDegQICRAI'}, {'page': 5, 'start': 80, 'link': 'https://www.google.com/search?q=Arizona+Covid+Watch+COVID+contact+tracing+app+downloads&num=20&sca_esv=f7156635f6e9a261&hl=en&ei=F6huaOfcCpDBwPAP2r-boQk&start=80&sa=N&sstk=Ac65TH6n0k8aS65BhQLVaC2n9PxILUx270RlgVkSfe8pELSORIABbpL6chkeqXO7mhtKp94EYPoZ46KrvmMdq4kYPCgsTenZIIFkhQ&ved=2ahUKEwinxO7ip7COAxWQIBAIHdrfJpQQ8tMDegQICRAK'}, {'page': 6, 'start': 100, 'link': 'https://www.google.com/search?q=Arizona+Covid+Watch+COVID+contact+tracing+app+downloads&num=20&sca_esv=f7156635f6e9a261&hl=en&ei=F6huaOfcCpDBwPAP2r-boQk&start=100&sa=N&sstk=Ac65TH6n0k8aS65BhQLVaC2n9PxILUx270RlgVkSfe8pELSORIABbpL6chkeqXO7mhtKp94EYPoZ46KrvmMdq4kYPCgsTenZIIFkhQ&ved=2ahUKEwinxO7ip7COAxWQIBAIHdrfJpQQ8tMDegQICRAM'}, {'page': 7, 'start': 120, 'link': 'https://www.google.com/search?q=Arizona+Covid+Watch+COVID+contact+tracing+app+downloads&num=20&sca_esv=f7156635f6e9a261&hl=en&ei=F6huaOfcCpDBwPAP2r-boQk&start=120&sa=N&sstk=Ac65TH6n0k8aS65BhQLVaC2n9PxILUx270RlgVkSfe8pELSORIABbpL6chkeqXO7mhtKp94EYPoZ46KrvmMdq4kYPCgsTenZIIFkhQ&ved=2ahUKEwinxO7ip7COAxWQIBAIHdrfJpQQ8tMDegQICRAO'}, {'page': 8, 'start': 140, 'link': 'https://www.google.com/search?q=Arizona+Covid+Watch+COVID+contact+tracing+app+downloads&num=20&sca_esv=f7156635f6e9a261&hl=en&ei=F6huaOfcCpDBwPAP2r-boQk&start=140&sa=N&sstk=Ac65TH6n0k8aS65BhQLVaC2n9PxILUx270RlgVkSfe8pELSORIABbpL6chkeqXO7mhtKp94EYPoZ46KrvmMdq4kYPCgsTenZIIFkhQ&ved=2ahUKEwinxO7ip7COAxWQIBAIHdrfJpQQ8tMDegQICRAQ'}, {'page': 9, 'start': 160, 'link': 'https://www.google.com/search?q=Arizona+Covid+Watch+COVID+contact+tracing+app+downloads&num=20&sca_esv=f7156635f6e9a261&hl=en&ei=F6huaOfcCpDBwPAP2r-boQk&start=160&sa=N&sstk=Ac65TH6n0k8aS65BhQLVaC2n9PxILUx270RlgVkSfe8pELSORIABbpL6chkeqXO7mhtKp94EYPoZ46KrvmMdq4kYPCgsTenZIIFkhQ&ved=2ahUKEwinxO7ip7COAxWQIBAIHdrfJpQQ8tMDegQICRAS'}, {'page': 10, 'start': 180, 'link': 'https://www.google.com/search?q=Arizona+Covid+Watch+COVID+contact+tracing+app+downloads&num=20&sca_esv=f7156635f6e9a261&hl=en&ei=F6huaOfcCpDBwPAP2r-boQk&start=180&sa=N&sstk=Ac65TH6n0k8aS65BhQLVaC2n9PxILUx270RlgVkSfe8pELSORIABbpL6chkeqXO7mhtKp94EYPoZ46KrvmMdq4kYPCgsTenZIIFkhQ&ved=2ahUKEwinxO7ip7COAxWQIBAIHdrfJpQQ8tMDegQICRAU'}], 'current_page': 1, 'next_page': 2, 'next_page_start': 20, 'next_page_link': 'https://www.google.com/search?q=Arizona+Covid+Watch+COVID+contact+tracing+app+downloads&num=20&sca_esv=f7156635f6e9a261&hl=en&ei=F6huaOfcCpDBwPAP2r-boQk&start=20&sa=N&sstk=Ac65TH6n0k8aS65BhQLVaC2n9PxILUx270RlgVkSfe8pELSORIABbpL6chkeqXO7mhtKp94EYPoZ46KrvmMdq4kYPCgsTenZIIFkhQ&ved=2ahUKEwinxO7ip7COAxWQIBAIHdrfJpQQ8tMDegQICRAE'}}\n",
      "2025-07-09 13:34:16,408 - web_data_collection.webpage_retrieval - DEBUG - Retrieved and yielded 20 results from request 1\n",
      "2025-07-09 13:34:16,410 - web_data_collection.webpage_retrieval - DEBUG - Processing query: California Covid Notify COVID contact tracing app downloads, variable value combo: ('California Covid Notify',)\n",
      "2025-07-09 13:34:16,411 - web_data_collection.webpage_retrieval - DEBUG - Processing date chunk: None to None\n",
      "2025-07-09 13:34:16,412 - web_data_collection.webpage_retrieval - DEBUG - Making request 1/1\n"
     ]
    },
    {
     "name": "stdout",
     "output_type": "stream",
     "text": [
      "(('Arizona Covid Watch',), 'Arizona Covid Watch COVID contact tracing app downloads', {'link': 'https://news.arizona.edu/news/how-smartphone-app-and-contact-tracing-helped-keep-uarizona-open-and-curb-covid-19-spread', 'title': 'How a Smartphone App and Contact Tracing Helped Keep ...', 'description': 'The app is designed to anonymously alert users of exposure to COVID-19 and direct them to appropriate resources. Anyone can download the app, ...'})\n",
      "(('Arizona Covid Watch',), 'Arizona Covid Watch COVID contact tracing app downloads', {'link': 'https://www.facebook.com/CovidWatchOrg/', 'title': 'Covid Watch', 'description': '*** Download Covid Watch Arizona, now available in App Store and Google Play: https://www.covidwatch.org/app/us-az/ios https://www.covidwatch.org/app/us-az/ ...'})\n",
      "(('Arizona Covid Watch',), 'Arizona Covid Watch COVID contact tracing app downloads', {'link': 'https://www.youtube.com/watch?v=ZEBlsVYEbtM', 'title': 'The University of Arizona launches contact tracing app', 'description': \"The University of Arizona is launching a new app to help trace COVID-19 as students return in-person to campus. It's called COVID Watch and it's\"})\n",
      "(('Arizona Covid Watch',), 'Arizona Covid Watch COVID contact tracing app downloads', {'link': 'https://www.12news.com/article/news/health/coronavirus/covid-watch-arizona-app-helping-fight-coronavirus-at-university-of-arizona/75-c2e87c98-756e-437f-a003-292afa503ea6', 'title': \"'Covid Watch Arizona' app helping fight coronavirus at ...\", 'description': 'You can download the application on the iPhone app store here or the Google Play Store here. To help keep our campus safe, download and set up ...'})\n",
      "(('Arizona Covid Watch',), 'Arizona Covid Watch COVID contact tracing app downloads', {'link': 'https://www.azpm.org/p/azpmfeatures/2020/8/13/178458-covid-watch-app-part-of-ua-reentry-plan/', 'title': 'Covid Watch app part of UA reentry plan', 'description': \"It tracks how often the phone's owner comes in close contact with other users of the same app, so if one of them tests positive for the ...\"})\n",
      "(('Arizona Covid Watch',), 'Arizona Covid Watch COVID contact tracing app downloads', {'link': 'https://edscoop.com/university-contact-tracing-apps-privacy-reception/', 'title': 'At universities, contact tracing app reception hinges on ...', 'description': 'At the University of Arizona, students, faculty and staff can now download the Covid Watch app, and opt in to providing anonymous health data, ...'})\n",
      "(('Arizona Covid Watch',), 'Arizona Covid Watch COVID contact tracing app downloads', {'link': 'https://stateline.org/2021/03/19/for-states-covid-contact-tracing-apps-privacy-tops-utility/', 'title': \"For States' COVID Contact Tracing Apps, Privacy Tops Utility\", 'description': \"Roughly a quarter of the adult population has downloaded the state's COVIDWISE app or opted in on their iPhones to receive exposure ...\"})\n"
     ]
    },
    {
     "name": "stderr",
     "output_type": "stream",
     "text": [
      "2025-07-09 13:34:18,557 - web_data_collection.webpage_retrieval - DEBUG - {'general': {'search_engine': 'google', 'query': 'California Covid Notify COVID contact tracing app downloads', 'results_cnt': 12600000, 'search_time': 0.5, 'language': 'en', 'location': 'United States', 'mobile': False, 'basic_view': False, 'search_type': 'text', 'page_title': 'California Covid Notify COVID contact tracing app downloads - Google Search', 'timestamp': '2025-07-09T17:34:18.222Z'}, 'input': {'original_url': 'https://www.google.com/search?q=California+Covid+Notify+COVID+contact+tracing+app+downloads&start=0&brd_json=1&num=20', 'request_id': 'hl_a84cb5f7_n24n152l7a'}, 'navigation': [{'title': 'AI Mode', 'href': 'https://www.google.com/search?q=California+Covid+Notify+COVID+contact+tracing+app+downloads&num=20&sca_esv=f7156635f6e9a261&hl=en&udm=50&fbs=AIIjpHxU7SXXniUZfeShr2fp4giZrjP_Cx0LI1Ytb_FGcOviEiL7FsMqPMz12BdbDgJD8Lorzd08GGKixt6OKyOWF8StX6T57k0hxdMtM51Dl614VyYVGWeT4vV8EUZyX0xXOdJ2DOONh45WHzq7Vj2_v8ssFBOVkjsKPg8JOwHpko9WNDU8E9_mdGEB19d0uF59jtAMHKCHTdX6RY1PwnStnRoebv3Raw&aep=1&ntc=1&sa=X&ved=2ahUKEwjx4-_jp7COAxXeL0QIHd58OsEQ2J8OegQIFBAC'}, {'title': 'News', 'href': 'https://www.google.com/search?num=20&sca_esv=f7156635f6e9a261&hl=en&q=California+Covid+Notify+COVID+contact+tracing+app+downloads&tbm=nws&source=lnms&fbs=AIIjpHxU7SXXniUZfeShr2fp4giZrjP_Cx0LI1Ytb_FGcOviEiL7FsMqPMz12BdbDgJD8Lorzd08GGKixt6OKyOWF8StX6T57k0hxdMtM51Dl614VyYVGWeT4vV8EUZyX0xXOdJ2DOONh45WHzq7Vj2_v8ssFBOVkjsKPg8JOwHpko9WNDU8E9_mdGEB19d0uF59jtAMHKCHTdX6RY1PwnStnRoebv3Raw&sa=X&ved=2ahUKEwjx4-_jp7COAxXeL0QIHd58OsEQ0pQJKAF6BAgXEAE'}, {'title': 'Videos', 'href': 'https://www.google.com/search?num=20&sca_esv=f7156635f6e9a261&hl=en&q=California+Covid+Notify+COVID+contact+tracing+app+downloads&udm=7&fbs=AIIjpHxU7SXXniUZfeShr2fp4giZrjP_Cx0LI1Ytb_FGcOviEiL7FsMqPMz12BdbDgJD8Lorzd08GGKixt6OKyOWF8StX6T57k0hxdMtM51Dl614VyYVGWeT4vV8EUZyX0xXOdJ2DOONh45WHzq7Vj2_v8ssFBOVkjsKPg8JOwHpko9WNDU8E9_mdGEB19d0uF59jtAMHKCHTdX6RY1PwnStnRoebv3Raw&sa=X&ved=2ahUKEwjx4-_jp7COAxXeL0QIHd58OsEQtKgLKAJ6BAgYEAE'}, {'title': 'Short videos', 'href': 'https://www.google.com/search?num=20&sca_esv=f7156635f6e9a261&hl=en&q=California+Covid+Notify+COVID+contact+tracing+app+downloads&udm=39&fbs=AIIjpHxU7SXXniUZfeShr2fp4giZrjP_Cx0LI1Ytb_FGcOviEiL7FsMqPMz12BdbDgJD8Lorzd08GGKixt6OKyOWF8StX6T57k0hxdMtM51Dl614VyYVGWeT4vV8EUZyX0xXOdJ2DOONh45WHzq7Vj2_v8ssFBOVkjsKPg8JOwHpko9WNDU8E9_mdGEB19d0uF59jtAMHKCHTdX6RY1PwnStnRoebv3Raw&sa=X&ved=2ahUKEwjx4-_jp7COAxXeL0QIHd58OsEQs6gLKAN6BAgZEAE'}, {'title': 'Images', 'href': 'https://www.google.com/search?num=20&sca_esv=f7156635f6e9a261&hl=en&q=California+Covid+Notify+COVID+contact+tracing+app+downloads&udm=2&fbs=AIIjpHxU7SXXniUZfeShr2fp4giZrjP_Cx0LI1Ytb_FGcOviEiL7FsMqPMz12BdbDgJD8Lorzd08GGKixt6OKyOWF8StX6T57k0hxdMtM51Dl614VyYVGWeT4vV8EUZyX0xXOdJ2DOONh45WHzq7Vj2_v8ssFBOVkjsKPg8JOwHpko9WNDU8E9_mdGEB19d0uF59jtAMHKCHTdX6RY1PwnStnRoebv3Raw&sa=X&ved=2ahUKEwjx4-_jp7COAxXeL0QIHd58OsEQtKgLKAR6BAgaEAE'}, {'title': 'Forums', 'href': 'https://www.google.com/search?num=20&sca_esv=f7156635f6e9a261&hl=en&q=California+Covid+Notify+COVID+contact+tracing+app+downloads&udm=18&fbs=AIIjpHxU7SXXniUZfeShr2fp4giZrjP_Cx0LI1Ytb_FGcOviEiL7FsMqPMz12BdbDgJD8Lorzd08GGKixt6OKyOWF8StX6T57k0hxdMtM51Dl614VyYVGWeT4vV8EUZyX0xXOdJ2DOONh45WHzq7Vj2_v8ssFBOVkjsKPg8JOwHpko9WNDU8E9_mdGEB19d0uF59jtAMHKCHTdX6RY1PwnStnRoebv3Raw&sa=X&ved=2ahUKEwjx4-_jp7COAxXeL0QIHd58OsEQs6gLKAV6BAgbEAE'}], 'organic': [{'link': 'https://www.cdph.ca.gov/Programs/CID/DCDC/Pages/CANotify/CANotifyMain.aspx', 'display_link': 'https://www.cdph.ca.gov › CID › DCDC › Pages › CAN...', 'title': 'CA Notify Home - CDPH - CA.gov', 'description': 'As of May 11, 2023, the CA Notify COVID-19 exposure notification system is no longer available. Please visit CDPH COVID-19 Resources for more information.', 'extensions': [{'inline': True, 'type': 'text', 'text': 'Oct 16, 2023', 'rank': 1}, {'type': 'missing', 'text': 'tracing', 'rank': 2}, {'type': 'must_include', 'text': 'tracing', 'link': 'https://www.google.com/search?num=20&sca_esv=f7156635f6e9a261&hl=en&q=California+Covid+Notify+COVID+contact+%22tracing%22+app+downloads&sa=X&ved=2ahUKEwjx4-_jp7COAxXeL0QIHd58OsEQ5t4CegQIIhAB', 'rank': 3}], 'rank': 1, 'global_rank': 1}, {'link': 'https://www.fhcsd.org/ca-notify/', 'display_link': 'https://www.fhcsd.org › ca-notify', 'title': 'CA Notify | COVID-19 Exposure Notifications', 'description': 'CA Notify is a phone application that will inform Californians if they have been exposed to someone who has tested positive for COVID-19.', 'rank': 2, 'global_rank': 2}, {'link': 'https://www.cdph.ca.gov/Programs/OPA/CDPH%20Document%20Library/Toolkits/ca_notify/CA-notify-FAQ.pdf', 'display_link': 'https://www.cdph.ca.gov › OPA › Toolkits › CA-...', 'title': 'CA Notify: Frequently Asked Questions - CDPH', 'description': \"CA Notify is a free exposure notification system for smartphones—made possible by the California Department of Public Health—to alert you if you've been exposed.\", 'rank': 3, 'global_rank': 3}, {'link': 'https://covid-19.ucla.edu/covid-notify/', 'display_link': 'https://covid-19.ucla.edu › covid-notify', 'title': 'CA COVID Notify - COVID-19 and vaccine resources', 'description': 'Android users can download CA COVID Notify on the Google Play Store ... Learn more at the CA COVID Notify website. For any technical issues activating or ...', 'rank': 4, 'global_rank': 4}, {'link': 'https://calhospital.org/ca-covid-notify-on-demand-learning/', 'display_link': 'https://calhospital.org › On-Demand Learning', 'title': 'CA Notify: A New App to Speed COVID Exposure ...', 'description': 'CA COVID Notify will be available for download Dec. 10. Installing the app right away is key to aid in quick detection later.', 'rank': 5, 'global_rank': 8}, {'link': 'https://www.alvareztg.com/ca-notify-app/', 'display_link': 'https://www.alvareztg.com › ca-notify-app', 'title': 'CA Notify App: Everything You Should Know', 'description': 'CA Notify is a free service that allows you to find out if you were exposed to COVID-19. The app, which is designed to help with contract tracing for COVID-19,', 'rank': 6, 'global_rank': 9}, {'link': 'http://www.alamedahealthsystem.org/californias-covid-19-exposure-notification-app-is-now-live/', 'display_link': 'http://www.alamedahealthsystem.org › californias-covid...', 'title': \"California's COVID-19 Exposure Notification App Is Now Live\", 'description': 'Smartphone users can sign up for CA Notify, an app that sends an alert if the user has been around someone who later tests positive for COVID-19 ...', 'extensions': [{'inline': True, 'type': 'text', 'text': 'Dec 11, 2020', 'rank': 1}], 'rank': 7, 'global_rank': 10}, {'link': 'https://www.sacbee.com/news/california/article257189242.html', 'display_link': 'https://www.sacbee.com › california › article257189242', 'title': 'Remember COVID-19 phone alerts? California app ...', 'description': 'The CA Notify app has been downloaded more than 15.6 million times since Gov. ... contact tracing app is much more widely promoted.', 'extensions': [{'inline': True, 'type': 'text', 'text': 'Jan 12, 2022', 'rank': 1}], 'rank': 8, 'global_rank': 11}, {'link': 'https://news.berkeley.edu/2020/11/16/uc-berkeley-launches-covid-19-exposure-notification-system/', 'display_link': 'https://news.berkeley.edu › All news', 'title': 'UC Berkeley launches COVID-19 exposure notification ...', 'description': 'The smartphone-based exposure notification system — California COVID Notify — launched for the UC Berkeley community Nov. 16.', 'extensions': [{'inline': True, 'type': 'text', 'text': 'Nov 16, 2020', 'rank': 1}], 'rank': 9, 'global_rank': 12}, {'link': 'https://www.reddit.com/r/bayarea/comments/kai2ty/anyone_here_download_the_ca_notify_app_cas/', 'display_link': '50+ comments · 4 years ago', 'title': \"Anyone here download the CA Notify app (CA's Contact ...\", 'description': \"If you download one of these apps, it will use your phone's Bluetooth chip to do what Bluetooth does: emit little radio pings to find other ...\", 'rank': 10, 'global_rank': 13}, {'link': 'https://www.chcf.org/resource/preliminary-research-suggests-covid-19-warning-app-slowed-transmission-virus/', 'display_link': 'https://www.chcf.org › resource › preliminary-research-s...', 'title': 'Preliminary Research Suggests COVID-19 Warning App ...', 'description': 'California launched the exposure notification app, called CA Notify, statewide on December 10. The app employs a framework released jointly by ...', 'extensions': [{'inline': True, 'type': 'text', 'text': 'Mar 2, 2021', 'rank': 1}], 'rank': 11, 'global_rank': 14}, {'link': 'https://www.eff.org/deeplinks/2020/12/ca-notify-app-useful-arrow-fight-against-covid-19', 'display_link': 'https://www.eff.org › deeplinks › 2020/12 › ca-notify-a...', 'title': 'California Has a New COVID Exposure Notification App', 'description': '(In iOS, there is no app to download; the “Exposure Notification” feature can be turned on via the settings.) If an app user tests positive for ...', 'extensions': [{'inline': True, 'type': 'text', 'text': 'Dec 10, 2020', 'rank': 1}], 'rank': 12, 'global_rank': 15}, {'link': 'https://pmc.ncbi.nlm.nih.gov/articles/PMC9357651/', 'display_link': 'https://pmc.ncbi.nlm.nih.gov › articles › PMC9357651', 'title': 'A Brief History of Exposure Notification During the COVID- ...', 'description': 'Exposure notification, a mobile device–based technology that notifies individuals of potential exposure to COVID-19 without requiring personally identifiable ...', 'extensions': [{'inline': True, 'type': 'text', 'text': 'by H Bair', 'rank': 1}, {'inline': True, 'type': 'text', 'text': '2022', 'rank': 2}, {'inline': True, 'type': 'text', 'text': 'Cited by 17', 'rank': 3}], 'rank': 13, 'global_rank': 16}, {'link': 'https://dot.la/california-covid-19-tracking-app-2649442530.html', 'display_link': 'https://dot.la › california-covid-19-tracking-app-26494...', 'title': \"How to Turn On California's COVID-19 Contract Tracing App\", 'description': 'The platform is available on the iPhones Settings menu under \"Exposure Notifications,\" but Android users will have to download the CA Notify app directly.', 'rank': 14, 'global_rank': 17}, {'link': 'https://www.ucdavis.edu/coronavirus/news/uc-davis-rolls-out-covid-19-exposure-app-to-campuses', 'display_link': 'https://www.ucdavis.edu › coronavirus › news › uc-dav...', 'title': 'UC Davis Rolls Out COVID-19 Exposure App to Campuses', 'description': 'Android users who wish to participate must download the California COVID Notify app, whereas iOS users can activate it in their iPhone settings.', 'extensions': [{'inline': True, 'type': 'text', 'text': 'Nov 17, 2020', 'rank': 1}], 'rank': 15, 'global_rank': 18}, {'link': 'https://www.latimes.com/business/technology/story/2020-12-07/california-just-launched-a-contact-tracing-app-what-do-you-need-to-know', 'display_link': 'https://www.latimes.com › business › technology › story', 'title': \"California's new contact-tracing app: What you need to know\", 'description': \"How can I activate the CA Notify app? Californians with Android phones must download the app from the Google Play store once it's available ...\", 'extensions': [{'inline': True, 'type': 'text', 'text': 'Dec 7, 2020', 'rank': 1}], 'rank': 16, 'global_rank': 19}, {'link': 'http://newamerica.org/pit/briefs/the-mixed-success-of-covid-exposure-notification-apps/', 'display_link': 'http://newamerica.org › pit › briefs › the-mixed-success-...', 'title': 'The Mixed Success of COVID Exposure Notification Apps', 'description': 'Apps like CA Notify are interchangeably referred to as “contact tracing” and “exposure notification systems,” but they are actually the latter.', 'extensions': [{'inline': True, 'type': 'text', 'text': 'Jul 28, 2022', 'rank': 1}], 'rank': 17, 'global_rank': 20}, {'link': 'https://mashable.com/article/ca-notify-covid-contact-tracing-app', 'display_link': 'https://mashable.com › Tech › Tech Industry', 'title': 'California launches COVID contact tracing app for iPhone ...', 'description': 'Android users need to download the CA Notify app in the Google Play store. After making sure they have the latest version of iOS, iPhone need to ...', 'extensions': [{'inline': True, 'type': 'text', 'text': 'Dec 7, 2020', 'rank': 1}], 'rank': 18, 'global_rank': 21}, {'link': 'https://news.berkeley.edu/2020/11/12/opt-in-to-california-exposure-app-to-slow-the-spread-of-covid-19/', 'display_link': 'https://news.berkeley.edu › All news', 'title': 'Opt-in to California exposure app to slow the spread ...', 'description': \"California COVID Notify is a privacy-first approach to using smartphones to alert you when you've been exposed to COVID-19.\", 'extensions': [{'inline': True, 'type': 'text', 'text': 'Nov 12, 2020', 'rank': 1}], 'rank': 19, 'global_rank': 22}, {'link': 'https://www.ijpr.org/health-and-medicine/2020-12-22/california-launches-california-notify-an-app-that-helps-with-covid-19-contact-tracing?_amp=true', 'display_link': 'https://www.ijpr.org › health-and-medicine › california-...', 'title': \"California Launches 'California Notify,' An App That Helps ...\", 'description': \"Users who download the app “California Notify” can receive notifications on their smartphones that tell them if they've been exposed to someone ...\", 'extensions': [{'inline': True, 'type': 'text', 'text': 'Dec 22, 2020', 'rank': 1}], 'rank': 20, 'global_rank': 23}], 'pagination': {'pages': [{'page': 2, 'start': 20, 'link': 'https://www.google.com/search?q=California+Covid+Notify+COVID+contact+tracing+app+downloads&num=20&sca_esv=f7156635f6e9a261&hl=en&ei=GahuaLHzEd7fkPIP3vnpiQw&start=20&sa=N&sstk=Ac65TH4P39z37xqW2mCH7fE_HiaUTsvlCcdANeSvNIz_L6KxpfVn34sPfFU_Hyns2MTrqAQvIWx84nsPE8RzgsnVSSG7gxCXq1UkYg&ved=2ahUKEwjx4-_jp7COAxXeL0QIHd58OsEQ8tMDegQIDBAE'}, {'page': 3, 'start': 40, 'link': 'https://www.google.com/search?q=California+Covid+Notify+COVID+contact+tracing+app+downloads&num=20&sca_esv=f7156635f6e9a261&hl=en&ei=GahuaLHzEd7fkPIP3vnpiQw&start=40&sa=N&sstk=Ac65TH4P39z37xqW2mCH7fE_HiaUTsvlCcdANeSvNIz_L6KxpfVn34sPfFU_Hyns2MTrqAQvIWx84nsPE8RzgsnVSSG7gxCXq1UkYg&ved=2ahUKEwjx4-_jp7COAxXeL0QIHd58OsEQ8tMDegQIDBAG'}, {'page': 4, 'start': 60, 'link': 'https://www.google.com/search?q=California+Covid+Notify+COVID+contact+tracing+app+downloads&num=20&sca_esv=f7156635f6e9a261&hl=en&ei=GahuaLHzEd7fkPIP3vnpiQw&start=60&sa=N&sstk=Ac65TH4P39z37xqW2mCH7fE_HiaUTsvlCcdANeSvNIz_L6KxpfVn34sPfFU_Hyns2MTrqAQvIWx84nsPE8RzgsnVSSG7gxCXq1UkYg&ved=2ahUKEwjx4-_jp7COAxXeL0QIHd58OsEQ8tMDegQIDBAI'}, {'page': 5, 'start': 80, 'link': 'https://www.google.com/search?q=California+Covid+Notify+COVID+contact+tracing+app+downloads&num=20&sca_esv=f7156635f6e9a261&hl=en&ei=GahuaLHzEd7fkPIP3vnpiQw&start=80&sa=N&sstk=Ac65TH4P39z37xqW2mCH7fE_HiaUTsvlCcdANeSvNIz_L6KxpfVn34sPfFU_Hyns2MTrqAQvIWx84nsPE8RzgsnVSSG7gxCXq1UkYg&ved=2ahUKEwjx4-_jp7COAxXeL0QIHd58OsEQ8tMDegQIDBAK'}, {'page': 6, 'start': 100, 'link': 'https://www.google.com/search?q=California+Covid+Notify+COVID+contact+tracing+app+downloads&num=20&sca_esv=f7156635f6e9a261&hl=en&ei=GahuaLHzEd7fkPIP3vnpiQw&start=100&sa=N&sstk=Ac65TH4P39z37xqW2mCH7fE_HiaUTsvlCcdANeSvNIz_L6KxpfVn34sPfFU_Hyns2MTrqAQvIWx84nsPE8RzgsnVSSG7gxCXq1UkYg&ved=2ahUKEwjx4-_jp7COAxXeL0QIHd58OsEQ8tMDegQIDBAM'}, {'page': 7, 'start': 120, 'link': 'https://www.google.com/search?q=California+Covid+Notify+COVID+contact+tracing+app+downloads&num=20&sca_esv=f7156635f6e9a261&hl=en&ei=GahuaLHzEd7fkPIP3vnpiQw&start=120&sa=N&sstk=Ac65TH4P39z37xqW2mCH7fE_HiaUTsvlCcdANeSvNIz_L6KxpfVn34sPfFU_Hyns2MTrqAQvIWx84nsPE8RzgsnVSSG7gxCXq1UkYg&ved=2ahUKEwjx4-_jp7COAxXeL0QIHd58OsEQ8tMDegQIDBAO'}, {'page': 8, 'start': 140, 'link': 'https://www.google.com/search?q=California+Covid+Notify+COVID+contact+tracing+app+downloads&num=20&sca_esv=f7156635f6e9a261&hl=en&ei=GahuaLHzEd7fkPIP3vnpiQw&start=140&sa=N&sstk=Ac65TH4P39z37xqW2mCH7fE_HiaUTsvlCcdANeSvNIz_L6KxpfVn34sPfFU_Hyns2MTrqAQvIWx84nsPE8RzgsnVSSG7gxCXq1UkYg&ved=2ahUKEwjx4-_jp7COAxXeL0QIHd58OsEQ8tMDegQIDBAQ'}, {'page': 9, 'start': 160, 'link': 'https://www.google.com/search?q=California+Covid+Notify+COVID+contact+tracing+app+downloads&num=20&sca_esv=f7156635f6e9a261&hl=en&ei=GahuaLHzEd7fkPIP3vnpiQw&start=160&sa=N&sstk=Ac65TH4P39z37xqW2mCH7fE_HiaUTsvlCcdANeSvNIz_L6KxpfVn34sPfFU_Hyns2MTrqAQvIWx84nsPE8RzgsnVSSG7gxCXq1UkYg&ved=2ahUKEwjx4-_jp7COAxXeL0QIHd58OsEQ8tMDegQIDBAS'}, {'page': 10, 'start': 180, 'link': 'https://www.google.com/search?q=California+Covid+Notify+COVID+contact+tracing+app+downloads&num=20&sca_esv=f7156635f6e9a261&hl=en&ei=GahuaLHzEd7fkPIP3vnpiQw&start=180&sa=N&sstk=Ac65TH4P39z37xqW2mCH7fE_HiaUTsvlCcdANeSvNIz_L6KxpfVn34sPfFU_Hyns2MTrqAQvIWx84nsPE8RzgsnVSSG7gxCXq1UkYg&ved=2ahUKEwjx4-_jp7COAxXeL0QIHd58OsEQ8tMDegQIDBAU'}], 'current_page': 1, 'next_page': 2, 'next_page_start': 20, 'next_page_link': 'https://www.google.com/search?q=California+Covid+Notify+COVID+contact+tracing+app+downloads&num=20&sca_esv=f7156635f6e9a261&hl=en&ei=GahuaLHzEd7fkPIP3vnpiQw&start=20&sa=N&sstk=Ac65TH4P39z37xqW2mCH7fE_HiaUTsvlCcdANeSvNIz_L6KxpfVn34sPfFU_Hyns2MTrqAQvIWx84nsPE8RzgsnVSSG7gxCXq1UkYg&ved=2ahUKEwjx4-_jp7COAxXeL0QIHd58OsEQ8tMDegQIDBAE'}, 'related': [{'text': 'CA Notify app', 'link': 'https://www.google.com/search?num=20&sca_esv=f7156635f6e9a261&hl=en&q=CA+Notify+app&sa=X&ved=2ahUKEwjx4-_jp7COAxXeL0QIHd58OsEQ1QJ6BAhREAE', 'rank': 1, 'global_rank': 24}, {'text': 'Are COVID cases rising in California', 'link': 'https://www.google.com/search?num=20&sca_esv=f7156635f6e9a261&hl=en&q=Are+COVID+cases+rising+in+California&sa=X&ved=2ahUKEwjx4-_jp7COAxXeL0QIHd58OsEQ1QJ6BAhOEAE', 'rank': 2, 'global_rank': 25}], 'people_also_ask': [{'question': 'Is CA Notify still active?', 'answer_source': 'CA Notify Home - CDPH - CA.gov', 'answer_link': 'https://www.cdph.ca.gov/Programs/CID/DCDC/Pages/CANotify/CANotifyMain.aspx#:~:text=As%20of%20May%2011%2C%202023,the%20spread%20of%20COVID%2D19.', 'answer_display_link': 'https://www.cdph.ca.gov › CID › DCDC › Pages › CAN...https://www.cdph.ca.gov › CID › DCDC › Pages › CAN...', 'answers': [{'type': 'answer', 'value': {'text': 'As of May 11, 2023, the CA Notify COVID-19 exposure notification system is no longer available\\u200b. Please visit CDPH COVID-19 Resources for more information on how you can slow the spread of COVID-19.Oct 16, 2023'}, 'rank': 1}], 'rank': 1, 'global_rank': 5}, {'question': 'How to do COVID contact tracing?', 'answer_source': 'Contact Tracing | CDC', 'answer_link': 'https://www.cdc.gov/museum/pdf/cdcm-pha-stem-lesson-contact-tracing-lesson.pdf', 'answer_display_link': 'https://www.cdc.gov › museum › pdf › cdcm-pha-stem-l...https://www.cdc.gov › museum › pdf › cdcm-pha-stem-l...', 'answers': [{'type': 'answer', 'value': {'text': 'In order to conduct effective contact tracing, health officials must engage people in all three activities: speaking, sharing, and quarantining.'}, 'rank': 1}], 'rank': 2, 'global_rank': 6}, {'question': 'When to notify others of COVID exposure?', 'answer_source': 'Notifying Close Contacts After a Positive COVID Test - Ask the Viking', 'answer_link': 'https://ask.salemstate.edu/kb/notifying-close-contacts-after-positive-covid-test#:~:text=They%20are%20at%20high%20risk,whichever%20occurred%20first)%20through%20today.', 'answer_display_link': 'https://ask.salemstate.edu › notifying-close-contacts-after...https://ask.salemstate.edu › notifying-close-contacts-after...', 'answers': [{'type': 'answer', 'value': {'text': 'They are at high risk of infection and therefore need to be notified as soon as possible. If you test positive: Identify individuals that you have come into close contact with within 48 hours of testing positive or developing symptoms (whichever occurred first) through today.'}, 'rank': 1}], 'rank': 3, 'global_rank': 7}], 'ai_overview': {'error': 'AI Overview did not appear on original SERP. Please ensure that you are using the `brd_ai_overview=1` query parameter (https://docs.brightdata.com/scraping-automation/serp-api/query-parameters/google#ai-overview), and that your query is relevant for triggering an AI Overview.'}}\n",
      "2025-07-09 13:34:18,560 - web_data_collection.webpage_retrieval - DEBUG - Retrieved and yielded 20 results from request 1\n",
      "2025-07-09 13:34:18,562 - web_data_collection.webpage_retrieval - DEBUG - Processing query: Colorado Exposure Notifications COVID contact tracing app downloads, variable value combo: ('Colorado Exposure Notifications',)\n",
      "2025-07-09 13:34:18,563 - web_data_collection.webpage_retrieval - DEBUG - Processing date chunk: None to None\n",
      "2025-07-09 13:34:18,565 - web_data_collection.webpage_retrieval - DEBUG - Making request 1/1\n"
     ]
    },
    {
     "name": "stdout",
     "output_type": "stream",
     "text": [
      "(('California Covid Notify',), 'California Covid Notify COVID contact tracing app downloads', {'link': 'http://www.alamedahealthsystem.org/californias-covid-19-exposure-notification-app-is-now-live/', 'title': \"California's COVID-19 Exposure Notification App Is Now Live\", 'description': 'Smartphone users can sign up for CA Notify, an app that sends an alert if the user has been around someone who later tests positive for COVID-19 ...'})\n",
      "(('California Covid Notify',), 'California Covid Notify COVID contact tracing app downloads', {'link': 'https://www.sacbee.com/news/california/article257189242.html', 'title': 'Remember COVID-19 phone alerts? California app ...', 'description': 'The CA Notify app has been downloaded more than 15.6 million times since Gov. ... contact tracing app is much more widely promoted.'})\n",
      "(('California Covid Notify',), 'California Covid Notify COVID contact tracing app downloads', {'link': 'https://news.berkeley.edu/2020/11/16/uc-berkeley-launches-covid-19-exposure-notification-system/', 'title': 'UC Berkeley launches COVID-19 exposure notification ...', 'description': 'The smartphone-based exposure notification system — California COVID Notify — launched for the UC Berkeley community Nov. 16.'})\n",
      "(('California Covid Notify',), 'California Covid Notify COVID contact tracing app downloads', {'link': 'https://www.ucdavis.edu/coronavirus/news/uc-davis-rolls-out-covid-19-exposure-app-to-campuses', 'title': 'UC Davis Rolls Out COVID-19 Exposure App to Campuses', 'description': 'Android users who wish to participate must download the California COVID Notify app, whereas iOS users can activate it in their iPhone settings.'})\n",
      "(('California Covid Notify',), 'California Covid Notify COVID contact tracing app downloads', {'link': 'https://www.latimes.com/business/technology/story/2020-12-07/california-just-launched-a-contact-tracing-app-what-do-you-need-to-know', 'title': \"California's new contact-tracing app: What you need to know\", 'description': \"How can I activate the CA Notify app? Californians with Android phones must download the app from the Google Play store once it's available ...\"})\n",
      "(('California Covid Notify',), 'California Covid Notify COVID contact tracing app downloads', {'link': 'http://newamerica.org/pit/briefs/the-mixed-success-of-covid-exposure-notification-apps/', 'title': 'The Mixed Success of COVID Exposure Notification Apps', 'description': 'Apps like CA Notify are interchangeably referred to as “contact tracing” and “exposure notification systems,” but they are actually the latter.'})\n",
      "(('California Covid Notify',), 'California Covid Notify COVID contact tracing app downloads', {'link': 'https://mashable.com/article/ca-notify-covid-contact-tracing-app', 'title': 'California launches COVID contact tracing app for iPhone ...', 'description': 'Android users need to download the CA Notify app in the Google Play store. After making sure they have the latest version of iOS, iPhone need to ...'})\n",
      "(('California Covid Notify',), 'California Covid Notify COVID contact tracing app downloads', {'link': 'https://news.berkeley.edu/2020/11/12/opt-in-to-california-exposure-app-to-slow-the-spread-of-covid-19/', 'title': 'Opt-in to California exposure app to slow the spread ...', 'description': \"California COVID Notify is a privacy-first approach to using smartphones to alert you when you've been exposed to COVID-19.\"})\n",
      "(('California Covid Notify',), 'California Covid Notify COVID contact tracing app downloads', {'link': 'https://www.ijpr.org/health-and-medicine/2020-12-22/california-launches-california-notify-an-app-that-helps-with-covid-19-contact-tracing?_amp=true', 'title': \"California Launches 'California Notify,' An App That Helps ...\", 'description': \"Users who download the app “California Notify” can receive notifications on their smartphones that tell them if they've been exposed to someone ...\"})\n"
     ]
    },
    {
     "name": "stderr",
     "output_type": "stream",
     "text": [
      "2025-07-09 13:34:21,219 - web_data_collection.webpage_retrieval - DEBUG - {'general': {'search_engine': 'google', 'query': 'Colorado Exposure Notifications COVID contact tracing app downloads', 'results_cnt': 194000, 'search_time': 0.44, 'language': 'en', 'location': 'United States', 'mobile': False, 'basic_view': False, 'search_type': 'text', 'page_title': 'Colorado Exposure Notifications COVID contact tracing app downloads - Google Search', 'timestamp': '2025-07-09T17:34:20.994Z'}, 'input': {'original_url': 'https://www.google.com/search?q=Colorado+Exposure+Notifications+COVID+contact+tracing+app+downloads&start=0&brd_json=1&num=20', 'request_id': 'hl_a84cb5f7_btywds8bl4'}, 'navigation': [{'title': 'News', 'href': 'https://www.google.com/search?num=20&sca_esv=f7156635f6e9a261&hl=en&q=Colorado+Exposure+Notifications+COVID+contact+tracing+app+downloads&tbm=nws&source=lnms&fbs=AIIjpHxU7SXXniUZfeShr2fp4giZrjP_Cx0LI1Ytb_FGcOviEreERTNAkkP8Y6EXltYTGWs9RGaEMfZ2dZFFrbmM-rnq9t2Yd6CLmSU0fTw2YpsUFAZkjtkV3nlJNkF6dgnv8hBPbkvFBFvt9qVz5tXWHwMIOLAC51x133zpKWFy3_mb_RMbN-fftEKVRqPS6EEOPe03eIz5AliHkH7tItgiHkmm33AQJg&sa=X&ved=2ahUKEwjsz4nlp7COAxW5QjABHVwoAKAQ0pQJKAF6BAgXEAE'}, {'title': 'Videos', 'href': 'https://www.google.com/search?num=20&sca_esv=f7156635f6e9a261&hl=en&q=Colorado+Exposure+Notifications+COVID+contact+tracing+app+downloads&udm=7&fbs=AIIjpHxU7SXXniUZfeShr2fp4giZrjP_Cx0LI1Ytb_FGcOviEreERTNAkkP8Y6EXltYTGWs9RGaEMfZ2dZFFrbmM-rnq9t2Yd6CLmSU0fTw2YpsUFAZkjtkV3nlJNkF6dgnv8hBPbkvFBFvt9qVz5tXWHwMIOLAC51x133zpKWFy3_mb_RMbN-fftEKVRqPS6EEOPe03eIz5AliHkH7tItgiHkmm33AQJg&sa=X&ved=2ahUKEwjsz4nlp7COAxW5QjABHVwoAKAQtKgLKAJ6BAgYEAE'}, {'title': 'Images', 'href': 'https://www.google.com/search?num=20&sca_esv=f7156635f6e9a261&hl=en&q=Colorado+Exposure+Notifications+COVID+contact+tracing+app+downloads&udm=2&fbs=AIIjpHxU7SXXniUZfeShr2fp4giZrjP_Cx0LI1Ytb_FGcOviEreERTNAkkP8Y6EXltYTGWs9RGaEMfZ2dZFFrbmM-rnq9t2Yd6CLmSU0fTw2YpsUFAZkjtkV3nlJNkF6dgnv8hBPbkvFBFvt9qVz5tXWHwMIOLAC51x133zpKWFy3_mb_RMbN-fftEKVRqPS6EEOPe03eIz5AliHkH7tItgiHkmm33AQJg&sa=X&ved=2ahUKEwjsz4nlp7COAxW5QjABHVwoAKAQtKgLKAN6BAgZEAE'}, {'title': 'Short videos', 'href': 'https://www.google.com/search?num=20&sca_esv=f7156635f6e9a261&hl=en&q=Colorado+Exposure+Notifications+COVID+contact+tracing+app+downloads&udm=39&fbs=AIIjpHxU7SXXniUZfeShr2fp4giZrjP_Cx0LI1Ytb_FGcOviEreERTNAkkP8Y6EXltYTGWs9RGaEMfZ2dZFFrbmM-rnq9t2Yd6CLmSU0fTw2YpsUFAZkjtkV3nlJNkF6dgnv8hBPbkvFBFvt9qVz5tXWHwMIOLAC51x133zpKWFy3_mb_RMbN-fftEKVRqPS6EEOPe03eIz5AliHkH7tItgiHkmm33AQJg&sa=X&ved=2ahUKEwjsz4nlp7COAxW5QjABHVwoAKAQs6gLKAR6BAgaEAE'}, {'title': 'Shopping', 'href': 'https://www.google.com/search?num=20&sca_esv=f7156635f6e9a261&hl=en&q=Colorado+Exposure+Notifications+COVID+contact+tracing+app+downloads&udm=28&fbs=AIIjpHxU7SXXniUZfeShr2fp4giZrjP_Cx0LI1Ytb_FGcOviEreERTNAkkP8Y6EXltYTGWs9RGaEMfZ2dZFFrbmM-rnq9t2Yd6CLmSU0fTw2YpsUFAZkjtkV3nlJNkF6dgnv8hBPbkvFBFvt9qVz5tXWHwMIOLAC51x133zpKWFy3_mb_RMbN-fftEKVRqPS6EEOPe03eIz5AliHkH7tItgiHkmm33AQJg&ved=1t:220175&ictx=111'}], 'organic': [{'link': 'https://coloradosun.com/2023/05/08/colorado-exposure-notifications-phone-app/', 'display_link': 'https://coloradosun.com › 2023/05/08 › colorado-expo...', 'title': 'Colorado is ending its Exposure Notifications phone app ...', 'description': 'The service is ending in Colorado on Thursday, according to the state Department of Public Health and Environment.', 'extensions': [{'inline': True, 'type': 'text', 'text': 'May 8, 2023', 'rank': 1}], 'rank': 1, 'global_rank': 1}, {'link': 'https://www.cpr.org/2020/10/22/new-phone-app-to-track-colorado-coronavirus-exposure-will-arrive-this-weekend/', 'display_link': 'https://www.cpr.org › 2020/10/22 › new-phone-app-to-...', 'title': 'New Phone App To Track Colorado Coronavirus Exposure ...', 'description': 'The Exposure Notification System will be part of the settings on Apple iPhones and a downloadable app for Android users.', 'extensions': [{'inline': True, 'type': 'text', 'text': 'Oct 22, 2020', 'rank': 1}, {'type': 'missing', 'text': 'downloads', 'rank': 2}, {'type': 'must_include', 'text': 'downloads', 'link': 'https://www.google.com/search?num=20&sca_esv=f7156635f6e9a261&hl=en&q=Colorado+Exposure+Notifications+COVID+contact+tracing+app+%22downloads%22&sa=X&ved=2ahUKEwjsz4nlp7COAxW5QjABHVwoAKAQ5t4CegQIIBAB', 'rank': 3}], 'rank': 2, 'global_rank': 6}, {'link': 'https://www.gao.gov/blog/covid-19-exposure-notification-apps-are-available.-are-they-working', 'display_link': 'https://www.gao.gov › blog › covid-19-exposure-notific...', 'title': 'COVID-19 Exposure Notification Apps Are Available. But ...', 'description': 'Researchers and state officials say these apps are functioning as intended, meaning they are notifying people about potential exposure to COVID-19.', 'extensions': [{'inline': True, 'type': 'text', 'text': 'Sep 16, 2021', 'rank': 1}], 'rank': 3, 'global_rank': 7}, {'link': 'https://fletcher.tufts.edu/news-events/news/did-colorados-covid-19-exposure-notification-app-succeed-its-complicated', 'display_link': 'https://fletcher.tufts.edu › News and Events › News', 'title': \"Did Colorado's COVID-19 exposure notification app succeed ...\", 'description': 'A study in the United Kingdom found the app could have prevented anywhere from 100,000 to 900,000 cases. The U.K. study also found that the app ...', 'extensions': [{'inline': True, 'type': 'text', 'text': 'Jun 30, 2021', 'rank': 1}], 'rank': 4, 'global_rank': 8}, {'link': 'https://coloradosun.com/2020/10/23/colorado-coronavirus-exposure-notification-app/', 'display_link': 'https://coloradosun.com › 2020/10/23 › colorado-coro...', 'title': \"A phone app that will tell you if you've been exposed to ...\", 'description': \"A phone app that will tell you if you've been exposed to coronavirus is about to launch in Colorado. Here's how to use it. The app, called ...\", 'extensions': [{'inline': True, 'type': 'text', 'text': 'Oct 23, 2020', 'rank': 1}], 'rank': 5, 'global_rank': 9}, {'link': 'https://oit.colorado.gov/news-article/leading-the-nation-colorados-rapid-deployment-of-enx', 'display_link': 'https://oit.colorado.gov › news-article › leading-the-nati...', 'title': \"Leading the Nation: Colorado's Rapid Deployment of ENx\", 'description': \"In response to this challenge, Colorado became the first state to launch Google and Apple's Exposure Notifications Express (ENx) system, a novel ...\", 'extensions': [{'inline': True, 'type': 'text', 'text': 'Oct 17, 2024', 'rank': 1}, {'type': 'missing', 'text': 'app', 'rank': 2}, {'type': 'must_include', 'text': 'app', 'link': 'https://www.google.com/search?num=20&sca_esv=f7156635f6e9a261&hl=en&q=Colorado+Exposure+Notifications+COVID+contact+tracing+%22app%22+downloads&sa=X&ved=2ahUKEwjsz4nlp7COAxW5QjABHVwoAKAQ5t4CegQIOhAB', 'rank': 3}], 'rank': 6, 'global_rank': 10}, {'link': 'https://www.9news.com/article/news/local/next/colorado-covid-tracing-app-2020-december-coronavirus/73-1c4bf0ce-6c26-4323-9eda-ce31b8f11639', 'display_link': 'https://www.9news.com › article › news › local › next', 'title': 'Tons of Coloradans got the COVID exposure tracking app', 'description': 'More than 1.4 million people in the state have the COVID-19 exposure app on their phones, but much fewer people are using it.', 'extensions': [{'inline': True, 'type': 'text', 'text': 'Dec 21, 2020', 'rank': 1}], 'rank': 7, 'global_rank': 11}, {'link': 'https://m.facebook.com/cgtnamerica/videos/apple-and-googles-contact-tracing-app-begins-colorado-roll-out/652710338984982/?locale=zh_CN&_rdr', 'display_link': '3 reactions · 4 years ago', 'title': \"Apple and Google's contact tracing app will roll out ...\", 'description': \"Apple and Google's contact tracing app will roll out in the U.S. state of Colorado soon. See how it will look. #contactTracing #AppleGoogle.\", 'rank': 8, 'global_rank': 12}, {'link': 'https://www.cbsnews.com/colorado/news/covid-exposure-app-colorado/', 'display_link': 'https://www.cbsnews.com › CBS Colorado › Local News', 'title': \"COVID Exposure Notification App Faces Challenge Of ' ...\", 'description': 'DENVER (AP) - The app builders had planned for pranksters, ensuring that only people with verified COVID-19 cases could trigger an alert.', 'extensions': [{'inline': True, 'type': 'text', 'text': 'Nov 29, 2020', 'rank': 1}], 'rank': 9, 'global_rank': 13}, {'link': 'https://www.kunm.org/news/2020-12-09/contact-tracing-apps-see-mixed-success-in-the-mountain-west', 'display_link': 'https://www.kunm.org › news › contact-tracing-apps-se...', 'title': 'Contact Tracing Apps See Mixed Success In The Mountain ...', 'description': \"In the Mountain West, Colorado's Exposure Notifications app has had the most success, with about 20% of the state's population having downloaded ...\", 'extensions': [{'inline': True, 'type': 'text', 'text': 'Dec 9, 2020', 'rank': 1}], 'rank': 10, 'global_rank': 14}, {'link': 'https://www.cpr.org/2020/10/29/10-of-coloradans-are-already-using-the-covid-19-tracking-app-will-it-help/', 'display_link': 'https://www.cpr.org › 2020/10/29 › 10-of-coloradans-a...', 'title': '10% Of Coloradans Are Already Using The COVID-19 ...', 'description': 'Android phone users can download the app, while updated iPhones now have the capability and exposure notifications just have to be switched on.', 'extensions': [{'inline': True, 'type': 'text', 'text': 'Oct 29, 2020', 'rank': 1}], 'rank': 11, 'global_rank': 15}, {'link': 'https://www.coloradoan.com/story/news/2020/10/23/colorado-launches-app-tracking-covid-19-exposure/3743079001/', 'display_link': 'https://www.coloradoan.com › story › news › 2020/10/23', 'title': 'Colorado launches app tracking COVID-19 exposure', 'description': \"The app will need to be downloaded to phones that use Google's Android operating system, with a link to do so provided in the push notification.\", 'extensions': [{'inline': True, 'type': 'text', 'text': 'Oct 23, 2020', 'rank': 1}], 'rank': 12, 'global_rank': 16}, {'link': 'https://arkvalleyvoice.com/galloping-geek-covid-exposure-tracing-app/', 'display_link': 'https://arkvalleyvoice.com › galloping-geek-covid-exp...', 'title': 'The Galloping Geek: COVID Exposure Tracing App', 'description': 'I would also encourage downloading the free CO Exposure Notifications app to help fight the spread of COVID-19 in the community. Share: Ark ...', 'extensions': [{'inline': True, 'type': 'text', 'text': 'Jul 30, 2021', 'rank': 1}], 'rank': 13, 'global_rank': 17}, {'link': 'https://www.youtube.com/watch?v=YJArLCsWeTw', 'display_link': '1.4K+ views · 4 years ago', 'title': 'Colorado rolls out COVID-19 exposure notification app', 'description': \"State health officials hope a new cell phone app will be a valuable tool in the fight against COVID-19 by letting people know if they've ...\", 'extensions': [{'type': 'missing', 'text': 'contact', 'rank': 1}, {'type': 'missing', 'text': 'tracing', 'rank': 2}, {'type': 'missing', 'text': 'downloads', 'rank': 3}], 'image': 'https://encrypted-tbn0.gstatic.com/images?q=tbn:ANd9GcTGVg3K36deTZPmzS4lQJFbWfrP2WE_YIAM44jOXiWvMrGT&s', 'image_url': 'https://encrypted-tbn0.gstatic.com/images?q=tbn:ANd9GcTGVg3K36deTZPmzS4lQJFbWfrP2WE_YIAM44jOXiWvMrGT&s', 'duration': '2:13', 'duration_sec': 133, 'rank': 14, 'global_rank': 18}, {'link': 'https://www.denverpost.com/2021/06/30/colorado-covid-exposure-notification-app/', 'display_link': 'https://www.denverpost.com › 2021/06/30 › colorado-c...', 'title': \"Did Colorado's COVID-19 exposure notification app ...\", 'description': 'About 2.1 million people in Colorado have downloaded the app developed by Google and Apple, which exchanges tokens via Bluetooth with nearby ...', 'extensions': [{'inline': True, 'type': 'text', 'text': 'Jun 30, 2021', 'rank': 1}], 'rank': 15, 'global_rank': 19}, {'link': 'https://en.wikipedia.org/wiki/Exposure_Notification', 'display_link': 'https://en.wikipedia.org › wiki › Exposure_Notification', 'title': 'Exposure Notification', 'description': 'Exposure Notification is a decentralized reporting protocol built on a combination of Bluetooth Low Energy technology and privacy-preserving cryptography.', 'rank': 16, 'global_rank': 20}, {'link': 'https://www.kunc.org/health/2021-12-13/colorado-covid-19-exposure-app-getting-a-lot-of-use-amid-surge', 'display_link': 'https://www.kunc.org › health › colorado-covid-19-exp...', 'title': 'Colorado COVID-19 exposure app getting a lot of use amid ...', 'description': 'The alert pings the phones of people the infected person got close to at a grocery store, gas station, restaurant, office or basically anywhere.', 'extensions': [{'inline': True, 'type': 'text', 'text': 'Dec 13, 2021', 'rank': 1}], 'rank': 17, 'global_rank': 21}, {'link': 'https://pmc.ncbi.nlm.nih.gov/articles/PMC8194594/', 'display_link': 'https://pmc.ncbi.nlm.nih.gov › articles › PMC8194594', 'title': 'Usability, inclusivity, and content evaluation of COVID-19 ...', 'description': 'The app alerts the user of a potential exposure using Exposure Alerts rather than solely collecting data. Part of contact tracing includes alerting contacts of ...', 'extensions': [{'inline': True, 'type': 'text', 'text': 'by SO Blacklow', 'rank': 1}, {'inline': True, 'type': 'text', 'text': '2021', 'rank': 2}, {'inline': True, 'type': 'text', 'text': 'Cited by 34', 'rank': 3}], 'rank': 18, 'global_rank': 22}, {'link': 'https://digitalcollections.ppld.org/nodes/view/942161', 'display_link': 'https://digitalcollections.ppld.org › nodes › view', 'title': 'Contact tracing app to launch ; State health officials hope to use tool ...', 'description': 'Contact tracing app to launch ; State health officials hope to use tool to control the spread of COVID-19, alert for testing ; Article Number941068 ; Source Type ...', 'rank': 19, 'global_rank': 23}, {'link': 'https://www.9news.com/article/news/investigations/colorado-covid-exposure-app/73-121b776c-88df-4391-9c6d-e7ea945fe4c2', 'display_link': 'https://www.9news.com › article › news › investigations', 'title': 'Colorado COVID exposure app rarely worked ...', 'description': '\"We want to clarify that the Exposure Notification service is in addition to contract tracing,\" he said. \"It isn\\'t contact tracing in the ...', 'extensions': [{'inline': True, 'type': 'text', 'text': 'Aug 19, 2021', 'rank': 1}], 'rank': 20, 'global_rank': 24}], 'pagination': {'pages': [{'page': 2, 'start': 20, 'link': 'https://www.google.com/search?q=Colorado+Exposure+Notifications+COVID+contact+tracing+app+downloads&num=20&sca_esv=f7156635f6e9a261&hl=en&ei=G6huaKzWMbmFwbkP3NCAgAo&start=20&sa=N&sstk=Ac65TH79C4loCysI5UEJcrh-8jsHf6fXa_pqVcfSu9r-bbReMRPN4Y1JjZ17MiKp9IqG7_9S65jCWuOUYiTax4qxBD8JJjB6l-tSDw&ved=2ahUKEwjsz4nlp7COAxW5QjABHVwoAKAQ8tMDegQIChAE'}, {'page': 3, 'start': 40, 'link': 'https://www.google.com/search?q=Colorado+Exposure+Notifications+COVID+contact+tracing+app+downloads&num=20&sca_esv=f7156635f6e9a261&hl=en&ei=G6huaKzWMbmFwbkP3NCAgAo&start=40&sa=N&sstk=Ac65TH79C4loCysI5UEJcrh-8jsHf6fXa_pqVcfSu9r-bbReMRPN4Y1JjZ17MiKp9IqG7_9S65jCWuOUYiTax4qxBD8JJjB6l-tSDw&ved=2ahUKEwjsz4nlp7COAxW5QjABHVwoAKAQ8tMDegQIChAG'}, {'page': 4, 'start': 60, 'link': 'https://www.google.com/search?q=Colorado+Exposure+Notifications+COVID+contact+tracing+app+downloads&num=20&sca_esv=f7156635f6e9a261&hl=en&ei=G6huaKzWMbmFwbkP3NCAgAo&start=60&sa=N&sstk=Ac65TH79C4loCysI5UEJcrh-8jsHf6fXa_pqVcfSu9r-bbReMRPN4Y1JjZ17MiKp9IqG7_9S65jCWuOUYiTax4qxBD8JJjB6l-tSDw&ved=2ahUKEwjsz4nlp7COAxW5QjABHVwoAKAQ8tMDegQIChAI'}, {'page': 5, 'start': 80, 'link': 'https://www.google.com/search?q=Colorado+Exposure+Notifications+COVID+contact+tracing+app+downloads&num=20&sca_esv=f7156635f6e9a261&hl=en&ei=G6huaKzWMbmFwbkP3NCAgAo&start=80&sa=N&sstk=Ac65TH79C4loCysI5UEJcrh-8jsHf6fXa_pqVcfSu9r-bbReMRPN4Y1JjZ17MiKp9IqG7_9S65jCWuOUYiTax4qxBD8JJjB6l-tSDw&ved=2ahUKEwjsz4nlp7COAxW5QjABHVwoAKAQ8tMDegQIChAK'}, {'page': 6, 'start': 100, 'link': 'https://www.google.com/search?q=Colorado+Exposure+Notifications+COVID+contact+tracing+app+downloads&num=20&sca_esv=f7156635f6e9a261&hl=en&ei=G6huaKzWMbmFwbkP3NCAgAo&start=100&sa=N&sstk=Ac65TH79C4loCysI5UEJcrh-8jsHf6fXa_pqVcfSu9r-bbReMRPN4Y1JjZ17MiKp9IqG7_9S65jCWuOUYiTax4qxBD8JJjB6l-tSDw&ved=2ahUKEwjsz4nlp7COAxW5QjABHVwoAKAQ8tMDegQIChAM'}, {'page': 7, 'start': 120, 'link': 'https://www.google.com/search?q=Colorado+Exposure+Notifications+COVID+contact+tracing+app+downloads&num=20&sca_esv=f7156635f6e9a261&hl=en&ei=G6huaKzWMbmFwbkP3NCAgAo&start=120&sa=N&sstk=Ac65TH79C4loCysI5UEJcrh-8jsHf6fXa_pqVcfSu9r-bbReMRPN4Y1JjZ17MiKp9IqG7_9S65jCWuOUYiTax4qxBD8JJjB6l-tSDw&ved=2ahUKEwjsz4nlp7COAxW5QjABHVwoAKAQ8tMDegQIChAO'}, {'page': 8, 'start': 140, 'link': 'https://www.google.com/search?q=Colorado+Exposure+Notifications+COVID+contact+tracing+app+downloads&num=20&sca_esv=f7156635f6e9a261&hl=en&ei=G6huaKzWMbmFwbkP3NCAgAo&start=140&sa=N&sstk=Ac65TH79C4loCysI5UEJcrh-8jsHf6fXa_pqVcfSu9r-bbReMRPN4Y1JjZ17MiKp9IqG7_9S65jCWuOUYiTax4qxBD8JJjB6l-tSDw&ved=2ahUKEwjsz4nlp7COAxW5QjABHVwoAKAQ8tMDegQIChAQ'}, {'page': 9, 'start': 160, 'link': 'https://www.google.com/search?q=Colorado+Exposure+Notifications+COVID+contact+tracing+app+downloads&num=20&sca_esv=f7156635f6e9a261&hl=en&ei=G6huaKzWMbmFwbkP3NCAgAo&start=160&sa=N&sstk=Ac65TH79C4loCysI5UEJcrh-8jsHf6fXa_pqVcfSu9r-bbReMRPN4Y1JjZ17MiKp9IqG7_9S65jCWuOUYiTax4qxBD8JJjB6l-tSDw&ved=2ahUKEwjsz4nlp7COAxW5QjABHVwoAKAQ8tMDegQIChAS'}, {'page': 10, 'start': 180, 'link': 'https://www.google.com/search?q=Colorado+Exposure+Notifications+COVID+contact+tracing+app+downloads&num=20&sca_esv=f7156635f6e9a261&hl=en&ei=G6huaKzWMbmFwbkP3NCAgAo&start=180&sa=N&sstk=Ac65TH79C4loCysI5UEJcrh-8jsHf6fXa_pqVcfSu9r-bbReMRPN4Y1JjZ17MiKp9IqG7_9S65jCWuOUYiTax4qxBD8JJjB6l-tSDw&ved=2ahUKEwjsz4nlp7COAxW5QjABHVwoAKAQ8tMDegQIChAU'}], 'current_page': 1, 'next_page': 2, 'next_page_start': 20, 'next_page_link': 'https://www.google.com/search?q=Colorado+Exposure+Notifications+COVID+contact+tracing+app+downloads&num=20&sca_esv=f7156635f6e9a261&hl=en&ei=G6huaKzWMbmFwbkP3NCAgAo&start=20&sa=N&sstk=Ac65TH79C4loCysI5UEJcrh-8jsHf6fXa_pqVcfSu9r-bbReMRPN4Y1JjZ17MiKp9IqG7_9S65jCWuOUYiTax4qxBD8JJjB6l-tSDw&ved=2ahUKEwjsz4nlp7COAxW5QjABHVwoAKAQ8tMDegQIChAE'}, 'people_also_ask': [{'question': 'What happened to exposure notifications?', 'answer_source': 'Google & Apple have shut down Exposure Notifications. You will ...', 'answer_link': 'https://wehealth.org/news/ga-end-c19-en#:~:text=Apple%20and%20Google%20have%20decided,tested%20positive%20for%20COVID%2D19.', 'answer_display_link': 'https://wehealth.org › news › ga-end-c19-enhttps://wehealth.org › news › ga-end-c19-en', 'answers': [{'type': 'answer', 'value': {'text': 'Apple and Google have decided to turn off the underlying exposure notification system currently used by Wehealth. This means that beginning on Sep 18, 2023 your phone will no longer notify you if you were near someone who tested positive for COVID-19.Sep 13, 2023'}, 'rank': 1}], 'rank': 1, 'global_rank': 2}, {'question': 'What is the COVID-19 tracking app?', 'answer_source': 'COVID-19 apps - Wikipedia', 'answer_link': 'https://en.wikipedia.org/wiki/COVID-19_apps#:~:text=The%20government%20launched%20%22GH%20COVID,health%20authorities%20overtime%20to%20know', 'answer_display_link': 'https://en.wikipedia.org › wiki › COVID-19_appshttps://en.wikipedia.org › wiki › COVID-19_apps', 'answers': [{'type': 'answer', 'value': {'text': 'The government launched \"GH COVID-19 Tracker App\", an Android and IOS app equipped with location tracking technology to provide detailed information about people who have been at the same event, location, country or other defined locations in order to provide accurate information to health authorities overtime to know ...'}, 'rank': 1}], 'rank': 2, 'global_rank': 3}, {'question': 'What is contact tracing exposure?', 'answer_source': 'Contact Tracing | CDC', 'answer_link': 'https://www.cdc.gov/museum/pdf/cdcm-pha-stem-lesson-contact-tracing-lesson.pdf', 'answer_display_link': 'https://www.cdc.gov › museum › pdf › cdcm-pha-stem-l...https://www.cdc.gov › museum › pdf › cdcm-pha-stem-l...', 'answers': [{'type': 'answer', 'value': {'text': 'Contact tracing is the process of quickly identifying, assessing, and managing people who have been exposed to a disease to prevent additional transmission.'}, 'rank': 1}], 'rank': 3, 'global_rank': 4}, {'question': 'Can a phone app detect COVID?', 'answer_source': \"Mobile phone app accurately detects COVID-19 infection in people's ...\", 'answer_link': 'https://www.ersnet.org/news-and-features/news/mobile-phone-app-accurately-detects-covid-19-infection-in-peoples-voices-with-the-help-of-artificial-intelligence-ai-also-being-used-to-develop-an-app-to-predict-exacerbations-in-chronic-obs/#:~:text=Artificial%20intelligence%20(AI)%20can%20be,Barcelona%2C%20Spain%20%5B1%5D.', 'answer_display_link': 'https://www.ersnet.org › news-and-features › news › mo...https://www.ersnet.org › news-and-features › news › mo...', 'answers': [{'type': 'answer', 'value': {'text': \"Artificial intelligence (AI) can be used to detect COVID-19 infection in people's voices by means of a mobile phone app, according to research to be presented on Monday at the European Respiratory Society International Congress in Barcelona, Spain [1].\"}, 'rank': 1}], 'rank': 4, 'global_rank': 5}]}\n",
      "2025-07-09 13:34:21,221 - web_data_collection.webpage_retrieval - DEBUG - Retrieved and yielded 20 results from request 1\n",
      "2025-07-09 13:34:21,223 - web_data_collection.webpage_retrieval - DEBUG - Processing query: Connecticut Covid Alert COVID contact tracing app downloads, variable value combo: ('Connecticut Covid Alert',)\n",
      "2025-07-09 13:34:21,223 - web_data_collection.webpage_retrieval - DEBUG - Processing date chunk: None to None\n",
      "2025-07-09 13:34:21,224 - web_data_collection.webpage_retrieval - DEBUG - Making request 1/1\n"
     ]
    },
    {
     "name": "stdout",
     "output_type": "stream",
     "text": [
      "(('Colorado Exposure Notifications',), 'Colorado Exposure Notifications COVID contact tracing app downloads', {'link': 'https://www.cpr.org/2020/10/22/new-phone-app-to-track-colorado-coronavirus-exposure-will-arrive-this-weekend/', 'title': 'New Phone App To Track Colorado Coronavirus Exposure ...', 'description': 'The Exposure Notification System will be part of the settings on Apple iPhones and a downloadable app for Android users.'})\n",
      "(('Colorado Exposure Notifications',), 'Colorado Exposure Notifications COVID contact tracing app downloads', {'link': 'https://coloradosun.com/2020/10/23/colorado-coronavirus-exposure-notification-app/', 'title': \"A phone app that will tell you if you've been exposed to ...\", 'description': \"A phone app that will tell you if you've been exposed to coronavirus is about to launch in Colorado. Here's how to use it. The app, called ...\"})\n",
      "(('Colorado Exposure Notifications',), 'Colorado Exposure Notifications COVID contact tracing app downloads', {'link': 'https://m.facebook.com/cgtnamerica/videos/apple-and-googles-contact-tracing-app-begins-colorado-roll-out/652710338984982/?locale=zh_CN&_rdr', 'title': \"Apple and Google's contact tracing app will roll out ...\", 'description': \"Apple and Google's contact tracing app will roll out in the U.S. state of Colorado soon. See how it will look. #contactTracing #AppleGoogle.\"})\n",
      "(('Colorado Exposure Notifications',), 'Colorado Exposure Notifications COVID contact tracing app downloads', {'link': 'https://www.cbsnews.com/colorado/news/covid-exposure-app-colorado/', 'title': \"COVID Exposure Notification App Faces Challenge Of ' ...\", 'description': 'DENVER (AP) - The app builders had planned for pranksters, ensuring that only people with verified COVID-19 cases could trigger an alert.'})\n",
      "(('Colorado Exposure Notifications',), 'Colorado Exposure Notifications COVID contact tracing app downloads', {'link': 'https://www.kunm.org/news/2020-12-09/contact-tracing-apps-see-mixed-success-in-the-mountain-west', 'title': 'Contact Tracing Apps See Mixed Success In The Mountain ...', 'description': \"In the Mountain West, Colorado's Exposure Notifications app has had the most success, with about 20% of the state's population having downloaded ...\"})\n",
      "(('Colorado Exposure Notifications',), 'Colorado Exposure Notifications COVID contact tracing app downloads', {'link': 'https://www.coloradoan.com/story/news/2020/10/23/colorado-launches-app-tracking-covid-19-exposure/3743079001/', 'title': 'Colorado launches app tracking COVID-19 exposure', 'description': \"The app will need to be downloaded to phones that use Google's Android operating system, with a link to do so provided in the push notification.\"})\n",
      "(('Colorado Exposure Notifications',), 'Colorado Exposure Notifications COVID contact tracing app downloads', {'link': 'https://arkvalleyvoice.com/galloping-geek-covid-exposure-tracing-app/', 'title': 'The Galloping Geek: COVID Exposure Tracing App', 'description': 'I would also encourage downloading the free CO Exposure Notifications app to help fight the spread of COVID-19 in the community. Share: Ark ...'})\n",
      "(('Colorado Exposure Notifications',), 'Colorado Exposure Notifications COVID contact tracing app downloads', {'link': 'https://www.youtube.com/watch?v=YJArLCsWeTw', 'title': 'Colorado rolls out COVID-19 exposure notification app', 'description': \"State health officials hope a new cell phone app will be a valuable tool in the fight against COVID-19 by letting people know if they've ...\"})\n",
      "(('Colorado Exposure Notifications',), 'Colorado Exposure Notifications COVID contact tracing app downloads', {'link': 'https://en.wikipedia.org/wiki/Exposure_Notification', 'title': 'Exposure Notification', 'description': 'Exposure Notification is a decentralized reporting protocol built on a combination of Bluetooth Low Energy technology and privacy-preserving cryptography.'})\n",
      "(('Colorado Exposure Notifications',), 'Colorado Exposure Notifications COVID contact tracing app downloads', {'link': 'https://www.kunc.org/health/2021-12-13/colorado-covid-19-exposure-app-getting-a-lot-of-use-amid-surge', 'title': 'Colorado COVID-19 exposure app getting a lot of use amid ...', 'description': 'The alert pings the phones of people the infected person got close to at a grocery store, gas station, restaurant, office or basically anywhere.'})\n",
      "(('Colorado Exposure Notifications',), 'Colorado Exposure Notifications COVID contact tracing app downloads', {'link': 'https://digitalcollections.ppld.org/nodes/view/942161', 'title': 'Contact tracing app to launch ; State health officials hope to use tool ...', 'description': 'Contact tracing app to launch ; State health officials hope to use tool to control the spread of COVID-19, alert for testing ; Article Number941068 ; Source Type ...'})\n"
     ]
    },
    {
     "name": "stderr",
     "output_type": "stream",
     "text": [
      "2025-07-09 13:34:23,880 - web_data_collection.webpage_retrieval - DEBUG - {'general': {'search_engine': 'google', 'query': 'Connecticut Covid Alert COVID contact tracing app downloads', 'results_cnt': 625000, 'search_time': 0.57, 'language': 'en', 'location': 'United States', 'mobile': False, 'basic_view': False, 'search_type': 'text', 'page_title': 'Connecticut Covid Alert COVID contact tracing app downloads - Google Search', 'timestamp': '2025-07-09T17:34:23.718Z'}, 'input': {'original_url': 'https://www.google.com/search?q=Connecticut+Covid+Alert+COVID+contact+tracing+app+downloads&start=0&brd_json=1&num=20', 'request_id': 'hl_a84cb5f7_lbqqb6spdn'}, 'navigation': [{'title': 'AI Mode', 'href': 'https://www.google.com/search?q=Connecticut+Covid+Alert+COVID+contact+tracing+app+downloads&num=20&sca_esv=73a6d3bdeda9064e&hl=en&udm=50&fbs=AIIjpHxU7SXXniUZfeShr2fp4giZPH5QghoXViUOqdFyhkUfHhA90f6RZnLvcDKUWyhDavFJHvqNnhR_vnElk0C8uWstBiWS01_8uLZPDmJZiTaH7zDUn3Be5K8OJ8m5LUL1m9P6k7UkWjI3XyPagENr0p88Jiojuzwj-mShdwy4kO_cCE4J4M7LgZ5i2vfL9dUltIgsjHFjf2eGZBHxQYGvgpyLNc_i_g&aep=1&ntc=1&sa=X&ved=2ahUKEwib2q_mp7COAxW2GlkFHaAPHXgQ2J8OegQIEBAC'}, {'title': 'News', 'href': 'https://www.google.com/search?num=20&sca_esv=73a6d3bdeda9064e&hl=en&q=Connecticut+Covid+Alert+COVID+contact+tracing+app+downloads&tbm=nws&source=lnms&fbs=AIIjpHxU7SXXniUZfeShr2fp4giZPH5QghoXViUOqdFyhkUfHhA90f6RZnLvcDKUWyhDavFJHvqNnhR_vnElk0C8uWstBiWS01_8uLZPDmJZiTaH7zDUn3Be5K8OJ8m5LUL1m9P6k7UkWjI3XyPagENr0p88Jiojuzwj-mShdwy4kO_cCE4J4M7LgZ5i2vfL9dUltIgsjHFjf2eGZBHxQYGvgpyLNc_i_g&sa=X&ved=2ahUKEwib2q_mp7COAxW2GlkFHaAPHXgQ0pQJKAF6BAgTEAE'}, {'title': 'Short videos', 'href': 'https://www.google.com/search?num=20&sca_esv=73a6d3bdeda9064e&hl=en&q=Connecticut+Covid+Alert+COVID+contact+tracing+app+downloads&udm=39&fbs=AIIjpHxU7SXXniUZfeShr2fp4giZPH5QghoXViUOqdFyhkUfHhA90f6RZnLvcDKUWyhDavFJHvqNnhR_vnElk0C8uWstBiWS01_8uLZPDmJZiTaH7zDUn3Be5K8OJ8m5LUL1m9P6k7UkWjI3XyPagENr0p88Jiojuzwj-mShdwy4kO_cCE4J4M7LgZ5i2vfL9dUltIgsjHFjf2eGZBHxQYGvgpyLNc_i_g&sa=X&ved=2ahUKEwib2q_mp7COAxW2GlkFHaAPHXgQs6gLKAJ6BAgREAE'}, {'title': 'Images', 'href': 'https://www.google.com/search?num=20&sca_esv=73a6d3bdeda9064e&hl=en&q=Connecticut+Covid+Alert+COVID+contact+tracing+app+downloads&udm=2&fbs=AIIjpHxU7SXXniUZfeShr2fp4giZPH5QghoXViUOqdFyhkUfHhA90f6RZnLvcDKUWyhDavFJHvqNnhR_vnElk0C8uWstBiWS01_8uLZPDmJZiTaH7zDUn3Be5K8OJ8m5LUL1m9P6k7UkWjI3XyPagENr0p88Jiojuzwj-mShdwy4kO_cCE4J4M7LgZ5i2vfL9dUltIgsjHFjf2eGZBHxQYGvgpyLNc_i_g&sa=X&ved=2ahUKEwib2q_mp7COAxW2GlkFHaAPHXgQtKgLKAN6BAgXEAE'}, {'title': 'Videos', 'href': 'https://www.google.com/search?num=20&sca_esv=73a6d3bdeda9064e&hl=en&q=Connecticut+Covid+Alert+COVID+contact+tracing+app+downloads&udm=7&fbs=AIIjpHxU7SXXniUZfeShr2fp4giZPH5QghoXViUOqdFyhkUfHhA90f6RZnLvcDKUWyhDavFJHvqNnhR_vnElk0C8uWstBiWS01_8uLZPDmJZiTaH7zDUn3Be5K8OJ8m5LUL1m9P6k7UkWjI3XyPagENr0p88Jiojuzwj-mShdwy4kO_cCE4J4M7LgZ5i2vfL9dUltIgsjHFjf2eGZBHxQYGvgpyLNc_i_g&sa=X&ved=2ahUKEwib2q_mp7COAxW2GlkFHaAPHXgQtKgLKAR6BAgUEAE'}, {'title': 'Forums', 'href': 'https://www.google.com/search?num=20&sca_esv=73a6d3bdeda9064e&hl=en&q=Connecticut+Covid+Alert+COVID+contact+tracing+app+downloads&udm=18&fbs=AIIjpHxU7SXXniUZfeShr2fp4giZPH5QghoXViUOqdFyhkUfHhA90f6RZnLvcDKUWyhDavFJHvqNnhR_vnElk0C8uWstBiWS01_8uLZPDmJZiTaH7zDUn3Be5K8OJ8m5LUL1m9P6k7UkWjI3XyPagENr0p88Jiojuzwj-mShdwy4kO_cCE4J4M7LgZ5i2vfL9dUltIgsjHFjf2eGZBHxQYGvgpyLNc_i_g&sa=X&ved=2ahUKEwib2q_mp7COAxW2GlkFHaAPHXgQs6gLKAV6BAgSEAE'}], 'organic': [{'link': 'https://www.columbiact.gov/community/page/covid-alert-ct-app#:~:text=The%20free%20mobile%20app%E2%80%93available,the%20Settings%20app%20on%20iOS.', 'display_link': 'https://www.columbiact.gov › community › page › covi...', 'title': 'COVID Alert CT App - Columbia, CT', 'rank': 1, 'global_rank': 2}, {'link': 'https://catalog.data.gov/dataset/covid-19-contact-tracing-covid-alert-ct-summary-by-week', 'display_link': 'https://catalog.data.gov › dataset › covid-19-contact-tra...', 'title': 'COVID-19 Contact Tracing: COVID Alert CT Summary by Week', 'description': 'If downloaded, the app will alert users if they have come into close contact with somebody who tests positive for COVID-19.', 'rank': 2, 'global_rank': 3}, {'link': 'https://portal.ct.gov/governor/news/press-releases/2021/01-2021/governor-lamont-announces-connecticuts-covid-19-contact-tracing-app-has-been-activated', 'display_link': 'https://portal.ct.gov › governor › news › press-releases', 'title': \"Governor Lamont Announces Connecticut's COVID-19 ...\", 'description': 'It is free for all users. To download the app, visit the Google Play store and search the keywords “COVID Alert CT” or click here.', 'extensions': [{'inline': True, 'type': 'text', 'text': 'Jan 8, 2021', 'rank': 1}], 'rank': 3, 'global_rank': 4}, {'link': 'https://data.ct.gov/Health-and-Human-Services/COVID-19-Contact-Tracing-COVID-Alert-CT-Summary-by/c4dk-8f27', 'display_link': 'https://data.ct.gov › Health-and-Human-Services › COVI...', 'title': 'COVID Alert CT Summary by Week - ARCHIVE | Connecticut ...', 'description': '... notification smartphone app. If downloaded, the app will alert users if they have come into close contact with somebody who tests positive for COVID-19 ...', 'rank': 4, 'global_rank': 5}, {'link': 'https://www.apkmirror.com/apk/ct-department-of-public-health/covid-alert-ct/', 'display_link': 'https://www.apkmirror.com › apk › covid-alert-ct', 'title': 'Download COVID Alert CT APKs for Android', 'description': 'COVID Alert CT is the official COVID-19 exposure notification app in the State of Connecticut. It is supported by the Connecticut Department of Public ...', 'rank': 5, 'global_rank': 6}, {'link': 'https://www.nbcconnecticut.com/news/local/660k-connecticut-residents-have-downloaded-contact-tracing-apps/2365149/', 'display_link': 'https://www.nbcconnecticut.com › news › local › 660k-...', 'title': '660K Connecticut Residents Have Downloaded Contact ...', 'description': \"COVID Alert CT, the state's official exposure notification system, is now available for Apple and Android. The contact tracer will ask a series ...\", 'extensions': [{'inline': True, 'type': 'text', 'text': 'Nov 18, 2020', 'rank': 1}], 'rank': 6, 'global_rank': 7}, {'link': 'https://www.cbia.com/news/hr-safety/state-launches-covid-19-contact-tracing-app/', 'display_link': 'https://www.cbia.com › news › hr-safety › state-launche...', 'title': 'State Launches COVID-19 Contact Tracing App', 'description': 'The free, voluntary, and anonymous app alerts a user if they have been within six feet of an infected person for at least 15 minutes.', 'extensions': [{'inline': True, 'type': 'text', 'text': 'Nov 13, 2020', 'rank': 1}], 'rank': 7, 'global_rank': 8}, {'link': 'https://www.nascio.org/awards-library/awards/contact-tracing-innovation-contact/', 'display_link': 'https://www.nascio.org › awards-library › awards', 'title': \"ContaCT—Connecticut's Integrated COVID-19 ...\", 'description': 'The application facilitates proximity-based Bluetooth notifications on Apple and Android smartphones to supplement traditional contact tracing efforts.', 'extensions': [{'type': 'missing', 'text': 'downloads', 'rank': 1}, {'type': 'must_include', 'text': 'downloads', 'link': 'https://www.google.com/search?num=20&sca_esv=73a6d3bdeda9064e&hl=en&q=Connecticut+Covid+Alert+COVID+contact+tracing+app+%22downloads%22&sa=X&ved=2ahUKEwib2q_mp7COAxW2GlkFHaAPHXgQ5t4CegQIOBAB', 'rank': 2}], 'rank': 8, 'global_rank': 9}, {'link': 'https://www.stonington-ct.gov/archived/news/launch-of-covid-alert-ct-the-exposure-notification-app-in-connecticut', 'display_link': 'https://www.stonington-ct.gov › archived › news › launc...', 'title': 'Launch of COVID Alert CT, the Exposure Notification App ...', 'description': 'First, users should visit ct.gov/covidalertct, where they can find instructions on how to download the app for their specific device. Once ...', 'extensions': [{'inline': True, 'type': 'text', 'text': 'Nov 12, 2020', 'rank': 1}], 'rank': 9, 'global_rank': 10}, {'link': 'https://www.nbcconnecticut.com/news/local/covid-19-exposure-notifications-now-available-on-your-phone/2359071/', 'display_link': 'https://www.nbcconnecticut.com › news › local › covid...', 'title': 'COVID-19 Exposure Notifications Now Available on Your ...', 'description': 'The COVID Alert CT app can be downloaded from Google Play. To verify that exposure notifications are enabled on an Android phone, open the COVID ...', 'extensions': [{'inline': True, 'type': 'text', 'text': 'Nov 12, 2020', 'rank': 1}], 'rank': 10, 'global_rank': 11}], 'featured_snippets': [{'type': 'answer', 'display_link': 'https://www.columbiact.gov › community › page › covi...', 'link_title': 'COVID Alert CT App - Columbia, CT', 'link': 'https://www.columbiact.gov/community/page/covid-alert-ct-app#:~:text=The%20free%20mobile%20app%E2%80%93available,the%20Settings%20app%20on%20iOS.', 'value': {'text': 'The free mobile app–available to anyone 18 or older who lives, works, or attends college in Connecticut–is available for download from the Google Play Store; iPhone users can enable COVID Alert CT right from the Settings app on iOS.'}, 'rank': 1, 'global_rank': 1}], 'overview': {'title': 'WebAnswer', 'kgmid': '/m/0hn'}, 'pagination': {'pages': [{'page': 2, 'start': 20, 'link': 'https://www.google.com/search?q=Connecticut+Covid+Alert+COVID+contact+tracing+app+downloads&num=20&sca_esv=73a6d3bdeda9064e&hl=en&ei=HqhuaJvTILa15NoPoJ_0wAc&start=20&sa=N&sstk=Ac65TH7FBRiFYr7KX2cRDGvyOw6u5qmOz14bigstOBkfNB-onGmyuaUZ7JVIgVlzmRplvq0xPX_6G7OIkTPQpYj4whK2YSSzsVTn4Q&ved=2ahUKEwib2q_mp7COAxW2GlkFHaAPHXgQ8tMDegQIAxAE'}, {'page': 3, 'start': 40, 'link': 'https://www.google.com/search?q=Connecticut+Covid+Alert+COVID+contact+tracing+app+downloads&num=20&sca_esv=73a6d3bdeda9064e&hl=en&ei=HqhuaJvTILa15NoPoJ_0wAc&start=40&sa=N&sstk=Ac65TH7FBRiFYr7KX2cRDGvyOw6u5qmOz14bigstOBkfNB-onGmyuaUZ7JVIgVlzmRplvq0xPX_6G7OIkTPQpYj4whK2YSSzsVTn4Q&ved=2ahUKEwib2q_mp7COAxW2GlkFHaAPHXgQ8tMDegQIAxAG'}, {'page': 4, 'start': 60, 'link': 'https://www.google.com/search?q=Connecticut+Covid+Alert+COVID+contact+tracing+app+downloads&num=20&sca_esv=73a6d3bdeda9064e&hl=en&ei=HqhuaJvTILa15NoPoJ_0wAc&start=60&sa=N&sstk=Ac65TH7FBRiFYr7KX2cRDGvyOw6u5qmOz14bigstOBkfNB-onGmyuaUZ7JVIgVlzmRplvq0xPX_6G7OIkTPQpYj4whK2YSSzsVTn4Q&ved=2ahUKEwib2q_mp7COAxW2GlkFHaAPHXgQ8tMDegQIAxAI'}, {'page': 5, 'start': 80, 'link': 'https://www.google.com/search?q=Connecticut+Covid+Alert+COVID+contact+tracing+app+downloads&num=20&sca_esv=73a6d3bdeda9064e&hl=en&ei=HqhuaJvTILa15NoPoJ_0wAc&start=80&sa=N&sstk=Ac65TH7FBRiFYr7KX2cRDGvyOw6u5qmOz14bigstOBkfNB-onGmyuaUZ7JVIgVlzmRplvq0xPX_6G7OIkTPQpYj4whK2YSSzsVTn4Q&ved=2ahUKEwib2q_mp7COAxW2GlkFHaAPHXgQ8tMDegQIAxAK'}, {'page': 6, 'start': 100, 'link': 'https://www.google.com/search?q=Connecticut+Covid+Alert+COVID+contact+tracing+app+downloads&num=20&sca_esv=73a6d3bdeda9064e&hl=en&ei=HqhuaJvTILa15NoPoJ_0wAc&start=100&sa=N&sstk=Ac65TH7FBRiFYr7KX2cRDGvyOw6u5qmOz14bigstOBkfNB-onGmyuaUZ7JVIgVlzmRplvq0xPX_6G7OIkTPQpYj4whK2YSSzsVTn4Q&ved=2ahUKEwib2q_mp7COAxW2GlkFHaAPHXgQ8tMDegQIAxAM'}, {'page': 7, 'start': 120, 'link': 'https://www.google.com/search?q=Connecticut+Covid+Alert+COVID+contact+tracing+app+downloads&num=20&sca_esv=73a6d3bdeda9064e&hl=en&ei=HqhuaJvTILa15NoPoJ_0wAc&start=120&sa=N&sstk=Ac65TH7FBRiFYr7KX2cRDGvyOw6u5qmOz14bigstOBkfNB-onGmyuaUZ7JVIgVlzmRplvq0xPX_6G7OIkTPQpYj4whK2YSSzsVTn4Q&ved=2ahUKEwib2q_mp7COAxW2GlkFHaAPHXgQ8tMDegQIAxAO'}, {'page': 8, 'start': 140, 'link': 'https://www.google.com/search?q=Connecticut+Covid+Alert+COVID+contact+tracing+app+downloads&num=20&sca_esv=73a6d3bdeda9064e&hl=en&ei=HqhuaJvTILa15NoPoJ_0wAc&start=140&sa=N&sstk=Ac65TH7FBRiFYr7KX2cRDGvyOw6u5qmOz14bigstOBkfNB-onGmyuaUZ7JVIgVlzmRplvq0xPX_6G7OIkTPQpYj4whK2YSSzsVTn4Q&ved=2ahUKEwib2q_mp7COAxW2GlkFHaAPHXgQ8tMDegQIAxAQ'}, {'page': 9, 'start': 160, 'link': 'https://www.google.com/search?q=Connecticut+Covid+Alert+COVID+contact+tracing+app+downloads&num=20&sca_esv=73a6d3bdeda9064e&hl=en&ei=HqhuaJvTILa15NoPoJ_0wAc&start=160&sa=N&sstk=Ac65TH7FBRiFYr7KX2cRDGvyOw6u5qmOz14bigstOBkfNB-onGmyuaUZ7JVIgVlzmRplvq0xPX_6G7OIkTPQpYj4whK2YSSzsVTn4Q&ved=2ahUKEwib2q_mp7COAxW2GlkFHaAPHXgQ8tMDegQIAxAS'}, {'page': 10, 'start': 180, 'link': 'https://www.google.com/search?q=Connecticut+Covid+Alert+COVID+contact+tracing+app+downloads&num=20&sca_esv=73a6d3bdeda9064e&hl=en&ei=HqhuaJvTILa15NoPoJ_0wAc&start=180&sa=N&sstk=Ac65TH7FBRiFYr7KX2cRDGvyOw6u5qmOz14bigstOBkfNB-onGmyuaUZ7JVIgVlzmRplvq0xPX_6G7OIkTPQpYj4whK2YSSzsVTn4Q&ved=2ahUKEwib2q_mp7COAxW2GlkFHaAPHXgQ8tMDegQIAxAU'}], 'current_page': 1, 'next_page': 2, 'next_page_start': 20, 'next_page_link': 'https://www.google.com/search?q=Connecticut+Covid+Alert+COVID+contact+tracing+app+downloads&num=20&sca_esv=73a6d3bdeda9064e&hl=en&ei=HqhuaJvTILa15NoPoJ_0wAc&start=20&sa=N&sstk=Ac65TH7FBRiFYr7KX2cRDGvyOw6u5qmOz14bigstOBkfNB-onGmyuaUZ7JVIgVlzmRplvq0xPX_6G7OIkTPQpYj4whK2YSSzsVTn4Q&ved=2ahUKEwib2q_mp7COAxW2GlkFHaAPHXgQ8tMDegQIAxAE'}, 'ai_overview': {'error': 'AI Overview did not appear on original SERP. Please ensure that you are using the `brd_ai_overview=1` query parameter (https://docs.brightdata.com/scraping-automation/serp-api/query-parameters/google#ai-overview), and that your query is relevant for triggering an AI Overview.'}}\n",
      "2025-07-09 13:34:23,882 - web_data_collection.webpage_retrieval - DEBUG - Retrieved and yielded 10 results from request 1\n",
      "2025-07-09 13:34:23,884 - web_data_collection.webpage_retrieval - DEBUG - Processing query: Alabama GuideSafe COVID app number of downloads, variable value combo: ('Alabama GuideSafe',)\n",
      "2025-07-09 13:34:23,884 - web_data_collection.webpage_retrieval - DEBUG - Processing date chunk: None to None\n",
      "2025-07-09 13:34:23,885 - web_data_collection.webpage_retrieval - DEBUG - Making request 1/1\n"
     ]
    },
    {
     "name": "stdout",
     "output_type": "stream",
     "text": [
      "(('Connecticut Covid Alert',), 'Connecticut Covid Alert COVID contact tracing app downloads', {'link': 'https://www.columbiact.gov/community/page/covid-alert-ct-app#:~:text=The%20free%20mobile%20app%E2%80%93available,the%20Settings%20app%20on%20iOS.', 'title': 'COVID Alert CT App - Columbia, CT', 'description': ''})\n",
      "(('Connecticut Covid Alert',), 'Connecticut Covid Alert COVID contact tracing app downloads', {'link': 'https://www.apkmirror.com/apk/ct-department-of-public-health/covid-alert-ct/', 'title': 'Download COVID Alert CT APKs for Android', 'description': 'COVID Alert CT is the official COVID-19 exposure notification app in the State of Connecticut. It is supported by the Connecticut Department of Public ...'})\n",
      "(('Connecticut Covid Alert',), 'Connecticut Covid Alert COVID contact tracing app downloads', {'link': 'https://www.nascio.org/awards-library/awards/contact-tracing-innovation-contact/', 'title': \"ContaCT—Connecticut's Integrated COVID-19 ...\", 'description': 'The application facilitates proximity-based Bluetooth notifications on Apple and Android smartphones to supplement traditional contact tracing efforts.'})\n"
     ]
    },
    {
     "name": "stderr",
     "output_type": "stream",
     "text": [
      "2025-07-09 13:34:25,315 - web_data_collection.webpage_retrieval - DEBUG - {'general': {'search_engine': 'google', 'query': 'Alabama GuideSafe COVID app number of downloads', 'results_cnt': 691, 'search_time': 0.41, 'language': 'en', 'location': 'United States', 'mobile': False, 'basic_view': False, 'search_type': 'text', 'page_title': 'Alabama GuideSafe COVID app number of downloads - Google Search', 'timestamp': '2025-07-09T17:34:25.018Z'}, 'input': {'original_url': 'https://www.google.com/search?q=Alabama+GuideSafe+COVID+app+number+of+downloads&start=0&brd_json=1&num=20', 'request_id': 'hl_a84cb5f7_ac5397g66s'}, 'navigation': [{'title': 'AI Mode', 'href': 'https://www.google.com/search?q=Alabama+GuideSafe+COVID+app+number+of+downloads&num=20&sca_esv=73a6d3bdeda9064e&hl=en&udm=50&fbs=AIIjpHxU7SXXniUZfeShr2fp4giZrjP_Cx0LI1Ytb_FGcOviEiTm5uW1q0uNfK7KsnoL8hUyUYUJLZ_b-p0lT09DIkR7bwzZ58goNnPFwCobO9Lr1GqquLGz16X4CICKxqKCKUwzddVlh446Bq6KIcmINbfh8DJhqfU5q2zJkgVUVt_rBK8u5ucaQFBa07v5kJsGA7w7lghU64XqQXCihXo5c7tH6n4GIw&aep=1&ntc=1&sa=X&ved=2ahUKEwiQjJznp7COAxX8hIkEHSdXGHIQ2J8OegQIERAC'}, {'title': 'News', 'href': 'https://www.google.com/search?num=20&sca_esv=73a6d3bdeda9064e&hl=en&q=Alabama+GuideSafe+COVID+app+number+of+downloads&tbm=nws&source=lnms&fbs=AIIjpHxU7SXXniUZfeShr2fp4giZrjP_Cx0LI1Ytb_FGcOviEiTm5uW1q0uNfK7KsnoL8hUyUYUJLZ_b-p0lT09DIkR7bwzZ58goNnPFwCobO9Lr1GqquLGz16X4CICKxqKCKUwzddVlh446Bq6KIcmINbfh8DJhqfU5q2zJkgVUVt_rBK8u5ucaQFBa07v5kJsGA7w7lghU64XqQXCihXo5c7tH6n4GIw&sa=X&ved=2ahUKEwiQjJznp7COAxX8hIkEHSdXGHIQ0pQJKAF6BAgjEAE'}, {'title': 'Images', 'href': 'https://www.google.com/search?num=20&sca_esv=73a6d3bdeda9064e&hl=en&q=Alabama+GuideSafe+COVID+app+number+of+downloads&udm=2&fbs=AIIjpHxU7SXXniUZfeShr2fp4giZrjP_Cx0LI1Ytb_FGcOviEiTm5uW1q0uNfK7KsnoL8hUyUYUJLZ_b-p0lT09DIkR7bwzZ58goNnPFwCobO9Lr1GqquLGz16X4CICKxqKCKUwzddVlh446Bq6KIcmINbfh8DJhqfU5q2zJkgVUVt_rBK8u5ucaQFBa07v5kJsGA7w7lghU64XqQXCihXo5c7tH6n4GIw&sa=X&ved=2ahUKEwiQjJznp7COAxX8hIkEHSdXGHIQtKgLKAJ6BAgdEAE'}, {'title': 'Videos', 'href': 'https://www.google.com/search?num=20&sca_esv=73a6d3bdeda9064e&hl=en&q=Alabama+GuideSafe+COVID+app+number+of+downloads&udm=7&fbs=AIIjpHxU7SXXniUZfeShr2fp4giZrjP_Cx0LI1Ytb_FGcOviEiTm5uW1q0uNfK7KsnoL8hUyUYUJLZ_b-p0lT09DIkR7bwzZ58goNnPFwCobO9Lr1GqquLGz16X4CICKxqKCKUwzddVlh446Bq6KIcmINbfh8DJhqfU5q2zJkgVUVt_rBK8u5ucaQFBa07v5kJsGA7w7lghU64XqQXCihXo5c7tH6n4GIw&sa=X&ved=2ahUKEwiQjJznp7COAxX8hIkEHSdXGHIQtKgLKAN6BAgbEAE'}, {'title': 'Short videos', 'href': 'https://www.google.com/search?num=20&sca_esv=73a6d3bdeda9064e&hl=en&q=Alabama+GuideSafe+COVID+app+number+of+downloads&udm=39&fbs=AIIjpHxU7SXXniUZfeShr2fp4giZrjP_Cx0LI1Ytb_FGcOviEiTm5uW1q0uNfK7KsnoL8hUyUYUJLZ_b-p0lT09DIkR7bwzZ58goNnPFwCobO9Lr1GqquLGz16X4CICKxqKCKUwzddVlh446Bq6KIcmINbfh8DJhqfU5q2zJkgVUVt_rBK8u5ucaQFBa07v5kJsGA7w7lghU64XqQXCihXo5c7tH6n4GIw&sa=X&ved=2ahUKEwiQjJznp7COAxX8hIkEHSdXGHIQs6gLKAR6BAgYEAE'}, {'title': 'Shopping', 'href': 'https://www.google.com/search?num=20&sca_esv=73a6d3bdeda9064e&hl=en&q=Alabama+GuideSafe+COVID+app+number+of+downloads&udm=28&fbs=AIIjpHxU7SXXniUZfeShr2fp4giZrjP_Cx0LI1Ytb_FGcOviEiTm5uW1q0uNfK7KsnoL8hUyUYUJLZ_b-p0lT09DIkR7bwzZ58goNnPFwCobO9Lr1GqquLGz16X4CICKxqKCKUwzddVlh446Bq6KIcmINbfh8DJhqfU5q2zJkgVUVt_rBK8u5ucaQFBa07v5kJsGA7w7lghU64XqQXCihXo5c7tH6n4GIw&ved=1t:220175&ictx=111'}], 'organic': [{'link': 'https://www.guidesafe.org/exposure-notification-app/', 'display_link': 'https://www.guidesafe.org › exposure-notification-app', 'title': \"Alabama's Exposure Notification App\", 'description': \"Here's How Alabama's GuideSafe™ Exposure Notification App Works: · Step one: Download the GuideSafe™ Exposure Notification App from the App Store or Google Play, ...\", 'rank': 1, 'global_rank': 1}, {'link': 'https://www.wbrc.com/2020/10/23/alabama-covid-exposure-app-grows-with-more-than-downloads/', 'display_link': 'https://www.wbrc.com › 2020/10/23 › alabama-covid-e...', 'title': 'Alabama COVID-19 exposure app grows with more than ...', 'description': \"Alabama COVID-19 exposure app grows with more than 100,000 downloads ... The GuideSafe Exposure Notification app isn't just for college ...\", 'extensions': [{'inline': True, 'type': 'text', 'text': 'Oct 23, 2020', 'rank': 1}], 'rank': 2, 'global_rank': 2}, {'link': 'https://www.guidesafe.org/', 'display_link': 'https://www.guidesafe.org', 'title': 'GuideSafe™ | The tools and resources to help fight COVID-19 ...', 'description': 'Stop the Spread of COVID in Alabama. Get the App. Download now. download on the apple app store get it on google play. Developed by a team of experts at the ...', 'extensions': [{'type': 'site_link', 'text': 'Tools', 'link': 'https://www.guidesafe.org/healthcheck/', 'rank': 1}, {'type': 'site_link', 'text': 'Actions', 'link': 'https://www.guidesafe.org/actions/', 'rank': 2}, {'type': 'site_link', 'text': 'Impact', 'link': 'https://www.guidesafe.org/impact/', 'rank': 3}, {'type': 'site_link', 'text': 'Media', 'link': 'https://www.guidesafe.org/media/', 'rank': 4}], 'rank': 3, 'global_rank': 3}, {'link': 'https://www.wbrc.com/2020/09/18/guidesafe-supporters-want-more-downloads-covid-exposure-notification-app/', 'display_link': 'https://www.wbrc.com › 2020/09/18 › guidesafe-suppo...', 'title': 'GuideSafe supporters want more downloads of COVID ...', 'description': 'School officials provided an update on the program Friday. So far, there have been 62,000 downloads of the Guidesafe app.', 'extensions': [{'inline': True, 'type': 'text', 'text': 'Sep 18, 2020', 'rank': 1}], 'rank': 4, 'global_rank': 6}, {'link': 'https://www.al.com/news/2020/11/alabamas-covid-tracing-app-joins-nationwide-network.html', 'display_link': 'https://www.al.com › news › 2020/11 › alabamas-covid-t...', 'title': \"Alabama's COVID tracing app joins nationwide network\", 'description': \"That means the more than 150,000 users who have downloaded Alabama's version of the app will also be notified if they register as a close ...\", 'extensions': [{'inline': True, 'type': 'text', 'text': 'Nov 19, 2020', 'rank': 1}], 'rank': 5, 'global_rank': 7}, {'link': 'https://www.rocketcitynow.com/video/news/local/alabama-guidesafe-covid-19-app/525-973f3a54-d4f6-4c9e-aa29-f6b7000ae470', 'display_link': 'https://www.rocketcitynow.com › video › news › local', 'title': \"Alabama's GuideSafe app notifies you of COVID-19 exposure\", 'description': 'The GuideSafe app was released in August. Over 93000 people have already downloaded it.', 'rank': 6, 'global_rank': 8}, {'link': 'https://whnt.com/news/coronavirus/alabamas-contact-tracing-app-expands-capabilities-still-very-few-have-downloaded-it/', 'display_link': 'https://whnt.com › news › coronavirus › alabamas-cont...', 'title': \"Alabama's contact tracing app expands capabilities, still ...\", 'description': 'Medical professionals say the expanded capabilities of Guidesafe could be a game changer. However, just under 150,000 people have the app ...', 'extensions': [{'inline': True, 'type': 'text', 'text': 'Nov 22, 2020', 'rank': 1}], 'rank': 7, 'global_rank': 9}, {'link': 'https://sites.uab.edu/guidesafebackup2/exposure-notification-app/', 'display_link': 'https://sites.uab.edu › guidesafebackup2 › exposure-not...', 'title': 'Exposure Notification App | GuideSafe™', 'description': 'Step one: Download the GuideSafe™️ Exposure Notification App from the App Store or Google Play, and then enabling Bluetooth. Step two: If you have tested ...', 'rank': 8, 'global_rank': 10}, {'link': 'https://alabamanewscenter.com/2020/09/03/guidesafe-may-be-secret-weapon-against-covid-19-for-alabama-to-get-back-to-normal/', 'display_link': 'https://alabamanewscenter.com › Blog', 'title': 'GuideSafe may be secret weapon against COVID-19 for ...', 'description': 'GuideSafe may be secret weapon against COVID-19 for Alabama to get back to normal - Alabama News Center.', 'extensions': [{'inline': True, 'type': 'text', 'text': 'Sep 3, 2020', 'rank': 1}], 'rank': 9, 'global_rank': 11}, {'link': 'https://news.ua.edu/2020/08/fight-covid-19-with-guidesafe-exposure-notification-app/', 'display_link': 'https://news.ua.edu › 2020/08 › fight-covid-19-with-gu...', 'title': 'Fight COVID-19 with GuideSafe Exposure Notification App', 'description': 'Download the COVID-19 Exposure Notification App for free to your iPhone or Android device or by searching “GuideSafe” in the app store. · The app ...', 'extensions': [{'inline': True, 'type': 'text', 'text': 'Aug 24, 2020', 'rank': 1}], 'rank': 10, 'global_rank': 12}, {'link': 'https://da-dk.facebook.com/UAB.edu/videos/guidesafe-exposure-notification-app-launches-statewide/308135187177645/', 'display_link': 'https://da-dk.facebook.com › ... › Videoer', 'title': 'GuideSafe Exposure Notification App Launches Statewide | By ...', 'description': 'We know that from our numbers since we began reporting COVID-19 in Alabama in March of 2020 that we now have as of yesterday over 108, 000 cases of COVID-19 ...', 'rank': 11, 'global_rank': 13}, {'link': 'https://facultysenate.ua.edu/guidesafe-contact-notification-app/', 'display_link': 'https://facultysenate.ua.edu › guidesafe-contact-notificat...', 'title': 'GuideSafe Contact Notification App - Faculty Senate', 'description': 'The GuideSafe app is a subscriber of the logs kept by the Google/Apple operating systems. It is one of the first contact tracing apps to use the infrastructure.', 'extensions': [{'inline': True, 'type': 'text', 'text': 'Aug 22, 2020', 'rank': 1}, {'type': 'missing', 'text': 'downloads', 'rank': 2}, {'type': 'must_include', 'text': 'downloads', 'link': 'https://www.google.com/search?num=20&sca_esv=73a6d3bdeda9064e&hl=en&q=Alabama+GuideSafe+COVID+app+number+of+%22downloads%22&sa=X&ved=2ahUKEwiQjJznp7COAxX8hIkEHSdXGHIQ5t4CegQIPxAB', 'rank': 3}], 'rank': 12, 'global_rank': 14}, {'link': 'https://www.wsfa.com/2020/08/17/alabamians-urged-download-covid-exposure-app/', 'display_link': 'https://www.wsfa.com › 2020/08/17 › alabamians-urge...', 'title': 'Alabamians urged to download COVID-19 exposure app', 'description': 'MONTGOMERY, Ala. (WSFA) - The public now can access an app aimed at alerting people if they were possibly exposed to COVID-19.', 'extensions': [{'inline': True, 'type': 'text', 'text': 'Aug 17, 2020', 'rank': 1}], 'rank': 13, 'global_rank': 15}, {'link': 'https://www.montgomeryadvertiser.com/story/news/2020/08/17/alabama-releases-guidesafe-coronvirus-contact-tracing-app-general-public/5599036002/', 'display_link': 'https://www.montgomeryadvertiser.com › 2020/08/17', 'title': 'Alabama rolls out contact tracing app piloted at colleges', 'description': 'The GuideSafe app was quickly developed over the summer with the help of federal pandemic relief funds at the University of Alabama at ...', 'extensions': [{'inline': True, 'type': 'text', 'text': 'Aug 17, 2020', 'rank': 1}], 'rank': 14, 'global_rank': 16}, {'link': 'https://www.al.com/news/2020/08/alabama-launches-statewide-coronavirus-tracking-app.html', 'display_link': 'https://www.al.com › news › 2020/08 › alabama-launche...', 'title': 'Alabama launches statewide coronavirus tracking app', 'description': 'Curtis Carver, chief information officer for the University of Alabama at Birmingham, said 1,800 users have downloaded the app. UAB health ...', 'extensions': [{'inline': True, 'type': 'text', 'text': 'Aug 17, 2020', 'rank': 1}], 'rank': 15, 'global_rank': 17}, {'link': 'https://www.ruralhealthinfo.org/toolkits/emergency-preparedness/case-studies/infectious-disease/university-alabama-birmingham', 'display_link': 'https://www.ruralhealthinfo.org › infectious-disease › u...', 'title': 'COVID-19 Symptom Tracking and Exposure Notification ...', 'description': 'The third project was the GuideSafe Exposure Notification App, a resource available for download on smartphones for Alabama residents. This ...', 'extensions': [{'inline': True, 'type': 'text', 'text': 'Nov 14, 2022', 'rank': 1}], 'rank': 16, 'global_rank': 18}, {'link': 'https://www.instagram.com/p/CEXjb0hH9Gj/', 'display_link': '790+ likes · 4 years ago', 'title': 'The University of Alabama | Want to ...', 'description': 'Download the GuideSafe Exposure Notification App! This app will anonymously notify you if you have been in potential close contact with someone ...', 'rank': 17, 'global_rank': 19}, {'link': 'https://ahealthieru.auburn.edu/_assets/pdf/guidesafe-app-howto.pdf', 'display_link': 'https://ahealthieru.auburn.edu › _assets › pdf › gu...', 'title': 'your guidesafe™ app how-to', 'description': 'Download the GuideSafe™ Exposure Notification App from the App Store or Google Play, ... Stopping the spread of COVID-19 in Alabama is essential to helping our ...', 'rank': 18, 'global_rank': 20}, {'link': 'https://www.wsfa.com/2020/11/19/alabamas-guidesafe-app-expands-other-states/', 'display_link': 'https://www.wsfa.com › 2020/11/19 › alabamas-guides...', 'title': \"Alabama's GuideSafe app expands to 12 other states\", 'description': \"If your holiday plans take you across state lines, you may still be able to get alerts if you've been exposed to COVID-19.\", 'extensions': [{'inline': True, 'type': 'text', 'text': 'Nov 19, 2020', 'rank': 1}], 'rank': 19, 'global_rank': 21}, {'link': 'https://abc3340.com/news/local/uab-wed-like-more-people-using-guidesafe-app-to-help-slow-spread-of-covid-19', 'display_link': 'https://abc3340.com › news › local › uab-wed-like-more...', 'title': 'UAB encourages use of GuideSafe app to help slow ...', 'description': 'To date, app users self-reported one thousand and ten COVID-19 cases. The app has not tracked how many notifications that sparked. Cares Act ...', 'extensions': [{'inline': True, 'type': 'text', 'text': 'Jan 28, 2021', 'rank': 1}], 'rank': 20, 'global_rank': 22}], 'pagination': {'pages': [{'page': 2, 'start': 20, 'link': 'https://www.google.com/search?q=Alabama+GuideSafe+COVID+app+number+of+downloads&num=20&sca_esv=73a6d3bdeda9064e&hl=en&ei=IKhuaJD8EvyJptQPp67hkAc&start=20&sa=N&sstk=Ac65TH5S1bstTxx_qRNBSNr22T2e0rygKDrp6enCDsVtbP6UsdKx70cdrGG_PCFuOKWsF1NBc07C963zNYZBonNBrXCD91KYF-HI2Q&ved=2ahUKEwiQjJznp7COAxX8hIkEHSdXGHIQ8tMDegQICBAE'}, {'page': 3, 'start': 40, 'link': 'https://www.google.com/search?q=Alabama+GuideSafe+COVID+app+number+of+downloads&num=20&sca_esv=73a6d3bdeda9064e&hl=en&ei=IKhuaJD8EvyJptQPp67hkAc&start=40&sa=N&sstk=Ac65TH5S1bstTxx_qRNBSNr22T2e0rygKDrp6enCDsVtbP6UsdKx70cdrGG_PCFuOKWsF1NBc07C963zNYZBonNBrXCD91KYF-HI2Q&ved=2ahUKEwiQjJznp7COAxX8hIkEHSdXGHIQ8tMDegQICBAG'}, {'page': 4, 'start': 60, 'link': 'https://www.google.com/search?q=Alabama+GuideSafe+COVID+app+number+of+downloads&num=20&sca_esv=73a6d3bdeda9064e&hl=en&ei=IKhuaJD8EvyJptQPp67hkAc&start=60&sa=N&sstk=Ac65TH5S1bstTxx_qRNBSNr22T2e0rygKDrp6enCDsVtbP6UsdKx70cdrGG_PCFuOKWsF1NBc07C963zNYZBonNBrXCD91KYF-HI2Q&ved=2ahUKEwiQjJznp7COAxX8hIkEHSdXGHIQ8tMDegQICBAI'}, {'page': 5, 'start': 80, 'link': 'https://www.google.com/search?q=Alabama+GuideSafe+COVID+app+number+of+downloads&num=20&sca_esv=73a6d3bdeda9064e&hl=en&ei=IKhuaJD8EvyJptQPp67hkAc&start=80&sa=N&sstk=Ac65TH5S1bstTxx_qRNBSNr22T2e0rygKDrp6enCDsVtbP6UsdKx70cdrGG_PCFuOKWsF1NBc07C963zNYZBonNBrXCD91KYF-HI2Q&ved=2ahUKEwiQjJznp7COAxX8hIkEHSdXGHIQ8tMDegQICBAK'}, {'page': 6, 'start': 100, 'link': 'https://www.google.com/search?q=Alabama+GuideSafe+COVID+app+number+of+downloads&num=20&sca_esv=73a6d3bdeda9064e&hl=en&ei=IKhuaJD8EvyJptQPp67hkAc&start=100&sa=N&sstk=Ac65TH5S1bstTxx_qRNBSNr22T2e0rygKDrp6enCDsVtbP6UsdKx70cdrGG_PCFuOKWsF1NBc07C963zNYZBonNBrXCD91KYF-HI2Q&ved=2ahUKEwiQjJznp7COAxX8hIkEHSdXGHIQ8tMDegQICBAM'}], 'current_page': 1, 'next_page': 2, 'next_page_start': 20, 'next_page_link': 'https://www.google.com/search?q=Alabama+GuideSafe+COVID+app+number+of+downloads&num=20&sca_esv=73a6d3bdeda9064e&hl=en&ei=IKhuaJD8EvyJptQPp67hkAc&start=20&sa=N&sstk=Ac65TH5S1bstTxx_qRNBSNr22T2e0rygKDrp6enCDsVtbP6UsdKx70cdrGG_PCFuOKWsF1NBc07C963zNYZBonNBrXCD91KYF-HI2Q&ved=2ahUKEwiQjJznp7COAxX8hIkEHSdXGHIQ8tMDegQICBAE'}, 'people_also_ask': [{'question': 'Is the COVID app still working?', 'answer_source': 'Google & Apple have shut down Exposure Notifications. You will ...', 'answer_link': 'https://wehealth.org/news/ga-end-c19-en#:~:text=Update%3A%20The%20app%20is%20still,pubic%20health%20communication%20and%20alerts.', 'answer_display_link': 'https://wehealth.org › news › ga-end-c19-enhttps://wehealth.org › news › ga-end-c19-en', 'answers': [{'type': 'answer', 'value': {'text': 'Update: The app is still active and continues to deliver pubic health communication and alerts.Sep 13, 2023'}, 'rank': 1}], 'rank': 1, 'global_rank': 4}, {'question': 'Is there a COVID-19 app?', 'answer_source': 'COVID-19 apps - Wikipedia', 'answer_link': 'https://en.wikipedia.org/wiki/COVID-19_apps#:~:text=AMAN%20is%20a%20privacy%2Dconscious,Play%20Store%20and%20App%20Store.&text=A%20consortium%20of%20IT%20companies,is%20Android%20and%20Apple%20compatible.', 'answer_display_link': 'https://en.wikipedia.org › wiki › COVID-19_appshttps://en.wikipedia.org › wiki › COVID-19_apps', 'answers': [{'type': 'answer', 'value': {'text': 'AMAN is a privacy-conscious exposure detection App. The App was released on 21 May 2020 and is currently available on Google Play Store and App Store. A consortium of IT companies and volunteers launched decentralized proximity tracing Apturi Covid application on 29 May 2020. It is Android and Apple compatible.'}, 'rank': 1}], 'rank': 2, 'global_rank': 5}], 'ai_overview': {'error': 'AI Overview did not appear on original SERP. Please ensure that you are using the `brd_ai_overview=1` query parameter (https://docs.brightdata.com/scraping-automation/serp-api/query-parameters/google#ai-overview), and that your query is relevant for triggering an AI Overview.'}}\n",
      "2025-07-09 13:34:25,318 - web_data_collection.webpage_retrieval - DEBUG - Retrieved and yielded 20 results from request 1\n",
      "2025-07-09 13:34:25,320 - web_data_collection.webpage_retrieval - DEBUG - Processing query: Arizona Covid Watch COVID app number of downloads, variable value combo: ('Arizona Covid Watch',)\n",
      "2025-07-09 13:34:25,321 - web_data_collection.webpage_retrieval - DEBUG - Processing date chunk: None to None\n",
      "2025-07-09 13:34:25,322 - web_data_collection.webpage_retrieval - DEBUG - Making request 1/1\n"
     ]
    },
    {
     "name": "stdout",
     "output_type": "stream",
     "text": [
      "(('Alabama GuideSafe',), 'Alabama GuideSafe COVID app number of downloads', {'link': 'https://www.wbrc.com/2020/10/23/alabama-covid-exposure-app-grows-with-more-than-downloads/', 'title': 'Alabama COVID-19 exposure app grows with more than ...', 'description': \"Alabama COVID-19 exposure app grows with more than 100,000 downloads ... The GuideSafe Exposure Notification app isn't just for college ...\"})\n",
      "(('Alabama GuideSafe',), 'Alabama GuideSafe COVID app number of downloads', {'link': 'https://www.wbrc.com/2020/09/18/guidesafe-supporters-want-more-downloads-covid-exposure-notification-app/', 'title': 'GuideSafe supporters want more downloads of COVID ...', 'description': 'School officials provided an update on the program Friday. So far, there have been 62,000 downloads of the Guidesafe app.'})\n",
      "(('Alabama GuideSafe',), 'Alabama GuideSafe COVID app number of downloads', {'link': 'https://www.rocketcitynow.com/video/news/local/alabama-guidesafe-covid-19-app/525-973f3a54-d4f6-4c9e-aa29-f6b7000ae470', 'title': \"Alabama's GuideSafe app notifies you of COVID-19 exposure\", 'description': 'The GuideSafe app was released in August. Over 93000 people have already downloaded it.'})\n",
      "(('Alabama GuideSafe',), 'Alabama GuideSafe COVID app number of downloads', {'link': 'https://whnt.com/news/coronavirus/alabamas-contact-tracing-app-expands-capabilities-still-very-few-have-downloaded-it/', 'title': \"Alabama's contact tracing app expands capabilities, still ...\", 'description': 'Medical professionals say the expanded capabilities of Guidesafe could be a game changer. However, just under 150,000 people have the app ...'})\n",
      "(('Alabama GuideSafe',), 'Alabama GuideSafe COVID app number of downloads', {'link': 'https://alabamanewscenter.com/2020/09/03/guidesafe-may-be-secret-weapon-against-covid-19-for-alabama-to-get-back-to-normal/', 'title': 'GuideSafe may be secret weapon against COVID-19 for ...', 'description': 'GuideSafe may be secret weapon against COVID-19 for Alabama to get back to normal - Alabama News Center.'})\n",
      "(('Alabama GuideSafe',), 'Alabama GuideSafe COVID app number of downloads', {'link': 'https://news.ua.edu/2020/08/fight-covid-19-with-guidesafe-exposure-notification-app/', 'title': 'Fight COVID-19 with GuideSafe Exposure Notification App', 'description': 'Download the COVID-19 Exposure Notification App for free to your iPhone or Android device or by searching “GuideSafe” in the app store. · The app ...'})\n",
      "(('Alabama GuideSafe',), 'Alabama GuideSafe COVID app number of downloads', {'link': 'https://www.wsfa.com/2020/08/17/alabamians-urged-download-covid-exposure-app/', 'title': 'Alabamians urged to download COVID-19 exposure app', 'description': 'MONTGOMERY, Ala. (WSFA) - The public now can access an app aimed at alerting people if they were possibly exposed to COVID-19.'})\n",
      "(('Alabama GuideSafe',), 'Alabama GuideSafe COVID app number of downloads', {'link': 'https://www.instagram.com/p/CEXjb0hH9Gj/', 'title': 'The University of Alabama | Want to ...', 'description': 'Download the GuideSafe Exposure Notification App! This app will anonymously notify you if you have been in potential close contact with someone ...'})\n",
      "(('Alabama GuideSafe',), 'Alabama GuideSafe COVID app number of downloads', {'link': 'https://ahealthieru.auburn.edu/_assets/pdf/guidesafe-app-howto.pdf', 'title': 'your guidesafe™ app how-to', 'description': 'Download the GuideSafe™ Exposure Notification App from the App Store or Google Play, ... Stopping the spread of COVID-19 in Alabama is essential to helping our ...'})\n",
      "(('Alabama GuideSafe',), 'Alabama GuideSafe COVID app number of downloads', {'link': 'https://www.wsfa.com/2020/11/19/alabamas-guidesafe-app-expands-other-states/', 'title': \"Alabama's GuideSafe app expands to 12 other states\", 'description': \"If your holiday plans take you across state lines, you may still be able to get alerts if you've been exposed to COVID-19.\"})\n",
      "(('Alabama GuideSafe',), 'Alabama GuideSafe COVID app number of downloads', {'link': 'https://abc3340.com/news/local/uab-wed-like-more-people-using-guidesafe-app-to-help-slow-spread-of-covid-19', 'title': 'UAB encourages use of GuideSafe app to help slow ...', 'description': 'To date, app users self-reported one thousand and ten COVID-19 cases. The app has not tracked how many notifications that sparked. Cares Act ...'})\n"
     ]
    },
    {
     "name": "stderr",
     "output_type": "stream",
     "text": [
      "2025-07-09 13:34:27,737 - web_data_collection.webpage_retrieval - DEBUG - {'general': {'search_engine': 'google', 'query': 'Arizona Covid Watch COVID app number of downloads', 'results_cnt': 2190000, 'search_time': 0.56, 'language': 'en', 'location': 'United States', 'mobile': False, 'basic_view': False, 'search_type': 'text', 'page_title': 'Arizona Covid Watch COVID app number of downloads - Google Search', 'timestamp': '2025-07-09T17:34:27.537Z'}, 'input': {'original_url': 'https://www.google.com/search?q=Arizona+Covid+Watch+COVID+app+number+of+downloads&start=0&brd_json=1&num=20', 'request_id': 'hl_a84cb5f7_n8l06d0rkr'}, 'navigation': [{'title': 'AI Mode', 'href': 'https://www.google.com/search?q=Arizona+Covid+Watch+COVID+app+number+of+downloads&num=20&sca_esv=f7156635f6e9a261&hl=en&udm=50&fbs=AIIjpHxU7SXXniUZfeShr2fp4giZrjP_Cx0LI1Ytb_FGcOviEiTm5uW1q0uNfK7KsnoL8hUyUYUJLZ_b-p0lT09DIkR7bwzZ58goNnPFwCobO9Lr1GqquLGz16X4CICKxqKCKUwzddVlh446Bq6KIcmINbfh8DJhqfU5q2zJkgVUVt_rBK8u5ucaQFBa07v5kJsGA7w7lghU64XqQXCihXo5c7tH6n4GIw&aep=1&ntc=1&sa=X&ved=2ahUKEwjEwqXop7COAxXPRzABHS-MAIgQ2J8OegQIEBAC'}, {'title': 'News', 'href': 'https://www.google.com/search?num=20&sca_esv=f7156635f6e9a261&hl=en&q=Arizona+Covid+Watch+COVID+app+number+of+downloads&tbm=nws&source=lnms&fbs=AIIjpHxU7SXXniUZfeShr2fp4giZrjP_Cx0LI1Ytb_FGcOviEiTm5uW1q0uNfK7KsnoL8hUyUYUJLZ_b-p0lT09DIkR7bwzZ58goNnPFwCobO9Lr1GqquLGz16X4CICKxqKCKUwzddVlh446Bq6KIcmINbfh8DJhqfU5q2zJkgVUVt_rBK8u5ucaQFBa07v5kJsGA7w7lghU64XqQXCihXo5c7tH6n4GIw&sa=X&ved=2ahUKEwjEwqXop7COAxXPRzABHS-MAIgQ0pQJKAF6BAgUEAE'}, {'title': 'Images', 'href': 'https://www.google.com/search?num=20&sca_esv=f7156635f6e9a261&hl=en&q=Arizona+Covid+Watch+COVID+app+number+of+downloads&udm=2&fbs=AIIjpHxU7SXXniUZfeShr2fp4giZrjP_Cx0LI1Ytb_FGcOviEiTm5uW1q0uNfK7KsnoL8hUyUYUJLZ_b-p0lT09DIkR7bwzZ58goNnPFwCobO9Lr1GqquLGz16X4CICKxqKCKUwzddVlh446Bq6KIcmINbfh8DJhqfU5q2zJkgVUVt_rBK8u5ucaQFBa07v5kJsGA7w7lghU64XqQXCihXo5c7tH6n4GIw&sa=X&ved=2ahUKEwjEwqXop7COAxXPRzABHS-MAIgQtKgLKAJ6BAgTEAE'}, {'title': 'Videos', 'href': 'https://www.google.com/search?num=20&sca_esv=f7156635f6e9a261&hl=en&q=Arizona+Covid+Watch+COVID+app+number+of+downloads&udm=7&fbs=AIIjpHxU7SXXniUZfeShr2fp4giZrjP_Cx0LI1Ytb_FGcOviEiTm5uW1q0uNfK7KsnoL8hUyUYUJLZ_b-p0lT09DIkR7bwzZ58goNnPFwCobO9Lr1GqquLGz16X4CICKxqKCKUwzddVlh446Bq6KIcmINbfh8DJhqfU5q2zJkgVUVt_rBK8u5ucaQFBa07v5kJsGA7w7lghU64XqQXCihXo5c7tH6n4GIw&sa=X&ved=2ahUKEwjEwqXop7COAxXPRzABHS-MAIgQtKgLKAN6BAgREAE'}, {'title': 'Short videos', 'href': 'https://www.google.com/search?num=20&sca_esv=f7156635f6e9a261&hl=en&q=Arizona+Covid+Watch+COVID+app+number+of+downloads&udm=39&fbs=AIIjpHxU7SXXniUZfeShr2fp4giZrjP_Cx0LI1Ytb_FGcOviEiTm5uW1q0uNfK7KsnoL8hUyUYUJLZ_b-p0lT09DIkR7bwzZ58goNnPFwCobO9Lr1GqquLGz16X4CICKxqKCKUwzddVlh446Bq6KIcmINbfh8DJhqfU5q2zJkgVUVt_rBK8u5ucaQFBa07v5kJsGA7w7lghU64XqQXCihXo5c7tH6n4GIw&sa=X&ved=2ahUKEwjEwqXop7COAxXPRzABHS-MAIgQs6gLKAR6BAgSEAE'}, {'title': 'Shopping', 'href': 'https://www.google.com/search?num=20&sca_esv=f7156635f6e9a261&hl=en&q=Arizona+Covid+Watch+COVID+app+number+of+downloads&udm=28&fbs=AIIjpHxU7SXXniUZfeShr2fp4giZrjP_Cx0LI1Ytb_FGcOviEiTm5uW1q0uNfK7KsnoL8hUyUYUJLZ_b-p0lT09DIkR7bwzZ58goNnPFwCobO9Lr1GqquLGz16X4CICKxqKCKUwzddVlh446Bq6KIcmINbfh8DJhqfU5q2zJkgVUVt_rBK8u5ucaQFBa07v5kJsGA7w7lghU64XqQXCihXo5c7tH6n4GIw&ved=1t:220175&ictx=111'}], 'organic': [{'link': 'https://news.arizona.edu/news/how-smartphone-app-and-contact-tracing-helped-keep-uarizona-open-and-curb-covid-19-spread#:~:text=The%20app%20then%20sends%20an,have%20downloaded%20the%20mobile%20app.', 'display_link': 'https://news.arizona.edu › news › how-smartphone-app-a...', 'title': 'How a Smartphone App and Contact Tracing Helped Keep ...', 'rank': 1, 'global_rank': 2}, {'link': 'https://edscoop.com/university-arizona-contact-tracing-reduced-covid19-12-percent/', 'display_link': 'https://edscoop.com › university-arizona-contact-tracin...', 'title': 'U. Arizona claims contact-tracing app reduced COVID-19 ...', 'description': 'The university estimates that about 14,000 people on the campus have downloaded the app, which is called Covid Watch Arizona. The app is based ...', 'extensions': [{'inline': True, 'type': 'text', 'text': 'Dec 18, 2020', 'rank': 1}], 'rank': 2, 'global_rank': 3}, {'link': 'https://abcnews.go.com/US/smartphone-app-alerts-university-arizona-students-exposed-covid/story?id=72580199', 'display_link': 'https://abcnews.go.com › story', 'title': 'Smartphone app alerts University of Arizona students if they ...', 'description': 'So far the Covid Watch app has been downloaded more than 9,800 times. \"This is one of the first in the U.S. to be released, that is fully ...', 'extensions': [{'inline': True, 'type': 'text', 'text': 'Aug 25, 2020', 'rank': 1}], 'rank': 3, 'global_rank': 4}, {'link': 'https://azpha.org/2022/08/30/arizona-has-a-covid-19-exposure-notification-tool-now-and-its-free/', 'display_link': 'https://azpha.org › 2022/08/30 › arizona-has-a-covid-1...', 'title': 'Arizona Has a COVID-19 Exposure Notification Tool Now ...', 'description': 'Wehealth Arizona is an exposure notification app that notifies you if you have been exposed to Covid-19 and helps connect you with trusted ...', 'extensions': [{'inline': True, 'type': 'text', 'text': 'Aug 30, 2022', 'rank': 1}], 'rank': 4, 'global_rank': 5}, {'link': 'https://play.google.com/store/apps/details?id=gov.azdhs.covidwatch.android&hl=en_US', 'display_link': 'https://play.google.com › store › apps › details › id=gov....', 'title': 'PHapp AZ - Apps on Google Play', 'description': 'Kids. Icon image. PHapp AZ. The University of Arizona. 3.8star. 411 reviews. 100K+. Downloads. Content rating. Everyone. info. Install. See in Play Store app.', 'rank': 5, 'global_rank': 6}, {'link': 'https://ktar.com/arizona-news/covid-19-exposure-notification-app-launched-in-arizona-never-reached-full-potential/4598971/', 'display_link': 'https://ktar.com › arizona-news › covid-19-exposure-n...', 'title': 'COVID-19 exposure app launched in Arizona never ...', 'description': \"The Covid Watch Arizona app is still in circulation and has 93,000 downloads to date. However, Sonora Quest, the state's largest COVID-19 ...\", 'extensions': [{'inline': True, 'type': 'text', 'text': 'Aug 3, 2021', 'rank': 1}], 'rank': 6, 'global_rank': 7}, {'link': 'https://www.medrxiv.org/content/10.1101/2021.02.02.21251022v7.full.pdf', 'display_link': 'https://www.medrxiv.org › content', 'title': 'Quantifying meaningful usage of a SARS-CoV-2 exposure ...', 'description': 'The frequency with which cases used the Covid Watch app increased far more following the automation of verification code delivery than did the ...', 'extensions': [{'inline': True, 'type': 'text', 'text': 'by J Masel', 'rank': 1}, {'inline': True, 'type': 'text', 'text': '2021', 'rank': 2}, {'inline': True, 'type': 'text', 'text': 'Cited by 12', 'rank': 3}], 'rank': 7, 'global_rank': 8}, {'link': 'https://news.arizona.edu/news/uarizona-and-covid-watch-launch-covid-19-exposure-notification-app', 'display_link': 'https://news.arizona.edu › news › uarizona-and-covid-wa...', 'title': 'UArizona and Covid Watch Launch COVID-19 Exposure ...', 'description': 'UArizona students, faculty and staff can now download the Covid Watch exposure notification app, which allows users diagnosed with COVID-19 ...', 'extensions': [{'inline': True, 'type': 'text', 'text': 'Aug 19, 2020', 'rank': 1}], 'rank': 8, 'global_rank': 13}, {'link': 'https://www.azdhs.gov/documents/privacy-policy/covid-watch-application-privacy-policy.pdf', 'display_link': 'https://www.azdhs.gov › privacy-policy › covid-w...', 'title': 'Privacy Policy', 'description': 'Arizona, Arizona State University and Northern Arizona University developed the \\u200bCovid Watch. Arizona mobile application (the “App”) to help ...', 'extensions': [{'inline': True, 'type': 'text', 'text': 'Aug 7, 2020', 'rank': 1}], 'rank': 9, 'global_rank': 14}, {'link': 'https://www.medrxiv.org/content/10.1101/2021.02.02.21251022v3.full.pdf', 'display_link': 'https://www.medrxiv.org › content', 'title': 'Quantifying meaningful adoption of a SARS-CoV-2 ...', 'description': 'The University of Arizona community. 42 piloted the Covid Watch app, which through the Google/Apple Exposure Notification API. 43. (GAEN), uses ...', 'extensions': [{'inline': True, 'type': 'text', 'text': 'by J Masel', 'rank': 1}, {'inline': True, 'type': 'text', 'text': '2021', 'rank': 2}, {'inline': True, 'type': 'text', 'text': 'Cited by 12', 'rank': 3}], 'rank': 10, 'global_rank': 15}, {'link': 'https://wehealth.org/covidwatchorg/news', 'display_link': 'https://wehealth.org › covidwatchorg › news', 'title': 'News and Media | Covid Watch', 'description': 'UArizona is launching a new mobile app that lets students know anonymously if they have been exposed to COVID-19. August 19, 2020.', 'rank': 11, 'global_rank': 16}, {'link': 'https://www.kold.com/2020/08/19/uarizona-releases-covid-tracking-app/', 'display_link': 'https://www.kold.com › 2020/08/19 › uarizona-releases...', 'title': 'University of Arizona releases COVID tracking app - KOLD.com', 'description': \"19, the COVID Watch app is the latest release in the university's return-to-campus strategy—along with 160 manual contact tracers, on-site ...\", 'extensions': [{'inline': True, 'type': 'text', 'text': 'Aug 19, 2020', 'rank': 1}], 'rank': 12, 'global_rank': 17}, {'link': 'https://pmc.ncbi.nlm.nih.gov/articles/PMC8194594/', 'display_link': 'https://pmc.ncbi.nlm.nih.gov › articles › PMC8194594', 'title': 'Usability, inclusivity, and content evaluation of COVID-19 ...', 'description': 'Covid Watch Arizona (iPhone), Arizona Department of Health Services, 10/14/20 ... More than 1.6 million Swiss have downloaded Covid tracing app. Updated ...', 'extensions': [{'inline': True, 'type': 'text', 'text': 'by SO Blacklow', 'rank': 1}, {'inline': True, 'type': 'text', 'text': '2021', 'rank': 2}, {'inline': True, 'type': 'text', 'text': 'Cited by 34', 'rank': 3}], 'rank': 13, 'global_rank': 18}, {'link': 'https://en.wikipedia.org/wiki/COVID-19_apps', 'display_link': 'https://en.wikipedia.org › wiki › COVID-19_apps', 'title': 'COVID-19 apps', 'description': '^ \"More than half of IOW downloads Covid-19 contact tracing app\". BBC News ... ^ \"Covid Watch Arizona - Apps on Google Play\". play.google.com. Archived ...', 'rank': 14, 'global_rank': 19}, {'link': 'https://wehealth.org/news/covid-watch-app-launches-in-arizona', 'display_link': 'https://wehealth.org › news › covid-watch-app-launches...', 'title': 'Wehealth Exposure Notification App Launches in Arizona', 'description': 'UArizona is encouraging students, faculty and staff returning to campus to download the Covid Watch App through an engaging digital outreach ...', 'extensions': [{'inline': True, 'type': 'text', 'text': 'Aug 19, 2020', 'rank': 1}], 'rank': 15, 'global_rank': 20}, {'link': 'https://www.researchgate.net/publication/349012902_Quantifying_meaningful_adoption_of_a_SARS-CoV-2_exposure_notification_app_on_the_campus_of_the_University_of_Arizona', 'display_link': 'https://www.researchgate.net › publication › 34901290...', 'title': '(PDF) Quantifying meaningful adoption of a SARS-CoV-2 ...', 'description': 'The NHS COVID-19 app experienced high user engagement, identified infectious contacts well, and helped to avert appreciable numbers of cases, ...', 'extensions': [{'inline': True, 'type': 'text', 'text': 'Feb 3, 2021', 'rank': 1}], 'rank': 16, 'global_rank': 21}, {'link': 'https://www.kvoa.com/coronavirus/uarizona-has-stayed-opened-throughout-the-pandemic-with-the-help-of-an-app/article_77ddfe97-2cce-51a1-97a4-f035d6db0032.html', 'display_link': 'https://www.kvoa.com › coronavirus › uarizona-has-stay...', 'title': 'UArizona has stayed opened throughout the pandemic ...', 'description': '\"COVID Watch\" is available on both the App Store and Google Play. So far, it has over 14,000 downloads.', 'extensions': [{'inline': True, 'type': 'text', 'text': 'Jan 12, 2021', 'rank': 1}], 'rank': 17, 'global_rank': 22}, {'link': 'https://www.santacruzcountyaz.gov/732/COVID-19-Novel-Coronavirus', 'display_link': 'https://www.santacruzcountyaz.gov › COVID-19-Novel...', 'title': 'COVID-19 (Novel Coronavirus) | Santa Cruz County, AZ', 'description': 'The table below displays reported COVID-19 cases as of January 2023. It will be updated Monday-Friday. Community transmission is present in Santa Cruz County.', 'rank': 18, 'global_rank': 23}, {'link': 'https://mobile.va.gov/app/covid-coach', 'display_link': 'https://mobile.va.gov › app › covid-coach', 'title': 'COVID Coach | VA Mobile', 'description': 'The COVID Coach app has four main features: Manage Stress, Mood Check, Learn and Find Resources. Tap the icons to find stress management tools, ways to keep ...', 'rank': 19, 'global_rank': 24}, {'link': 'https://www.youtube.com/watch?v=72ZsRXmDHCY', 'display_link': '730+ views · 1 year ago', 'title': 'AZ COVID-19 numbers are low, but wastewater testing ...', 'description': 'Confirmed case figures have remained low this year due to the prevalence of milder COVID-19 variants and widespread at-home test availability.', 'image': 'https://encrypted-tbn0.gstatic.com/images?q=tbn:ANd9GcQzJ4tLRYcbTMBMq64hMomPPilTN8G8w55ffVOKv42HxAyA&s', 'image_url': 'https://encrypted-tbn0.gstatic.com/images?q=tbn:ANd9GcQzJ4tLRYcbTMBMq64hMomPPilTN8G8w55ffVOKv42HxAyA&s', 'duration': '2:06', 'duration_sec': 126, 'rank': 20, 'global_rank': 25}], 'featured_snippets': [{'type': 'answer', 'display_link': 'https://news.arizona.edu › news › how-smartphone-app-a...', 'link_title': 'How a Smartphone App and Contact Tracing Helped Keep ...', 'link': 'https://news.arizona.edu/news/how-smartphone-app-and-contact-tracing-helped-keep-uarizona-open-and-curb-covid-19-spread#:~:text=The%20app%20then%20sends%20an,have%20downloaded%20the%20mobile%20app.', 'value': {'text': \"The app then sends an exposure notification alert to other Covid Watch users whose phones were registered as recently being near the infected person's phone for a significant amount of time. An estimated 14,000 people on the UArizona campus have downloaded the mobile app.Dec 16, 2020\"}, 'rank': 1, 'global_rank': 1}], 'overview': {'title': 'WebAnswer', 'kgmid': '/m/0hn'}, 'pagination': {'pages': [{'page': 2, 'start': 20, 'link': 'https://www.google.com/search?q=Arizona+Covid+Watch+COVID+app+number+of+downloads&num=20&sca_esv=f7156635f6e9a261&hl=en&ei=IqhuaMSpIs-PwbkPr5iCwAg&start=20&sa=N&sstk=Ac65TH6JmEqmafKGYaaspNckg0-HEu63-tmIrjlhcKTp3Yz-jXT9axU_osJIA98YaWYIqOkYpS7gcfnP_q6YlE77me5r8gE11A3H1g&ved=2ahUKEwjEwqXop7COAxXPRzABHS-MAIgQ8tMDegQICRAE'}, {'page': 3, 'start': 40, 'link': 'https://www.google.com/search?q=Arizona+Covid+Watch+COVID+app+number+of+downloads&num=20&sca_esv=f7156635f6e9a261&hl=en&ei=IqhuaMSpIs-PwbkPr5iCwAg&start=40&sa=N&sstk=Ac65TH6JmEqmafKGYaaspNckg0-HEu63-tmIrjlhcKTp3Yz-jXT9axU_osJIA98YaWYIqOkYpS7gcfnP_q6YlE77me5r8gE11A3H1g&ved=2ahUKEwjEwqXop7COAxXPRzABHS-MAIgQ8tMDegQICRAG'}, {'page': 4, 'start': 60, 'link': 'https://www.google.com/search?q=Arizona+Covid+Watch+COVID+app+number+of+downloads&num=20&sca_esv=f7156635f6e9a261&hl=en&ei=IqhuaMSpIs-PwbkPr5iCwAg&start=60&sa=N&sstk=Ac65TH6JmEqmafKGYaaspNckg0-HEu63-tmIrjlhcKTp3Yz-jXT9axU_osJIA98YaWYIqOkYpS7gcfnP_q6YlE77me5r8gE11A3H1g&ved=2ahUKEwjEwqXop7COAxXPRzABHS-MAIgQ8tMDegQICRAI'}, {'page': 5, 'start': 80, 'link': 'https://www.google.com/search?q=Arizona+Covid+Watch+COVID+app+number+of+downloads&num=20&sca_esv=f7156635f6e9a261&hl=en&ei=IqhuaMSpIs-PwbkPr5iCwAg&start=80&sa=N&sstk=Ac65TH6JmEqmafKGYaaspNckg0-HEu63-tmIrjlhcKTp3Yz-jXT9axU_osJIA98YaWYIqOkYpS7gcfnP_q6YlE77me5r8gE11A3H1g&ved=2ahUKEwjEwqXop7COAxXPRzABHS-MAIgQ8tMDegQICRAK'}, {'page': 6, 'start': 100, 'link': 'https://www.google.com/search?q=Arizona+Covid+Watch+COVID+app+number+of+downloads&num=20&sca_esv=f7156635f6e9a261&hl=en&ei=IqhuaMSpIs-PwbkPr5iCwAg&start=100&sa=N&sstk=Ac65TH6JmEqmafKGYaaspNckg0-HEu63-tmIrjlhcKTp3Yz-jXT9axU_osJIA98YaWYIqOkYpS7gcfnP_q6YlE77me5r8gE11A3H1g&ved=2ahUKEwjEwqXop7COAxXPRzABHS-MAIgQ8tMDegQICRAM'}, {'page': 7, 'start': 120, 'link': 'https://www.google.com/search?q=Arizona+Covid+Watch+COVID+app+number+of+downloads&num=20&sca_esv=f7156635f6e9a261&hl=en&ei=IqhuaMSpIs-PwbkPr5iCwAg&start=120&sa=N&sstk=Ac65TH6JmEqmafKGYaaspNckg0-HEu63-tmIrjlhcKTp3Yz-jXT9axU_osJIA98YaWYIqOkYpS7gcfnP_q6YlE77me5r8gE11A3H1g&ved=2ahUKEwjEwqXop7COAxXPRzABHS-MAIgQ8tMDegQICRAO'}, {'page': 8, 'start': 140, 'link': 'https://www.google.com/search?q=Arizona+Covid+Watch+COVID+app+number+of+downloads&num=20&sca_esv=f7156635f6e9a261&hl=en&ei=IqhuaMSpIs-PwbkPr5iCwAg&start=140&sa=N&sstk=Ac65TH6JmEqmafKGYaaspNckg0-HEu63-tmIrjlhcKTp3Yz-jXT9axU_osJIA98YaWYIqOkYpS7gcfnP_q6YlE77me5r8gE11A3H1g&ved=2ahUKEwjEwqXop7COAxXPRzABHS-MAIgQ8tMDegQICRAQ'}, {'page': 9, 'start': 160, 'link': 'https://www.google.com/search?q=Arizona+Covid+Watch+COVID+app+number+of+downloads&num=20&sca_esv=f7156635f6e9a261&hl=en&ei=IqhuaMSpIs-PwbkPr5iCwAg&start=160&sa=N&sstk=Ac65TH6JmEqmafKGYaaspNckg0-HEu63-tmIrjlhcKTp3Yz-jXT9axU_osJIA98YaWYIqOkYpS7gcfnP_q6YlE77me5r8gE11A3H1g&ved=2ahUKEwjEwqXop7COAxXPRzABHS-MAIgQ8tMDegQICRAS'}, {'page': 10, 'start': 180, 'link': 'https://www.google.com/search?q=Arizona+Covid+Watch+COVID+app+number+of+downloads&num=20&sca_esv=f7156635f6e9a261&hl=en&ei=IqhuaMSpIs-PwbkPr5iCwAg&start=180&sa=N&sstk=Ac65TH6JmEqmafKGYaaspNckg0-HEu63-tmIrjlhcKTp3Yz-jXT9axU_osJIA98YaWYIqOkYpS7gcfnP_q6YlE77me5r8gE11A3H1g&ved=2ahUKEwjEwqXop7COAxXPRzABHS-MAIgQ8tMDegQICRAU'}], 'current_page': 1, 'next_page': 2, 'next_page_start': 20, 'next_page_link': 'https://www.google.com/search?q=Arizona+Covid+Watch+COVID+app+number+of+downloads&num=20&sca_esv=f7156635f6e9a261&hl=en&ei=IqhuaMSpIs-PwbkPr5iCwAg&start=20&sa=N&sstk=Ac65TH6JmEqmafKGYaaspNckg0-HEu63-tmIrjlhcKTp3Yz-jXT9axU_osJIA98YaWYIqOkYpS7gcfnP_q6YlE77me5r8gE11A3H1g&ved=2ahUKEwjEwqXop7COAxXPRzABHS-MAIgQ8tMDegQICRAE'}, 'people_also_ask': [{'question': 'Is the COVID app still working?', 'answer_source': 'Google & Apple have shut down Exposure Notifications. You will ...', 'answer_link': 'https://wehealth.org/news/ga-end-c19-en#:~:text=Update%3A%20The%20app%20is%20still,pubic%20health%20communication%20and%20alerts.', 'answer_display_link': 'https://wehealth.org › news › ga-end-c19-enhttps://wehealth.org › news › ga-end-c19-en', 'answers': [{'type': 'answer', 'value': {'text': 'Update: The app is still active and continues to deliver pubic health communication and alerts.Sep 13, 2023'}, 'rank': 1}], 'rank': 1, 'global_rank': 9}, {'question': 'How to save from COVID-19?', 'answer_source': 'Prevent COVID-19 | American Lung Association', 'answer_link': 'https://www.lung.org/lung-health-diseases/lung-disease-lookup/covid-19/prevention', 'answer_display_link': 'https://www.lung.org › covid-19 › preventionhttps://www.lung.org › covid-19 › prevention', 'answers': [{'type': 'ordered_list', 'title': 'Take the COVID-19 Vaccine Pledge', 'items': [{'value': 'Wash Your Hands Often. Scrub with soap and water for at least 20 seconds. ...', 'rank': 1}, {'value': 'Improve Ventilation. ...', 'rank': 2}, {'value': 'Disinfect if You Have COVID-19. ...', 'rank': 3}, {'value': 'Stay Home if You Feel Unwell. ...', 'rank': 4}, {'value': 'Wear a Mask.', 'rank': 5}], 'rank': 1}], 'rank': 2, 'global_rank': 10}, {'question': 'How to check if COVID is gone?', 'answer_source': 'Coronavirus Recovery: Rate, Time, & Outlook - WebMD', 'answer_link': \"https://www.webmd.com/covid/covid-recovery-overview#:~:text=You'll%20know%20you're,that's%20a%20sign%20of%20recovery.\", 'answer_display_link': 'https://www.webmd.com › covid-recovery-overviewhttps://www.webmd.com › covid-recovery-overview', 'answers': [{'type': 'answer', 'value': {'text': \"You'll know you're getting better once your symptoms lessen or disappear altogether. Signs that COVID is getting better vary from person to person and depend on your symptoms. For example, if you had a fever for several days but are now fever free without taking a fever-reducing medicine, that's a sign of recovery.Dec 10, 2024\"}, 'rank': 1}], 'rank': 3, 'global_rank': 11}, {'question': 'How long does it take for COVID to show up now?', 'answer_source': 'Symptoms of COVID-19 - CDC', 'answer_link': 'https://www.cdc.gov/covid/signs-symptoms/index.html#:~:text=People%20with%20COVID%2D19%20have,progress%20to%20more%20severe%20symptoms.', 'answer_display_link': 'https://www.cdc.gov › covid › signs-symptomshttps://www.cdc.gov › covid › signs-symptoms', 'answers': [{'type': 'answer', 'value': {'text': 'People with COVID-19 have a wide range of symptoms ranging from mild symptoms to severe illness. Symptoms may appear 2-14 days after exposure to the virus. Symptoms may start as mild, and some people will progress to more severe symptoms.Mar 10, 2025'}, 'rank': 1}], 'rank': 4, 'global_rank': 12}], 'ai_overview': {'error': 'AI Overview did not appear on original SERP. Please ensure that you are using the `brd_ai_overview=1` query parameter (https://docs.brightdata.com/scraping-automation/serp-api/query-parameters/google#ai-overview), and that your query is relevant for triggering an AI Overview.'}}\n",
      "2025-07-09 13:34:27,738 - web_data_collection.webpage_retrieval - DEBUG - Retrieved and yielded 20 results from request 1\n",
      "2025-07-09 13:34:27,739 - web_data_collection.webpage_retrieval - DEBUG - Processing query: California Covid Notify COVID app number of downloads, variable value combo: ('California Covid Notify',)\n",
      "2025-07-09 13:34:27,739 - web_data_collection.webpage_retrieval - DEBUG - Processing date chunk: None to None\n",
      "2025-07-09 13:34:27,739 - web_data_collection.webpage_retrieval - DEBUG - Making request 1/1\n"
     ]
    },
    {
     "name": "stdout",
     "output_type": "stream",
     "text": [
      "(('Arizona Covid Watch',), 'Arizona Covid Watch COVID app number of downloads', {'link': 'https://www.medrxiv.org/content/10.1101/2021.02.02.21251022v7.full.pdf', 'title': 'Quantifying meaningful usage of a SARS-CoV-2 exposure ...', 'description': 'The frequency with which cases used the Covid Watch app increased far more following the automation of verification code delivery than did the ...'})\n",
      "(('Arizona Covid Watch',), 'Arizona Covid Watch COVID app number of downloads', {'link': 'https://news.arizona.edu/news/uarizona-and-covid-watch-launch-covid-19-exposure-notification-app', 'title': 'UArizona and Covid Watch Launch COVID-19 Exposure ...', 'description': 'UArizona students, faculty and staff can now download the Covid Watch exposure notification app, which allows users diagnosed with COVID-19 ...'})\n",
      "(('Arizona Covid Watch',), 'Arizona Covid Watch COVID app number of downloads', {'link': 'https://www.azdhs.gov/documents/privacy-policy/covid-watch-application-privacy-policy.pdf', 'title': 'Privacy Policy', 'description': 'Arizona, Arizona State University and Northern Arizona University developed the \\u200bCovid Watch. Arizona mobile application (the “App”) to help ...'})\n",
      "(('Arizona Covid Watch',), 'Arizona Covid Watch COVID app number of downloads', {'link': 'https://wehealth.org/news/covid-watch-app-launches-in-arizona', 'title': 'Wehealth Exposure Notification App Launches in Arizona', 'description': 'UArizona is encouraging students, faculty and staff returning to campus to download the Covid Watch App through an engaging digital outreach ...'})\n",
      "(('Arizona Covid Watch',), 'Arizona Covid Watch COVID app number of downloads', {'link': 'https://www.researchgate.net/publication/349012902_Quantifying_meaningful_adoption_of_a_SARS-CoV-2_exposure_notification_app_on_the_campus_of_the_University_of_Arizona', 'title': '(PDF) Quantifying meaningful adoption of a SARS-CoV-2 ...', 'description': 'The NHS COVID-19 app experienced high user engagement, identified infectious contacts well, and helped to avert appreciable numbers of cases, ...'})\n",
      "(('Arizona Covid Watch',), 'Arizona Covid Watch COVID app number of downloads', {'link': 'https://www.kvoa.com/coronavirus/uarizona-has-stayed-opened-throughout-the-pandemic-with-the-help-of-an-app/article_77ddfe97-2cce-51a1-97a4-f035d6db0032.html', 'title': 'UArizona has stayed opened throughout the pandemic ...', 'description': '\"COVID Watch\" is available on both the App Store and Google Play. So far, it has over 14,000 downloads.'})\n",
      "(('Arizona Covid Watch',), 'Arizona Covid Watch COVID app number of downloads', {'link': 'https://www.santacruzcountyaz.gov/732/COVID-19-Novel-Coronavirus', 'title': 'COVID-19 (Novel Coronavirus) | Santa Cruz County, AZ', 'description': 'The table below displays reported COVID-19 cases as of January 2023. It will be updated Monday-Friday. Community transmission is present in Santa Cruz County.'})\n",
      "(('Arizona Covid Watch',), 'Arizona Covid Watch COVID app number of downloads', {'link': 'https://mobile.va.gov/app/covid-coach', 'title': 'COVID Coach | VA Mobile', 'description': 'The COVID Coach app has four main features: Manage Stress, Mood Check, Learn and Find Resources. Tap the icons to find stress management tools, ways to keep ...'})\n",
      "(('Arizona Covid Watch',), 'Arizona Covid Watch COVID app number of downloads', {'link': 'https://www.youtube.com/watch?v=72ZsRXmDHCY', 'title': 'AZ COVID-19 numbers are low, but wastewater testing ...', 'description': 'Confirmed case figures have remained low this year due to the prevalence of milder COVID-19 variants and widespread at-home test availability.'})\n"
     ]
    },
    {
     "name": "stderr",
     "output_type": "stream",
     "text": [
      "2025-07-09 13:34:29,352 - web_data_collection.webpage_retrieval - DEBUG - {'general': {'search_engine': 'google', 'query': 'California Covid Notify COVID app number of downloads', 'results_cnt': 68300000, 'search_time': 0.37, 'language': 'en', 'location': 'United States', 'mobile': False, 'basic_view': False, 'search_type': 'text', 'page_title': 'California Covid Notify COVID app number of downloads - Google Search', 'timestamp': '2025-07-09T17:34:29.217Z'}, 'input': {'original_url': 'https://www.google.com/search?q=California+Covid+Notify+COVID+app+number+of+downloads&start=0&brd_json=1&num=20', 'request_id': 'hl_a84cb5f7_oaugbg902y'}, 'navigation': [{'title': 'AI Mode', 'href': 'https://www.google.com/search?q=California+Covid+Notify+COVID+app+number+of+downloads&num=20&sca_esv=73a6d3bdeda9064e&hl=en&udm=50&fbs=AIIjpHxU7SXXniUZfeShr2fp4giZrjP_Cx0LI1Ytb_FGcOviEiaSXTsdMUiuBeEuSNqG6MGxAgmTPrUk32Qw7HMCrZRRmgQBnzlhL-K9pls9R8TfxWi1dKMuxk8d-F43xI0u2TA09qnrReUqsroKvhMFkc0301syxtZLaLMKzQGYdxr9-apXgUu6KdayXf6iFKXxHTuEzYQqoLXnrPLh0tjg3EgXrwjdDQ&aep=1&ntc=1&sa=X&ved=2ahUKEwjV1Zzpp7COAxXmX0EAHfGtPeMQ2J8OegQIERAC'}, {'title': 'News', 'href': 'https://www.google.com/search?num=20&sca_esv=73a6d3bdeda9064e&hl=en&q=California+Covid+Notify+COVID+app+number+of+downloads&tbm=nws&source=lnms&fbs=AIIjpHxU7SXXniUZfeShr2fp4giZrjP_Cx0LI1Ytb_FGcOviEiaSXTsdMUiuBeEuSNqG6MGxAgmTPrUk32Qw7HMCrZRRmgQBnzlhL-K9pls9R8TfxWi1dKMuxk8d-F43xI0u2TA09qnrReUqsroKvhMFkc0301syxtZLaLMKzQGYdxr9-apXgUu6KdayXf6iFKXxHTuEzYQqoLXnrPLh0tjg3EgXrwjdDQ&sa=X&ved=2ahUKEwjV1Zzpp7COAxXmX0EAHfGtPeMQ0pQJKAF6BAgSEAE'}, {'title': 'Images', 'href': 'https://www.google.com/search?num=20&sca_esv=73a6d3bdeda9064e&hl=en&q=California+Covid+Notify+COVID+app+number+of+downloads&udm=2&fbs=AIIjpHxU7SXXniUZfeShr2fp4giZrjP_Cx0LI1Ytb_FGcOviEiaSXTsdMUiuBeEuSNqG6MGxAgmTPrUk32Qw7HMCrZRRmgQBnzlhL-K9pls9R8TfxWi1dKMuxk8d-F43xI0u2TA09qnrReUqsroKvhMFkc0301syxtZLaLMKzQGYdxr9-apXgUu6KdayXf6iFKXxHTuEzYQqoLXnrPLh0tjg3EgXrwjdDQ&sa=X&ved=2ahUKEwjV1Zzpp7COAxXmX0EAHfGtPeMQtKgLKAJ6BAgWEAE'}, {'title': 'Short videos', 'href': 'https://www.google.com/search?num=20&sca_esv=73a6d3bdeda9064e&hl=en&q=California+Covid+Notify+COVID+app+number+of+downloads&udm=39&fbs=AIIjpHxU7SXXniUZfeShr2fp4giZrjP_Cx0LI1Ytb_FGcOviEiaSXTsdMUiuBeEuSNqG6MGxAgmTPrUk32Qw7HMCrZRRmgQBnzlhL-K9pls9R8TfxWi1dKMuxk8d-F43xI0u2TA09qnrReUqsroKvhMFkc0301syxtZLaLMKzQGYdxr9-apXgUu6KdayXf6iFKXxHTuEzYQqoLXnrPLh0tjg3EgXrwjdDQ&sa=X&ved=2ahUKEwjV1Zzpp7COAxXmX0EAHfGtPeMQs6gLKAN6BAgQEAE'}, {'title': 'Videos', 'href': 'https://www.google.com/search?num=20&sca_esv=73a6d3bdeda9064e&hl=en&q=California+Covid+Notify+COVID+app+number+of+downloads&udm=7&fbs=AIIjpHxU7SXXniUZfeShr2fp4giZrjP_Cx0LI1Ytb_FGcOviEiaSXTsdMUiuBeEuSNqG6MGxAgmTPrUk32Qw7HMCrZRRmgQBnzlhL-K9pls9R8TfxWi1dKMuxk8d-F43xI0u2TA09qnrReUqsroKvhMFkc0301syxtZLaLMKzQGYdxr9-apXgUu6KdayXf6iFKXxHTuEzYQqoLXnrPLh0tjg3EgXrwjdDQ&sa=X&ved=2ahUKEwjV1Zzpp7COAxXmX0EAHfGtPeMQtKgLKAR6BAgTEAE'}, {'title': 'Shopping', 'href': 'https://www.google.com/search?num=20&sca_esv=73a6d3bdeda9064e&hl=en&q=California+Covid+Notify+COVID+app+number+of+downloads&udm=28&fbs=AIIjpHxU7SXXniUZfeShr2fp4giZrjP_Cx0LI1Ytb_FGcOviEiaSXTsdMUiuBeEuSNqG6MGxAgmTPrUk32Qw7HMCrZRRmgQBnzlhL-K9pls9R8TfxWi1dKMuxk8d-F43xI0u2TA09qnrReUqsroKvhMFkc0301syxtZLaLMKzQGYdxr9-apXgUu6KdayXf6iFKXxHTuEzYQqoLXnrPLh0tjg3EgXrwjdDQ&ved=1t:220175&ictx=111'}], 'organic': [{'link': 'https://www.cnbc.com/2020/12/12/ca-notify-coronavirus-app-gets-4-million-activations-in-first-day.html', 'display_link': 'https://www.cnbc.com › 2020/12/12 › ca-notify-corona...', 'title': 'CA Notify coronavirus app gets 4 million activations in first ...', 'description': 'CA Notify is based on technology built by Apple and Google earlier this year called exposure notifications.', 'extensions': [{'inline': True, 'type': 'text', 'text': 'Dec 12, 2020', 'rank': 1}], 'rank': 1, 'global_rank': 1}, {'link': 'https://www.cdph.ca.gov/Programs/CID/DCDC/Pages/CANotify/CANotifyMain.aspx', 'display_link': 'https://www.cdph.ca.gov › CID › DCDC › Pages › CAN...', 'title': 'CA Notify Home - CDPH - CA.gov', 'description': 'As of May 11, 2023, the CA Notify COVID-19 exposure notification system is no longer available. Please visit CDPH COVID-19 Resources for more information.', 'extensions': [{'inline': True, 'type': 'text', 'text': 'Oct 16, 2023', 'rank': 1}], 'rank': 2, 'global_rank': 2}, {'link': 'https://www.sacbee.com/news/california/article257189242.html', 'display_link': 'https://www.sacbee.com › california › article257189242', 'title': 'Remember COVID-19 phone alerts? California app ...', 'description': 'The CA Notify app has been downloaded more than 15.6 million times since Gov. Gavin Newsom announced it in late 2020. Since then, an estimated ...', 'extensions': [{'inline': True, 'type': 'text', 'text': 'Jan 12, 2022', 'rank': 1}], 'rank': 3, 'global_rank': 6}, {'link': 'https://www.chcf.org/resource/preliminary-research-suggests-covid-19-warning-app-slowed-transmission-virus/', 'display_link': 'https://www.chcf.org › resource › preliminary-research-s...', 'title': 'Preliminary Research Suggests COVID-19 Warning App ...', 'description': 'More than nine million Californians – about one-third of residents over 18 – have enabled the CA Notify app.', 'extensions': [{'inline': True, 'type': 'text', 'text': 'Mar 2, 2021', 'rank': 1}], 'rank': 4, 'global_rank': 7}, {'link': 'https://www.cdph.ca.gov/Programs/OPA/CDPH%20Document%20Library/Toolkits/ca_notify/CA-notify-FAQ.pdf', 'display_link': 'https://www.cdph.ca.gov › OPA › Toolkits › CA-...', 'title': 'CA Notify: Frequently Asked Questions - CDPH', 'description': \"CA Notify is a free exposure notification system for smartphones—made possible by the California Department of Public Health—to alert you if you've been exposed.\", 'rank': 5, 'global_rank': 8}, {'link': 'https://www.latimes.com/california/story/2020-12-13/ca-notify-smartphone-covid-alerts-4-million-californians', 'display_link': 'https://www.latimes.com › california › story › ca-notify...', 'title': 'Smartphone COVID alert system signs up 4 million ...', 'description': \"SAN DIEGO — California's smartphone-based COVID-19 exposure alert system had racked up 4 million signups by Friday afternoon, according to ...\", 'extensions': [{'inline': True, 'type': 'text', 'text': 'Dec 13, 2020', 'rank': 1}], 'rank': 6, 'global_rank': 9}, {'link': 'https://www.fhcsd.org/ca-notify/', 'display_link': 'https://www.fhcsd.org › ca-notify', 'title': 'CA Notify | COVID-19 Exposure Notifications', 'description': 'CA Notify is a phone application that will inform Californians if they have been exposed to someone who has tested positive for COVID-19.', 'rank': 7, 'global_rank': 10}, {'link': 'https://www.nascio.org/awards-library/awards/ca-notify-getting-to-immunity-with-automated-reporting/', 'display_link': 'https://www.nascio.org › awards-library › awards', 'title': 'CA Notify:', 'description': 'Currently the number of users is estimated around 10.4 million. CA Notify offered a digital and innovative solution that made contact tracing anonymous and easy ...', 'rank': 8, 'global_rank': 11}, {'link': 'https://time.com/5921518/covid-exposure-notification-apps/', 'display_link': 'https://time.com › Tech › COVID-19', 'title': 'People Are Finally Downloading COVID-19 Notification Apps', 'description': 'New Apple-Google software is leading to skyrocketing adoption of COVID-19 exposure notification apps in the U.S..', 'extensions': [{'inline': True, 'type': 'text', 'text': 'Dec 14, 2020', 'rank': 1}], 'rank': 9, 'global_rank': 12}, {'link': 'https://www.cmadocs.org/newsroom/news/view/ArticleId/49136/CA-Notify-app-to-offer-COVID-19-exposure-notification', 'display_link': 'https://www.cmadocs.org › Newsroom › News › View', 'title': 'CA Notify app to offer COVID-19 exposure notification', 'description': 'The CA Notify app is a voluntary opt-in system that alerts users to potential exposure without storing or transmitting any data related to their identity or ...', 'extensions': [{'inline': True, 'type': 'text', 'text': 'Dec 7, 2020', 'rank': 1}], 'rank': 10, 'global_rank': 13}, {'link': 'http://newamerica.org/pit/briefs/the-mixed-success-of-covid-exposure-notification-apps/', 'display_link': 'http://newamerica.org › pit › briefs › the-mixed-success-...', 'title': 'The Mixed Success of COVID Exposure Notification Apps', 'description': 'CA Notify is available to both Android and iPhone users equally, but their ease of use varies. While iPhone users only need to enable exposure ...', 'extensions': [{'inline': True, 'type': 'text', 'text': 'Jul 28, 2022', 'rank': 1}], 'rank': 11, 'global_rank': 14}, {'link': 'https://california100.org/ca-notify-innovative-alert-system-to-help-slow-the-spread-of-covid-19/', 'display_link': 'https://california100.org › ca-notify-innovative-alert-syst...', 'title': 'CA Notify: Innovative Alert System To Help Slow The ...', 'description': 'California Notify is a breakthrough application that exists at the intersection of public health, technology and public policy.', 'rank': 12, 'global_rank': 15}, {'link': 'https://covid-19.ucla.edu/covid-notify/', 'display_link': 'https://covid-19.ucla.edu › covid-notify', 'title': 'CA COVID Notify - COVID-19 and vaccine resources', 'description': 'CA COVID Notify is available to all Californians. As such, users may be tested for COVID-19 at an expansive number of sites across the state.', 'rank': 13, 'global_rank': 16}, {'link': 'https://www.eff.org/deeplinks/2020/12/ca-notify-app-useful-arrow-fight-against-covid-19', 'display_link': 'https://www.eff.org › deeplinks › 2020/12 › ca-notify-a...', 'title': 'California Has a New COVID Exposure Notification App', 'description': \"California joined dozens of other states and countries in launching its COVID-19 exposure notification app, CA Notify, built on Google and Apple's Exposure ...\", 'extensions': [{'inline': True, 'type': 'text', 'text': 'Dec 10, 2020', 'rank': 1}], 'rank': 14, 'global_rank': 17}, {'link': 'https://slate.com/technology/2022/08/covid-exposure-notification-apps.html', 'display_link': 'https://slate.com › covid-exposure-notification-apps', 'title': \"Why Didn't More Americans Use COVID Exposure ...\", 'description': \"More than 70 percent of Americans said they wouldn't download a COVID app because of concerns about protecting their digital privacy.\", 'extensions': [{'inline': True, 'type': 'text', 'text': 'Aug 31, 2022', 'rank': 1}], 'rank': 15, 'global_rank': 18}, {'link': 'https://www.ucdavis.edu/coronavirus/news/uc-davis-rolls-out-covid-19-exposure-app-to-campuses', 'display_link': 'https://www.ucdavis.edu › coronavirus › news › uc-dav...', 'title': 'UC Davis Rolls Out COVID-19 Exposure App to Campuses', 'description': 'Android users who wish to participate must download the California COVID Notify app, whereas iOS users can activate it in their iPhone settings.', 'extensions': [{'inline': True, 'type': 'text', 'text': 'Nov 17, 2020', 'rank': 1}], 'rank': 16, 'global_rank': 19}, {'link': 'https://abc7.com/ca-notify-covid-canotify-app-omicron-surge/11425379/', 'display_link': 'https://abc7.com › ca-notify-covid-canotify-app-omicro...', 'title': 'CA Notify alerts of possible COVID exposure increase amid ...', 'description': 'Statewide alerts from CA Notify have been sent to many smartphones letting people know if they have been exposed to someone with COVID-19.', 'extensions': [{'inline': True, 'type': 'text', 'text': 'Jan 4, 2022', 'rank': 1}], 'rank': 17, 'global_rank': 20}, {'link': 'https://pmc.ncbi.nlm.nih.gov/articles/PMC9357651/', 'display_link': 'https://pmc.ncbi.nlm.nih.gov › articles › PMC9357651', 'title': 'A Brief History of Exposure Notification During the COVID- ...', 'description': \"Guam COVID Alert app. Accessed January 24, 2022. https://guamcovidalert.guam ... More than 6 million have signed up for California's COVID-19 alert system.\", 'extensions': [{'inline': True, 'type': 'text', 'text': 'by H Bair', 'rank': 1}, {'inline': True, 'type': 'text', 'text': '2022', 'rank': 2}, {'inline': True, 'type': 'text', 'text': 'Cited by 17', 'rank': 3}], 'rank': 18, 'global_rank': 21}, {'link': 'https://www.reddit.com/r/bayarea/comments/kai2ty/anyone_here_download_the_ca_notify_app_cas/', 'display_link': '50+ comments · 4 years ago', 'title': \"Anyone here download the CA Notify app (CA's Contact ...\", 'description': \"If you download one of these apps, it will use your phone's Bluetooth chip to do what Bluetooth does: emit little radio pings to find other ...\", 'rank': 19, 'global_rank': 22}, {'link': 'https://dot.la/california-covid-19-tracking-app-2649442530.html', 'display_link': 'https://dot.la › california-covid-19-tracking-app-26494...', 'title': \"How to Turn On California's COVID-19 Contract Tracing App\", 'description': 'The platform is available on the iPhones Settings menu under \"Exposure Notifications,\" but Android users will have to download the CA Notify app directly.', 'rank': 20, 'global_rank': 23}], 'pagination': {'pages': [{'page': 2, 'start': 20, 'link': 'https://www.google.com/search?q=California+Covid+Notify+COVID+app+number+of+downloads&num=20&sca_esv=73a6d3bdeda9064e&hl=en&ei=JKhuaNWzH-a_hbIP8dv2mQ4&start=20&sa=N&sstk=Ac65TH49Bw9o8gvcvS0MP96NEyWFo0UpsRk2IK3F5_Nd6kdZP3vRB6lckHOABwIHSluFUM-jiJRvvBlw73m98M1-IueqZjqpJoHDGg&ved=2ahUKEwjV1Zzpp7COAxXmX0EAHfGtPeMQ8tMDegQICRAE'}, {'page': 3, 'start': 40, 'link': 'https://www.google.com/search?q=California+Covid+Notify+COVID+app+number+of+downloads&num=20&sca_esv=73a6d3bdeda9064e&hl=en&ei=JKhuaNWzH-a_hbIP8dv2mQ4&start=40&sa=N&sstk=Ac65TH49Bw9o8gvcvS0MP96NEyWFo0UpsRk2IK3F5_Nd6kdZP3vRB6lckHOABwIHSluFUM-jiJRvvBlw73m98M1-IueqZjqpJoHDGg&ved=2ahUKEwjV1Zzpp7COAxXmX0EAHfGtPeMQ8tMDegQICRAG'}, {'page': 4, 'start': 60, 'link': 'https://www.google.com/search?q=California+Covid+Notify+COVID+app+number+of+downloads&num=20&sca_esv=73a6d3bdeda9064e&hl=en&ei=JKhuaNWzH-a_hbIP8dv2mQ4&start=60&sa=N&sstk=Ac65TH49Bw9o8gvcvS0MP96NEyWFo0UpsRk2IK3F5_Nd6kdZP3vRB6lckHOABwIHSluFUM-jiJRvvBlw73m98M1-IueqZjqpJoHDGg&ved=2ahUKEwjV1Zzpp7COAxXmX0EAHfGtPeMQ8tMDegQICRAI'}, {'page': 5, 'start': 80, 'link': 'https://www.google.com/search?q=California+Covid+Notify+COVID+app+number+of+downloads&num=20&sca_esv=73a6d3bdeda9064e&hl=en&ei=JKhuaNWzH-a_hbIP8dv2mQ4&start=80&sa=N&sstk=Ac65TH49Bw9o8gvcvS0MP96NEyWFo0UpsRk2IK3F5_Nd6kdZP3vRB6lckHOABwIHSluFUM-jiJRvvBlw73m98M1-IueqZjqpJoHDGg&ved=2ahUKEwjV1Zzpp7COAxXmX0EAHfGtPeMQ8tMDegQICRAK'}, {'page': 6, 'start': 100, 'link': 'https://www.google.com/search?q=California+Covid+Notify+COVID+app+number+of+downloads&num=20&sca_esv=73a6d3bdeda9064e&hl=en&ei=JKhuaNWzH-a_hbIP8dv2mQ4&start=100&sa=N&sstk=Ac65TH49Bw9o8gvcvS0MP96NEyWFo0UpsRk2IK3F5_Nd6kdZP3vRB6lckHOABwIHSluFUM-jiJRvvBlw73m98M1-IueqZjqpJoHDGg&ved=2ahUKEwjV1Zzpp7COAxXmX0EAHfGtPeMQ8tMDegQICRAM'}, {'page': 7, 'start': 120, 'link': 'https://www.google.com/search?q=California+Covid+Notify+COVID+app+number+of+downloads&num=20&sca_esv=73a6d3bdeda9064e&hl=en&ei=JKhuaNWzH-a_hbIP8dv2mQ4&start=120&sa=N&sstk=Ac65TH49Bw9o8gvcvS0MP96NEyWFo0UpsRk2IK3F5_Nd6kdZP3vRB6lckHOABwIHSluFUM-jiJRvvBlw73m98M1-IueqZjqpJoHDGg&ved=2ahUKEwjV1Zzpp7COAxXmX0EAHfGtPeMQ8tMDegQICRAO'}, {'page': 8, 'start': 140, 'link': 'https://www.google.com/search?q=California+Covid+Notify+COVID+app+number+of+downloads&num=20&sca_esv=73a6d3bdeda9064e&hl=en&ei=JKhuaNWzH-a_hbIP8dv2mQ4&start=140&sa=N&sstk=Ac65TH49Bw9o8gvcvS0MP96NEyWFo0UpsRk2IK3F5_Nd6kdZP3vRB6lckHOABwIHSluFUM-jiJRvvBlw73m98M1-IueqZjqpJoHDGg&ved=2ahUKEwjV1Zzpp7COAxXmX0EAHfGtPeMQ8tMDegQICRAQ'}, {'page': 9, 'start': 160, 'link': 'https://www.google.com/search?q=California+Covid+Notify+COVID+app+number+of+downloads&num=20&sca_esv=73a6d3bdeda9064e&hl=en&ei=JKhuaNWzH-a_hbIP8dv2mQ4&start=160&sa=N&sstk=Ac65TH49Bw9o8gvcvS0MP96NEyWFo0UpsRk2IK3F5_Nd6kdZP3vRB6lckHOABwIHSluFUM-jiJRvvBlw73m98M1-IueqZjqpJoHDGg&ved=2ahUKEwjV1Zzpp7COAxXmX0EAHfGtPeMQ8tMDegQICRAS'}, {'page': 10, 'start': 180, 'link': 'https://www.google.com/search?q=California+Covid+Notify+COVID+app+number+of+downloads&num=20&sca_esv=73a6d3bdeda9064e&hl=en&ei=JKhuaNWzH-a_hbIP8dv2mQ4&start=180&sa=N&sstk=Ac65TH49Bw9o8gvcvS0MP96NEyWFo0UpsRk2IK3F5_Nd6kdZP3vRB6lckHOABwIHSluFUM-jiJRvvBlw73m98M1-IueqZjqpJoHDGg&ved=2ahUKEwjV1Zzpp7COAxXmX0EAHfGtPeMQ8tMDegQICRAU'}], 'current_page': 1, 'next_page': 2, 'next_page_start': 20, 'next_page_link': 'https://www.google.com/search?q=California+Covid+Notify+COVID+app+number+of+downloads&num=20&sca_esv=73a6d3bdeda9064e&hl=en&ei=JKhuaNWzH-a_hbIP8dv2mQ4&start=20&sa=N&sstk=Ac65TH49Bw9o8gvcvS0MP96NEyWFo0UpsRk2IK3F5_Nd6kdZP3vRB6lckHOABwIHSluFUM-jiJRvvBlw73m98M1-IueqZjqpJoHDGg&ved=2ahUKEwjV1Zzpp7COAxXmX0EAHfGtPeMQ8tMDegQICRAE'}, 'people_also_ask': [{'question': 'Is the COVID app still working?', 'answer_source': 'Google & Apple have shut down Exposure Notifications. You will ...', 'answer_link': 'https://wehealth.org/news/ga-end-c19-en#:~:text=Update%3A%20The%20app%20is%20still,pubic%20health%20communication%20and%20alerts.', 'answer_display_link': 'https://wehealth.org › news › ga-end-c19-enhttps://wehealth.org › news › ga-end-c19-en', 'answers': [{'type': 'answer', 'value': {'text': 'Update: The app is still active and continues to deliver pubic health communication and alerts.Sep 13, 2023'}, 'rank': 1}], 'rank': 1, 'global_rank': 3}, {'question': 'What is CA notify?', 'answer_source': 'CA Notify Home - CDPH - CA.gov', 'answer_link': 'https://www.cdph.ca.gov/Programs/CID/DCDC/Pages/CANotify/CANotifyMain.aspx#:~:text=%E2%80%8B%E2%80%8B%E2%80%8BSlow,exposed%20without%20using%20your%20name.', 'answer_display_link': 'https://www.cdph.ca.gov › CID › DCDC › Pages › CAN...https://www.cdph.ca.gov › CID › DCDC › Pages › CAN...', 'answers': [{'type': 'answer', 'value': {'text': \"<h1>\\u200b\\u200b\\u200bSlow the Spread with CA Notify<br></h1><p>CA Notify is a free exposure notification system that can let you know if you were recently near someone who tested positive for COVID-19, even if you don't know each other. If you get COVID-19, CA Notify lets you alert those you may have exposed without using your name.Oct 16, 2023\"}, 'rank': 1}], 'rank': 2, 'global_rank': 4}, {'question': 'How do exposure notifications work?', 'answer_source': 'Exposure Notification - Wikipedia', 'answer_link': 'https://en.wikipedia.org/wiki/Exposure_Notification#:~:text=If%20a%20match%20meeting%20certain,a%20source%20to%20infer%20proximity.', 'answer_display_link': 'https://en.wikipedia.org › wiki › Exposure_Notificationhttps://en.wikipedia.org › wiki › Exposure_Notification', 'answers': [{'type': 'answer', 'value': {'text': 'If a match meeting certain risk parameters is found, the app notifies the user of potential exposure to the infection. Google and Apple intend to use the received signal strength (RSSI) of the beacon messages as a source to infer proximity.'}, 'rank': 1}], 'rank': 3, 'global_rank': 5}], 'ai_overview': {'error': 'AI Overview did not appear on original SERP. Please ensure that you are using the `brd_ai_overview=1` query parameter (https://docs.brightdata.com/scraping-automation/serp-api/query-parameters/google#ai-overview), and that your query is relevant for triggering an AI Overview.'}}\n",
      "2025-07-09 13:34:29,354 - web_data_collection.webpage_retrieval - DEBUG - Retrieved and yielded 20 results from request 1\n",
      "2025-07-09 13:34:29,355 - web_data_collection.webpage_retrieval - DEBUG - Processing query: Colorado Exposure Notifications COVID app number of downloads, variable value combo: ('Colorado Exposure Notifications',)\n",
      "2025-07-09 13:34:29,356 - web_data_collection.webpage_retrieval - DEBUG - Processing date chunk: None to None\n",
      "2025-07-09 13:34:29,356 - web_data_collection.webpage_retrieval - DEBUG - Making request 1/1\n"
     ]
    },
    {
     "name": "stdout",
     "output_type": "stream",
     "text": [
      "(('California Covid Notify',), 'California Covid Notify COVID app number of downloads', {'link': 'https://www.cnbc.com/2020/12/12/ca-notify-coronavirus-app-gets-4-million-activations-in-first-day.html', 'title': 'CA Notify coronavirus app gets 4 million activations in first ...', 'description': 'CA Notify is based on technology built by Apple and Google earlier this year called exposure notifications.'})\n",
      "(('California Covid Notify',), 'California Covid Notify COVID app number of downloads', {'link': 'https://www.latimes.com/california/story/2020-12-13/ca-notify-smartphone-covid-alerts-4-million-californians', 'title': 'Smartphone COVID alert system signs up 4 million ...', 'description': \"SAN DIEGO — California's smartphone-based COVID-19 exposure alert system had racked up 4 million signups by Friday afternoon, according to ...\"})\n",
      "(('California Covid Notify',), 'California Covid Notify COVID app number of downloads', {'link': 'https://www.nascio.org/awards-library/awards/ca-notify-getting-to-immunity-with-automated-reporting/', 'title': 'CA Notify:', 'description': 'Currently the number of users is estimated around 10.4 million. CA Notify offered a digital and innovative solution that made contact tracing anonymous and easy ...'})\n",
      "(('California Covid Notify',), 'California Covid Notify COVID app number of downloads', {'link': 'https://www.cmadocs.org/newsroom/news/view/ArticleId/49136/CA-Notify-app-to-offer-COVID-19-exposure-notification', 'title': 'CA Notify app to offer COVID-19 exposure notification', 'description': 'The CA Notify app is a voluntary opt-in system that alerts users to potential exposure without storing or transmitting any data related to their identity or ...'})\n",
      "(('California Covid Notify',), 'California Covid Notify COVID app number of downloads', {'link': 'https://california100.org/ca-notify-innovative-alert-system-to-help-slow-the-spread-of-covid-19/', 'title': 'CA Notify: Innovative Alert System To Help Slow The ...', 'description': 'California Notify is a breakthrough application that exists at the intersection of public health, technology and public policy.'})\n",
      "(('California Covid Notify',), 'California Covid Notify COVID app number of downloads', {'link': 'https://slate.com/technology/2022/08/covid-exposure-notification-apps.html', 'title': \"Why Didn't More Americans Use COVID Exposure ...\", 'description': \"More than 70 percent of Americans said they wouldn't download a COVID app because of concerns about protecting their digital privacy.\"})\n",
      "(('California Covid Notify',), 'California Covid Notify COVID app number of downloads', {'link': 'https://abc7.com/ca-notify-covid-canotify-app-omicron-surge/11425379/', 'title': 'CA Notify alerts of possible COVID exposure increase amid ...', 'description': 'Statewide alerts from CA Notify have been sent to many smartphones letting people know if they have been exposed to someone with COVID-19.'})\n"
     ]
    },
    {
     "ename": "KeyboardInterrupt",
     "evalue": "",
     "output_type": "error",
     "traceback": [
      "\u001b[31m---------------------------------------------------------------------------\u001b[39m",
      "\u001b[31mKeyboardInterrupt\u001b[39m                         Traceback (most recent call last)",
      "\u001b[36mCell\u001b[39m\u001b[36m \u001b[39m\u001b[32mIn[8]\u001b[39m\u001b[32m, line 6\u001b[39m\n\u001b[32m      3\u001b[39m end_date = \u001b[33m\"\u001b[39m\u001b[33m2022-12-31\u001b[39m\u001b[33m\"\u001b[39m\n\u001b[32m      5\u001b[39m webpage_generator = retrieve_webpages_streaming(query_templates, results_pages_per_query, bright_data_config, variables)\n\u001b[32m----> \u001b[39m\u001b[32m6\u001b[39m \u001b[38;5;28;43;01mfor\u001b[39;49;00m\u001b[43m \u001b[49m\u001b[43mwebpage\u001b[49m\u001b[43m \u001b[49m\u001b[38;5;129;43;01min\u001b[39;49;00m\u001b[43m \u001b[49m\u001b[43mwebpage_generator\u001b[49m\u001b[43m:\u001b[49m\n\u001b[32m      7\u001b[39m \u001b[43m    \u001b[49m\u001b[38;5;28;43mprint\u001b[39;49m\u001b[43m(\u001b[49m\u001b[43mwebpage\u001b[49m\u001b[43m)\u001b[49m\n\u001b[32m      9\u001b[39m \u001b[38;5;66;03m# webpages = retrieve_webpages(query_templates, results_pages_per_query, bright_data_config, variables)\u001b[39;00m\n\u001b[32m     10\u001b[39m \u001b[38;5;66;03m# webpages = retrieve_webpages(query_templates, results_pages_per_query, bright_data_config, variables, start_date, end_date, time_chunking=True)\u001b[39;00m\n\u001b[32m     11\u001b[39m \u001b[38;5;66;03m# webpages = retrieve_webpages(query_templates, results_pages_per_query, bright_data_config, variables, news_only=True)\u001b[39;00m\n\u001b[32m     12\u001b[39m \u001b[38;5;66;03m# webpages = retrieve_webpages(query_templates, results_pages_per_query, bright_data_config, variables, media_cloud_country=\"United States\", geolocation_country=\"United States\")\u001b[39;00m\n",
      "\u001b[36mFile \u001b[39m\u001b[32m~/Documents/bch/web-data-collection/web_data_collection/webpage_retrieval.py:143\u001b[39m, in \u001b[36mretrieve_webpages_streaming\u001b[39m\u001b[34m(search_query_templates, results_pages_per_query, bright_data_config, search_query_variables, start_date, end_date, time_chunking, media_cloud_country, geolocation_country, news_only)\u001b[39m\n\u001b[32m    140\u001b[39m     media_cloud_sources = _get_media_cloud_sources_if_needed(media_cloud_country)\n\u001b[32m    142\u001b[39m     \u001b[38;5;66;03m# Process queries and stream results\u001b[39;00m\n\u001b[32m--> \u001b[39m\u001b[32m143\u001b[39m     \u001b[38;5;28;01myield from\u001b[39;00m _process_queries_and_stream_results(\n\u001b[32m    144\u001b[39m         search_queries,\n\u001b[32m    145\u001b[39m         variable_value_combinations,\n\u001b[32m    146\u001b[39m         date_chunks,\n\u001b[32m    147\u001b[39m         results_pages_per_query,\n\u001b[32m    148\u001b[39m         bright_data_config,\n\u001b[32m    149\u001b[39m         media_cloud_sources,\n\u001b[32m    150\u001b[39m         geolocation_country,\n\u001b[32m    151\u001b[39m         news_only,\n\u001b[32m    152\u001b[39m     )\n\u001b[32m    154\u001b[39m \u001b[38;5;28;01mexcept\u001b[39;00m \u001b[38;5;167;01mException\u001b[39;00m \u001b[38;5;28;01mas\u001b[39;00m e:\n\u001b[32m    155\u001b[39m     logger.error(\u001b[33mf\u001b[39m\u001b[33m\"\u001b[39m\u001b[33mError in retrieve_webpages_streaming: \u001b[39m\u001b[38;5;132;01m{\u001b[39;00me\u001b[38;5;132;01m}\u001b[39;00m\u001b[33m\"\u001b[39m)\n",
      "\u001b[36mFile \u001b[39m\u001b[32m~/Documents/bch/web-data-collection/web_data_collection/webpage_retrieval.py:458\u001b[39m, in \u001b[36m_process_queries_and_stream_results\u001b[39m\u001b[34m(search_queries, variable_value_combinations, date_chunks, results_pages_per_query, bright_data_config, media_cloud_sources, geolocation_country, news_only)\u001b[39m\n\u001b[32m    453\u001b[39m logger.debug(\n\u001b[32m    454\u001b[39m     \u001b[33mf\u001b[39m\u001b[33m\"\u001b[39m\u001b[33mProcessing query: \u001b[39m\u001b[38;5;132;01m{\u001b[39;00mquery\u001b[38;5;132;01m}\u001b[39;00m\u001b[33m, variable value combo: \u001b[39m\u001b[38;5;132;01m{\u001b[39;00mvariable_value_combo\u001b[38;5;132;01m}\u001b[39;00m\u001b[33m\"\u001b[39m\n\u001b[32m    455\u001b[39m )\n\u001b[32m    457\u001b[39m \u001b[38;5;66;03m# Process each date chunk and stream results\u001b[39;00m\n\u001b[32m--> \u001b[39m\u001b[32m458\u001b[39m \u001b[38;5;28;01myield from\u001b[39;00m _stream_date_chunks(\n\u001b[32m    459\u001b[39m     query,\n\u001b[32m    460\u001b[39m     variable_value_combo,\n\u001b[32m    461\u001b[39m     date_chunks,\n\u001b[32m    462\u001b[39m     results_pages_per_query,\n\u001b[32m    463\u001b[39m     bright_data_config,\n\u001b[32m    464\u001b[39m     media_cloud_sources,\n\u001b[32m    465\u001b[39m     geolocation_country,\n\u001b[32m    466\u001b[39m     news_only,\n\u001b[32m    467\u001b[39m     seen_urls,\n\u001b[32m    468\u001b[39m )\n",
      "\u001b[36mFile \u001b[39m\u001b[32m~/Documents/bch/web-data-collection/web_data_collection/webpage_retrieval.py:506\u001b[39m, in \u001b[36m_stream_date_chunks\u001b[39m\u001b[34m(query, variable_value_combo, date_chunks, results_pages_per_query, bright_data_config, media_cloud_sources, geolocation_country, news_only, seen_urls)\u001b[39m\n\u001b[32m    503\u001b[39m logger.debug(\u001b[33mf\u001b[39m\u001b[33m\"\u001b[39m\u001b[33mProcessing date chunk: \u001b[39m\u001b[38;5;132;01m{\u001b[39;00mchunk[\u001b[33m'\u001b[39m\u001b[33mstart\u001b[39m\u001b[33m'\u001b[39m]\u001b[38;5;132;01m}\u001b[39;00m\u001b[33m to \u001b[39m\u001b[38;5;132;01m{\u001b[39;00mchunk[\u001b[33m'\u001b[39m\u001b[33mend\u001b[39m\u001b[33m'\u001b[39m]\u001b[38;5;132;01m}\u001b[39;00m\u001b[33m\"\u001b[39m)\n\u001b[32m    505\u001b[39m \u001b[38;5;66;03m# Stream results from this date chunk\u001b[39;00m\n\u001b[32m--> \u001b[39m\u001b[32m506\u001b[39m \u001b[38;5;28;01myield from\u001b[39;00m _stream_bright_data_results(\n\u001b[32m    507\u001b[39m     query,\n\u001b[32m    508\u001b[39m     variable_value_combo,\n\u001b[32m    509\u001b[39m     results_pages_per_query,\n\u001b[32m    510\u001b[39m     bright_data_config,\n\u001b[32m    511\u001b[39m     chunk[\u001b[33m\"\u001b[39m\u001b[33mstart\u001b[39m\u001b[33m\"\u001b[39m],\n\u001b[32m    512\u001b[39m     chunk[\u001b[33m\"\u001b[39m\u001b[33mend\u001b[39m\u001b[33m\"\u001b[39m],\n\u001b[32m    513\u001b[39m     media_cloud_sources,\n\u001b[32m    514\u001b[39m     geolocation_country,\n\u001b[32m    515\u001b[39m     news_only,\n\u001b[32m    516\u001b[39m     seen_urls,\n\u001b[32m    517\u001b[39m )\n",
      "\u001b[36mFile \u001b[39m\u001b[32m~/Documents/bch/web-data-collection/web_data_collection/webpage_retrieval.py:607\u001b[39m, in \u001b[36m_stream_bright_data_results\u001b[39m\u001b[34m(query, variable_value_combo, results_pages_per_query, bright_data_config, start_date, end_date, media_cloud_sources, geolocation_country, news_only, seen_urls, num_mc_sites)\u001b[39m\n\u001b[32m    599\u001b[39m start = request_num * \u001b[32m20\u001b[39m\n\u001b[32m    601\u001b[39m data = {\n\u001b[32m    602\u001b[39m     \u001b[33m\"\u001b[39m\u001b[33mzone\u001b[39m\u001b[33m\"\u001b[39m: bright_data_config.zone,\n\u001b[32m    603\u001b[39m     \u001b[33m\"\u001b[39m\u001b[33murl\u001b[39m\u001b[33m\"\u001b[39m: \u001b[33mf\u001b[39m\u001b[33m\"\u001b[39m\u001b[33mhttps://www.google.com/search?q=\u001b[39m\u001b[38;5;132;01m{\u001b[39;00mencoded_query\u001b[38;5;132;01m}\u001b[39;00m\u001b[33m&start=\u001b[39m\u001b[38;5;132;01m{\u001b[39;00mstart\u001b[38;5;132;01m}\u001b[39;00m\u001b[33m&brd_json=1&num=20\u001b[39m\u001b[38;5;132;01m{\u001b[39;00mnews_param\u001b[38;5;132;01m}\u001b[39;00m\u001b[38;5;132;01m{\u001b[39;00mcountry_param\u001b[38;5;132;01m}\u001b[39;00m\u001b[33m\"\u001b[39m,\n\u001b[32m    604\u001b[39m     \u001b[33m\"\u001b[39m\u001b[33mformat\u001b[39m\u001b[33m\"\u001b[39m: \u001b[33m\"\u001b[39m\u001b[33mraw\u001b[39m\u001b[33m\"\u001b[39m,\n\u001b[32m    605\u001b[39m }\n\u001b[32m--> \u001b[39m\u001b[32m607\u001b[39m response = \u001b[43mrequests\u001b[49m\u001b[43m.\u001b[49m\u001b[43mpost\u001b[49m\u001b[43m(\u001b[49m\n\u001b[32m    608\u001b[39m \u001b[43m    \u001b[49m\u001b[43mbright_data_config\u001b[49m\u001b[43m.\u001b[49m\u001b[43mbase_url\u001b[49m\u001b[43m,\u001b[49m\u001b[43m \u001b[49m\u001b[43mheaders\u001b[49m\u001b[43m=\u001b[49m\u001b[43mheaders\u001b[49m\u001b[43m,\u001b[49m\u001b[43m \u001b[49m\u001b[43mjson\u001b[49m\u001b[43m=\u001b[49m\u001b[43mdata\u001b[49m\n\u001b[32m    609\u001b[39m \u001b[43m\u001b[49m\u001b[43m)\u001b[49m\n\u001b[32m    610\u001b[39m response.raise_for_status()\n\u001b[32m    611\u001b[39m results = response.json()\n",
      "\u001b[36mFile \u001b[39m\u001b[32m~/miniconda3/envs/web-data-collection/lib/python3.12/site-packages/requests/api.py:115\u001b[39m, in \u001b[36mpost\u001b[39m\u001b[34m(url, data, json, **kwargs)\u001b[39m\n\u001b[32m    103\u001b[39m \u001b[38;5;28;01mdef\u001b[39;00m\u001b[38;5;250m \u001b[39m\u001b[34mpost\u001b[39m(url, data=\u001b[38;5;28;01mNone\u001b[39;00m, json=\u001b[38;5;28;01mNone\u001b[39;00m, **kwargs):\n\u001b[32m    104\u001b[39m \u001b[38;5;250m    \u001b[39m\u001b[33mr\u001b[39m\u001b[33;03m\"\"\"Sends a POST request.\u001b[39;00m\n\u001b[32m    105\u001b[39m \n\u001b[32m    106\u001b[39m \u001b[33;03m    :param url: URL for the new :class:`Request` object.\u001b[39;00m\n\u001b[32m   (...)\u001b[39m\u001b[32m    112\u001b[39m \u001b[33;03m    :rtype: requests.Response\u001b[39;00m\n\u001b[32m    113\u001b[39m \u001b[33;03m    \"\"\"\u001b[39;00m\n\u001b[32m--> \u001b[39m\u001b[32m115\u001b[39m     \u001b[38;5;28;01mreturn\u001b[39;00m \u001b[43mrequest\u001b[49m\u001b[43m(\u001b[49m\u001b[33;43m\"\u001b[39;49m\u001b[33;43mpost\u001b[39;49m\u001b[33;43m\"\u001b[39;49m\u001b[43m,\u001b[49m\u001b[43m \u001b[49m\u001b[43murl\u001b[49m\u001b[43m,\u001b[49m\u001b[43m \u001b[49m\u001b[43mdata\u001b[49m\u001b[43m=\u001b[49m\u001b[43mdata\u001b[49m\u001b[43m,\u001b[49m\u001b[43m \u001b[49m\u001b[43mjson\u001b[49m\u001b[43m=\u001b[49m\u001b[43mjson\u001b[49m\u001b[43m,\u001b[49m\u001b[43m \u001b[49m\u001b[43m*\u001b[49m\u001b[43m*\u001b[49m\u001b[43mkwargs\u001b[49m\u001b[43m)\u001b[49m\n",
      "\u001b[36mFile \u001b[39m\u001b[32m~/miniconda3/envs/web-data-collection/lib/python3.12/site-packages/requests/api.py:59\u001b[39m, in \u001b[36mrequest\u001b[39m\u001b[34m(method, url, **kwargs)\u001b[39m\n\u001b[32m     55\u001b[39m \u001b[38;5;66;03m# By using the 'with' statement we are sure the session is closed, thus we\u001b[39;00m\n\u001b[32m     56\u001b[39m \u001b[38;5;66;03m# avoid leaving sockets open which can trigger a ResourceWarning in some\u001b[39;00m\n\u001b[32m     57\u001b[39m \u001b[38;5;66;03m# cases, and look like a memory leak in others.\u001b[39;00m\n\u001b[32m     58\u001b[39m \u001b[38;5;28;01mwith\u001b[39;00m sessions.Session() \u001b[38;5;28;01mas\u001b[39;00m session:\n\u001b[32m---> \u001b[39m\u001b[32m59\u001b[39m     \u001b[38;5;28;01mreturn\u001b[39;00m \u001b[43msession\u001b[49m\u001b[43m.\u001b[49m\u001b[43mrequest\u001b[49m\u001b[43m(\u001b[49m\u001b[43mmethod\u001b[49m\u001b[43m=\u001b[49m\u001b[43mmethod\u001b[49m\u001b[43m,\u001b[49m\u001b[43m \u001b[49m\u001b[43murl\u001b[49m\u001b[43m=\u001b[49m\u001b[43murl\u001b[49m\u001b[43m,\u001b[49m\u001b[43m \u001b[49m\u001b[43m*\u001b[49m\u001b[43m*\u001b[49m\u001b[43mkwargs\u001b[49m\u001b[43m)\u001b[49m\n",
      "\u001b[36mFile \u001b[39m\u001b[32m~/miniconda3/envs/web-data-collection/lib/python3.12/site-packages/requests/sessions.py:589\u001b[39m, in \u001b[36mSession.request\u001b[39m\u001b[34m(self, method, url, params, data, headers, cookies, files, auth, timeout, allow_redirects, proxies, hooks, stream, verify, cert, json)\u001b[39m\n\u001b[32m    584\u001b[39m send_kwargs = {\n\u001b[32m    585\u001b[39m     \u001b[33m\"\u001b[39m\u001b[33mtimeout\u001b[39m\u001b[33m\"\u001b[39m: timeout,\n\u001b[32m    586\u001b[39m     \u001b[33m\"\u001b[39m\u001b[33mallow_redirects\u001b[39m\u001b[33m\"\u001b[39m: allow_redirects,\n\u001b[32m    587\u001b[39m }\n\u001b[32m    588\u001b[39m send_kwargs.update(settings)\n\u001b[32m--> \u001b[39m\u001b[32m589\u001b[39m resp = \u001b[38;5;28;43mself\u001b[39;49m\u001b[43m.\u001b[49m\u001b[43msend\u001b[49m\u001b[43m(\u001b[49m\u001b[43mprep\u001b[49m\u001b[43m,\u001b[49m\u001b[43m \u001b[49m\u001b[43m*\u001b[49m\u001b[43m*\u001b[49m\u001b[43msend_kwargs\u001b[49m\u001b[43m)\u001b[49m\n\u001b[32m    591\u001b[39m \u001b[38;5;28;01mreturn\u001b[39;00m resp\n",
      "\u001b[36mFile \u001b[39m\u001b[32m~/miniconda3/envs/web-data-collection/lib/python3.12/site-packages/requests/sessions.py:703\u001b[39m, in \u001b[36mSession.send\u001b[39m\u001b[34m(self, request, **kwargs)\u001b[39m\n\u001b[32m    700\u001b[39m start = preferred_clock()\n\u001b[32m    702\u001b[39m \u001b[38;5;66;03m# Send the request\u001b[39;00m\n\u001b[32m--> \u001b[39m\u001b[32m703\u001b[39m r = \u001b[43madapter\u001b[49m\u001b[43m.\u001b[49m\u001b[43msend\u001b[49m\u001b[43m(\u001b[49m\u001b[43mrequest\u001b[49m\u001b[43m,\u001b[49m\u001b[43m \u001b[49m\u001b[43m*\u001b[49m\u001b[43m*\u001b[49m\u001b[43mkwargs\u001b[49m\u001b[43m)\u001b[49m\n\u001b[32m    705\u001b[39m \u001b[38;5;66;03m# Total elapsed time of the request (approximately)\u001b[39;00m\n\u001b[32m    706\u001b[39m elapsed = preferred_clock() - start\n",
      "\u001b[36mFile \u001b[39m\u001b[32m~/miniconda3/envs/web-data-collection/lib/python3.12/site-packages/requests/adapters.py:667\u001b[39m, in \u001b[36mHTTPAdapter.send\u001b[39m\u001b[34m(self, request, stream, timeout, verify, cert, proxies)\u001b[39m\n\u001b[32m    664\u001b[39m     timeout = TimeoutSauce(connect=timeout, read=timeout)\n\u001b[32m    666\u001b[39m \u001b[38;5;28;01mtry\u001b[39;00m:\n\u001b[32m--> \u001b[39m\u001b[32m667\u001b[39m     resp = \u001b[43mconn\u001b[49m\u001b[43m.\u001b[49m\u001b[43murlopen\u001b[49m\u001b[43m(\u001b[49m\n\u001b[32m    668\u001b[39m \u001b[43m        \u001b[49m\u001b[43mmethod\u001b[49m\u001b[43m=\u001b[49m\u001b[43mrequest\u001b[49m\u001b[43m.\u001b[49m\u001b[43mmethod\u001b[49m\u001b[43m,\u001b[49m\n\u001b[32m    669\u001b[39m \u001b[43m        \u001b[49m\u001b[43murl\u001b[49m\u001b[43m=\u001b[49m\u001b[43murl\u001b[49m\u001b[43m,\u001b[49m\n\u001b[32m    670\u001b[39m \u001b[43m        \u001b[49m\u001b[43mbody\u001b[49m\u001b[43m=\u001b[49m\u001b[43mrequest\u001b[49m\u001b[43m.\u001b[49m\u001b[43mbody\u001b[49m\u001b[43m,\u001b[49m\n\u001b[32m    671\u001b[39m \u001b[43m        \u001b[49m\u001b[43mheaders\u001b[49m\u001b[43m=\u001b[49m\u001b[43mrequest\u001b[49m\u001b[43m.\u001b[49m\u001b[43mheaders\u001b[49m\u001b[43m,\u001b[49m\n\u001b[32m    672\u001b[39m \u001b[43m        \u001b[49m\u001b[43mredirect\u001b[49m\u001b[43m=\u001b[49m\u001b[38;5;28;43;01mFalse\u001b[39;49;00m\u001b[43m,\u001b[49m\n\u001b[32m    673\u001b[39m \u001b[43m        \u001b[49m\u001b[43massert_same_host\u001b[49m\u001b[43m=\u001b[49m\u001b[38;5;28;43;01mFalse\u001b[39;49;00m\u001b[43m,\u001b[49m\n\u001b[32m    674\u001b[39m \u001b[43m        \u001b[49m\u001b[43mpreload_content\u001b[49m\u001b[43m=\u001b[49m\u001b[38;5;28;43;01mFalse\u001b[39;49;00m\u001b[43m,\u001b[49m\n\u001b[32m    675\u001b[39m \u001b[43m        \u001b[49m\u001b[43mdecode_content\u001b[49m\u001b[43m=\u001b[49m\u001b[38;5;28;43;01mFalse\u001b[39;49;00m\u001b[43m,\u001b[49m\n\u001b[32m    676\u001b[39m \u001b[43m        \u001b[49m\u001b[43mretries\u001b[49m\u001b[43m=\u001b[49m\u001b[38;5;28;43mself\u001b[39;49m\u001b[43m.\u001b[49m\u001b[43mmax_retries\u001b[49m\u001b[43m,\u001b[49m\n\u001b[32m    677\u001b[39m \u001b[43m        \u001b[49m\u001b[43mtimeout\u001b[49m\u001b[43m=\u001b[49m\u001b[43mtimeout\u001b[49m\u001b[43m,\u001b[49m\n\u001b[32m    678\u001b[39m \u001b[43m        \u001b[49m\u001b[43mchunked\u001b[49m\u001b[43m=\u001b[49m\u001b[43mchunked\u001b[49m\u001b[43m,\u001b[49m\n\u001b[32m    679\u001b[39m \u001b[43m    \u001b[49m\u001b[43m)\u001b[49m\n\u001b[32m    681\u001b[39m \u001b[38;5;28;01mexcept\u001b[39;00m (ProtocolError, \u001b[38;5;167;01mOSError\u001b[39;00m) \u001b[38;5;28;01mas\u001b[39;00m err:\n\u001b[32m    682\u001b[39m     \u001b[38;5;28;01mraise\u001b[39;00m \u001b[38;5;167;01mConnectionError\u001b[39;00m(err, request=request)\n",
      "\u001b[36mFile \u001b[39m\u001b[32m~/miniconda3/envs/web-data-collection/lib/python3.12/site-packages/urllib3/connectionpool.py:787\u001b[39m, in \u001b[36mHTTPConnectionPool.urlopen\u001b[39m\u001b[34m(self, method, url, body, headers, retries, redirect, assert_same_host, timeout, pool_timeout, release_conn, chunked, body_pos, preload_content, decode_content, **response_kw)\u001b[39m\n\u001b[32m    784\u001b[39m response_conn = conn \u001b[38;5;28;01mif\u001b[39;00m \u001b[38;5;129;01mnot\u001b[39;00m release_conn \u001b[38;5;28;01melse\u001b[39;00m \u001b[38;5;28;01mNone\u001b[39;00m\n\u001b[32m    786\u001b[39m \u001b[38;5;66;03m# Make the request on the HTTPConnection object\u001b[39;00m\n\u001b[32m--> \u001b[39m\u001b[32m787\u001b[39m response = \u001b[38;5;28;43mself\u001b[39;49m\u001b[43m.\u001b[49m\u001b[43m_make_request\u001b[49m\u001b[43m(\u001b[49m\n\u001b[32m    788\u001b[39m \u001b[43m    \u001b[49m\u001b[43mconn\u001b[49m\u001b[43m,\u001b[49m\n\u001b[32m    789\u001b[39m \u001b[43m    \u001b[49m\u001b[43mmethod\u001b[49m\u001b[43m,\u001b[49m\n\u001b[32m    790\u001b[39m \u001b[43m    \u001b[49m\u001b[43murl\u001b[49m\u001b[43m,\u001b[49m\n\u001b[32m    791\u001b[39m \u001b[43m    \u001b[49m\u001b[43mtimeout\u001b[49m\u001b[43m=\u001b[49m\u001b[43mtimeout_obj\u001b[49m\u001b[43m,\u001b[49m\n\u001b[32m    792\u001b[39m \u001b[43m    \u001b[49m\u001b[43mbody\u001b[49m\u001b[43m=\u001b[49m\u001b[43mbody\u001b[49m\u001b[43m,\u001b[49m\n\u001b[32m    793\u001b[39m \u001b[43m    \u001b[49m\u001b[43mheaders\u001b[49m\u001b[43m=\u001b[49m\u001b[43mheaders\u001b[49m\u001b[43m,\u001b[49m\n\u001b[32m    794\u001b[39m \u001b[43m    \u001b[49m\u001b[43mchunked\u001b[49m\u001b[43m=\u001b[49m\u001b[43mchunked\u001b[49m\u001b[43m,\u001b[49m\n\u001b[32m    795\u001b[39m \u001b[43m    \u001b[49m\u001b[43mretries\u001b[49m\u001b[43m=\u001b[49m\u001b[43mretries\u001b[49m\u001b[43m,\u001b[49m\n\u001b[32m    796\u001b[39m \u001b[43m    \u001b[49m\u001b[43mresponse_conn\u001b[49m\u001b[43m=\u001b[49m\u001b[43mresponse_conn\u001b[49m\u001b[43m,\u001b[49m\n\u001b[32m    797\u001b[39m \u001b[43m    \u001b[49m\u001b[43mpreload_content\u001b[49m\u001b[43m=\u001b[49m\u001b[43mpreload_content\u001b[49m\u001b[43m,\u001b[49m\n\u001b[32m    798\u001b[39m \u001b[43m    \u001b[49m\u001b[43mdecode_content\u001b[49m\u001b[43m=\u001b[49m\u001b[43mdecode_content\u001b[49m\u001b[43m,\u001b[49m\n\u001b[32m    799\u001b[39m \u001b[43m    \u001b[49m\u001b[43m*\u001b[49m\u001b[43m*\u001b[49m\u001b[43mresponse_kw\u001b[49m\u001b[43m,\u001b[49m\n\u001b[32m    800\u001b[39m \u001b[43m\u001b[49m\u001b[43m)\u001b[49m\n\u001b[32m    802\u001b[39m \u001b[38;5;66;03m# Everything went great!\u001b[39;00m\n\u001b[32m    803\u001b[39m clean_exit = \u001b[38;5;28;01mTrue\u001b[39;00m\n",
      "\u001b[36mFile \u001b[39m\u001b[32m~/miniconda3/envs/web-data-collection/lib/python3.12/site-packages/urllib3/connectionpool.py:464\u001b[39m, in \u001b[36mHTTPConnectionPool._make_request\u001b[39m\u001b[34m(self, conn, method, url, body, headers, retries, timeout, chunked, response_conn, preload_content, decode_content, enforce_content_length)\u001b[39m\n\u001b[32m    461\u001b[39m \u001b[38;5;28;01mtry\u001b[39;00m:\n\u001b[32m    462\u001b[39m     \u001b[38;5;66;03m# Trigger any extra validation we need to do.\u001b[39;00m\n\u001b[32m    463\u001b[39m     \u001b[38;5;28;01mtry\u001b[39;00m:\n\u001b[32m--> \u001b[39m\u001b[32m464\u001b[39m         \u001b[38;5;28;43mself\u001b[39;49m\u001b[43m.\u001b[49m\u001b[43m_validate_conn\u001b[49m\u001b[43m(\u001b[49m\u001b[43mconn\u001b[49m\u001b[43m)\u001b[49m\n\u001b[32m    465\u001b[39m     \u001b[38;5;28;01mexcept\u001b[39;00m (SocketTimeout, BaseSSLError) \u001b[38;5;28;01mas\u001b[39;00m e:\n\u001b[32m    466\u001b[39m         \u001b[38;5;28mself\u001b[39m._raise_timeout(err=e, url=url, timeout_value=conn.timeout)\n",
      "\u001b[36mFile \u001b[39m\u001b[32m~/miniconda3/envs/web-data-collection/lib/python3.12/site-packages/urllib3/connectionpool.py:1093\u001b[39m, in \u001b[36mHTTPSConnectionPool._validate_conn\u001b[39m\u001b[34m(self, conn)\u001b[39m\n\u001b[32m   1091\u001b[39m \u001b[38;5;66;03m# Force connect early to allow us to validate the connection.\u001b[39;00m\n\u001b[32m   1092\u001b[39m \u001b[38;5;28;01mif\u001b[39;00m conn.is_closed:\n\u001b[32m-> \u001b[39m\u001b[32m1093\u001b[39m     \u001b[43mconn\u001b[49m\u001b[43m.\u001b[49m\u001b[43mconnect\u001b[49m\u001b[43m(\u001b[49m\u001b[43m)\u001b[49m\n\u001b[32m   1095\u001b[39m \u001b[38;5;66;03m# TODO revise this, see https://github.com/urllib3/urllib3/issues/2791\u001b[39;00m\n\u001b[32m   1096\u001b[39m \u001b[38;5;28;01mif\u001b[39;00m \u001b[38;5;129;01mnot\u001b[39;00m conn.is_verified \u001b[38;5;129;01mand\u001b[39;00m \u001b[38;5;129;01mnot\u001b[39;00m conn.proxy_is_verified:\n",
      "\u001b[36mFile \u001b[39m\u001b[32m~/miniconda3/envs/web-data-collection/lib/python3.12/site-packages/urllib3/connection.py:753\u001b[39m, in \u001b[36mHTTPSConnection.connect\u001b[39m\u001b[34m(self)\u001b[39m\n\u001b[32m    751\u001b[39m \u001b[38;5;28;01mtry\u001b[39;00m:\n\u001b[32m    752\u001b[39m     sock: socket.socket | ssl.SSLSocket\n\u001b[32m--> \u001b[39m\u001b[32m753\u001b[39m     \u001b[38;5;28mself\u001b[39m.sock = sock = \u001b[38;5;28;43mself\u001b[39;49m\u001b[43m.\u001b[49m\u001b[43m_new_conn\u001b[49m\u001b[43m(\u001b[49m\u001b[43m)\u001b[49m\n\u001b[32m    754\u001b[39m     server_hostname: \u001b[38;5;28mstr\u001b[39m = \u001b[38;5;28mself\u001b[39m.host\n\u001b[32m    755\u001b[39m     tls_in_tls = \u001b[38;5;28;01mFalse\u001b[39;00m\n",
      "\u001b[36mFile \u001b[39m\u001b[32m~/miniconda3/envs/web-data-collection/lib/python3.12/site-packages/urllib3/connection.py:198\u001b[39m, in \u001b[36mHTTPConnection._new_conn\u001b[39m\u001b[34m(self)\u001b[39m\n\u001b[32m    193\u001b[39m \u001b[38;5;250m\u001b[39m\u001b[33;03m\"\"\"Establish a socket connection and set nodelay settings on it.\u001b[39;00m\n\u001b[32m    194\u001b[39m \n\u001b[32m    195\u001b[39m \u001b[33;03m:return: New socket connection.\u001b[39;00m\n\u001b[32m    196\u001b[39m \u001b[33;03m\"\"\"\u001b[39;00m\n\u001b[32m    197\u001b[39m \u001b[38;5;28;01mtry\u001b[39;00m:\n\u001b[32m--> \u001b[39m\u001b[32m198\u001b[39m     sock = \u001b[43mconnection\u001b[49m\u001b[43m.\u001b[49m\u001b[43mcreate_connection\u001b[49m\u001b[43m(\u001b[49m\n\u001b[32m    199\u001b[39m \u001b[43m        \u001b[49m\u001b[43m(\u001b[49m\u001b[38;5;28;43mself\u001b[39;49m\u001b[43m.\u001b[49m\u001b[43m_dns_host\u001b[49m\u001b[43m,\u001b[49m\u001b[43m \u001b[49m\u001b[38;5;28;43mself\u001b[39;49m\u001b[43m.\u001b[49m\u001b[43mport\u001b[49m\u001b[43m)\u001b[49m\u001b[43m,\u001b[49m\n\u001b[32m    200\u001b[39m \u001b[43m        \u001b[49m\u001b[38;5;28;43mself\u001b[39;49m\u001b[43m.\u001b[49m\u001b[43mtimeout\u001b[49m\u001b[43m,\u001b[49m\n\u001b[32m    201\u001b[39m \u001b[43m        \u001b[49m\u001b[43msource_address\u001b[49m\u001b[43m=\u001b[49m\u001b[38;5;28;43mself\u001b[39;49m\u001b[43m.\u001b[49m\u001b[43msource_address\u001b[49m\u001b[43m,\u001b[49m\n\u001b[32m    202\u001b[39m \u001b[43m        \u001b[49m\u001b[43msocket_options\u001b[49m\u001b[43m=\u001b[49m\u001b[38;5;28;43mself\u001b[39;49m\u001b[43m.\u001b[49m\u001b[43msocket_options\u001b[49m\u001b[43m,\u001b[49m\n\u001b[32m    203\u001b[39m \u001b[43m    \u001b[49m\u001b[43m)\u001b[49m\n\u001b[32m    204\u001b[39m \u001b[38;5;28;01mexcept\u001b[39;00m socket.gaierror \u001b[38;5;28;01mas\u001b[39;00m e:\n\u001b[32m    205\u001b[39m     \u001b[38;5;28;01mraise\u001b[39;00m NameResolutionError(\u001b[38;5;28mself\u001b[39m.host, \u001b[38;5;28mself\u001b[39m, e) \u001b[38;5;28;01mfrom\u001b[39;00m\u001b[38;5;250m \u001b[39m\u001b[34;01me\u001b[39;00m\n",
      "\u001b[36mFile \u001b[39m\u001b[32m~/miniconda3/envs/web-data-collection/lib/python3.12/site-packages/urllib3/util/connection.py:73\u001b[39m, in \u001b[36mcreate_connection\u001b[39m\u001b[34m(address, timeout, source_address, socket_options)\u001b[39m\n\u001b[32m     71\u001b[39m \u001b[38;5;28;01mif\u001b[39;00m source_address:\n\u001b[32m     72\u001b[39m     sock.bind(source_address)\n\u001b[32m---> \u001b[39m\u001b[32m73\u001b[39m \u001b[43msock\u001b[49m\u001b[43m.\u001b[49m\u001b[43mconnect\u001b[49m\u001b[43m(\u001b[49m\u001b[43msa\u001b[49m\u001b[43m)\u001b[49m\n\u001b[32m     74\u001b[39m \u001b[38;5;66;03m# Break explicitly a reference cycle\u001b[39;00m\n\u001b[32m     75\u001b[39m err = \u001b[38;5;28;01mNone\u001b[39;00m\n",
      "\u001b[31mKeyboardInterrupt\u001b[39m: "
     ]
    }
   ],
   "source": [
    "results_pages_per_query = 1\n",
    "start_date = \"2020-01-01\"\n",
    "end_date = \"2022-12-31\"\n",
    "\n",
    "webpages = retrieve_webpages(query_templates, results_pages_per_query, bright_data_config, variables)\n",
    "# webpages = retrieve_webpages(query_templates, results_pages_per_query, bright_data_config, variables, start_date, end_date, time_chunking=True)\n",
    "# webpages = retrieve_webpages(query_templates, results_pages_per_query, bright_data_config, variables, news_only=True)\n",
    "# webpages = retrieve_webpages(query_templates, results_pages_per_query, bright_data_config, variables, media_cloud_country=\"United States\", geolocation_country=\"United States\")\n",
    "\n",
    "# webpage_generator = retrieve_webpages_streaming(query_templates, results_pages_per_query, bright_data_config, variables)\n",
    "# for webpage in webpage_generator:\n",
    "#     print(webpage)"
   ]
  },
  {
   "cell_type": "code",
   "execution_count": 6,
   "metadata": {},
   "outputs": [
    {
     "name": "stdout",
     "output_type": "stream",
     "text": [
      "('Alabama GuideSafe',)\n",
      "Alabama GuideSafe COVID contact tracing app download count 10\n",
      "Alabama GuideSafe COVID app number of downloads 12\n",
      "Alabama GuideSafe COVID tracing app downloads reported 10\n",
      "('Arizona Covid Watch',)\n",
      "Arizona Covid Watch COVID contact tracing app download count 20\n",
      "Arizona Covid Watch COVID app number of downloads 7\n",
      "Arizona Covid Watch COVID tracing app downloads reported 1\n",
      "('California Covid Notify',)\n",
      "California Covid Notify COVID contact tracing app download count 18\n",
      "California Covid Notify COVID app number of downloads 6\n",
      "California Covid Notify COVID tracing app downloads reported 1\n",
      "('Colorado Exposure Notifications',)\n",
      "Colorado Exposure Notifications COVID contact tracing app download count 10\n",
      "Colorado Exposure Notifications COVID app number of downloads 1\n",
      "Colorado Exposure Notifications COVID tracing app downloads reported 9\n",
      "('Connecticut Covid Alert',)\n",
      "Connecticut Covid Alert COVID contact tracing app download count 17\n",
      "Connecticut Covid Alert COVID app number of downloads 11\n",
      "Connecticut Covid Alert COVID tracing app downloads reported 6\n"
     ]
    }
   ],
   "source": [
    "for w in webpages:\n",
    "    print(w)\n",
    "    for q in webpages[w]:\n",
    "        print(q, len(webpages[w][q]))"
   ]
  },
  {
   "cell_type": "code",
   "execution_count": 7,
   "metadata": {},
   "outputs": [
    {
     "data": {
      "text/plain": [
       "[{'link': 'https://www.guidesafe.org/exposure-notification-app/',\n",
       "  'title': \"Alabama's Exposure Notification App\",\n",
       "  'description': \"Here's How Alabama's GuideSafe™ Exposure Notification App Works: ... Step one: Download the GuideSafe™ Exposure Notification App from the App Store or Google Play ...\",\n",
       "  'query': 'Alabama GuideSafe COVID contact tracing app download count'},\n",
       " {'link': 'https://sites.uab.edu/guidesafebackup2/exposure-notification-app/',\n",
       "  'title': 'Exposure Notification App | GuideSafe™',\n",
       "  'description': 'Users of the GuideSafe™ Exposure Notification app can anonymously share a positive COVID-19 test result —and be anonymously notified of potential previous close ...',\n",
       "  'query': 'Alabama GuideSafe COVID contact tracing app download count'},\n",
       " {'link': 'https://www.al.com/news/2020/11/alabamas-covid-tracing-app-joins-nationwide-network.html',\n",
       "  'title': \"Alabama's COVID tracing app joins nationwide network\",\n",
       "  'description': \"That means the more than 150,000 users who have downloaded Alabama's version of the app will also be notified if they register as a close ...\",\n",
       "  'query': 'Alabama GuideSafe COVID contact tracing app download count'},\n",
       " {'link': 'https://statescoop.com/alabama-launches-contact-tracing-app-based-on-google-apple-api/',\n",
       "  'title': 'Alabama launches contact tracing app based on Google ...',\n",
       "  'description': 'According to Harris, GuideSafe has three components: The first is HealthCheck, a self-screening tool that asks users if they have any symptoms ...',\n",
       "  'query': 'Alabama GuideSafe COVID contact tracing app download count'},\n",
       " {'link': 'https://www.cbs42.com/news/alabamas-contact-tracing-app-expands-capabilities-still-very-few-have-downloaded-it/',\n",
       "  'title': \"Alabama's contact tracing app expands capabilities, still ...\",\n",
       "  'description': 'Just under 150000 people have the app compared to more than 5 million people that call Alabama home.',\n",
       "  'query': 'Alabama GuideSafe COVID contact tracing app download count'},\n",
       " {'link': 'https://pmc.ncbi.nlm.nih.gov/articles/PMC8379000/',\n",
       "  'title': 'A survey of COVID-19 contact-tracing apps - PMC',\n",
       "  'description': 'We survey the current contact-tracing apps and organize them based on underlying technologies such as Bluetooth, Wi-Fi, GPS, geofencing, and Quick Response (QR ...',\n",
       "  'query': 'Alabama GuideSafe COVID contact tracing app download count'},\n",
       " {'link': 'https://www.montgomeryadvertiser.com/story/news/2020/08/17/alabama-releases-guidesafe-coronvirus-contact-tracing-app-general-public/5599036002/',\n",
       "  'title': 'Alabama rolls out contact tracing app piloted at colleges',\n",
       "  'description': 'Developers of a smartphone app designed to contact trace coronavirus exposures are making the program available to the Alabama public after ...',\n",
       "  'query': 'Alabama GuideSafe COVID contact tracing app download count'},\n",
       " {'link': 'https://www.guidesafe.org/',\n",
       "  'title': 'GuideSafe™ | The tools and resources to help fight COVID-19 ...',\n",
       "  'description': 'Stop the Spread of COVID in Alabama. Get the App. Download now. download on the apple app store get it on google play. Developed by a team of experts at the ...',\n",
       "  'query': 'Alabama GuideSafe COVID contact tracing app download count'},\n",
       " {'link': 'https://ijoc.org/index.php/ijoc/article/viewFile/19621/4076',\n",
       "  'title': 'Contact-Tracing Apps as Boundary Objects of Pandemic ...',\n",
       "  'description': 'Among dozens of statewide contact-tracing apps, we selected three—CA Notify (California), COVID Alert NY (New York), and GuideSafe (Alabama)—to ...',\n",
       "  'query': 'Alabama GuideSafe COVID contact tracing app download count'},\n",
       " {'link': 'https://www.al.com/news/2020/08/alabama-launches-statewide-coronavirus-tracking-app.html',\n",
       "  'title': 'Alabama launches statewide coronavirus tracking app',\n",
       "  'description': 'The GuideSafe Exposure Notification App is free to download and available to all Alabama residents with iPhone and Android devices. It ...',\n",
       "  'query': 'Alabama GuideSafe COVID contact tracing app download count'},\n",
       " {'link': 'https://www.wbrc.com/2020/10/23/alabama-covid-exposure-app-grows-with-more-than-downloads/',\n",
       "  'title': 'Alabama COVID-19 exposure app grows with more than ...',\n",
       "  'description': \"Alabama COVID-19 exposure app grows with more than 100,000 downloads ... The GuideSafe Exposure Notification app isn't just for college ...\",\n",
       "  'query': 'Alabama GuideSafe COVID app number of downloads'},\n",
       " {'link': 'https://www.wbrc.com/2020/09/18/guidesafe-supporters-want-more-downloads-covid-exposure-notification-app/',\n",
       "  'title': 'GuideSafe supporters want more downloads of COVID ...',\n",
       "  'description': 'School officials provided an update on the program Friday. So far, there have been 62,000 downloads of the Guidesafe app.',\n",
       "  'query': 'Alabama GuideSafe COVID app number of downloads'},\n",
       " {'link': 'https://www.rocketcitynow.com/video/news/local/alabama-guidesafe-covid-19-app/525-973f3a54-d4f6-4c9e-aa29-f6b7000ae470',\n",
       "  'title': \"Alabama's GuideSafe app notifies you of COVID-19 exposure\",\n",
       "  'description': 'The GuideSafe app was released in August. Over 93000 people have already downloaded it.',\n",
       "  'query': 'Alabama GuideSafe COVID app number of downloads'},\n",
       " {'link': 'https://whnt.com/news/coronavirus/alabamas-contact-tracing-app-expands-capabilities-still-very-few-have-downloaded-it/',\n",
       "  'title': \"Alabama's contact tracing app expands capabilities, still ...\",\n",
       "  'description': 'Medical professionals say the expanded capabilities of Guidesafe could be a game changer. However, just under 150,000 people have the app ...',\n",
       "  'query': 'Alabama GuideSafe COVID app number of downloads'},\n",
       " {'link': 'https://news.ua.edu/2020/08/fight-covid-19-with-guidesafe-exposure-notification-app/',\n",
       "  'title': 'Fight COVID-19 with GuideSafe Exposure Notification App',\n",
       "  'description': 'Download the COVID-19 Exposure Notification App for free to your iPhone or Android device or by searching “GuideSafe” in the app store. · The app ...',\n",
       "  'query': 'Alabama GuideSafe COVID app number of downloads'},\n",
       " {'link': 'https://alabamanewscenter.com/2020/09/03/guidesafe-may-be-secret-weapon-against-covid-19-for-alabama-to-get-back-to-normal/',\n",
       "  'title': 'GuideSafe may be secret weapon against COVID-19 for ...',\n",
       "  'description': 'GuideSafe may be secret weapon against COVID-19 for Alabama to get back to normal - Alabama News Center.',\n",
       "  'query': 'Alabama GuideSafe COVID app number of downloads'},\n",
       " {'link': 'https://www.wsfa.com/2020/08/17/alabamians-urged-download-covid-exposure-app/',\n",
       "  'title': 'Alabamians urged to download COVID-19 exposure app',\n",
       "  'description': '... app aimed at alerting people if they were possibly exposed to COVID-19. People can voluntarily download the GuideSafe Exposure Notification App.',\n",
       "  'query': 'Alabama GuideSafe COVID app number of downloads'},\n",
       " {'link': 'https://m.facebook.com/UAB.edu/videos/guidesafe-exposure-notification-app-launches-statewide/308135187177645/',\n",
       "  'title': 'GuideSafe Exposure Notification App Launches Statewide | By ...',\n",
       "  'description': 'We know that from our numbers since we began reporting COVID-19 in Alabama in March of 2020 that we now have as of yesterday over 108, 000 cases of COVID-19 ...',\n",
       "  'query': 'Alabama GuideSafe COVID app number of downloads'},\n",
       " {'link': 'https://facultysenate.ua.edu/guidesafe-contact-notification-app/',\n",
       "  'title': 'GuideSafe Contact Notification App - Faculty Senate',\n",
       "  'description': \"There has been a lack of details and many concerns over the UA System's promotion of the GuideSafe COVID-19 contact tracing “app”, ...\",\n",
       "  'query': 'Alabama GuideSafe COVID app number of downloads'},\n",
       " {'link': 'https://www.youtube.com/watch?v=-QBcypdNhEQ',\n",
       "  'title': \"Alabama's GuideSafe app notifies you of COVID-19 exposure\",\n",
       "  'description': \"The GuideSafe app was released in August. Over 93000 people have already downloaded ... Alabama's GuideSafe app notifies you of COVID-19 exposure.\",\n",
       "  'query': 'Alabama GuideSafe COVID app number of downloads'},\n",
       " {'link': 'https://www.instagram.com/p/CEXjb0hH9Gj/',\n",
       "  'title': 'The University of Alabama | Want to ...',\n",
       "  'description': 'Want to help us beat the spread of COVID-19? Download the GuideSafe Exposure Notification App! This app will anonymously notify you if you ...',\n",
       "  'query': 'Alabama GuideSafe COVID app number of downloads'},\n",
       " {'link': 'https://ocm.auburn.edu/newsroom/news_articles/2020/08/131600-guidesafe-platform.php',\n",
       "  'title': 'Auburn to require students to self-screen beginning Aug. 17 ...',\n",
       "  'description': \"17, supporting Alabama's GuideSafe™ platform. Published: August 13 ... COVID-19 for students in all Alabama public and private institutions.\",\n",
       "  'query': 'Alabama GuideSafe COVID app number of downloads'},\n",
       " {'link': 'https://pmc.ncbi.nlm.nih.gov/articles/PMC9366094/#:~:text=As%20of%201%20October%202021,positive%20tests%20had%20been%20reported.',\n",
       "  'title': 'User perceptions about sharing exposure notification ...',\n",
       "  'description': '',\n",
       "  'query': 'Alabama GuideSafe COVID tracing app downloads reported'},\n",
       " {'link': 'https://foxdata.com/en/app-marketing-analytics/1519514691/as/US/',\n",
       "  'title': 'Mobile App Reports - Data Analytics & Marketing Trends',\n",
       "  'description': 'Help stop COVID-19 in Alabama. Use the GuideSafe™ Exposure Notification app to anonymously share a positive COVID-19 test result — and be ...',\n",
       "  'query': 'Alabama GuideSafe COVID tracing app downloads reported'},\n",
       " {'link': 'https://abc3340.com/news/local/alabama-college-students-encouraged-to-download-covid-19-contact-tracing-app-08-11-2020',\n",
       "  'title': 'Alabama college students encouraged to download COVID ...',\n",
       "  'description': \"App users will self-report if they test positive for COVID-19. The app will use Bluetooth technology to determine if you've been in contact with ...\",\n",
       "  'query': 'Alabama GuideSafe COVID tracing app downloads reported'},\n",
       " {'link': 'https://x.com/guidesafe_org',\n",
       "  'title': 'GuideSafe™ (@guidesafe_org) / X',\n",
       "  'description': 'Aug 17, 2020. The GuideSafe™ Exposure Notification App is officially available statewide! Help stop the spread of COVID-19 in Alabama by downloading the app ...',\n",
       "  'query': 'Alabama GuideSafe COVID tracing app downloads reported'},\n",
       " {'link': 'https://www.guidesafe.org/media/newsroom/',\n",
       "  'title': 'Newsroom',\n",
       "  'description': 'GuideSafe supporters want more downloads of COVID exposure notification app ... University of Alabama System to Push Contact Tracing App, Require Online Health ...',\n",
       "  'query': 'Alabama GuideSafe COVID tracing app downloads reported'},\n",
       " {'link': 'https://www.govtech.com/health/tracing-app-pilot-at-alabama-universities-to-be-made-public.html',\n",
       "  'title': 'Tracing App Pilot at Alabama Universities to Be Made Public',\n",
       "  'description': 'A contact tracing app that was used to track the novel coronavirus across universities in the state is being made available to the general public.',\n",
       "  'query': 'Alabama GuideSafe COVID tracing app downloads reported'},\n",
       " {'link': 'https://www.apr.org/news/2020-08-19/guidesafe-app-available-for-contact-tracing-in-alabama',\n",
       "  'title': 'GuideSafe app available for contact tracing in Alabama',\n",
       "  'description': 'Alabamians can now download a mobile app that informs users of potential exposure of COVID-19. Alabama is one of the first states in the U.S. to launch the ...',\n",
       "  'query': 'Alabama GuideSafe COVID tracing app downloads reported'},\n",
       " {'link': 'https://www.ruralhealthinfo.org/toolkits/emergency-preparedness/case-studies/infectious-disease/university-alabama-birmingham',\n",
       "  'title': 'COVID-19 Symptom Tracking and Exposure Notification ...',\n",
       "  'description': 'The third project was the GuideSafe Exposure Notification App, a resource available for download on smartphones for Alabama residents. This ...',\n",
       "  'query': 'Alabama GuideSafe COVID tracing app downloads reported'},\n",
       " {'link': 'https://wbhm.org/2020/covid-19-tracking-app-available-to-the-public/',\n",
       "  'title': 'COVID-19 Tracking App Available To The Public',\n",
       "  'description': 'A phone app built by UAB and Birmingham-based MotionMobs that anonymously tracks COVID-19 exposure became available Monday to all Alabama residents.',\n",
       "  'query': 'Alabama GuideSafe COVID tracing app downloads reported'},\n",
       " {'link': 'https://mynbc15.com/news/coronavirus/alabama-coronavirus-app-part-of-growing-multistate-network',\n",
       "  'title': 'Alabama coronavirus app part of growing multistate network',\n",
       "  'description': \"An app that's been used in Alabama to warn people that they might have been exposed to the coronavirus is joining a growing network in other ...\",\n",
       "  'query': 'Alabama GuideSafe COVID tracing app downloads reported'},\n",
       " {'link': 'https://wehealth.org/covidwatchorg/news',\n",
       "  'title': 'News and Media | Covid Watch',\n",
       "  'description': 'UArizona is launching a new mobile app that lets students know anonymously if they have been exposed to COVID-19. August 19, 2020.',\n",
       "  'query': 'Arizona Covid Watch COVID contact tracing app download count'},\n",
       " {'link': 'https://news.arizona.edu/news/how-smartphone-app-and-contact-tracing-helped-keep-uarizona-open-and-curb-covid-19-spread',\n",
       "  'title': 'How a Smartphone App and Contact Tracing Helped Keep ...',\n",
       "  'description': 'Since its launch in August, the Covid Watch Arizona exposure notification app has helped reduce the average number of people infected on ...',\n",
       "  'query': 'Arizona Covid Watch COVID contact tracing app download count'},\n",
       " {'link': 'https://edscoop.com/university-arizona-contact-tracing-reduced-covid19-12-percent/',\n",
       "  'title': 'U. Arizona claims contact-tracing app reduced COVID-19 ...',\n",
       "  'description': 'The university estimates that about 14,000 people on the campus have downloaded the app, which is called Covid Watch Arizona. The app is based ...',\n",
       "  'query': 'Arizona Covid Watch COVID contact tracing app download count'},\n",
       " {'link': 'https://physiology.arizona.edu/news/2020/uarizona-and-covid-watch-launch-covid-19-exposure-notification-app',\n",
       "  'title': 'UArizona and Covid Watch Launch COVID-19 Exposure ...',\n",
       "  'description': 'University of Arizona students, faculty and staff can now download and opt in to the Covid Watch exposure notification smartphone app, ...',\n",
       "  'query': 'Arizona Covid Watch COVID contact tracing app download count'},\n",
       " {'link': 'https://wehealth.org/covidwatchorg/public-health',\n",
       "  'title': 'Covid Watch for Public Health',\n",
       "  'description': 'Our exposure notification app and platform for public health can help augment contact tracing in your jurisdiction. Contact Covid Watch to find out more.',\n",
       "  'query': 'Arizona Covid Watch COVID contact tracing app download count'},\n",
       " {'link': 'https://ktar.com/arizona-news/covid-19-exposure-notification-app-launched-in-arizona-never-reached-full-potential/4598971/',\n",
       "  'title': 'COVID-19 exposure app launched in Arizona never ...',\n",
       "  'description': \"The Covid Watch Arizona app is still in circulation and has 93,000 downloads to date. However, Sonora Quest, the state's largest COVID-19 ...\",\n",
       "  'query': 'Arizona Covid Watch COVID contact tracing app download count'},\n",
       " {'link': 'https://abcnews.go.com/US/smartphone-app-alerts-university-arizona-students-exposed-covid/story?id=72580199',\n",
       "  'title': 'Smartphone app alerts University of Arizona students if they ...',\n",
       "  'description': 'So far the Covid Watch app has been downloaded more than 9,800 times. \"This is one of the first in the U.S. to be released, that is fully ...',\n",
       "  'query': 'Arizona Covid Watch COVID contact tracing app download count'},\n",
       " {'link': 'https://play.google.com/store/apps/details?id=gov.azdhs.covidwatch.android&hl=en_US',\n",
       "  'title': 'PHapp AZ - Apps on Google Play',\n",
       "  'description': \"Whether it's severe weather warnings, public health updates, or local emergency notices, our app keeps you connected to real-time information from verified ...\",\n",
       "  'query': 'Arizona Covid Watch COVID contact tracing app download count'},\n",
       " {'link': 'https://azpha.org/2022/08/30/arizona-has-a-covid-19-exposure-notification-tool-now-and-its-free/',\n",
       "  'title': 'Arizona Has a COVID-19 Exposure Notification Tool Now ...',\n",
       "  'description': 'Download the Wehealth Arizona app. If anyone tests positive for Covid-19, they can choose to anonymously share that with the app. Other app ...',\n",
       "  'query': 'Arizona Covid Watch COVID contact tracing app download count'},\n",
       " {'link': 'https://www.technologyreview.com/2020/12/14/1014426/covid-california-contact-tracing-app-america-states/',\n",
       "  'title': \"Contact tracing apps now cover nearly half of America. It's ...\",\n",
       "  'description': \"Almost half of all Americans now live somewhere covered by an app that will warn them if they've been close to someone with covid-19.\",\n",
       "  'query': 'Arizona Covid Watch COVID contact tracing app download count'},\n",
       " {'link': 'https://www.kold.com/2020/08/19/uarizona-releases-covid-tracking-app/',\n",
       "  'title': 'University of Arizona releases COVID tracking app - KOLD.com',\n",
       "  'description': \"Officially released Wednesday, Aug. 19, the COVID Watch app is the latest release in the university's return-to-campus strategy—along with 160 ...\",\n",
       "  'query': 'Arizona Covid Watch COVID contact tracing app download count'},\n",
       " {'link': 'https://pmc.ncbi.nlm.nih.gov/articles/PMC8194594/',\n",
       "  'title': 'Usability, inclusivity, and content evaluation of COVID-19 ...',\n",
       "  'description': 'We evaluated the usability of mobile COVID-19 contact tracing apps, especially for individuals with barriers to communication and limited digital literacy ...',\n",
       "  'query': 'Arizona Covid Watch COVID contact tracing app download count'},\n",
       " {'link': 'https://en.wikipedia.org/wiki/COVID-19_apps',\n",
       "  'title': 'COVID-19 apps',\n",
       "  'description': 'COVID-19 apps include mobile-software applications for digital contact-tracing—i.e. the process of identifying persons (\"contacts\") who may have been in contact ...',\n",
       "  'query': 'Arizona Covid Watch COVID contact tracing app download count'},\n",
       " {'link': 'https://www.cnbc.com/2020/10/03/covid-app-exposure-notification-apple-google.html',\n",
       "  'title': 'Apple-Google coronavirus tracking tech used in U.S.',\n",
       "  'description': \"New Jersey's app had been downloaded more than 63,000 times on Friday, according to a tracker inside the app. Apple, Google hit setback in ...\",\n",
       "  'query': 'Arizona Covid Watch COVID contact tracing app download count'},\n",
       " {'link': 'https://www.reddit.com/r/CoronavirusAZ/comments/kg8s6j/uarizona_says_contact_tracing_app_has_reduced/',\n",
       "  'title': 'UArizona says contact tracing app has reduced ...',\n",
       "  'description': \"Just search “COVID Watch Arizona” in the Apple app or Google play store. It's free. It will work better if more people know about it and use it.\",\n",
       "  'query': 'Arizona Covid Watch COVID contact tracing app download count'},\n",
       " {'link': 'https://nashp.org/state-tracker/state-approaches-to-contact-tracing-during-the-covid-19-pandemic/',\n",
       "  'title': 'State Approaches to Contact Tracing during the COVID-19 ...',\n",
       "  'description': 'In July 2021, the state ended its digital contact tracing program, but the app is still available for download. ... Covid Watch Arizona app. In ...',\n",
       "  'query': 'Arizona Covid Watch COVID contact tracing app download count'},\n",
       " {'link': 'https://edscoop.com/university-contact-tracing-apps-privacy-reception/',\n",
       "  'title': 'At universities, contact tracing app reception hinges on ...',\n",
       "  'description': 'At the University of Arizona, students, faculty and staff can now download the Covid Watch app, and opt in to providing anonymous health data, ...',\n",
       "  'query': 'Arizona Covid Watch COVID contact tracing app download count'},\n",
       " {'link': 'https://repository.stcloudstate.edu/cgi/viewcontent.cgi?article=1163&context=msia_etds',\n",
       "  'title': 'Privacy and Security Implications in COVID-19 Tracking ...',\n",
       "  'description': 'According to Helpnet Security (2020), 85% of COVID-19 tracking apps leak data. Infosecurity-magazine (2020) reports, a Dutch COVID-19 tracking app leaked 200 ...',\n",
       "  'query': 'Arizona Covid Watch COVID contact tracing app download count'},\n",
       " {'link': 'https://www.medrxiv.org/content/10.1101/2021.02.02.21251022v7.full.pdf',\n",
       "  'title': 'Quantifying meaningful usage of a SARS-CoV-2 exposure ...',\n",
       "  'description': 'App usage was similar in this group who reported no contacts: 38.4% (116/302) had downloaded the. Covid Watch app, 52.6% (61/116) of whom had ...',\n",
       "  'query': 'Arizona Covid Watch COVID contact tracing app download count'},\n",
       " {'link': 'https://www.usatoday.com/story/tech/columnist/2020/08/25/google-and-apple-supported-coronavirus-tracking-apps-land-states/3435214001/',\n",
       "  'title': 'COVID-19 tracking apps, supported by Apple and Google ...',\n",
       "  'description': 'The University of Arizona is testing Covid Watch Arizona, with a statewide release expected soon. They work by sharing anonymous Bluetooth ...',\n",
       "  'query': 'Arizona Covid Watch COVID contact tracing app download count'},\n",
       " {'link': 'https://news.arizona.edu/news/uarizona-and-covid-watch-launch-covid-19-exposure-notification-app',\n",
       "  'title': 'UArizona and Covid Watch Launch COVID-19 Exposure ...',\n",
       "  'description': 'UArizona students, faculty and staff can now download the Covid Watch exposure notification app, which allows users diagnosed with COVID-19 ...',\n",
       "  'query': 'Arizona Covid Watch COVID app number of downloads'},\n",
       " {'link': 'https://www.azdhs.gov/documents/privacy-policy/covid-watch-application-privacy-policy.pdf',\n",
       "  'title': 'Privacy Policy',\n",
       "  'description': 'Arizona, Arizona State University and Northern Arizona University developed the \\u200bCovid Watch. Arizona mobile application (the “App”) to help ...',\n",
       "  'query': 'Arizona Covid Watch COVID app number of downloads'},\n",
       " {'link': 'https://www.medrxiv.org/content/10.1101/2021.02.02.21251022v3.full.pdf',\n",
       "  'title': 'Quantifying meaningful adoption of a SARS-CoV-2 ...',\n",
       "  'description': 'The University of Arizona community. 42 piloted the Covid Watch app, which through the Google/Apple Exposure Notification API. 43. (GAEN), uses ...',\n",
       "  'query': 'Arizona Covid Watch COVID app number of downloads'},\n",
       " {'link': 'https://www.kgun9.com/news/coronavirus/new-smartphone-app-tracks-users-exposure-to-covid-19',\n",
       "  'title': \"New smartphone app tracks users' exposure to COVID-19\",\n",
       "  'description': 'The app is called \"COVID Watch.\" Once downloaded and installed, the app notes nearby Bluetooth signals of other mobile devices with the app ...',\n",
       "  'query': 'Arizona Covid Watch COVID app number of downloads'},\n",
       " {'link': 'https://pmc.ncbi.nlm.nih.gov/articles/PMC9357651/',\n",
       "  'title': 'A Brief History of Exposure Notification During the COVID- ...',\n",
       "  'description': 'As of early May 2021, more than 36 million people in the United States had downloaded an exposure notification app or activated ENX on their devices. Self- ...',\n",
       "  'query': 'Arizona Covid Watch COVID app number of downloads'},\n",
       " {'link': 'https://news.azpm.org/p/uanews/2020/9/28/180903-ua-covid-watch-app-is-now-on-30000-devices/',\n",
       "  'title': 'UA COVID Watch app is now on 30000 devices',\n",
       "  'description': 'About 30 thousand people have installed the COVID Watch Arizona app on their mobile devices. One of its co-creators says the app has alerted ...',\n",
       "  'query': 'Arizona Covid Watch COVID app number of downloads'},\n",
       " {'link': 'https://www.gilbertaz.gov/community/residents/covid-19-information/economic-development',\n",
       "  'title': 'COVID-19 Information: Economic Development',\n",
       "  'description': 'The Office of Economic Development supports the attraction, growth, and retention of business and industry for the community. If you are seeking general ...',\n",
       "  'query': 'Arizona Covid Watch COVID app number of downloads'},\n",
       " {'link': 'https://www.reddit.com/r/CoronavirusAZ/comments/rfo9gw/covid_watch_arizona_app_did_anybody_else_get_a/?utm_source=amp&utm_medium=',\n",
       "  'title': 'Covid Watch Arizona app - did anybody else get a ...',\n",
       "  'description': \"I've had this app since they went live, or near it and I've never gotten a notification about exposure. My guess is not many people use any of ...\",\n",
       "  'query': 'Arizona Covid Watch COVID tracing app downloads reported'},\n",
       " {'link': 'https://www.cdph.ca.gov/Programs/CID/DCDC/Pages/CANotify/CANotifyMain.aspx',\n",
       "  'title': 'CA Notify Home - CDPH - CA.gov',\n",
       "  'description': 'As of May 11, 2023, the CA Notify COVID-19 exposure notification system is no longer available. Please visit CDPH COVID-19 Resources for more information.',\n",
       "  'query': 'California Covid Notify COVID contact tracing app download count'},\n",
       " {'link': 'https://www.fhcsd.org/ca-notify/',\n",
       "  'title': 'CA Notify | COVID-19 Exposure Notifications',\n",
       "  'description': 'CA Notify is a phone application that will inform Californians if they have been exposed to someone who has tested positive for COVID-19.',\n",
       "  'query': 'California Covid Notify COVID contact tracing app download count'},\n",
       " {'link': 'https://www.sacbee.com/news/coronavirus/article249875513.html',\n",
       "  'title': \"California's COVID-19 contact tracing app off to slow start\",\n",
       "  'description': 'About 100,000 people have received exposure alerts from the CA Notify app since it was released in December. During that same time, nearly 2 ...',\n",
       "  'query': 'California Covid Notify COVID contact tracing app download count'},\n",
       " {'link': 'https://www.nascio.org/awards-library/awards/ca-notify-getting-to-immunity-with-automated-reporting/',\n",
       "  'title': 'CA Notify:',\n",
       "  'description': 'CA Notify offered a digital and innovative solution that made contact tracing anonymous and easy, and erased the stigma of reporting COVID-19 positivity at the ...',\n",
       "  'query': 'California Covid Notify COVID contact tracing app download count'},\n",
       " {'link': 'https://www.chcf.org/resource/preliminary-research-suggests-covid-19-warning-app-slowed-transmission-virus/',\n",
       "  'title': 'Preliminary Research Suggests COVID-19 Warning App ...',\n",
       "  'description': 'More than nine million Californians – about one-third of residents over 18 – have enabled the CA Notify app.',\n",
       "  'query': 'California Covid Notify COVID contact tracing app download count'},\n",
       " {'link': 'https://www.latimes.com/california/story/2020-12-13/ca-notify-smartphone-covid-alerts-4-million-californians',\n",
       "  'title': 'Smartphone COVID alert system signs up 4 million ...',\n",
       "  'description': 'iPhones: Update to iOS to 13.7 or later. Go to Settings, scroll to Exposure Notifications, and turn it on. Android: Download the CA Notify app ...',\n",
       "  'query': 'California Covid Notify COVID contact tracing app download count'},\n",
       " {'link': 'https://time.com/5921518/covid-exposure-notification-apps/',\n",
       "  'title': 'People Are Finally Downloading COVID-19 Notification Apps',\n",
       "  'description': \"CA app will send notifications to a user's cell phone alerting them if they have been in close proximity to someone who has tested positive for coronavirus.\",\n",
       "  'query': 'California Covid Notify COVID contact tracing app download count'},\n",
       " {'link': 'https://www.cdph.ca.gov/Programs/OPA/CDPH%20Document%20Library/Toolkits/ca_notify/CA-notify-FAQ.pdf',\n",
       "  'title': 'CA Notify: Frequently Asked Questions - CDPH',\n",
       "  'description': \"CA Notify is a free exposure notification system for smartphones—made possible by the California Department of Public Health—to alert you if you've been exposed.\",\n",
       "  'query': 'California Covid Notify COVID contact tracing app download count'},\n",
       " {'link': 'https://www.theverge.com/22168473/coronavirus-contact-tracing-apps-exposure-notification-covid-google-apple',\n",
       "  'title': \"Contact tracing apps promised big and didn't deliver\",\n",
       "  'description': 'Fewer than 3,000 of the 180,000 people who tested positive since the app launched had it installed, and only around 800 people were notified of ...',\n",
       "  'query': 'California Covid Notify COVID contact tracing app download count'},\n",
       " {'link': 'https://covid-19.ucla.edu/covid-notify/',\n",
       "  'title': 'CA COVID Notify - COVID-19 and vaccine resources',\n",
       "  'description': 'CA COVID Notify is available to all Californians. As such, users may be tested for COVID-19 at an expansive number of sites across the state.',\n",
       "  'query': 'California Covid Notify COVID contact tracing app download count'},\n",
       " {'link': 'https://www.cnbc.com/2020/12/12/ca-notify-coronavirus-app-gets-4-million-activations-in-first-day.html',\n",
       "  'title': 'CA Notify coronavirus app gets 4 million activations in first ...',\n",
       "  'description': 'CA Notify is based on technology built by Apple and Google earlier this year called exposure notifications.',\n",
       "  'query': 'California Covid Notify COVID contact tracing app download count'},\n",
       " {'link': 'http://newamerica.org/pit/briefs/the-mixed-success-of-covid-exposure-notification-apps/',\n",
       "  'title': 'The Mixed Success of COVID Exposure Notification Apps',\n",
       "  'description': 'CA Notify is available to both Android and iPhone users equally, but their ease of use varies. While iPhone users only need to enable exposure ...',\n",
       "  'query': 'California Covid Notify COVID contact tracing app download count'},\n",
       " {'link': 'https://www.eff.org/deeplinks/2020/12/ca-notify-app-useful-arrow-fight-against-covid-19',\n",
       "  'title': 'California Has a New COVID Exposure Notification App',\n",
       "  'description': 'Today California joined dozens of other states and countries in launching its COVID-19 exposure notification app, CA Notify, built on Google ...',\n",
       "  'query': 'California Covid Notify COVID contact tracing app download count'},\n",
       " {'link': 'https://www.reddit.com/r/bayarea/comments/kai2ty/anyone_here_download_the_ca_notify_app_cas/',\n",
       "  'title': \"Anyone here download the CA Notify app (CA's Contact ...\",\n",
       "  'description': \"If you download one of these apps, it will use your phone's Bluetooth chip to do what Bluetooth does: emit little radio pings to find other ...\",\n",
       "  'query': 'California Covid Notify COVID contact tracing app download count'},\n",
       " {'link': 'https://calhospital.org/ca-covid-notify-on-demand-learning/',\n",
       "  'title': 'CA Notify: A New App to Speed COVID Exposure ...',\n",
       "  'description': \"CA COVID Notify will be available for download Dec. 10. Installing the app right away is key to aid in quick detection later. The app uses a smartphone's ...\",\n",
       "  'query': 'California Covid Notify COVID contact tracing app download count'},\n",
       " {'link': 'https://www.jmir.org/2021/3/e25726/',\n",
       "  'title': 'Adoption of COVID-19 Contact Tracing Apps',\n",
       "  'description': 'Estimated adoption rate based on number of downloads ... Download the COVID Alert mobile app to protect yourself and your community.',\n",
       "  'query': 'California Covid Notify COVID contact tracing app download count'},\n",
       " {'link': 'https://journals.plos.org/digitalhealth/article?id=10.1371/journal.pdig.0000287',\n",
       "  'title': 'Digital exposure notification tools: A global landscape ...',\n",
       "  'description': 'This study provides an overview of the global landscape of COVID-19 mobile apps, highlighting the prevalence of exposure notification tools and other app ...',\n",
       "  'query': 'California Covid Notify COVID contact tracing app download count'},\n",
       " {'link': 'https://www.youtube.com/watch?v=E8Y-lPxZ80U',\n",
       "  'title': 'California CA Notify App | COVID 19 Contact Tracing',\n",
       "  'description': 'California CA Notify App - COVID 19 Contact Tracing What you need to know about the California CA Notify App... Luis Alvarez covers what you ...',\n",
       "  'query': 'California Covid Notify COVID contact tracing app download count'},\n",
       " {'link': 'https://www.sacbee.com/news/california/article257189242.html',\n",
       "  'title': 'Remember COVID-19 phone alerts? California app ...',\n",
       "  'description': 'The CA Notify app has been downloaded more than 15.6 million times since Gov. Gavin Newsom announced it in late 2020. Since then, an estimated ...',\n",
       "  'query': 'California Covid Notify COVID app number of downloads'},\n",
       " {'link': 'https://www.cmadocs.org/newsroom/news/view/ArticleId/49136/CA-Notify-app-to-offer-COVID-19-exposure-notification',\n",
       "  'title': 'CA Notify app to offer COVID-19 exposure notification',\n",
       "  'description': 'Download the \"CMADocs\" app today from the Apple or Google Play app stores for daily news updates, events calendar, resource library and more.',\n",
       "  'query': 'California Covid Notify COVID app number of downloads'},\n",
       " {'link': 'https://california100.org/ca-notify-innovative-alert-system-to-help-slow-the-spread-of-covid-19/',\n",
       "  'title': 'CA Notify: Innovative Alert System To Help Slow The ...',\n",
       "  'description': 'California Notify is a breakthrough application that exists at the intersection of public health, technology and public policy.',\n",
       "  'query': 'California Covid Notify COVID app number of downloads'},\n",
       " {'link': 'https://slate.com/technology/2022/08/covid-exposure-notification-apps.html',\n",
       "  'title': \"Why Didn't More Americans Use COVID Exposure ...\",\n",
       "  'description': \"More than 70 percent of Americans said they wouldn't download a COVID app because of concerns about protecting their digital privacy.\",\n",
       "  'query': 'California Covid Notify COVID app number of downloads'},\n",
       " {'link': 'https://www.ucdavis.edu/coronavirus/news/uc-davis-rolls-out-covid-19-exposure-app-to-campuses',\n",
       "  'title': 'UC Davis Rolls Out COVID-19 Exposure App to Campuses',\n",
       "  'description': 'Android users who wish to participate must download the California COVID Notify app, whereas iOS users can activate it in their iPhone settings.',\n",
       "  'query': 'California Covid Notify COVID app number of downloads'},\n",
       " {'link': 'https://abc7.com/ca-notify-covid-canotify-app-omicron-surge/11425379/',\n",
       "  'title': 'CA Notify alerts of possible COVID exposure increase amid ...',\n",
       "  'description': 'Statewide alerts from CA Notify have been sent to many smartphones letting people know if they have been exposed to someone with COVID-19.',\n",
       "  'query': 'California Covid Notify COVID app number of downloads'},\n",
       " {'link': 'https://pmc.ncbi.nlm.nih.gov/articles/PMC9678789/',\n",
       "  'title': 'Defining Key Performance Indicators for the California ...',\n",
       "  'description': 'California deployed the Google Apple Exposure Notification framework, branded CA Notify, on December 10, 2020, to supplement traditional COVID-19 contact ...',\n",
       "  'query': 'California Covid Notify COVID tracing app downloads reported'},\n",
       " {'link': 'https://coloradosun.com/2023/05/08/colorado-exposure-notifications-phone-app/',\n",
       "  'title': 'Colorado is ending its Exposure Notifications phone app ...',\n",
       "  'description': 'A study looking at a smartphone-based contact-tracing app used in England and Wales, though, found that the app may have averted up to 1 million ...',\n",
       "  'query': 'Colorado Exposure Notifications COVID contact tracing app download count'},\n",
       " {'link': 'https://www.cpr.org/2020/10/29/10-of-coloradans-are-already-using-the-covid-19-tracking-app-will-it-help/',\n",
       "  'title': '10% Of Coloradans Are Already Using The COVID-19 ...',\n",
       "  'description': 'More than 587000 people have downloaded or enabled the Exposure Notification System app.',\n",
       "  'query': 'Colorado Exposure Notifications COVID contact tracing app download count'},\n",
       " {'link': 'https://fletcher.tufts.edu/news-events/news/did-colorados-covid-19-exposure-notification-app-succeed-its-complicated',\n",
       "  'title': \"Did Colorado's COVID-19 exposure notification app succeed ...\",\n",
       "  'description': 'A study in the United Kingdom found the app could have prevented anywhere from 100,000 to 900,000 cases. The U.K. study also found that the app ...',\n",
       "  'query': 'Colorado Exposure Notifications COVID contact tracing app download count'},\n",
       " {'link': 'https://www.9news.com/article/news/local/next/colorado-covid-tracing-app-2020-december-coronavirus/73-1c4bf0ce-6c26-4323-9eda-ce31b8f11639',\n",
       "  'title': 'Tons of Coloradans got the COVID exposure tracking app',\n",
       "  'description': 'More than 1.4 million people in the state have the COVID-19 exposure app on their phones, but much fewer people are using it.',\n",
       "  'query': 'Colorado Exposure Notifications COVID contact tracing app download count'},\n",
       " {'link': 'https://www.gao.gov/blog/covid-19-exposure-notification-apps-are-available.-are-they-working',\n",
       "  'title': 'COVID-19 Exposure Notification Apps Are Available. But ...',\n",
       "  'description': 'The apps are intended to detect when 2 app users are in close contact, then send a notification if 1 of them later tests positive for COVID-19.',\n",
       "  'query': 'Colorado Exposure Notifications COVID contact tracing app download count'},\n",
       " {'link': 'https://www.denverpost.com/2021/06/30/colorado-covid-exposure-notification-app/',\n",
       "  'title': \"Did Colorado's COVID-19 exposure notification app ...\",\n",
       "  'description': \"About 2.1 million people in Colorado have downloaded the app ... notify contacts, but most states haven't published their data. It's ...\",\n",
       "  'query': 'Colorado Exposure Notifications COVID contact tracing app download count'},\n",
       " {'link': 'https://coloradosun.com/2020/10/30/colorado-coronavirus-exposure-notifications-google-apple/',\n",
       "  'title': 'A half-million Coloradans have already signed up for the ...',\n",
       "  'description': \"More than 500,000 Coloradans have already signed up for the state's new tool to notify people if they have possibly been exposed to the ...\",\n",
       "  'query': 'Colorado Exposure Notifications COVID contact tracing app download count'},\n",
       " {'link': 'https://oit.colorado.gov/news-article/leading-the-nation-colorados-rapid-deployment-of-enx',\n",
       "  'title': \"Leading the Nation: Colorado's Rapid Deployment of ENx\",\n",
       "  'description': '30.2% adoption rate among Colorado smartphone owners; With 12,804 codes claimed, 148,911 individuals were able to be notified of exposure to ...',\n",
       "  'query': 'Colorado Exposure Notifications COVID contact tracing app download count'},\n",
       " {'link': 'https://www.cbsnews.com/colorado/news/covid-exposure-app-colorado/',\n",
       "  'title': \"COVID Exposure Notification App Faces Challenge Of ' ...\",\n",
       "  'description': 'And only about a dozen, including the recent addition of Colorado, have launched the smartphone feature, which sends users a notification if ...',\n",
       "  'query': 'Colorado Exposure Notifications COVID contact tracing app download count'},\n",
       " {'link': 'https://wwwnc.cdc.gov/eid/article/29/2/22-0959_article',\n",
       "  'title': 'Estimated Cases Averted by COVID-19 Digital Exposure ...',\n",
       "  'description': 'We estimated that digital notifications potentially averted 7–69 cases/1,000 notifications during November 8, 2020–January 2, 2021. Greater use ...',\n",
       "  'query': 'Colorado Exposure Notifications COVID contact tracing app download count'},\n",
       " {'link': 'https://www.facebook.com/bouldercountypublichealth/posts/if-15-of-colorado-residents-downloaded-the-covid-19-exposure-notification-app-in/3529608687129759/?locale=az_AZ',\n",
       "  'title': 'If 15% of Colorado residents downloaded the COVID-19 ...',\n",
       "  'description': 'If 15% of Colorado residents downloaded the COVID-19 Exposure Notification app, infections could be reduced by up to 8% and fatalities by up to 6%. To ...',\n",
       "  'query': 'Colorado Exposure Notifications COVID app number of downloads'},\n",
       " {'link': 'https://arkvalleyvoice.com/galloping-geek-covid-exposure-tracing-app/',\n",
       "  'title': 'The Galloping Geek: COVID Exposure Tracing App',\n",
       "  'description': 'The warning – “You may have been exposed”, came from the CO Exposure Notification app, which I had voluntarily downloaded onto my phone when it ...',\n",
       "  'query': 'Colorado Exposure Notifications COVID tracing app downloads reported'},\n",
       " {'link': 'https://www.cpr.org/2020/10/22/new-phone-app-to-track-colorado-coronavirus-exposure-will-arrive-this-weekend/',\n",
       "  'title': 'New Phone App To Track Colorado Coronavirus Exposure ...',\n",
       "  'description': 'The Exposure Notification System will be part of the settings on Apple iPhones and a downloadable app for Android users.',\n",
       "  'query': 'Colorado Exposure Notifications COVID tracing app downloads reported'},\n",
       " {'link': 'https://en.wikipedia.org/wiki/Exposure_Notification',\n",
       "  'title': 'Exposure Notification',\n",
       "  'description': 'Exposure Notification is a decentralized reporting protocol built on a combination of Bluetooth Low Energy technology and privacy-preserving cryptography.',\n",
       "  'query': 'Colorado Exposure Notifications COVID tracing app downloads reported'},\n",
       " {'link': 'https://www.9news.com/article/news/investigations/colorado-covid-exposure-app/73-121b776c-88df-4391-9c6d-e7ea945fe4c2',\n",
       "  'title': 'Colorado COVID exposure app rarely worked ...',\n",
       "  'description': 'Codes were redeemed just about 8% of the time according to health officials.',\n",
       "  'query': 'Colorado Exposure Notifications COVID tracing app downloads reported'},\n",
       " {'link': 'https://www.kunc.org/health/2021-12-13/colorado-covid-19-exposure-app-getting-a-lot-of-use-amid-surge',\n",
       "  'title': 'Colorado COVID-19 exposure app getting a lot of use amid ...',\n",
       "  'description': 'In all, Colorado has seen a 31% increase in reporting positive cases via the system since the state enabled a self-report feature that allows ...',\n",
       "  'query': 'Colorado Exposure Notifications COVID tracing app downloads reported'},\n",
       " {'link': 'https://www.youtube.com/watch?v=YJArLCsWeTw',\n",
       "  'title': 'Colorado rolls out COVID-19 exposure notification app',\n",
       "  'description': \"State health officials hope a new cell phone app will be a valuable tool in the fight against COVID-19 by letting people know if they've ...\",\n",
       "  'query': 'Colorado Exposure Notifications COVID tracing app downloads reported'},\n",
       " {'link': 'https://www.canada.ca/en/health-canada/corporate/transparency/corporate-management-reporting/evaluation/covid-alert-national-covid-19-exposure-notification-app.html',\n",
       "  'title': 'Evaluation of the National COVID-19 Exposure Notification ...',\n",
       "  'description': 'The app was designed to notify users who had been in close contact with another app user who had tested positive for COVID-19 and reported it ...',\n",
       "  'query': 'Colorado Exposure Notifications COVID tracing app downloads reported'},\n",
       " {'link': 'https://www.washingtonpost.com/technology/2020/11/18/coronavirus-app-exposure-alerts/',\n",
       "  'title': 'A covid-fighting tool is buried in your phone. Turn it on.',\n",
       "  'description': \"You don't have much to lose, so you might as well turn exposure alerts on. It takes less than five minutes to set up, and this guide will help.\",\n",
       "  'query': 'Colorado Exposure Notifications COVID tracing app downloads reported'},\n",
       " {'link': 'https://coloradonewsline.com/2020/11/18/3400-coloradans-have-submitted-positive-covid-19-tests-a-fraction-of-total-to-notification-system/',\n",
       "  'title': '3400 Coloradans have submitted positive COVID-19 tests',\n",
       "  'description': 'Roughly 3400 Coloradans who tested positive for the coronavirus have used an exposure notification system to notify others of exposure.',\n",
       "  'query': 'Colorado Exposure Notifications COVID tracing app downloads reported'},\n",
       " {'link': 'https://catalog.data.gov/dataset/covid-19-contact-tracing-covid-alert-ct-summary-by-week',\n",
       "  'title': 'COVID-19 Contact Tracing: COVID Alert CT Summary by Week',\n",
       "  'description': 'This dataset includes the cumulative and weekly activations for COVID Alert CT for iOS and Android smartphones. The location of app users is not tracked--the ...',\n",
       "  'query': 'Connecticut Covid Alert COVID contact tracing app download count'},\n",
       " {'link': 'https://www.nbcconnecticut.com/news/local/660k-connecticut-residents-have-downloaded-contact-tracing-apps/2365149/',\n",
       "  'title': '660K Connecticut Residents Have Downloaded Contact ...',\n",
       "  'description': 'Officials say 660,000 Connecticut residents have signed up to receive alerts when someone they were close to tests positive for COVID-19, ...',\n",
       "  'query': 'Connecticut Covid Alert COVID contact tracing app download count'},\n",
       " {'link': 'https://portal.ct.gov/governor/news/press-releases/2021/01-2021/governor-lamont-announces-connecticuts-covid-19-contact-tracing-app-has-been-activated',\n",
       "  'title': \"Governor Lamont Announces Connecticut's COVID-19 ...\",\n",
       "  'description': \"Governor Lamont Announces Connecticut's COVID-19 Contact Tracing App Has Been Activated on More Than One Million Mobile Devices. Report an ...\",\n",
       "  'query': 'Connecticut Covid Alert COVID contact tracing app download count'},\n",
       " {'link': 'https://www.cbia.com/news/hr-safety/state-launches-covid-19-contact-tracing-app/',\n",
       "  'title': 'State Launches COVID-19 Contact Tracing App',\n",
       "  'description': 'The free, voluntary, and anonymous app alerts a user if they have been within six feet of an infected person for at least 15 minutes.',\n",
       "  'query': 'Connecticut Covid Alert COVID contact tracing app download count'},\n",
       " {'link': 'https://www.ctpublic.org/news/2020-11-16/connecticuts-covid-exposure-app-tops-600-000-downloads-days-after-release',\n",
       "  'title': \"Connecticut's COVID Exposure App Tops 600000 ...\",\n",
       "  'description': \"The state's new covid exposure app for cellphones has reached over 600,000 downloads in less than a week. Launched last Thursday, the app ...\",\n",
       "  'query': 'Connecticut Covid Alert COVID contact tracing app download count'},\n",
       " {'link': 'https://data.ct.gov/Health-and-Human-Services/COVID-19-Contact-Tracing-COVID-Alert-CT-Summary-by/c4dk-8f27',\n",
       "  'title': 'COVID Alert CT Summary by Week - ARCHIVE',\n",
       "  'description': '... COVID-19 Contact Tracing: COVID Alert CT Summary by Week - ARCHIVE. Health and Human Services. Note: This dataset has been archived and is no longer being ...',\n",
       "  'query': 'Connecticut Covid Alert COVID contact tracing app download count'},\n",
       " {'link': 'https://catalog.data.gov/dataset/covid-19-contact-tracing-covid-alert-ct-summary-by-week/resource/adc1e9b6-3ceb-4408-b241-9cdf839faae9',\n",
       "  'title': 'COVID Alert CT Summary by Week - ARCHIVE - JSON File',\n",
       "  'description': \"Note: This dataset has been archived and is no longer being updated. COVID Alert CT is Connecticut's voluntary, anonymous, exposure-notification smartphone ...\",\n",
       "  'query': 'Connecticut Covid Alert COVID contact tracing app download count'},\n",
       " {'link': 'https://patch.com/connecticut/across-ct/ct-contact-tracing-app-what-know',\n",
       "  'title': 'CT Contact Tracing App: What To Know',\n",
       "  'description': 'The app, called COVID Alert CT, is available for both iPhone and Android. ... Android users can download the app on the Google Play store.',\n",
       "  'query': 'Connecticut Covid Alert COVID contact tracing app download count'},\n",
       " {'link': 'https://www.columbiact.gov/community/page/covid-alert-ct-app',\n",
       "  'title': 'COVID Alert CT App',\n",
       "  'description': 'COVID Alert CT is a voluntary, anonymous, exposure-notification smartphone app. You will get an alert if you were in close contact with someone who tests ...',\n",
       "  'query': 'Connecticut Covid Alert COVID contact tracing app download count'},\n",
       " {'link': 'https://www.nbcconnecticut.com/news/local/covid-19-exposure-notifications-now-available-on-your-phone/2359071/',\n",
       "  'title': 'COVID-19 Exposure Notifications Now Available on Your ...',\n",
       "  'description': 'The COVID Alert CT app can be downloaded from Google Play. To verify that exposure notifications are enabled on an Android phone, open the COVID ...',\n",
       "  'query': 'Connecticut Covid Alert COVID contact tracing app download count'},\n",
       " {'link': 'https://www.researchgate.net/figure/The-Coronavirus-CT-app-The-app-employs-a-Bluetooth-interface-and-trace-contact-within-2_fig1_343134230',\n",
       "  'title': 'The Coronavirus CT app. The app employs a Bluetooth ...',\n",
       "  'description': 'The app employs a Bluetooth interface and trace contact within 2 meters for 15 minutes. A unique ID of each anonymous app user CT data is stored in a server for ...',\n",
       "  'query': 'Connecticut Covid Alert COVID contact tracing app download count'},\n",
       " {'link': 'https://www.nascio.org/awards-library/awards/contact-tracing-innovation-contact/',\n",
       "  'title': \"ContaCT—Connecticut's Integrated COVID-19 ...\",\n",
       "  'description': 'The successful implementation of ContaCT provided a technological framework for contact tracing and. COVID data tracking in the state of Connecticut. This ...',\n",
       "  'query': 'Connecticut Covid Alert COVID contact tracing app download count'},\n",
       " {'link': 'https://www.governor.ny.gov/news/governor-cuomo-and-governor-murphy-launch-exposure-notification-apps-help-stop-spread-covid-19',\n",
       "  'title': 'Governor Cuomo and Governor Murphy Launch Exposure ...',\n",
       "  'description': 'And today, we are announcing an app that you can download for free from the app store called COVID Alert NY.\" \"Over the course of our public ...',\n",
       "  'query': 'Connecticut Covid Alert COVID contact tracing app download count'},\n",
       " {'link': 'https://pmc.ncbi.nlm.nih.gov/articles/PMC10835590/',\n",
       "  'title': \"Investigating Citizens' Acceptance of Contact Tracing Apps\",\n",
       "  'description': 'COVID Tracker has 3 main features. CT uses Bluetooth and anonymous ID numbers to log phones within close contact for more than 15 minutes. It downloads the ...',\n",
       "  'query': 'Connecticut Covid Alert COVID contact tracing app download count'},\n",
       " {'link': 'https://www.naag.org/wp-content/uploads/2020/10/Apple-Response-EN-and-CT-Apps-NAAG-FINAL.pdf',\n",
       "  'title': 'Apple Response EN and CT Apps',\n",
       "  'description': '1. Verify that every app labeled or marketed as related to contact tracing, COVID-19 contact tracing, or coronavirus contact tracing or exposure ...',\n",
       "  'query': 'Connecticut Covid Alert COVID contact tracing app download count'},\n",
       " {'link': 'https://ink.library.smu.edu.sg/cgi/viewcontent.cgi?article=7440&context=sis_research',\n",
       "  'title': 'Security and privacy review of contact tracing mobile apps',\n",
       "  'description': \"COVID Alert - Let's protect each other. 1M+. Canada. 20. Covid Alert CT. 50K+. US (Connecticut). 21. Covid Alert DE. 10K+. U.S (Delaware). 22. COVID Alert NJ.\",\n",
       "  'query': 'Connecticut Covid Alert COVID contact tracing app download count'},\n",
       " {'link': 'https://www.fox61.com/article/news/health/coronavirus/state-calls-covid-alert-exposure-app-usage-phenomenal/520-e7768ae2-890d-4db4-8eb6-d40c4a303d21',\n",
       "  'title': \"State calls COVID alert exposure app usage, 'phenomenal'\",\n",
       "  'description': 'The COVID alert exposure app now has 660,000 activations. ... HARTFORD, Conn — State leaders are calling the number of COVID tracking app ...',\n",
       "  'query': 'Connecticut Covid Alert COVID contact tracing app download count'},\n",
       " {'link': 'https://cms5.revize.com/revize/guilfordct/Document_Center/Coronavirus%20Information%20Updates/COVID-19%20Update/COVID-Mass-Notification-11-13-20-Final.pdf',\n",
       "  'title': 'Yesterday, the State of Connecticut launched COVID Alert ...',\n",
       "  'description': 'This app is only as successful as the number of people who download it, so it is critical that as many people as possible make sure the app is on their phone.',\n",
       "  'query': 'Connecticut Covid Alert COVID app number of downloads'},\n",
       " {'link': 'https://www.haddam.org/home/news/connecticut-launches-covid-alert-ct-app',\n",
       "  'title': 'Connecticut Launches COVID Alert CT App',\n",
       "  'description': 'The COVID Alert CT App can be downloaded from Google Play. To verify that exposure notifications are enabled on an Android phone, open the COVID ...',\n",
       "  'query': 'Connecticut Covid Alert COVID app number of downloads'},\n",
       " {'link': 'https://www.stonington-ct.gov/archived/news/launch-of-covid-alert-ct-the-exposure-notification-app-in-connecticut',\n",
       "  'title': 'Launch of COVID Alert CT, the Exposure Notification App ...',\n",
       "  'description': 'First, users should visit ct.gov/covidalertct, where they can find instructions on how to download the app for their specific device. Once ...',\n",
       "  'query': 'Connecticut Covid Alert COVID app number of downloads'},\n",
       " {'link': 'https://catalog.data.gov/organization/state-of-connecticut?_tags_limit=0&tags=covid-19',\n",
       "  'title': 'State of Connecticut - Organizations - Dataset - Catalog',\n",
       "  'description': \"Note: This dataset has been archived and is no longer being updated. COVID Alert CT is Connecticut's voluntary, anonymous, exposure-notification smartphone app.\",\n",
       "  'query': 'Connecticut Covid Alert COVID app number of downloads'},\n",
       " {'link': 'https://www.wiltonct.gov/coronavirus-resources/pages/covid-alert-ct-app',\n",
       "  'title': 'Covid Alert CT App',\n",
       "  'description': 'COVID Alert CT is a voluntary, anonymous, exposure-notification smartphone app. You will get an alert if you were in close contact with someone who tests ...',\n",
       "  'query': 'Connecticut Covid Alert COVID app number of downloads'},\n",
       " {'link': 'https://www.youtube.com/watch?v=ZbI3-iIgDpI',\n",
       "  'title': 'COVID Alert CT: Connecticut’s COVID-19 Exposure ...',\n",
       "  'description': \"COVID Alert CT is Connecticut's COVID-19 exposure notification app ... app that users must download from Google Play and install on their device.\",\n",
       "  'query': 'Connecticut Covid Alert COVID app number of downloads'},\n",
       " {'link': 'https://www.facebook.com/GovNedLamont/videos/covid-alert-ct-connecticuts-covid-19-exposure-notification-app/698798324093334/',\n",
       "  'title': \"Connecticut's COVID-19 exposure notification app | ...\",\n",
       "  'description': \"COVID Alert CT is Connecticut's COVID-19 exposure notification app. It sends an anonymous alert to your phone anytime your device has come ...\",\n",
       "  'query': 'Connecticut Covid Alert COVID app number of downloads'},\n",
       " {'link': 'https://coronavirus.health.ny.gov/nys-enx',\n",
       "  'title': 'NYS ENX | Department of Health - COVID-19',\n",
       "  'description': 'Download the app to get COVID-19 exposure alerts and help protect your community while maintaining your privacy. Download App · Get on Google Play.',\n",
       "  'query': 'Connecticut Covid Alert COVID app number of downloads'},\n",
       " {'link': 'https://www.fema.gov/press-release/20250121/connecticut-first-state-open-covid-19-vaccine-mobile-unit',\n",
       "  'title': 'Connecticut First State to Open COVID -19 Vaccine Mobile ...',\n",
       "  'description': 'Connecticut First State to Open COVID -19 Vaccine Mobile Unit ; Release Date March 26, 2021, Release Number 046 ...',\n",
       "  'query': 'Connecticut Covid Alert COVID app number of downloads'},\n",
       " {'link': 'https://connecticut.news12.com/gov-lamont-announces-app-to-track-covid-19-exposure',\n",
       "  'title': 'Gov. Lamont announces app to track COVID-19 exposure',\n",
       "  'description': 'Gov. Ned Lamont announced that Connecticut has launched its official COVID-19 exposure notification app, COVID Alert CT.',\n",
       "  'query': 'Connecticut Covid Alert COVID app number of downloads'},\n",
       " {'link': 'https://www.ctpost.com/news/coronavirus/article/CT-records-2-746-new-COVID-cases-in-one-day-15726052.php',\n",
       "  'title': '300K CT residents sign up for COVID app on first day',\n",
       "  'description': \"More than 300,000 people in Connecticut have signed up for a smartphone app designed to alert them if they've been in close proximity to ...\",\n",
       "  'query': 'Connecticut Covid Alert COVID app number of downloads'},\n",
       " {'link': 'https://www.ctpublic.org/post/connecticuts-covid-exposure-app-tops-600000-downloads-days-after-release',\n",
       "  'title': \"Connecticut's COVID Exposure App Tops 600000 ...\",\n",
       "  'description': \"The state's new covid exposure app for cellphones has reached over 600,000 downloads in less than a week. Launched last Thursday, the app ...\",\n",
       "  'query': 'Connecticut Covid Alert COVID tracing app downloads reported'},\n",
       " {'link': 'https://news.hamlethub.com/wilton-connecticut/50872-connecticut-s-covid-19-contact-tracing-app-has-been-activated-on-more-than-one-million-mobile-devices',\n",
       "  'title': \"Connecticut's COVID-19 Contact Tracing App Has Been ...\",\n",
       "  'description': \"Governor Ned Lamont today announced that COVID Alert CT, Connecticut's COVID-19 exposure notification app, has been activated on more than one million ...\",\n",
       "  'query': 'Connecticut Covid Alert COVID tracing app downloads reported'},\n",
       " {'link': 'https://abc7ny.com/covid-alert-ct-connecticut-app-ned-lamont-red-status/7909372/',\n",
       "  'title': 'Coronavirus update: Connecticut unveils new COVID app ...',\n",
       "  'description': \"Coronavirus update: Connecticut unveils new COVID app as 80% of population under 'red alert' status · JHU CSSE COVID.\",\n",
       "  'query': 'Connecticut Covid Alert COVID tracing app downloads reported'},\n",
       " {'link': 'https://covidactnow.org/',\n",
       "  'title': 'Covid Act Now: US COVID Tracker',\n",
       "  'description': \"Jun 27, 2025 Covid Act Now has real-time tracking of your community's COVID risk level. Explore how your community is doing.\",\n",
       "  'query': 'Connecticut Covid Alert COVID tracing app downloads reported'},\n",
       " {'link': 'https://www.ctsenaterepublicans.com/2021/01/covid-19-update-january-8-2021/',\n",
       "  'title': 'Covid-19 Update - January 8, 2021',\n",
       "  'description': \"Governor Lamont Announces Connecticut's COVID-19 Contact Tracing App Has Been Activated on More Than One Million Mobile Devices.\",\n",
       "  'query': 'Connecticut Covid Alert COVID tracing app downloads reported'},\n",
       " {'link': 'https://covidtracking.com/data/state/connecticut',\n",
       "  'title': 'Connecticut',\n",
       "  'description': 'Cases, testing, hospitalization, outcomes, long-term-care, and race and ethnicity data for Connecticut, plus data sources, notes, and grade.',\n",
       "  'query': 'Connecticut Covid Alert COVID tracing app downloads reported'}]"
      ]
     },
     "execution_count": 7,
     "metadata": {},
     "output_type": "execute_result"
    }
   ],
   "source": [
    "all_webpages = []\n",
    "for w in webpages:\n",
    "    for q in webpages[w]:\n",
    "        for page in webpages[w][q]:\n",
    "            page[\"query\"] = q\n",
    "            all_webpages.append(page)\n",
    "\n",
    "all_webpages"
   ]
  },
  {
   "cell_type": "code",
   "execution_count": 8,
   "metadata": {},
   "outputs": [
    {
     "data": {
      "text/plain": [
       "139"
      ]
     },
     "execution_count": 8,
     "metadata": {},
     "output_type": "execute_result"
    }
   ],
   "source": [
    "len(all_webpages)"
   ]
  },
  {
   "cell_type": "code",
   "execution_count": 9,
   "metadata": {},
   "outputs": [],
   "source": [
    "reranker = Reranker(model_name=\"mixedbread-ai/mxbai-rerank-xsmall-v1\")"
   ]
  },
  {
   "cell_type": "code",
   "execution_count": 10,
   "metadata": {},
   "outputs": [
    {
     "data": {
      "text/plain": [
       "[{'query': 'Alabama GuideSafe COVID contact tracing app download count',\n",
       "  'text': \"Alabama's COVID tracing app joins nationwide network\",\n",
       "  'score': 0.31066226959228516},\n",
       " {'query': 'Alabama GuideSafe COVID contact tracing app download count',\n",
       "  'text': 'Alabama launches statewide coronavirus tracking app',\n",
       "  'score': 0.20958511531352997},\n",
       " {'query': 'Alabama GuideSafe COVID contact tracing app download count',\n",
       "  'text': 'GuideSafe™ | The tools and resources to help fight COVID-19 ...',\n",
       "  'score': 0.15668094158172607},\n",
       " {'query': 'Alabama GuideSafe COVID contact tracing app download count',\n",
       "  'text': \"Alabama's contact tracing app expands capabilities, still ...\",\n",
       "  'score': 0.1463727504014969},\n",
       " {'query': 'Alabama GuideSafe COVID contact tracing app download count',\n",
       "  'text': 'Alabama launches contact tracing app based on Google ...',\n",
       "  'score': 0.11778007447719574},\n",
       " {'query': 'Alabama GuideSafe COVID contact tracing app download count',\n",
       "  'text': 'Alabama rolls out contact tracing app piloted at colleges',\n",
       "  'score': 0.10268553346395493},\n",
       " {'query': 'Alabama GuideSafe COVID contact tracing app download count',\n",
       "  'text': 'Exposure Notification App | GuideSafe™',\n",
       "  'score': 0.09518527239561081},\n",
       " {'query': 'Alabama GuideSafe COVID contact tracing app download count',\n",
       "  'text': 'Contact-Tracing Apps as Boundary Objects of Pandemic ...',\n",
       "  'score': 0.0944124162197113},\n",
       " {'query': 'Alabama GuideSafe COVID contact tracing app download count',\n",
       "  'text': 'A survey of COVID-19 contact-tracing apps - PMC',\n",
       "  'score': 0.06472509354352951},\n",
       " {'query': 'Alabama GuideSafe COVID contact tracing app download count',\n",
       "  'text': \"Alabama's Exposure Notification App\",\n",
       "  'score': 0.043223217129707336},\n",
       " {'query': 'Alabama GuideSafe COVID app number of downloads',\n",
       "  'text': \"Alabama's GuideSafe app notifies you of COVID-19 exposure\",\n",
       "  'score': 0.7020716667175293},\n",
       " {'query': 'Alabama GuideSafe COVID app number of downloads',\n",
       "  'text': \"Alabama's GuideSafe app notifies you of COVID-19 exposure\",\n",
       "  'score': 0.7020716667175293},\n",
       " {'query': 'Alabama GuideSafe COVID app number of downloads',\n",
       "  'text': 'GuideSafe supporters want more downloads of COVID ...',\n",
       "  'score': 0.24369387328624725},\n",
       " {'query': 'Alabama GuideSafe COVID app number of downloads',\n",
       "  'text': 'GuideSafe Exposure Notification App Launches Statewide | By ...',\n",
       "  'score': 0.21445587277412415},\n",
       " {'query': 'Alabama GuideSafe COVID app number of downloads',\n",
       "  'text': 'Alabamians urged to download COVID-19 exposure app',\n",
       "  'score': 0.18049681186676025},\n",
       " {'query': 'Alabama GuideSafe COVID app number of downloads',\n",
       "  'text': 'Fight COVID-19 with GuideSafe Exposure Notification App',\n",
       "  'score': 0.1670672446489334},\n",
       " {'query': 'Alabama GuideSafe COVID app number of downloads',\n",
       "  'text': 'GuideSafe may be secret weapon against COVID-19 for ...',\n",
       "  'score': 0.13703900575637817},\n",
       " {'query': 'Alabama GuideSafe COVID app number of downloads',\n",
       "  'text': 'Alabama COVID-19 exposure app grows with more than ...',\n",
       "  'score': 0.10326019674539566},\n",
       " {'query': 'Alabama GuideSafe COVID app number of downloads',\n",
       "  'text': \"Alabama's contact tracing app expands capabilities, still ...\",\n",
       "  'score': 0.08633890002965927},\n",
       " {'query': 'Alabama GuideSafe COVID app number of downloads',\n",
       "  'text': 'GuideSafe Contact Notification App - Faculty Senate',\n",
       "  'score': 0.053306080400943756},\n",
       " {'query': 'Alabama GuideSafe COVID app number of downloads',\n",
       "  'text': 'Auburn to require students to self-screen beginning Aug. 17 ...',\n",
       "  'score': 0.014986756257712841},\n",
       " {'query': 'Alabama GuideSafe COVID app number of downloads',\n",
       "  'text': 'The University of Alabama | Want to ...',\n",
       "  'score': 0.009386145509779453},\n",
       " {'query': 'Alabama GuideSafe COVID tracing app downloads reported',\n",
       "  'text': 'GuideSafe app available for contact tracing in Alabama',\n",
       "  'score': 0.37763434648513794},\n",
       " {'query': 'Alabama GuideSafe COVID tracing app downloads reported',\n",
       "  'text': 'Alabama college students encouraged to download COVID ...',\n",
       "  'score': 0.12450019270181656},\n",
       " {'query': 'Alabama GuideSafe COVID tracing app downloads reported',\n",
       "  'text': 'COVID-19 Tracking App Available To The Public',\n",
       "  'score': 0.11761219799518585},\n",
       " {'query': 'Alabama GuideSafe COVID tracing app downloads reported',\n",
       "  'text': 'Alabama coronavirus app part of growing multistate network',\n",
       "  'score': 0.0728190690279007},\n",
       " {'query': 'Alabama GuideSafe COVID tracing app downloads reported',\n",
       "  'text': 'COVID-19 Symptom Tracking and Exposure Notification ...',\n",
       "  'score': 0.03386957570910454},\n",
       " {'query': 'Alabama GuideSafe COVID tracing app downloads reported',\n",
       "  'text': 'Tracing App Pilot at Alabama Universities to Be Made Public',\n",
       "  'score': 0.031543951481580734},\n",
       " {'query': 'Alabama GuideSafe COVID tracing app downloads reported',\n",
       "  'text': 'GuideSafe™ (@guidesafe_org) / X',\n",
       "  'score': 0.025717319920659065},\n",
       " {'query': 'Alabama GuideSafe COVID tracing app downloads reported',\n",
       "  'text': 'Mobile App Reports - Data Analytics & Marketing Trends',\n",
       "  'score': 0.013823197223246098},\n",
       " {'query': 'Alabama GuideSafe COVID tracing app downloads reported',\n",
       "  'text': 'User perceptions about sharing exposure notification ...',\n",
       "  'score': 0.012285524047911167},\n",
       " {'query': 'Alabama GuideSafe COVID tracing app downloads reported',\n",
       "  'text': 'Newsroom',\n",
       "  'score': 0.009073145687580109},\n",
       " {'query': 'Arizona Covid Watch COVID contact tracing app download count',\n",
       "  'text': 'University of Arizona releases COVID tracking app - KOLD.com',\n",
       "  'score': 0.2279035449028015},\n",
       " {'query': 'Arizona Covid Watch COVID contact tracing app download count',\n",
       "  'text': 'UArizona says contact tracing app has reduced ...',\n",
       "  'score': 0.16144272685050964},\n",
       " {'query': 'Arizona Covid Watch COVID contact tracing app download count',\n",
       "  'text': 'U. Arizona claims contact-tracing app reduced COVID-19 ...',\n",
       "  'score': 0.12113641947507858},\n",
       " {'query': 'Arizona Covid Watch COVID contact tracing app download count',\n",
       "  'text': 'UArizona and Covid Watch Launch COVID-19 Exposure ...',\n",
       "  'score': 0.09482868760824203},\n",
       " {'query': 'Arizona Covid Watch COVID contact tracing app download count',\n",
       "  'text': \"Contact tracing apps now cover nearly half of America. It's ...\",\n",
       "  'score': 0.06446061283349991},\n",
       " {'query': 'Arizona Covid Watch COVID contact tracing app download count',\n",
       "  'text': 'At universities, contact tracing app reception hinges on ...',\n",
       "  'score': 0.059394847601652145},\n",
       " {'query': 'Arizona Covid Watch COVID contact tracing app download count',\n",
       "  'text': 'COVID-19 tracking apps, supported by Apple and Google ...',\n",
       "  'score': 0.05653538927435875},\n",
       " {'query': 'Arizona Covid Watch COVID contact tracing app download count',\n",
       "  'text': 'How a Smartphone App and Contact Tracing Helped Keep ...',\n",
       "  'score': 0.053127042949199677},\n",
       " {'query': 'Arizona Covid Watch COVID contact tracing app download count',\n",
       "  'text': 'Covid Watch for Public Health',\n",
       "  'score': 0.05218319594860077},\n",
       " {'query': 'Arizona Covid Watch COVID contact tracing app download count',\n",
       "  'text': 'State Approaches to Contact Tracing during the COVID-19 ...',\n",
       "  'score': 0.04532983526587486},\n",
       " {'query': 'Arizona Covid Watch COVID contact tracing app download count',\n",
       "  'text': 'PHapp AZ - Apps on Google Play',\n",
       "  'score': 0.04038085788488388},\n",
       " {'query': 'Arizona Covid Watch COVID contact tracing app download count',\n",
       "  'text': 'News and Media | Covid Watch',\n",
       "  'score': 0.039440080523490906},\n",
       " {'query': 'Arizona Covid Watch COVID contact tracing app download count',\n",
       "  'text': 'Arizona Has a COVID-19 Exposure Notification Tool Now ...',\n",
       "  'score': 0.039363034069538116},\n",
       " {'query': 'Arizona Covid Watch COVID contact tracing app download count',\n",
       "  'text': 'COVID-19 exposure app launched in Arizona never ...',\n",
       "  'score': 0.03934771195054054},\n",
       " {'query': 'Arizona Covid Watch COVID contact tracing app download count',\n",
       "  'text': 'Privacy and Security Implications in COVID-19 Tracking ...',\n",
       "  'score': 0.02745717205107212},\n",
       " {'query': 'Arizona Covid Watch COVID contact tracing app download count',\n",
       "  'text': 'Smartphone app alerts University of Arizona students if they ...',\n",
       "  'score': 0.025059599429368973},\n",
       " {'query': 'Arizona Covid Watch COVID contact tracing app download count',\n",
       "  'text': 'Apple-Google coronavirus tracking tech used in U.S.',\n",
       "  'score': 0.022808002308011055},\n",
       " {'query': 'Arizona Covid Watch COVID contact tracing app download count',\n",
       "  'text': 'Usability, inclusivity, and content evaluation of COVID-19 ...',\n",
       "  'score': 0.02246660180389881},\n",
       " {'query': 'Arizona Covid Watch COVID contact tracing app download count',\n",
       "  'text': 'COVID-19 apps',\n",
       "  'score': 0.021898703649640083},\n",
       " {'query': 'Arizona Covid Watch COVID contact tracing app download count',\n",
       "  'text': 'Quantifying meaningful usage of a SARS-CoV-2 exposure ...',\n",
       "  'score': 0.011610257439315319},\n",
       " {'query': 'Arizona Covid Watch COVID app number of downloads',\n",
       "  'text': 'UA COVID Watch app is now on 30000 devices',\n",
       "  'score': 0.7895801067352295},\n",
       " {'query': 'Arizona Covid Watch COVID app number of downloads',\n",
       "  'text': 'UArizona and Covid Watch Launch COVID-19 Exposure ...',\n",
       "  'score': 0.28478381037712097},\n",
       " {'query': 'Arizona Covid Watch COVID app number of downloads',\n",
       "  'text': \"New smartphone app tracks users' exposure to COVID-19\",\n",
       "  'score': 0.06220501661300659},\n",
       " {'query': 'Arizona Covid Watch COVID app number of downloads',\n",
       "  'text': 'Privacy Policy',\n",
       "  'score': 0.025911053642630577},\n",
       " {'query': 'Arizona Covid Watch COVID app number of downloads',\n",
       "  'text': 'COVID-19 Information: Economic Development',\n",
       "  'score': 0.022983238101005554},\n",
       " {'query': 'Arizona Covid Watch COVID app number of downloads',\n",
       "  'text': 'A Brief History of Exposure Notification During the COVID- ...',\n",
       "  'score': 0.018975667655467987},\n",
       " {'query': 'Arizona Covid Watch COVID app number of downloads',\n",
       "  'text': 'Quantifying meaningful adoption of a SARS-CoV-2 ...',\n",
       "  'score': 0.014872540719807148},\n",
       " {'query': 'Arizona Covid Watch COVID tracing app downloads reported',\n",
       "  'text': 'Covid Watch Arizona app - did anybody else get a ...',\n",
       "  'score': 0.23288282752037048},\n",
       " {'query': 'California Covid Notify COVID contact tracing app download count',\n",
       "  'text': 'California CA Notify App | COVID 19 Contact Tracing',\n",
       "  'score': 0.5367059707641602},\n",
       " {'query': 'California Covid Notify COVID contact tracing app download count',\n",
       "  'text': 'CA Notify coronavirus app gets 4 million activations in first ...',\n",
       "  'score': 0.5353562235832214},\n",
       " {'query': 'California Covid Notify COVID contact tracing app download count',\n",
       "  'text': \"Anyone here download the CA Notify app (CA's Contact ...\",\n",
       "  'score': 0.4908919930458069},\n",
       " {'query': 'California Covid Notify COVID contact tracing app download count',\n",
       "  'text': \"California's COVID-19 contact tracing app off to slow start\",\n",
       "  'score': 0.2868973910808563},\n",
       " {'query': 'California Covid Notify COVID contact tracing app download count',\n",
       "  'text': 'California Has a New COVID Exposure Notification App',\n",
       "  'score': 0.2624262273311615},\n",
       " {'query': 'California Covid Notify COVID contact tracing app download count',\n",
       "  'text': 'CA Notify: A New App to Speed COVID Exposure ...',\n",
       "  'score': 0.2548633813858032},\n",
       " {'query': 'California Covid Notify COVID contact tracing app download count',\n",
       "  'text': 'CA COVID Notify - COVID-19 and vaccine resources',\n",
       "  'score': 0.1875859797000885},\n",
       " {'query': 'California Covid Notify COVID contact tracing app download count',\n",
       "  'text': 'People Are Finally Downloading COVID-19 Notification Apps',\n",
       "  'score': 0.18729829788208008},\n",
       " {'query': 'California Covid Notify COVID contact tracing app download count',\n",
       "  'text': 'CA Notify: Frequently Asked Questions - CDPH',\n",
       "  'score': 0.13423524796962738},\n",
       " {'query': 'California Covid Notify COVID contact tracing app download count',\n",
       "  'text': 'CA Notify | COVID-19 Exposure Notifications',\n",
       "  'score': 0.11911064386367798},\n",
       " {'query': 'California Covid Notify COVID contact tracing app download count',\n",
       "  'text': 'Adoption of COVID-19 Contact Tracing Apps',\n",
       "  'score': 0.10736362636089325},\n",
       " {'query': 'California Covid Notify COVID contact tracing app download count',\n",
       "  'text': 'CA Notify Home - CDPH - CA.gov',\n",
       "  'score': 0.10155516117811203},\n",
       " {'query': 'California Covid Notify COVID contact tracing app download count',\n",
       "  'text': 'CA Notify:',\n",
       "  'score': 0.09244899451732635},\n",
       " {'query': 'California Covid Notify COVID contact tracing app download count',\n",
       "  'text': \"Contact tracing apps promised big and didn't deliver\",\n",
       "  'score': 0.07522181421518326},\n",
       " {'query': 'California Covid Notify COVID contact tracing app download count',\n",
       "  'text': 'The Mixed Success of COVID Exposure Notification Apps',\n",
       "  'score': 0.07497693598270416},\n",
       " {'query': 'California Covid Notify COVID contact tracing app download count',\n",
       "  'text': 'Smartphone COVID alert system signs up 4 million ...',\n",
       "  'score': 0.0528094656765461},\n",
       " {'query': 'California Covid Notify COVID contact tracing app download count',\n",
       "  'text': 'Preliminary Research Suggests COVID-19 Warning App ...',\n",
       "  'score': 0.04980672523379326},\n",
       " {'query': 'California Covid Notify COVID contact tracing app download count',\n",
       "  'text': 'Digital exposure notification tools: A global landscape ...',\n",
       "  'score': 0.04091693088412285},\n",
       " {'query': 'California Covid Notify COVID app number of downloads',\n",
       "  'text': 'CA Notify app to offer COVID-19 exposure notification',\n",
       "  'score': 0.5336531400680542},\n",
       " {'query': 'California Covid Notify COVID app number of downloads',\n",
       "  'text': 'CA Notify: Innovative Alert System To Help Slow The ...',\n",
       "  'score': 0.20344793796539307},\n",
       " {'query': 'California Covid Notify COVID app number of downloads',\n",
       "  'text': 'UC Davis Rolls Out COVID-19 Exposure App to Campuses',\n",
       "  'score': 0.12981319427490234},\n",
       " {'query': 'California Covid Notify COVID app number of downloads',\n",
       "  'text': 'Remember COVID-19 phone alerts? California app ...',\n",
       "  'score': 0.11653666943311691},\n",
       " {'query': 'California Covid Notify COVID app number of downloads',\n",
       "  'text': 'CA Notify alerts of possible COVID exposure increase amid ...',\n",
       "  'score': 0.09333597868680954},\n",
       " {'query': 'California Covid Notify COVID app number of downloads',\n",
       "  'text': \"Why Didn't More Americans Use COVID Exposure ...\",\n",
       "  'score': 0.019127050414681435},\n",
       " {'query': 'California Covid Notify COVID tracing app downloads reported',\n",
       "  'text': 'Defining Key Performance Indicators for the California ...',\n",
       "  'score': 0.028170691803097725},\n",
       " {'query': 'Colorado Exposure Notifications COVID contact tracing app download count',\n",
       "  'text': \"Did Colorado's COVID-19 exposure notification app succeed ...\",\n",
       "  'score': 0.23125725984573364},\n",
       " {'query': 'Colorado Exposure Notifications COVID contact tracing app download count',\n",
       "  'text': 'Tons of Coloradans got the COVID exposure tracking app',\n",
       "  'score': 0.17767520248889923},\n",
       " {'query': 'Colorado Exposure Notifications COVID contact tracing app download count',\n",
       "  'text': \"Did Colorado's COVID-19 exposure notification app ...\",\n",
       "  'score': 0.1755845844745636},\n",
       " {'query': 'Colorado Exposure Notifications COVID contact tracing app download count',\n",
       "  'text': 'COVID-19 Exposure Notification Apps Are Available. But ...',\n",
       "  'score': 0.15526266396045685},\n",
       " {'query': 'Colorado Exposure Notifications COVID contact tracing app download count',\n",
       "  'text': 'Colorado is ending its Exposure Notifications phone app ...',\n",
       "  'score': 0.15262380242347717},\n",
       " {'query': 'Colorado Exposure Notifications COVID contact tracing app download count',\n",
       "  'text': \"COVID Exposure Notification App Faces Challenge Of ' ...\",\n",
       "  'score': 0.11986742168664932},\n",
       " {'query': 'Colorado Exposure Notifications COVID contact tracing app download count',\n",
       "  'text': 'A half-million Coloradans have already signed up for the ...',\n",
       "  'score': 0.02988620661199093},\n",
       " {'query': 'Colorado Exposure Notifications COVID contact tracing app download count',\n",
       "  'text': '10% Of Coloradans Are Already Using The COVID-19 ...',\n",
       "  'score': 0.028361188247799873},\n",
       " {'query': 'Colorado Exposure Notifications COVID contact tracing app download count',\n",
       "  'text': \"Leading the Nation: Colorado's Rapid Deployment of ENx\",\n",
       "  'score': 0.02022760733962059},\n",
       " {'query': 'Colorado Exposure Notifications COVID contact tracing app download count',\n",
       "  'text': 'Estimated Cases Averted by COVID-19 Digital Exposure ...',\n",
       "  'score': 0.01709263026714325},\n",
       " {'query': 'Colorado Exposure Notifications COVID app number of downloads',\n",
       "  'text': 'If 15% of Colorado residents downloaded the COVID-19 ...',\n",
       "  'score': 0.051554273813962936},\n",
       " {'query': 'Colorado Exposure Notifications COVID tracing app downloads reported',\n",
       "  'text': 'Colorado rolls out COVID-19 exposure notification app',\n",
       "  'score': 0.540705144405365},\n",
       " {'query': 'Colorado Exposure Notifications COVID tracing app downloads reported',\n",
       "  'text': 'Colorado COVID-19 exposure app getting a lot of use amid ...',\n",
       "  'score': 0.19856229424476624},\n",
       " {'query': 'Colorado Exposure Notifications COVID tracing app downloads reported',\n",
       "  'text': 'New Phone App To Track Colorado Coronavirus Exposure ...',\n",
       "  'score': 0.17414513230323792},\n",
       " {'query': 'Colorado Exposure Notifications COVID tracing app downloads reported',\n",
       "  'text': 'The Galloping Geek: COVID Exposure Tracing App',\n",
       "  'score': 0.10385450720787048},\n",
       " {'query': 'Colorado Exposure Notifications COVID tracing app downloads reported',\n",
       "  'text': 'Colorado COVID exposure app rarely worked ...',\n",
       "  'score': 0.06336293369531631},\n",
       " {'query': 'Colorado Exposure Notifications COVID tracing app downloads reported',\n",
       "  'text': '3400 Coloradans have submitted positive COVID-19 tests',\n",
       "  'score': 0.04513464868068695},\n",
       " {'query': 'Colorado Exposure Notifications COVID tracing app downloads reported',\n",
       "  'text': 'Evaluation of the National COVID-19 Exposure Notification ...',\n",
       "  'score': 0.04080771654844284},\n",
       " {'query': 'Colorado Exposure Notifications COVID tracing app downloads reported',\n",
       "  'text': 'A covid-fighting tool is buried in your phone. Turn it on.',\n",
       "  'score': 0.027796678245067596},\n",
       " {'query': 'Colorado Exposure Notifications COVID tracing app downloads reported',\n",
       "  'text': 'Exposure Notification',\n",
       "  'score': 0.026922358199954033},\n",
       " {'query': 'Connecticut Covid Alert COVID contact tracing app download count',\n",
       "  'text': 'COVID-19 Contact Tracing: COVID Alert CT Summary by Week',\n",
       "  'score': 0.4361209273338318},\n",
       " {'query': 'Connecticut Covid Alert COVID contact tracing app download count',\n",
       "  'text': 'CT Contact Tracing App: What To Know',\n",
       "  'score': 0.30179718136787415},\n",
       " {'query': 'Connecticut Covid Alert COVID contact tracing app download count',\n",
       "  'text': 'COVID Alert CT App',\n",
       "  'score': 0.24939605593681335},\n",
       " {'query': 'Connecticut Covid Alert COVID contact tracing app download count',\n",
       "  'text': 'COVID Alert CT Summary by Week - ARCHIVE - JSON File',\n",
       "  'score': 0.20404188334941864},\n",
       " {'query': 'Connecticut Covid Alert COVID contact tracing app download count',\n",
       "  'text': 'State Launches COVID-19 Contact Tracing App',\n",
       "  'score': 0.16806556284427643},\n",
       " {'query': 'Connecticut Covid Alert COVID contact tracing app download count',\n",
       "  'text': \"State calls COVID alert exposure app usage, 'phenomenal'\",\n",
       "  'score': 0.16181878745555878},\n",
       " {'query': 'Connecticut Covid Alert COVID contact tracing app download count',\n",
       "  'text': \"Connecticut's COVID Exposure App Tops 600000 ...\",\n",
       "  'score': 0.15576642751693726},\n",
       " {'query': 'Connecticut Covid Alert COVID contact tracing app download count',\n",
       "  'text': 'COVID Alert CT Summary by Week - ARCHIVE',\n",
       "  'score': 0.146931990981102},\n",
       " {'query': 'Connecticut Covid Alert COVID contact tracing app download count',\n",
       "  'text': 'The Coronavirus CT app. The app employs a Bluetooth ...',\n",
       "  'score': 0.12783850729465485},\n",
       " {'query': 'Connecticut Covid Alert COVID contact tracing app download count',\n",
       "  'text': 'Apple Response EN and CT Apps',\n",
       "  'score': 0.10852314531803131},\n",
       " {'query': 'Connecticut Covid Alert COVID contact tracing app download count',\n",
       "  'text': '660K Connecticut Residents Have Downloaded Contact ...',\n",
       "  'score': 0.10815737396478653},\n",
       " {'query': 'Connecticut Covid Alert COVID contact tracing app download count',\n",
       "  'text': \"Investigating Citizens' Acceptance of Contact Tracing Apps\",\n",
       "  'score': 0.10018915683031082},\n",
       " {'query': 'Connecticut Covid Alert COVID contact tracing app download count',\n",
       "  'text': 'Security and privacy review of contact tracing mobile apps',\n",
       "  'score': 0.07757066190242767},\n",
       " {'query': 'Connecticut Covid Alert COVID contact tracing app download count',\n",
       "  'text': \"ContaCT—Connecticut's Integrated COVID-19 ...\",\n",
       "  'score': 0.053528472781181335},\n",
       " {'query': 'Connecticut Covid Alert COVID contact tracing app download count',\n",
       "  'text': 'COVID-19 Exposure Notifications Now Available on Your ...',\n",
       "  'score': 0.03875841200351715},\n",
       " {'query': 'Connecticut Covid Alert COVID contact tracing app download count',\n",
       "  'text': \"Governor Lamont Announces Connecticut's COVID-19 ...\",\n",
       "  'score': 0.035891663283109665},\n",
       " {'query': 'Connecticut Covid Alert COVID contact tracing app download count',\n",
       "  'text': 'Governor Cuomo and Governor Murphy Launch Exposure ...',\n",
       "  'score': 0.0290962103754282},\n",
       " {'query': 'Connecticut Covid Alert COVID app number of downloads',\n",
       "  'text': 'Connecticut Launches COVID Alert CT App',\n",
       "  'score': 0.668199896812439},\n",
       " {'query': 'Connecticut Covid Alert COVID app number of downloads',\n",
       "  'text': 'Launch of COVID Alert CT, the Exposure Notification App ...',\n",
       "  'score': 0.5224424600601196},\n",
       " {'query': 'Connecticut Covid Alert COVID app number of downloads',\n",
       "  'text': 'Covid Alert CT App',\n",
       "  'score': 0.4950214624404907},\n",
       " {'query': 'Connecticut Covid Alert COVID app number of downloads',\n",
       "  'text': 'Yesterday, the State of Connecticut launched COVID Alert ...',\n",
       "  'score': 0.427349716424942},\n",
       " {'query': 'Connecticut Covid Alert COVID app number of downloads',\n",
       "  'text': '300K CT residents sign up for COVID app on first day',\n",
       "  'score': 0.4103914499282837},\n",
       " {'query': 'Connecticut Covid Alert COVID app number of downloads',\n",
       "  'text': \"Connecticut's COVID-19 exposure notification app | ...\",\n",
       "  'score': 0.317813515663147},\n",
       " {'query': 'Connecticut Covid Alert COVID app number of downloads',\n",
       "  'text': 'COVID Alert CT: Connecticut’s COVID-19 Exposure ...',\n",
       "  'score': 0.2905166447162628},\n",
       " {'query': 'Connecticut Covid Alert COVID app number of downloads',\n",
       "  'text': 'Gov. Lamont announces app to track COVID-19 exposure',\n",
       "  'score': 0.17527303099632263},\n",
       " {'query': 'Connecticut Covid Alert COVID app number of downloads',\n",
       "  'text': 'State of Connecticut - Organizations - Dataset - Catalog',\n",
       "  'score': 0.06484710425138474},\n",
       " {'query': 'Connecticut Covid Alert COVID app number of downloads',\n",
       "  'text': 'Connecticut First State to Open COVID -19 Vaccine Mobile ...',\n",
       "  'score': 0.060951296240091324},\n",
       " {'query': 'Connecticut Covid Alert COVID app number of downloads',\n",
       "  'text': 'NYS ENX | Department of Health - COVID-19',\n",
       "  'score': 0.01917324960231781},\n",
       " {'query': 'Connecticut Covid Alert COVID tracing app downloads reported',\n",
       "  'text': \"Connecticut's COVID-19 Contact Tracing App Has Been ...\",\n",
       "  'score': 0.46291375160217285},\n",
       " {'query': 'Connecticut Covid Alert COVID tracing app downloads reported',\n",
       "  'text': 'Coronavirus update: Connecticut unveils new COVID app ...',\n",
       "  'score': 0.2102290391921997},\n",
       " {'query': 'Connecticut Covid Alert COVID tracing app downloads reported',\n",
       "  'text': \"Connecticut's COVID Exposure App Tops 600000 ...\",\n",
       "  'score': 0.2092360109090805},\n",
       " {'query': 'Connecticut Covid Alert COVID tracing app downloads reported',\n",
       "  'text': 'Connecticut',\n",
       "  'score': 0.044429972767829895},\n",
       " {'query': 'Connecticut Covid Alert COVID tracing app downloads reported',\n",
       "  'text': 'Covid Act Now: US COVID Tracker',\n",
       "  'score': 0.030560435727238655},\n",
       " {'query': 'Connecticut Covid Alert COVID tracing app downloads reported',\n",
       "  'text': 'Covid-19 Update - January 8, 2021',\n",
       "  'score': 0.027499841526150703}]"
      ]
     },
     "execution_count": 10,
     "metadata": {},
     "output_type": "execute_result"
    }
   ],
   "source": [
    "reranking_scores = reranker.rerank_results([p[\"query\"] for p in all_webpages], [p[\"title\"] for p in all_webpages])\n",
    "reranking_scores"
   ]
  },
  {
   "cell_type": "code",
   "execution_count": 11,
   "metadata": {},
   "outputs": [],
   "source": [
    "title2score = {w[\"text\"]: w[\"score\"] for w in reranking_scores}"
   ]
  },
  {
   "cell_type": "code",
   "execution_count": 12,
   "metadata": {},
   "outputs": [
    {
     "data": {
      "text/plain": [
       "[{'link': 'https://www.guidesafe.org/exposure-notification-app/',\n",
       "  'title': \"Alabama's Exposure Notification App\",\n",
       "  'description': \"Here's How Alabama's GuideSafe™ Exposure Notification App Works: ... Step one: Download the GuideSafe™ Exposure Notification App from the App Store or Google Play ...\",\n",
       "  'query': 'Alabama GuideSafe COVID contact tracing app download count',\n",
       "  'score': 0.043223217129707336},\n",
       " {'link': 'https://sites.uab.edu/guidesafebackup2/exposure-notification-app/',\n",
       "  'title': 'Exposure Notification App | GuideSafe™',\n",
       "  'description': 'Users of the GuideSafe™ Exposure Notification app can anonymously share a positive COVID-19 test result —and be anonymously notified of potential previous close ...',\n",
       "  'query': 'Alabama GuideSafe COVID contact tracing app download count',\n",
       "  'score': 0.09518527239561081},\n",
       " {'link': 'https://www.al.com/news/2020/11/alabamas-covid-tracing-app-joins-nationwide-network.html',\n",
       "  'title': \"Alabama's COVID tracing app joins nationwide network\",\n",
       "  'description': \"That means the more than 150,000 users who have downloaded Alabama's version of the app will also be notified if they register as a close ...\",\n",
       "  'query': 'Alabama GuideSafe COVID contact tracing app download count',\n",
       "  'score': 0.31066226959228516},\n",
       " {'link': 'https://statescoop.com/alabama-launches-contact-tracing-app-based-on-google-apple-api/',\n",
       "  'title': 'Alabama launches contact tracing app based on Google ...',\n",
       "  'description': 'According to Harris, GuideSafe has three components: The first is HealthCheck, a self-screening tool that asks users if they have any symptoms ...',\n",
       "  'query': 'Alabama GuideSafe COVID contact tracing app download count',\n",
       "  'score': 0.11778007447719574},\n",
       " {'link': 'https://www.cbs42.com/news/alabamas-contact-tracing-app-expands-capabilities-still-very-few-have-downloaded-it/',\n",
       "  'title': \"Alabama's contact tracing app expands capabilities, still ...\",\n",
       "  'description': 'Just under 150000 people have the app compared to more than 5 million people that call Alabama home.',\n",
       "  'query': 'Alabama GuideSafe COVID contact tracing app download count',\n",
       "  'score': 0.08633890002965927},\n",
       " {'link': 'https://pmc.ncbi.nlm.nih.gov/articles/PMC8379000/',\n",
       "  'title': 'A survey of COVID-19 contact-tracing apps - PMC',\n",
       "  'description': 'We survey the current contact-tracing apps and organize them based on underlying technologies such as Bluetooth, Wi-Fi, GPS, geofencing, and Quick Response (QR ...',\n",
       "  'query': 'Alabama GuideSafe COVID contact tracing app download count',\n",
       "  'score': 0.06472509354352951},\n",
       " {'link': 'https://www.montgomeryadvertiser.com/story/news/2020/08/17/alabama-releases-guidesafe-coronvirus-contact-tracing-app-general-public/5599036002/',\n",
       "  'title': 'Alabama rolls out contact tracing app piloted at colleges',\n",
       "  'description': 'Developers of a smartphone app designed to contact trace coronavirus exposures are making the program available to the Alabama public after ...',\n",
       "  'query': 'Alabama GuideSafe COVID contact tracing app download count',\n",
       "  'score': 0.10268553346395493},\n",
       " {'link': 'https://www.guidesafe.org/',\n",
       "  'title': 'GuideSafe™ | The tools and resources to help fight COVID-19 ...',\n",
       "  'description': 'Stop the Spread of COVID in Alabama. Get the App. Download now. download on the apple app store get it on google play. Developed by a team of experts at the ...',\n",
       "  'query': 'Alabama GuideSafe COVID contact tracing app download count',\n",
       "  'score': 0.15668094158172607},\n",
       " {'link': 'https://ijoc.org/index.php/ijoc/article/viewFile/19621/4076',\n",
       "  'title': 'Contact-Tracing Apps as Boundary Objects of Pandemic ...',\n",
       "  'description': 'Among dozens of statewide contact-tracing apps, we selected three—CA Notify (California), COVID Alert NY (New York), and GuideSafe (Alabama)—to ...',\n",
       "  'query': 'Alabama GuideSafe COVID contact tracing app download count',\n",
       "  'score': 0.0944124162197113},\n",
       " {'link': 'https://www.al.com/news/2020/08/alabama-launches-statewide-coronavirus-tracking-app.html',\n",
       "  'title': 'Alabama launches statewide coronavirus tracking app',\n",
       "  'description': 'The GuideSafe Exposure Notification App is free to download and available to all Alabama residents with iPhone and Android devices. It ...',\n",
       "  'query': 'Alabama GuideSafe COVID contact tracing app download count',\n",
       "  'score': 0.20958511531352997},\n",
       " {'link': 'https://www.wbrc.com/2020/10/23/alabama-covid-exposure-app-grows-with-more-than-downloads/',\n",
       "  'title': 'Alabama COVID-19 exposure app grows with more than ...',\n",
       "  'description': \"Alabama COVID-19 exposure app grows with more than 100,000 downloads ... The GuideSafe Exposure Notification app isn't just for college ...\",\n",
       "  'query': 'Alabama GuideSafe COVID app number of downloads',\n",
       "  'score': 0.10326019674539566},\n",
       " {'link': 'https://www.wbrc.com/2020/09/18/guidesafe-supporters-want-more-downloads-covid-exposure-notification-app/',\n",
       "  'title': 'GuideSafe supporters want more downloads of COVID ...',\n",
       "  'description': 'School officials provided an update on the program Friday. So far, there have been 62,000 downloads of the Guidesafe app.',\n",
       "  'query': 'Alabama GuideSafe COVID app number of downloads',\n",
       "  'score': 0.24369387328624725},\n",
       " {'link': 'https://www.rocketcitynow.com/video/news/local/alabama-guidesafe-covid-19-app/525-973f3a54-d4f6-4c9e-aa29-f6b7000ae470',\n",
       "  'title': \"Alabama's GuideSafe app notifies you of COVID-19 exposure\",\n",
       "  'description': 'The GuideSafe app was released in August. Over 93000 people have already downloaded it.',\n",
       "  'query': 'Alabama GuideSafe COVID app number of downloads',\n",
       "  'score': 0.7020716667175293},\n",
       " {'link': 'https://whnt.com/news/coronavirus/alabamas-contact-tracing-app-expands-capabilities-still-very-few-have-downloaded-it/',\n",
       "  'title': \"Alabama's contact tracing app expands capabilities, still ...\",\n",
       "  'description': 'Medical professionals say the expanded capabilities of Guidesafe could be a game changer. However, just under 150,000 people have the app ...',\n",
       "  'query': 'Alabama GuideSafe COVID app number of downloads',\n",
       "  'score': 0.08633890002965927},\n",
       " {'link': 'https://news.ua.edu/2020/08/fight-covid-19-with-guidesafe-exposure-notification-app/',\n",
       "  'title': 'Fight COVID-19 with GuideSafe Exposure Notification App',\n",
       "  'description': 'Download the COVID-19 Exposure Notification App for free to your iPhone or Android device or by searching “GuideSafe” in the app store. · The app ...',\n",
       "  'query': 'Alabama GuideSafe COVID app number of downloads',\n",
       "  'score': 0.1670672446489334},\n",
       " {'link': 'https://alabamanewscenter.com/2020/09/03/guidesafe-may-be-secret-weapon-against-covid-19-for-alabama-to-get-back-to-normal/',\n",
       "  'title': 'GuideSafe may be secret weapon against COVID-19 for ...',\n",
       "  'description': 'GuideSafe may be secret weapon against COVID-19 for Alabama to get back to normal - Alabama News Center.',\n",
       "  'query': 'Alabama GuideSafe COVID app number of downloads',\n",
       "  'score': 0.13703900575637817},\n",
       " {'link': 'https://www.wsfa.com/2020/08/17/alabamians-urged-download-covid-exposure-app/',\n",
       "  'title': 'Alabamians urged to download COVID-19 exposure app',\n",
       "  'description': '... app aimed at alerting people if they were possibly exposed to COVID-19. People can voluntarily download the GuideSafe Exposure Notification App.',\n",
       "  'query': 'Alabama GuideSafe COVID app number of downloads',\n",
       "  'score': 0.18049681186676025},\n",
       " {'link': 'https://m.facebook.com/UAB.edu/videos/guidesafe-exposure-notification-app-launches-statewide/308135187177645/',\n",
       "  'title': 'GuideSafe Exposure Notification App Launches Statewide | By ...',\n",
       "  'description': 'We know that from our numbers since we began reporting COVID-19 in Alabama in March of 2020 that we now have as of yesterday over 108, 000 cases of COVID-19 ...',\n",
       "  'query': 'Alabama GuideSafe COVID app number of downloads',\n",
       "  'score': 0.21445587277412415},\n",
       " {'link': 'https://facultysenate.ua.edu/guidesafe-contact-notification-app/',\n",
       "  'title': 'GuideSafe Contact Notification App - Faculty Senate',\n",
       "  'description': \"There has been a lack of details and many concerns over the UA System's promotion of the GuideSafe COVID-19 contact tracing “app”, ...\",\n",
       "  'query': 'Alabama GuideSafe COVID app number of downloads',\n",
       "  'score': 0.053306080400943756},\n",
       " {'link': 'https://www.youtube.com/watch?v=-QBcypdNhEQ',\n",
       "  'title': \"Alabama's GuideSafe app notifies you of COVID-19 exposure\",\n",
       "  'description': \"The GuideSafe app was released in August. Over 93000 people have already downloaded ... Alabama's GuideSafe app notifies you of COVID-19 exposure.\",\n",
       "  'query': 'Alabama GuideSafe COVID app number of downloads',\n",
       "  'score': 0.7020716667175293},\n",
       " {'link': 'https://www.instagram.com/p/CEXjb0hH9Gj/',\n",
       "  'title': 'The University of Alabama | Want to ...',\n",
       "  'description': 'Want to help us beat the spread of COVID-19? Download the GuideSafe Exposure Notification App! This app will anonymously notify you if you ...',\n",
       "  'query': 'Alabama GuideSafe COVID app number of downloads',\n",
       "  'score': 0.009386145509779453},\n",
       " {'link': 'https://ocm.auburn.edu/newsroom/news_articles/2020/08/131600-guidesafe-platform.php',\n",
       "  'title': 'Auburn to require students to self-screen beginning Aug. 17 ...',\n",
       "  'description': \"17, supporting Alabama's GuideSafe™ platform. Published: August 13 ... COVID-19 for students in all Alabama public and private institutions.\",\n",
       "  'query': 'Alabama GuideSafe COVID app number of downloads',\n",
       "  'score': 0.014986756257712841},\n",
       " {'link': 'https://pmc.ncbi.nlm.nih.gov/articles/PMC9366094/#:~:text=As%20of%201%20October%202021,positive%20tests%20had%20been%20reported.',\n",
       "  'title': 'User perceptions about sharing exposure notification ...',\n",
       "  'description': '',\n",
       "  'query': 'Alabama GuideSafe COVID tracing app downloads reported',\n",
       "  'score': 0.012285524047911167},\n",
       " {'link': 'https://foxdata.com/en/app-marketing-analytics/1519514691/as/US/',\n",
       "  'title': 'Mobile App Reports - Data Analytics & Marketing Trends',\n",
       "  'description': 'Help stop COVID-19 in Alabama. Use the GuideSafe™ Exposure Notification app to anonymously share a positive COVID-19 test result — and be ...',\n",
       "  'query': 'Alabama GuideSafe COVID tracing app downloads reported',\n",
       "  'score': 0.013823197223246098},\n",
       " {'link': 'https://abc3340.com/news/local/alabama-college-students-encouraged-to-download-covid-19-contact-tracing-app-08-11-2020',\n",
       "  'title': 'Alabama college students encouraged to download COVID ...',\n",
       "  'description': \"App users will self-report if they test positive for COVID-19. The app will use Bluetooth technology to determine if you've been in contact with ...\",\n",
       "  'query': 'Alabama GuideSafe COVID tracing app downloads reported',\n",
       "  'score': 0.12450019270181656},\n",
       " {'link': 'https://x.com/guidesafe_org',\n",
       "  'title': 'GuideSafe™ (@guidesafe_org) / X',\n",
       "  'description': 'Aug 17, 2020. The GuideSafe™ Exposure Notification App is officially available statewide! Help stop the spread of COVID-19 in Alabama by downloading the app ...',\n",
       "  'query': 'Alabama GuideSafe COVID tracing app downloads reported',\n",
       "  'score': 0.025717319920659065},\n",
       " {'link': 'https://www.guidesafe.org/media/newsroom/',\n",
       "  'title': 'Newsroom',\n",
       "  'description': 'GuideSafe supporters want more downloads of COVID exposure notification app ... University of Alabama System to Push Contact Tracing App, Require Online Health ...',\n",
       "  'query': 'Alabama GuideSafe COVID tracing app downloads reported',\n",
       "  'score': 0.009073145687580109},\n",
       " {'link': 'https://www.govtech.com/health/tracing-app-pilot-at-alabama-universities-to-be-made-public.html',\n",
       "  'title': 'Tracing App Pilot at Alabama Universities to Be Made Public',\n",
       "  'description': 'A contact tracing app that was used to track the novel coronavirus across universities in the state is being made available to the general public.',\n",
       "  'query': 'Alabama GuideSafe COVID tracing app downloads reported',\n",
       "  'score': 0.031543951481580734},\n",
       " {'link': 'https://www.apr.org/news/2020-08-19/guidesafe-app-available-for-contact-tracing-in-alabama',\n",
       "  'title': 'GuideSafe app available for contact tracing in Alabama',\n",
       "  'description': 'Alabamians can now download a mobile app that informs users of potential exposure of COVID-19. Alabama is one of the first states in the U.S. to launch the ...',\n",
       "  'query': 'Alabama GuideSafe COVID tracing app downloads reported',\n",
       "  'score': 0.37763434648513794},\n",
       " {'link': 'https://www.ruralhealthinfo.org/toolkits/emergency-preparedness/case-studies/infectious-disease/university-alabama-birmingham',\n",
       "  'title': 'COVID-19 Symptom Tracking and Exposure Notification ...',\n",
       "  'description': 'The third project was the GuideSafe Exposure Notification App, a resource available for download on smartphones for Alabama residents. This ...',\n",
       "  'query': 'Alabama GuideSafe COVID tracing app downloads reported',\n",
       "  'score': 0.03386957570910454},\n",
       " {'link': 'https://wbhm.org/2020/covid-19-tracking-app-available-to-the-public/',\n",
       "  'title': 'COVID-19 Tracking App Available To The Public',\n",
       "  'description': 'A phone app built by UAB and Birmingham-based MotionMobs that anonymously tracks COVID-19 exposure became available Monday to all Alabama residents.',\n",
       "  'query': 'Alabama GuideSafe COVID tracing app downloads reported',\n",
       "  'score': 0.11761219799518585},\n",
       " {'link': 'https://mynbc15.com/news/coronavirus/alabama-coronavirus-app-part-of-growing-multistate-network',\n",
       "  'title': 'Alabama coronavirus app part of growing multistate network',\n",
       "  'description': \"An app that's been used in Alabama to warn people that they might have been exposed to the coronavirus is joining a growing network in other ...\",\n",
       "  'query': 'Alabama GuideSafe COVID tracing app downloads reported',\n",
       "  'score': 0.0728190690279007},\n",
       " {'link': 'https://wehealth.org/covidwatchorg/news',\n",
       "  'title': 'News and Media | Covid Watch',\n",
       "  'description': 'UArizona is launching a new mobile app that lets students know anonymously if they have been exposed to COVID-19. August 19, 2020.',\n",
       "  'query': 'Arizona Covid Watch COVID contact tracing app download count',\n",
       "  'score': 0.039440080523490906},\n",
       " {'link': 'https://news.arizona.edu/news/how-smartphone-app-and-contact-tracing-helped-keep-uarizona-open-and-curb-covid-19-spread',\n",
       "  'title': 'How a Smartphone App and Contact Tracing Helped Keep ...',\n",
       "  'description': 'Since its launch in August, the Covid Watch Arizona exposure notification app has helped reduce the average number of people infected on ...',\n",
       "  'query': 'Arizona Covid Watch COVID contact tracing app download count',\n",
       "  'score': 0.053127042949199677},\n",
       " {'link': 'https://edscoop.com/university-arizona-contact-tracing-reduced-covid19-12-percent/',\n",
       "  'title': 'U. Arizona claims contact-tracing app reduced COVID-19 ...',\n",
       "  'description': 'The university estimates that about 14,000 people on the campus have downloaded the app, which is called Covid Watch Arizona. The app is based ...',\n",
       "  'query': 'Arizona Covid Watch COVID contact tracing app download count',\n",
       "  'score': 0.12113641947507858},\n",
       " {'link': 'https://physiology.arizona.edu/news/2020/uarizona-and-covid-watch-launch-covid-19-exposure-notification-app',\n",
       "  'title': 'UArizona and Covid Watch Launch COVID-19 Exposure ...',\n",
       "  'description': 'University of Arizona students, faculty and staff can now download and opt in to the Covid Watch exposure notification smartphone app, ...',\n",
       "  'query': 'Arizona Covid Watch COVID contact tracing app download count',\n",
       "  'score': 0.28478381037712097},\n",
       " {'link': 'https://wehealth.org/covidwatchorg/public-health',\n",
       "  'title': 'Covid Watch for Public Health',\n",
       "  'description': 'Our exposure notification app and platform for public health can help augment contact tracing in your jurisdiction. Contact Covid Watch to find out more.',\n",
       "  'query': 'Arizona Covid Watch COVID contact tracing app download count',\n",
       "  'score': 0.05218319594860077},\n",
       " {'link': 'https://ktar.com/arizona-news/covid-19-exposure-notification-app-launched-in-arizona-never-reached-full-potential/4598971/',\n",
       "  'title': 'COVID-19 exposure app launched in Arizona never ...',\n",
       "  'description': \"The Covid Watch Arizona app is still in circulation and has 93,000 downloads to date. However, Sonora Quest, the state's largest COVID-19 ...\",\n",
       "  'query': 'Arizona Covid Watch COVID contact tracing app download count',\n",
       "  'score': 0.03934771195054054},\n",
       " {'link': 'https://abcnews.go.com/US/smartphone-app-alerts-university-arizona-students-exposed-covid/story?id=72580199',\n",
       "  'title': 'Smartphone app alerts University of Arizona students if they ...',\n",
       "  'description': 'So far the Covid Watch app has been downloaded more than 9,800 times. \"This is one of the first in the U.S. to be released, that is fully ...',\n",
       "  'query': 'Arizona Covid Watch COVID contact tracing app download count',\n",
       "  'score': 0.025059599429368973},\n",
       " {'link': 'https://play.google.com/store/apps/details?id=gov.azdhs.covidwatch.android&hl=en_US',\n",
       "  'title': 'PHapp AZ - Apps on Google Play',\n",
       "  'description': \"Whether it's severe weather warnings, public health updates, or local emergency notices, our app keeps you connected to real-time information from verified ...\",\n",
       "  'query': 'Arizona Covid Watch COVID contact tracing app download count',\n",
       "  'score': 0.04038085788488388},\n",
       " {'link': 'https://azpha.org/2022/08/30/arizona-has-a-covid-19-exposure-notification-tool-now-and-its-free/',\n",
       "  'title': 'Arizona Has a COVID-19 Exposure Notification Tool Now ...',\n",
       "  'description': 'Download the Wehealth Arizona app. If anyone tests positive for Covid-19, they can choose to anonymously share that with the app. Other app ...',\n",
       "  'query': 'Arizona Covid Watch COVID contact tracing app download count',\n",
       "  'score': 0.039363034069538116},\n",
       " {'link': 'https://www.technologyreview.com/2020/12/14/1014426/covid-california-contact-tracing-app-america-states/',\n",
       "  'title': \"Contact tracing apps now cover nearly half of America. It's ...\",\n",
       "  'description': \"Almost half of all Americans now live somewhere covered by an app that will warn them if they've been close to someone with covid-19.\",\n",
       "  'query': 'Arizona Covid Watch COVID contact tracing app download count',\n",
       "  'score': 0.06446061283349991},\n",
       " {'link': 'https://www.kold.com/2020/08/19/uarizona-releases-covid-tracking-app/',\n",
       "  'title': 'University of Arizona releases COVID tracking app - KOLD.com',\n",
       "  'description': \"Officially released Wednesday, Aug. 19, the COVID Watch app is the latest release in the university's return-to-campus strategy—along with 160 ...\",\n",
       "  'query': 'Arizona Covid Watch COVID contact tracing app download count',\n",
       "  'score': 0.2279035449028015},\n",
       " {'link': 'https://pmc.ncbi.nlm.nih.gov/articles/PMC8194594/',\n",
       "  'title': 'Usability, inclusivity, and content evaluation of COVID-19 ...',\n",
       "  'description': 'We evaluated the usability of mobile COVID-19 contact tracing apps, especially for individuals with barriers to communication and limited digital literacy ...',\n",
       "  'query': 'Arizona Covid Watch COVID contact tracing app download count',\n",
       "  'score': 0.02246660180389881},\n",
       " {'link': 'https://en.wikipedia.org/wiki/COVID-19_apps',\n",
       "  'title': 'COVID-19 apps',\n",
       "  'description': 'COVID-19 apps include mobile-software applications for digital contact-tracing—i.e. the process of identifying persons (\"contacts\") who may have been in contact ...',\n",
       "  'query': 'Arizona Covid Watch COVID contact tracing app download count',\n",
       "  'score': 0.021898703649640083},\n",
       " {'link': 'https://www.cnbc.com/2020/10/03/covid-app-exposure-notification-apple-google.html',\n",
       "  'title': 'Apple-Google coronavirus tracking tech used in U.S.',\n",
       "  'description': \"New Jersey's app had been downloaded more than 63,000 times on Friday, according to a tracker inside the app. Apple, Google hit setback in ...\",\n",
       "  'query': 'Arizona Covid Watch COVID contact tracing app download count',\n",
       "  'score': 0.022808002308011055},\n",
       " {'link': 'https://www.reddit.com/r/CoronavirusAZ/comments/kg8s6j/uarizona_says_contact_tracing_app_has_reduced/',\n",
       "  'title': 'UArizona says contact tracing app has reduced ...',\n",
       "  'description': \"Just search “COVID Watch Arizona” in the Apple app or Google play store. It's free. It will work better if more people know about it and use it.\",\n",
       "  'query': 'Arizona Covid Watch COVID contact tracing app download count',\n",
       "  'score': 0.16144272685050964},\n",
       " {'link': 'https://nashp.org/state-tracker/state-approaches-to-contact-tracing-during-the-covid-19-pandemic/',\n",
       "  'title': 'State Approaches to Contact Tracing during the COVID-19 ...',\n",
       "  'description': 'In July 2021, the state ended its digital contact tracing program, but the app is still available for download. ... Covid Watch Arizona app. In ...',\n",
       "  'query': 'Arizona Covid Watch COVID contact tracing app download count',\n",
       "  'score': 0.04532983526587486},\n",
       " {'link': 'https://edscoop.com/university-contact-tracing-apps-privacy-reception/',\n",
       "  'title': 'At universities, contact tracing app reception hinges on ...',\n",
       "  'description': 'At the University of Arizona, students, faculty and staff can now download the Covid Watch app, and opt in to providing anonymous health data, ...',\n",
       "  'query': 'Arizona Covid Watch COVID contact tracing app download count',\n",
       "  'score': 0.059394847601652145},\n",
       " {'link': 'https://repository.stcloudstate.edu/cgi/viewcontent.cgi?article=1163&context=msia_etds',\n",
       "  'title': 'Privacy and Security Implications in COVID-19 Tracking ...',\n",
       "  'description': 'According to Helpnet Security (2020), 85% of COVID-19 tracking apps leak data. Infosecurity-magazine (2020) reports, a Dutch COVID-19 tracking app leaked 200 ...',\n",
       "  'query': 'Arizona Covid Watch COVID contact tracing app download count',\n",
       "  'score': 0.02745717205107212},\n",
       " {'link': 'https://www.medrxiv.org/content/10.1101/2021.02.02.21251022v7.full.pdf',\n",
       "  'title': 'Quantifying meaningful usage of a SARS-CoV-2 exposure ...',\n",
       "  'description': 'App usage was similar in this group who reported no contacts: 38.4% (116/302) had downloaded the. Covid Watch app, 52.6% (61/116) of whom had ...',\n",
       "  'query': 'Arizona Covid Watch COVID contact tracing app download count',\n",
       "  'score': 0.011610257439315319},\n",
       " {'link': 'https://www.usatoday.com/story/tech/columnist/2020/08/25/google-and-apple-supported-coronavirus-tracking-apps-land-states/3435214001/',\n",
       "  'title': 'COVID-19 tracking apps, supported by Apple and Google ...',\n",
       "  'description': 'The University of Arizona is testing Covid Watch Arizona, with a statewide release expected soon. They work by sharing anonymous Bluetooth ...',\n",
       "  'query': 'Arizona Covid Watch COVID contact tracing app download count',\n",
       "  'score': 0.05653538927435875},\n",
       " {'link': 'https://news.arizona.edu/news/uarizona-and-covid-watch-launch-covid-19-exposure-notification-app',\n",
       "  'title': 'UArizona and Covid Watch Launch COVID-19 Exposure ...',\n",
       "  'description': 'UArizona students, faculty and staff can now download the Covid Watch exposure notification app, which allows users diagnosed with COVID-19 ...',\n",
       "  'query': 'Arizona Covid Watch COVID app number of downloads',\n",
       "  'score': 0.28478381037712097},\n",
       " {'link': 'https://www.azdhs.gov/documents/privacy-policy/covid-watch-application-privacy-policy.pdf',\n",
       "  'title': 'Privacy Policy',\n",
       "  'description': 'Arizona, Arizona State University and Northern Arizona University developed the \\u200bCovid Watch. Arizona mobile application (the “App”) to help ...',\n",
       "  'query': 'Arizona Covid Watch COVID app number of downloads',\n",
       "  'score': 0.025911053642630577},\n",
       " {'link': 'https://www.medrxiv.org/content/10.1101/2021.02.02.21251022v3.full.pdf',\n",
       "  'title': 'Quantifying meaningful adoption of a SARS-CoV-2 ...',\n",
       "  'description': 'The University of Arizona community. 42 piloted the Covid Watch app, which through the Google/Apple Exposure Notification API. 43. (GAEN), uses ...',\n",
       "  'query': 'Arizona Covid Watch COVID app number of downloads',\n",
       "  'score': 0.014872540719807148},\n",
       " {'link': 'https://www.kgun9.com/news/coronavirus/new-smartphone-app-tracks-users-exposure-to-covid-19',\n",
       "  'title': \"New smartphone app tracks users' exposure to COVID-19\",\n",
       "  'description': 'The app is called \"COVID Watch.\" Once downloaded and installed, the app notes nearby Bluetooth signals of other mobile devices with the app ...',\n",
       "  'query': 'Arizona Covid Watch COVID app number of downloads',\n",
       "  'score': 0.06220501661300659},\n",
       " {'link': 'https://pmc.ncbi.nlm.nih.gov/articles/PMC9357651/',\n",
       "  'title': 'A Brief History of Exposure Notification During the COVID- ...',\n",
       "  'description': 'As of early May 2021, more than 36 million people in the United States had downloaded an exposure notification app or activated ENX on their devices. Self- ...',\n",
       "  'query': 'Arizona Covid Watch COVID app number of downloads',\n",
       "  'score': 0.018975667655467987},\n",
       " {'link': 'https://news.azpm.org/p/uanews/2020/9/28/180903-ua-covid-watch-app-is-now-on-30000-devices/',\n",
       "  'title': 'UA COVID Watch app is now on 30000 devices',\n",
       "  'description': 'About 30 thousand people have installed the COVID Watch Arizona app on their mobile devices. One of its co-creators says the app has alerted ...',\n",
       "  'query': 'Arizona Covid Watch COVID app number of downloads',\n",
       "  'score': 0.7895801067352295},\n",
       " {'link': 'https://www.gilbertaz.gov/community/residents/covid-19-information/economic-development',\n",
       "  'title': 'COVID-19 Information: Economic Development',\n",
       "  'description': 'The Office of Economic Development supports the attraction, growth, and retention of business and industry for the community. If you are seeking general ...',\n",
       "  'query': 'Arizona Covid Watch COVID app number of downloads',\n",
       "  'score': 0.022983238101005554},\n",
       " {'link': 'https://www.reddit.com/r/CoronavirusAZ/comments/rfo9gw/covid_watch_arizona_app_did_anybody_else_get_a/?utm_source=amp&utm_medium=',\n",
       "  'title': 'Covid Watch Arizona app - did anybody else get a ...',\n",
       "  'description': \"I've had this app since they went live, or near it and I've never gotten a notification about exposure. My guess is not many people use any of ...\",\n",
       "  'query': 'Arizona Covid Watch COVID tracing app downloads reported',\n",
       "  'score': 0.23288282752037048},\n",
       " {'link': 'https://www.cdph.ca.gov/Programs/CID/DCDC/Pages/CANotify/CANotifyMain.aspx',\n",
       "  'title': 'CA Notify Home - CDPH - CA.gov',\n",
       "  'description': 'As of May 11, 2023, the CA Notify COVID-19 exposure notification system is no longer available. Please visit CDPH COVID-19 Resources for more information.',\n",
       "  'query': 'California Covid Notify COVID contact tracing app download count',\n",
       "  'score': 0.10155516117811203},\n",
       " {'link': 'https://www.fhcsd.org/ca-notify/',\n",
       "  'title': 'CA Notify | COVID-19 Exposure Notifications',\n",
       "  'description': 'CA Notify is a phone application that will inform Californians if they have been exposed to someone who has tested positive for COVID-19.',\n",
       "  'query': 'California Covid Notify COVID contact tracing app download count',\n",
       "  'score': 0.11911064386367798},\n",
       " {'link': 'https://www.sacbee.com/news/coronavirus/article249875513.html',\n",
       "  'title': \"California's COVID-19 contact tracing app off to slow start\",\n",
       "  'description': 'About 100,000 people have received exposure alerts from the CA Notify app since it was released in December. During that same time, nearly 2 ...',\n",
       "  'query': 'California Covid Notify COVID contact tracing app download count',\n",
       "  'score': 0.2868973910808563},\n",
       " {'link': 'https://www.nascio.org/awards-library/awards/ca-notify-getting-to-immunity-with-automated-reporting/',\n",
       "  'title': 'CA Notify:',\n",
       "  'description': 'CA Notify offered a digital and innovative solution that made contact tracing anonymous and easy, and erased the stigma of reporting COVID-19 positivity at the ...',\n",
       "  'query': 'California Covid Notify COVID contact tracing app download count',\n",
       "  'score': 0.09244899451732635},\n",
       " {'link': 'https://www.chcf.org/resource/preliminary-research-suggests-covid-19-warning-app-slowed-transmission-virus/',\n",
       "  'title': 'Preliminary Research Suggests COVID-19 Warning App ...',\n",
       "  'description': 'More than nine million Californians – about one-third of residents over 18 – have enabled the CA Notify app.',\n",
       "  'query': 'California Covid Notify COVID contact tracing app download count',\n",
       "  'score': 0.04980672523379326},\n",
       " {'link': 'https://www.latimes.com/california/story/2020-12-13/ca-notify-smartphone-covid-alerts-4-million-californians',\n",
       "  'title': 'Smartphone COVID alert system signs up 4 million ...',\n",
       "  'description': 'iPhones: Update to iOS to 13.7 or later. Go to Settings, scroll to Exposure Notifications, and turn it on. Android: Download the CA Notify app ...',\n",
       "  'query': 'California Covid Notify COVID contact tracing app download count',\n",
       "  'score': 0.0528094656765461},\n",
       " {'link': 'https://time.com/5921518/covid-exposure-notification-apps/',\n",
       "  'title': 'People Are Finally Downloading COVID-19 Notification Apps',\n",
       "  'description': \"CA app will send notifications to a user's cell phone alerting them if they have been in close proximity to someone who has tested positive for coronavirus.\",\n",
       "  'query': 'California Covid Notify COVID contact tracing app download count',\n",
       "  'score': 0.18729829788208008},\n",
       " {'link': 'https://www.cdph.ca.gov/Programs/OPA/CDPH%20Document%20Library/Toolkits/ca_notify/CA-notify-FAQ.pdf',\n",
       "  'title': 'CA Notify: Frequently Asked Questions - CDPH',\n",
       "  'description': \"CA Notify is a free exposure notification system for smartphones—made possible by the California Department of Public Health—to alert you if you've been exposed.\",\n",
       "  'query': 'California Covid Notify COVID contact tracing app download count',\n",
       "  'score': 0.13423524796962738},\n",
       " {'link': 'https://www.theverge.com/22168473/coronavirus-contact-tracing-apps-exposure-notification-covid-google-apple',\n",
       "  'title': \"Contact tracing apps promised big and didn't deliver\",\n",
       "  'description': 'Fewer than 3,000 of the 180,000 people who tested positive since the app launched had it installed, and only around 800 people were notified of ...',\n",
       "  'query': 'California Covid Notify COVID contact tracing app download count',\n",
       "  'score': 0.07522181421518326},\n",
       " {'link': 'https://covid-19.ucla.edu/covid-notify/',\n",
       "  'title': 'CA COVID Notify - COVID-19 and vaccine resources',\n",
       "  'description': 'CA COVID Notify is available to all Californians. As such, users may be tested for COVID-19 at an expansive number of sites across the state.',\n",
       "  'query': 'California Covid Notify COVID contact tracing app download count',\n",
       "  'score': 0.1875859797000885},\n",
       " {'link': 'https://www.cnbc.com/2020/12/12/ca-notify-coronavirus-app-gets-4-million-activations-in-first-day.html',\n",
       "  'title': 'CA Notify coronavirus app gets 4 million activations in first ...',\n",
       "  'description': 'CA Notify is based on technology built by Apple and Google earlier this year called exposure notifications.',\n",
       "  'query': 'California Covid Notify COVID contact tracing app download count',\n",
       "  'score': 0.5353562235832214},\n",
       " {'link': 'http://newamerica.org/pit/briefs/the-mixed-success-of-covid-exposure-notification-apps/',\n",
       "  'title': 'The Mixed Success of COVID Exposure Notification Apps',\n",
       "  'description': 'CA Notify is available to both Android and iPhone users equally, but their ease of use varies. While iPhone users only need to enable exposure ...',\n",
       "  'query': 'California Covid Notify COVID contact tracing app download count',\n",
       "  'score': 0.07497693598270416},\n",
       " {'link': 'https://www.eff.org/deeplinks/2020/12/ca-notify-app-useful-arrow-fight-against-covid-19',\n",
       "  'title': 'California Has a New COVID Exposure Notification App',\n",
       "  'description': 'Today California joined dozens of other states and countries in launching its COVID-19 exposure notification app, CA Notify, built on Google ...',\n",
       "  'query': 'California Covid Notify COVID contact tracing app download count',\n",
       "  'score': 0.2624262273311615},\n",
       " {'link': 'https://www.reddit.com/r/bayarea/comments/kai2ty/anyone_here_download_the_ca_notify_app_cas/',\n",
       "  'title': \"Anyone here download the CA Notify app (CA's Contact ...\",\n",
       "  'description': \"If you download one of these apps, it will use your phone's Bluetooth chip to do what Bluetooth does: emit little radio pings to find other ...\",\n",
       "  'query': 'California Covid Notify COVID contact tracing app download count',\n",
       "  'score': 0.4908919930458069},\n",
       " {'link': 'https://calhospital.org/ca-covid-notify-on-demand-learning/',\n",
       "  'title': 'CA Notify: A New App to Speed COVID Exposure ...',\n",
       "  'description': \"CA COVID Notify will be available for download Dec. 10. Installing the app right away is key to aid in quick detection later. The app uses a smartphone's ...\",\n",
       "  'query': 'California Covid Notify COVID contact tracing app download count',\n",
       "  'score': 0.2548633813858032},\n",
       " {'link': 'https://www.jmir.org/2021/3/e25726/',\n",
       "  'title': 'Adoption of COVID-19 Contact Tracing Apps',\n",
       "  'description': 'Estimated adoption rate based on number of downloads ... Download the COVID Alert mobile app to protect yourself and your community.',\n",
       "  'query': 'California Covid Notify COVID contact tracing app download count',\n",
       "  'score': 0.10736362636089325},\n",
       " {'link': 'https://journals.plos.org/digitalhealth/article?id=10.1371/journal.pdig.0000287',\n",
       "  'title': 'Digital exposure notification tools: A global landscape ...',\n",
       "  'description': 'This study provides an overview of the global landscape of COVID-19 mobile apps, highlighting the prevalence of exposure notification tools and other app ...',\n",
       "  'query': 'California Covid Notify COVID contact tracing app download count',\n",
       "  'score': 0.04091693088412285},\n",
       " {'link': 'https://www.youtube.com/watch?v=E8Y-lPxZ80U',\n",
       "  'title': 'California CA Notify App | COVID 19 Contact Tracing',\n",
       "  'description': 'California CA Notify App - COVID 19 Contact Tracing What you need to know about the California CA Notify App... Luis Alvarez covers what you ...',\n",
       "  'query': 'California Covid Notify COVID contact tracing app download count',\n",
       "  'score': 0.5367059707641602},\n",
       " {'link': 'https://www.sacbee.com/news/california/article257189242.html',\n",
       "  'title': 'Remember COVID-19 phone alerts? California app ...',\n",
       "  'description': 'The CA Notify app has been downloaded more than 15.6 million times since Gov. Gavin Newsom announced it in late 2020. Since then, an estimated ...',\n",
       "  'query': 'California Covid Notify COVID app number of downloads',\n",
       "  'score': 0.11653666943311691},\n",
       " {'link': 'https://www.cmadocs.org/newsroom/news/view/ArticleId/49136/CA-Notify-app-to-offer-COVID-19-exposure-notification',\n",
       "  'title': 'CA Notify app to offer COVID-19 exposure notification',\n",
       "  'description': 'Download the \"CMADocs\" app today from the Apple or Google Play app stores for daily news updates, events calendar, resource library and more.',\n",
       "  'query': 'California Covid Notify COVID app number of downloads',\n",
       "  'score': 0.5336531400680542},\n",
       " {'link': 'https://california100.org/ca-notify-innovative-alert-system-to-help-slow-the-spread-of-covid-19/',\n",
       "  'title': 'CA Notify: Innovative Alert System To Help Slow The ...',\n",
       "  'description': 'California Notify is a breakthrough application that exists at the intersection of public health, technology and public policy.',\n",
       "  'query': 'California Covid Notify COVID app number of downloads',\n",
       "  'score': 0.20344793796539307},\n",
       " {'link': 'https://slate.com/technology/2022/08/covid-exposure-notification-apps.html',\n",
       "  'title': \"Why Didn't More Americans Use COVID Exposure ...\",\n",
       "  'description': \"More than 70 percent of Americans said they wouldn't download a COVID app because of concerns about protecting their digital privacy.\",\n",
       "  'query': 'California Covid Notify COVID app number of downloads',\n",
       "  'score': 0.019127050414681435},\n",
       " {'link': 'https://www.ucdavis.edu/coronavirus/news/uc-davis-rolls-out-covid-19-exposure-app-to-campuses',\n",
       "  'title': 'UC Davis Rolls Out COVID-19 Exposure App to Campuses',\n",
       "  'description': 'Android users who wish to participate must download the California COVID Notify app, whereas iOS users can activate it in their iPhone settings.',\n",
       "  'query': 'California Covid Notify COVID app number of downloads',\n",
       "  'score': 0.12981319427490234},\n",
       " {'link': 'https://abc7.com/ca-notify-covid-canotify-app-omicron-surge/11425379/',\n",
       "  'title': 'CA Notify alerts of possible COVID exposure increase amid ...',\n",
       "  'description': 'Statewide alerts from CA Notify have been sent to many smartphones letting people know if they have been exposed to someone with COVID-19.',\n",
       "  'query': 'California Covid Notify COVID app number of downloads',\n",
       "  'score': 0.09333597868680954},\n",
       " {'link': 'https://pmc.ncbi.nlm.nih.gov/articles/PMC9678789/',\n",
       "  'title': 'Defining Key Performance Indicators for the California ...',\n",
       "  'description': 'California deployed the Google Apple Exposure Notification framework, branded CA Notify, on December 10, 2020, to supplement traditional COVID-19 contact ...',\n",
       "  'query': 'California Covid Notify COVID tracing app downloads reported',\n",
       "  'score': 0.028170691803097725},\n",
       " {'link': 'https://coloradosun.com/2023/05/08/colorado-exposure-notifications-phone-app/',\n",
       "  'title': 'Colorado is ending its Exposure Notifications phone app ...',\n",
       "  'description': 'A study looking at a smartphone-based contact-tracing app used in England and Wales, though, found that the app may have averted up to 1 million ...',\n",
       "  'query': 'Colorado Exposure Notifications COVID contact tracing app download count',\n",
       "  'score': 0.15262380242347717},\n",
       " {'link': 'https://www.cpr.org/2020/10/29/10-of-coloradans-are-already-using-the-covid-19-tracking-app-will-it-help/',\n",
       "  'title': '10% Of Coloradans Are Already Using The COVID-19 ...',\n",
       "  'description': 'More than 587000 people have downloaded or enabled the Exposure Notification System app.',\n",
       "  'query': 'Colorado Exposure Notifications COVID contact tracing app download count',\n",
       "  'score': 0.028361188247799873},\n",
       " {'link': 'https://fletcher.tufts.edu/news-events/news/did-colorados-covid-19-exposure-notification-app-succeed-its-complicated',\n",
       "  'title': \"Did Colorado's COVID-19 exposure notification app succeed ...\",\n",
       "  'description': 'A study in the United Kingdom found the app could have prevented anywhere from 100,000 to 900,000 cases. The U.K. study also found that the app ...',\n",
       "  'query': 'Colorado Exposure Notifications COVID contact tracing app download count',\n",
       "  'score': 0.23125725984573364},\n",
       " {'link': 'https://www.9news.com/article/news/local/next/colorado-covid-tracing-app-2020-december-coronavirus/73-1c4bf0ce-6c26-4323-9eda-ce31b8f11639',\n",
       "  'title': 'Tons of Coloradans got the COVID exposure tracking app',\n",
       "  'description': 'More than 1.4 million people in the state have the COVID-19 exposure app on their phones, but much fewer people are using it.',\n",
       "  'query': 'Colorado Exposure Notifications COVID contact tracing app download count',\n",
       "  'score': 0.17767520248889923},\n",
       " {'link': 'https://www.gao.gov/blog/covid-19-exposure-notification-apps-are-available.-are-they-working',\n",
       "  'title': 'COVID-19 Exposure Notification Apps Are Available. But ...',\n",
       "  'description': 'The apps are intended to detect when 2 app users are in close contact, then send a notification if 1 of them later tests positive for COVID-19.',\n",
       "  'query': 'Colorado Exposure Notifications COVID contact tracing app download count',\n",
       "  'score': 0.15526266396045685},\n",
       " {'link': 'https://www.denverpost.com/2021/06/30/colorado-covid-exposure-notification-app/',\n",
       "  'title': \"Did Colorado's COVID-19 exposure notification app ...\",\n",
       "  'description': \"About 2.1 million people in Colorado have downloaded the app ... notify contacts, but most states haven't published their data. It's ...\",\n",
       "  'query': 'Colorado Exposure Notifications COVID contact tracing app download count',\n",
       "  'score': 0.1755845844745636},\n",
       " {'link': 'https://coloradosun.com/2020/10/30/colorado-coronavirus-exposure-notifications-google-apple/',\n",
       "  'title': 'A half-million Coloradans have already signed up for the ...',\n",
       "  'description': \"More than 500,000 Coloradans have already signed up for the state's new tool to notify people if they have possibly been exposed to the ...\",\n",
       "  'query': 'Colorado Exposure Notifications COVID contact tracing app download count',\n",
       "  'score': 0.02988620661199093},\n",
       " {'link': 'https://oit.colorado.gov/news-article/leading-the-nation-colorados-rapid-deployment-of-enx',\n",
       "  'title': \"Leading the Nation: Colorado's Rapid Deployment of ENx\",\n",
       "  'description': '30.2% adoption rate among Colorado smartphone owners; With 12,804 codes claimed, 148,911 individuals were able to be notified of exposure to ...',\n",
       "  'query': 'Colorado Exposure Notifications COVID contact tracing app download count',\n",
       "  'score': 0.02022760733962059},\n",
       " {'link': 'https://www.cbsnews.com/colorado/news/covid-exposure-app-colorado/',\n",
       "  'title': \"COVID Exposure Notification App Faces Challenge Of ' ...\",\n",
       "  'description': 'And only about a dozen, including the recent addition of Colorado, have launched the smartphone feature, which sends users a notification if ...',\n",
       "  'query': 'Colorado Exposure Notifications COVID contact tracing app download count',\n",
       "  'score': 0.11986742168664932},\n",
       " {'link': 'https://wwwnc.cdc.gov/eid/article/29/2/22-0959_article',\n",
       "  'title': 'Estimated Cases Averted by COVID-19 Digital Exposure ...',\n",
       "  'description': 'We estimated that digital notifications potentially averted 7–69 cases/1,000 notifications during November 8, 2020–January 2, 2021. Greater use ...',\n",
       "  'query': 'Colorado Exposure Notifications COVID contact tracing app download count',\n",
       "  'score': 0.01709263026714325},\n",
       " {'link': 'https://www.facebook.com/bouldercountypublichealth/posts/if-15-of-colorado-residents-downloaded-the-covid-19-exposure-notification-app-in/3529608687129759/?locale=az_AZ',\n",
       "  'title': 'If 15% of Colorado residents downloaded the COVID-19 ...',\n",
       "  'description': 'If 15% of Colorado residents downloaded the COVID-19 Exposure Notification app, infections could be reduced by up to 8% and fatalities by up to 6%. To ...',\n",
       "  'query': 'Colorado Exposure Notifications COVID app number of downloads',\n",
       "  'score': 0.051554273813962936},\n",
       " {'link': 'https://arkvalleyvoice.com/galloping-geek-covid-exposure-tracing-app/',\n",
       "  'title': 'The Galloping Geek: COVID Exposure Tracing App',\n",
       "  'description': 'The warning – “You may have been exposed”, came from the CO Exposure Notification app, which I had voluntarily downloaded onto my phone when it ...',\n",
       "  'query': 'Colorado Exposure Notifications COVID tracing app downloads reported',\n",
       "  'score': 0.10385450720787048},\n",
       " {'link': 'https://www.cpr.org/2020/10/22/new-phone-app-to-track-colorado-coronavirus-exposure-will-arrive-this-weekend/',\n",
       "  'title': 'New Phone App To Track Colorado Coronavirus Exposure ...',\n",
       "  'description': 'The Exposure Notification System will be part of the settings on Apple iPhones and a downloadable app for Android users.',\n",
       "  'query': 'Colorado Exposure Notifications COVID tracing app downloads reported',\n",
       "  'score': 0.17414513230323792},\n",
       " {'link': 'https://en.wikipedia.org/wiki/Exposure_Notification',\n",
       "  'title': 'Exposure Notification',\n",
       "  'description': 'Exposure Notification is a decentralized reporting protocol built on a combination of Bluetooth Low Energy technology and privacy-preserving cryptography.',\n",
       "  'query': 'Colorado Exposure Notifications COVID tracing app downloads reported',\n",
       "  'score': 0.026922358199954033},\n",
       " {'link': 'https://www.9news.com/article/news/investigations/colorado-covid-exposure-app/73-121b776c-88df-4391-9c6d-e7ea945fe4c2',\n",
       "  'title': 'Colorado COVID exposure app rarely worked ...',\n",
       "  'description': 'Codes were redeemed just about 8% of the time according to health officials.',\n",
       "  'query': 'Colorado Exposure Notifications COVID tracing app downloads reported',\n",
       "  'score': 0.06336293369531631},\n",
       " {'link': 'https://www.kunc.org/health/2021-12-13/colorado-covid-19-exposure-app-getting-a-lot-of-use-amid-surge',\n",
       "  'title': 'Colorado COVID-19 exposure app getting a lot of use amid ...',\n",
       "  'description': 'In all, Colorado has seen a 31% increase in reporting positive cases via the system since the state enabled a self-report feature that allows ...',\n",
       "  'query': 'Colorado Exposure Notifications COVID tracing app downloads reported',\n",
       "  'score': 0.19856229424476624},\n",
       " {'link': 'https://www.youtube.com/watch?v=YJArLCsWeTw',\n",
       "  'title': 'Colorado rolls out COVID-19 exposure notification app',\n",
       "  'description': \"State health officials hope a new cell phone app will be a valuable tool in the fight against COVID-19 by letting people know if they've ...\",\n",
       "  'query': 'Colorado Exposure Notifications COVID tracing app downloads reported',\n",
       "  'score': 0.540705144405365},\n",
       " {'link': 'https://www.canada.ca/en/health-canada/corporate/transparency/corporate-management-reporting/evaluation/covid-alert-national-covid-19-exposure-notification-app.html',\n",
       "  'title': 'Evaluation of the National COVID-19 Exposure Notification ...',\n",
       "  'description': 'The app was designed to notify users who had been in close contact with another app user who had tested positive for COVID-19 and reported it ...',\n",
       "  'query': 'Colorado Exposure Notifications COVID tracing app downloads reported',\n",
       "  'score': 0.04080771654844284},\n",
       " {'link': 'https://www.washingtonpost.com/technology/2020/11/18/coronavirus-app-exposure-alerts/',\n",
       "  'title': 'A covid-fighting tool is buried in your phone. Turn it on.',\n",
       "  'description': \"You don't have much to lose, so you might as well turn exposure alerts on. It takes less than five minutes to set up, and this guide will help.\",\n",
       "  'query': 'Colorado Exposure Notifications COVID tracing app downloads reported',\n",
       "  'score': 0.027796678245067596},\n",
       " {'link': 'https://coloradonewsline.com/2020/11/18/3400-coloradans-have-submitted-positive-covid-19-tests-a-fraction-of-total-to-notification-system/',\n",
       "  'title': '3400 Coloradans have submitted positive COVID-19 tests',\n",
       "  'description': 'Roughly 3400 Coloradans who tested positive for the coronavirus have used an exposure notification system to notify others of exposure.',\n",
       "  'query': 'Colorado Exposure Notifications COVID tracing app downloads reported',\n",
       "  'score': 0.04513464868068695},\n",
       " {'link': 'https://catalog.data.gov/dataset/covid-19-contact-tracing-covid-alert-ct-summary-by-week',\n",
       "  'title': 'COVID-19 Contact Tracing: COVID Alert CT Summary by Week',\n",
       "  'description': 'This dataset includes the cumulative and weekly activations for COVID Alert CT for iOS and Android smartphones. The location of app users is not tracked--the ...',\n",
       "  'query': 'Connecticut Covid Alert COVID contact tracing app download count',\n",
       "  'score': 0.4361209273338318},\n",
       " {'link': 'https://www.nbcconnecticut.com/news/local/660k-connecticut-residents-have-downloaded-contact-tracing-apps/2365149/',\n",
       "  'title': '660K Connecticut Residents Have Downloaded Contact ...',\n",
       "  'description': 'Officials say 660,000 Connecticut residents have signed up to receive alerts when someone they were close to tests positive for COVID-19, ...',\n",
       "  'query': 'Connecticut Covid Alert COVID contact tracing app download count',\n",
       "  'score': 0.10815737396478653},\n",
       " {'link': 'https://portal.ct.gov/governor/news/press-releases/2021/01-2021/governor-lamont-announces-connecticuts-covid-19-contact-tracing-app-has-been-activated',\n",
       "  'title': \"Governor Lamont Announces Connecticut's COVID-19 ...\",\n",
       "  'description': \"Governor Lamont Announces Connecticut's COVID-19 Contact Tracing App Has Been Activated on More Than One Million Mobile Devices. Report an ...\",\n",
       "  'query': 'Connecticut Covid Alert COVID contact tracing app download count',\n",
       "  'score': 0.035891663283109665},\n",
       " {'link': 'https://www.cbia.com/news/hr-safety/state-launches-covid-19-contact-tracing-app/',\n",
       "  'title': 'State Launches COVID-19 Contact Tracing App',\n",
       "  'description': 'The free, voluntary, and anonymous app alerts a user if they have been within six feet of an infected person for at least 15 minutes.',\n",
       "  'query': 'Connecticut Covid Alert COVID contact tracing app download count',\n",
       "  'score': 0.16806556284427643},\n",
       " {'link': 'https://www.ctpublic.org/news/2020-11-16/connecticuts-covid-exposure-app-tops-600-000-downloads-days-after-release',\n",
       "  'title': \"Connecticut's COVID Exposure App Tops 600000 ...\",\n",
       "  'description': \"The state's new covid exposure app for cellphones has reached over 600,000 downloads in less than a week. Launched last Thursday, the app ...\",\n",
       "  'query': 'Connecticut Covid Alert COVID contact tracing app download count',\n",
       "  'score': 0.2092360109090805},\n",
       " {'link': 'https://data.ct.gov/Health-and-Human-Services/COVID-19-Contact-Tracing-COVID-Alert-CT-Summary-by/c4dk-8f27',\n",
       "  'title': 'COVID Alert CT Summary by Week - ARCHIVE',\n",
       "  'description': '... COVID-19 Contact Tracing: COVID Alert CT Summary by Week - ARCHIVE. Health and Human Services. Note: This dataset has been archived and is no longer being ...',\n",
       "  'query': 'Connecticut Covid Alert COVID contact tracing app download count',\n",
       "  'score': 0.146931990981102},\n",
       " {'link': 'https://catalog.data.gov/dataset/covid-19-contact-tracing-covid-alert-ct-summary-by-week/resource/adc1e9b6-3ceb-4408-b241-9cdf839faae9',\n",
       "  'title': 'COVID Alert CT Summary by Week - ARCHIVE - JSON File',\n",
       "  'description': \"Note: This dataset has been archived and is no longer being updated. COVID Alert CT is Connecticut's voluntary, anonymous, exposure-notification smartphone ...\",\n",
       "  'query': 'Connecticut Covid Alert COVID contact tracing app download count',\n",
       "  'score': 0.20404188334941864},\n",
       " {'link': 'https://patch.com/connecticut/across-ct/ct-contact-tracing-app-what-know',\n",
       "  'title': 'CT Contact Tracing App: What To Know',\n",
       "  'description': 'The app, called COVID Alert CT, is available for both iPhone and Android. ... Android users can download the app on the Google Play store.',\n",
       "  'query': 'Connecticut Covid Alert COVID contact tracing app download count',\n",
       "  'score': 0.30179718136787415},\n",
       " {'link': 'https://www.columbiact.gov/community/page/covid-alert-ct-app',\n",
       "  'title': 'COVID Alert CT App',\n",
       "  'description': 'COVID Alert CT is a voluntary, anonymous, exposure-notification smartphone app. You will get an alert if you were in close contact with someone who tests ...',\n",
       "  'query': 'Connecticut Covid Alert COVID contact tracing app download count',\n",
       "  'score': 0.24939605593681335},\n",
       " {'link': 'https://www.nbcconnecticut.com/news/local/covid-19-exposure-notifications-now-available-on-your-phone/2359071/',\n",
       "  'title': 'COVID-19 Exposure Notifications Now Available on Your ...',\n",
       "  'description': 'The COVID Alert CT app can be downloaded from Google Play. To verify that exposure notifications are enabled on an Android phone, open the COVID ...',\n",
       "  'query': 'Connecticut Covid Alert COVID contact tracing app download count',\n",
       "  'score': 0.03875841200351715},\n",
       " {'link': 'https://www.researchgate.net/figure/The-Coronavirus-CT-app-The-app-employs-a-Bluetooth-interface-and-trace-contact-within-2_fig1_343134230',\n",
       "  'title': 'The Coronavirus CT app. The app employs a Bluetooth ...',\n",
       "  'description': 'The app employs a Bluetooth interface and trace contact within 2 meters for 15 minutes. A unique ID of each anonymous app user CT data is stored in a server for ...',\n",
       "  'query': 'Connecticut Covid Alert COVID contact tracing app download count',\n",
       "  'score': 0.12783850729465485},\n",
       " {'link': 'https://www.nascio.org/awards-library/awards/contact-tracing-innovation-contact/',\n",
       "  'title': \"ContaCT—Connecticut's Integrated COVID-19 ...\",\n",
       "  'description': 'The successful implementation of ContaCT provided a technological framework for contact tracing and. COVID data tracking in the state of Connecticut. This ...',\n",
       "  'query': 'Connecticut Covid Alert COVID contact tracing app download count',\n",
       "  'score': 0.053528472781181335},\n",
       " {'link': 'https://www.governor.ny.gov/news/governor-cuomo-and-governor-murphy-launch-exposure-notification-apps-help-stop-spread-covid-19',\n",
       "  'title': 'Governor Cuomo and Governor Murphy Launch Exposure ...',\n",
       "  'description': 'And today, we are announcing an app that you can download for free from the app store called COVID Alert NY.\" \"Over the course of our public ...',\n",
       "  'query': 'Connecticut Covid Alert COVID contact tracing app download count',\n",
       "  'score': 0.0290962103754282},\n",
       " {'link': 'https://pmc.ncbi.nlm.nih.gov/articles/PMC10835590/',\n",
       "  'title': \"Investigating Citizens' Acceptance of Contact Tracing Apps\",\n",
       "  'description': 'COVID Tracker has 3 main features. CT uses Bluetooth and anonymous ID numbers to log phones within close contact for more than 15 minutes. It downloads the ...',\n",
       "  'query': 'Connecticut Covid Alert COVID contact tracing app download count',\n",
       "  'score': 0.10018915683031082},\n",
       " {'link': 'https://www.naag.org/wp-content/uploads/2020/10/Apple-Response-EN-and-CT-Apps-NAAG-FINAL.pdf',\n",
       "  'title': 'Apple Response EN and CT Apps',\n",
       "  'description': '1. Verify that every app labeled or marketed as related to contact tracing, COVID-19 contact tracing, or coronavirus contact tracing or exposure ...',\n",
       "  'query': 'Connecticut Covid Alert COVID contact tracing app download count',\n",
       "  'score': 0.10852314531803131},\n",
       " {'link': 'https://ink.library.smu.edu.sg/cgi/viewcontent.cgi?article=7440&context=sis_research',\n",
       "  'title': 'Security and privacy review of contact tracing mobile apps',\n",
       "  'description': \"COVID Alert - Let's protect each other. 1M+. Canada. 20. Covid Alert CT. 50K+. US (Connecticut). 21. Covid Alert DE. 10K+. U.S (Delaware). 22. COVID Alert NJ.\",\n",
       "  'query': 'Connecticut Covid Alert COVID contact tracing app download count',\n",
       "  'score': 0.07757066190242767},\n",
       " {'link': 'https://www.fox61.com/article/news/health/coronavirus/state-calls-covid-alert-exposure-app-usage-phenomenal/520-e7768ae2-890d-4db4-8eb6-d40c4a303d21',\n",
       "  'title': \"State calls COVID alert exposure app usage, 'phenomenal'\",\n",
       "  'description': 'The COVID alert exposure app now has 660,000 activations. ... HARTFORD, Conn — State leaders are calling the number of COVID tracking app ...',\n",
       "  'query': 'Connecticut Covid Alert COVID contact tracing app download count',\n",
       "  'score': 0.16181878745555878},\n",
       " {'link': 'https://cms5.revize.com/revize/guilfordct/Document_Center/Coronavirus%20Information%20Updates/COVID-19%20Update/COVID-Mass-Notification-11-13-20-Final.pdf',\n",
       "  'title': 'Yesterday, the State of Connecticut launched COVID Alert ...',\n",
       "  'description': 'This app is only as successful as the number of people who download it, so it is critical that as many people as possible make sure the app is on their phone.',\n",
       "  'query': 'Connecticut Covid Alert COVID app number of downloads',\n",
       "  'score': 0.427349716424942},\n",
       " {'link': 'https://www.haddam.org/home/news/connecticut-launches-covid-alert-ct-app',\n",
       "  'title': 'Connecticut Launches COVID Alert CT App',\n",
       "  'description': 'The COVID Alert CT App can be downloaded from Google Play. To verify that exposure notifications are enabled on an Android phone, open the COVID ...',\n",
       "  'query': 'Connecticut Covid Alert COVID app number of downloads',\n",
       "  'score': 0.668199896812439},\n",
       " {'link': 'https://www.stonington-ct.gov/archived/news/launch-of-covid-alert-ct-the-exposure-notification-app-in-connecticut',\n",
       "  'title': 'Launch of COVID Alert CT, the Exposure Notification App ...',\n",
       "  'description': 'First, users should visit ct.gov/covidalertct, where they can find instructions on how to download the app for their specific device. Once ...',\n",
       "  'query': 'Connecticut Covid Alert COVID app number of downloads',\n",
       "  'score': 0.5224424600601196},\n",
       " {'link': 'https://catalog.data.gov/organization/state-of-connecticut?_tags_limit=0&tags=covid-19',\n",
       "  'title': 'State of Connecticut - Organizations - Dataset - Catalog',\n",
       "  'description': \"Note: This dataset has been archived and is no longer being updated. COVID Alert CT is Connecticut's voluntary, anonymous, exposure-notification smartphone app.\",\n",
       "  'query': 'Connecticut Covid Alert COVID app number of downloads',\n",
       "  'score': 0.06484710425138474},\n",
       " {'link': 'https://www.wiltonct.gov/coronavirus-resources/pages/covid-alert-ct-app',\n",
       "  'title': 'Covid Alert CT App',\n",
       "  'description': 'COVID Alert CT is a voluntary, anonymous, exposure-notification smartphone app. You will get an alert if you were in close contact with someone who tests ...',\n",
       "  'query': 'Connecticut Covid Alert COVID app number of downloads',\n",
       "  'score': 0.4950214624404907},\n",
       " {'link': 'https://www.youtube.com/watch?v=ZbI3-iIgDpI',\n",
       "  'title': 'COVID Alert CT: Connecticut’s COVID-19 Exposure ...',\n",
       "  'description': \"COVID Alert CT is Connecticut's COVID-19 exposure notification app ... app that users must download from Google Play and install on their device.\",\n",
       "  'query': 'Connecticut Covid Alert COVID app number of downloads',\n",
       "  'score': 0.2905166447162628},\n",
       " {'link': 'https://www.facebook.com/GovNedLamont/videos/covid-alert-ct-connecticuts-covid-19-exposure-notification-app/698798324093334/',\n",
       "  'title': \"Connecticut's COVID-19 exposure notification app | ...\",\n",
       "  'description': \"COVID Alert CT is Connecticut's COVID-19 exposure notification app. It sends an anonymous alert to your phone anytime your device has come ...\",\n",
       "  'query': 'Connecticut Covid Alert COVID app number of downloads',\n",
       "  'score': 0.317813515663147},\n",
       " {'link': 'https://coronavirus.health.ny.gov/nys-enx',\n",
       "  'title': 'NYS ENX | Department of Health - COVID-19',\n",
       "  'description': 'Download the app to get COVID-19 exposure alerts and help protect your community while maintaining your privacy. Download App · Get on Google Play.',\n",
       "  'query': 'Connecticut Covid Alert COVID app number of downloads',\n",
       "  'score': 0.01917324960231781},\n",
       " {'link': 'https://www.fema.gov/press-release/20250121/connecticut-first-state-open-covid-19-vaccine-mobile-unit',\n",
       "  'title': 'Connecticut First State to Open COVID -19 Vaccine Mobile ...',\n",
       "  'description': 'Connecticut First State to Open COVID -19 Vaccine Mobile Unit ; Release Date March 26, 2021, Release Number 046 ...',\n",
       "  'query': 'Connecticut Covid Alert COVID app number of downloads',\n",
       "  'score': 0.060951296240091324},\n",
       " {'link': 'https://connecticut.news12.com/gov-lamont-announces-app-to-track-covid-19-exposure',\n",
       "  'title': 'Gov. Lamont announces app to track COVID-19 exposure',\n",
       "  'description': 'Gov. Ned Lamont announced that Connecticut has launched its official COVID-19 exposure notification app, COVID Alert CT.',\n",
       "  'query': 'Connecticut Covid Alert COVID app number of downloads',\n",
       "  'score': 0.17527303099632263},\n",
       " {'link': 'https://www.ctpost.com/news/coronavirus/article/CT-records-2-746-new-COVID-cases-in-one-day-15726052.php',\n",
       "  'title': '300K CT residents sign up for COVID app on first day',\n",
       "  'description': \"More than 300,000 people in Connecticut have signed up for a smartphone app designed to alert them if they've been in close proximity to ...\",\n",
       "  'query': 'Connecticut Covid Alert COVID app number of downloads',\n",
       "  'score': 0.4103914499282837},\n",
       " {'link': 'https://www.ctpublic.org/post/connecticuts-covid-exposure-app-tops-600000-downloads-days-after-release',\n",
       "  'title': \"Connecticut's COVID Exposure App Tops 600000 ...\",\n",
       "  'description': \"The state's new covid exposure app for cellphones has reached over 600,000 downloads in less than a week. Launched last Thursday, the app ...\",\n",
       "  'query': 'Connecticut Covid Alert COVID tracing app downloads reported',\n",
       "  'score': 0.2092360109090805},\n",
       " {'link': 'https://news.hamlethub.com/wilton-connecticut/50872-connecticut-s-covid-19-contact-tracing-app-has-been-activated-on-more-than-one-million-mobile-devices',\n",
       "  'title': \"Connecticut's COVID-19 Contact Tracing App Has Been ...\",\n",
       "  'description': \"Governor Ned Lamont today announced that COVID Alert CT, Connecticut's COVID-19 exposure notification app, has been activated on more than one million ...\",\n",
       "  'query': 'Connecticut Covid Alert COVID tracing app downloads reported',\n",
       "  'score': 0.46291375160217285},\n",
       " {'link': 'https://abc7ny.com/covid-alert-ct-connecticut-app-ned-lamont-red-status/7909372/',\n",
       "  'title': 'Coronavirus update: Connecticut unveils new COVID app ...',\n",
       "  'description': \"Coronavirus update: Connecticut unveils new COVID app as 80% of population under 'red alert' status · JHU CSSE COVID.\",\n",
       "  'query': 'Connecticut Covid Alert COVID tracing app downloads reported',\n",
       "  'score': 0.2102290391921997},\n",
       " {'link': 'https://covidactnow.org/',\n",
       "  'title': 'Covid Act Now: US COVID Tracker',\n",
       "  'description': \"Jun 27, 2025 Covid Act Now has real-time tracking of your community's COVID risk level. Explore how your community is doing.\",\n",
       "  'query': 'Connecticut Covid Alert COVID tracing app downloads reported',\n",
       "  'score': 0.030560435727238655},\n",
       " {'link': 'https://www.ctsenaterepublicans.com/2021/01/covid-19-update-january-8-2021/',\n",
       "  'title': 'Covid-19 Update - January 8, 2021',\n",
       "  'description': \"Governor Lamont Announces Connecticut's COVID-19 Contact Tracing App Has Been Activated on More Than One Million Mobile Devices.\",\n",
       "  'query': 'Connecticut Covid Alert COVID tracing app downloads reported',\n",
       "  'score': 0.027499841526150703},\n",
       " {'link': 'https://covidtracking.com/data/state/connecticut',\n",
       "  'title': 'Connecticut',\n",
       "  'description': 'Cases, testing, hospitalization, outcomes, long-term-care, and race and ethnicity data for Connecticut, plus data sources, notes, and grade.',\n",
       "  'query': 'Connecticut Covid Alert COVID tracing app downloads reported',\n",
       "  'score': 0.044429972767829895}]"
      ]
     },
     "execution_count": 12,
     "metadata": {},
     "output_type": "execute_result"
    }
   ],
   "source": [
    "for w in all_webpages:\n",
    "    w[\"score\"] = title2score[w[\"title\"]]\n",
    "\n",
    "all_webpages"
   ]
  },
  {
   "cell_type": "code",
   "execution_count": 13,
   "metadata": {},
   "outputs": [
    {
     "name": "stdout",
     "output_type": "stream",
     "text": [
      "15\n"
     ]
    },
    {
     "data": {
      "text/plain": [
       "[{'link': 'https://news.azpm.org/p/uanews/2020/9/28/180903-ua-covid-watch-app-is-now-on-30000-devices/',\n",
       "  'title': 'UA COVID Watch app is now on 30000 devices',\n",
       "  'description': 'About 30 thousand people have installed the COVID Watch Arizona app on their mobile devices. One of its co-creators says the app has alerted ...',\n",
       "  'query': 'Arizona Covid Watch COVID app number of downloads',\n",
       "  'score': 0.7895801067352295},\n",
       " {'link': 'https://www.rocketcitynow.com/video/news/local/alabama-guidesafe-covid-19-app/525-973f3a54-d4f6-4c9e-aa29-f6b7000ae470',\n",
       "  'title': \"Alabama's GuideSafe app notifies you of COVID-19 exposure\",\n",
       "  'description': 'The GuideSafe app was released in August. Over 93000 people have already downloaded it.',\n",
       "  'query': 'Alabama GuideSafe COVID app number of downloads',\n",
       "  'score': 0.7020716667175293},\n",
       " {'link': 'https://www.youtube.com/watch?v=-QBcypdNhEQ',\n",
       "  'title': \"Alabama's GuideSafe app notifies you of COVID-19 exposure\",\n",
       "  'description': \"The GuideSafe app was released in August. Over 93000 people have already downloaded ... Alabama's GuideSafe app notifies you of COVID-19 exposure.\",\n",
       "  'query': 'Alabama GuideSafe COVID app number of downloads',\n",
       "  'score': 0.7020716667175293},\n",
       " {'link': 'https://www.haddam.org/home/news/connecticut-launches-covid-alert-ct-app',\n",
       "  'title': 'Connecticut Launches COVID Alert CT App',\n",
       "  'description': 'The COVID Alert CT App can be downloaded from Google Play. To verify that exposure notifications are enabled on an Android phone, open the COVID ...',\n",
       "  'query': 'Connecticut Covid Alert COVID app number of downloads',\n",
       "  'score': 0.668199896812439},\n",
       " {'link': 'https://www.youtube.com/watch?v=YJArLCsWeTw',\n",
       "  'title': 'Colorado rolls out COVID-19 exposure notification app',\n",
       "  'description': \"State health officials hope a new cell phone app will be a valuable tool in the fight against COVID-19 by letting people know if they've ...\",\n",
       "  'query': 'Colorado Exposure Notifications COVID tracing app downloads reported',\n",
       "  'score': 0.540705144405365},\n",
       " {'link': 'https://www.youtube.com/watch?v=E8Y-lPxZ80U',\n",
       "  'title': 'California CA Notify App | COVID 19 Contact Tracing',\n",
       "  'description': 'California CA Notify App - COVID 19 Contact Tracing What you need to know about the California CA Notify App... Luis Alvarez covers what you ...',\n",
       "  'query': 'California Covid Notify COVID contact tracing app download count',\n",
       "  'score': 0.5367059707641602},\n",
       " {'link': 'https://www.cnbc.com/2020/12/12/ca-notify-coronavirus-app-gets-4-million-activations-in-first-day.html',\n",
       "  'title': 'CA Notify coronavirus app gets 4 million activations in first ...',\n",
       "  'description': 'CA Notify is based on technology built by Apple and Google earlier this year called exposure notifications.',\n",
       "  'query': 'California Covid Notify COVID contact tracing app download count',\n",
       "  'score': 0.5353562235832214},\n",
       " {'link': 'https://www.cmadocs.org/newsroom/news/view/ArticleId/49136/CA-Notify-app-to-offer-COVID-19-exposure-notification',\n",
       "  'title': 'CA Notify app to offer COVID-19 exposure notification',\n",
       "  'description': 'Download the \"CMADocs\" app today from the Apple or Google Play app stores for daily news updates, events calendar, resource library and more.',\n",
       "  'query': 'California Covid Notify COVID app number of downloads',\n",
       "  'score': 0.5336531400680542},\n",
       " {'link': 'https://www.stonington-ct.gov/archived/news/launch-of-covid-alert-ct-the-exposure-notification-app-in-connecticut',\n",
       "  'title': 'Launch of COVID Alert CT, the Exposure Notification App ...',\n",
       "  'description': 'First, users should visit ct.gov/covidalertct, where they can find instructions on how to download the app for their specific device. Once ...',\n",
       "  'query': 'Connecticut Covid Alert COVID app number of downloads',\n",
       "  'score': 0.5224424600601196},\n",
       " {'link': 'https://www.wiltonct.gov/coronavirus-resources/pages/covid-alert-ct-app',\n",
       "  'title': 'Covid Alert CT App',\n",
       "  'description': 'COVID Alert CT is a voluntary, anonymous, exposure-notification smartphone app. You will get an alert if you were in close contact with someone who tests ...',\n",
       "  'query': 'Connecticut Covid Alert COVID app number of downloads',\n",
       "  'score': 0.4950214624404907},\n",
       " {'link': 'https://www.reddit.com/r/bayarea/comments/kai2ty/anyone_here_download_the_ca_notify_app_cas/',\n",
       "  'title': \"Anyone here download the CA Notify app (CA's Contact ...\",\n",
       "  'description': \"If you download one of these apps, it will use your phone's Bluetooth chip to do what Bluetooth does: emit little radio pings to find other ...\",\n",
       "  'query': 'California Covid Notify COVID contact tracing app download count',\n",
       "  'score': 0.4908919930458069},\n",
       " {'link': 'https://news.hamlethub.com/wilton-connecticut/50872-connecticut-s-covid-19-contact-tracing-app-has-been-activated-on-more-than-one-million-mobile-devices',\n",
       "  'title': \"Connecticut's COVID-19 Contact Tracing App Has Been ...\",\n",
       "  'description': \"Governor Ned Lamont today announced that COVID Alert CT, Connecticut's COVID-19 exposure notification app, has been activated on more than one million ...\",\n",
       "  'query': 'Connecticut Covid Alert COVID tracing app downloads reported',\n",
       "  'score': 0.46291375160217285},\n",
       " {'link': 'https://catalog.data.gov/dataset/covid-19-contact-tracing-covid-alert-ct-summary-by-week',\n",
       "  'title': 'COVID-19 Contact Tracing: COVID Alert CT Summary by Week',\n",
       "  'description': 'This dataset includes the cumulative and weekly activations for COVID Alert CT for iOS and Android smartphones. The location of app users is not tracked--the ...',\n",
       "  'query': 'Connecticut Covid Alert COVID contact tracing app download count',\n",
       "  'score': 0.4361209273338318},\n",
       " {'link': 'https://cms5.revize.com/revize/guilfordct/Document_Center/Coronavirus%20Information%20Updates/COVID-19%20Update/COVID-Mass-Notification-11-13-20-Final.pdf',\n",
       "  'title': 'Yesterday, the State of Connecticut launched COVID Alert ...',\n",
       "  'description': 'This app is only as successful as the number of people who download it, so it is critical that as many people as possible make sure the app is on their phone.',\n",
       "  'query': 'Connecticut Covid Alert COVID app number of downloads',\n",
       "  'score': 0.427349716424942},\n",
       " {'link': 'https://www.ctpost.com/news/coronavirus/article/CT-records-2-746-new-COVID-cases-in-one-day-15726052.php',\n",
       "  'title': '300K CT residents sign up for COVID app on first day',\n",
       "  'description': \"More than 300,000 people in Connecticut have signed up for a smartphone app designed to alert them if they've been in close proximity to ...\",\n",
       "  'query': 'Connecticut Covid Alert COVID app number of downloads',\n",
       "  'score': 0.4103914499282837}]"
      ]
     },
     "execution_count": 13,
     "metadata": {},
     "output_type": "execute_result"
    }
   ],
   "source": [
    "webpages_above_threshold = [p for p in all_webpages if p[\"score\"] > 0.4]\n",
    "webpages_above_threshold = sorted(webpages_above_threshold, key=lambda x: x[\"score\"], reverse=True)\n",
    "print(len(webpages_above_threshold))\n",
    "\n",
    "webpages_above_threshold"
   ]
  },
  {
   "cell_type": "markdown",
   "metadata": {},
   "source": [
    "# Data Extraction"
   ]
  },
  {
   "cell_type": "code",
   "execution_count": 14,
   "metadata": {},
   "outputs": [
    {
     "name": "stdout",
     "output_type": "stream",
     "text": [
      "class AppDownloadReport(BaseModel):\n",
      "    state: str = Field(..., description=\"Name of the U.S. state for which the app download count is reported\")\n",
      "    date: str = Field(..., description=\"Date for which the app download count is reported in YYYY-MM-DD format\")\n",
      "    download_count: int = Field(..., description=\"Number of downloads of COVID contact tracing apps\")\n"
     ]
    }
   ],
   "source": [
    "schema_fields = [\"state\", \"date\"]\n",
    "schema = generate_extraction_schema(dataset_description, schema_fields, llm_config)\n",
    "\n",
    "print(schema)"
   ]
  },
  {
   "cell_type": "code",
   "execution_count": 15,
   "metadata": {},
   "outputs": [
    {
     "name": "stderr",
     "output_type": "stream",
     "text": [
      "<string>:5: SyntaxWarning: invalid escape sequence '\\ '\n"
     ]
    },
    {
     "data": {
      "text/html": [
       "<pre style=\"white-space:pre;overflow-x:auto;line-height:normal;font-family:Menlo,'DejaVu Sans Mono',consolas,'Courier New',monospace\"><span style=\"color: #008080; text-decoration-color: #008080; font-weight: bold\">[</span><span style=\"color: #008080; text-decoration-color: #008080\">INIT</span><span style=\"color: #008080; text-decoration-color: #008080; font-weight: bold\">]</span><span style=\"color: #008080; text-decoration-color: #008080\">.... → Crawl4AI </span><span style=\"color: #008080; text-decoration-color: #008080; font-weight: bold\">0.6</span><span style=\"color: #008080; text-decoration-color: #008080\">.</span><span style=\"color: #008080; text-decoration-color: #008080; font-weight: bold\">3</span><span style=\"color: #008080; text-decoration-color: #008080\"> </span>\n",
       "</pre>\n"
      ],
      "text/plain": [
       "\u001b[1;36m[\u001b[0m\u001b[36mINIT\u001b[0m\u001b[1;36m]\u001b[0m\u001b[36m...\u001b[0m\u001b[36m. → Crawl4AI \u001b[0m\u001b[1;36m0.6\u001b[0m\u001b[36m.\u001b[0m\u001b[1;36m3\u001b[0m\u001b[36m \u001b[0m\n"
      ]
     },
     "metadata": {},
     "output_type": "display_data"
    },
    {
     "data": {
      "text/html": [
       "<pre style=\"white-space:pre;overflow-x:auto;line-height:normal;font-family:Menlo,'DejaVu Sans Mono',consolas,'Courier New',monospace\"><span style=\"color: #008000; text-decoration-color: #008000; font-weight: bold\">[</span><span style=\"color: #008000; text-decoration-color: #008000\">FETCH</span><span style=\"color: #008000; text-decoration-color: #008000; font-weight: bold\">]</span><span style=\"color: #008000; text-decoration-color: #008000\">... ↓ </span><span style=\"color: #008000; text-decoration-color: #008000; text-decoration: underline\">https://news.azpm.org/p/uanews/2020/9/28/180903-ua-covid-watch-app-is-now-on-30000-devices/</span><span style=\"color: #008000; text-decoration-color: #008000\">          |</span>\n",
       "<span style=\"color: #008000; text-decoration-color: #008000\">✓ | ⏱: </span><span style=\"color: #008000; text-decoration-color: #008000; font-weight: bold\">3.</span><span style=\"color: #008000; text-decoration-color: #008000\">07s </span>\n",
       "</pre>\n"
      ],
      "text/plain": [
       "\u001b[1;32m[\u001b[0m\u001b[32mFETCH\u001b[0m\u001b[1;32m]\u001b[0m\u001b[32m...\u001b[0m\u001b[32m ↓ \u001b[0m\u001b[4;32mhttps://news.azpm.org/p/uanews/2020/9/28/180903-ua-covid-watch-app-is-now-on-30000-devices/\u001b[0m\u001b[32m          |\u001b[0m\n",
       "\u001b[32m✓\u001b[0m\u001b[32m | ⏱: \u001b[0m\u001b[1;32m3.\u001b[0m\u001b[32m07s \u001b[0m\n"
      ]
     },
     "metadata": {},
     "output_type": "display_data"
    },
    {
     "data": {
      "text/html": [
       "<pre style=\"white-space:pre;overflow-x:auto;line-height:normal;font-family:Menlo,'DejaVu Sans Mono',consolas,'Courier New',monospace\"><span style=\"color: #008000; text-decoration-color: #008000; font-weight: bold\">[</span><span style=\"color: #008000; text-decoration-color: #008000\">SCRAPE</span><span style=\"color: #008000; text-decoration-color: #008000; font-weight: bold\">]</span><span style=\"color: #008000; text-decoration-color: #008000\">.. ◆ </span><span style=\"color: #008000; text-decoration-color: #008000; text-decoration: underline\">https://news.azpm.org/p/uanews/2020/9/28/180903-ua-covid-watch-app-is-now-on-30000-devices/</span><span style=\"color: #008000; text-decoration-color: #008000\">          |</span>\n",
       "<span style=\"color: #008000; text-decoration-color: #008000\">✓ | ⏱: </span><span style=\"color: #008000; text-decoration-color: #008000; font-weight: bold\">0.</span><span style=\"color: #008000; text-decoration-color: #008000\">03s </span>\n",
       "</pre>\n"
      ],
      "text/plain": [
       "\u001b[1;32m[\u001b[0m\u001b[32mSCRAPE\u001b[0m\u001b[1;32m]\u001b[0m\u001b[32m.. ◆ \u001b[0m\u001b[4;32mhttps://news.azpm.org/p/uanews/2020/9/28/180903-ua-covid-watch-app-is-now-on-30000-devices/\u001b[0m\u001b[32m          |\u001b[0m\n",
       "\u001b[32m✓\u001b[0m\u001b[32m | ⏱: \u001b[0m\u001b[1;32m0.\u001b[0m\u001b[32m03s \u001b[0m\n"
      ]
     },
     "metadata": {},
     "output_type": "display_data"
    },
    {
     "data": {
      "text/html": [
       "<pre style=\"white-space:pre;overflow-x:auto;line-height:normal;font-family:Menlo,'DejaVu Sans Mono',consolas,'Courier New',monospace\"><span style=\"color: #008080; text-decoration-color: #008080; font-weight: bold\">[</span><span style=\"color: #008080; text-decoration-color: #008080\">EXTRACT</span><span style=\"color: #008080; text-decoration-color: #008080; font-weight: bold\">]</span><span style=\"color: #008080; text-decoration-color: #008080\">. ■ Completed for </span><span style=\"color: #008080; text-decoration-color: #008080; text-decoration: underline\">https://news.azpm.org/p/uanews/2020/9/28/180903-ua...</span><span style=\"color: #008080; text-decoration-color: #008080\"> | Time: </span><span style=\"color: #008080; text-decoration-color: #008080; font-weight: bold\">1.</span><span style=\"color: #008080; text-decoration-color: #008080\">329634742003691s </span>\n",
       "</pre>\n"
      ],
      "text/plain": [
       "\u001b[1;36m[\u001b[0m\u001b[36mEXTRACT\u001b[0m\u001b[1;36m]\u001b[0m\u001b[36m. ■ Completed for \u001b[0m\u001b[4;36mhttps://news.azpm.org/p/uanews/2020/9/28/180903-ua...\u001b[0m\u001b[36m | Time: \u001b[0m\u001b[1;36m1.\u001b[0m\u001b[36m329634742003691s \u001b[0m\n"
      ]
     },
     "metadata": {},
     "output_type": "display_data"
    },
    {
     "data": {
      "text/html": [
       "<pre style=\"white-space:pre;overflow-x:auto;line-height:normal;font-family:Menlo,'DejaVu Sans Mono',consolas,'Courier New',monospace\"><span style=\"color: #008000; text-decoration-color: #008000; font-weight: bold\">[</span><span style=\"color: #008000; text-decoration-color: #008000\">COMPLETE</span><span style=\"color: #008000; text-decoration-color: #008000; font-weight: bold\">]</span><span style=\"color: #008000; text-decoration-color: #008000\"> ● </span><span style=\"color: #008000; text-decoration-color: #008000; text-decoration: underline\">https://news.azpm.org/p/uanews/2020/9/28/180903-ua-covid-watch-app-is-now-on-30000-devices/</span><span style=\"color: #008000; text-decoration-color: #008000\">          |</span>\n",
       "<span style=\"color: #008000; text-decoration-color: #008000\">✓ | ⏱: </span><span style=\"color: #008000; text-decoration-color: #008000; font-weight: bold\">4.</span><span style=\"color: #008000; text-decoration-color: #008000\">44s </span>\n",
       "</pre>\n"
      ],
      "text/plain": [
       "\u001b[1;32m[\u001b[0m\u001b[32mCOMPLETE\u001b[0m\u001b[1;32m]\u001b[0m\u001b[32m ● \u001b[0m\u001b[4;32mhttps://news.azpm.org/p/uanews/2020/9/28/180903-ua-covid-watch-app-is-now-on-30000-devices/\u001b[0m\u001b[32m          |\u001b[0m\n",
       "\u001b[32m✓\u001b[0m\u001b[32m | ⏱: \u001b[0m\u001b[1;32m4.\u001b[0m\u001b[32m44s \u001b[0m\n"
      ]
     },
     "metadata": {},
     "output_type": "display_data"
    },
    {
     "data": {
      "text/html": [
       "<pre style=\"white-space:pre;overflow-x:auto;line-height:normal;font-family:Menlo,'DejaVu Sans Mono',consolas,'Courier New',monospace\"><span style=\"color: #008000; text-decoration-color: #008000; font-weight: bold\">[</span><span style=\"color: #008000; text-decoration-color: #008000\">FETCH</span><span style=\"color: #008000; text-decoration-color: #008000; font-weight: bold\">]</span><span style=\"color: #008000; text-decoration-color: #008000\">... ↓ </span><span style=\"color: #008000; text-decoration-color: #008000; text-decoration: underline\">https://www.rocketcitynow.com/video/news/local/a...-19-app/525-973f3a54-d4f6-4c9e-aa29-f6b7000ae470</span><span style=\"color: #008000; text-decoration-color: #008000\">  |</span>\n",
       "<span style=\"color: #008000; text-decoration-color: #008000\">✓ | ⏱: </span><span style=\"color: #008000; text-decoration-color: #008000; font-weight: bold\">1.</span><span style=\"color: #008000; text-decoration-color: #008000\">19s </span>\n",
       "</pre>\n"
      ],
      "text/plain": [
       "\u001b[1;32m[\u001b[0m\u001b[32mFETCH\u001b[0m\u001b[1;32m]\u001b[0m\u001b[32m...\u001b[0m\u001b[32m ↓ \u001b[0m\u001b[4;32mhttps://www.rocketcitynow.com/video/news/local/a...-19-app/525-973f3a54-d4f6-4c9e-aa29-f6b7000ae470\u001b[0m\u001b[32m  |\u001b[0m\n",
       "\u001b[32m✓\u001b[0m\u001b[32m | ⏱: \u001b[0m\u001b[1;32m1.\u001b[0m\u001b[32m19s \u001b[0m\n"
      ]
     },
     "metadata": {},
     "output_type": "display_data"
    },
    {
     "data": {
      "text/html": [
       "<pre style=\"white-space:pre;overflow-x:auto;line-height:normal;font-family:Menlo,'DejaVu Sans Mono',consolas,'Courier New',monospace\"><span style=\"color: #008000; text-decoration-color: #008000; font-weight: bold\">[</span><span style=\"color: #008000; text-decoration-color: #008000\">SCRAPE</span><span style=\"color: #008000; text-decoration-color: #008000; font-weight: bold\">]</span><span style=\"color: #008000; text-decoration-color: #008000\">.. ◆ </span><span style=\"color: #008000; text-decoration-color: #008000; text-decoration: underline\">https://www.rocketcitynow.com/video/news/local/a...-19-app/525-973f3a54-d4f6-4c9e-aa29-f6b7000ae470</span><span style=\"color: #008000; text-decoration-color: #008000\">  |</span>\n",
       "<span style=\"color: #008000; text-decoration-color: #008000\">✓ | ⏱: </span><span style=\"color: #008000; text-decoration-color: #008000; font-weight: bold\">0.</span><span style=\"color: #008000; text-decoration-color: #008000\">04s </span>\n",
       "</pre>\n"
      ],
      "text/plain": [
       "\u001b[1;32m[\u001b[0m\u001b[32mSCRAPE\u001b[0m\u001b[1;32m]\u001b[0m\u001b[32m.. ◆ \u001b[0m\u001b[4;32mhttps://www.rocketcitynow.com/video/news/local/a...-19-app/525-973f3a54-d4f6-4c9e-aa29-f6b7000ae470\u001b[0m\u001b[32m  |\u001b[0m\n",
       "\u001b[32m✓\u001b[0m\u001b[32m | ⏱: \u001b[0m\u001b[1;32m0.\u001b[0m\u001b[32m04s \u001b[0m\n"
      ]
     },
     "metadata": {},
     "output_type": "display_data"
    },
    {
     "data": {
      "text/html": [
       "<pre style=\"white-space:pre;overflow-x:auto;line-height:normal;font-family:Menlo,'DejaVu Sans Mono',consolas,'Courier New',monospace\"><span style=\"color: #008080; text-decoration-color: #008080; font-weight: bold\">[</span><span style=\"color: #008080; text-decoration-color: #008080\">EXTRACT</span><span style=\"color: #008080; text-decoration-color: #008080; font-weight: bold\">]</span><span style=\"color: #008080; text-decoration-color: #008080\">. ■ Completed for </span><span style=\"color: #008080; text-decoration-color: #008080; text-decoration: underline\">https://www.rocketcitynow.com/video/news/local/ala...</span><span style=\"color: #008080; text-decoration-color: #008080\"> | Time: </span><span style=\"color: #008080; text-decoration-color: #008080; font-weight: bold\">2.</span><span style=\"color: #008080; text-decoration-color: #008080\">0129951190028805s </span>\n",
       "</pre>\n"
      ],
      "text/plain": [
       "\u001b[1;36m[\u001b[0m\u001b[36mEXTRACT\u001b[0m\u001b[1;36m]\u001b[0m\u001b[36m. ■ Completed for \u001b[0m\u001b[4;36mhttps://www.rocketcitynow.com/video/news/local/ala...\u001b[0m\u001b[36m | Time: \u001b[0m\u001b[1;36m2.\u001b[0m\u001b[36m0129951190028805s \u001b[0m\n"
      ]
     },
     "metadata": {},
     "output_type": "display_data"
    },
    {
     "data": {
      "text/html": [
       "<pre style=\"white-space:pre;overflow-x:auto;line-height:normal;font-family:Menlo,'DejaVu Sans Mono',consolas,'Courier New',monospace\"><span style=\"color: #008000; text-decoration-color: #008000; font-weight: bold\">[</span><span style=\"color: #008000; text-decoration-color: #008000\">COMPLETE</span><span style=\"color: #008000; text-decoration-color: #008000; font-weight: bold\">]</span><span style=\"color: #008000; text-decoration-color: #008000\"> ● </span><span style=\"color: #008000; text-decoration-color: #008000; text-decoration: underline\">https://www.rocketcitynow.com/video/news/local/a...-19-app/525-973f3a54-d4f6-4c9e-aa29-f6b7000ae470</span><span style=\"color: #008000; text-decoration-color: #008000\">  |</span>\n",
       "<span style=\"color: #008000; text-decoration-color: #008000\">✓ | ⏱: </span><span style=\"color: #008000; text-decoration-color: #008000; font-weight: bold\">3.</span><span style=\"color: #008000; text-decoration-color: #008000\">25s </span>\n",
       "</pre>\n"
      ],
      "text/plain": [
       "\u001b[1;32m[\u001b[0m\u001b[32mCOMPLETE\u001b[0m\u001b[1;32m]\u001b[0m\u001b[32m ● \u001b[0m\u001b[4;32mhttps://www.rocketcitynow.com/video/news/local/a...-19-app/525-973f3a54-d4f6-4c9e-aa29-f6b7000ae470\u001b[0m\u001b[32m  |\u001b[0m\n",
       "\u001b[32m✓\u001b[0m\u001b[32m | ⏱: \u001b[0m\u001b[1;32m3.\u001b[0m\u001b[32m25s \u001b[0m\n"
      ]
     },
     "metadata": {},
     "output_type": "display_data"
    },
    {
     "data": {
      "text/html": [
       "<pre style=\"white-space:pre;overflow-x:auto;line-height:normal;font-family:Menlo,'DejaVu Sans Mono',consolas,'Courier New',monospace\"><span style=\"color: #008000; text-decoration-color: #008000; font-weight: bold\">[</span><span style=\"color: #008000; text-decoration-color: #008000\">FETCH</span><span style=\"color: #008000; text-decoration-color: #008000; font-weight: bold\">]</span><span style=\"color: #008000; text-decoration-color: #008000\">... ↓ </span><span style=\"color: #008000; text-decoration-color: #008000; text-decoration: underline\">https://www.youtube.com/watch?v=-QBcypdNhEQ</span><span style=\"color: #008000; text-decoration-color: #008000\">                                                          |</span>\n",
       "<span style=\"color: #008000; text-decoration-color: #008000\">✓ | ⏱: </span><span style=\"color: #008000; text-decoration-color: #008000; font-weight: bold\">2.</span><span style=\"color: #008000; text-decoration-color: #008000\">08s </span>\n",
       "</pre>\n"
      ],
      "text/plain": [
       "\u001b[1;32m[\u001b[0m\u001b[32mFETCH\u001b[0m\u001b[1;32m]\u001b[0m\u001b[32m...\u001b[0m\u001b[32m ↓ \u001b[0m\u001b[4;32mhttps://www.youtube.com/watch?\u001b[0m\u001b[4;32mv\u001b[0m\u001b[4;32m=-QBcypdNhEQ\u001b[0m\u001b[32m                                                          |\u001b[0m\n",
       "\u001b[32m✓\u001b[0m\u001b[32m | ⏱: \u001b[0m\u001b[1;32m2.\u001b[0m\u001b[32m08s \u001b[0m\n"
      ]
     },
     "metadata": {},
     "output_type": "display_data"
    },
    {
     "data": {
      "text/html": [
       "<pre style=\"white-space:pre;overflow-x:auto;line-height:normal;font-family:Menlo,'DejaVu Sans Mono',consolas,'Courier New',monospace\"><span style=\"color: #008000; text-decoration-color: #008000; font-weight: bold\">[</span><span style=\"color: #008000; text-decoration-color: #008000\">SCRAPE</span><span style=\"color: #008000; text-decoration-color: #008000; font-weight: bold\">]</span><span style=\"color: #008000; text-decoration-color: #008000\">.. ◆ </span><span style=\"color: #008000; text-decoration-color: #008000; text-decoration: underline\">https://www.youtube.com/watch?v=-QBcypdNhEQ</span><span style=\"color: #008000; text-decoration-color: #008000\">                                                          |</span>\n",
       "<span style=\"color: #008000; text-decoration-color: #008000\">✓ | ⏱: </span><span style=\"color: #008000; text-decoration-color: #008000; font-weight: bold\">0.</span><span style=\"color: #008000; text-decoration-color: #008000\">14s </span>\n",
       "</pre>\n"
      ],
      "text/plain": [
       "\u001b[1;32m[\u001b[0m\u001b[32mSCRAPE\u001b[0m\u001b[1;32m]\u001b[0m\u001b[32m.. ◆ \u001b[0m\u001b[4;32mhttps://www.youtube.com/watch?\u001b[0m\u001b[4;32mv\u001b[0m\u001b[4;32m=-QBcypdNhEQ\u001b[0m\u001b[32m                                                          |\u001b[0m\n",
       "\u001b[32m✓\u001b[0m\u001b[32m | ⏱: \u001b[0m\u001b[1;32m0.\u001b[0m\u001b[32m14s \u001b[0m\n"
      ]
     },
     "metadata": {},
     "output_type": "display_data"
    },
    {
     "data": {
      "text/html": [
       "<pre style=\"white-space:pre;overflow-x:auto;line-height:normal;font-family:Menlo,'DejaVu Sans Mono',consolas,'Courier New',monospace\"><span style=\"color: #008080; text-decoration-color: #008080; font-weight: bold\">[</span><span style=\"color: #008080; text-decoration-color: #008080\">EXTRACT</span><span style=\"color: #008080; text-decoration-color: #008080; font-weight: bold\">]</span><span style=\"color: #008080; text-decoration-color: #008080\">. ■ Completed for </span><span style=\"color: #008080; text-decoration-color: #008080; text-decoration: underline\">https://www.youtube.com/watch?v=-QBcypdNhEQ...</span><span style=\"color: #008080; text-decoration-color: #008080\"> | Time: </span><span style=\"color: #008080; text-decoration-color: #008080; font-weight: bold\">1.</span><span style=\"color: #008080; text-decoration-color: #008080\">0242777910025325s </span>\n",
       "</pre>\n"
      ],
      "text/plain": [
       "\u001b[1;36m[\u001b[0m\u001b[36mEXTRACT\u001b[0m\u001b[1;36m]\u001b[0m\u001b[36m. ■ Completed for \u001b[0m\u001b[4;36mhttps://www.youtube.com/watch?\u001b[0m\u001b[4;36mv\u001b[0m\u001b[4;36m=-QBcypdNhEQ...\u001b[0m\u001b[36m | Time: \u001b[0m\u001b[1;36m1.\u001b[0m\u001b[36m0242777910025325s \u001b[0m\n"
      ]
     },
     "metadata": {},
     "output_type": "display_data"
    },
    {
     "data": {
      "text/html": [
       "<pre style=\"white-space:pre;overflow-x:auto;line-height:normal;font-family:Menlo,'DejaVu Sans Mono',consolas,'Courier New',monospace\"><span style=\"color: #008000; text-decoration-color: #008000; font-weight: bold\">[</span><span style=\"color: #008000; text-decoration-color: #008000\">COMPLETE</span><span style=\"color: #008000; text-decoration-color: #008000; font-weight: bold\">]</span><span style=\"color: #008000; text-decoration-color: #008000\"> ● </span><span style=\"color: #008000; text-decoration-color: #008000; text-decoration: underline\">https://www.youtube.com/watch?v=-QBcypdNhEQ</span><span style=\"color: #008000; text-decoration-color: #008000\">                                                          |</span>\n",
       "<span style=\"color: #008000; text-decoration-color: #008000\">✓ | ⏱: </span><span style=\"color: #008000; text-decoration-color: #008000; font-weight: bold\">3.</span><span style=\"color: #008000; text-decoration-color: #008000\">26s </span>\n",
       "</pre>\n"
      ],
      "text/plain": [
       "\u001b[1;32m[\u001b[0m\u001b[32mCOMPLETE\u001b[0m\u001b[1;32m]\u001b[0m\u001b[32m ● \u001b[0m\u001b[4;32mhttps://www.youtube.com/watch?\u001b[0m\u001b[4;32mv\u001b[0m\u001b[4;32m=-QBcypdNhEQ\u001b[0m\u001b[32m                                                          |\u001b[0m\n",
       "\u001b[32m✓\u001b[0m\u001b[32m | ⏱: \u001b[0m\u001b[1;32m3.\u001b[0m\u001b[32m26s \u001b[0m\n"
      ]
     },
     "metadata": {},
     "output_type": "display_data"
    },
    {
     "data": {
      "text/html": [
       "<pre style=\"white-space:pre;overflow-x:auto;line-height:normal;font-family:Menlo,'DejaVu Sans Mono',consolas,'Courier New',monospace\"><span style=\"color: #008000; text-decoration-color: #008000; font-weight: bold\">[</span><span style=\"color: #008000; text-decoration-color: #008000\">FETCH</span><span style=\"color: #008000; text-decoration-color: #008000; font-weight: bold\">]</span><span style=\"color: #008000; text-decoration-color: #008000\">... ↓ </span><span style=\"color: #008000; text-decoration-color: #008000; text-decoration: underline\">https://www.haddam.org/home/news/connecticut-launches-covid-alert-ct-app</span><span style=\"color: #008000; text-decoration-color: #008000\">                             |</span>\n",
       "<span style=\"color: #008000; text-decoration-color: #008000\">✓ | ⏱: </span><span style=\"color: #008000; text-decoration-color: #008000; font-weight: bold\">1.</span><span style=\"color: #008000; text-decoration-color: #008000\">14s </span>\n",
       "</pre>\n"
      ],
      "text/plain": [
       "\u001b[1;32m[\u001b[0m\u001b[32mFETCH\u001b[0m\u001b[1;32m]\u001b[0m\u001b[32m...\u001b[0m\u001b[32m ↓ \u001b[0m\u001b[4;32mhttps://www.haddam.org/home/news/connecticut-launches-covid-alert-ct-app\u001b[0m\u001b[32m                             |\u001b[0m\n",
       "\u001b[32m✓\u001b[0m\u001b[32m | ⏱: \u001b[0m\u001b[1;32m1.\u001b[0m\u001b[32m14s \u001b[0m\n"
      ]
     },
     "metadata": {},
     "output_type": "display_data"
    },
    {
     "data": {
      "text/html": [
       "<pre style=\"white-space:pre;overflow-x:auto;line-height:normal;font-family:Menlo,'DejaVu Sans Mono',consolas,'Courier New',monospace\"><span style=\"color: #008000; text-decoration-color: #008000; font-weight: bold\">[</span><span style=\"color: #008000; text-decoration-color: #008000\">SCRAPE</span><span style=\"color: #008000; text-decoration-color: #008000; font-weight: bold\">]</span><span style=\"color: #008000; text-decoration-color: #008000\">.. ◆ </span><span style=\"color: #008000; text-decoration-color: #008000; text-decoration: underline\">https://www.haddam.org/home/news/connecticut-launches-covid-alert-ct-app</span><span style=\"color: #008000; text-decoration-color: #008000\">                             |</span>\n",
       "<span style=\"color: #008000; text-decoration-color: #008000\">✓ | ⏱: </span><span style=\"color: #008000; text-decoration-color: #008000; font-weight: bold\">0.</span><span style=\"color: #008000; text-decoration-color: #008000\">05s </span>\n",
       "</pre>\n"
      ],
      "text/plain": [
       "\u001b[1;32m[\u001b[0m\u001b[32mSCRAPE\u001b[0m\u001b[1;32m]\u001b[0m\u001b[32m.. ◆ \u001b[0m\u001b[4;32mhttps://www.haddam.org/home/news/connecticut-launches-covid-alert-ct-app\u001b[0m\u001b[32m                             |\u001b[0m\n",
       "\u001b[32m✓\u001b[0m\u001b[32m | ⏱: \u001b[0m\u001b[1;32m0.\u001b[0m\u001b[32m05s \u001b[0m\n"
      ]
     },
     "metadata": {},
     "output_type": "display_data"
    },
    {
     "data": {
      "text/html": [
       "<pre style=\"white-space:pre;overflow-x:auto;line-height:normal;font-family:Menlo,'DejaVu Sans Mono',consolas,'Courier New',monospace\"><span style=\"color: #008080; text-decoration-color: #008080; font-weight: bold\">[</span><span style=\"color: #008080; text-decoration-color: #008080\">EXTRACT</span><span style=\"color: #008080; text-decoration-color: #008080; font-weight: bold\">]</span><span style=\"color: #008080; text-decoration-color: #008080\">. ■ Completed for </span><span style=\"color: #008080; text-decoration-color: #008080; text-decoration: underline\">https://www.haddam.org/home/news/connecticut-launc...</span><span style=\"color: #008080; text-decoration-color: #008080\"> | Time: </span><span style=\"color: #008080; text-decoration-color: #008080; font-weight: bold\">0.</span><span style=\"color: #008080; text-decoration-color: #008080\">8269060530001298s </span>\n",
       "</pre>\n"
      ],
      "text/plain": [
       "\u001b[1;36m[\u001b[0m\u001b[36mEXTRACT\u001b[0m\u001b[1;36m]\u001b[0m\u001b[36m. ■ Completed for \u001b[0m\u001b[4;36mhttps://www.haddam.org/home/news/connecticut-launc...\u001b[0m\u001b[36m | Time: \u001b[0m\u001b[1;36m0.\u001b[0m\u001b[36m8269060530001298s \u001b[0m\n"
      ]
     },
     "metadata": {},
     "output_type": "display_data"
    },
    {
     "data": {
      "text/html": [
       "<pre style=\"white-space:pre;overflow-x:auto;line-height:normal;font-family:Menlo,'DejaVu Sans Mono',consolas,'Courier New',monospace\"><span style=\"color: #008000; text-decoration-color: #008000; font-weight: bold\">[</span><span style=\"color: #008000; text-decoration-color: #008000\">COMPLETE</span><span style=\"color: #008000; text-decoration-color: #008000; font-weight: bold\">]</span><span style=\"color: #008000; text-decoration-color: #008000\"> ● </span><span style=\"color: #008000; text-decoration-color: #008000; text-decoration: underline\">https://www.haddam.org/home/news/connecticut-launches-covid-alert-ct-app</span><span style=\"color: #008000; text-decoration-color: #008000\">                             |</span>\n",
       "<span style=\"color: #008000; text-decoration-color: #008000\">✓ | ⏱: </span><span style=\"color: #008000; text-decoration-color: #008000; font-weight: bold\">2.</span><span style=\"color: #008000; text-decoration-color: #008000\">03s </span>\n",
       "</pre>\n"
      ],
      "text/plain": [
       "\u001b[1;32m[\u001b[0m\u001b[32mCOMPLETE\u001b[0m\u001b[1;32m]\u001b[0m\u001b[32m ● \u001b[0m\u001b[4;32mhttps://www.haddam.org/home/news/connecticut-launches-covid-alert-ct-app\u001b[0m\u001b[32m                             |\u001b[0m\n",
       "\u001b[32m✓\u001b[0m\u001b[32m | ⏱: \u001b[0m\u001b[1;32m2.\u001b[0m\u001b[32m03s \u001b[0m\n"
      ]
     },
     "metadata": {},
     "output_type": "display_data"
    },
    {
     "data": {
      "text/html": [
       "<pre style=\"white-space:pre;overflow-x:auto;line-height:normal;font-family:Menlo,'DejaVu Sans Mono',consolas,'Courier New',monospace\"><span style=\"color: #008000; text-decoration-color: #008000; font-weight: bold\">[</span><span style=\"color: #008000; text-decoration-color: #008000\">FETCH</span><span style=\"color: #008000; text-decoration-color: #008000; font-weight: bold\">]</span><span style=\"color: #008000; text-decoration-color: #008000\">... ↓ </span><span style=\"color: #008000; text-decoration-color: #008000; text-decoration: underline\">https://www.youtube.com/watch?v=YJArLCsWeTw</span><span style=\"color: #008000; text-decoration-color: #008000\">                                                          |</span>\n",
       "<span style=\"color: #008000; text-decoration-color: #008000\">✓ | ⏱: </span><span style=\"color: #008000; text-decoration-color: #008000; font-weight: bold\">1.</span><span style=\"color: #008000; text-decoration-color: #008000\">75s </span>\n",
       "</pre>\n"
      ],
      "text/plain": [
       "\u001b[1;32m[\u001b[0m\u001b[32mFETCH\u001b[0m\u001b[1;32m]\u001b[0m\u001b[32m...\u001b[0m\u001b[32m ↓ \u001b[0m\u001b[4;32mhttps://www.youtube.com/watch?\u001b[0m\u001b[4;32mv\u001b[0m\u001b[4;32m=\u001b[0m\u001b[4;32mYJArLCsWeTw\u001b[0m\u001b[32m                                                          |\u001b[0m\n",
       "\u001b[32m✓\u001b[0m\u001b[32m | ⏱: \u001b[0m\u001b[1;32m1.\u001b[0m\u001b[32m75s \u001b[0m\n"
      ]
     },
     "metadata": {},
     "output_type": "display_data"
    },
    {
     "data": {
      "text/html": [
       "<pre style=\"white-space:pre;overflow-x:auto;line-height:normal;font-family:Menlo,'DejaVu Sans Mono',consolas,'Courier New',monospace\"><span style=\"color: #008000; text-decoration-color: #008000; font-weight: bold\">[</span><span style=\"color: #008000; text-decoration-color: #008000\">SCRAPE</span><span style=\"color: #008000; text-decoration-color: #008000; font-weight: bold\">]</span><span style=\"color: #008000; text-decoration-color: #008000\">.. ◆ </span><span style=\"color: #008000; text-decoration-color: #008000; text-decoration: underline\">https://www.youtube.com/watch?v=YJArLCsWeTw</span><span style=\"color: #008000; text-decoration-color: #008000\">                                                          |</span>\n",
       "<span style=\"color: #008000; text-decoration-color: #008000\">✓ | ⏱: </span><span style=\"color: #008000; text-decoration-color: #008000; font-weight: bold\">0.</span><span style=\"color: #008000; text-decoration-color: #008000\">09s </span>\n",
       "</pre>\n"
      ],
      "text/plain": [
       "\u001b[1;32m[\u001b[0m\u001b[32mSCRAPE\u001b[0m\u001b[1;32m]\u001b[0m\u001b[32m.. ◆ \u001b[0m\u001b[4;32mhttps://www.youtube.com/watch?\u001b[0m\u001b[4;32mv\u001b[0m\u001b[4;32m=\u001b[0m\u001b[4;32mYJArLCsWeTw\u001b[0m\u001b[32m                                                          |\u001b[0m\n",
       "\u001b[32m✓\u001b[0m\u001b[32m | ⏱: \u001b[0m\u001b[1;32m0.\u001b[0m\u001b[32m09s \u001b[0m\n"
      ]
     },
     "metadata": {},
     "output_type": "display_data"
    },
    {
     "data": {
      "text/html": [
       "<pre style=\"white-space:pre;overflow-x:auto;line-height:normal;font-family:Menlo,'DejaVu Sans Mono',consolas,'Courier New',monospace\"><span style=\"color: #008080; text-decoration-color: #008080; font-weight: bold\">[</span><span style=\"color: #008080; text-decoration-color: #008080\">EXTRACT</span><span style=\"color: #008080; text-decoration-color: #008080; font-weight: bold\">]</span><span style=\"color: #008080; text-decoration-color: #008080\">. ■ Completed for </span><span style=\"color: #008080; text-decoration-color: #008080; text-decoration: underline\">https://www.youtube.com/watch?v=YJArLCsWeTw...</span><span style=\"color: #008080; text-decoration-color: #008080\"> | Time: </span><span style=\"color: #008080; text-decoration-color: #008080; font-weight: bold\">0.</span><span style=\"color: #008080; text-decoration-color: #008080\">7917240189999575s </span>\n",
       "</pre>\n"
      ],
      "text/plain": [
       "\u001b[1;36m[\u001b[0m\u001b[36mEXTRACT\u001b[0m\u001b[1;36m]\u001b[0m\u001b[36m. ■ Completed for \u001b[0m\u001b[4;36mhttps://www.youtube.com/watch?\u001b[0m\u001b[4;36mv\u001b[0m\u001b[4;36m=\u001b[0m\u001b[4;36mYJArLCsWeTw\u001b[0m\u001b[4;36m...\u001b[0m\u001b[36m | Time: \u001b[0m\u001b[1;36m0.\u001b[0m\u001b[36m7917240189999575s \u001b[0m\n"
      ]
     },
     "metadata": {},
     "output_type": "display_data"
    },
    {
     "data": {
      "text/html": [
       "<pre style=\"white-space:pre;overflow-x:auto;line-height:normal;font-family:Menlo,'DejaVu Sans Mono',consolas,'Courier New',monospace\"><span style=\"color: #008000; text-decoration-color: #008000; font-weight: bold\">[</span><span style=\"color: #008000; text-decoration-color: #008000\">COMPLETE</span><span style=\"color: #008000; text-decoration-color: #008000; font-weight: bold\">]</span><span style=\"color: #008000; text-decoration-color: #008000\"> ● </span><span style=\"color: #008000; text-decoration-color: #008000; text-decoration: underline\">https://www.youtube.com/watch?v=YJArLCsWeTw</span><span style=\"color: #008000; text-decoration-color: #008000\">                                                          |</span>\n",
       "<span style=\"color: #008000; text-decoration-color: #008000\">✓ | ⏱: </span><span style=\"color: #008000; text-decoration-color: #008000; font-weight: bold\">2.</span><span style=\"color: #008000; text-decoration-color: #008000\">65s </span>\n",
       "</pre>\n"
      ],
      "text/plain": [
       "\u001b[1;32m[\u001b[0m\u001b[32mCOMPLETE\u001b[0m\u001b[1;32m]\u001b[0m\u001b[32m ● \u001b[0m\u001b[4;32mhttps://www.youtube.com/watch?\u001b[0m\u001b[4;32mv\u001b[0m\u001b[4;32m=\u001b[0m\u001b[4;32mYJArLCsWeTw\u001b[0m\u001b[32m                                                          |\u001b[0m\n",
       "\u001b[32m✓\u001b[0m\u001b[32m | ⏱: \u001b[0m\u001b[1;32m2.\u001b[0m\u001b[32m65s \u001b[0m\n"
      ]
     },
     "metadata": {},
     "output_type": "display_data"
    },
    {
     "data": {
      "text/html": [
       "<pre style=\"white-space:pre;overflow-x:auto;line-height:normal;font-family:Menlo,'DejaVu Sans Mono',consolas,'Courier New',monospace\"><span style=\"color: #008000; text-decoration-color: #008000; font-weight: bold\">[</span><span style=\"color: #008000; text-decoration-color: #008000\">FETCH</span><span style=\"color: #008000; text-decoration-color: #008000; font-weight: bold\">]</span><span style=\"color: #008000; text-decoration-color: #008000\">... ↓ </span><span style=\"color: #008000; text-decoration-color: #008000; text-decoration: underline\">https://www.youtube.com/watch?v=E8Y-lPxZ80U</span><span style=\"color: #008000; text-decoration-color: #008000\">                                                          |</span>\n",
       "<span style=\"color: #008000; text-decoration-color: #008000\">✓ | ⏱: </span><span style=\"color: #008000; text-decoration-color: #008000; font-weight: bold\">1.</span><span style=\"color: #008000; text-decoration-color: #008000\">62s </span>\n",
       "</pre>\n"
      ],
      "text/plain": [
       "\u001b[1;32m[\u001b[0m\u001b[32mFETCH\u001b[0m\u001b[1;32m]\u001b[0m\u001b[32m...\u001b[0m\u001b[32m ↓ \u001b[0m\u001b[4;32mhttps://www.youtube.com/watch?\u001b[0m\u001b[4;32mv\u001b[0m\u001b[4;32m=\u001b[0m\u001b[4;32mE8Y\u001b[0m\u001b[4;32m-lPxZ80U\u001b[0m\u001b[32m                                                          |\u001b[0m\n",
       "\u001b[32m✓\u001b[0m\u001b[32m | ⏱: \u001b[0m\u001b[1;32m1.\u001b[0m\u001b[32m62s \u001b[0m\n"
      ]
     },
     "metadata": {},
     "output_type": "display_data"
    },
    {
     "data": {
      "text/html": [
       "<pre style=\"white-space:pre;overflow-x:auto;line-height:normal;font-family:Menlo,'DejaVu Sans Mono',consolas,'Courier New',monospace\"><span style=\"color: #008000; text-decoration-color: #008000; font-weight: bold\">[</span><span style=\"color: #008000; text-decoration-color: #008000\">SCRAPE</span><span style=\"color: #008000; text-decoration-color: #008000; font-weight: bold\">]</span><span style=\"color: #008000; text-decoration-color: #008000\">.. ◆ </span><span style=\"color: #008000; text-decoration-color: #008000; text-decoration: underline\">https://www.youtube.com/watch?v=E8Y-lPxZ80U</span><span style=\"color: #008000; text-decoration-color: #008000\">                                                          |</span>\n",
       "<span style=\"color: #008000; text-decoration-color: #008000\">✓ | ⏱: </span><span style=\"color: #008000; text-decoration-color: #008000; font-weight: bold\">0.</span><span style=\"color: #008000; text-decoration-color: #008000\">12s </span>\n",
       "</pre>\n"
      ],
      "text/plain": [
       "\u001b[1;32m[\u001b[0m\u001b[32mSCRAPE\u001b[0m\u001b[1;32m]\u001b[0m\u001b[32m.. ◆ \u001b[0m\u001b[4;32mhttps://www.youtube.com/watch?\u001b[0m\u001b[4;32mv\u001b[0m\u001b[4;32m=\u001b[0m\u001b[4;32mE8Y\u001b[0m\u001b[4;32m-lPxZ80U\u001b[0m\u001b[32m                                                          |\u001b[0m\n",
       "\u001b[32m✓\u001b[0m\u001b[32m | ⏱: \u001b[0m\u001b[1;32m0.\u001b[0m\u001b[32m12s \u001b[0m\n"
      ]
     },
     "metadata": {},
     "output_type": "display_data"
    },
    {
     "data": {
      "text/html": [
       "<pre style=\"white-space:pre;overflow-x:auto;line-height:normal;font-family:Menlo,'DejaVu Sans Mono',consolas,'Courier New',monospace\"><span style=\"color: #008080; text-decoration-color: #008080; font-weight: bold\">[</span><span style=\"color: #008080; text-decoration-color: #008080\">EXTRACT</span><span style=\"color: #008080; text-decoration-color: #008080; font-weight: bold\">]</span><span style=\"color: #008080; text-decoration-color: #008080\">. ■ Completed for </span><span style=\"color: #008080; text-decoration-color: #008080; text-decoration: underline\">https://www.youtube.com/watch?v=E8Y-lPxZ80U...</span><span style=\"color: #008080; text-decoration-color: #008080\"> | Time: </span><span style=\"color: #008080; text-decoration-color: #008080; font-weight: bold\">2.</span><span style=\"color: #008080; text-decoration-color: #008080\">111633938002342s </span>\n",
       "</pre>\n"
      ],
      "text/plain": [
       "\u001b[1;36m[\u001b[0m\u001b[36mEXTRACT\u001b[0m\u001b[1;36m]\u001b[0m\u001b[36m. ■ Completed for \u001b[0m\u001b[4;36mhttps://www.youtube.com/watch?\u001b[0m\u001b[4;36mv\u001b[0m\u001b[4;36m=\u001b[0m\u001b[4;36mE8Y\u001b[0m\u001b[4;36m-lPxZ80U...\u001b[0m\u001b[36m | Time: \u001b[0m\u001b[1;36m2.\u001b[0m\u001b[36m111633938002342s \u001b[0m\n"
      ]
     },
     "metadata": {},
     "output_type": "display_data"
    },
    {
     "data": {
      "text/html": [
       "<pre style=\"white-space:pre;overflow-x:auto;line-height:normal;font-family:Menlo,'DejaVu Sans Mono',consolas,'Courier New',monospace\"><span style=\"color: #008000; text-decoration-color: #008000; font-weight: bold\">[</span><span style=\"color: #008000; text-decoration-color: #008000\">COMPLETE</span><span style=\"color: #008000; text-decoration-color: #008000; font-weight: bold\">]</span><span style=\"color: #008000; text-decoration-color: #008000\"> ● </span><span style=\"color: #008000; text-decoration-color: #008000; text-decoration: underline\">https://www.youtube.com/watch?v=E8Y-lPxZ80U</span><span style=\"color: #008000; text-decoration-color: #008000\">                                                          |</span>\n",
       "<span style=\"color: #008000; text-decoration-color: #008000\">✓ | ⏱: </span><span style=\"color: #008000; text-decoration-color: #008000; font-weight: bold\">3.</span><span style=\"color: #008000; text-decoration-color: #008000\">87s </span>\n",
       "</pre>\n"
      ],
      "text/plain": [
       "\u001b[1;32m[\u001b[0m\u001b[32mCOMPLETE\u001b[0m\u001b[1;32m]\u001b[0m\u001b[32m ● \u001b[0m\u001b[4;32mhttps://www.youtube.com/watch?\u001b[0m\u001b[4;32mv\u001b[0m\u001b[4;32m=\u001b[0m\u001b[4;32mE8Y\u001b[0m\u001b[4;32m-lPxZ80U\u001b[0m\u001b[32m                                                          |\u001b[0m\n",
       "\u001b[32m✓\u001b[0m\u001b[32m | ⏱: \u001b[0m\u001b[1;32m3.\u001b[0m\u001b[32m87s \u001b[0m\n"
      ]
     },
     "metadata": {},
     "output_type": "display_data"
    },
    {
     "data": {
      "text/html": [
       "<pre style=\"white-space:pre;overflow-x:auto;line-height:normal;font-family:Menlo,'DejaVu Sans Mono',consolas,'Courier New',monospace\"><span style=\"color: #008000; text-decoration-color: #008000; font-weight: bold\">[</span><span style=\"color: #008000; text-decoration-color: #008000\">FETCH</span><span style=\"color: #008000; text-decoration-color: #008000; font-weight: bold\">]</span><span style=\"color: #008000; text-decoration-color: #008000\">... ↓ </span><span style=\"color: #008000; text-decoration-color: #008000; text-decoration: underline\">https://www.cnbc.com/2020/12/12/ca-notify-corona...app-gets-4-million-activations-in-first-day.html</span><span style=\"color: #008000; text-decoration-color: #008000\">  |</span>\n",
       "<span style=\"color: #008000; text-decoration-color: #008000\">✓ | ⏱: </span><span style=\"color: #008000; text-decoration-color: #008000; font-weight: bold\">2.</span><span style=\"color: #008000; text-decoration-color: #008000\">38s </span>\n",
       "</pre>\n"
      ],
      "text/plain": [
       "\u001b[1;32m[\u001b[0m\u001b[32mFETCH\u001b[0m\u001b[1;32m]\u001b[0m\u001b[32m...\u001b[0m\u001b[32m ↓ \u001b[0m\u001b[4;32mhttps://www.cnbc.com/2020/12/12/ca-notify-corona...app-gets-4-million-activations-in-first-day.html\u001b[0m\u001b[32m  |\u001b[0m\n",
       "\u001b[32m✓\u001b[0m\u001b[32m | ⏱: \u001b[0m\u001b[1;32m2.\u001b[0m\u001b[32m38s \u001b[0m\n"
      ]
     },
     "metadata": {},
     "output_type": "display_data"
    },
    {
     "data": {
      "text/html": [
       "<pre style=\"white-space:pre;overflow-x:auto;line-height:normal;font-family:Menlo,'DejaVu Sans Mono',consolas,'Courier New',monospace\"><span style=\"color: #008000; text-decoration-color: #008000; font-weight: bold\">[</span><span style=\"color: #008000; text-decoration-color: #008000\">SCRAPE</span><span style=\"color: #008000; text-decoration-color: #008000; font-weight: bold\">]</span><span style=\"color: #008000; text-decoration-color: #008000\">.. ◆ </span><span style=\"color: #008000; text-decoration-color: #008000; text-decoration: underline\">https://www.cnbc.com/2020/12/12/ca-notify-corona...app-gets-4-million-activations-in-first-day.html</span><span style=\"color: #008000; text-decoration-color: #008000\">  |</span>\n",
       "<span style=\"color: #008000; text-decoration-color: #008000\">✓ | ⏱: </span><span style=\"color: #008000; text-decoration-color: #008000; font-weight: bold\">0.</span><span style=\"color: #008000; text-decoration-color: #008000\">09s </span>\n",
       "</pre>\n"
      ],
      "text/plain": [
       "\u001b[1;32m[\u001b[0m\u001b[32mSCRAPE\u001b[0m\u001b[1;32m]\u001b[0m\u001b[32m.. ◆ \u001b[0m\u001b[4;32mhttps://www.cnbc.com/2020/12/12/ca-notify-corona...app-gets-4-million-activations-in-first-day.html\u001b[0m\u001b[32m  |\u001b[0m\n",
       "\u001b[32m✓\u001b[0m\u001b[32m | ⏱: \u001b[0m\u001b[1;32m0.\u001b[0m\u001b[32m09s \u001b[0m\n"
      ]
     },
     "metadata": {},
     "output_type": "display_data"
    },
    {
     "data": {
      "text/html": [
       "<pre style=\"white-space:pre;overflow-x:auto;line-height:normal;font-family:Menlo,'DejaVu Sans Mono',consolas,'Courier New',monospace\"><span style=\"color: #008080; text-decoration-color: #008080; font-weight: bold\">[</span><span style=\"color: #008080; text-decoration-color: #008080\">EXTRACT</span><span style=\"color: #008080; text-decoration-color: #008080; font-weight: bold\">]</span><span style=\"color: #008080; text-decoration-color: #008080\">. ■ Completed for </span><span style=\"color: #008080; text-decoration-color: #008080; text-decoration: underline\">https://www.cnbc.com/2020/12/12/ca-notify-coronavi...</span><span style=\"color: #008080; text-decoration-color: #008080\"> | Time: </span><span style=\"color: #008080; text-decoration-color: #008080; font-weight: bold\">2.</span><span style=\"color: #008080; text-decoration-color: #008080\">204191112999979s </span>\n",
       "</pre>\n"
      ],
      "text/plain": [
       "\u001b[1;36m[\u001b[0m\u001b[36mEXTRACT\u001b[0m\u001b[1;36m]\u001b[0m\u001b[36m. ■ Completed for \u001b[0m\u001b[4;36mhttps://www.cnbc.com/2020/12/12/ca-notify-coronavi...\u001b[0m\u001b[36m | Time: \u001b[0m\u001b[1;36m2.\u001b[0m\u001b[36m204191112999979s \u001b[0m\n"
      ]
     },
     "metadata": {},
     "output_type": "display_data"
    },
    {
     "data": {
      "text/html": [
       "<pre style=\"white-space:pre;overflow-x:auto;line-height:normal;font-family:Menlo,'DejaVu Sans Mono',consolas,'Courier New',monospace\"><span style=\"color: #008000; text-decoration-color: #008000; font-weight: bold\">[</span><span style=\"color: #008000; text-decoration-color: #008000\">COMPLETE</span><span style=\"color: #008000; text-decoration-color: #008000; font-weight: bold\">]</span><span style=\"color: #008000; text-decoration-color: #008000\"> ● </span><span style=\"color: #008000; text-decoration-color: #008000; text-decoration: underline\">https://www.cnbc.com/2020/12/12/ca-notify-corona...app-gets-4-million-activations-in-first-day.html</span><span style=\"color: #008000; text-decoration-color: #008000\">  |</span>\n",
       "<span style=\"color: #008000; text-decoration-color: #008000\">✓ | ⏱: </span><span style=\"color: #008000; text-decoration-color: #008000; font-weight: bold\">4.</span><span style=\"color: #008000; text-decoration-color: #008000\">69s </span>\n",
       "</pre>\n"
      ],
      "text/plain": [
       "\u001b[1;32m[\u001b[0m\u001b[32mCOMPLETE\u001b[0m\u001b[1;32m]\u001b[0m\u001b[32m ● \u001b[0m\u001b[4;32mhttps://www.cnbc.com/2020/12/12/ca-notify-corona...app-gets-4-million-activations-in-first-day.html\u001b[0m\u001b[32m  |\u001b[0m\n",
       "\u001b[32m✓\u001b[0m\u001b[32m | ⏱: \u001b[0m\u001b[1;32m4.\u001b[0m\u001b[32m69s \u001b[0m\n"
      ]
     },
     "metadata": {},
     "output_type": "display_data"
    },
    {
     "data": {
      "text/html": [
       "<pre style=\"white-space:pre;overflow-x:auto;line-height:normal;font-family:Menlo,'DejaVu Sans Mono',consolas,'Courier New',monospace\"><span style=\"color: #008000; text-decoration-color: #008000; font-weight: bold\">[</span><span style=\"color: #008000; text-decoration-color: #008000\">FETCH</span><span style=\"color: #008000; text-decoration-color: #008000; font-weight: bold\">]</span><span style=\"color: #008000; text-decoration-color: #008000\">... ↓ </span><span style=\"color: #008000; text-decoration-color: #008000; text-decoration: underline\">https://www.cmadocs.org/newsroom/news/view/Artic...tify-app-to-offer-COVID-19-exposure-notification</span><span style=\"color: #008000; text-decoration-color: #008000\">  |</span>\n",
       "<span style=\"color: #008000; text-decoration-color: #008000\">✓ | ⏱: </span><span style=\"color: #008000; text-decoration-color: #008000; font-weight: bold\">3.</span><span style=\"color: #008000; text-decoration-color: #008000\">87s </span>\n",
       "</pre>\n"
      ],
      "text/plain": [
       "\u001b[1;32m[\u001b[0m\u001b[32mFETCH\u001b[0m\u001b[1;32m]\u001b[0m\u001b[32m...\u001b[0m\u001b[32m ↓ \u001b[0m\u001b[4;32mhttps://www.cmadocs.org/newsroom/news/view/Artic...tify-app-to-offer-COVID-19-exposure-notification\u001b[0m\u001b[32m  |\u001b[0m\n",
       "\u001b[32m✓\u001b[0m\u001b[32m | ⏱: \u001b[0m\u001b[1;32m3.\u001b[0m\u001b[32m87s \u001b[0m\n"
      ]
     },
     "metadata": {},
     "output_type": "display_data"
    },
    {
     "data": {
      "text/html": [
       "<pre style=\"white-space:pre;overflow-x:auto;line-height:normal;font-family:Menlo,'DejaVu Sans Mono',consolas,'Courier New',monospace\"><span style=\"color: #008000; text-decoration-color: #008000; font-weight: bold\">[</span><span style=\"color: #008000; text-decoration-color: #008000\">SCRAPE</span><span style=\"color: #008000; text-decoration-color: #008000; font-weight: bold\">]</span><span style=\"color: #008000; text-decoration-color: #008000\">.. ◆ </span><span style=\"color: #008000; text-decoration-color: #008000; text-decoration: underline\">https://www.cmadocs.org/newsroom/news/view/Artic...tify-app-to-offer-COVID-19-exposure-notification</span><span style=\"color: #008000; text-decoration-color: #008000\">  |</span>\n",
       "<span style=\"color: #008000; text-decoration-color: #008000\">✓ | ⏱: </span><span style=\"color: #808000; text-decoration-color: #808000; font-weight: bold\">0.</span><span style=\"color: #808000; text-decoration-color: #808000\">1</span><span style=\"color: #008000; text-decoration-color: #008000\">0s </span>\n",
       "</pre>\n"
      ],
      "text/plain": [
       "\u001b[1;32m[\u001b[0m\u001b[32mSCRAPE\u001b[0m\u001b[1;32m]\u001b[0m\u001b[32m.. ◆ \u001b[0m\u001b[4;32mhttps://www.cmadocs.org/newsroom/news/view/Artic...tify-app-to-offer-COVID-19-exposure-notification\u001b[0m\u001b[32m  |\u001b[0m\n",
       "\u001b[32m✓\u001b[0m\u001b[32m | ⏱: \u001b[0m\u001b[1;33m0.\u001b[0m\u001b[33m1\u001b[0m\u001b[32m0s \u001b[0m\n"
      ]
     },
     "metadata": {},
     "output_type": "display_data"
    },
    {
     "data": {
      "text/html": [
       "<pre style=\"white-space:pre;overflow-x:auto;line-height:normal;font-family:Menlo,'DejaVu Sans Mono',consolas,'Courier New',monospace\"><span style=\"color: #008080; text-decoration-color: #008080; font-weight: bold\">[</span><span style=\"color: #008080; text-decoration-color: #008080\">EXTRACT</span><span style=\"color: #008080; text-decoration-color: #008080; font-weight: bold\">]</span><span style=\"color: #008080; text-decoration-color: #008080\">. ■ Completed for </span><span style=\"color: #008080; text-decoration-color: #008080; text-decoration: underline\">https://www.cmadocs.org/newsroom/news/view/Article...</span><span style=\"color: #008080; text-decoration-color: #008080\"> | Time: </span><span style=\"color: #008080; text-decoration-color: #008080; font-weight: bold\">1.</span><span style=\"color: #008080; text-decoration-color: #008080\">1905674720037496s </span>\n",
       "</pre>\n"
      ],
      "text/plain": [
       "\u001b[1;36m[\u001b[0m\u001b[36mEXTRACT\u001b[0m\u001b[1;36m]\u001b[0m\u001b[36m. ■ Completed for \u001b[0m\u001b[4;36mhttps://www.cmadocs.org/newsroom/news/view/Article...\u001b[0m\u001b[36m | Time: \u001b[0m\u001b[1;36m1.\u001b[0m\u001b[36m1905674720037496s \u001b[0m\n"
      ]
     },
     "metadata": {},
     "output_type": "display_data"
    },
    {
     "data": {
      "text/html": [
       "<pre style=\"white-space:pre;overflow-x:auto;line-height:normal;font-family:Menlo,'DejaVu Sans Mono',consolas,'Courier New',monospace\"><span style=\"color: #008000; text-decoration-color: #008000; font-weight: bold\">[</span><span style=\"color: #008000; text-decoration-color: #008000\">COMPLETE</span><span style=\"color: #008000; text-decoration-color: #008000; font-weight: bold\">]</span><span style=\"color: #008000; text-decoration-color: #008000\"> ● </span><span style=\"color: #008000; text-decoration-color: #008000; text-decoration: underline\">https://www.cmadocs.org/newsroom/news/view/Artic...tify-app-to-offer-COVID-19-exposure-notification</span><span style=\"color: #008000; text-decoration-color: #008000\">  |</span>\n",
       "<span style=\"color: #008000; text-decoration-color: #008000\">✓ | ⏱: </span><span style=\"color: #008000; text-decoration-color: #008000; font-weight: bold\">5.</span><span style=\"color: #008000; text-decoration-color: #008000\">17s </span>\n",
       "</pre>\n"
      ],
      "text/plain": [
       "\u001b[1;32m[\u001b[0m\u001b[32mCOMPLETE\u001b[0m\u001b[1;32m]\u001b[0m\u001b[32m ● \u001b[0m\u001b[4;32mhttps://www.cmadocs.org/newsroom/news/view/Artic...tify-app-to-offer-COVID-19-exposure-notification\u001b[0m\u001b[32m  |\u001b[0m\n",
       "\u001b[32m✓\u001b[0m\u001b[32m | ⏱: \u001b[0m\u001b[1;32m5.\u001b[0m\u001b[32m17s \u001b[0m\n"
      ]
     },
     "metadata": {},
     "output_type": "display_data"
    },
    {
     "data": {
      "text/html": [
       "<pre style=\"white-space:pre;overflow-x:auto;line-height:normal;font-family:Menlo,'DejaVu Sans Mono',consolas,'Courier New',monospace\"><span style=\"color: #008000; text-decoration-color: #008000; font-weight: bold\">[</span><span style=\"color: #008000; text-decoration-color: #008000\">FETCH</span><span style=\"color: #008000; text-decoration-color: #008000; font-weight: bold\">]</span><span style=\"color: #008000; text-decoration-color: #008000\">... ↓ </span><span style=\"color: #008000; text-decoration-color: #008000; text-decoration: underline\">https://www.stonington-ct.gov/archived/news/laun...-ct-the-exposure-notification-app-in-connecticut</span><span style=\"color: #008000; text-decoration-color: #008000\">  |</span>\n",
       "<span style=\"color: #008000; text-decoration-color: #008000\">✓ | ⏱: </span><span style=\"color: #008000; text-decoration-color: #008000; font-weight: bold\">1.</span><span style=\"color: #008000; text-decoration-color: #008000\">12s </span>\n",
       "</pre>\n"
      ],
      "text/plain": [
       "\u001b[1;32m[\u001b[0m\u001b[32mFETCH\u001b[0m\u001b[1;32m]\u001b[0m\u001b[32m...\u001b[0m\u001b[32m ↓ \u001b[0m\u001b[4;32mhttps://www.stonington-ct.gov/archived/news/laun...-ct-the-exposure-notification-app-in-connecticut\u001b[0m\u001b[32m  |\u001b[0m\n",
       "\u001b[32m✓\u001b[0m\u001b[32m | ⏱: \u001b[0m\u001b[1;32m1.\u001b[0m\u001b[32m12s \u001b[0m\n"
      ]
     },
     "metadata": {},
     "output_type": "display_data"
    },
    {
     "data": {
      "text/html": [
       "<pre style=\"white-space:pre;overflow-x:auto;line-height:normal;font-family:Menlo,'DejaVu Sans Mono',consolas,'Courier New',monospace\"><span style=\"color: #008000; text-decoration-color: #008000; font-weight: bold\">[</span><span style=\"color: #008000; text-decoration-color: #008000\">SCRAPE</span><span style=\"color: #008000; text-decoration-color: #008000; font-weight: bold\">]</span><span style=\"color: #008000; text-decoration-color: #008000\">.. ◆ </span><span style=\"color: #008000; text-decoration-color: #008000; text-decoration: underline\">https://www.stonington-ct.gov/archived/news/laun...-ct-the-exposure-notification-app-in-connecticut</span><span style=\"color: #008000; text-decoration-color: #008000\">  |</span>\n",
       "<span style=\"color: #008000; text-decoration-color: #008000\">✓ | ⏱: </span><span style=\"color: #008000; text-decoration-color: #008000; font-weight: bold\">0.</span><span style=\"color: #008000; text-decoration-color: #008000\">07s </span>\n",
       "</pre>\n"
      ],
      "text/plain": [
       "\u001b[1;32m[\u001b[0m\u001b[32mSCRAPE\u001b[0m\u001b[1;32m]\u001b[0m\u001b[32m.. ◆ \u001b[0m\u001b[4;32mhttps://www.stonington-ct.gov/archived/news/laun...-ct-the-exposure-notification-app-in-connecticut\u001b[0m\u001b[32m  |\u001b[0m\n",
       "\u001b[32m✓\u001b[0m\u001b[32m | ⏱: \u001b[0m\u001b[1;32m0.\u001b[0m\u001b[32m07s \u001b[0m\n"
      ]
     },
     "metadata": {},
     "output_type": "display_data"
    },
    {
     "data": {
      "text/html": [
       "<pre style=\"white-space:pre;overflow-x:auto;line-height:normal;font-family:Menlo,'DejaVu Sans Mono',consolas,'Courier New',monospace\"><span style=\"color: #008080; text-decoration-color: #008080; font-weight: bold\">[</span><span style=\"color: #008080; text-decoration-color: #008080\">EXTRACT</span><span style=\"color: #008080; text-decoration-color: #008080; font-weight: bold\">]</span><span style=\"color: #008080; text-decoration-color: #008080\">. ■ Completed for </span><span style=\"color: #008080; text-decoration-color: #008080; text-decoration: underline\">https://www.stonington-ct.gov/archived/news/launch...</span><span style=\"color: #008080; text-decoration-color: #008080\"> | Time: </span><span style=\"color: #008080; text-decoration-color: #008080; font-weight: bold\">0.</span><span style=\"color: #008080; text-decoration-color: #008080\">7337498540000524s </span>\n",
       "</pre>\n"
      ],
      "text/plain": [
       "\u001b[1;36m[\u001b[0m\u001b[36mEXTRACT\u001b[0m\u001b[1;36m]\u001b[0m\u001b[36m. ■ Completed for \u001b[0m\u001b[4;36mhttps://www.stonington-ct.gov/archived/news/launch...\u001b[0m\u001b[36m | Time: \u001b[0m\u001b[1;36m0.\u001b[0m\u001b[36m7337498540000524s \u001b[0m\n"
      ]
     },
     "metadata": {},
     "output_type": "display_data"
    },
    {
     "data": {
      "text/html": [
       "<pre style=\"white-space:pre;overflow-x:auto;line-height:normal;font-family:Menlo,'DejaVu Sans Mono',consolas,'Courier New',monospace\"><span style=\"color: #008000; text-decoration-color: #008000; font-weight: bold\">[</span><span style=\"color: #008000; text-decoration-color: #008000\">COMPLETE</span><span style=\"color: #008000; text-decoration-color: #008000; font-weight: bold\">]</span><span style=\"color: #008000; text-decoration-color: #008000\"> ● </span><span style=\"color: #008000; text-decoration-color: #008000; text-decoration: underline\">https://www.stonington-ct.gov/archived/news/laun...-ct-the-exposure-notification-app-in-connecticut</span><span style=\"color: #008000; text-decoration-color: #008000\">  |</span>\n",
       "<span style=\"color: #008000; text-decoration-color: #008000\">✓ | ⏱: </span><span style=\"color: #008000; text-decoration-color: #008000; font-weight: bold\">1.</span><span style=\"color: #008000; text-decoration-color: #008000\">93s </span>\n",
       "</pre>\n"
      ],
      "text/plain": [
       "\u001b[1;32m[\u001b[0m\u001b[32mCOMPLETE\u001b[0m\u001b[1;32m]\u001b[0m\u001b[32m ● \u001b[0m\u001b[4;32mhttps://www.stonington-ct.gov/archived/news/laun...-ct-the-exposure-notification-app-in-connecticut\u001b[0m\u001b[32m  |\u001b[0m\n",
       "\u001b[32m✓\u001b[0m\u001b[32m | ⏱: \u001b[0m\u001b[1;32m1.\u001b[0m\u001b[32m93s \u001b[0m\n"
      ]
     },
     "metadata": {},
     "output_type": "display_data"
    },
    {
     "data": {
      "text/html": [
       "<pre style=\"white-space:pre;overflow-x:auto;line-height:normal;font-family:Menlo,'DejaVu Sans Mono',consolas,'Courier New',monospace\"><span style=\"color: #008000; text-decoration-color: #008000; font-weight: bold\">[</span><span style=\"color: #008000; text-decoration-color: #008000\">FETCH</span><span style=\"color: #008000; text-decoration-color: #008000; font-weight: bold\">]</span><span style=\"color: #008000; text-decoration-color: #008000\">... ↓ </span><span style=\"color: #008000; text-decoration-color: #008000; text-decoration: underline\">https://www.wiltonct.gov/coronavirus-resources/pages/covid-alert-ct-app</span><span style=\"color: #008000; text-decoration-color: #008000\">                              |</span>\n",
       "<span style=\"color: #008000; text-decoration-color: #008000\">✓ | ⏱: </span><span style=\"color: #008000; text-decoration-color: #008000; font-weight: bold\">2.</span><span style=\"color: #008000; text-decoration-color: #008000\">10s </span>\n",
       "</pre>\n"
      ],
      "text/plain": [
       "\u001b[1;32m[\u001b[0m\u001b[32mFETCH\u001b[0m\u001b[1;32m]\u001b[0m\u001b[32m...\u001b[0m\u001b[32m ↓ \u001b[0m\u001b[4;32mhttps://www.wiltonct.gov/coronavirus-resources/pages/covid-alert-ct-app\u001b[0m\u001b[32m                              |\u001b[0m\n",
       "\u001b[32m✓\u001b[0m\u001b[32m | ⏱: \u001b[0m\u001b[1;32m2.\u001b[0m\u001b[32m10s \u001b[0m\n"
      ]
     },
     "metadata": {},
     "output_type": "display_data"
    },
    {
     "data": {
      "text/html": [
       "<pre style=\"white-space:pre;overflow-x:auto;line-height:normal;font-family:Menlo,'DejaVu Sans Mono',consolas,'Courier New',monospace\"><span style=\"color: #008000; text-decoration-color: #008000; font-weight: bold\">[</span><span style=\"color: #008000; text-decoration-color: #008000\">SCRAPE</span><span style=\"color: #008000; text-decoration-color: #008000; font-weight: bold\">]</span><span style=\"color: #008000; text-decoration-color: #008000\">.. ◆ </span><span style=\"color: #008000; text-decoration-color: #008000; text-decoration: underline\">https://www.wiltonct.gov/coronavirus-resources/pages/covid-alert-ct-app</span><span style=\"color: #008000; text-decoration-color: #008000\">                              |</span>\n",
       "<span style=\"color: #008000; text-decoration-color: #008000\">✓ | ⏱: </span><span style=\"color: #008000; text-decoration-color: #008000; font-weight: bold\">0.</span><span style=\"color: #008000; text-decoration-color: #008000\">10s </span>\n",
       "</pre>\n"
      ],
      "text/plain": [
       "\u001b[1;32m[\u001b[0m\u001b[32mSCRAPE\u001b[0m\u001b[1;32m]\u001b[0m\u001b[32m.. ◆ \u001b[0m\u001b[4;32mhttps://www.wiltonct.gov/coronavirus-resources/pages/covid-alert-ct-app\u001b[0m\u001b[32m                              |\u001b[0m\n",
       "\u001b[32m✓\u001b[0m\u001b[32m | ⏱: \u001b[0m\u001b[1;32m0.\u001b[0m\u001b[32m10s \u001b[0m\n"
      ]
     },
     "metadata": {},
     "output_type": "display_data"
    },
    {
     "data": {
      "text/html": [
       "<pre style=\"white-space:pre;overflow-x:auto;line-height:normal;font-family:Menlo,'DejaVu Sans Mono',consolas,'Courier New',monospace\"><span style=\"color: #008080; text-decoration-color: #008080; font-weight: bold\">[</span><span style=\"color: #008080; text-decoration-color: #008080\">EXTRACT</span><span style=\"color: #008080; text-decoration-color: #008080; font-weight: bold\">]</span><span style=\"color: #008080; text-decoration-color: #008080\">. ■ Completed for </span><span style=\"color: #008080; text-decoration-color: #008080; text-decoration: underline\">https://www.wiltonct.gov/coronavirus-resources/pag...</span><span style=\"color: #008080; text-decoration-color: #008080\"> | Time: </span><span style=\"color: #008080; text-decoration-color: #008080; font-weight: bold\">1.</span><span style=\"color: #008080; text-decoration-color: #008080\">243268475001969s </span>\n",
       "</pre>\n"
      ],
      "text/plain": [
       "\u001b[1;36m[\u001b[0m\u001b[36mEXTRACT\u001b[0m\u001b[1;36m]\u001b[0m\u001b[36m. ■ Completed for \u001b[0m\u001b[4;36mhttps://www.wiltonct.gov/coronavirus-resources/pag...\u001b[0m\u001b[36m | Time: \u001b[0m\u001b[1;36m1.\u001b[0m\u001b[36m243268475001969s \u001b[0m\n"
      ]
     },
     "metadata": {},
     "output_type": "display_data"
    },
    {
     "data": {
      "text/html": [
       "<pre style=\"white-space:pre;overflow-x:auto;line-height:normal;font-family:Menlo,'DejaVu Sans Mono',consolas,'Courier New',monospace\"><span style=\"color: #008000; text-decoration-color: #008000; font-weight: bold\">[</span><span style=\"color: #008000; text-decoration-color: #008000\">COMPLETE</span><span style=\"color: #008000; text-decoration-color: #008000; font-weight: bold\">]</span><span style=\"color: #008000; text-decoration-color: #008000\"> ● </span><span style=\"color: #008000; text-decoration-color: #008000; text-decoration: underline\">https://www.wiltonct.gov/coronavirus-resources/pages/covid-alert-ct-app</span><span style=\"color: #008000; text-decoration-color: #008000\">                              |</span>\n",
       "<span style=\"color: #008000; text-decoration-color: #008000\">✓ | ⏱: </span><span style=\"color: #008000; text-decoration-color: #008000; font-weight: bold\">3.</span><span style=\"color: #008000; text-decoration-color: #008000\">45s </span>\n",
       "</pre>\n"
      ],
      "text/plain": [
       "\u001b[1;32m[\u001b[0m\u001b[32mCOMPLETE\u001b[0m\u001b[1;32m]\u001b[0m\u001b[32m ● \u001b[0m\u001b[4;32mhttps://www.wiltonct.gov/coronavirus-resources/pages/covid-alert-ct-app\u001b[0m\u001b[32m                              |\u001b[0m\n",
       "\u001b[32m✓\u001b[0m\u001b[32m | ⏱: \u001b[0m\u001b[1;32m3.\u001b[0m\u001b[32m45s \u001b[0m\n"
      ]
     },
     "metadata": {},
     "output_type": "display_data"
    },
    {
     "data": {
      "text/html": [
       "<pre style=\"white-space:pre;overflow-x:auto;line-height:normal;font-family:Menlo,'DejaVu Sans Mono',consolas,'Courier New',monospace\"><span style=\"color: #008000; text-decoration-color: #008000; font-weight: bold\">[</span><span style=\"color: #008000; text-decoration-color: #008000\">FETCH</span><span style=\"color: #008000; text-decoration-color: #008000; font-weight: bold\">]</span><span style=\"color: #008000; text-decoration-color: #008000\">... ↓ </span><span style=\"color: #008000; text-decoration-color: #008000; text-decoration: underline\">https://www.reddit.com/r/bayarea/comments/kai2ty/anyone_here_download_the_ca_notify_app_cas/</span><span style=\"color: #008000; text-decoration-color: #008000\">         |</span>\n",
       "<span style=\"color: #008000; text-decoration-color: #008000\">✓ | ⏱: </span><span style=\"color: #008000; text-decoration-color: #008000; font-weight: bold\">1.</span><span style=\"color: #008000; text-decoration-color: #008000\">56s </span>\n",
       "</pre>\n"
      ],
      "text/plain": [
       "\u001b[1;32m[\u001b[0m\u001b[32mFETCH\u001b[0m\u001b[1;32m]\u001b[0m\u001b[32m...\u001b[0m\u001b[32m ↓ \u001b[0m\u001b[4;32mhttps://www.reddit.com/r/bayarea/comments/kai2ty/anyone_here_download_the_ca_notify_app_cas/\u001b[0m\u001b[32m         |\u001b[0m\n",
       "\u001b[32m✓\u001b[0m\u001b[32m | ⏱: \u001b[0m\u001b[1;32m1.\u001b[0m\u001b[32m56s \u001b[0m\n"
      ]
     },
     "metadata": {},
     "output_type": "display_data"
    },
    {
     "data": {
      "text/html": [
       "<pre style=\"white-space:pre;overflow-x:auto;line-height:normal;font-family:Menlo,'DejaVu Sans Mono',consolas,'Courier New',monospace\"><span style=\"color: #008000; text-decoration-color: #008000; font-weight: bold\">[</span><span style=\"color: #008000; text-decoration-color: #008000\">SCRAPE</span><span style=\"color: #008000; text-decoration-color: #008000; font-weight: bold\">]</span><span style=\"color: #008000; text-decoration-color: #008000\">.. ◆ </span><span style=\"color: #008000; text-decoration-color: #008000; text-decoration: underline\">https://www.reddit.com/r/bayarea/comments/kai2ty/anyone_here_download_the_ca_notify_app_cas/</span><span style=\"color: #008000; text-decoration-color: #008000\">         |</span>\n",
       "<span style=\"color: #008000; text-decoration-color: #008000\">✓ | ⏱: </span><span style=\"color: #008000; text-decoration-color: #008000; font-weight: bold\">0.</span><span style=\"color: #008000; text-decoration-color: #008000\">42s </span>\n",
       "</pre>\n"
      ],
      "text/plain": [
       "\u001b[1;32m[\u001b[0m\u001b[32mSCRAPE\u001b[0m\u001b[1;32m]\u001b[0m\u001b[32m.. ◆ \u001b[0m\u001b[4;32mhttps://www.reddit.com/r/bayarea/comments/kai2ty/anyone_here_download_the_ca_notify_app_cas/\u001b[0m\u001b[32m         |\u001b[0m\n",
       "\u001b[32m✓\u001b[0m\u001b[32m | ⏱: \u001b[0m\u001b[1;32m0.\u001b[0m\u001b[32m42s \u001b[0m\n"
      ]
     },
     "metadata": {},
     "output_type": "display_data"
    },
    {
     "data": {
      "text/html": [
       "<pre style=\"white-space:pre;overflow-x:auto;line-height:normal;font-family:Menlo,'DejaVu Sans Mono',consolas,'Courier New',monospace\"><span style=\"color: #008080; text-decoration-color: #008080; font-weight: bold\">[</span><span style=\"color: #008080; text-decoration-color: #008080\">EXTRACT</span><span style=\"color: #008080; text-decoration-color: #008080; font-weight: bold\">]</span><span style=\"color: #008080; text-decoration-color: #008080\">. ■ Completed for </span><span style=\"color: #008080; text-decoration-color: #008080; text-decoration: underline\">https://www.reddit.com/r/bayarea/comments/kai2ty/a...</span><span style=\"color: #008080; text-decoration-color: #008080\"> | Time: </span><span style=\"color: #008080; text-decoration-color: #008080; font-weight: bold\">0.</span><span style=\"color: #008080; text-decoration-color: #008080\">8507952410000144s </span>\n",
       "</pre>\n"
      ],
      "text/plain": [
       "\u001b[1;36m[\u001b[0m\u001b[36mEXTRACT\u001b[0m\u001b[1;36m]\u001b[0m\u001b[36m. ■ Completed for \u001b[0m\u001b[4;36mhttps://www.reddit.com/r/bayarea/comments/kai2ty/a...\u001b[0m\u001b[36m | Time: \u001b[0m\u001b[1;36m0.\u001b[0m\u001b[36m8507952410000144s \u001b[0m\n"
      ]
     },
     "metadata": {},
     "output_type": "display_data"
    },
    {
     "data": {
      "text/html": [
       "<pre style=\"white-space:pre;overflow-x:auto;line-height:normal;font-family:Menlo,'DejaVu Sans Mono',consolas,'Courier New',monospace\"><span style=\"color: #008000; text-decoration-color: #008000; font-weight: bold\">[</span><span style=\"color: #008000; text-decoration-color: #008000\">COMPLETE</span><span style=\"color: #008000; text-decoration-color: #008000; font-weight: bold\">]</span><span style=\"color: #008000; text-decoration-color: #008000\"> ● </span><span style=\"color: #008000; text-decoration-color: #008000; text-decoration: underline\">https://www.reddit.com/r/bayarea/comments/kai2ty/anyone_here_download_the_ca_notify_app_cas/</span><span style=\"color: #008000; text-decoration-color: #008000\">         |</span>\n",
       "<span style=\"color: #008000; text-decoration-color: #008000\">✓ | ⏱: </span><span style=\"color: #008000; text-decoration-color: #008000; font-weight: bold\">2.</span><span style=\"color: #008000; text-decoration-color: #008000\">85s </span>\n",
       "</pre>\n"
      ],
      "text/plain": [
       "\u001b[1;32m[\u001b[0m\u001b[32mCOMPLETE\u001b[0m\u001b[1;32m]\u001b[0m\u001b[32m ● \u001b[0m\u001b[4;32mhttps://www.reddit.com/r/bayarea/comments/kai2ty/anyone_here_download_the_ca_notify_app_cas/\u001b[0m\u001b[32m         |\u001b[0m\n",
       "\u001b[32m✓\u001b[0m\u001b[32m | ⏱: \u001b[0m\u001b[1;32m2.\u001b[0m\u001b[32m85s \u001b[0m\n"
      ]
     },
     "metadata": {},
     "output_type": "display_data"
    },
    {
     "data": {
      "text/html": [
       "<pre style=\"white-space:pre;overflow-x:auto;line-height:normal;font-family:Menlo,'DejaVu Sans Mono',consolas,'Courier New',monospace\"><span style=\"color: #008000; text-decoration-color: #008000; font-weight: bold\">[</span><span style=\"color: #008000; text-decoration-color: #008000\">FETCH</span><span style=\"color: #008000; text-decoration-color: #008000; font-weight: bold\">]</span><span style=\"color: #008000; text-decoration-color: #008000\">... ↓ </span><span style=\"color: #008000; text-decoration-color: #008000; text-decoration: underline\">https://news.hamlethub.com/wilton-connecticut/50...ctivated-on-more-than-one-million-mobile-devices</span><span style=\"color: #008000; text-decoration-color: #008000\">  |</span>\n",
       "<span style=\"color: #008000; text-decoration-color: #008000\">✓ | ⏱: </span><span style=\"color: #008000; text-decoration-color: #008000; font-weight: bold\">0.</span><span style=\"color: #008000; text-decoration-color: #008000\">99s </span>\n",
       "</pre>\n"
      ],
      "text/plain": [
       "\u001b[1;32m[\u001b[0m\u001b[32mFETCH\u001b[0m\u001b[1;32m]\u001b[0m\u001b[32m...\u001b[0m\u001b[32m ↓ \u001b[0m\u001b[4;32mhttps://news.hamlethub.com/wilton-connecticut/50...ctivated-on-more-than-one-million-mobile-devices\u001b[0m\u001b[32m  |\u001b[0m\n",
       "\u001b[32m✓\u001b[0m\u001b[32m | ⏱: \u001b[0m\u001b[1;32m0.\u001b[0m\u001b[32m99s \u001b[0m\n"
      ]
     },
     "metadata": {},
     "output_type": "display_data"
    },
    {
     "data": {
      "text/html": [
       "<pre style=\"white-space:pre;overflow-x:auto;line-height:normal;font-family:Menlo,'DejaVu Sans Mono',consolas,'Courier New',monospace\"><span style=\"color: #008000; text-decoration-color: #008000; font-weight: bold\">[</span><span style=\"color: #008000; text-decoration-color: #008000\">SCRAPE</span><span style=\"color: #008000; text-decoration-color: #008000; font-weight: bold\">]</span><span style=\"color: #008000; text-decoration-color: #008000\">.. ◆ </span><span style=\"color: #008000; text-decoration-color: #008000; text-decoration: underline\">https://news.hamlethub.com/wilton-connecticut/50...ctivated-on-more-than-one-million-mobile-devices</span><span style=\"color: #008000; text-decoration-color: #008000\">  |</span>\n",
       "<span style=\"color: #008000; text-decoration-color: #008000\">✓ | ⏱: </span><span style=\"color: #008000; text-decoration-color: #008000; font-weight: bold\">0.</span><span style=\"color: #008000; text-decoration-color: #008000\">01s </span>\n",
       "</pre>\n"
      ],
      "text/plain": [
       "\u001b[1;32m[\u001b[0m\u001b[32mSCRAPE\u001b[0m\u001b[1;32m]\u001b[0m\u001b[32m.. ◆ \u001b[0m\u001b[4;32mhttps://news.hamlethub.com/wilton-connecticut/50...ctivated-on-more-than-one-million-mobile-devices\u001b[0m\u001b[32m  |\u001b[0m\n",
       "\u001b[32m✓\u001b[0m\u001b[32m | ⏱: \u001b[0m\u001b[1;32m0.\u001b[0m\u001b[32m01s \u001b[0m\n"
      ]
     },
     "metadata": {},
     "output_type": "display_data"
    },
    {
     "data": {
      "text/html": [
       "<pre style=\"white-space:pre;overflow-x:auto;line-height:normal;font-family:Menlo,'DejaVu Sans Mono',consolas,'Courier New',monospace\"><span style=\"color: #008080; text-decoration-color: #008080; font-weight: bold\">[</span><span style=\"color: #008080; text-decoration-color: #008080\">EXTRACT</span><span style=\"color: #008080; text-decoration-color: #008080; font-weight: bold\">]</span><span style=\"color: #008080; text-decoration-color: #008080\">. ■ Completed for </span><span style=\"color: #008080; text-decoration-color: #008080; text-decoration: underline\">https://news.hamlethub.com/wilton-connecticut/5087...</span><span style=\"color: #008080; text-decoration-color: #008080\"> | Time: </span><span style=\"color: #008080; text-decoration-color: #008080; font-weight: bold\">0.</span><span style=\"color: #008080; text-decoration-color: #008080\">5850474519975251s </span>\n",
       "</pre>\n"
      ],
      "text/plain": [
       "\u001b[1;36m[\u001b[0m\u001b[36mEXTRACT\u001b[0m\u001b[1;36m]\u001b[0m\u001b[36m. ■ Completed for \u001b[0m\u001b[4;36mhttps://news.hamlethub.com/wilton-connecticut/5087...\u001b[0m\u001b[36m | Time: \u001b[0m\u001b[1;36m0.\u001b[0m\u001b[36m5850474519975251s \u001b[0m\n"
      ]
     },
     "metadata": {},
     "output_type": "display_data"
    },
    {
     "data": {
      "text/html": [
       "<pre style=\"white-space:pre;overflow-x:auto;line-height:normal;font-family:Menlo,'DejaVu Sans Mono',consolas,'Courier New',monospace\"><span style=\"color: #008000; text-decoration-color: #008000; font-weight: bold\">[</span><span style=\"color: #008000; text-decoration-color: #008000\">COMPLETE</span><span style=\"color: #008000; text-decoration-color: #008000; font-weight: bold\">]</span><span style=\"color: #008000; text-decoration-color: #008000\"> ● </span><span style=\"color: #008000; text-decoration-color: #008000; text-decoration: underline\">https://news.hamlethub.com/wilton-connecticut/50...ctivated-on-more-than-one-million-mobile-devices</span><span style=\"color: #008000; text-decoration-color: #008000\">  |</span>\n",
       "<span style=\"color: #008000; text-decoration-color: #008000\">✓ | ⏱: </span><span style=\"color: #008000; text-decoration-color: #008000; font-weight: bold\">1.</span><span style=\"color: #008000; text-decoration-color: #008000\">60s </span>\n",
       "</pre>\n"
      ],
      "text/plain": [
       "\u001b[1;32m[\u001b[0m\u001b[32mCOMPLETE\u001b[0m\u001b[1;32m]\u001b[0m\u001b[32m ● \u001b[0m\u001b[4;32mhttps://news.hamlethub.com/wilton-connecticut/50...ctivated-on-more-than-one-million-mobile-devices\u001b[0m\u001b[32m  |\u001b[0m\n",
       "\u001b[32m✓\u001b[0m\u001b[32m | ⏱: \u001b[0m\u001b[1;32m1.\u001b[0m\u001b[32m60s \u001b[0m\n"
      ]
     },
     "metadata": {},
     "output_type": "display_data"
    },
    {
     "data": {
      "text/html": [
       "<pre style=\"white-space:pre;overflow-x:auto;line-height:normal;font-family:Menlo,'DejaVu Sans Mono',consolas,'Courier New',monospace\"><span style=\"color: #008000; text-decoration-color: #008000; font-weight: bold\">[</span><span style=\"color: #008000; text-decoration-color: #008000\">FETCH</span><span style=\"color: #008000; text-decoration-color: #008000; font-weight: bold\">]</span><span style=\"color: #008000; text-decoration-color: #008000\">... ↓ </span><span style=\"color: #008000; text-decoration-color: #008000; text-decoration: underline\">https://catalog.data.gov/dataset/covid-19-contact-tracing-covid-alert-ct-summary-by-week</span><span style=\"color: #008000; text-decoration-color: #008000\">             |</span>\n",
       "<span style=\"color: #008000; text-decoration-color: #008000\">✓ | ⏱: </span><span style=\"color: #008000; text-decoration-color: #008000; font-weight: bold\">1.</span><span style=\"color: #008000; text-decoration-color: #008000\">14s </span>\n",
       "</pre>\n"
      ],
      "text/plain": [
       "\u001b[1;32m[\u001b[0m\u001b[32mFETCH\u001b[0m\u001b[1;32m]\u001b[0m\u001b[32m...\u001b[0m\u001b[32m ↓ \u001b[0m\u001b[4;32mhttps://catalog.data.gov/dataset/covid-19-contact-tracing-covid-alert-ct-summary-by-week\u001b[0m\u001b[32m             |\u001b[0m\n",
       "\u001b[32m✓\u001b[0m\u001b[32m | ⏱: \u001b[0m\u001b[1;32m1.\u001b[0m\u001b[32m14s \u001b[0m\n"
      ]
     },
     "metadata": {},
     "output_type": "display_data"
    },
    {
     "data": {
      "text/html": [
       "<pre style=\"white-space:pre;overflow-x:auto;line-height:normal;font-family:Menlo,'DejaVu Sans Mono',consolas,'Courier New',monospace\"><span style=\"color: #008000; text-decoration-color: #008000; font-weight: bold\">[</span><span style=\"color: #008000; text-decoration-color: #008000\">SCRAPE</span><span style=\"color: #008000; text-decoration-color: #008000; font-weight: bold\">]</span><span style=\"color: #008000; text-decoration-color: #008000\">.. ◆ </span><span style=\"color: #008000; text-decoration-color: #008000; text-decoration: underline\">https://catalog.data.gov/dataset/covid-19-contact-tracing-covid-alert-ct-summary-by-week</span><span style=\"color: #008000; text-decoration-color: #008000\">             |</span>\n",
       "<span style=\"color: #008000; text-decoration-color: #008000\">✓ | ⏱: </span><span style=\"color: #008000; text-decoration-color: #008000; font-weight: bold\">0.</span><span style=\"color: #008000; text-decoration-color: #008000\">08s </span>\n",
       "</pre>\n"
      ],
      "text/plain": [
       "\u001b[1;32m[\u001b[0m\u001b[32mSCRAPE\u001b[0m\u001b[1;32m]\u001b[0m\u001b[32m.. ◆ \u001b[0m\u001b[4;32mhttps://catalog.data.gov/dataset/covid-19-contact-tracing-covid-alert-ct-summary-by-week\u001b[0m\u001b[32m             |\u001b[0m\n",
       "\u001b[32m✓\u001b[0m\u001b[32m | ⏱: \u001b[0m\u001b[1;32m0.\u001b[0m\u001b[32m08s \u001b[0m\n"
      ]
     },
     "metadata": {},
     "output_type": "display_data"
    },
    {
     "data": {
      "text/html": [
       "<pre style=\"white-space:pre;overflow-x:auto;line-height:normal;font-family:Menlo,'DejaVu Sans Mono',consolas,'Courier New',monospace\"><span style=\"color: #008080; text-decoration-color: #008080; font-weight: bold\">[</span><span style=\"color: #008080; text-decoration-color: #008080\">EXTRACT</span><span style=\"color: #008080; text-decoration-color: #008080; font-weight: bold\">]</span><span style=\"color: #008080; text-decoration-color: #008080\">. ■ Completed for </span><span style=\"color: #008080; text-decoration-color: #008080; text-decoration: underline\">https://catalog.data.gov/dataset/covid-19-contact-...</span><span style=\"color: #008080; text-decoration-color: #008080\"> | Time: </span><span style=\"color: #008080; text-decoration-color: #008080; font-weight: bold\">0.</span><span style=\"color: #008080; text-decoration-color: #008080\">8619384139965405s </span>\n",
       "</pre>\n"
      ],
      "text/plain": [
       "\u001b[1;36m[\u001b[0m\u001b[36mEXTRACT\u001b[0m\u001b[1;36m]\u001b[0m\u001b[36m. ■ Completed for \u001b[0m\u001b[4;36mhttps://catalog.data.gov/dataset/covid-19-contact-...\u001b[0m\u001b[36m | Time: \u001b[0m\u001b[1;36m0.\u001b[0m\u001b[36m8619384139965405s \u001b[0m\n"
      ]
     },
     "metadata": {},
     "output_type": "display_data"
    },
    {
     "data": {
      "text/html": [
       "<pre style=\"white-space:pre;overflow-x:auto;line-height:normal;font-family:Menlo,'DejaVu Sans Mono',consolas,'Courier New',monospace\"><span style=\"color: #008000; text-decoration-color: #008000; font-weight: bold\">[</span><span style=\"color: #008000; text-decoration-color: #008000\">COMPLETE</span><span style=\"color: #008000; text-decoration-color: #008000; font-weight: bold\">]</span><span style=\"color: #008000; text-decoration-color: #008000\"> ● </span><span style=\"color: #008000; text-decoration-color: #008000; text-decoration: underline\">https://catalog.data.gov/dataset/covid-19-contact-tracing-covid-alert-ct-summary-by-week</span><span style=\"color: #008000; text-decoration-color: #008000\">             |</span>\n",
       "<span style=\"color: #008000; text-decoration-color: #008000\">✓ | ⏱: </span><span style=\"color: #008000; text-decoration-color: #008000; font-weight: bold\">2.</span><span style=\"color: #008000; text-decoration-color: #008000\">09s </span>\n",
       "</pre>\n"
      ],
      "text/plain": [
       "\u001b[1;32m[\u001b[0m\u001b[32mCOMPLETE\u001b[0m\u001b[1;32m]\u001b[0m\u001b[32m ● \u001b[0m\u001b[4;32mhttps://catalog.data.gov/dataset/covid-19-contact-tracing-covid-alert-ct-summary-by-week\u001b[0m\u001b[32m             |\u001b[0m\n",
       "\u001b[32m✓\u001b[0m\u001b[32m | ⏱: \u001b[0m\u001b[1;32m2.\u001b[0m\u001b[32m09s \u001b[0m\n"
      ]
     },
     "metadata": {},
     "output_type": "display_data"
    },
    {
     "data": {
      "text/html": [
       "<pre style=\"white-space:pre;overflow-x:auto;line-height:normal;font-family:Menlo,'DejaVu Sans Mono',consolas,'Courier New',monospace\"><span style=\"color: #008000; text-decoration-color: #008000; font-weight: bold\">[</span><span style=\"color: #008000; text-decoration-color: #008000\">FETCH</span><span style=\"color: #008000; text-decoration-color: #008000; font-weight: bold\">]</span><span style=\"color: #008000; text-decoration-color: #008000\">... ↓ </span><span style=\"color: #008000; text-decoration-color: #008000; text-decoration: underline\">https://www.ctpost.com/news/coronavirus/article/...ds-2-746-new-COVID-cases-in-one-day-15726052.php</span><span style=\"color: #008000; text-decoration-color: #008000\">  |</span>\n",
       "<span style=\"color: #008000; text-decoration-color: #008000\">✓ | ⏱: </span><span style=\"color: #008000; text-decoration-color: #008000; font-weight: bold\">2.</span><span style=\"color: #008000; text-decoration-color: #008000\">07s </span>\n",
       "</pre>\n"
      ],
      "text/plain": [
       "\u001b[1;32m[\u001b[0m\u001b[32mFETCH\u001b[0m\u001b[1;32m]\u001b[0m\u001b[32m...\u001b[0m\u001b[32m ↓ \u001b[0m\u001b[4;32mhttps://www.ctpost.com/news/coronavirus/article/...ds-2-746-new-COVID-cases-in-one-day-15726052.php\u001b[0m\u001b[32m  |\u001b[0m\n",
       "\u001b[32m✓\u001b[0m\u001b[32m | ⏱: \u001b[0m\u001b[1;32m2.\u001b[0m\u001b[32m07s \u001b[0m\n"
      ]
     },
     "metadata": {},
     "output_type": "display_data"
    },
    {
     "data": {
      "text/html": [
       "<pre style=\"white-space:pre;overflow-x:auto;line-height:normal;font-family:Menlo,'DejaVu Sans Mono',consolas,'Courier New',monospace\"><span style=\"color: #008000; text-decoration-color: #008000; font-weight: bold\">[</span><span style=\"color: #008000; text-decoration-color: #008000\">SCRAPE</span><span style=\"color: #008000; text-decoration-color: #008000; font-weight: bold\">]</span><span style=\"color: #008000; text-decoration-color: #008000\">.. ◆ </span><span style=\"color: #008000; text-decoration-color: #008000; text-decoration: underline\">https://www.ctpost.com/news/coronavirus/article/...ds-2-746-new-COVID-cases-in-one-day-15726052.php</span><span style=\"color: #008000; text-decoration-color: #008000\">  |</span>\n",
       "<span style=\"color: #008000; text-decoration-color: #008000\">✓ | ⏱: </span><span style=\"color: #008000; text-decoration-color: #008000; font-weight: bold\">0.</span><span style=\"color: #008000; text-decoration-color: #008000\">09s </span>\n",
       "</pre>\n"
      ],
      "text/plain": [
       "\u001b[1;32m[\u001b[0m\u001b[32mSCRAPE\u001b[0m\u001b[1;32m]\u001b[0m\u001b[32m.. ◆ \u001b[0m\u001b[4;32mhttps://www.ctpost.com/news/coronavirus/article/...ds-2-746-new-COVID-cases-in-one-day-15726052.php\u001b[0m\u001b[32m  |\u001b[0m\n",
       "\u001b[32m✓\u001b[0m\u001b[32m | ⏱: \u001b[0m\u001b[1;32m0.\u001b[0m\u001b[32m09s \u001b[0m\n"
      ]
     },
     "metadata": {},
     "output_type": "display_data"
    },
    {
     "data": {
      "text/html": [
       "<pre style=\"white-space:pre;overflow-x:auto;line-height:normal;font-family:Menlo,'DejaVu Sans Mono',consolas,'Courier New',monospace\"><span style=\"color: #008080; text-decoration-color: #008080; font-weight: bold\">[</span><span style=\"color: #008080; text-decoration-color: #008080\">EXTRACT</span><span style=\"color: #008080; text-decoration-color: #008080; font-weight: bold\">]</span><span style=\"color: #008080; text-decoration-color: #008080\">. ■ Completed for </span><span style=\"color: #008080; text-decoration-color: #008080; text-decoration: underline\">https://www.ctpost.com/news/coronavirus/article/CT...</span><span style=\"color: #008080; text-decoration-color: #008080\"> | Time: </span><span style=\"color: #008080; text-decoration-color: #008080; font-weight: bold\">1.</span><span style=\"color: #008080; text-decoration-color: #008080\">6024573769973358s </span>\n",
       "</pre>\n"
      ],
      "text/plain": [
       "\u001b[1;36m[\u001b[0m\u001b[36mEXTRACT\u001b[0m\u001b[1;36m]\u001b[0m\u001b[36m. ■ Completed for \u001b[0m\u001b[4;36mhttps://www.ctpost.com/news/coronavirus/article/CT...\u001b[0m\u001b[36m | Time: \u001b[0m\u001b[1;36m1.\u001b[0m\u001b[36m6024573769973358s \u001b[0m\n"
      ]
     },
     "metadata": {},
     "output_type": "display_data"
    },
    {
     "data": {
      "text/html": [
       "<pre style=\"white-space:pre;overflow-x:auto;line-height:normal;font-family:Menlo,'DejaVu Sans Mono',consolas,'Courier New',monospace\"><span style=\"color: #008000; text-decoration-color: #008000; font-weight: bold\">[</span><span style=\"color: #008000; text-decoration-color: #008000\">COMPLETE</span><span style=\"color: #008000; text-decoration-color: #008000; font-weight: bold\">]</span><span style=\"color: #008000; text-decoration-color: #008000\"> ● </span><span style=\"color: #008000; text-decoration-color: #008000; text-decoration: underline\">https://www.ctpost.com/news/coronavirus/article/...ds-2-746-new-COVID-cases-in-one-day-15726052.php</span><span style=\"color: #008000; text-decoration-color: #008000\">  |</span>\n",
       "<span style=\"color: #008000; text-decoration-color: #008000\">✓ | ⏱: </span><span style=\"color: #008000; text-decoration-color: #008000; font-weight: bold\">3.</span><span style=\"color: #008000; text-decoration-color: #008000\">77s </span>\n",
       "</pre>\n"
      ],
      "text/plain": [
       "\u001b[1;32m[\u001b[0m\u001b[32mCOMPLETE\u001b[0m\u001b[1;32m]\u001b[0m\u001b[32m ● \u001b[0m\u001b[4;32mhttps://www.ctpost.com/news/coronavirus/article/...ds-2-746-new-COVID-cases-in-one-day-15726052.php\u001b[0m\u001b[32m  |\u001b[0m\n",
       "\u001b[32m✓\u001b[0m\u001b[32m | ⏱: \u001b[0m\u001b[1;32m3.\u001b[0m\u001b[32m77s \u001b[0m\n"
      ]
     },
     "metadata": {},
     "output_type": "display_data"
    }
   ],
   "source": [
    "extracted_data = await extract_data([w[\"link\"] for w in webpages_above_threshold], schema, llm_config)"
   ]
  },
  {
   "cell_type": "code",
   "execution_count": 16,
   "metadata": {},
   "outputs": [
    {
     "data": {
      "text/plain": [
       "[{'state': 'Arizona',\n",
       "  'date': '2020-09-28',\n",
       "  'download_count': 30000,\n",
       "  'grounding_quote': 'About 30 thousand people have installed the COVID Watch Arizona app on their mobile devices.',\n",
       "  'is_grounded': True,\n",
       "  'source': 'https://news.azpm.org/p/uanews/2020/9/28/180903-ua-covid-watch-app-is-now-on-30000-devices/#:~:text=About%2030%20thousand%20people%20have%20installed%20the%20COVID%20Watch%20Arizona%20app%20on%20their%20mobile%20devices.'},\n",
       " {'state': 'Alabama',\n",
       "  'date': '2020-11-09',\n",
       "  'download_count': 93000,\n",
       "  'grounding_quote': 'Over 93,000 people have already downloaded it.',\n",
       "  'is_grounded': True,\n",
       "  'source': 'https://www.rocketcitynow.com/video/news/local/alabama-guidesafe-covid-19-app/525-973f3a54-d4f6-4c9e-aa29-f6b7000ae470#:~:text=Over%2093%2C000%20people%20have%20already%20downloaded%20it.'},\n",
       " {'state': 'California',\n",
       "  'date': '2020-12-11',\n",
       "  'download_count': 4000000,\n",
       "  'grounding_quote': \"California's Department of Public Health (CDPH), which operates CA Notify, says it doesn't have exact statistics about the number of activations. But the department estimates that 4 million Californians may have activated the system on their phone as of Friday\",\n",
       "  'is_grounded': True,\n",
       "  'source': 'https://www.cnbc.com/2020/12/12/ca-notify-coronavirus-app-gets-4-million-activations-in-first-day.html#:~:text=California%27s%20Department%20of%20Public%20Health%20%28CDPH%29%2C%20which%20operates%20CA%20Notify%2C%20says%20it%20doesn%27t%20have%20exact%20statistics%20about%20the%20number%20of%20activations.%20But%20the%20department%20estimates%20that%204%20million%20Californians%20may%20have%20activated%20the%20system%20on%20their%20phone%20as%20of%20Friday'},\n",
       " {'state': 'Washington DC',\n",
       "  'date': '2020-12-11',\n",
       "  'download_count': 367000,\n",
       "  'grounding_quote': \"In Washington DC, 367,000 people have joined the system, which would amount to 53% of the district's population.\",\n",
       "  'is_grounded': True,\n",
       "  'source': 'https://www.cnbc.com/2020/12/12/ca-notify-coronavirus-app-gets-4-million-activations-in-first-day.html#:~:text=In%20Washington%20DC%2C%20367%2C000%20people%20have%20joined%20the%20system%2C%20which%20would%20amount%20to%2053%25%20of%20the%20district%27s%20population.'},\n",
       " {'state': 'Connecticut',\n",
       "  'date': '2020-11-13',\n",
       "  'download_count': 300000,\n",
       "  'grounding_quote': 'More than 300,000 people in Connecticut have signed up for a smartphone app designed to alert them if they’ve been in close proximity to someone who tests positive for COVID-19, the governor’s office said Friday.',\n",
       "  'is_grounded': True,\n",
       "  'source': 'https://www.ctpost.com/news/coronavirus/article/CT-records-2-746-new-COVID-cases-in-one-day-15726052.php#:~:text=More%20than%20300%2C000%20people%20in%20Connecticut%20have%20signed%20up%20for%20a%20smartphone%20app%20designed%20to%20alert%20them%20if%20they%E2%80%99ve%20been%20in%20close%20proximity%20to%20someone%20who%20tests%20positive%20for%20COVID-19%2C%20the%20governor%E2%80%99s%20office%20said%20Friday.'}]"
      ]
     },
     "execution_count": 16,
     "metadata": {},
     "output_type": "execute_result"
    }
   ],
   "source": [
    "extracted_data"
   ]
  },
  {
   "cell_type": "markdown",
   "metadata": {},
   "source": [
    "# Quality Control"
   ]
  },
  {
   "cell_type": "code",
   "execution_count": 18,
   "metadata": {},
   "outputs": [],
   "source": [
    "issues = control_quality(extracted_data, dataset_description, llm_config)"
   ]
  },
  {
   "cell_type": "code",
   "execution_count": 19,
   "metadata": {},
   "outputs": [
    {
     "data": {
      "text/plain": [
       "{'0': 'NA',\n",
       " '1': 'NA',\n",
       " '2': 'The quote refers to \"activations\" rather than explicit \"downloads,\" which may not be equivalent; also, the estimate is not an exact count and is described as \"may have activated,\" introducing uncertainty.',\n",
       " '3': 'The quote refers to people who have \"joined the system,\" which may not be strictly equivalent to \"downloads\"; also, the percentage (53%) seems high and may warrant verification against DC\\'s population at the time.',\n",
       " '4': 'The quote says \"more than 300,000\" while the download_count is exactly 300,000, so the number may be a lower bound rather than an exact count.'}"
      ]
     },
     "execution_count": 19,
     "metadata": {},
     "output_type": "execute_result"
    }
   ],
   "source": [
    "issues"
   ]
  }
 ],
 "metadata": {
  "kernelspec": {
   "display_name": "web-data-collection",
   "language": "python",
   "name": "python3"
  },
  "language_info": {
   "codemirror_mode": {
    "name": "ipython",
    "version": 3
   },
   "file_extension": ".py",
   "mimetype": "text/x-python",
   "name": "python",
   "nbconvert_exporter": "python",
   "pygments_lexer": "ipython3",
   "version": "3.12.11"
  }
 },
 "nbformat": 4,
 "nbformat_minor": 2
}
